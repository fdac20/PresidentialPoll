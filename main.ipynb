{
 "cells": [
  {
   "cell_type": "code",
   "execution_count": 1,
   "metadata": {
    "scrolled": true
   },
   "outputs": [
    {
     "data": {
      "text/html": [
       "        <script type=\"text/javascript\">\n",
       "        window.PlotlyConfig = {MathJaxConfig: 'local'};\n",
       "        if (window.MathJax) {MathJax.Hub.Config({SVG: {font: \"STIX-Web\"}});}\n",
       "        if (typeof require !== 'undefined') {\n",
       "        require.undef(\"plotly\");\n",
       "        requirejs.config({\n",
       "            paths: {\n",
       "                'plotly': ['https://cdn.plot.ly/plotly-latest.min']\n",
       "            }\n",
       "        });\n",
       "        require(['plotly'], function(Plotly) {\n",
       "            window._Plotly = Plotly;\n",
       "        });\n",
       "        }\n",
       "        </script>\n",
       "        "
      ]
     },
     "metadata": {},
     "output_type": "display_data"
    },
    {
     "data": {
      "application/vnd.plotly.v1+json": {
       "config": {
        "linkText": "Export to plot.ly",
        "plotlyServerURL": "https://plot.ly",
        "showLink": false
       },
       "data": [
        {
         "colorscale": [
          [
           0,
           "#0015BC"
          ],
          [
           1,
           "#DE0100"
          ]
         ],
         "hovertemplate": "%{location}<br>%{text}<extra></extra>",
         "locationmode": "USA-states",
         "locations": [
          "AL",
          "AK",
          "AZ",
          "AR",
          "CA",
          "CO",
          "CT",
          "DE",
          "DC",
          "FL",
          "GA",
          "HI",
          "ID",
          "IL",
          "IN",
          "IA",
          "KS",
          "KY",
          "LA",
          "ME",
          "MD",
          "MA",
          "MI",
          "MN",
          "MS",
          "MO",
          "MT",
          "NE",
          "NV",
          "NH",
          "NJ",
          "NM",
          "NY",
          "NC",
          "ND",
          "OH",
          "OK",
          "OR",
          "PA",
          "RI",
          "SC",
          "SD",
          "TN",
          "TX",
          "UT",
          "VT",
          "VA",
          "WA",
          "WV",
          "WI",
          "WY"
         ],
         "showlegend": false,
         "showscale": false,
         "text": [
          "Carter, Jimmy<br>Democrat<br>659170 / 1182850 votes\n",
          "Ford, Gerald<br>Republican<br>71555 / 123574 votes\n",
          "Ford, Gerald<br>Republican<br>418642 / 742719 votes\n",
          "Carter, Jimmy<br>Democrat<br>498604 / 767535 votes\n",
          "Ford, Gerald<br>Republican<br>3882244 / 7803770 votes\n",
          "Ford, Gerald<br>Republican<br>584278 / 1081440 votes\n",
          "Ford, Gerald<br>Republican<br>719261 / 1386355 votes\n",
          "Carter, Jimmy<br>Democrat<br>122461 / 235642 votes\n",
          "Carter, Jimmy<br>Democrat<br>137818 / 168830 votes\n",
          "Carter, Jimmy<br>Democrat<br>1636000 / 3150631 votes\n",
          "Carter, Jimmy<br>Democrat<br>979409 / 1463152 votes\n",
          "Carter, Jimmy<br>Democrat<br>147375 / 291301 votes\n",
          "Ford, Gerald<br>Republican<br>204151 / 340932 votes\n",
          "Ford, Gerald<br>Republican<br>2364269 / 4721282 votes\n",
          "Ford, Gerald<br>Republican<br>1183958 / 2220362 votes\n",
          "Ford, Gerald<br>Republican<br>632864 / 1279303 votes\n",
          "Ford, Gerald<br>Republican<br>502752 / 957845 votes\n",
          "Carter, Jimmy<br>Democrat<br>615717 / 1167142 votes\n",
          "Carter, Jimmy<br>Democrat<br>661365 / 1277383 votes\n",
          "Ford, Gerald<br>Republican<br>236320 / 482968 votes\n",
          "Carter, Jimmy<br>Democrat<br>759612 / 1432273 votes\n",
          "Carter, Jimmy<br>Democrat<br>1429475 / 2547558 votes\n",
          "Ford, Gerald<br>Republican<br>1893742 / 3651590 votes\n",
          "Carter, Jimmy<br>Democrat<br>1070440 / 1949931 votes\n",
          "Carter, Jimmy<br>Democrat<br>381329 / 768390 votes\n",
          "Carter, Jimmy<br>Democrat<br>998387 / 1953600 votes\n",
          "Ford, Gerald<br>Republican<br>173703 / 328734 votes\n",
          "Ford, Gerald<br>Republican<br>359219 / 606749 votes\n",
          "Ford, Gerald<br>Republican<br>101273 / 201876 votes\n",
          "Ford, Gerald<br>Republican<br>185935 / 339627 votes\n",
          "Ford, Gerald<br>Republican<br>1509688 / 3014472 votes\n",
          "Ford, Gerald<br>Republican<br>211419 / 416590 votes\n",
          "Carter, Jimmy<br>Democrat<br>3244165 / 6668262 votes\n",
          "Carter, Jimmy<br>Democrat<br>927365 / 1677906 votes\n",
          "Ford, Gerald<br>Republican<br>153684 / 297308 votes\n",
          "Carter, Jimmy<br>Democrat<br>2009959 / 4110456 votes\n",
          "Ford, Gerald<br>Republican<br>545708 / 1092251 votes\n",
          "Ford, Gerald<br>Republican<br>492120 / 1029876 votes\n",
          "Carter, Jimmy<br>Democrat<br>2328677 / 4620787 votes\n",
          "Carter, Jimmy<br>Democrat<br>227636 / 410584 votes\n",
          "Carter, Jimmy<br>Democrat<br>450807 / 802583 votes\n",
          "Ford, Gerald<br>Republican<br>151505 / 300678 votes\n",
          "Carter, Jimmy<br>Democrat<br>825879 / 1476346 votes\n",
          "Carter, Jimmy<br>Democrat<br>2082319 / 4071884 votes\n",
          "Ford, Gerald<br>Republican<br>337908 / 541218 votes\n",
          "Ford, Gerald<br>Republican<br>100387 / 183902 votes\n",
          "Ford, Gerald<br>Republican<br>836554 / 1697094 votes\n",
          "Ford, Gerald<br>Republican<br>777732 / 1555534 votes\n",
          "Carter, Jimmy<br>Democrat<br>435864 / 750590 votes\n",
          "Carter, Jimmy<br>Democrat<br>1040232 / 2101336 votes\n",
          "Ford, Gerald<br>Republican<br>92717 / 156343 votes\n"
         ],
         "type": "choropleth",
         "z": [
          0,
          1,
          1,
          0,
          1,
          1,
          1,
          0,
          0,
          0,
          0,
          0,
          1,
          1,
          1,
          1,
          1,
          0,
          0,
          1,
          0,
          0,
          1,
          0,
          0,
          0,
          1,
          1,
          1,
          1,
          1,
          1,
          0,
          0,
          1,
          0,
          1,
          1,
          0,
          0,
          0,
          1,
          0,
          0,
          1,
          1,
          1,
          1,
          0,
          0,
          1
         ]
        },
        {
         "colorscale": [
          [
           0,
           "#0015BC"
          ],
          [
           1,
           "#DE0100"
          ]
         ],
         "hovertemplate": "%{location}<br>%{text}<extra></extra>",
         "locationmode": "USA-states",
         "locations": [
          "AL",
          "AK",
          "AZ",
          "AR",
          "CA",
          "CO",
          "CT",
          "DE",
          "DC",
          "FL",
          "GA",
          "HI",
          "ID",
          "IL",
          "IN",
          "IA",
          "KS",
          "KY",
          "LA",
          "ME",
          "MD",
          "MA",
          "MI",
          "MN",
          "MS",
          "MO",
          "MT",
          "NE",
          "NV",
          "NH",
          "NJ",
          "NM",
          "NY",
          "NC",
          "ND",
          "OH",
          "OK",
          "OR",
          "PA",
          "RI",
          "SC",
          "SD",
          "TN",
          "TX",
          "UT",
          "VT",
          "VA",
          "WA",
          "WV",
          "WI",
          "WY"
         ],
         "showlegend": false,
         "showscale": false,
         "text": [
          "Reagan, Ronald<br>Republican<br>654192 / 1341929 votes\n",
          "Reagan, Ronald<br>Republican<br>86112 / 158445 votes\n",
          "Reagan, Ronald<br>Republican<br>529688 / 873945 votes\n",
          "Reagan, Ronald<br>Republican<br>403164 / 837582 votes\n",
          "Reagan, Ronald<br>Republican<br>4522994 / 8582938 votes\n",
          "Reagan, Ronald<br>Republican<br>652264 / 1184450 votes\n",
          "Reagan, Ronald<br>Republican<br>677210 / 1406285 votes\n",
          "Reagan, Ronald<br>Republican<br>111252 / 235668 votes\n",
          "Carter, Jimmy<br>Democrat<br>130231 / 173889 votes\n",
          "Reagan, Ronald<br>Republican<br>2046951 / 3686927 votes\n",
          "Carter, Jimmy<br>Democrat<br>890955 / 1596805 votes\n",
          "Carter, Jimmy<br>Democrat<br>135879 / 303287 votes\n",
          "Reagan, Ronald<br>Republican<br>290699 / 437431 votes\n",
          "Reagan, Ronald<br>Republican<br>2358049 / 4749721 votes\n",
          "Reagan, Ronald<br>Republican<br>1255656 / 2242033 votes\n",
          "Reagan, Ronald<br>Republican<br>676026 / 1317661 votes\n",
          "Reagan, Ronald<br>Republican<br>566812 / 979795 votes\n",
          "Reagan, Ronald<br>Republican<br>635274 / 1295627 votes\n",
          "Reagan, Ronald<br>Republican<br>792853 / 1548591 votes\n",
          "Reagan, Ronald<br>Republican<br>238522 / 523011 votes\n",
          "Carter, Jimmy<br>Democrat<br>726161 / 1540496 votes\n",
          "Reagan, Ronald<br>Republican<br>1057631 / 2524090 votes\n",
          "Reagan, Ronald<br>Republican<br>1915225 / 3909725 votes\n",
          "Carter, Jimmy<br>Democrat<br>954173 / 2051916 votes\n",
          "Reagan, Ronald<br>Republican<br>441089 / 891750 votes\n",
          "Reagan, Ronald<br>Republican<br>1074181 / 2099824 votes\n",
          "Reagan, Ronald<br>Republican<br>206814 / 363952 votes\n",
          "Reagan, Ronald<br>Republican<br>419214 / 639533 votes\n",
          "Reagan, Ronald<br>Republican<br>155017 / 243692 votes\n",
          "Reagan, Ronald<br>Republican<br>221705 / 383990 votes\n",
          "Reagan, Ronald<br>Republican<br>1546557 / 2975684 votes\n",
          "Reagan, Ronald<br>Republican<br>250779 / 456237 votes\n",
          "Carter, Jimmy<br>Democrat<br>2728372 / 6201959 votes\n",
          "Reagan, Ronald<br>Republican<br>915018 / 1855833 votes\n",
          "Reagan, Ronald<br>Republican<br>193695 / 301116 votes\n",
          "Reagan, Ronald<br>Republican<br>2206545 / 4283603 votes\n",
          "Reagan, Ronald<br>Republican<br>695570 / 1149708 votes\n",
          "Reagan, Ronald<br>Republican<br>571044 / 1181516 votes\n",
          "Reagan, Ronald<br>Republican<br>2261872 / 4561501 votes\n",
          "Carter, Jimmy<br>Democrat<br>198342 / 415967 votes\n",
          "Reagan, Ronald<br>Republican<br>439277 / 888258 votes\n",
          "Reagan, Ronald<br>Republican<br>198343 / 327703 votes\n",
          "Reagan, Ronald<br>Republican<br>787761 / 1617616 votes\n",
          "Reagan, Ronald<br>Republican<br>2510705 / 4541636 votes\n",
          "Reagan, Ronald<br>Republican<br>439687 / 604152 votes\n",
          "Reagan, Ronald<br>Republican<br>94628 / 213299 votes\n",
          "Reagan, Ronald<br>Republican<br>989609 / 1866032 votes\n",
          "Reagan, Ronald<br>Republican<br>865244 / 1742394 votes\n",
          "Carter, Jimmy<br>Democrat<br>367462 / 737715 votes\n",
          "Reagan, Ronald<br>Republican<br>1088845 / 2273221 votes\n",
          "Reagan, Ronald<br>Republican<br>110700 / 176713 votes\n"
         ],
         "type": "choropleth",
         "z": [
          1,
          1,
          1,
          1,
          1,
          1,
          1,
          1,
          0,
          1,
          0,
          0,
          1,
          1,
          1,
          1,
          1,
          1,
          1,
          1,
          0,
          1,
          1,
          0,
          1,
          1,
          1,
          1,
          1,
          1,
          1,
          1,
          0,
          1,
          1,
          1,
          1,
          1,
          1,
          0,
          1,
          1,
          1,
          1,
          1,
          1,
          1,
          1,
          0,
          1,
          1
         ]
        },
        {
         "colorscale": [
          [
           0,
           "#0015BC"
          ],
          [
           1,
           "#DE0100"
          ]
         ],
         "hovertemplate": "%{location}<br>%{text}<extra></extra>",
         "locationmode": "USA-states",
         "locations": [
          "AL",
          "AK",
          "AZ",
          "AR",
          "CA",
          "CO",
          "CT",
          "DE",
          "DC",
          "FL",
          "GA",
          "HI",
          "ID",
          "IL",
          "IN",
          "IA",
          "KS",
          "KY",
          "LA",
          "ME",
          "MD",
          "MA",
          "MI",
          "MN",
          "MS",
          "MO",
          "MT",
          "NE",
          "NV",
          "NH",
          "NJ",
          "NM",
          "NY",
          "NC",
          "ND",
          "OH",
          "OK",
          "OR",
          "PA",
          "RI",
          "SC",
          "SD",
          "TN",
          "TX",
          "UT",
          "VT",
          "VA",
          "WA",
          "WV",
          "WI",
          "WY"
         ],
         "showlegend": false,
         "showscale": false,
         "text": [
          "Reagan, Ronald<br>Republican<br>872849 / 1441713 votes\n",
          "Reagan, Ronald<br>Republican<br>138377 / 207605 votes\n",
          "Reagan, Ronald<br>Republican<br>681416 / 1025897 votes\n",
          "Reagan, Ronald<br>Republican<br>534774 / 884406 votes\n",
          "Reagan, Ronald<br>Republican<br>5467009 / 9505041 votes\n",
          "Reagan, Ronald<br>Republican<br>821817 / 1295380 votes\n",
          "Reagan, Ronald<br>Republican<br>890877 / 1466900 votes\n",
          "Reagan, Ronald<br>Republican<br>152190 / 254572 votes\n",
          "Mondale, Walter<br>Democrat<br>180408 / 211288 votes\n",
          "Reagan, Ronald<br>Republican<br>2730350 / 4180051 votes\n",
          "Reagan, Ronald<br>Republican<br>1068722 / 1776103 votes\n",
          "Reagan, Ronald<br>Republican<br>185050 / 335846 votes\n",
          "Reagan, Ronald<br>Republican<br>297523 / 411144 votes\n",
          "Reagan, Ronald<br>Republican<br>2707103 / 4819088 votes\n",
          "Reagan, Ronald<br>Republican<br>1377230 / 2233069 votes\n",
          "Reagan, Ronald<br>Republican<br>703088 / 1319805 votes\n",
          "Reagan, Ronald<br>Republican<br>677296 / 1021991 votes\n",
          "Reagan, Ronald<br>Republican<br>821702 / 1369345 votes\n",
          "Reagan, Ronald<br>Republican<br>1037299 / 1706822 votes\n",
          "Reagan, Ronald<br>Republican<br>336500 / 553144 votes\n",
          "Reagan, Ronald<br>Republican<br>879918 / 1675873 votes\n",
          "Reagan, Ronald<br>Republican<br>1310936 / 2559383 votes\n",
          "Reagan, Ronald<br>Republican<br>2251571 / 3801658 votes\n",
          "Mondale, Walter<br>Democrat<br>1036364 / 2084449 votes\n",
          "Reagan, Ronald<br>Republican<br>582377 / 941104 votes\n",
          "Reagan, Ronald<br>Republican<br>1274188 / 2122771 votes\n",
          "Reagan, Ronald<br>Republican<br>232450 / 384377 votes\n",
          "Reagan, Ronald<br>Republican<br>460054 / 652090 votes\n",
          "Reagan, Ronald<br>Republican<br>188770 / 282717 votes\n",
          "Reagan, Ronald<br>Republican<br>267050 / 388904 votes\n",
          "Reagan, Ronald<br>Republican<br>1933630 / 3217862 votes\n",
          "Reagan, Ronald<br>Republican<br>307101 / 514370 votes\n",
          "Reagan, Ronald<br>Republican<br>3376519 / 6806810 votes\n",
          "Reagan, Ronald<br>Republican<br>1346481 / 2175361 votes\n",
          "Reagan, Ronald<br>Republican<br>200336 / 308971 votes\n",
          "Reagan, Ronald<br>Republican<br>2678559 / 4563235 votes\n",
          "Reagan, Ronald<br>Republican<br>861530 / 1255676 votes\n",
          "Reagan, Ronald<br>Republican<br>685700 / 1226527 votes\n",
          "Reagan, Ronald<br>Republican<br>2584323 / 4844903 votes\n",
          "Reagan, Ronald<br>Republican<br>212080 / 410489 votes\n",
          "Reagan, Ronald<br>Republican<br>615539 / 968529 votes\n",
          "Reagan, Ronald<br>Republican<br>200267 / 317867 votes\n",
          "Reagan, Ronald<br>Republican<br>990212 / 1711993 votes\n",
          "Reagan, Ronald<br>Republican<br>3433428 / 5397571 votes\n",
          "Reagan, Ronald<br>Republican<br>469105 / 629656 votes\n",
          "Reagan, Ronald<br>Republican<br>135865 / 234561 votes\n",
          "Reagan, Ronald<br>Republican<br>1337078 / 2146635 votes\n",
          "Reagan, Ronald<br>Republican<br>1051670 / 1874910 votes\n",
          "Reagan, Ronald<br>Republican<br>405483 / 735742 votes\n",
          "Reagan, Ronald<br>Republican<br>1198584 / 2211689 votes\n",
          "Reagan, Ronald<br>Republican<br>133241 / 188968 votes\n"
         ],
         "type": "choropleth",
         "z": [
          1,
          1,
          1,
          1,
          1,
          1,
          1,
          1,
          0,
          1,
          1,
          1,
          1,
          1,
          1,
          1,
          1,
          1,
          1,
          1,
          1,
          1,
          1,
          0,
          1,
          1,
          1,
          1,
          1,
          1,
          1,
          1,
          1,
          1,
          1,
          1,
          1,
          1,
          1,
          1,
          1,
          1,
          1,
          1,
          1,
          1,
          1,
          1,
          1,
          1,
          1
         ]
        },
        {
         "colorscale": [
          [
           0,
           "#0015BC"
          ],
          [
           1,
           "#DE0100"
          ]
         ],
         "hovertemplate": "%{location}<br>%{text}<extra></extra>",
         "locationmode": "USA-states",
         "locations": [
          "AL",
          "AK",
          "AZ",
          "AR",
          "CA",
          "CO",
          "CT",
          "DE",
          "DC",
          "FL",
          "GA",
          "HI",
          "ID",
          "IL",
          "IN",
          "IA",
          "KS",
          "KY",
          "LA",
          "ME",
          "MD",
          "MA",
          "MI",
          "MN",
          "MS",
          "MO",
          "MT",
          "NE",
          "NV",
          "NH",
          "NJ",
          "NM",
          "NY",
          "NC",
          "ND",
          "OH",
          "OK",
          "OR",
          "PA",
          "RI",
          "SC",
          "SD",
          "TN",
          "TX",
          "UT",
          "VT",
          "VA",
          "WA",
          "WV",
          "WI",
          "WY"
         ],
         "showlegend": false,
         "showscale": false,
         "text": [
          "Bush, George H.W.<br>Republican<br>815576 / 1378476 votes\n",
          "Bush, George H.W.<br>Republican<br>119251 / 200116 votes\n",
          "Bush, George H.W.<br>Republican<br>702541 / 1171873 votes\n",
          "Bush, George H.W.<br>Republican<br>466578 / 827738 votes\n",
          "Bush, George H.W.<br>Republican<br>5054917 / 9887065 votes\n",
          "Bush, George H.W.<br>Republican<br>728177 / 1372394 votes\n",
          "Bush, George H.W.<br>Republican<br>750241 / 1443394 votes\n",
          "Bush, George H.W.<br>Republican<br>139639 / 249891 votes\n",
          "Dukakis, Michael<br>Democrat<br>159407 / 192877 votes\n",
          "Bush, George H.W.<br>Republican<br>2618885 / 4302313 votes\n",
          "Bush, George H.W.<br>Republican<br>1081331 / 1809672 votes\n",
          "Dukakis, Michael<br>Democrat<br>192364 / 354461 votes\n",
          "Bush, George H.W.<br>Republican<br>253881 / 408968 votes\n",
          "Bush, George H.W.<br>Republican<br>2310939 / 4559120 votes\n",
          "Bush, George H.W.<br>Republican<br>1297763 / 2168621 votes\n",
          "Dukakis, Michael<br>Democrat<br>670557 / 1225614 votes\n",
          "Bush, George H.W.<br>Republican<br>554049 / 993044 votes\n",
          "Bush, George H.W.<br>Republican<br>734281 / 1322517 votes\n",
          "Bush, George H.W.<br>Republican<br>883702 / 1628202 votes\n",
          "Bush, George H.W.<br>Republican<br>307131 / 555035 votes\n",
          "Bush, George H.W.<br>Republican<br>876167 / 1714358 votes\n",
          "Dukakis, Michael<br>Democrat<br>1401415 / 2632801 votes\n",
          "Bush, George H.W.<br>Republican<br>1965486 / 3669163 votes\n",
          "Dukakis, Michael<br>Democrat<br>1109471 / 2096790 votes\n",
          "Bush, George H.W.<br>Republican<br>557890 / 931527 votes\n",
          "Bush, George H.W.<br>Republican<br>1084953 / 2093228 votes\n",
          "Bush, George H.W.<br>Republican<br>190412 / 365674 votes\n",
          "Bush, George H.W.<br>Republican<br>397956 / 661465 votes\n",
          "Bush, George H.W.<br>Republican<br>206040 / 343133 votes\n",
          "Bush, George H.W.<br>Republican<br>281537 / 450525 votes\n",
          "Bush, George H.W.<br>Republican<br>1743192 / 3099553 votes\n",
          "Bush, George H.W.<br>Republican<br>270341 / 521387 votes\n",
          "Dukakis, Michael<br>Democrat<br>3255487 / 6485683 votes\n",
          "Bush, George H.W.<br>Republican<br>1237258 / 2134370 votes\n",
          "Bush, George H.W.<br>Republican<br>166559 / 297261 votes\n",
          "Bush, George H.W.<br>Republican<br>2416549 / 4393585 votes\n",
          "Bush, George H.W.<br>Republican<br>678367 / 1171036 votes\n",
          "Dukakis, Michael<br>Democrat<br>616206 / 1201694 votes\n",
          "Bush, George H.W.<br>Republican<br>2300087 / 4536251 votes\n",
          "Dukakis, Michael<br>Democrat<br>225123 / 404622 votes\n",
          "Bush, George H.W.<br>Republican<br>606443 / 986009 votes\n",
          "Bush, George H.W.<br>Republican<br>165415 / 312991 votes\n",
          "Bush, George H.W.<br>Republican<br>947233 / 1636250 votes\n",
          "Bush, George H.W.<br>Republican<br>3036829 / 5427410 votes\n",
          "Bush, George H.W.<br>Republican<br>428442 / 647008 votes\n",
          "Bush, George H.W.<br>Republican<br>124331 / 243328 votes\n",
          "Bush, George H.W.<br>Republican<br>1309162 / 2191609 votes\n",
          "Dukakis, Michael<br>Democrat<br>933516 / 1865253 votes\n",
          "Dukakis, Michael<br>Democrat<br>341016 / 653311 votes\n",
          "Dukakis, Michael<br>Democrat<br>1126794 / 2191608 votes\n",
          "Bush, George H.W.<br>Republican<br>106867 / 176551 votes\n"
         ],
         "type": "choropleth",
         "z": [
          1,
          1,
          1,
          1,
          1,
          1,
          1,
          1,
          0,
          1,
          1,
          0,
          1,
          1,
          1,
          0,
          1,
          1,
          1,
          1,
          1,
          0,
          1,
          0,
          1,
          1,
          1,
          1,
          1,
          1,
          1,
          1,
          0,
          1,
          1,
          1,
          1,
          0,
          1,
          0,
          1,
          1,
          1,
          1,
          1,
          1,
          1,
          0,
          0,
          0,
          1
         ]
        },
        {
         "colorscale": [
          [
           0,
           "#0015BC"
          ],
          [
           1,
           "#DE0100"
          ]
         ],
         "hovertemplate": "%{location}<br>%{text}<extra></extra>",
         "locationmode": "USA-states",
         "locations": [
          "AL",
          "AK",
          "AZ",
          "AR",
          "CA",
          "CO",
          "CT",
          "DE",
          "DC",
          "FL",
          "GA",
          "HI",
          "ID",
          "IL",
          "IN",
          "IA",
          "KS",
          "KY",
          "LA",
          "ME",
          "MD",
          "MA",
          "MI",
          "MN",
          "MS",
          "MO",
          "MT",
          "NE",
          "NV",
          "NH",
          "NJ",
          "NM",
          "NY",
          "NC",
          "ND",
          "OH",
          "OK",
          "OR",
          "PA",
          "RI",
          "SC",
          "SD",
          "TN",
          "TX",
          "UT",
          "VT",
          "VA",
          "WA",
          "WV",
          "WI",
          "WY"
         ],
         "showlegend": false,
         "showscale": false,
         "text": [
          "Bush, George H.W.<br>Republican<br>804283 / 1688060 votes\n",
          "Bush, George H.W.<br>Republican<br>102000 / 258506 votes\n",
          "Bush, George H.W.<br>Republican<br>572086 / 1486975 votes\n",
          "Clinton, Bill<br>Democrat<br>505823 / 950653 votes\n",
          "Clinton, Bill<br>Democrat<br>5121325 / 11131721 votes\n",
          "Clinton, Bill<br>Democrat<br>629681 / 1569180 votes\n",
          "Clinton, Bill<br>Democrat<br>682318 / 1616156 votes\n",
          "Clinton, Bill<br>Democrat<br>126054 / 289620 votes\n",
          "Clinton, Bill<br>Democrat<br>192619 / 227572 votes\n",
          "Bush, George H.W.<br>Republican<br>2173310 / 5313392 votes\n",
          "Clinton, Bill<br>Democrat<br>1008966 / 2321133 votes\n",
          "Clinton, Bill<br>Democrat<br>179310 / 372842 votes\n",
          "Bush, George H.W.<br>Republican<br>202645 / 482114 votes\n",
          "Clinton, Bill<br>Democrat<br>2453350 / 5050157 votes\n",
          "Bush, George H.W.<br>Republican<br>989375 / 2305871 votes\n",
          "Clinton, Bill<br>Democrat<br>586353 / 1354607 votes\n",
          "Bush, George H.W.<br>Republican<br>449951 / 1157236 votes\n",
          "Clinton, Bill<br>Democrat<br>665104 / 1492900 votes\n",
          "Clinton, Bill<br>Democrat<br>815971 / 1790017 votes\n",
          "Clinton, Bill<br>Democrat<br>263420 / 679499 votes\n",
          "Clinton, Bill<br>Democrat<br>988571 / 1984580 votes\n",
          "Clinton, Bill<br>Democrat<br>1318639 / 2773664 votes\n",
          "Clinton, Bill<br>Democrat<br>1871182 / 4274673 votes\n",
          "Clinton, Bill<br>Democrat<br>1020997 / 2347948 votes\n",
          "Bush, George H.W.<br>Republican<br>487793 / 981793 votes\n",
          "Clinton, Bill<br>Democrat<br>1053873 / 2391270 votes\n",
          "Clinton, Bill<br>Democrat<br>154507 / 410583 votes\n",
          "Bush, George H.W.<br>Republican<br>343678 / 737546 votes\n",
          "Clinton, Bill<br>Democrat<br>189148 / 506318 votes\n",
          "Clinton, Bill<br>Democrat<br>209040 / 537215 votes\n",
          "Clinton, Bill<br>Democrat<br>1436206 / 3343594 votes\n",
          "Clinton, Bill<br>Democrat<br>261617 / 569986 votes\n",
          "Clinton, Bill<br>Democrat<br>3346894 / 7079432 votes\n",
          "Bush, George H.W.<br>Republican<br>1134661 / 2611850 votes\n",
          "Bush, George H.W.<br>Republican<br>136244 / 308133 votes\n",
          "Clinton, Bill<br>Democrat<br>1984942 / 4939967 votes\n",
          "Bush, George H.W.<br>Republican<br>592929 / 1390359 votes\n",
          "Clinton, Bill<br>Democrat<br>621314 / 1462643 votes\n",
          "Clinton, Bill<br>Democrat<br>2239164 / 4959810 votes\n",
          "Clinton, Bill<br>Democrat<br>213299 / 453365 votes\n",
          "Bush, George H.W.<br>Republican<br>577507 / 1228912 votes\n",
          "Bush, George H.W.<br>Republican<br>136718 / 336254 votes\n",
          "Clinton, Bill<br>Democrat<br>933521 / 1982638 votes\n",
          "Bush, George H.W.<br>Republican<br>2496071 / 6154018 votes\n",
          "Bush, George H.W.<br>Republican<br>322632 / 743998 votes\n",
          "Clinton, Bill<br>Democrat<br>133592 / 289701 votes\n",
          "Bush, George H.W.<br>Republican<br>1150517 / 2559129 votes\n",
          "Clinton, Bill<br>Democrat<br>993037 / 2287565 votes\n",
          "Clinton, Bill<br>Democrat<br>331001 / 683677 votes\n",
          "Clinton, Bill<br>Democrat<br>1041066 / 2531064 votes\n",
          "Bush, George H.W.<br>Republican<br>79347 / 199884 votes\n"
         ],
         "type": "choropleth",
         "z": [
          1,
          1,
          1,
          0,
          0,
          0,
          0,
          0,
          0,
          1,
          0,
          0,
          1,
          0,
          1,
          0,
          1,
          0,
          0,
          0,
          0,
          0,
          0,
          0,
          1,
          0,
          0,
          1,
          0,
          0,
          0,
          0,
          0,
          1,
          1,
          0,
          1,
          0,
          0,
          0,
          1,
          1,
          0,
          1,
          1,
          0,
          1,
          0,
          0,
          0,
          1
         ]
        },
        {
         "colorscale": [
          [
           0,
           "#0015BC"
          ],
          [
           1,
           "#DE0100"
          ]
         ],
         "hovertemplate": "%{location}<br>%{text}<extra></extra>",
         "locationmode": "USA-states",
         "locations": [
          "AL",
          "AK",
          "AZ",
          "AR",
          "CA",
          "CO",
          "CT",
          "DE",
          "DC",
          "FL",
          "GA",
          "HI",
          "ID",
          "IL",
          "IN",
          "IA",
          "KS",
          "KY",
          "LA",
          "ME",
          "MD",
          "MA",
          "MI",
          "MN",
          "MS",
          "MO",
          "MT",
          "NE",
          "NV",
          "NH",
          "NJ",
          "NM",
          "NY",
          "NC",
          "ND",
          "OH",
          "OK",
          "OR",
          "PA",
          "RI",
          "SC",
          "SD",
          "TN",
          "TX",
          "UT",
          "VT",
          "VA",
          "WA",
          "WV",
          "WI",
          "WY"
         ],
         "showlegend": false,
         "showscale": false,
         "text": [
          "Dole, Robert<br>Republican<br>769044 / 1534349 votes\n",
          "Dole, Robert<br>Republican<br>122746 / 241620 votes\n",
          "Clinton, Bill<br>Democrat<br>653288 / 1404405 votes\n",
          "Clinton, Bill<br>Democrat<br>475171 / 884262 votes\n",
          "Clinton, Bill<br>Democrat<br>5119835 / 10019469 votes\n",
          "Dole, Robert<br>Republican<br>691848 / 1510702 votes\n",
          "Clinton, Bill<br>Democrat<br>735740 / 1392614 votes\n",
          "Clinton, Bill<br>Democrat<br>140355 / 270810 votes\n",
          "Clinton, Bill<br>Democrat<br>158220 / 185726 votes\n",
          "Clinton, Bill<br>Democrat<br>2546870 / 5303154 votes\n",
          "Dole, Robert<br>Republican<br>1080843 / 2298899 votes\n",
          "Clinton, Bill<br>Democrat<br>205012 / 360120 votes\n",
          "Dole, Robert<br>Republican<br>256595 / 491711 votes\n",
          "Clinton, Bill<br>Democrat<br>2341744 / 4311391 votes\n",
          "Dole, Robert<br>Republican<br>1006693 / 2135431 votes\n",
          "Clinton, Bill<br>Democrat<br>620258 / 1234075 votes\n",
          "Dole, Robert<br>Republican<br>583245 / 1074300 votes\n",
          "Clinton, Bill<br>Democrat<br>636614 / 1388708 votes\n",
          "Clinton, Bill<br>Democrat<br>927837 / 1783959 votes\n",
          "Clinton, Bill<br>Democrat<br>312788 / 605897 votes\n",
          "Clinton, Bill<br>Democrat<br>966207 / 1780870 votes\n",
          "Clinton, Bill<br>Democrat<br>1571509 / 2556459 votes\n",
          "Clinton, Bill<br>Democrat<br>1989653 / 3848844 votes\n",
          "Clinton, Bill<br>Democrat<br>1120380 / 2192492 votes\n",
          "Dole, Robert<br>Republican<br>439838 / 893857 votes\n",
          "Clinton, Bill<br>Democrat<br>1025935 / 2158065 votes\n",
          "Dole, Robert<br>Republican<br>179652 / 407083 votes\n",
          "Dole, Robert<br>Republican<br>363467 / 677415 votes\n",
          "Clinton, Bill<br>Democrat<br>203974 / 464279 votes\n",
          "Clinton, Bill<br>Democrat<br>246166 / 496597 votes\n",
          "Clinton, Bill<br>Democrat<br>1652361 / 3075860 votes\n",
          "Clinton, Bill<br>Democrat<br>273495 / 556074 votes\n",
          "Clinton, Bill<br>Democrat<br>3649630 / 6439129 votes\n",
          "Dole, Robert<br>Republican<br>1225938 / 2515807 votes\n",
          "Dole, Robert<br>Republican<br>125050 / 266411 votes\n",
          "Clinton, Bill<br>Democrat<br>2148222 / 4534434 votes\n",
          "Dole, Robert<br>Republican<br>582315 / 1206713 votes\n",
          "Clinton, Bill<br>Democrat<br>649641 / 1377760 votes\n",
          "Clinton, Bill<br>Democrat<br>2215819 / 4501307 votes\n",
          "Clinton, Bill<br>Democrat<br>233050 / 390247 votes\n",
          "Dole, Robert<br>Republican<br>573339 / 1150182 votes\n",
          "Dole, Robert<br>Republican<br>150543 / 323826 votes\n",
          "Clinton, Bill<br>Democrat<br>909146 / 1894105 votes\n",
          "Dole, Robert<br>Republican<br>2736167 / 5611644 votes\n",
          "Dole, Robert<br>Republican<br>361911 / 665629 votes\n",
          "Clinton, Bill<br>Democrat<br>137894 / 258449 votes\n",
          "Dole, Robert<br>Republican<br>1138350 / 2416642 votes\n",
          "Clinton, Bill<br>Democrat<br>1123323 / 2253837 votes\n",
          "Clinton, Bill<br>Democrat<br>327812 / 636459 votes\n",
          "Clinton, Bill<br>Democrat<br>1071971 / 2196169 votes\n",
          "Dole, Robert<br>Republican<br>105388 / 211571 votes\n"
         ],
         "type": "choropleth",
         "z": [
          1,
          1,
          0,
          0,
          0,
          1,
          0,
          0,
          0,
          0,
          1,
          0,
          1,
          0,
          1,
          0,
          1,
          0,
          0,
          0,
          0,
          0,
          0,
          0,
          1,
          0,
          1,
          1,
          0,
          0,
          0,
          0,
          0,
          1,
          1,
          0,
          1,
          0,
          0,
          0,
          1,
          1,
          0,
          1,
          1,
          0,
          1,
          0,
          0,
          0,
          1
         ]
        },
        {
         "colorscale": [
          [
           0,
           "#0015BC"
          ],
          [
           1,
           "#DE0100"
          ]
         ],
         "hovertemplate": "%{location}<br>%{text}<extra></extra>",
         "locationmode": "USA-states",
         "locations": [
          "AL",
          "AK",
          "AZ",
          "AR",
          "CA",
          "CO",
          "CT",
          "DE",
          "DC",
          "FL",
          "GA",
          "HI",
          "ID",
          "IL",
          "IN",
          "IA",
          "KS",
          "KY",
          "LA",
          "ME",
          "MD",
          "MA",
          "MI",
          "MN",
          "MS",
          "MO",
          "MT",
          "NE",
          "NV",
          "NH",
          "NJ",
          "NM",
          "NY",
          "NC",
          "ND",
          "OH",
          "OK",
          "OR",
          "PA",
          "RI",
          "SC",
          "SD",
          "TN",
          "TX",
          "UT",
          "VT",
          "VA",
          "WA",
          "WV",
          "WI",
          "WY"
         ],
         "showlegend": false,
         "showscale": false,
         "text": [
          "Bush, George W.<br>Republican<br>941173 / 1666272 votes\n",
          "Bush, George W.<br>Republican<br>167398 / 285560 votes\n",
          "Bush, George W.<br>Republican<br>781652 / 1532016 votes\n",
          "Bush, George W.<br>Republican<br>472940 / 921781 votes\n",
          "Gore, Al<br>Democrat<br>5861203 / 10965822 votes\n",
          "Bush, George W.<br>Republican<br>883748 / 1741368 votes\n",
          "Gore, Al<br>Democrat<br>816015 / 1459525 votes\n",
          "Gore, Al<br>Democrat<br>180068 / 327529 votes\n",
          "Gore, Al<br>Democrat<br>171923 / 201894 votes\n",
          "Bush, George W.<br>Republican<br>2912790 / 5963110 votes\n",
          "Bush, George W.<br>Republican<br>1419720 / 2583208 votes\n",
          "Gore, Al<br>Democrat<br>205286 / 367951 votes\n",
          "Bush, George W.<br>Republican<br>336937 / 501615 votes\n",
          "Gore, Al<br>Democrat<br>2589026 / 4742108 votes\n",
          "Bush, George W.<br>Republican<br>1245836 / 2199302 votes\n",
          "Gore, Al<br>Democrat<br>638517 / 1353022 votes\n",
          "Bush, George W.<br>Republican<br>622332 / 1072216 votes\n",
          "Bush, George W.<br>Republican<br>872520 / 1544106 votes\n",
          "Bush, George W.<br>Republican<br>927871 / 1765656 votes\n",
          "Gore, Al<br>Democrat<br>319951 / 651817 votes\n",
          "Gore, Al<br>Democrat<br>1144008 / 2025212 votes\n",
          "Gore, Al<br>Democrat<br>1616487 / 2733964 votes\n",
          "Gore, Al<br>Democrat<br>2170418 / 4232501 votes\n",
          "Gore, Al<br>Democratic-Farmer-Labor<br>1168266 / 2438685 votes\n",
          "Bush, George W.<br>Republican<br>572844 / 994184 votes\n",
          "Bush, George W.<br>Republican<br>1189924 / 2359892 votes\n",
          "Bush, George W.<br>Republican<br>240178 / 410986 votes\n",
          "Bush, George W.<br>Republican<br>433862 / 697019 votes\n",
          "Bush, George W.<br>Republican<br>301575 / 609426 votes\n",
          "Bush, George W.<br>Republican<br>273559 / 569081 votes\n",
          "Gore, Al<br>Democrat<br>1788850 / 3187226 votes\n",
          "Gore, Al<br>Democrat<br>286783 / 598605 votes\n",
          "Gore, Al<br>Democrat<br>3942215 / 6960215 votes\n",
          "Bush, George W.<br>Republican<br>1631163 / 2914990 votes\n",
          "Bush, George W.<br>Republican<br>174852 / 288256 votes\n",
          "Bush, George W.<br>Republican<br>2350363 / 4701998 votes\n",
          "Bush, George W.<br>Republican<br>744337 / 1234229 votes\n",
          "Gore, Al<br>Democrat<br>720342 / 1533950 votes\n",
          "Gore, Al<br>Democrat<br>2485967 / 4912185 votes\n",
          "Gore, Al<br>Democrat<br>249508 / 409112 votes\n",
          "Bush, George W.<br>Republican<br>786892 / 1383902 votes\n",
          "Bush, George W.<br>Republican<br>190700 / 316269 votes\n",
          "Bush, George W.<br>Republican<br>1061949 / 2076181 votes\n",
          "Bush, George W.<br>Republican<br>3799639 / 6407637 votes\n",
          "Bush, George W.<br>Republican<br>515096 / 770754 votes\n",
          "Gore, Al<br>Democrat<br>149022 / 294308 votes\n",
          "Bush, George W.<br>Republican<br>1437490 / 2739447 votes\n",
          "Gore, Al<br>Democrat<br>1247652 / 2487433 votes\n",
          "Bush, George W.<br>Republican<br>336475 / 648124 votes\n",
          "Gore, Al<br>Democrat<br>1242987 / 2598607 votes\n",
          "Bush, George W.<br>Republican<br>147947 / 213726 votes\n"
         ],
         "type": "choropleth",
         "z": [
          1,
          1,
          1,
          1,
          0,
          1,
          0,
          0,
          0,
          1,
          1,
          0,
          1,
          0,
          1,
          0,
          1,
          1,
          1,
          0,
          0,
          0,
          0,
          1,
          1,
          1,
          1,
          1,
          1,
          1,
          0,
          0,
          0,
          1,
          1,
          1,
          1,
          0,
          0,
          0,
          1,
          1,
          1,
          1,
          1,
          0,
          1,
          0,
          1,
          0,
          1
         ]
        },
        {
         "colorscale": [
          [
           0,
           "#0015BC"
          ],
          [
           1,
           "#DE0100"
          ]
         ],
         "hovertemplate": "%{location}<br>%{text}<extra></extra>",
         "locationmode": "USA-states",
         "locations": [
          "AL",
          "AK",
          "AZ",
          "AR",
          "CA",
          "CO",
          "CT",
          "DE",
          "DC",
          "FL",
          "GA",
          "HI",
          "ID",
          "IL",
          "IN",
          "IA",
          "KS",
          "KY",
          "LA",
          "ME",
          "MD",
          "MA",
          "MI",
          "MN",
          "MS",
          "MO",
          "MT",
          "NE",
          "NV",
          "NH",
          "NJ",
          "NM",
          "NY",
          "NC",
          "ND",
          "OH",
          "OK",
          "OR",
          "PA",
          "RI",
          "SC",
          "SD",
          "TN",
          "TX",
          "UT",
          "VT",
          "VA",
          "WA",
          "WV",
          "WI",
          "WY"
         ],
         "showlegend": false,
         "showscale": false,
         "text": [
          "Bush, George W.<br>Republican<br>1176394 / 1883415 votes\n",
          "Bush, George W.<br>Republican<br>190889 / 312598 votes\n",
          "Bush, George W.<br>Republican<br>1104294 / 2012585 votes\n",
          "Bush, George W.<br>Republican<br>572898 / 1054945 votes\n",
          "Kerry, John<br>Democrat<br>6745485 / 12421353 votes\n",
          "Bush, George W.<br>Republican<br>1101255 / 2129630 votes\n",
          "Kerry, John<br>Democrat<br>857488 / 1578769 votes\n",
          "Kerry, John<br>Democrat<br>200152 / 375190 votes\n",
          "Kerry, John<br>Democrat<br>202970 / 227586 votes\n",
          "Bush, George W.<br>Republican<br>3964522 / 7609810 votes\n",
          "Bush, George W.<br>Republican<br>1914254 / 3301875 votes\n",
          "Kerry, John<br>Democrat<br>231708 / 429013 votes\n",
          "Bush, George W.<br>Republican<br>409235 / 598376 votes\n",
          "Kerry, John<br>Democrat<br>2891550 / 5274322 votes\n",
          "Bush, George W.<br>Republican<br>1479438 / 2468002 votes\n",
          "Bush, George W.<br>Republican<br>751957 / 1506908 votes\n",
          "Bush, George W.<br>Republican<br>736456 / 1187756 votes\n",
          "Bush, George W.<br>Republican<br>1069439 / 1795882 votes\n",
          "Bush, George W.<br>Republican<br>1102169 / 1943106 votes\n",
          "Kerry, John<br>Democrat<br>396842 / 740752 votes\n",
          "Kerry, John<br>Democrat<br>1334493 / 2384238 votes\n",
          "Kerry, John<br>Democrat<br>1803800 / 2927455 votes\n",
          "Kerry, John<br>Democrat<br>2479183 / 4839252 votes\n",
          "Kerry, John<br>Democratic-Farmer-Labor<br>1445014 / 2828387 votes\n",
          "Bush, George W.<br>Republican<br>672660 / 1139824 votes\n",
          "Bush, George W.<br>Republican<br>1455713 / 2731364 votes\n",
          "Bush, George W.<br>Republican<br>266063 / 450434 votes\n",
          "Bush, George W.<br>Republican<br>512814 / 778186 votes\n",
          "Bush, George W.<br>Republican<br>418690 / 829587 votes\n",
          "Kerry, John<br>Democrat<br>340511 / 678287 votes\n",
          "Kerry, John<br>Democrat<br>1911430 / 3611691 votes\n",
          "Bush, George W.<br>Republican<br>376930 / 756304 votes\n",
          "Kerry, John<br>Democrat<br>4180755 / 7448266 votes\n",
          "Bush, George W.<br>Republican<br>1961166 / 3501007 votes\n",
          "Bush, George W.<br>Republican<br>196651 / 312833 votes\n",
          "Bush, George W.<br>Republican<br>2859764 / 5627903 votes\n",
          "Bush, George W.<br>Republican<br>959792 / 1463758 votes\n",
          "Kerry, John<br>Democrat<br>943163 / 1836782 votes\n",
          "Kerry, John<br>Democrat<br>2938095 / 5769590 votes\n",
          "Kerry, John<br>Democrat<br>259760 / 437134 votes\n",
          "Bush, George W.<br>Republican<br>937974 / 1617700 votes\n",
          "Bush, George W.<br>Republican<br>232584 / 388215 votes\n",
          "Bush, George W.<br>Republican<br>1384375 / 2437319 votes\n",
          "Bush, George W.<br>Republican<br>4526917 / 7410749 votes\n",
          "Bush, George W.<br>Republican<br>663742 / 927844 votes\n",
          "Kerry, John<br>Democrat<br>184067 / 312309 votes\n",
          "Bush, George W.<br>Republican<br>1716959 / 3195415 votes\n",
          "Kerry, John<br>Democrat<br>1510201 / 2859084 votes\n",
          "Bush, George W.<br>Republican<br>423778 / 755792 votes\n",
          "Kerry, John<br>Democrat<br>1489504 / 2997007 votes\n",
          "Bush, George W.<br>Republican<br>167629 / 243861 votes\n"
         ],
         "type": "choropleth",
         "z": [
          1,
          1,
          1,
          1,
          0,
          1,
          0,
          0,
          0,
          1,
          1,
          0,
          1,
          0,
          1,
          1,
          1,
          1,
          1,
          0,
          0,
          0,
          0,
          1,
          1,
          1,
          1,
          1,
          1,
          0,
          0,
          1,
          0,
          1,
          1,
          1,
          1,
          0,
          0,
          0,
          1,
          1,
          1,
          1,
          1,
          0,
          1,
          0,
          1,
          0,
          1
         ]
        },
        {
         "colorscale": [
          [
           0,
           "#0015BC"
          ],
          [
           1,
           "#DE0100"
          ]
         ],
         "hovertemplate": "%{location}<br>%{text}<extra></extra>",
         "locationmode": "USA-states",
         "locations": [
          "AL",
          "AK",
          "AZ",
          "AR",
          "CA",
          "CO",
          "CT",
          "DE",
          "DC",
          "FL",
          "GA",
          "HI",
          "ID",
          "IL",
          "IN",
          "IA",
          "KS",
          "KY",
          "LA",
          "ME",
          "MD",
          "MA",
          "MI",
          "MN",
          "MS",
          "MO",
          "MT",
          "NE",
          "NV",
          "NH",
          "NJ",
          "NM",
          "NY",
          "NC",
          "ND",
          "OH",
          "OK",
          "OR",
          "PA",
          "RI",
          "SC",
          "SD",
          "TN",
          "TX",
          "UT",
          "VT",
          "VA",
          "WA",
          "WV",
          "WI",
          "WY"
         ],
         "showlegend": false,
         "showscale": false,
         "text": [
          "McCain, John<br>Republican<br>1266546 / 2099819 votes\n",
          "McCain, John<br>Republican<br>193841 / 326197 votes\n",
          "McCain, John<br>Republican<br>1230111 / 2293475 votes\n",
          "McCain, John<br>Republican<br>638017 / 1086617 votes\n",
          "Obama, Barack H.<br>Democrat<br>8274473 / 13561900 votes\n",
          "Obama, Barack H.<br>Democrat<br>1288576 / 2401361 votes\n",
          "Obama, Barack H.<br>Democrat<br>997772 / 1646792 votes\n",
          "Obama, Barack H.<br>Democrat<br>255459 / 412412 votes\n",
          "Obama, Barack H.<br>Democrat<br>245800 / 265853 votes\n",
          "Obama, Barack H.<br>Democrat<br>4282074 / 8390744 votes\n",
          "McCain, John<br>Republican<br>2048759 / 3924486 votes\n",
          "Obama, Barack H.<br>Democrat<br>325871 / 456064 votes\n",
          "McCain, John<br>Republican<br>403012 / 655122 votes\n",
          "Obama, Barack H.<br>Democrat<br>3419348 / 5522371 votes\n",
          "Obama, Barack H.<br>Democrat<br>1374039 / 2751054 votes\n",
          "Obama, Barack H.<br>Democrat<br>828940 / 1537123 votes\n",
          "McCain, John<br>Republican<br>699655 / 1235872 votes\n",
          "McCain, John<br>Republican<br>1048462 / 1826620 votes\n",
          "McCain, John<br>Republican<br>1148275 / 1960761 votes\n",
          "Obama, Barack H.<br>Democrat<br>421923 / 731163 votes\n",
          "Obama, Barack H.<br>Democrat<br>1629467 / 2631596 votes\n",
          "Obama, Barack H.<br>Democrat<br>1904097 / 3102995 votes\n",
          "Obama, Barack H.<br>Democrat<br>2872579 / 5001596 votes\n",
          "Obama, Barack H.<br>Democrat<br>1573354 / 2910369 votes\n",
          "McCain, John<br>Republican<br>724597 / 1289865 votes\n",
          "McCain, John<br>Republican<br>1445814 / 2925205 votes\n",
          "McCain, John<br>Republican<br>242763 / 490109 votes\n",
          "McCain, John<br>Republican<br>452979 / 801281 votes\n",
          "Obama, Barack H.<br>Democrat<br>533736 / 967848 votes\n",
          "Obama, Barack H.<br>Democrat<br>384826 / 710970 votes\n",
          "Obama, Barack H.<br>Democrat<br>2215422 / 3868237 votes\n",
          "Obama, Barack H.<br>Democrat<br>472422 / 830158 votes\n",
          "Obama, Barack H.<br>Democrat<br>4645332 / 7722019 votes\n",
          "Obama, Barack H.<br>Democrat<br>2142651 / 4310851 votes\n",
          "McCain, John<br>Republican<br>168601 / 316621 votes\n",
          "Obama, Barack H.<br>Democrat<br>2940044 / 5708350 votes\n",
          "McCain, John<br>Republican<br>960165 / 1462661 votes\n",
          "Obama, Barack H.<br>Democrat<br>1037291 / 1827864 votes\n",
          "Obama, Barack H.<br>Democrat<br>3276363 / 6013272 votes\n",
          "Obama, Barack H.<br>Democrat<br>296571 / 471766 votes\n",
          "McCain, John<br>Republican<br>1034896 / 1920969 votes\n",
          "McCain, John<br>Republican<br>203054 / 381975 votes\n",
          "McCain, John<br>Republican<br>1479178 / 2599749 votes\n",
          "McCain, John<br>Republican<br>4479328 / 8077795 votes\n",
          "McCain, John<br>Republican<br>596030 / 952370 votes\n",
          "Obama, Barack H.<br>Democrat<br>219262 / 325046 votes\n",
          "Obama, Barack H.<br>Democrat<br>1959532 / 3723260 votes\n",
          "Obama, Barack H.<br>Democrat<br>1750848 / 3036878 votes\n",
          "McCain, John<br>Republican<br>397466 / 713451 votes\n",
          "Obama, Barack H.<br>Democrat<br>1677211 / 2983417 votes\n",
          "McCain, John<br>Republican<br>164958 / 254904 votes\n"
         ],
         "type": "choropleth",
         "z": [
          1,
          1,
          1,
          1,
          0,
          0,
          0,
          0,
          0,
          0,
          1,
          0,
          1,
          0,
          0,
          0,
          1,
          1,
          1,
          0,
          0,
          0,
          0,
          0,
          1,
          1,
          1,
          1,
          0,
          0,
          0,
          0,
          0,
          0,
          1,
          0,
          1,
          0,
          0,
          0,
          1,
          1,
          1,
          1,
          1,
          0,
          0,
          0,
          1,
          0,
          1
         ]
        },
        {
         "colorscale": [
          [
           0,
           "#0015BC"
          ],
          [
           1,
           "#DE0100"
          ]
         ],
         "hovertemplate": "%{location}<br>%{text}<extra></extra>",
         "locationmode": "USA-states",
         "locations": [
          "AL",
          "AK",
          "AZ",
          "AR",
          "CA",
          "CO",
          "CT",
          "DE",
          "DC",
          "FL",
          "GA",
          "HI",
          "ID",
          "IL",
          "IN",
          "IA",
          "KS",
          "KY",
          "LA",
          "ME",
          "MD",
          "MA",
          "MI",
          "MN",
          "MS",
          "MO",
          "MT",
          "NE",
          "NV",
          "NH",
          "NJ",
          "NM",
          "NY",
          "NC",
          "ND",
          "OH",
          "OK",
          "OR",
          "PA",
          "RI",
          "SC",
          "SD",
          "TN",
          "TX",
          "UT",
          "VT",
          "VA",
          "WA",
          "WV",
          "WI",
          "WY"
         ],
         "showlegend": false,
         "showscale": false,
         "text": [
          "Romney, Mitt<br>Republican<br>1255925 / 2074338 votes\n",
          "Romney, Mitt<br>Republican<br>164676 / 300495 votes\n",
          "Romney, Mitt<br>Republican<br>1233654 / 2299254 votes\n",
          "Romney, Mitt<br>Republican<br>647744 / 1069468 votes\n",
          "Obama, Barack H.<br>Democrat<br>7854285 / 13038547 votes\n",
          "Obama, Barack H.<br>Democrat<br>1323101 / 2569516 votes\n",
          "Obama, Barack H.<br>Democrat<br>905083 / 1558204 votes\n",
          "Obama, Barack H.<br>Democrat<br>242584 / 413890 votes\n",
          "Obama, Barack H.<br>Democrat<br>267070 / 293764 votes\n",
          "Obama, Barack H.<br>Democrat<br>4237756 / 8474179 votes\n",
          "Romney, Mitt<br>Republican<br>2078688 / 3897839 votes\n",
          "Obama, Barack H.<br>Democrat<br>306658 / 437159 votes\n",
          "Romney, Mitt<br>Republican<br>420911 / 652274 votes\n",
          "Obama, Barack H.<br>Democrat<br>3019512 / 5242014 votes\n",
          "Romney, Mitt<br>Republican<br>1420543 / 2624534 votes\n",
          "Obama, Barack H.<br>Democrat<br>822544 / 1582180 votes\n",
          "Romney, Mitt<br>Republican<br>692634 / 1159971 votes\n",
          "Romney, Mitt<br>Republican<br>1087190 / 1797212 votes\n",
          "Romney, Mitt<br>Republican<br>1152262 / 1994065 votes\n",
          "Obama, Barack H.<br>Democrat<br>401306 / 724758 votes\n",
          "Obama, Barack H.<br>Democrat<br>1677844 / 2707327 votes\n",
          "Obama, Barack H.<br>Democrat<br>1921290 / 3184196 votes\n",
          "Obama, Barack H.<br>Democrat<br>2564569 / 4730961 votes\n",
          "Obama, Barack H.<br>Democratic-Farmer-Labor<br>1546167 / 2936561 votes\n",
          "Romney, Mitt<br>Republican<br>710746 / 1285584 votes\n",
          "Romney, Mitt<br>Republican<br>1482440 / 2757323 votes\n",
          "Romney, Mitt<br>Republican<br>267928 / 484048 votes\n",
          "Romney, Mitt<br>Republican<br>475064 / 794379 votes\n",
          "Obama, Barack H.<br>Democrat<br>531373 / 1014918 votes\n",
          "Obama, Barack H.<br>Democrat<br>369561 / 710972 votes\n",
          "Obama, Barack H.<br>Democrat<br>2122786 / 3638499 votes\n",
          "Obama, Barack H.<br>Democrat<br>415335 / 783758 votes\n",
          "Obama, Barack H.<br>Democrat<br>4324228 / 7116784 votes\n",
          "Romney, Mitt<br>Republican<br>2270395 / 4505372 votes\n",
          "Romney, Mitt<br>Republican<br>188320 / 322932 votes\n",
          "Obama, Barack H.<br>Democrat<br>2827621 / 5580822 votes\n",
          "Romney, Mitt<br>Republican<br>891325 / 1334872 votes\n",
          "Obama, Barack H.<br>Democrat<br>970488 / 1789270 votes\n",
          "Obama, Barack H.<br>Democrat<br>2990274 / 5742040 votes\n",
          "Obama, Barack H.<br>Democrat<br>279677 / 446049 votes\n",
          "Romney, Mitt<br>Republican<br>1071645 / 1964118 votes\n",
          "Romney, Mitt<br>Republican<br>210610 / 363815 votes\n",
          "Romney, Mitt<br>Republican<br>1462330 / 2458577 votes\n",
          "Romney, Mitt<br>Republican<br>4569843 / 7993851 votes\n",
          "Romney, Mitt<br>Republican<br>740600 / 1017440 votes\n",
          "Obama, Barack H.<br>Democrat<br>199239 / 299290 votes\n",
          "Obama, Barack H.<br>Democrat<br>1971820 / 3854489 votes\n",
          "Obama, Barack H.<br>Democrat<br>1755396 / 3125516 votes\n",
          "Romney, Mitt<br>Republican<br>417655 / 670438 votes\n",
          "Obama, Barack H.<br>Democrat<br>1620985 / 3071434 votes\n",
          "Romney, Mitt<br>Republican<br>170962 / 250701 votes\n"
         ],
         "type": "choropleth",
         "z": [
          1,
          1,
          1,
          1,
          0,
          0,
          0,
          0,
          0,
          0,
          1,
          0,
          1,
          0,
          1,
          0,
          1,
          1,
          1,
          0,
          0,
          0,
          0,
          1,
          1,
          1,
          1,
          1,
          0,
          0,
          0,
          0,
          0,
          1,
          1,
          0,
          1,
          0,
          0,
          0,
          1,
          1,
          1,
          1,
          1,
          0,
          0,
          0,
          1,
          0,
          1
         ]
        },
        {
         "colorscale": [
          [
           0,
           "#0015BC"
          ],
          [
           1,
           "#DE0100"
          ]
         ],
         "hovertemplate": "%{location}<br>%{text}<extra></extra>",
         "locationmode": "USA-states",
         "locations": [
          "AL",
          "AK",
          "AZ",
          "AR",
          "CA",
          "CO",
          "CT",
          "DE",
          "DC",
          "FL",
          "GA",
          "HI",
          "ID",
          "IL",
          "IN",
          "IA",
          "KS",
          "KY",
          "LA",
          "ME",
          "MD",
          "MA",
          "MI",
          "MN",
          "MS",
          "MO",
          "MT",
          "NE",
          "NV",
          "NH",
          "NJ",
          "NM",
          "NY",
          "NC",
          "ND",
          "OH",
          "OK",
          "OR",
          "PA",
          "RI",
          "SC",
          "SD",
          "TN",
          "TX",
          "UT",
          "VT",
          "VA",
          "WA",
          "WV",
          "WI",
          "WY"
         ],
         "showlegend": false,
         "showscale": false,
         "text": [
          "Trump, Donald J.<br>Republican<br>1318255 / 2123372 votes\n",
          "Trump, Donald J.<br>Republican<br>163387 / 318608 votes\n",
          "Trump, Donald J.<br>Republican<br>1252401 / 2573165 votes\n",
          "Trump, Donald J.<br>Republican<br>684872 / 1130635 votes\n",
          "Clinton, Hillary<br>Democrat<br>8753788 / 14181595 votes\n",
          "Clinton, Hillary<br>Democrat<br>1338870 / 2780220 votes\n",
          "Clinton, Hillary<br>Democrat<br>897572 / 1644920 votes\n",
          "Clinton, Hillary<br>Democrat<br>235603 / 441590 votes\n",
          "Clinton, Hillary<br>Democrat<br>282830 / 312575 votes\n",
          "Trump, Donald J.<br>Republican<br>4617886 / 9420039 votes\n",
          "Trump, Donald J.<br>Republican<br>2089104 / 4114732 votes\n",
          "Clinton, Hillary<br>Democrat<br>266891 / 437664 votes\n",
          "Trump, Donald J.<br>Republican<br>409055 / 690255 votes\n",
          "Clinton, Hillary<br>Democrat<br>3090729 / 5536424 votes\n",
          "Trump, Donald J.<br>Republican<br>1557286 / 2734958 votes\n",
          "Trump, Donald J.<br>Republican<br>800983 / 1565580 votes\n",
          "Trump, Donald J.<br>Republican<br>671018 / 1184402 votes\n",
          "Trump, Donald J.<br>Republican<br>1202971 / 1924149 votes\n",
          "Trump, Donald J.<br>Republican<br>1178638 / 2029032 votes\n",
          "Clinton, Hillary<br>Democrat<br>357735 / 771892 votes\n",
          "Clinton, Hillary<br>Democrat<br>1677928 / 2781446 votes\n",
          "Clinton, Hillary<br>Democrat<br>1995196 / 3378821 votes\n",
          "Trump, Donald J.<br>Republican<br>2279543 / 4799284 votes\n",
          "Clinton, Hillary<br>Democrat<br>1367705 / 2944782 votes\n",
          "Trump, Donald J.<br>Republican<br>700714 / 1209357 votes\n",
          "Trump, Donald J.<br>Republican<br>1594511 / 2808605 votes\n",
          "Trump, Donald J.<br>Republican<br>279240 / 494526 votes\n",
          "Trump, Donald J.<br>Republican<br>495961 / 844227 votes\n",
          "Clinton, Hillary<br>Democrat<br>539260 / 1125385 votes\n",
          "Clinton, Hillary<br>Democrat<br>348526 / 744296 votes\n",
          "Clinton, Hillary<br>Democrat<br>2148278 / 3874046 votes\n",
          "Clinton, Hillary<br>Democrat<br>385234 / 798319 votes\n",
          "Clinton, Hillary<br>Democrat<br>4379789 / 7802084 votes\n",
          "Trump, Donald J.<br>Republican<br>2362631 / 4741564 votes\n",
          "Trump, Donald J.<br>Republican<br>216794 / 344360 votes\n",
          "Trump, Donald J.<br>Republican<br>2841005 / 5496487 votes\n",
          "Trump, Donald J.<br>Republican<br>949136 / 1452992 votes\n",
          "Clinton, Hillary<br>Democrat<br>1002106 / 2001336 votes\n",
          "Trump, Donald J.<br>Republican<br>2970733 / 6115402 votes\n",
          "Clinton, Hillary<br>Democrat<br>252525 / 464144 votes\n",
          "Trump, Donald J.<br>Republican<br>1155389 / 2103027 votes\n",
          "Trump, Donald J.<br>Republican<br>227721 / 370093 votes\n",
          "Trump, Donald J.<br>Republican<br>1522925 / 2508027 votes\n",
          "Trump, Donald J.<br>Republican<br>4685047 / 8969226 votes\n",
          "Trump, Donald J.<br>Republican<br>515211 / 1131317 votes\n",
          "Clinton, Hillary<br>Democrat<br>178573 / 320467 votes\n",
          "Clinton, Hillary<br>Democrat<br>1981473 / 3982752 votes\n",
          "Clinton, Hillary<br>Democrat<br>1742718 / 3317019 votes\n",
          "Trump, Donald J.<br>Republican<br>489371 / 713051 votes\n",
          "Trump, Donald J.<br>Republican<br>1405284 / 2976150 votes\n",
          "Trump, Donald J.<br>Republican<br>174419 / 258788 votes\n"
         ],
         "type": "choropleth",
         "z": [
          1,
          1,
          1,
          1,
          0,
          0,
          0,
          0,
          0,
          1,
          1,
          0,
          1,
          0,
          1,
          1,
          1,
          1,
          1,
          0,
          0,
          0,
          1,
          0,
          1,
          1,
          1,
          1,
          0,
          0,
          0,
          0,
          0,
          1,
          1,
          1,
          1,
          0,
          1,
          0,
          1,
          1,
          1,
          1,
          1,
          0,
          0,
          0,
          1,
          1,
          1
         ]
        }
       ],
       "layout": {
        "geo": {
         "projection": {
          "type": "albers usa"
         },
         "scope": "usa"
        },
        "sliders": [
         {
          "active": 10,
          "pad": {
           "t": 1
          },
          "steps": [
           {
            "args": [
             "visible",
             [
              true,
              false,
              false,
              false,
              false,
              false,
              false,
              false,
              false,
              false,
              false
             ]
            ],
            "label": "Year 1976",
            "method": "restyle"
           },
           {
            "args": [
             "visible",
             [
              false,
              true,
              false,
              false,
              false,
              false,
              false,
              false,
              false,
              false,
              false
             ]
            ],
            "label": "Year 1980",
            "method": "restyle"
           },
           {
            "args": [
             "visible",
             [
              false,
              false,
              true,
              false,
              false,
              false,
              false,
              false,
              false,
              false,
              false
             ]
            ],
            "label": "Year 1984",
            "method": "restyle"
           },
           {
            "args": [
             "visible",
             [
              false,
              false,
              false,
              true,
              false,
              false,
              false,
              false,
              false,
              false,
              false
             ]
            ],
            "label": "Year 1988",
            "method": "restyle"
           },
           {
            "args": [
             "visible",
             [
              false,
              false,
              false,
              false,
              true,
              false,
              false,
              false,
              false,
              false,
              false
             ]
            ],
            "label": "Year 1992",
            "method": "restyle"
           },
           {
            "args": [
             "visible",
             [
              false,
              false,
              false,
              false,
              false,
              true,
              false,
              false,
              false,
              false,
              false
             ]
            ],
            "label": "Year 1996",
            "method": "restyle"
           },
           {
            "args": [
             "visible",
             [
              false,
              false,
              false,
              false,
              false,
              false,
              true,
              false,
              false,
              false,
              false
             ]
            ],
            "label": "Year 2000",
            "method": "restyle"
           },
           {
            "args": [
             "visible",
             [
              false,
              false,
              false,
              false,
              false,
              false,
              false,
              true,
              false,
              false,
              false
             ]
            ],
            "label": "Year 2004",
            "method": "restyle"
           },
           {
            "args": [
             "visible",
             [
              false,
              false,
              false,
              false,
              false,
              false,
              false,
              false,
              true,
              false,
              false
             ]
            ],
            "label": "Year 2008",
            "method": "restyle"
           },
           {
            "args": [
             "visible",
             [
              false,
              false,
              false,
              false,
              false,
              false,
              false,
              false,
              false,
              true,
              false
             ]
            ],
            "label": "Year 2012",
            "method": "restyle"
           },
           {
            "args": [
             "visible",
             [
              false,
              false,
              false,
              false,
              false,
              false,
              false,
              false,
              false,
              false,
              true
             ]
            ],
            "label": "Year 2016",
            "method": "restyle"
           }
          ]
         }
        ],
        "template": {
         "data": {
          "bar": [
           {
            "error_x": {
             "color": "#2a3f5f"
            },
            "error_y": {
             "color": "#2a3f5f"
            },
            "marker": {
             "line": {
              "color": "#E5ECF6",
              "width": 0.5
             }
            },
            "type": "bar"
           }
          ],
          "barpolar": [
           {
            "marker": {
             "line": {
              "color": "#E5ECF6",
              "width": 0.5
             }
            },
            "type": "barpolar"
           }
          ],
          "carpet": [
           {
            "aaxis": {
             "endlinecolor": "#2a3f5f",
             "gridcolor": "white",
             "linecolor": "white",
             "minorgridcolor": "white",
             "startlinecolor": "#2a3f5f"
            },
            "baxis": {
             "endlinecolor": "#2a3f5f",
             "gridcolor": "white",
             "linecolor": "white",
             "minorgridcolor": "white",
             "startlinecolor": "#2a3f5f"
            },
            "type": "carpet"
           }
          ],
          "choropleth": [
           {
            "colorbar": {
             "outlinewidth": 0,
             "ticks": ""
            },
            "type": "choropleth"
           }
          ],
          "contour": [
           {
            "colorbar": {
             "outlinewidth": 0,
             "ticks": ""
            },
            "colorscale": [
             [
              0,
              "#0d0887"
             ],
             [
              0.1111111111111111,
              "#46039f"
             ],
             [
              0.2222222222222222,
              "#7201a8"
             ],
             [
              0.3333333333333333,
              "#9c179e"
             ],
             [
              0.4444444444444444,
              "#bd3786"
             ],
             [
              0.5555555555555556,
              "#d8576b"
             ],
             [
              0.6666666666666666,
              "#ed7953"
             ],
             [
              0.7777777777777778,
              "#fb9f3a"
             ],
             [
              0.8888888888888888,
              "#fdca26"
             ],
             [
              1,
              "#f0f921"
             ]
            ],
            "type": "contour"
           }
          ],
          "contourcarpet": [
           {
            "colorbar": {
             "outlinewidth": 0,
             "ticks": ""
            },
            "type": "contourcarpet"
           }
          ],
          "heatmap": [
           {
            "colorbar": {
             "outlinewidth": 0,
             "ticks": ""
            },
            "colorscale": [
             [
              0,
              "#0d0887"
             ],
             [
              0.1111111111111111,
              "#46039f"
             ],
             [
              0.2222222222222222,
              "#7201a8"
             ],
             [
              0.3333333333333333,
              "#9c179e"
             ],
             [
              0.4444444444444444,
              "#bd3786"
             ],
             [
              0.5555555555555556,
              "#d8576b"
             ],
             [
              0.6666666666666666,
              "#ed7953"
             ],
             [
              0.7777777777777778,
              "#fb9f3a"
             ],
             [
              0.8888888888888888,
              "#fdca26"
             ],
             [
              1,
              "#f0f921"
             ]
            ],
            "type": "heatmap"
           }
          ],
          "heatmapgl": [
           {
            "colorbar": {
             "outlinewidth": 0,
             "ticks": ""
            },
            "colorscale": [
             [
              0,
              "#0d0887"
             ],
             [
              0.1111111111111111,
              "#46039f"
             ],
             [
              0.2222222222222222,
              "#7201a8"
             ],
             [
              0.3333333333333333,
              "#9c179e"
             ],
             [
              0.4444444444444444,
              "#bd3786"
             ],
             [
              0.5555555555555556,
              "#d8576b"
             ],
             [
              0.6666666666666666,
              "#ed7953"
             ],
             [
              0.7777777777777778,
              "#fb9f3a"
             ],
             [
              0.8888888888888888,
              "#fdca26"
             ],
             [
              1,
              "#f0f921"
             ]
            ],
            "type": "heatmapgl"
           }
          ],
          "histogram": [
           {
            "marker": {
             "colorbar": {
              "outlinewidth": 0,
              "ticks": ""
             }
            },
            "type": "histogram"
           }
          ],
          "histogram2d": [
           {
            "colorbar": {
             "outlinewidth": 0,
             "ticks": ""
            },
            "colorscale": [
             [
              0,
              "#0d0887"
             ],
             [
              0.1111111111111111,
              "#46039f"
             ],
             [
              0.2222222222222222,
              "#7201a8"
             ],
             [
              0.3333333333333333,
              "#9c179e"
             ],
             [
              0.4444444444444444,
              "#bd3786"
             ],
             [
              0.5555555555555556,
              "#d8576b"
             ],
             [
              0.6666666666666666,
              "#ed7953"
             ],
             [
              0.7777777777777778,
              "#fb9f3a"
             ],
             [
              0.8888888888888888,
              "#fdca26"
             ],
             [
              1,
              "#f0f921"
             ]
            ],
            "type": "histogram2d"
           }
          ],
          "histogram2dcontour": [
           {
            "colorbar": {
             "outlinewidth": 0,
             "ticks": ""
            },
            "colorscale": [
             [
              0,
              "#0d0887"
             ],
             [
              0.1111111111111111,
              "#46039f"
             ],
             [
              0.2222222222222222,
              "#7201a8"
             ],
             [
              0.3333333333333333,
              "#9c179e"
             ],
             [
              0.4444444444444444,
              "#bd3786"
             ],
             [
              0.5555555555555556,
              "#d8576b"
             ],
             [
              0.6666666666666666,
              "#ed7953"
             ],
             [
              0.7777777777777778,
              "#fb9f3a"
             ],
             [
              0.8888888888888888,
              "#fdca26"
             ],
             [
              1,
              "#f0f921"
             ]
            ],
            "type": "histogram2dcontour"
           }
          ],
          "mesh3d": [
           {
            "colorbar": {
             "outlinewidth": 0,
             "ticks": ""
            },
            "type": "mesh3d"
           }
          ],
          "parcoords": [
           {
            "line": {
             "colorbar": {
              "outlinewidth": 0,
              "ticks": ""
             }
            },
            "type": "parcoords"
           }
          ],
          "pie": [
           {
            "automargin": true,
            "type": "pie"
           }
          ],
          "scatter": [
           {
            "marker": {
             "colorbar": {
              "outlinewidth": 0,
              "ticks": ""
             }
            },
            "type": "scatter"
           }
          ],
          "scatter3d": [
           {
            "line": {
             "colorbar": {
              "outlinewidth": 0,
              "ticks": ""
             }
            },
            "marker": {
             "colorbar": {
              "outlinewidth": 0,
              "ticks": ""
             }
            },
            "type": "scatter3d"
           }
          ],
          "scattercarpet": [
           {
            "marker": {
             "colorbar": {
              "outlinewidth": 0,
              "ticks": ""
             }
            },
            "type": "scattercarpet"
           }
          ],
          "scattergeo": [
           {
            "marker": {
             "colorbar": {
              "outlinewidth": 0,
              "ticks": ""
             }
            },
            "type": "scattergeo"
           }
          ],
          "scattergl": [
           {
            "marker": {
             "colorbar": {
              "outlinewidth": 0,
              "ticks": ""
             }
            },
            "type": "scattergl"
           }
          ],
          "scattermapbox": [
           {
            "marker": {
             "colorbar": {
              "outlinewidth": 0,
              "ticks": ""
             }
            },
            "type": "scattermapbox"
           }
          ],
          "scatterpolar": [
           {
            "marker": {
             "colorbar": {
              "outlinewidth": 0,
              "ticks": ""
             }
            },
            "type": "scatterpolar"
           }
          ],
          "scatterpolargl": [
           {
            "marker": {
             "colorbar": {
              "outlinewidth": 0,
              "ticks": ""
             }
            },
            "type": "scatterpolargl"
           }
          ],
          "scatterternary": [
           {
            "marker": {
             "colorbar": {
              "outlinewidth": 0,
              "ticks": ""
             }
            },
            "type": "scatterternary"
           }
          ],
          "surface": [
           {
            "colorbar": {
             "outlinewidth": 0,
             "ticks": ""
            },
            "colorscale": [
             [
              0,
              "#0d0887"
             ],
             [
              0.1111111111111111,
              "#46039f"
             ],
             [
              0.2222222222222222,
              "#7201a8"
             ],
             [
              0.3333333333333333,
              "#9c179e"
             ],
             [
              0.4444444444444444,
              "#bd3786"
             ],
             [
              0.5555555555555556,
              "#d8576b"
             ],
             [
              0.6666666666666666,
              "#ed7953"
             ],
             [
              0.7777777777777778,
              "#fb9f3a"
             ],
             [
              0.8888888888888888,
              "#fdca26"
             ],
             [
              1,
              "#f0f921"
             ]
            ],
            "type": "surface"
           }
          ],
          "table": [
           {
            "cells": {
             "fill": {
              "color": "#EBF0F8"
             },
             "line": {
              "color": "white"
             }
            },
            "header": {
             "fill": {
              "color": "#C8D4E3"
             },
             "line": {
              "color": "white"
             }
            },
            "type": "table"
           }
          ]
         },
         "layout": {
          "annotationdefaults": {
           "arrowcolor": "#2a3f5f",
           "arrowhead": 0,
           "arrowwidth": 1
          },
          "coloraxis": {
           "colorbar": {
            "outlinewidth": 0,
            "ticks": ""
           }
          },
          "colorscale": {
           "diverging": [
            [
             0,
             "#8e0152"
            ],
            [
             0.1,
             "#c51b7d"
            ],
            [
             0.2,
             "#de77ae"
            ],
            [
             0.3,
             "#f1b6da"
            ],
            [
             0.4,
             "#fde0ef"
            ],
            [
             0.5,
             "#f7f7f7"
            ],
            [
             0.6,
             "#e6f5d0"
            ],
            [
             0.7,
             "#b8e186"
            ],
            [
             0.8,
             "#7fbc41"
            ],
            [
             0.9,
             "#4d9221"
            ],
            [
             1,
             "#276419"
            ]
           ],
           "sequential": [
            [
             0,
             "#0d0887"
            ],
            [
             0.1111111111111111,
             "#46039f"
            ],
            [
             0.2222222222222222,
             "#7201a8"
            ],
            [
             0.3333333333333333,
             "#9c179e"
            ],
            [
             0.4444444444444444,
             "#bd3786"
            ],
            [
             0.5555555555555556,
             "#d8576b"
            ],
            [
             0.6666666666666666,
             "#ed7953"
            ],
            [
             0.7777777777777778,
             "#fb9f3a"
            ],
            [
             0.8888888888888888,
             "#fdca26"
            ],
            [
             1,
             "#f0f921"
            ]
           ],
           "sequentialminus": [
            [
             0,
             "#0d0887"
            ],
            [
             0.1111111111111111,
             "#46039f"
            ],
            [
             0.2222222222222222,
             "#7201a8"
            ],
            [
             0.3333333333333333,
             "#9c179e"
            ],
            [
             0.4444444444444444,
             "#bd3786"
            ],
            [
             0.5555555555555556,
             "#d8576b"
            ],
            [
             0.6666666666666666,
             "#ed7953"
            ],
            [
             0.7777777777777778,
             "#fb9f3a"
            ],
            [
             0.8888888888888888,
             "#fdca26"
            ],
            [
             1,
             "#f0f921"
            ]
           ]
          },
          "colorway": [
           "#636efa",
           "#EF553B",
           "#00cc96",
           "#ab63fa",
           "#FFA15A",
           "#19d3f3",
           "#FF6692",
           "#B6E880",
           "#FF97FF",
           "#FECB52"
          ],
          "font": {
           "color": "#2a3f5f"
          },
          "geo": {
           "bgcolor": "white",
           "lakecolor": "white",
           "landcolor": "#E5ECF6",
           "showlakes": true,
           "showland": true,
           "subunitcolor": "white"
          },
          "hoverlabel": {
           "align": "left"
          },
          "hovermode": "closest",
          "mapbox": {
           "style": "light"
          },
          "paper_bgcolor": "white",
          "plot_bgcolor": "#E5ECF6",
          "polar": {
           "angularaxis": {
            "gridcolor": "white",
            "linecolor": "white",
            "ticks": ""
           },
           "bgcolor": "#E5ECF6",
           "radialaxis": {
            "gridcolor": "white",
            "linecolor": "white",
            "ticks": ""
           }
          },
          "scene": {
           "xaxis": {
            "backgroundcolor": "#E5ECF6",
            "gridcolor": "white",
            "gridwidth": 2,
            "linecolor": "white",
            "showbackground": true,
            "ticks": "",
            "zerolinecolor": "white"
           },
           "yaxis": {
            "backgroundcolor": "#E5ECF6",
            "gridcolor": "white",
            "gridwidth": 2,
            "linecolor": "white",
            "showbackground": true,
            "ticks": "",
            "zerolinecolor": "white"
           },
           "zaxis": {
            "backgroundcolor": "#E5ECF6",
            "gridcolor": "white",
            "gridwidth": 2,
            "linecolor": "white",
            "showbackground": true,
            "ticks": "",
            "zerolinecolor": "white"
           }
          },
          "shapedefaults": {
           "line": {
            "color": "#2a3f5f"
           }
          },
          "ternary": {
           "aaxis": {
            "gridcolor": "white",
            "linecolor": "white",
            "ticks": ""
           },
           "baxis": {
            "gridcolor": "white",
            "linecolor": "white",
            "ticks": ""
           },
           "bgcolor": "#E5ECF6",
           "caxis": {
            "gridcolor": "white",
            "linecolor": "white",
            "ticks": ""
           }
          },
          "title": {
           "x": 0.05
          },
          "xaxis": {
           "automargin": true,
           "gridcolor": "white",
           "linecolor": "white",
           "ticks": "",
           "title": {
            "standoff": 15
           },
           "zerolinecolor": "white",
           "zerolinewidth": 2
          },
          "yaxis": {
           "automargin": true,
           "gridcolor": "white",
           "linecolor": "white",
           "ticks": "",
           "title": {
            "standoff": 15
           },
           "zerolinecolor": "white",
           "zerolinewidth": 2
          }
         }
        },
        "title": {
         "text": "US Popular Vote Election Map 1976-2016"
        }
       }
      },
      "text/html": [
       "<div>                            <div id=\"7295e29a-307d-45e5-a0c0-b8bf26978340\" class=\"plotly-graph-div\" style=\"height:525px; width:100%;\"></div>            <script type=\"text/javascript\">                require([\"plotly\"], function(Plotly) {                    window.PLOTLYENV=window.PLOTLYENV || {};                                    if (document.getElementById(\"7295e29a-307d-45e5-a0c0-b8bf26978340\")) {                    Plotly.newPlot(                        \"7295e29a-307d-45e5-a0c0-b8bf26978340\",                        [{\"colorscale\": [[0.0, \"#0015BC\"], [1.0, \"#DE0100\"]], \"hovertemplate\": \"%{location}<br>%{text}<extra></extra>\", \"locationmode\": \"USA-states\", \"locations\": [\"AL\", \"AK\", \"AZ\", \"AR\", \"CA\", \"CO\", \"CT\", \"DE\", \"DC\", \"FL\", \"GA\", \"HI\", \"ID\", \"IL\", \"IN\", \"IA\", \"KS\", \"KY\", \"LA\", \"ME\", \"MD\", \"MA\", \"MI\", \"MN\", \"MS\", \"MO\", \"MT\", \"NE\", \"NV\", \"NH\", \"NJ\", \"NM\", \"NY\", \"NC\", \"ND\", \"OH\", \"OK\", \"OR\", \"PA\", \"RI\", \"SC\", \"SD\", \"TN\", \"TX\", \"UT\", \"VT\", \"VA\", \"WA\", \"WV\", \"WI\", \"WY\"], \"showlegend\": false, \"showscale\": false, \"text\": [\"Carter, Jimmy<br>Democrat<br>659170 / 1182850 votes\\n\", \"Ford, Gerald<br>Republican<br>71555 / 123574 votes\\n\", \"Ford, Gerald<br>Republican<br>418642 / 742719 votes\\n\", \"Carter, Jimmy<br>Democrat<br>498604 / 767535 votes\\n\", \"Ford, Gerald<br>Republican<br>3882244 / 7803770 votes\\n\", \"Ford, Gerald<br>Republican<br>584278 / 1081440 votes\\n\", \"Ford, Gerald<br>Republican<br>719261 / 1386355 votes\\n\", \"Carter, Jimmy<br>Democrat<br>122461 / 235642 votes\\n\", \"Carter, Jimmy<br>Democrat<br>137818 / 168830 votes\\n\", \"Carter, Jimmy<br>Democrat<br>1636000 / 3150631 votes\\n\", \"Carter, Jimmy<br>Democrat<br>979409 / 1463152 votes\\n\", \"Carter, Jimmy<br>Democrat<br>147375 / 291301 votes\\n\", \"Ford, Gerald<br>Republican<br>204151 / 340932 votes\\n\", \"Ford, Gerald<br>Republican<br>2364269 / 4721282 votes\\n\", \"Ford, Gerald<br>Republican<br>1183958 / 2220362 votes\\n\", \"Ford, Gerald<br>Republican<br>632864 / 1279303 votes\\n\", \"Ford, Gerald<br>Republican<br>502752 / 957845 votes\\n\", \"Carter, Jimmy<br>Democrat<br>615717 / 1167142 votes\\n\", \"Carter, Jimmy<br>Democrat<br>661365 / 1277383 votes\\n\", \"Ford, Gerald<br>Republican<br>236320 / 482968 votes\\n\", \"Carter, Jimmy<br>Democrat<br>759612 / 1432273 votes\\n\", \"Carter, Jimmy<br>Democrat<br>1429475 / 2547558 votes\\n\", \"Ford, Gerald<br>Republican<br>1893742 / 3651590 votes\\n\", \"Carter, Jimmy<br>Democrat<br>1070440 / 1949931 votes\\n\", \"Carter, Jimmy<br>Democrat<br>381329 / 768390 votes\\n\", \"Carter, Jimmy<br>Democrat<br>998387 / 1953600 votes\\n\", \"Ford, Gerald<br>Republican<br>173703 / 328734 votes\\n\", \"Ford, Gerald<br>Republican<br>359219 / 606749 votes\\n\", \"Ford, Gerald<br>Republican<br>101273 / 201876 votes\\n\", \"Ford, Gerald<br>Republican<br>185935 / 339627 votes\\n\", \"Ford, Gerald<br>Republican<br>1509688 / 3014472 votes\\n\", \"Ford, Gerald<br>Republican<br>211419 / 416590 votes\\n\", \"Carter, Jimmy<br>Democrat<br>3244165 / 6668262 votes\\n\", \"Carter, Jimmy<br>Democrat<br>927365 / 1677906 votes\\n\", \"Ford, Gerald<br>Republican<br>153684 / 297308 votes\\n\", \"Carter, Jimmy<br>Democrat<br>2009959 / 4110456 votes\\n\", \"Ford, Gerald<br>Republican<br>545708 / 1092251 votes\\n\", \"Ford, Gerald<br>Republican<br>492120 / 1029876 votes\\n\", \"Carter, Jimmy<br>Democrat<br>2328677 / 4620787 votes\\n\", \"Carter, Jimmy<br>Democrat<br>227636 / 410584 votes\\n\", \"Carter, Jimmy<br>Democrat<br>450807 / 802583 votes\\n\", \"Ford, Gerald<br>Republican<br>151505 / 300678 votes\\n\", \"Carter, Jimmy<br>Democrat<br>825879 / 1476346 votes\\n\", \"Carter, Jimmy<br>Democrat<br>2082319 / 4071884 votes\\n\", \"Ford, Gerald<br>Republican<br>337908 / 541218 votes\\n\", \"Ford, Gerald<br>Republican<br>100387 / 183902 votes\\n\", \"Ford, Gerald<br>Republican<br>836554 / 1697094 votes\\n\", \"Ford, Gerald<br>Republican<br>777732 / 1555534 votes\\n\", \"Carter, Jimmy<br>Democrat<br>435864 / 750590 votes\\n\", \"Carter, Jimmy<br>Democrat<br>1040232 / 2101336 votes\\n\", \"Ford, Gerald<br>Republican<br>92717 / 156343 votes\\n\"], \"type\": \"choropleth\", \"z\": [0, 1, 1, 0, 1, 1, 1, 0, 0, 0, 0, 0, 1, 1, 1, 1, 1, 0, 0, 1, 0, 0, 1, 0, 0, 0, 1, 1, 1, 1, 1, 1, 0, 0, 1, 0, 1, 1, 0, 0, 0, 1, 0, 0, 1, 1, 1, 1, 0, 0, 1]}, {\"colorscale\": [[0.0, \"#0015BC\"], [1.0, \"#DE0100\"]], \"hovertemplate\": \"%{location}<br>%{text}<extra></extra>\", \"locationmode\": \"USA-states\", \"locations\": [\"AL\", \"AK\", \"AZ\", \"AR\", \"CA\", \"CO\", \"CT\", \"DE\", \"DC\", \"FL\", \"GA\", \"HI\", \"ID\", \"IL\", \"IN\", \"IA\", \"KS\", \"KY\", \"LA\", \"ME\", \"MD\", \"MA\", \"MI\", \"MN\", \"MS\", \"MO\", \"MT\", \"NE\", \"NV\", \"NH\", \"NJ\", \"NM\", \"NY\", \"NC\", \"ND\", \"OH\", \"OK\", \"OR\", \"PA\", \"RI\", \"SC\", \"SD\", \"TN\", \"TX\", \"UT\", \"VT\", \"VA\", \"WA\", \"WV\", \"WI\", \"WY\"], \"showlegend\": false, \"showscale\": false, \"text\": [\"Reagan, Ronald<br>Republican<br>654192 / 1341929 votes\\n\", \"Reagan, Ronald<br>Republican<br>86112 / 158445 votes\\n\", \"Reagan, Ronald<br>Republican<br>529688 / 873945 votes\\n\", \"Reagan, Ronald<br>Republican<br>403164 / 837582 votes\\n\", \"Reagan, Ronald<br>Republican<br>4522994 / 8582938 votes\\n\", \"Reagan, Ronald<br>Republican<br>652264 / 1184450 votes\\n\", \"Reagan, Ronald<br>Republican<br>677210 / 1406285 votes\\n\", \"Reagan, Ronald<br>Republican<br>111252 / 235668 votes\\n\", \"Carter, Jimmy<br>Democrat<br>130231 / 173889 votes\\n\", \"Reagan, Ronald<br>Republican<br>2046951 / 3686927 votes\\n\", \"Carter, Jimmy<br>Democrat<br>890955 / 1596805 votes\\n\", \"Carter, Jimmy<br>Democrat<br>135879 / 303287 votes\\n\", \"Reagan, Ronald<br>Republican<br>290699 / 437431 votes\\n\", \"Reagan, Ronald<br>Republican<br>2358049 / 4749721 votes\\n\", \"Reagan, Ronald<br>Republican<br>1255656 / 2242033 votes\\n\", \"Reagan, Ronald<br>Republican<br>676026 / 1317661 votes\\n\", \"Reagan, Ronald<br>Republican<br>566812 / 979795 votes\\n\", \"Reagan, Ronald<br>Republican<br>635274 / 1295627 votes\\n\", \"Reagan, Ronald<br>Republican<br>792853 / 1548591 votes\\n\", \"Reagan, Ronald<br>Republican<br>238522 / 523011 votes\\n\", \"Carter, Jimmy<br>Democrat<br>726161 / 1540496 votes\\n\", \"Reagan, Ronald<br>Republican<br>1057631 / 2524090 votes\\n\", \"Reagan, Ronald<br>Republican<br>1915225 / 3909725 votes\\n\", \"Carter, Jimmy<br>Democrat<br>954173 / 2051916 votes\\n\", \"Reagan, Ronald<br>Republican<br>441089 / 891750 votes\\n\", \"Reagan, Ronald<br>Republican<br>1074181 / 2099824 votes\\n\", \"Reagan, Ronald<br>Republican<br>206814 / 363952 votes\\n\", \"Reagan, Ronald<br>Republican<br>419214 / 639533 votes\\n\", \"Reagan, Ronald<br>Republican<br>155017 / 243692 votes\\n\", \"Reagan, Ronald<br>Republican<br>221705 / 383990 votes\\n\", \"Reagan, Ronald<br>Republican<br>1546557 / 2975684 votes\\n\", \"Reagan, Ronald<br>Republican<br>250779 / 456237 votes\\n\", \"Carter, Jimmy<br>Democrat<br>2728372 / 6201959 votes\\n\", \"Reagan, Ronald<br>Republican<br>915018 / 1855833 votes\\n\", \"Reagan, Ronald<br>Republican<br>193695 / 301116 votes\\n\", \"Reagan, Ronald<br>Republican<br>2206545 / 4283603 votes\\n\", \"Reagan, Ronald<br>Republican<br>695570 / 1149708 votes\\n\", \"Reagan, Ronald<br>Republican<br>571044 / 1181516 votes\\n\", \"Reagan, Ronald<br>Republican<br>2261872 / 4561501 votes\\n\", \"Carter, Jimmy<br>Democrat<br>198342 / 415967 votes\\n\", \"Reagan, Ronald<br>Republican<br>439277 / 888258 votes\\n\", \"Reagan, Ronald<br>Republican<br>198343 / 327703 votes\\n\", \"Reagan, Ronald<br>Republican<br>787761 / 1617616 votes\\n\", \"Reagan, Ronald<br>Republican<br>2510705 / 4541636 votes\\n\", \"Reagan, Ronald<br>Republican<br>439687 / 604152 votes\\n\", \"Reagan, Ronald<br>Republican<br>94628 / 213299 votes\\n\", \"Reagan, Ronald<br>Republican<br>989609 / 1866032 votes\\n\", \"Reagan, Ronald<br>Republican<br>865244 / 1742394 votes\\n\", \"Carter, Jimmy<br>Democrat<br>367462 / 737715 votes\\n\", \"Reagan, Ronald<br>Republican<br>1088845 / 2273221 votes\\n\", \"Reagan, Ronald<br>Republican<br>110700 / 176713 votes\\n\"], \"type\": \"choropleth\", \"z\": [1, 1, 1, 1, 1, 1, 1, 1, 0, 1, 0, 0, 1, 1, 1, 1, 1, 1, 1, 1, 0, 1, 1, 0, 1, 1, 1, 1, 1, 1, 1, 1, 0, 1, 1, 1, 1, 1, 1, 0, 1, 1, 1, 1, 1, 1, 1, 1, 0, 1, 1]}, {\"colorscale\": [[0.0, \"#0015BC\"], [1.0, \"#DE0100\"]], \"hovertemplate\": \"%{location}<br>%{text}<extra></extra>\", \"locationmode\": \"USA-states\", \"locations\": [\"AL\", \"AK\", \"AZ\", \"AR\", \"CA\", \"CO\", \"CT\", \"DE\", \"DC\", \"FL\", \"GA\", \"HI\", \"ID\", \"IL\", \"IN\", \"IA\", \"KS\", \"KY\", \"LA\", \"ME\", \"MD\", \"MA\", \"MI\", \"MN\", \"MS\", \"MO\", \"MT\", \"NE\", \"NV\", \"NH\", \"NJ\", \"NM\", \"NY\", \"NC\", \"ND\", \"OH\", \"OK\", \"OR\", \"PA\", \"RI\", \"SC\", \"SD\", \"TN\", \"TX\", \"UT\", \"VT\", \"VA\", \"WA\", \"WV\", \"WI\", \"WY\"], \"showlegend\": false, \"showscale\": false, \"text\": [\"Reagan, Ronald<br>Republican<br>872849 / 1441713 votes\\n\", \"Reagan, Ronald<br>Republican<br>138377 / 207605 votes\\n\", \"Reagan, Ronald<br>Republican<br>681416 / 1025897 votes\\n\", \"Reagan, Ronald<br>Republican<br>534774 / 884406 votes\\n\", \"Reagan, Ronald<br>Republican<br>5467009 / 9505041 votes\\n\", \"Reagan, Ronald<br>Republican<br>821817 / 1295380 votes\\n\", \"Reagan, Ronald<br>Republican<br>890877 / 1466900 votes\\n\", \"Reagan, Ronald<br>Republican<br>152190 / 254572 votes\\n\", \"Mondale, Walter<br>Democrat<br>180408 / 211288 votes\\n\", \"Reagan, Ronald<br>Republican<br>2730350 / 4180051 votes\\n\", \"Reagan, Ronald<br>Republican<br>1068722 / 1776103 votes\\n\", \"Reagan, Ronald<br>Republican<br>185050 / 335846 votes\\n\", \"Reagan, Ronald<br>Republican<br>297523 / 411144 votes\\n\", \"Reagan, Ronald<br>Republican<br>2707103 / 4819088 votes\\n\", \"Reagan, Ronald<br>Republican<br>1377230 / 2233069 votes\\n\", \"Reagan, Ronald<br>Republican<br>703088 / 1319805 votes\\n\", \"Reagan, Ronald<br>Republican<br>677296 / 1021991 votes\\n\", \"Reagan, Ronald<br>Republican<br>821702 / 1369345 votes\\n\", \"Reagan, Ronald<br>Republican<br>1037299 / 1706822 votes\\n\", \"Reagan, Ronald<br>Republican<br>336500 / 553144 votes\\n\", \"Reagan, Ronald<br>Republican<br>879918 / 1675873 votes\\n\", \"Reagan, Ronald<br>Republican<br>1310936 / 2559383 votes\\n\", \"Reagan, Ronald<br>Republican<br>2251571 / 3801658 votes\\n\", \"Mondale, Walter<br>Democrat<br>1036364 / 2084449 votes\\n\", \"Reagan, Ronald<br>Republican<br>582377 / 941104 votes\\n\", \"Reagan, Ronald<br>Republican<br>1274188 / 2122771 votes\\n\", \"Reagan, Ronald<br>Republican<br>232450 / 384377 votes\\n\", \"Reagan, Ronald<br>Republican<br>460054 / 652090 votes\\n\", \"Reagan, Ronald<br>Republican<br>188770 / 282717 votes\\n\", \"Reagan, Ronald<br>Republican<br>267050 / 388904 votes\\n\", \"Reagan, Ronald<br>Republican<br>1933630 / 3217862 votes\\n\", \"Reagan, Ronald<br>Republican<br>307101 / 514370 votes\\n\", \"Reagan, Ronald<br>Republican<br>3376519 / 6806810 votes\\n\", \"Reagan, Ronald<br>Republican<br>1346481 / 2175361 votes\\n\", \"Reagan, Ronald<br>Republican<br>200336 / 308971 votes\\n\", \"Reagan, Ronald<br>Republican<br>2678559 / 4563235 votes\\n\", \"Reagan, Ronald<br>Republican<br>861530 / 1255676 votes\\n\", \"Reagan, Ronald<br>Republican<br>685700 / 1226527 votes\\n\", \"Reagan, Ronald<br>Republican<br>2584323 / 4844903 votes\\n\", \"Reagan, Ronald<br>Republican<br>212080 / 410489 votes\\n\", \"Reagan, Ronald<br>Republican<br>615539 / 968529 votes\\n\", \"Reagan, Ronald<br>Republican<br>200267 / 317867 votes\\n\", \"Reagan, Ronald<br>Republican<br>990212 / 1711993 votes\\n\", \"Reagan, Ronald<br>Republican<br>3433428 / 5397571 votes\\n\", \"Reagan, Ronald<br>Republican<br>469105 / 629656 votes\\n\", \"Reagan, Ronald<br>Republican<br>135865 / 234561 votes\\n\", \"Reagan, Ronald<br>Republican<br>1337078 / 2146635 votes\\n\", \"Reagan, Ronald<br>Republican<br>1051670 / 1874910 votes\\n\", \"Reagan, Ronald<br>Republican<br>405483 / 735742 votes\\n\", \"Reagan, Ronald<br>Republican<br>1198584 / 2211689 votes\\n\", \"Reagan, Ronald<br>Republican<br>133241 / 188968 votes\\n\"], \"type\": \"choropleth\", \"z\": [1, 1, 1, 1, 1, 1, 1, 1, 0, 1, 1, 1, 1, 1, 1, 1, 1, 1, 1, 1, 1, 1, 1, 0, 1, 1, 1, 1, 1, 1, 1, 1, 1, 1, 1, 1, 1, 1, 1, 1, 1, 1, 1, 1, 1, 1, 1, 1, 1, 1, 1]}, {\"colorscale\": [[0.0, \"#0015BC\"], [1.0, \"#DE0100\"]], \"hovertemplate\": \"%{location}<br>%{text}<extra></extra>\", \"locationmode\": \"USA-states\", \"locations\": [\"AL\", \"AK\", \"AZ\", \"AR\", \"CA\", \"CO\", \"CT\", \"DE\", \"DC\", \"FL\", \"GA\", \"HI\", \"ID\", \"IL\", \"IN\", \"IA\", \"KS\", \"KY\", \"LA\", \"ME\", \"MD\", \"MA\", \"MI\", \"MN\", \"MS\", \"MO\", \"MT\", \"NE\", \"NV\", \"NH\", \"NJ\", \"NM\", \"NY\", \"NC\", \"ND\", \"OH\", \"OK\", \"OR\", \"PA\", \"RI\", \"SC\", \"SD\", \"TN\", \"TX\", \"UT\", \"VT\", \"VA\", \"WA\", \"WV\", \"WI\", \"WY\"], \"showlegend\": false, \"showscale\": false, \"text\": [\"Bush, George H.W.<br>Republican<br>815576 / 1378476 votes\\n\", \"Bush, George H.W.<br>Republican<br>119251 / 200116 votes\\n\", \"Bush, George H.W.<br>Republican<br>702541 / 1171873 votes\\n\", \"Bush, George H.W.<br>Republican<br>466578 / 827738 votes\\n\", \"Bush, George H.W.<br>Republican<br>5054917 / 9887065 votes\\n\", \"Bush, George H.W.<br>Republican<br>728177 / 1372394 votes\\n\", \"Bush, George H.W.<br>Republican<br>750241 / 1443394 votes\\n\", \"Bush, George H.W.<br>Republican<br>139639 / 249891 votes\\n\", \"Dukakis, Michael<br>Democrat<br>159407 / 192877 votes\\n\", \"Bush, George H.W.<br>Republican<br>2618885 / 4302313 votes\\n\", \"Bush, George H.W.<br>Republican<br>1081331 / 1809672 votes\\n\", \"Dukakis, Michael<br>Democrat<br>192364 / 354461 votes\\n\", \"Bush, George H.W.<br>Republican<br>253881 / 408968 votes\\n\", \"Bush, George H.W.<br>Republican<br>2310939 / 4559120 votes\\n\", \"Bush, George H.W.<br>Republican<br>1297763 / 2168621 votes\\n\", \"Dukakis, Michael<br>Democrat<br>670557 / 1225614 votes\\n\", \"Bush, George H.W.<br>Republican<br>554049 / 993044 votes\\n\", \"Bush, George H.W.<br>Republican<br>734281 / 1322517 votes\\n\", \"Bush, George H.W.<br>Republican<br>883702 / 1628202 votes\\n\", \"Bush, George H.W.<br>Republican<br>307131 / 555035 votes\\n\", \"Bush, George H.W.<br>Republican<br>876167 / 1714358 votes\\n\", \"Dukakis, Michael<br>Democrat<br>1401415 / 2632801 votes\\n\", \"Bush, George H.W.<br>Republican<br>1965486 / 3669163 votes\\n\", \"Dukakis, Michael<br>Democrat<br>1109471 / 2096790 votes\\n\", \"Bush, George H.W.<br>Republican<br>557890 / 931527 votes\\n\", \"Bush, George H.W.<br>Republican<br>1084953 / 2093228 votes\\n\", \"Bush, George H.W.<br>Republican<br>190412 / 365674 votes\\n\", \"Bush, George H.W.<br>Republican<br>397956 / 661465 votes\\n\", \"Bush, George H.W.<br>Republican<br>206040 / 343133 votes\\n\", \"Bush, George H.W.<br>Republican<br>281537 / 450525 votes\\n\", \"Bush, George H.W.<br>Republican<br>1743192 / 3099553 votes\\n\", \"Bush, George H.W.<br>Republican<br>270341 / 521387 votes\\n\", \"Dukakis, Michael<br>Democrat<br>3255487 / 6485683 votes\\n\", \"Bush, George H.W.<br>Republican<br>1237258 / 2134370 votes\\n\", \"Bush, George H.W.<br>Republican<br>166559 / 297261 votes\\n\", \"Bush, George H.W.<br>Republican<br>2416549 / 4393585 votes\\n\", \"Bush, George H.W.<br>Republican<br>678367 / 1171036 votes\\n\", \"Dukakis, Michael<br>Democrat<br>616206 / 1201694 votes\\n\", \"Bush, George H.W.<br>Republican<br>2300087 / 4536251 votes\\n\", \"Dukakis, Michael<br>Democrat<br>225123 / 404622 votes\\n\", \"Bush, George H.W.<br>Republican<br>606443 / 986009 votes\\n\", \"Bush, George H.W.<br>Republican<br>165415 / 312991 votes\\n\", \"Bush, George H.W.<br>Republican<br>947233 / 1636250 votes\\n\", \"Bush, George H.W.<br>Republican<br>3036829 / 5427410 votes\\n\", \"Bush, George H.W.<br>Republican<br>428442 / 647008 votes\\n\", \"Bush, George H.W.<br>Republican<br>124331 / 243328 votes\\n\", \"Bush, George H.W.<br>Republican<br>1309162 / 2191609 votes\\n\", \"Dukakis, Michael<br>Democrat<br>933516 / 1865253 votes\\n\", \"Dukakis, Michael<br>Democrat<br>341016 / 653311 votes\\n\", \"Dukakis, Michael<br>Democrat<br>1126794 / 2191608 votes\\n\", \"Bush, George H.W.<br>Republican<br>106867 / 176551 votes\\n\"], \"type\": \"choropleth\", \"z\": [1, 1, 1, 1, 1, 1, 1, 1, 0, 1, 1, 0, 1, 1, 1, 0, 1, 1, 1, 1, 1, 0, 1, 0, 1, 1, 1, 1, 1, 1, 1, 1, 0, 1, 1, 1, 1, 0, 1, 0, 1, 1, 1, 1, 1, 1, 1, 0, 0, 0, 1]}, {\"colorscale\": [[0.0, \"#0015BC\"], [1.0, \"#DE0100\"]], \"hovertemplate\": \"%{location}<br>%{text}<extra></extra>\", \"locationmode\": \"USA-states\", \"locations\": [\"AL\", \"AK\", \"AZ\", \"AR\", \"CA\", \"CO\", \"CT\", \"DE\", \"DC\", \"FL\", \"GA\", \"HI\", \"ID\", \"IL\", \"IN\", \"IA\", \"KS\", \"KY\", \"LA\", \"ME\", \"MD\", \"MA\", \"MI\", \"MN\", \"MS\", \"MO\", \"MT\", \"NE\", \"NV\", \"NH\", \"NJ\", \"NM\", \"NY\", \"NC\", \"ND\", \"OH\", \"OK\", \"OR\", \"PA\", \"RI\", \"SC\", \"SD\", \"TN\", \"TX\", \"UT\", \"VT\", \"VA\", \"WA\", \"WV\", \"WI\", \"WY\"], \"showlegend\": false, \"showscale\": false, \"text\": [\"Bush, George H.W.<br>Republican<br>804283 / 1688060 votes\\n\", \"Bush, George H.W.<br>Republican<br>102000 / 258506 votes\\n\", \"Bush, George H.W.<br>Republican<br>572086 / 1486975 votes\\n\", \"Clinton, Bill<br>Democrat<br>505823 / 950653 votes\\n\", \"Clinton, Bill<br>Democrat<br>5121325 / 11131721 votes\\n\", \"Clinton, Bill<br>Democrat<br>629681 / 1569180 votes\\n\", \"Clinton, Bill<br>Democrat<br>682318 / 1616156 votes\\n\", \"Clinton, Bill<br>Democrat<br>126054 / 289620 votes\\n\", \"Clinton, Bill<br>Democrat<br>192619 / 227572 votes\\n\", \"Bush, George H.W.<br>Republican<br>2173310 / 5313392 votes\\n\", \"Clinton, Bill<br>Democrat<br>1008966 / 2321133 votes\\n\", \"Clinton, Bill<br>Democrat<br>179310 / 372842 votes\\n\", \"Bush, George H.W.<br>Republican<br>202645 / 482114 votes\\n\", \"Clinton, Bill<br>Democrat<br>2453350 / 5050157 votes\\n\", \"Bush, George H.W.<br>Republican<br>989375 / 2305871 votes\\n\", \"Clinton, Bill<br>Democrat<br>586353 / 1354607 votes\\n\", \"Bush, George H.W.<br>Republican<br>449951 / 1157236 votes\\n\", \"Clinton, Bill<br>Democrat<br>665104 / 1492900 votes\\n\", \"Clinton, Bill<br>Democrat<br>815971 / 1790017 votes\\n\", \"Clinton, Bill<br>Democrat<br>263420 / 679499 votes\\n\", \"Clinton, Bill<br>Democrat<br>988571 / 1984580 votes\\n\", \"Clinton, Bill<br>Democrat<br>1318639 / 2773664 votes\\n\", \"Clinton, Bill<br>Democrat<br>1871182 / 4274673 votes\\n\", \"Clinton, Bill<br>Democrat<br>1020997 / 2347948 votes\\n\", \"Bush, George H.W.<br>Republican<br>487793 / 981793 votes\\n\", \"Clinton, Bill<br>Democrat<br>1053873 / 2391270 votes\\n\", \"Clinton, Bill<br>Democrat<br>154507 / 410583 votes\\n\", \"Bush, George H.W.<br>Republican<br>343678 / 737546 votes\\n\", \"Clinton, Bill<br>Democrat<br>189148 / 506318 votes\\n\", \"Clinton, Bill<br>Democrat<br>209040 / 537215 votes\\n\", \"Clinton, Bill<br>Democrat<br>1436206 / 3343594 votes\\n\", \"Clinton, Bill<br>Democrat<br>261617 / 569986 votes\\n\", \"Clinton, Bill<br>Democrat<br>3346894 / 7079432 votes\\n\", \"Bush, George H.W.<br>Republican<br>1134661 / 2611850 votes\\n\", \"Bush, George H.W.<br>Republican<br>136244 / 308133 votes\\n\", \"Clinton, Bill<br>Democrat<br>1984942 / 4939967 votes\\n\", \"Bush, George H.W.<br>Republican<br>592929 / 1390359 votes\\n\", \"Clinton, Bill<br>Democrat<br>621314 / 1462643 votes\\n\", \"Clinton, Bill<br>Democrat<br>2239164 / 4959810 votes\\n\", \"Clinton, Bill<br>Democrat<br>213299 / 453365 votes\\n\", \"Bush, George H.W.<br>Republican<br>577507 / 1228912 votes\\n\", \"Bush, George H.W.<br>Republican<br>136718 / 336254 votes\\n\", \"Clinton, Bill<br>Democrat<br>933521 / 1982638 votes\\n\", \"Bush, George H.W.<br>Republican<br>2496071 / 6154018 votes\\n\", \"Bush, George H.W.<br>Republican<br>322632 / 743998 votes\\n\", \"Clinton, Bill<br>Democrat<br>133592 / 289701 votes\\n\", \"Bush, George H.W.<br>Republican<br>1150517 / 2559129 votes\\n\", \"Clinton, Bill<br>Democrat<br>993037 / 2287565 votes\\n\", \"Clinton, Bill<br>Democrat<br>331001 / 683677 votes\\n\", \"Clinton, Bill<br>Democrat<br>1041066 / 2531064 votes\\n\", \"Bush, George H.W.<br>Republican<br>79347 / 199884 votes\\n\"], \"type\": \"choropleth\", \"z\": [1, 1, 1, 0, 0, 0, 0, 0, 0, 1, 0, 0, 1, 0, 1, 0, 1, 0, 0, 0, 0, 0, 0, 0, 1, 0, 0, 1, 0, 0, 0, 0, 0, 1, 1, 0, 1, 0, 0, 0, 1, 1, 0, 1, 1, 0, 1, 0, 0, 0, 1]}, {\"colorscale\": [[0.0, \"#0015BC\"], [1.0, \"#DE0100\"]], \"hovertemplate\": \"%{location}<br>%{text}<extra></extra>\", \"locationmode\": \"USA-states\", \"locations\": [\"AL\", \"AK\", \"AZ\", \"AR\", \"CA\", \"CO\", \"CT\", \"DE\", \"DC\", \"FL\", \"GA\", \"HI\", \"ID\", \"IL\", \"IN\", \"IA\", \"KS\", \"KY\", \"LA\", \"ME\", \"MD\", \"MA\", \"MI\", \"MN\", \"MS\", \"MO\", \"MT\", \"NE\", \"NV\", \"NH\", \"NJ\", \"NM\", \"NY\", \"NC\", \"ND\", \"OH\", \"OK\", \"OR\", \"PA\", \"RI\", \"SC\", \"SD\", \"TN\", \"TX\", \"UT\", \"VT\", \"VA\", \"WA\", \"WV\", \"WI\", \"WY\"], \"showlegend\": false, \"showscale\": false, \"text\": [\"Dole, Robert<br>Republican<br>769044 / 1534349 votes\\n\", \"Dole, Robert<br>Republican<br>122746 / 241620 votes\\n\", \"Clinton, Bill<br>Democrat<br>653288 / 1404405 votes\\n\", \"Clinton, Bill<br>Democrat<br>475171 / 884262 votes\\n\", \"Clinton, Bill<br>Democrat<br>5119835 / 10019469 votes\\n\", \"Dole, Robert<br>Republican<br>691848 / 1510702 votes\\n\", \"Clinton, Bill<br>Democrat<br>735740 / 1392614 votes\\n\", \"Clinton, Bill<br>Democrat<br>140355 / 270810 votes\\n\", \"Clinton, Bill<br>Democrat<br>158220 / 185726 votes\\n\", \"Clinton, Bill<br>Democrat<br>2546870 / 5303154 votes\\n\", \"Dole, Robert<br>Republican<br>1080843 / 2298899 votes\\n\", \"Clinton, Bill<br>Democrat<br>205012 / 360120 votes\\n\", \"Dole, Robert<br>Republican<br>256595 / 491711 votes\\n\", \"Clinton, Bill<br>Democrat<br>2341744 / 4311391 votes\\n\", \"Dole, Robert<br>Republican<br>1006693 / 2135431 votes\\n\", \"Clinton, Bill<br>Democrat<br>620258 / 1234075 votes\\n\", \"Dole, Robert<br>Republican<br>583245 / 1074300 votes\\n\", \"Clinton, Bill<br>Democrat<br>636614 / 1388708 votes\\n\", \"Clinton, Bill<br>Democrat<br>927837 / 1783959 votes\\n\", \"Clinton, Bill<br>Democrat<br>312788 / 605897 votes\\n\", \"Clinton, Bill<br>Democrat<br>966207 / 1780870 votes\\n\", \"Clinton, Bill<br>Democrat<br>1571509 / 2556459 votes\\n\", \"Clinton, Bill<br>Democrat<br>1989653 / 3848844 votes\\n\", \"Clinton, Bill<br>Democrat<br>1120380 / 2192492 votes\\n\", \"Dole, Robert<br>Republican<br>439838 / 893857 votes\\n\", \"Clinton, Bill<br>Democrat<br>1025935 / 2158065 votes\\n\", \"Dole, Robert<br>Republican<br>179652 / 407083 votes\\n\", \"Dole, Robert<br>Republican<br>363467 / 677415 votes\\n\", \"Clinton, Bill<br>Democrat<br>203974 / 464279 votes\\n\", \"Clinton, Bill<br>Democrat<br>246166 / 496597 votes\\n\", \"Clinton, Bill<br>Democrat<br>1652361 / 3075860 votes\\n\", \"Clinton, Bill<br>Democrat<br>273495 / 556074 votes\\n\", \"Clinton, Bill<br>Democrat<br>3649630 / 6439129 votes\\n\", \"Dole, Robert<br>Republican<br>1225938 / 2515807 votes\\n\", \"Dole, Robert<br>Republican<br>125050 / 266411 votes\\n\", \"Clinton, Bill<br>Democrat<br>2148222 / 4534434 votes\\n\", \"Dole, Robert<br>Republican<br>582315 / 1206713 votes\\n\", \"Clinton, Bill<br>Democrat<br>649641 / 1377760 votes\\n\", \"Clinton, Bill<br>Democrat<br>2215819 / 4501307 votes\\n\", \"Clinton, Bill<br>Democrat<br>233050 / 390247 votes\\n\", \"Dole, Robert<br>Republican<br>573339 / 1150182 votes\\n\", \"Dole, Robert<br>Republican<br>150543 / 323826 votes\\n\", \"Clinton, Bill<br>Democrat<br>909146 / 1894105 votes\\n\", \"Dole, Robert<br>Republican<br>2736167 / 5611644 votes\\n\", \"Dole, Robert<br>Republican<br>361911 / 665629 votes\\n\", \"Clinton, Bill<br>Democrat<br>137894 / 258449 votes\\n\", \"Dole, Robert<br>Republican<br>1138350 / 2416642 votes\\n\", \"Clinton, Bill<br>Democrat<br>1123323 / 2253837 votes\\n\", \"Clinton, Bill<br>Democrat<br>327812 / 636459 votes\\n\", \"Clinton, Bill<br>Democrat<br>1071971 / 2196169 votes\\n\", \"Dole, Robert<br>Republican<br>105388 / 211571 votes\\n\"], \"type\": \"choropleth\", \"z\": [1, 1, 0, 0, 0, 1, 0, 0, 0, 0, 1, 0, 1, 0, 1, 0, 1, 0, 0, 0, 0, 0, 0, 0, 1, 0, 1, 1, 0, 0, 0, 0, 0, 1, 1, 0, 1, 0, 0, 0, 1, 1, 0, 1, 1, 0, 1, 0, 0, 0, 1]}, {\"colorscale\": [[0.0, \"#0015BC\"], [1.0, \"#DE0100\"]], \"hovertemplate\": \"%{location}<br>%{text}<extra></extra>\", \"locationmode\": \"USA-states\", \"locations\": [\"AL\", \"AK\", \"AZ\", \"AR\", \"CA\", \"CO\", \"CT\", \"DE\", \"DC\", \"FL\", \"GA\", \"HI\", \"ID\", \"IL\", \"IN\", \"IA\", \"KS\", \"KY\", \"LA\", \"ME\", \"MD\", \"MA\", \"MI\", \"MN\", \"MS\", \"MO\", \"MT\", \"NE\", \"NV\", \"NH\", \"NJ\", \"NM\", \"NY\", \"NC\", \"ND\", \"OH\", \"OK\", \"OR\", \"PA\", \"RI\", \"SC\", \"SD\", \"TN\", \"TX\", \"UT\", \"VT\", \"VA\", \"WA\", \"WV\", \"WI\", \"WY\"], \"showlegend\": false, \"showscale\": false, \"text\": [\"Bush, George W.<br>Republican<br>941173 / 1666272 votes\\n\", \"Bush, George W.<br>Republican<br>167398 / 285560 votes\\n\", \"Bush, George W.<br>Republican<br>781652 / 1532016 votes\\n\", \"Bush, George W.<br>Republican<br>472940 / 921781 votes\\n\", \"Gore, Al<br>Democrat<br>5861203 / 10965822 votes\\n\", \"Bush, George W.<br>Republican<br>883748 / 1741368 votes\\n\", \"Gore, Al<br>Democrat<br>816015 / 1459525 votes\\n\", \"Gore, Al<br>Democrat<br>180068 / 327529 votes\\n\", \"Gore, Al<br>Democrat<br>171923 / 201894 votes\\n\", \"Bush, George W.<br>Republican<br>2912790 / 5963110 votes\\n\", \"Bush, George W.<br>Republican<br>1419720 / 2583208 votes\\n\", \"Gore, Al<br>Democrat<br>205286 / 367951 votes\\n\", \"Bush, George W.<br>Republican<br>336937 / 501615 votes\\n\", \"Gore, Al<br>Democrat<br>2589026 / 4742108 votes\\n\", \"Bush, George W.<br>Republican<br>1245836 / 2199302 votes\\n\", \"Gore, Al<br>Democrat<br>638517 / 1353022 votes\\n\", \"Bush, George W.<br>Republican<br>622332 / 1072216 votes\\n\", \"Bush, George W.<br>Republican<br>872520 / 1544106 votes\\n\", \"Bush, George W.<br>Republican<br>927871 / 1765656 votes\\n\", \"Gore, Al<br>Democrat<br>319951 / 651817 votes\\n\", \"Gore, Al<br>Democrat<br>1144008 / 2025212 votes\\n\", \"Gore, Al<br>Democrat<br>1616487 / 2733964 votes\\n\", \"Gore, Al<br>Democrat<br>2170418 / 4232501 votes\\n\", \"Gore, Al<br>Democratic-Farmer-Labor<br>1168266 / 2438685 votes\\n\", \"Bush, George W.<br>Republican<br>572844 / 994184 votes\\n\", \"Bush, George W.<br>Republican<br>1189924 / 2359892 votes\\n\", \"Bush, George W.<br>Republican<br>240178 / 410986 votes\\n\", \"Bush, George W.<br>Republican<br>433862 / 697019 votes\\n\", \"Bush, George W.<br>Republican<br>301575 / 609426 votes\\n\", \"Bush, George W.<br>Republican<br>273559 / 569081 votes\\n\", \"Gore, Al<br>Democrat<br>1788850 / 3187226 votes\\n\", \"Gore, Al<br>Democrat<br>286783 / 598605 votes\\n\", \"Gore, Al<br>Democrat<br>3942215 / 6960215 votes\\n\", \"Bush, George W.<br>Republican<br>1631163 / 2914990 votes\\n\", \"Bush, George W.<br>Republican<br>174852 / 288256 votes\\n\", \"Bush, George W.<br>Republican<br>2350363 / 4701998 votes\\n\", \"Bush, George W.<br>Republican<br>744337 / 1234229 votes\\n\", \"Gore, Al<br>Democrat<br>720342 / 1533950 votes\\n\", \"Gore, Al<br>Democrat<br>2485967 / 4912185 votes\\n\", \"Gore, Al<br>Democrat<br>249508 / 409112 votes\\n\", \"Bush, George W.<br>Republican<br>786892 / 1383902 votes\\n\", \"Bush, George W.<br>Republican<br>190700 / 316269 votes\\n\", \"Bush, George W.<br>Republican<br>1061949 / 2076181 votes\\n\", \"Bush, George W.<br>Republican<br>3799639 / 6407637 votes\\n\", \"Bush, George W.<br>Republican<br>515096 / 770754 votes\\n\", \"Gore, Al<br>Democrat<br>149022 / 294308 votes\\n\", \"Bush, George W.<br>Republican<br>1437490 / 2739447 votes\\n\", \"Gore, Al<br>Democrat<br>1247652 / 2487433 votes\\n\", \"Bush, George W.<br>Republican<br>336475 / 648124 votes\\n\", \"Gore, Al<br>Democrat<br>1242987 / 2598607 votes\\n\", \"Bush, George W.<br>Republican<br>147947 / 213726 votes\\n\"], \"type\": \"choropleth\", \"z\": [1, 1, 1, 1, 0, 1, 0, 0, 0, 1, 1, 0, 1, 0, 1, 0, 1, 1, 1, 0, 0, 0, 0, 1, 1, 1, 1, 1, 1, 1, 0, 0, 0, 1, 1, 1, 1, 0, 0, 0, 1, 1, 1, 1, 1, 0, 1, 0, 1, 0, 1]}, {\"colorscale\": [[0.0, \"#0015BC\"], [1.0, \"#DE0100\"]], \"hovertemplate\": \"%{location}<br>%{text}<extra></extra>\", \"locationmode\": \"USA-states\", \"locations\": [\"AL\", \"AK\", \"AZ\", \"AR\", \"CA\", \"CO\", \"CT\", \"DE\", \"DC\", \"FL\", \"GA\", \"HI\", \"ID\", \"IL\", \"IN\", \"IA\", \"KS\", \"KY\", \"LA\", \"ME\", \"MD\", \"MA\", \"MI\", \"MN\", \"MS\", \"MO\", \"MT\", \"NE\", \"NV\", \"NH\", \"NJ\", \"NM\", \"NY\", \"NC\", \"ND\", \"OH\", \"OK\", \"OR\", \"PA\", \"RI\", \"SC\", \"SD\", \"TN\", \"TX\", \"UT\", \"VT\", \"VA\", \"WA\", \"WV\", \"WI\", \"WY\"], \"showlegend\": false, \"showscale\": false, \"text\": [\"Bush, George W.<br>Republican<br>1176394 / 1883415 votes\\n\", \"Bush, George W.<br>Republican<br>190889 / 312598 votes\\n\", \"Bush, George W.<br>Republican<br>1104294 / 2012585 votes\\n\", \"Bush, George W.<br>Republican<br>572898 / 1054945 votes\\n\", \"Kerry, John<br>Democrat<br>6745485 / 12421353 votes\\n\", \"Bush, George W.<br>Republican<br>1101255 / 2129630 votes\\n\", \"Kerry, John<br>Democrat<br>857488 / 1578769 votes\\n\", \"Kerry, John<br>Democrat<br>200152 / 375190 votes\\n\", \"Kerry, John<br>Democrat<br>202970 / 227586 votes\\n\", \"Bush, George W.<br>Republican<br>3964522 / 7609810 votes\\n\", \"Bush, George W.<br>Republican<br>1914254 / 3301875 votes\\n\", \"Kerry, John<br>Democrat<br>231708 / 429013 votes\\n\", \"Bush, George W.<br>Republican<br>409235 / 598376 votes\\n\", \"Kerry, John<br>Democrat<br>2891550 / 5274322 votes\\n\", \"Bush, George W.<br>Republican<br>1479438 / 2468002 votes\\n\", \"Bush, George W.<br>Republican<br>751957 / 1506908 votes\\n\", \"Bush, George W.<br>Republican<br>736456 / 1187756 votes\\n\", \"Bush, George W.<br>Republican<br>1069439 / 1795882 votes\\n\", \"Bush, George W.<br>Republican<br>1102169 / 1943106 votes\\n\", \"Kerry, John<br>Democrat<br>396842 / 740752 votes\\n\", \"Kerry, John<br>Democrat<br>1334493 / 2384238 votes\\n\", \"Kerry, John<br>Democrat<br>1803800 / 2927455 votes\\n\", \"Kerry, John<br>Democrat<br>2479183 / 4839252 votes\\n\", \"Kerry, John<br>Democratic-Farmer-Labor<br>1445014 / 2828387 votes\\n\", \"Bush, George W.<br>Republican<br>672660 / 1139824 votes\\n\", \"Bush, George W.<br>Republican<br>1455713 / 2731364 votes\\n\", \"Bush, George W.<br>Republican<br>266063 / 450434 votes\\n\", \"Bush, George W.<br>Republican<br>512814 / 778186 votes\\n\", \"Bush, George W.<br>Republican<br>418690 / 829587 votes\\n\", \"Kerry, John<br>Democrat<br>340511 / 678287 votes\\n\", \"Kerry, John<br>Democrat<br>1911430 / 3611691 votes\\n\", \"Bush, George W.<br>Republican<br>376930 / 756304 votes\\n\", \"Kerry, John<br>Democrat<br>4180755 / 7448266 votes\\n\", \"Bush, George W.<br>Republican<br>1961166 / 3501007 votes\\n\", \"Bush, George W.<br>Republican<br>196651 / 312833 votes\\n\", \"Bush, George W.<br>Republican<br>2859764 / 5627903 votes\\n\", \"Bush, George W.<br>Republican<br>959792 / 1463758 votes\\n\", \"Kerry, John<br>Democrat<br>943163 / 1836782 votes\\n\", \"Kerry, John<br>Democrat<br>2938095 / 5769590 votes\\n\", \"Kerry, John<br>Democrat<br>259760 / 437134 votes\\n\", \"Bush, George W.<br>Republican<br>937974 / 1617700 votes\\n\", \"Bush, George W.<br>Republican<br>232584 / 388215 votes\\n\", \"Bush, George W.<br>Republican<br>1384375 / 2437319 votes\\n\", \"Bush, George W.<br>Republican<br>4526917 / 7410749 votes\\n\", \"Bush, George W.<br>Republican<br>663742 / 927844 votes\\n\", \"Kerry, John<br>Democrat<br>184067 / 312309 votes\\n\", \"Bush, George W.<br>Republican<br>1716959 / 3195415 votes\\n\", \"Kerry, John<br>Democrat<br>1510201 / 2859084 votes\\n\", \"Bush, George W.<br>Republican<br>423778 / 755792 votes\\n\", \"Kerry, John<br>Democrat<br>1489504 / 2997007 votes\\n\", \"Bush, George W.<br>Republican<br>167629 / 243861 votes\\n\"], \"type\": \"choropleth\", \"z\": [1, 1, 1, 1, 0, 1, 0, 0, 0, 1, 1, 0, 1, 0, 1, 1, 1, 1, 1, 0, 0, 0, 0, 1, 1, 1, 1, 1, 1, 0, 0, 1, 0, 1, 1, 1, 1, 0, 0, 0, 1, 1, 1, 1, 1, 0, 1, 0, 1, 0, 1]}, {\"colorscale\": [[0.0, \"#0015BC\"], [1.0, \"#DE0100\"]], \"hovertemplate\": \"%{location}<br>%{text}<extra></extra>\", \"locationmode\": \"USA-states\", \"locations\": [\"AL\", \"AK\", \"AZ\", \"AR\", \"CA\", \"CO\", \"CT\", \"DE\", \"DC\", \"FL\", \"GA\", \"HI\", \"ID\", \"IL\", \"IN\", \"IA\", \"KS\", \"KY\", \"LA\", \"ME\", \"MD\", \"MA\", \"MI\", \"MN\", \"MS\", \"MO\", \"MT\", \"NE\", \"NV\", \"NH\", \"NJ\", \"NM\", \"NY\", \"NC\", \"ND\", \"OH\", \"OK\", \"OR\", \"PA\", \"RI\", \"SC\", \"SD\", \"TN\", \"TX\", \"UT\", \"VT\", \"VA\", \"WA\", \"WV\", \"WI\", \"WY\"], \"showlegend\": false, \"showscale\": false, \"text\": [\"McCain, John<br>Republican<br>1266546 / 2099819 votes\\n\", \"McCain, John<br>Republican<br>193841 / 326197 votes\\n\", \"McCain, John<br>Republican<br>1230111 / 2293475 votes\\n\", \"McCain, John<br>Republican<br>638017 / 1086617 votes\\n\", \"Obama, Barack H.<br>Democrat<br>8274473 / 13561900 votes\\n\", \"Obama, Barack H.<br>Democrat<br>1288576 / 2401361 votes\\n\", \"Obama, Barack H.<br>Democrat<br>997772 / 1646792 votes\\n\", \"Obama, Barack H.<br>Democrat<br>255459 / 412412 votes\\n\", \"Obama, Barack H.<br>Democrat<br>245800 / 265853 votes\\n\", \"Obama, Barack H.<br>Democrat<br>4282074 / 8390744 votes\\n\", \"McCain, John<br>Republican<br>2048759 / 3924486 votes\\n\", \"Obama, Barack H.<br>Democrat<br>325871 / 456064 votes\\n\", \"McCain, John<br>Republican<br>403012 / 655122 votes\\n\", \"Obama, Barack H.<br>Democrat<br>3419348 / 5522371 votes\\n\", \"Obama, Barack H.<br>Democrat<br>1374039 / 2751054 votes\\n\", \"Obama, Barack H.<br>Democrat<br>828940 / 1537123 votes\\n\", \"McCain, John<br>Republican<br>699655 / 1235872 votes\\n\", \"McCain, John<br>Republican<br>1048462 / 1826620 votes\\n\", \"McCain, John<br>Republican<br>1148275 / 1960761 votes\\n\", \"Obama, Barack H.<br>Democrat<br>421923 / 731163 votes\\n\", \"Obama, Barack H.<br>Democrat<br>1629467 / 2631596 votes\\n\", \"Obama, Barack H.<br>Democrat<br>1904097 / 3102995 votes\\n\", \"Obama, Barack H.<br>Democrat<br>2872579 / 5001596 votes\\n\", \"Obama, Barack H.<br>Democrat<br>1573354 / 2910369 votes\\n\", \"McCain, John<br>Republican<br>724597 / 1289865 votes\\n\", \"McCain, John<br>Republican<br>1445814 / 2925205 votes\\n\", \"McCain, John<br>Republican<br>242763 / 490109 votes\\n\", \"McCain, John<br>Republican<br>452979 / 801281 votes\\n\", \"Obama, Barack H.<br>Democrat<br>533736 / 967848 votes\\n\", \"Obama, Barack H.<br>Democrat<br>384826 / 710970 votes\\n\", \"Obama, Barack H.<br>Democrat<br>2215422 / 3868237 votes\\n\", \"Obama, Barack H.<br>Democrat<br>472422 / 830158 votes\\n\", \"Obama, Barack H.<br>Democrat<br>4645332 / 7722019 votes\\n\", \"Obama, Barack H.<br>Democrat<br>2142651 / 4310851 votes\\n\", \"McCain, John<br>Republican<br>168601 / 316621 votes\\n\", \"Obama, Barack H.<br>Democrat<br>2940044 / 5708350 votes\\n\", \"McCain, John<br>Republican<br>960165 / 1462661 votes\\n\", \"Obama, Barack H.<br>Democrat<br>1037291 / 1827864 votes\\n\", \"Obama, Barack H.<br>Democrat<br>3276363 / 6013272 votes\\n\", \"Obama, Barack H.<br>Democrat<br>296571 / 471766 votes\\n\", \"McCain, John<br>Republican<br>1034896 / 1920969 votes\\n\", \"McCain, John<br>Republican<br>203054 / 381975 votes\\n\", \"McCain, John<br>Republican<br>1479178 / 2599749 votes\\n\", \"McCain, John<br>Republican<br>4479328 / 8077795 votes\\n\", \"McCain, John<br>Republican<br>596030 / 952370 votes\\n\", \"Obama, Barack H.<br>Democrat<br>219262 / 325046 votes\\n\", \"Obama, Barack H.<br>Democrat<br>1959532 / 3723260 votes\\n\", \"Obama, Barack H.<br>Democrat<br>1750848 / 3036878 votes\\n\", \"McCain, John<br>Republican<br>397466 / 713451 votes\\n\", \"Obama, Barack H.<br>Democrat<br>1677211 / 2983417 votes\\n\", \"McCain, John<br>Republican<br>164958 / 254904 votes\\n\"], \"type\": \"choropleth\", \"z\": [1, 1, 1, 1, 0, 0, 0, 0, 0, 0, 1, 0, 1, 0, 0, 0, 1, 1, 1, 0, 0, 0, 0, 0, 1, 1, 1, 1, 0, 0, 0, 0, 0, 0, 1, 0, 1, 0, 0, 0, 1, 1, 1, 1, 1, 0, 0, 0, 1, 0, 1]}, {\"colorscale\": [[0.0, \"#0015BC\"], [1.0, \"#DE0100\"]], \"hovertemplate\": \"%{location}<br>%{text}<extra></extra>\", \"locationmode\": \"USA-states\", \"locations\": [\"AL\", \"AK\", \"AZ\", \"AR\", \"CA\", \"CO\", \"CT\", \"DE\", \"DC\", \"FL\", \"GA\", \"HI\", \"ID\", \"IL\", \"IN\", \"IA\", \"KS\", \"KY\", \"LA\", \"ME\", \"MD\", \"MA\", \"MI\", \"MN\", \"MS\", \"MO\", \"MT\", \"NE\", \"NV\", \"NH\", \"NJ\", \"NM\", \"NY\", \"NC\", \"ND\", \"OH\", \"OK\", \"OR\", \"PA\", \"RI\", \"SC\", \"SD\", \"TN\", \"TX\", \"UT\", \"VT\", \"VA\", \"WA\", \"WV\", \"WI\", \"WY\"], \"showlegend\": false, \"showscale\": false, \"text\": [\"Romney, Mitt<br>Republican<br>1255925 / 2074338 votes\\n\", \"Romney, Mitt<br>Republican<br>164676 / 300495 votes\\n\", \"Romney, Mitt<br>Republican<br>1233654 / 2299254 votes\\n\", \"Romney, Mitt<br>Republican<br>647744 / 1069468 votes\\n\", \"Obama, Barack H.<br>Democrat<br>7854285 / 13038547 votes\\n\", \"Obama, Barack H.<br>Democrat<br>1323101 / 2569516 votes\\n\", \"Obama, Barack H.<br>Democrat<br>905083 / 1558204 votes\\n\", \"Obama, Barack H.<br>Democrat<br>242584 / 413890 votes\\n\", \"Obama, Barack H.<br>Democrat<br>267070 / 293764 votes\\n\", \"Obama, Barack H.<br>Democrat<br>4237756 / 8474179 votes\\n\", \"Romney, Mitt<br>Republican<br>2078688 / 3897839 votes\\n\", \"Obama, Barack H.<br>Democrat<br>306658 / 437159 votes\\n\", \"Romney, Mitt<br>Republican<br>420911 / 652274 votes\\n\", \"Obama, Barack H.<br>Democrat<br>3019512 / 5242014 votes\\n\", \"Romney, Mitt<br>Republican<br>1420543 / 2624534 votes\\n\", \"Obama, Barack H.<br>Democrat<br>822544 / 1582180 votes\\n\", \"Romney, Mitt<br>Republican<br>692634 / 1159971 votes\\n\", \"Romney, Mitt<br>Republican<br>1087190 / 1797212 votes\\n\", \"Romney, Mitt<br>Republican<br>1152262 / 1994065 votes\\n\", \"Obama, Barack H.<br>Democrat<br>401306 / 724758 votes\\n\", \"Obama, Barack H.<br>Democrat<br>1677844 / 2707327 votes\\n\", \"Obama, Barack H.<br>Democrat<br>1921290 / 3184196 votes\\n\", \"Obama, Barack H.<br>Democrat<br>2564569 / 4730961 votes\\n\", \"Obama, Barack H.<br>Democratic-Farmer-Labor<br>1546167 / 2936561 votes\\n\", \"Romney, Mitt<br>Republican<br>710746 / 1285584 votes\\n\", \"Romney, Mitt<br>Republican<br>1482440 / 2757323 votes\\n\", \"Romney, Mitt<br>Republican<br>267928 / 484048 votes\\n\", \"Romney, Mitt<br>Republican<br>475064 / 794379 votes\\n\", \"Obama, Barack H.<br>Democrat<br>531373 / 1014918 votes\\n\", \"Obama, Barack H.<br>Democrat<br>369561 / 710972 votes\\n\", \"Obama, Barack H.<br>Democrat<br>2122786 / 3638499 votes\\n\", \"Obama, Barack H.<br>Democrat<br>415335 / 783758 votes\\n\", \"Obama, Barack H.<br>Democrat<br>4324228 / 7116784 votes\\n\", \"Romney, Mitt<br>Republican<br>2270395 / 4505372 votes\\n\", \"Romney, Mitt<br>Republican<br>188320 / 322932 votes\\n\", \"Obama, Barack H.<br>Democrat<br>2827621 / 5580822 votes\\n\", \"Romney, Mitt<br>Republican<br>891325 / 1334872 votes\\n\", \"Obama, Barack H.<br>Democrat<br>970488 / 1789270 votes\\n\", \"Obama, Barack H.<br>Democrat<br>2990274 / 5742040 votes\\n\", \"Obama, Barack H.<br>Democrat<br>279677 / 446049 votes\\n\", \"Romney, Mitt<br>Republican<br>1071645 / 1964118 votes\\n\", \"Romney, Mitt<br>Republican<br>210610 / 363815 votes\\n\", \"Romney, Mitt<br>Republican<br>1462330 / 2458577 votes\\n\", \"Romney, Mitt<br>Republican<br>4569843 / 7993851 votes\\n\", \"Romney, Mitt<br>Republican<br>740600 / 1017440 votes\\n\", \"Obama, Barack H.<br>Democrat<br>199239 / 299290 votes\\n\", \"Obama, Barack H.<br>Democrat<br>1971820 / 3854489 votes\\n\", \"Obama, Barack H.<br>Democrat<br>1755396 / 3125516 votes\\n\", \"Romney, Mitt<br>Republican<br>417655 / 670438 votes\\n\", \"Obama, Barack H.<br>Democrat<br>1620985 / 3071434 votes\\n\", \"Romney, Mitt<br>Republican<br>170962 / 250701 votes\\n\"], \"type\": \"choropleth\", \"z\": [1, 1, 1, 1, 0, 0, 0, 0, 0, 0, 1, 0, 1, 0, 1, 0, 1, 1, 1, 0, 0, 0, 0, 1, 1, 1, 1, 1, 0, 0, 0, 0, 0, 1, 1, 0, 1, 0, 0, 0, 1, 1, 1, 1, 1, 0, 0, 0, 1, 0, 1]}, {\"colorscale\": [[0.0, \"#0015BC\"], [1.0, \"#DE0100\"]], \"hovertemplate\": \"%{location}<br>%{text}<extra></extra>\", \"locationmode\": \"USA-states\", \"locations\": [\"AL\", \"AK\", \"AZ\", \"AR\", \"CA\", \"CO\", \"CT\", \"DE\", \"DC\", \"FL\", \"GA\", \"HI\", \"ID\", \"IL\", \"IN\", \"IA\", \"KS\", \"KY\", \"LA\", \"ME\", \"MD\", \"MA\", \"MI\", \"MN\", \"MS\", \"MO\", \"MT\", \"NE\", \"NV\", \"NH\", \"NJ\", \"NM\", \"NY\", \"NC\", \"ND\", \"OH\", \"OK\", \"OR\", \"PA\", \"RI\", \"SC\", \"SD\", \"TN\", \"TX\", \"UT\", \"VT\", \"VA\", \"WA\", \"WV\", \"WI\", \"WY\"], \"showlegend\": false, \"showscale\": false, \"text\": [\"Trump, Donald J.<br>Republican<br>1318255 / 2123372 votes\\n\", \"Trump, Donald J.<br>Republican<br>163387 / 318608 votes\\n\", \"Trump, Donald J.<br>Republican<br>1252401 / 2573165 votes\\n\", \"Trump, Donald J.<br>Republican<br>684872 / 1130635 votes\\n\", \"Clinton, Hillary<br>Democrat<br>8753788 / 14181595 votes\\n\", \"Clinton, Hillary<br>Democrat<br>1338870 / 2780220 votes\\n\", \"Clinton, Hillary<br>Democrat<br>897572 / 1644920 votes\\n\", \"Clinton, Hillary<br>Democrat<br>235603 / 441590 votes\\n\", \"Clinton, Hillary<br>Democrat<br>282830 / 312575 votes\\n\", \"Trump, Donald J.<br>Republican<br>4617886 / 9420039 votes\\n\", \"Trump, Donald J.<br>Republican<br>2089104 / 4114732 votes\\n\", \"Clinton, Hillary<br>Democrat<br>266891 / 437664 votes\\n\", \"Trump, Donald J.<br>Republican<br>409055 / 690255 votes\\n\", \"Clinton, Hillary<br>Democrat<br>3090729 / 5536424 votes\\n\", \"Trump, Donald J.<br>Republican<br>1557286 / 2734958 votes\\n\", \"Trump, Donald J.<br>Republican<br>800983 / 1565580 votes\\n\", \"Trump, Donald J.<br>Republican<br>671018 / 1184402 votes\\n\", \"Trump, Donald J.<br>Republican<br>1202971 / 1924149 votes\\n\", \"Trump, Donald J.<br>Republican<br>1178638 / 2029032 votes\\n\", \"Clinton, Hillary<br>Democrat<br>357735 / 771892 votes\\n\", \"Clinton, Hillary<br>Democrat<br>1677928 / 2781446 votes\\n\", \"Clinton, Hillary<br>Democrat<br>1995196 / 3378821 votes\\n\", \"Trump, Donald J.<br>Republican<br>2279543 / 4799284 votes\\n\", \"Clinton, Hillary<br>Democrat<br>1367705 / 2944782 votes\\n\", \"Trump, Donald J.<br>Republican<br>700714 / 1209357 votes\\n\", \"Trump, Donald J.<br>Republican<br>1594511 / 2808605 votes\\n\", \"Trump, Donald J.<br>Republican<br>279240 / 494526 votes\\n\", \"Trump, Donald J.<br>Republican<br>495961 / 844227 votes\\n\", \"Clinton, Hillary<br>Democrat<br>539260 / 1125385 votes\\n\", \"Clinton, Hillary<br>Democrat<br>348526 / 744296 votes\\n\", \"Clinton, Hillary<br>Democrat<br>2148278 / 3874046 votes\\n\", \"Clinton, Hillary<br>Democrat<br>385234 / 798319 votes\\n\", \"Clinton, Hillary<br>Democrat<br>4379789 / 7802084 votes\\n\", \"Trump, Donald J.<br>Republican<br>2362631 / 4741564 votes\\n\", \"Trump, Donald J.<br>Republican<br>216794 / 344360 votes\\n\", \"Trump, Donald J.<br>Republican<br>2841005 / 5496487 votes\\n\", \"Trump, Donald J.<br>Republican<br>949136 / 1452992 votes\\n\", \"Clinton, Hillary<br>Democrat<br>1002106 / 2001336 votes\\n\", \"Trump, Donald J.<br>Republican<br>2970733 / 6115402 votes\\n\", \"Clinton, Hillary<br>Democrat<br>252525 / 464144 votes\\n\", \"Trump, Donald J.<br>Republican<br>1155389 / 2103027 votes\\n\", \"Trump, Donald J.<br>Republican<br>227721 / 370093 votes\\n\", \"Trump, Donald J.<br>Republican<br>1522925 / 2508027 votes\\n\", \"Trump, Donald J.<br>Republican<br>4685047 / 8969226 votes\\n\", \"Trump, Donald J.<br>Republican<br>515211 / 1131317 votes\\n\", \"Clinton, Hillary<br>Democrat<br>178573 / 320467 votes\\n\", \"Clinton, Hillary<br>Democrat<br>1981473 / 3982752 votes\\n\", \"Clinton, Hillary<br>Democrat<br>1742718 / 3317019 votes\\n\", \"Trump, Donald J.<br>Republican<br>489371 / 713051 votes\\n\", \"Trump, Donald J.<br>Republican<br>1405284 / 2976150 votes\\n\", \"Trump, Donald J.<br>Republican<br>174419 / 258788 votes\\n\"], \"type\": \"choropleth\", \"z\": [1, 1, 1, 1, 0, 0, 0, 0, 0, 1, 1, 0, 1, 0, 1, 1, 1, 1, 1, 0, 0, 0, 1, 0, 1, 1, 1, 1, 0, 0, 0, 0, 0, 1, 1, 1, 1, 0, 1, 0, 1, 1, 1, 1, 1, 0, 0, 0, 1, 1, 1]}],                        {\"geo\": {\"projection\": {\"type\": \"albers usa\"}, \"scope\": \"usa\"}, \"sliders\": [{\"active\": 10, \"pad\": {\"t\": 1}, \"steps\": [{\"args\": [\"visible\", [true, false, false, false, false, false, false, false, false, false, false]], \"label\": \"Year 1976\", \"method\": \"restyle\"}, {\"args\": [\"visible\", [false, true, false, false, false, false, false, false, false, false, false]], \"label\": \"Year 1980\", \"method\": \"restyle\"}, {\"args\": [\"visible\", [false, false, true, false, false, false, false, false, false, false, false]], \"label\": \"Year 1984\", \"method\": \"restyle\"}, {\"args\": [\"visible\", [false, false, false, true, false, false, false, false, false, false, false]], \"label\": \"Year 1988\", \"method\": \"restyle\"}, {\"args\": [\"visible\", [false, false, false, false, true, false, false, false, false, false, false]], \"label\": \"Year 1992\", \"method\": \"restyle\"}, {\"args\": [\"visible\", [false, false, false, false, false, true, false, false, false, false, false]], \"label\": \"Year 1996\", \"method\": \"restyle\"}, {\"args\": [\"visible\", [false, false, false, false, false, false, true, false, false, false, false]], \"label\": \"Year 2000\", \"method\": \"restyle\"}, {\"args\": [\"visible\", [false, false, false, false, false, false, false, true, false, false, false]], \"label\": \"Year 2004\", \"method\": \"restyle\"}, {\"args\": [\"visible\", [false, false, false, false, false, false, false, false, true, false, false]], \"label\": \"Year 2008\", \"method\": \"restyle\"}, {\"args\": [\"visible\", [false, false, false, false, false, false, false, false, false, true, false]], \"label\": \"Year 2012\", \"method\": \"restyle\"}, {\"args\": [\"visible\", [false, false, false, false, false, false, false, false, false, false, true]], \"label\": \"Year 2016\", \"method\": \"restyle\"}]}], \"template\": {\"data\": {\"bar\": [{\"error_x\": {\"color\": \"#2a3f5f\"}, \"error_y\": {\"color\": \"#2a3f5f\"}, \"marker\": {\"line\": {\"color\": \"#E5ECF6\", \"width\": 0.5}}, \"type\": \"bar\"}], \"barpolar\": [{\"marker\": {\"line\": {\"color\": \"#E5ECF6\", \"width\": 0.5}}, \"type\": \"barpolar\"}], \"carpet\": [{\"aaxis\": {\"endlinecolor\": \"#2a3f5f\", \"gridcolor\": \"white\", \"linecolor\": \"white\", \"minorgridcolor\": \"white\", \"startlinecolor\": \"#2a3f5f\"}, \"baxis\": {\"endlinecolor\": \"#2a3f5f\", \"gridcolor\": \"white\", \"linecolor\": \"white\", \"minorgridcolor\": \"white\", \"startlinecolor\": \"#2a3f5f\"}, \"type\": \"carpet\"}], \"choropleth\": [{\"colorbar\": {\"outlinewidth\": 0, \"ticks\": \"\"}, \"type\": \"choropleth\"}], \"contour\": [{\"colorbar\": {\"outlinewidth\": 0, \"ticks\": \"\"}, \"colorscale\": [[0.0, \"#0d0887\"], [0.1111111111111111, \"#46039f\"], [0.2222222222222222, \"#7201a8\"], [0.3333333333333333, \"#9c179e\"], [0.4444444444444444, \"#bd3786\"], [0.5555555555555556, \"#d8576b\"], [0.6666666666666666, \"#ed7953\"], [0.7777777777777778, \"#fb9f3a\"], [0.8888888888888888, \"#fdca26\"], [1.0, \"#f0f921\"]], \"type\": \"contour\"}], \"contourcarpet\": [{\"colorbar\": {\"outlinewidth\": 0, \"ticks\": \"\"}, \"type\": \"contourcarpet\"}], \"heatmap\": [{\"colorbar\": {\"outlinewidth\": 0, \"ticks\": \"\"}, \"colorscale\": [[0.0, \"#0d0887\"], [0.1111111111111111, \"#46039f\"], [0.2222222222222222, \"#7201a8\"], [0.3333333333333333, \"#9c179e\"], [0.4444444444444444, \"#bd3786\"], [0.5555555555555556, \"#d8576b\"], [0.6666666666666666, \"#ed7953\"], [0.7777777777777778, \"#fb9f3a\"], [0.8888888888888888, \"#fdca26\"], [1.0, \"#f0f921\"]], \"type\": \"heatmap\"}], \"heatmapgl\": [{\"colorbar\": {\"outlinewidth\": 0, \"ticks\": \"\"}, \"colorscale\": [[0.0, \"#0d0887\"], [0.1111111111111111, \"#46039f\"], [0.2222222222222222, \"#7201a8\"], [0.3333333333333333, \"#9c179e\"], [0.4444444444444444, \"#bd3786\"], [0.5555555555555556, \"#d8576b\"], [0.6666666666666666, \"#ed7953\"], [0.7777777777777778, \"#fb9f3a\"], [0.8888888888888888, \"#fdca26\"], [1.0, \"#f0f921\"]], \"type\": \"heatmapgl\"}], \"histogram\": [{\"marker\": {\"colorbar\": {\"outlinewidth\": 0, \"ticks\": \"\"}}, \"type\": \"histogram\"}], \"histogram2d\": [{\"colorbar\": {\"outlinewidth\": 0, \"ticks\": \"\"}, \"colorscale\": [[0.0, \"#0d0887\"], [0.1111111111111111, \"#46039f\"], [0.2222222222222222, \"#7201a8\"], [0.3333333333333333, \"#9c179e\"], [0.4444444444444444, \"#bd3786\"], [0.5555555555555556, \"#d8576b\"], [0.6666666666666666, \"#ed7953\"], [0.7777777777777778, \"#fb9f3a\"], [0.8888888888888888, \"#fdca26\"], [1.0, \"#f0f921\"]], \"type\": \"histogram2d\"}], \"histogram2dcontour\": [{\"colorbar\": {\"outlinewidth\": 0, \"ticks\": \"\"}, \"colorscale\": [[0.0, \"#0d0887\"], [0.1111111111111111, \"#46039f\"], [0.2222222222222222, \"#7201a8\"], [0.3333333333333333, \"#9c179e\"], [0.4444444444444444, \"#bd3786\"], [0.5555555555555556, \"#d8576b\"], [0.6666666666666666, \"#ed7953\"], [0.7777777777777778, \"#fb9f3a\"], [0.8888888888888888, \"#fdca26\"], [1.0, \"#f0f921\"]], \"type\": \"histogram2dcontour\"}], \"mesh3d\": [{\"colorbar\": {\"outlinewidth\": 0, \"ticks\": \"\"}, \"type\": \"mesh3d\"}], \"parcoords\": [{\"line\": {\"colorbar\": {\"outlinewidth\": 0, \"ticks\": \"\"}}, \"type\": \"parcoords\"}], \"pie\": [{\"automargin\": true, \"type\": \"pie\"}], \"scatter\": [{\"marker\": {\"colorbar\": {\"outlinewidth\": 0, \"ticks\": \"\"}}, \"type\": \"scatter\"}], \"scatter3d\": [{\"line\": {\"colorbar\": {\"outlinewidth\": 0, \"ticks\": \"\"}}, \"marker\": {\"colorbar\": {\"outlinewidth\": 0, \"ticks\": \"\"}}, \"type\": \"scatter3d\"}], \"scattercarpet\": [{\"marker\": {\"colorbar\": {\"outlinewidth\": 0, \"ticks\": \"\"}}, \"type\": \"scattercarpet\"}], \"scattergeo\": [{\"marker\": {\"colorbar\": {\"outlinewidth\": 0, \"ticks\": \"\"}}, \"type\": \"scattergeo\"}], \"scattergl\": [{\"marker\": {\"colorbar\": {\"outlinewidth\": 0, \"ticks\": \"\"}}, \"type\": \"scattergl\"}], \"scattermapbox\": [{\"marker\": {\"colorbar\": {\"outlinewidth\": 0, \"ticks\": \"\"}}, \"type\": \"scattermapbox\"}], \"scatterpolar\": [{\"marker\": {\"colorbar\": {\"outlinewidth\": 0, \"ticks\": \"\"}}, \"type\": \"scatterpolar\"}], \"scatterpolargl\": [{\"marker\": {\"colorbar\": {\"outlinewidth\": 0, \"ticks\": \"\"}}, \"type\": \"scatterpolargl\"}], \"scatterternary\": [{\"marker\": {\"colorbar\": {\"outlinewidth\": 0, \"ticks\": \"\"}}, \"type\": \"scatterternary\"}], \"surface\": [{\"colorbar\": {\"outlinewidth\": 0, \"ticks\": \"\"}, \"colorscale\": [[0.0, \"#0d0887\"], [0.1111111111111111, \"#46039f\"], [0.2222222222222222, \"#7201a8\"], [0.3333333333333333, \"#9c179e\"], [0.4444444444444444, \"#bd3786\"], [0.5555555555555556, \"#d8576b\"], [0.6666666666666666, \"#ed7953\"], [0.7777777777777778, \"#fb9f3a\"], [0.8888888888888888, \"#fdca26\"], [1.0, \"#f0f921\"]], \"type\": \"surface\"}], \"table\": [{\"cells\": {\"fill\": {\"color\": \"#EBF0F8\"}, \"line\": {\"color\": \"white\"}}, \"header\": {\"fill\": {\"color\": \"#C8D4E3\"}, \"line\": {\"color\": \"white\"}}, \"type\": \"table\"}]}, \"layout\": {\"annotationdefaults\": {\"arrowcolor\": \"#2a3f5f\", \"arrowhead\": 0, \"arrowwidth\": 1}, \"coloraxis\": {\"colorbar\": {\"outlinewidth\": 0, \"ticks\": \"\"}}, \"colorscale\": {\"diverging\": [[0, \"#8e0152\"], [0.1, \"#c51b7d\"], [0.2, \"#de77ae\"], [0.3, \"#f1b6da\"], [0.4, \"#fde0ef\"], [0.5, \"#f7f7f7\"], [0.6, \"#e6f5d0\"], [0.7, \"#b8e186\"], [0.8, \"#7fbc41\"], [0.9, \"#4d9221\"], [1, \"#276419\"]], \"sequential\": [[0.0, \"#0d0887\"], [0.1111111111111111, \"#46039f\"], [0.2222222222222222, \"#7201a8\"], [0.3333333333333333, \"#9c179e\"], [0.4444444444444444, \"#bd3786\"], [0.5555555555555556, \"#d8576b\"], [0.6666666666666666, \"#ed7953\"], [0.7777777777777778, \"#fb9f3a\"], [0.8888888888888888, \"#fdca26\"], [1.0, \"#f0f921\"]], \"sequentialminus\": [[0.0, \"#0d0887\"], [0.1111111111111111, \"#46039f\"], [0.2222222222222222, \"#7201a8\"], [0.3333333333333333, \"#9c179e\"], [0.4444444444444444, \"#bd3786\"], [0.5555555555555556, \"#d8576b\"], [0.6666666666666666, \"#ed7953\"], [0.7777777777777778, \"#fb9f3a\"], [0.8888888888888888, \"#fdca26\"], [1.0, \"#f0f921\"]]}, \"colorway\": [\"#636efa\", \"#EF553B\", \"#00cc96\", \"#ab63fa\", \"#FFA15A\", \"#19d3f3\", \"#FF6692\", \"#B6E880\", \"#FF97FF\", \"#FECB52\"], \"font\": {\"color\": \"#2a3f5f\"}, \"geo\": {\"bgcolor\": \"white\", \"lakecolor\": \"white\", \"landcolor\": \"#E5ECF6\", \"showlakes\": true, \"showland\": true, \"subunitcolor\": \"white\"}, \"hoverlabel\": {\"align\": \"left\"}, \"hovermode\": \"closest\", \"mapbox\": {\"style\": \"light\"}, \"paper_bgcolor\": \"white\", \"plot_bgcolor\": \"#E5ECF6\", \"polar\": {\"angularaxis\": {\"gridcolor\": \"white\", \"linecolor\": \"white\", \"ticks\": \"\"}, \"bgcolor\": \"#E5ECF6\", \"radialaxis\": {\"gridcolor\": \"white\", \"linecolor\": \"white\", \"ticks\": \"\"}}, \"scene\": {\"xaxis\": {\"backgroundcolor\": \"#E5ECF6\", \"gridcolor\": \"white\", \"gridwidth\": 2, \"linecolor\": \"white\", \"showbackground\": true, \"ticks\": \"\", \"zerolinecolor\": \"white\"}, \"yaxis\": {\"backgroundcolor\": \"#E5ECF6\", \"gridcolor\": \"white\", \"gridwidth\": 2, \"linecolor\": \"white\", \"showbackground\": true, \"ticks\": \"\", \"zerolinecolor\": \"white\"}, \"zaxis\": {\"backgroundcolor\": \"#E5ECF6\", \"gridcolor\": \"white\", \"gridwidth\": 2, \"linecolor\": \"white\", \"showbackground\": true, \"ticks\": \"\", \"zerolinecolor\": \"white\"}}, \"shapedefaults\": {\"line\": {\"color\": \"#2a3f5f\"}}, \"ternary\": {\"aaxis\": {\"gridcolor\": \"white\", \"linecolor\": \"white\", \"ticks\": \"\"}, \"baxis\": {\"gridcolor\": \"white\", \"linecolor\": \"white\", \"ticks\": \"\"}, \"bgcolor\": \"#E5ECF6\", \"caxis\": {\"gridcolor\": \"white\", \"linecolor\": \"white\", \"ticks\": \"\"}}, \"title\": {\"x\": 0.05}, \"xaxis\": {\"automargin\": true, \"gridcolor\": \"white\", \"linecolor\": \"white\", \"ticks\": \"\", \"title\": {\"standoff\": 15}, \"zerolinecolor\": \"white\", \"zerolinewidth\": 2}, \"yaxis\": {\"automargin\": true, \"gridcolor\": \"white\", \"linecolor\": \"white\", \"ticks\": \"\", \"title\": {\"standoff\": 15}, \"zerolinecolor\": \"white\", \"zerolinewidth\": 2}}}, \"title\": {\"text\": \"US Popular Vote Election Map 1976-2016\"}},                        {\"responsive\": true}                    ).then(function(){\n",
       "                            \n",
       "var gd = document.getElementById('7295e29a-307d-45e5-a0c0-b8bf26978340');\n",
       "var x = new MutationObserver(function (mutations, observer) {{\n",
       "        var display = window.getComputedStyle(gd).display;\n",
       "        if (!display || display === 'none') {{\n",
       "            console.log([gd, 'removed!']);\n",
       "            Plotly.purge(gd);\n",
       "            observer.disconnect();\n",
       "        }}\n",
       "}});\n",
       "\n",
       "// Listen for the removal of the full notebook cells\n",
       "var notebookContainer = gd.closest('#notebook-container');\n",
       "if (notebookContainer) {{\n",
       "    x.observe(notebookContainer, {childList: true});\n",
       "}}\n",
       "\n",
       "// Listen for the clearing of the current output cell\n",
       "var outputEl = gd.closest('.output');\n",
       "if (outputEl) {{\n",
       "    x.observe(outputEl, {childList: true});\n",
       "}}\n",
       "\n",
       "                        })                };                });            </script>        </div>"
      ]
     },
     "metadata": {},
     "output_type": "display_data"
    },
    {
     "data": {
      "application/vnd.jupyter.widget-view+json": {
       "model_id": "e530e6a4e3284b118c0a1a22c776218b",
       "version_major": 2,
       "version_minor": 0
      },
      "text/plain": [
       "Canvas(toolbar=Toolbar(toolitems=[('Home', 'Reset original view', 'home', 'home'), ('Back', 'Back to previous …"
      ]
     },
     "metadata": {},
     "output_type": "display_data"
    },
    {
     "data": {
      "application/vnd.jupyter.widget-view+json": {
       "model_id": "1768df69ecfb47ca82bb012115c93b2d",
       "version_major": 2,
       "version_minor": 0
      },
      "text/plain": [
       "Canvas(toolbar=Toolbar(toolitems=[('Home', 'Reset original view', 'home', 'home'), ('Back', 'Back to previous …"
      ]
     },
     "metadata": {},
     "output_type": "display_data"
    },
    {
     "data": {
      "application/vnd.jupyter.widget-view+json": {
       "model_id": "6deaf2abba924c11a4f1ad25cbf5b2d2",
       "version_major": 2,
       "version_minor": 0
      },
      "text/plain": [
       "Canvas(toolbar=Toolbar(toolitems=[('Home', 'Reset original view', 'home', 'home'), ('Back', 'Back to previous …"
      ]
     },
     "metadata": {},
     "output_type": "display_data"
    },
    {
     "data": {
      "application/vnd.jupyter.widget-view+json": {
       "model_id": "ef31c9cd986b4eb58d1c78226e93af44",
       "version_major": 2,
       "version_minor": 0
      },
      "text/plain": [
       "Canvas(toolbar=Toolbar(toolitems=[('Home', 'Reset original view', 'home', 'home'), ('Back', 'Back to previous …"
      ]
     },
     "metadata": {},
     "output_type": "display_data"
    },
    {
     "data": {
      "application/vnd.jupyter.widget-view+json": {
       "model_id": "a03616f81e1e4774ba8151784f3cb388",
       "version_major": 2,
       "version_minor": 0
      },
      "text/plain": [
       "Canvas(toolbar=Toolbar(toolitems=[('Home', 'Reset original view', 'home', 'home'), ('Back', 'Back to previous …"
      ]
     },
     "metadata": {},
     "output_type": "display_data"
    },
    {
     "data": {
      "application/vnd.plotly.v1+json": {
       "config": {
        "linkText": "Export to plot.ly",
        "plotlyServerURL": "https://plot.ly",
        "showLink": false
       },
       "data": [
        {
         "colorscale": [
          [
           0,
           "#0015BC"
          ],
          [
           1,
           "#DE0100"
          ]
         ],
         "hovertemplate": "%{location}<br>%{text}<extra></extra>",
         "locationmode": "USA-states",
         "locations": [
          "AL",
          "AK",
          "AZ",
          "AR",
          "CA",
          "CO",
          "CT",
          "DE",
          "DC",
          "FL",
          "GA",
          "HI",
          "ID",
          "IL",
          "IN",
          "IA",
          "KS",
          "KY",
          "LA",
          "ME",
          "MD",
          "MA",
          "MI",
          "MN",
          "MS",
          "MO",
          "MT",
          "NE",
          "NV",
          "NH",
          "NJ",
          "NM",
          "NY",
          "NC",
          "ND",
          "OH",
          "OK",
          "OR",
          "PA",
          "RI",
          "SC",
          "SD",
          "TN",
          "TX",
          "UT",
          "VT",
          "VA",
          "WA",
          "WV",
          "WI",
          "WY"
         ],
         "showlegend": false,
         "showscale": false,
         "text": [
          "Republican Lean <br>Rep: 10378307 votes<br>Dem: 7474816 votes",
          "Republican Lean <br>Rep: 1520232 votes<br>Dem: 931882 votes",
          "Republican Lean <br>Rep: 9128558 votes<br>Dem: 7326637 votes",
          "Republican Lean <br>Rep: 5351630 votes<br>Dem: 4655456 votes",
          "Democratic Lean <br>Dem: 63180373 votes<br>Rep: 50798923 votes",
          "Republican Lean <br>Rep: 9487553 votes<br>Dem: 8896577 votes",
          "Democratic Lean <br>Dem: 8327796 votes<br>Rep: 7291466 votes",
          "Democratic Lean <br>Dem: 1818793 votes<br>Rep: 1526169 votes",
          "Democratic Lean <br>Dem: 2129296 votes<br>Rep: 236622 votes",
          "Republican Lean <br>Rep: 32987832 votes<br>Dem: 30300162 votes",
          "Republican Lean <br>Rep: 14914584 votes<br>Dem: 13332891 votes",
          "Democratic Lean <br>Dem: 2343508 votes<br>Rep: 1567019 votes",
          "Republican Lean <br>Rep: 3484644 votes<br>Dem: 1753706 votes",
          "Democratic Lean <br>Dem: 28360406 votes<br>Rep: 23739254 votes",
          "Republican Lean <br>Rep: 14159426 votes<br>Dem: 10727922 votes",
          "Democratic Lean <br>Dem: 7296959 votes<br>Rep: 7155177 votes",
          "Republican Lean <br>Rep: 6756200 votes<br>Dem: 4507214 votes",
          "Republican Lean <br>Rep: 9244152 votes<br>Dem: 7066624 votes",
          "Republican Lean <br>Rep: 10256487 votes<br>Dem: 8467599 votes",
          "Democratic Lean <br>Dem: 3385302 votes<br>Rep: 3051630 votes",
          "Democratic Lean <br>Dem: 12518530 votes<br>Rep: 9211406 votes",
          "Democratic Lean <br>Dem: 17255316 votes<br>Rep: 11454247 votes",
          "Democratic Lean <br>Dem: 22780090 votes<br>Rep: 21772499 votes",
          "Democratic Lean <br>Dem: 13029463 votes<br>Rep: 11959644 votes",
          "Republican Lean <br>Rep: 6257394 votes<br>Dem: 4786125 votes",
          "Republican Lean <br>Rep: 13230342 votes<br>Dem: 11966663 votes",
          "Republican Lean <br>Rep: 2423410 votes<br>Dem: 1827449 votes",
          "Republican Lean <br>Rep: 4714268 votes<br>Dem: 2706445 votes",
          "Republican Lean <br>Rep: 3134889 votes<br>Dem: 3058197 votes",
          "Republican Lean <br>Rep: 2952235 votes<br>Dem: 2705530 votes",
          "Democratic Lean <br>Dem: 18449025 votes<br>Rep: 16840435 votes",
          "Democratic Lean <br>Dem: 3281068 votes<br>Rep: 3150849 votes",
          "Democratic Lean <br>Dem: 40698152 votes<br>Rep: 27693375 votes",
          "Republican Lean <br>Rep: 16955145 votes<br>Dem: 15033244 votes",
          "Republican Lean <br>Rep: 1920786 votes<br>Dem: 1219846 votes",
          "Republican Lean <br>Rep: 26446831 votes<br>Dem: 24747228 votes",
          "Republican Lean <br>Rep: 8461174 votes<br>Dem: 5108802 votes",
          "Democratic Lean <br>Dem: 8044327 votes<br>Rep: 7178360 votes",
          "Democratic Lean <br>Dem: 27761415 votes<br>Rep: 26326922 votes",
          "Democratic Lean <br>Dem: 2632597 votes<br>Rep: 1764906 votes",
          "Republican Lean <br>Rep: 8145050 votes<br>Dem: 6437175 votes",
          "Republican Lean <br>Rep: 2067460 votes<br>Dem: 1478286 votes",
          "Republican Lean <br>Rep: 11974762 votes<br>Dem: 9780143 votes",
          "Republican Lean <br>Rep: 38227274 votes<br>Dem: 28988063 votes",
          "Republican Lean <br>Rep: 5390364 votes<br>Dem: 2428530 votes",
          "Democratic Lean <br>Dem: 1572904 votes<br>Rep: 1151681 votes",
          "Republican Lean <br>Rep: 15232689 votes<br>Dem: 13936686 votes",
          "Democratic Lean <br>Dem: 13222559 votes<br>Rep: 11325818 votes",
          "Republican Lean <br>Rep: 3905145 votes<br>Dem: 3484238 votes",
          "Democratic Lean <br>Dem: 13670610 votes<br>Rep: 12909841 votes",
          "Republican Lean <br>Rep: 1454175 votes<br>Dem: 717627 votes"
         ],
         "type": "choropleth",
         "z": [
          1,
          1,
          1,
          1,
          0,
          1,
          0,
          0,
          0,
          1,
          1,
          0,
          1,
          0,
          1,
          0,
          1,
          1,
          1,
          0,
          0,
          0,
          0,
          0,
          1,
          1,
          1,
          1,
          1,
          1,
          0,
          0,
          0,
          1,
          1,
          1,
          1,
          0,
          0,
          0,
          1,
          1,
          1,
          1,
          1,
          0,
          1,
          0,
          1,
          0,
          1
         ]
        }
       ],
       "layout": {
        "geo": {
         "projection": {
          "type": "albers usa"
         },
         "scope": "usa"
        },
        "template": {
         "data": {
          "bar": [
           {
            "error_x": {
             "color": "#2a3f5f"
            },
            "error_y": {
             "color": "#2a3f5f"
            },
            "marker": {
             "line": {
              "color": "#E5ECF6",
              "width": 0.5
             }
            },
            "type": "bar"
           }
          ],
          "barpolar": [
           {
            "marker": {
             "line": {
              "color": "#E5ECF6",
              "width": 0.5
             }
            },
            "type": "barpolar"
           }
          ],
          "carpet": [
           {
            "aaxis": {
             "endlinecolor": "#2a3f5f",
             "gridcolor": "white",
             "linecolor": "white",
             "minorgridcolor": "white",
             "startlinecolor": "#2a3f5f"
            },
            "baxis": {
             "endlinecolor": "#2a3f5f",
             "gridcolor": "white",
             "linecolor": "white",
             "minorgridcolor": "white",
             "startlinecolor": "#2a3f5f"
            },
            "type": "carpet"
           }
          ],
          "choropleth": [
           {
            "colorbar": {
             "outlinewidth": 0,
             "ticks": ""
            },
            "type": "choropleth"
           }
          ],
          "contour": [
           {
            "colorbar": {
             "outlinewidth": 0,
             "ticks": ""
            },
            "colorscale": [
             [
              0,
              "#0d0887"
             ],
             [
              0.1111111111111111,
              "#46039f"
             ],
             [
              0.2222222222222222,
              "#7201a8"
             ],
             [
              0.3333333333333333,
              "#9c179e"
             ],
             [
              0.4444444444444444,
              "#bd3786"
             ],
             [
              0.5555555555555556,
              "#d8576b"
             ],
             [
              0.6666666666666666,
              "#ed7953"
             ],
             [
              0.7777777777777778,
              "#fb9f3a"
             ],
             [
              0.8888888888888888,
              "#fdca26"
             ],
             [
              1,
              "#f0f921"
             ]
            ],
            "type": "contour"
           }
          ],
          "contourcarpet": [
           {
            "colorbar": {
             "outlinewidth": 0,
             "ticks": ""
            },
            "type": "contourcarpet"
           }
          ],
          "heatmap": [
           {
            "colorbar": {
             "outlinewidth": 0,
             "ticks": ""
            },
            "colorscale": [
             [
              0,
              "#0d0887"
             ],
             [
              0.1111111111111111,
              "#46039f"
             ],
             [
              0.2222222222222222,
              "#7201a8"
             ],
             [
              0.3333333333333333,
              "#9c179e"
             ],
             [
              0.4444444444444444,
              "#bd3786"
             ],
             [
              0.5555555555555556,
              "#d8576b"
             ],
             [
              0.6666666666666666,
              "#ed7953"
             ],
             [
              0.7777777777777778,
              "#fb9f3a"
             ],
             [
              0.8888888888888888,
              "#fdca26"
             ],
             [
              1,
              "#f0f921"
             ]
            ],
            "type": "heatmap"
           }
          ],
          "heatmapgl": [
           {
            "colorbar": {
             "outlinewidth": 0,
             "ticks": ""
            },
            "colorscale": [
             [
              0,
              "#0d0887"
             ],
             [
              0.1111111111111111,
              "#46039f"
             ],
             [
              0.2222222222222222,
              "#7201a8"
             ],
             [
              0.3333333333333333,
              "#9c179e"
             ],
             [
              0.4444444444444444,
              "#bd3786"
             ],
             [
              0.5555555555555556,
              "#d8576b"
             ],
             [
              0.6666666666666666,
              "#ed7953"
             ],
             [
              0.7777777777777778,
              "#fb9f3a"
             ],
             [
              0.8888888888888888,
              "#fdca26"
             ],
             [
              1,
              "#f0f921"
             ]
            ],
            "type": "heatmapgl"
           }
          ],
          "histogram": [
           {
            "marker": {
             "colorbar": {
              "outlinewidth": 0,
              "ticks": ""
             }
            },
            "type": "histogram"
           }
          ],
          "histogram2d": [
           {
            "colorbar": {
             "outlinewidth": 0,
             "ticks": ""
            },
            "colorscale": [
             [
              0,
              "#0d0887"
             ],
             [
              0.1111111111111111,
              "#46039f"
             ],
             [
              0.2222222222222222,
              "#7201a8"
             ],
             [
              0.3333333333333333,
              "#9c179e"
             ],
             [
              0.4444444444444444,
              "#bd3786"
             ],
             [
              0.5555555555555556,
              "#d8576b"
             ],
             [
              0.6666666666666666,
              "#ed7953"
             ],
             [
              0.7777777777777778,
              "#fb9f3a"
             ],
             [
              0.8888888888888888,
              "#fdca26"
             ],
             [
              1,
              "#f0f921"
             ]
            ],
            "type": "histogram2d"
           }
          ],
          "histogram2dcontour": [
           {
            "colorbar": {
             "outlinewidth": 0,
             "ticks": ""
            },
            "colorscale": [
             [
              0,
              "#0d0887"
             ],
             [
              0.1111111111111111,
              "#46039f"
             ],
             [
              0.2222222222222222,
              "#7201a8"
             ],
             [
              0.3333333333333333,
              "#9c179e"
             ],
             [
              0.4444444444444444,
              "#bd3786"
             ],
             [
              0.5555555555555556,
              "#d8576b"
             ],
             [
              0.6666666666666666,
              "#ed7953"
             ],
             [
              0.7777777777777778,
              "#fb9f3a"
             ],
             [
              0.8888888888888888,
              "#fdca26"
             ],
             [
              1,
              "#f0f921"
             ]
            ],
            "type": "histogram2dcontour"
           }
          ],
          "mesh3d": [
           {
            "colorbar": {
             "outlinewidth": 0,
             "ticks": ""
            },
            "type": "mesh3d"
           }
          ],
          "parcoords": [
           {
            "line": {
             "colorbar": {
              "outlinewidth": 0,
              "ticks": ""
             }
            },
            "type": "parcoords"
           }
          ],
          "pie": [
           {
            "automargin": true,
            "type": "pie"
           }
          ],
          "scatter": [
           {
            "marker": {
             "colorbar": {
              "outlinewidth": 0,
              "ticks": ""
             }
            },
            "type": "scatter"
           }
          ],
          "scatter3d": [
           {
            "line": {
             "colorbar": {
              "outlinewidth": 0,
              "ticks": ""
             }
            },
            "marker": {
             "colorbar": {
              "outlinewidth": 0,
              "ticks": ""
             }
            },
            "type": "scatter3d"
           }
          ],
          "scattercarpet": [
           {
            "marker": {
             "colorbar": {
              "outlinewidth": 0,
              "ticks": ""
             }
            },
            "type": "scattercarpet"
           }
          ],
          "scattergeo": [
           {
            "marker": {
             "colorbar": {
              "outlinewidth": 0,
              "ticks": ""
             }
            },
            "type": "scattergeo"
           }
          ],
          "scattergl": [
           {
            "marker": {
             "colorbar": {
              "outlinewidth": 0,
              "ticks": ""
             }
            },
            "type": "scattergl"
           }
          ],
          "scattermapbox": [
           {
            "marker": {
             "colorbar": {
              "outlinewidth": 0,
              "ticks": ""
             }
            },
            "type": "scattermapbox"
           }
          ],
          "scatterpolar": [
           {
            "marker": {
             "colorbar": {
              "outlinewidth": 0,
              "ticks": ""
             }
            },
            "type": "scatterpolar"
           }
          ],
          "scatterpolargl": [
           {
            "marker": {
             "colorbar": {
              "outlinewidth": 0,
              "ticks": ""
             }
            },
            "type": "scatterpolargl"
           }
          ],
          "scatterternary": [
           {
            "marker": {
             "colorbar": {
              "outlinewidth": 0,
              "ticks": ""
             }
            },
            "type": "scatterternary"
           }
          ],
          "surface": [
           {
            "colorbar": {
             "outlinewidth": 0,
             "ticks": ""
            },
            "colorscale": [
             [
              0,
              "#0d0887"
             ],
             [
              0.1111111111111111,
              "#46039f"
             ],
             [
              0.2222222222222222,
              "#7201a8"
             ],
             [
              0.3333333333333333,
              "#9c179e"
             ],
             [
              0.4444444444444444,
              "#bd3786"
             ],
             [
              0.5555555555555556,
              "#d8576b"
             ],
             [
              0.6666666666666666,
              "#ed7953"
             ],
             [
              0.7777777777777778,
              "#fb9f3a"
             ],
             [
              0.8888888888888888,
              "#fdca26"
             ],
             [
              1,
              "#f0f921"
             ]
            ],
            "type": "surface"
           }
          ],
          "table": [
           {
            "cells": {
             "fill": {
              "color": "#EBF0F8"
             },
             "line": {
              "color": "white"
             }
            },
            "header": {
             "fill": {
              "color": "#C8D4E3"
             },
             "line": {
              "color": "white"
             }
            },
            "type": "table"
           }
          ]
         },
         "layout": {
          "annotationdefaults": {
           "arrowcolor": "#2a3f5f",
           "arrowhead": 0,
           "arrowwidth": 1
          },
          "coloraxis": {
           "colorbar": {
            "outlinewidth": 0,
            "ticks": ""
           }
          },
          "colorscale": {
           "diverging": [
            [
             0,
             "#8e0152"
            ],
            [
             0.1,
             "#c51b7d"
            ],
            [
             0.2,
             "#de77ae"
            ],
            [
             0.3,
             "#f1b6da"
            ],
            [
             0.4,
             "#fde0ef"
            ],
            [
             0.5,
             "#f7f7f7"
            ],
            [
             0.6,
             "#e6f5d0"
            ],
            [
             0.7,
             "#b8e186"
            ],
            [
             0.8,
             "#7fbc41"
            ],
            [
             0.9,
             "#4d9221"
            ],
            [
             1,
             "#276419"
            ]
           ],
           "sequential": [
            [
             0,
             "#0d0887"
            ],
            [
             0.1111111111111111,
             "#46039f"
            ],
            [
             0.2222222222222222,
             "#7201a8"
            ],
            [
             0.3333333333333333,
             "#9c179e"
            ],
            [
             0.4444444444444444,
             "#bd3786"
            ],
            [
             0.5555555555555556,
             "#d8576b"
            ],
            [
             0.6666666666666666,
             "#ed7953"
            ],
            [
             0.7777777777777778,
             "#fb9f3a"
            ],
            [
             0.8888888888888888,
             "#fdca26"
            ],
            [
             1,
             "#f0f921"
            ]
           ],
           "sequentialminus": [
            [
             0,
             "#0d0887"
            ],
            [
             0.1111111111111111,
             "#46039f"
            ],
            [
             0.2222222222222222,
             "#7201a8"
            ],
            [
             0.3333333333333333,
             "#9c179e"
            ],
            [
             0.4444444444444444,
             "#bd3786"
            ],
            [
             0.5555555555555556,
             "#d8576b"
            ],
            [
             0.6666666666666666,
             "#ed7953"
            ],
            [
             0.7777777777777778,
             "#fb9f3a"
            ],
            [
             0.8888888888888888,
             "#fdca26"
            ],
            [
             1,
             "#f0f921"
            ]
           ]
          },
          "colorway": [
           "#636efa",
           "#EF553B",
           "#00cc96",
           "#ab63fa",
           "#FFA15A",
           "#19d3f3",
           "#FF6692",
           "#B6E880",
           "#FF97FF",
           "#FECB52"
          ],
          "font": {
           "color": "#2a3f5f"
          },
          "geo": {
           "bgcolor": "white",
           "lakecolor": "white",
           "landcolor": "#E5ECF6",
           "showlakes": true,
           "showland": true,
           "subunitcolor": "white"
          },
          "hoverlabel": {
           "align": "left"
          },
          "hovermode": "closest",
          "mapbox": {
           "style": "light"
          },
          "paper_bgcolor": "white",
          "plot_bgcolor": "#E5ECF6",
          "polar": {
           "angularaxis": {
            "gridcolor": "white",
            "linecolor": "white",
            "ticks": ""
           },
           "bgcolor": "#E5ECF6",
           "radialaxis": {
            "gridcolor": "white",
            "linecolor": "white",
            "ticks": ""
           }
          },
          "scene": {
           "xaxis": {
            "backgroundcolor": "#E5ECF6",
            "gridcolor": "white",
            "gridwidth": 2,
            "linecolor": "white",
            "showbackground": true,
            "ticks": "",
            "zerolinecolor": "white"
           },
           "yaxis": {
            "backgroundcolor": "#E5ECF6",
            "gridcolor": "white",
            "gridwidth": 2,
            "linecolor": "white",
            "showbackground": true,
            "ticks": "",
            "zerolinecolor": "white"
           },
           "zaxis": {
            "backgroundcolor": "#E5ECF6",
            "gridcolor": "white",
            "gridwidth": 2,
            "linecolor": "white",
            "showbackground": true,
            "ticks": "",
            "zerolinecolor": "white"
           }
          },
          "shapedefaults": {
           "line": {
            "color": "#2a3f5f"
           }
          },
          "ternary": {
           "aaxis": {
            "gridcolor": "white",
            "linecolor": "white",
            "ticks": ""
           },
           "baxis": {
            "gridcolor": "white",
            "linecolor": "white",
            "ticks": ""
           },
           "bgcolor": "#E5ECF6",
           "caxis": {
            "gridcolor": "white",
            "linecolor": "white",
            "ticks": ""
           }
          },
          "title": {
           "x": 0.05
          },
          "xaxis": {
           "automargin": true,
           "gridcolor": "white",
           "linecolor": "white",
           "ticks": "",
           "title": {
            "standoff": 15
           },
           "zerolinecolor": "white",
           "zerolinewidth": 2
          },
          "yaxis": {
           "automargin": true,
           "gridcolor": "white",
           "linecolor": "white",
           "ticks": "",
           "title": {
            "standoff": 15
           },
           "zerolinecolor": "white",
           "zerolinewidth": 2
          }
         }
        },
        "title": {
         "text": "State Leanings (1976-2016)"
        }
       }
      },
      "text/html": [
       "<div>                            <div id=\"156cf463-ecc3-4d24-8357-d38d0d8c0c00\" class=\"plotly-graph-div\" style=\"height:525px; width:100%;\"></div>            <script type=\"text/javascript\">                require([\"plotly\"], function(Plotly) {                    window.PLOTLYENV=window.PLOTLYENV || {};                                    if (document.getElementById(\"156cf463-ecc3-4d24-8357-d38d0d8c0c00\")) {                    Plotly.newPlot(                        \"156cf463-ecc3-4d24-8357-d38d0d8c0c00\",                        [{\"colorscale\": [[0.0, \"#0015BC\"], [1.0, \"#DE0100\"]], \"hovertemplate\": \"%{location}<br>%{text}<extra></extra>\", \"locationmode\": \"USA-states\", \"locations\": [\"AL\", \"AK\", \"AZ\", \"AR\", \"CA\", \"CO\", \"CT\", \"DE\", \"DC\", \"FL\", \"GA\", \"HI\", \"ID\", \"IL\", \"IN\", \"IA\", \"KS\", \"KY\", \"LA\", \"ME\", \"MD\", \"MA\", \"MI\", \"MN\", \"MS\", \"MO\", \"MT\", \"NE\", \"NV\", \"NH\", \"NJ\", \"NM\", \"NY\", \"NC\", \"ND\", \"OH\", \"OK\", \"OR\", \"PA\", \"RI\", \"SC\", \"SD\", \"TN\", \"TX\", \"UT\", \"VT\", \"VA\", \"WA\", \"WV\", \"WI\", \"WY\"], \"showlegend\": false, \"showscale\": false, \"text\": [\"Republican Lean <br>Rep: 10378307 votes<br>Dem: 7474816 votes\", \"Republican Lean <br>Rep: 1520232 votes<br>Dem: 931882 votes\", \"Republican Lean <br>Rep: 9128558 votes<br>Dem: 7326637 votes\", \"Republican Lean <br>Rep: 5351630 votes<br>Dem: 4655456 votes\", \"Democratic Lean <br>Dem: 63180373 votes<br>Rep: 50798923 votes\", \"Republican Lean <br>Rep: 9487553 votes<br>Dem: 8896577 votes\", \"Democratic Lean <br>Dem: 8327796 votes<br>Rep: 7291466 votes\", \"Democratic Lean <br>Dem: 1818793 votes<br>Rep: 1526169 votes\", \"Democratic Lean <br>Dem: 2129296 votes<br>Rep: 236622 votes\", \"Republican Lean <br>Rep: 32987832 votes<br>Dem: 30300162 votes\", \"Republican Lean <br>Rep: 14914584 votes<br>Dem: 13332891 votes\", \"Democratic Lean <br>Dem: 2343508 votes<br>Rep: 1567019 votes\", \"Republican Lean <br>Rep: 3484644 votes<br>Dem: 1753706 votes\", \"Democratic Lean <br>Dem: 28360406 votes<br>Rep: 23739254 votes\", \"Republican Lean <br>Rep: 14159426 votes<br>Dem: 10727922 votes\", \"Democratic Lean <br>Dem: 7296959 votes<br>Rep: 7155177 votes\", \"Republican Lean <br>Rep: 6756200 votes<br>Dem: 4507214 votes\", \"Republican Lean <br>Rep: 9244152 votes<br>Dem: 7066624 votes\", \"Republican Lean <br>Rep: 10256487 votes<br>Dem: 8467599 votes\", \"Democratic Lean <br>Dem: 3385302 votes<br>Rep: 3051630 votes\", \"Democratic Lean <br>Dem: 12518530 votes<br>Rep: 9211406 votes\", \"Democratic Lean <br>Dem: 17255316 votes<br>Rep: 11454247 votes\", \"Democratic Lean <br>Dem: 22780090 votes<br>Rep: 21772499 votes\", \"Democratic Lean <br>Dem: 13029463 votes<br>Rep: 11959644 votes\", \"Republican Lean <br>Rep: 6257394 votes<br>Dem: 4786125 votes\", \"Republican Lean <br>Rep: 13230342 votes<br>Dem: 11966663 votes\", \"Republican Lean <br>Rep: 2423410 votes<br>Dem: 1827449 votes\", \"Republican Lean <br>Rep: 4714268 votes<br>Dem: 2706445 votes\", \"Republican Lean <br>Rep: 3134889 votes<br>Dem: 3058197 votes\", \"Republican Lean <br>Rep: 2952235 votes<br>Dem: 2705530 votes\", \"Democratic Lean <br>Dem: 18449025 votes<br>Rep: 16840435 votes\", \"Democratic Lean <br>Dem: 3281068 votes<br>Rep: 3150849 votes\", \"Democratic Lean <br>Dem: 40698152 votes<br>Rep: 27693375 votes\", \"Republican Lean <br>Rep: 16955145 votes<br>Dem: 15033244 votes\", \"Republican Lean <br>Rep: 1920786 votes<br>Dem: 1219846 votes\", \"Republican Lean <br>Rep: 26446831 votes<br>Dem: 24747228 votes\", \"Republican Lean <br>Rep: 8461174 votes<br>Dem: 5108802 votes\", \"Democratic Lean <br>Dem: 8044327 votes<br>Rep: 7178360 votes\", \"Democratic Lean <br>Dem: 27761415 votes<br>Rep: 26326922 votes\", \"Democratic Lean <br>Dem: 2632597 votes<br>Rep: 1764906 votes\", \"Republican Lean <br>Rep: 8145050 votes<br>Dem: 6437175 votes\", \"Republican Lean <br>Rep: 2067460 votes<br>Dem: 1478286 votes\", \"Republican Lean <br>Rep: 11974762 votes<br>Dem: 9780143 votes\", \"Republican Lean <br>Rep: 38227274 votes<br>Dem: 28988063 votes\", \"Republican Lean <br>Rep: 5390364 votes<br>Dem: 2428530 votes\", \"Democratic Lean <br>Dem: 1572904 votes<br>Rep: 1151681 votes\", \"Republican Lean <br>Rep: 15232689 votes<br>Dem: 13936686 votes\", \"Democratic Lean <br>Dem: 13222559 votes<br>Rep: 11325818 votes\", \"Republican Lean <br>Rep: 3905145 votes<br>Dem: 3484238 votes\", \"Democratic Lean <br>Dem: 13670610 votes<br>Rep: 12909841 votes\", \"Republican Lean <br>Rep: 1454175 votes<br>Dem: 717627 votes\"], \"type\": \"choropleth\", \"z\": [1, 1, 1, 1, 0, 1, 0, 0, 0, 1, 1, 0, 1, 0, 1, 0, 1, 1, 1, 0, 0, 0, 0, 0, 1, 1, 1, 1, 1, 1, 0, 0, 0, 1, 1, 1, 1, 0, 0, 0, 1, 1, 1, 1, 1, 0, 1, 0, 1, 0, 1]}],                        {\"geo\": {\"projection\": {\"type\": \"albers usa\"}, \"scope\": \"usa\"}, \"template\": {\"data\": {\"bar\": [{\"error_x\": {\"color\": \"#2a3f5f\"}, \"error_y\": {\"color\": \"#2a3f5f\"}, \"marker\": {\"line\": {\"color\": \"#E5ECF6\", \"width\": 0.5}}, \"type\": \"bar\"}], \"barpolar\": [{\"marker\": {\"line\": {\"color\": \"#E5ECF6\", \"width\": 0.5}}, \"type\": \"barpolar\"}], \"carpet\": [{\"aaxis\": {\"endlinecolor\": \"#2a3f5f\", \"gridcolor\": \"white\", \"linecolor\": \"white\", \"minorgridcolor\": \"white\", \"startlinecolor\": \"#2a3f5f\"}, \"baxis\": {\"endlinecolor\": \"#2a3f5f\", \"gridcolor\": \"white\", \"linecolor\": \"white\", \"minorgridcolor\": \"white\", \"startlinecolor\": \"#2a3f5f\"}, \"type\": \"carpet\"}], \"choropleth\": [{\"colorbar\": {\"outlinewidth\": 0, \"ticks\": \"\"}, \"type\": \"choropleth\"}], \"contour\": [{\"colorbar\": {\"outlinewidth\": 0, \"ticks\": \"\"}, \"colorscale\": [[0.0, \"#0d0887\"], [0.1111111111111111, \"#46039f\"], [0.2222222222222222, \"#7201a8\"], [0.3333333333333333, \"#9c179e\"], [0.4444444444444444, \"#bd3786\"], [0.5555555555555556, \"#d8576b\"], [0.6666666666666666, \"#ed7953\"], [0.7777777777777778, \"#fb9f3a\"], [0.8888888888888888, \"#fdca26\"], [1.0, \"#f0f921\"]], \"type\": \"contour\"}], \"contourcarpet\": [{\"colorbar\": {\"outlinewidth\": 0, \"ticks\": \"\"}, \"type\": \"contourcarpet\"}], \"heatmap\": [{\"colorbar\": {\"outlinewidth\": 0, \"ticks\": \"\"}, \"colorscale\": [[0.0, \"#0d0887\"], [0.1111111111111111, \"#46039f\"], [0.2222222222222222, \"#7201a8\"], [0.3333333333333333, \"#9c179e\"], [0.4444444444444444, \"#bd3786\"], [0.5555555555555556, \"#d8576b\"], [0.6666666666666666, \"#ed7953\"], [0.7777777777777778, \"#fb9f3a\"], [0.8888888888888888, \"#fdca26\"], [1.0, \"#f0f921\"]], \"type\": \"heatmap\"}], \"heatmapgl\": [{\"colorbar\": {\"outlinewidth\": 0, \"ticks\": \"\"}, \"colorscale\": [[0.0, \"#0d0887\"], [0.1111111111111111, \"#46039f\"], [0.2222222222222222, \"#7201a8\"], [0.3333333333333333, \"#9c179e\"], [0.4444444444444444, \"#bd3786\"], [0.5555555555555556, \"#d8576b\"], [0.6666666666666666, \"#ed7953\"], [0.7777777777777778, \"#fb9f3a\"], [0.8888888888888888, \"#fdca26\"], [1.0, \"#f0f921\"]], \"type\": \"heatmapgl\"}], \"histogram\": [{\"marker\": {\"colorbar\": {\"outlinewidth\": 0, \"ticks\": \"\"}}, \"type\": \"histogram\"}], \"histogram2d\": [{\"colorbar\": {\"outlinewidth\": 0, \"ticks\": \"\"}, \"colorscale\": [[0.0, \"#0d0887\"], [0.1111111111111111, \"#46039f\"], [0.2222222222222222, \"#7201a8\"], [0.3333333333333333, \"#9c179e\"], [0.4444444444444444, \"#bd3786\"], [0.5555555555555556, \"#d8576b\"], [0.6666666666666666, \"#ed7953\"], [0.7777777777777778, \"#fb9f3a\"], [0.8888888888888888, \"#fdca26\"], [1.0, \"#f0f921\"]], \"type\": \"histogram2d\"}], \"histogram2dcontour\": [{\"colorbar\": {\"outlinewidth\": 0, \"ticks\": \"\"}, \"colorscale\": [[0.0, \"#0d0887\"], [0.1111111111111111, \"#46039f\"], [0.2222222222222222, \"#7201a8\"], [0.3333333333333333, \"#9c179e\"], [0.4444444444444444, \"#bd3786\"], [0.5555555555555556, \"#d8576b\"], [0.6666666666666666, \"#ed7953\"], [0.7777777777777778, \"#fb9f3a\"], [0.8888888888888888, \"#fdca26\"], [1.0, \"#f0f921\"]], \"type\": \"histogram2dcontour\"}], \"mesh3d\": [{\"colorbar\": {\"outlinewidth\": 0, \"ticks\": \"\"}, \"type\": \"mesh3d\"}], \"parcoords\": [{\"line\": {\"colorbar\": {\"outlinewidth\": 0, \"ticks\": \"\"}}, \"type\": \"parcoords\"}], \"pie\": [{\"automargin\": true, \"type\": \"pie\"}], \"scatter\": [{\"marker\": {\"colorbar\": {\"outlinewidth\": 0, \"ticks\": \"\"}}, \"type\": \"scatter\"}], \"scatter3d\": [{\"line\": {\"colorbar\": {\"outlinewidth\": 0, \"ticks\": \"\"}}, \"marker\": {\"colorbar\": {\"outlinewidth\": 0, \"ticks\": \"\"}}, \"type\": \"scatter3d\"}], \"scattercarpet\": [{\"marker\": {\"colorbar\": {\"outlinewidth\": 0, \"ticks\": \"\"}}, \"type\": \"scattercarpet\"}], \"scattergeo\": [{\"marker\": {\"colorbar\": {\"outlinewidth\": 0, \"ticks\": \"\"}}, \"type\": \"scattergeo\"}], \"scattergl\": [{\"marker\": {\"colorbar\": {\"outlinewidth\": 0, \"ticks\": \"\"}}, \"type\": \"scattergl\"}], \"scattermapbox\": [{\"marker\": {\"colorbar\": {\"outlinewidth\": 0, \"ticks\": \"\"}}, \"type\": \"scattermapbox\"}], \"scatterpolar\": [{\"marker\": {\"colorbar\": {\"outlinewidth\": 0, \"ticks\": \"\"}}, \"type\": \"scatterpolar\"}], \"scatterpolargl\": [{\"marker\": {\"colorbar\": {\"outlinewidth\": 0, \"ticks\": \"\"}}, \"type\": \"scatterpolargl\"}], \"scatterternary\": [{\"marker\": {\"colorbar\": {\"outlinewidth\": 0, \"ticks\": \"\"}}, \"type\": \"scatterternary\"}], \"surface\": [{\"colorbar\": {\"outlinewidth\": 0, \"ticks\": \"\"}, \"colorscale\": [[0.0, \"#0d0887\"], [0.1111111111111111, \"#46039f\"], [0.2222222222222222, \"#7201a8\"], [0.3333333333333333, \"#9c179e\"], [0.4444444444444444, \"#bd3786\"], [0.5555555555555556, \"#d8576b\"], [0.6666666666666666, \"#ed7953\"], [0.7777777777777778, \"#fb9f3a\"], [0.8888888888888888, \"#fdca26\"], [1.0, \"#f0f921\"]], \"type\": \"surface\"}], \"table\": [{\"cells\": {\"fill\": {\"color\": \"#EBF0F8\"}, \"line\": {\"color\": \"white\"}}, \"header\": {\"fill\": {\"color\": \"#C8D4E3\"}, \"line\": {\"color\": \"white\"}}, \"type\": \"table\"}]}, \"layout\": {\"annotationdefaults\": {\"arrowcolor\": \"#2a3f5f\", \"arrowhead\": 0, \"arrowwidth\": 1}, \"coloraxis\": {\"colorbar\": {\"outlinewidth\": 0, \"ticks\": \"\"}}, \"colorscale\": {\"diverging\": [[0, \"#8e0152\"], [0.1, \"#c51b7d\"], [0.2, \"#de77ae\"], [0.3, \"#f1b6da\"], [0.4, \"#fde0ef\"], [0.5, \"#f7f7f7\"], [0.6, \"#e6f5d0\"], [0.7, \"#b8e186\"], [0.8, \"#7fbc41\"], [0.9, \"#4d9221\"], [1, \"#276419\"]], \"sequential\": [[0.0, \"#0d0887\"], [0.1111111111111111, \"#46039f\"], [0.2222222222222222, \"#7201a8\"], [0.3333333333333333, \"#9c179e\"], [0.4444444444444444, \"#bd3786\"], [0.5555555555555556, \"#d8576b\"], [0.6666666666666666, \"#ed7953\"], [0.7777777777777778, \"#fb9f3a\"], [0.8888888888888888, \"#fdca26\"], [1.0, \"#f0f921\"]], \"sequentialminus\": [[0.0, \"#0d0887\"], [0.1111111111111111, \"#46039f\"], [0.2222222222222222, \"#7201a8\"], [0.3333333333333333, \"#9c179e\"], [0.4444444444444444, \"#bd3786\"], [0.5555555555555556, \"#d8576b\"], [0.6666666666666666, \"#ed7953\"], [0.7777777777777778, \"#fb9f3a\"], [0.8888888888888888, \"#fdca26\"], [1.0, \"#f0f921\"]]}, \"colorway\": [\"#636efa\", \"#EF553B\", \"#00cc96\", \"#ab63fa\", \"#FFA15A\", \"#19d3f3\", \"#FF6692\", \"#B6E880\", \"#FF97FF\", \"#FECB52\"], \"font\": {\"color\": \"#2a3f5f\"}, \"geo\": {\"bgcolor\": \"white\", \"lakecolor\": \"white\", \"landcolor\": \"#E5ECF6\", \"showlakes\": true, \"showland\": true, \"subunitcolor\": \"white\"}, \"hoverlabel\": {\"align\": \"left\"}, \"hovermode\": \"closest\", \"mapbox\": {\"style\": \"light\"}, \"paper_bgcolor\": \"white\", \"plot_bgcolor\": \"#E5ECF6\", \"polar\": {\"angularaxis\": {\"gridcolor\": \"white\", \"linecolor\": \"white\", \"ticks\": \"\"}, \"bgcolor\": \"#E5ECF6\", \"radialaxis\": {\"gridcolor\": \"white\", \"linecolor\": \"white\", \"ticks\": \"\"}}, \"scene\": {\"xaxis\": {\"backgroundcolor\": \"#E5ECF6\", \"gridcolor\": \"white\", \"gridwidth\": 2, \"linecolor\": \"white\", \"showbackground\": true, \"ticks\": \"\", \"zerolinecolor\": \"white\"}, \"yaxis\": {\"backgroundcolor\": \"#E5ECF6\", \"gridcolor\": \"white\", \"gridwidth\": 2, \"linecolor\": \"white\", \"showbackground\": true, \"ticks\": \"\", \"zerolinecolor\": \"white\"}, \"zaxis\": {\"backgroundcolor\": \"#E5ECF6\", \"gridcolor\": \"white\", \"gridwidth\": 2, \"linecolor\": \"white\", \"showbackground\": true, \"ticks\": \"\", \"zerolinecolor\": \"white\"}}, \"shapedefaults\": {\"line\": {\"color\": \"#2a3f5f\"}}, \"ternary\": {\"aaxis\": {\"gridcolor\": \"white\", \"linecolor\": \"white\", \"ticks\": \"\"}, \"baxis\": {\"gridcolor\": \"white\", \"linecolor\": \"white\", \"ticks\": \"\"}, \"bgcolor\": \"#E5ECF6\", \"caxis\": {\"gridcolor\": \"white\", \"linecolor\": \"white\", \"ticks\": \"\"}}, \"title\": {\"x\": 0.05}, \"xaxis\": {\"automargin\": true, \"gridcolor\": \"white\", \"linecolor\": \"white\", \"ticks\": \"\", \"title\": {\"standoff\": 15}, \"zerolinecolor\": \"white\", \"zerolinewidth\": 2}, \"yaxis\": {\"automargin\": true, \"gridcolor\": \"white\", \"linecolor\": \"white\", \"ticks\": \"\", \"title\": {\"standoff\": 15}, \"zerolinecolor\": \"white\", \"zerolinewidth\": 2}}}, \"title\": {\"text\": \"State Leanings (1976-2016)\"}},                        {\"responsive\": true}                    ).then(function(){\n",
       "                            \n",
       "var gd = document.getElementById('156cf463-ecc3-4d24-8357-d38d0d8c0c00');\n",
       "var x = new MutationObserver(function (mutations, observer) {{\n",
       "        var display = window.getComputedStyle(gd).display;\n",
       "        if (!display || display === 'none') {{\n",
       "            console.log([gd, 'removed!']);\n",
       "            Plotly.purge(gd);\n",
       "            observer.disconnect();\n",
       "        }}\n",
       "}});\n",
       "\n",
       "// Listen for the removal of the full notebook cells\n",
       "var notebookContainer = gd.closest('#notebook-container');\n",
       "if (notebookContainer) {{\n",
       "    x.observe(notebookContainer, {childList: true});\n",
       "}}\n",
       "\n",
       "// Listen for the clearing of the current output cell\n",
       "var outputEl = gd.closest('.output');\n",
       "if (outputEl) {{\n",
       "    x.observe(outputEl, {childList: true});\n",
       "}}\n",
       "\n",
       "                        })                };                });            </script>        </div>"
      ]
     },
     "metadata": {},
     "output_type": "display_data"
    },
    {
     "data": {
      "text/plain": [
       "'plots/State Leanings.html'"
      ]
     },
     "execution_count": 1,
     "metadata": {},
     "output_type": "execute_result"
    }
   ],
   "source": [
    "import pandas as pd\n",
    "import numpy as np\n",
    "import matplotlib.pyplot as plt\n",
    "\n",
    "import plotly.graph_objects as go\n",
    "from matplotlib.widgets import Slider, Button, RadioButtons\n",
    "import matplotlib.gridspec as gridspec\n",
    "import matplotlib.pyplot as plt\n",
    "import cartopy.crs as ccrs\n",
    "import cartopy.io.shapereader as shpreader\n",
    "import plotly.offline as offline\n",
    "\n",
    "import heapq\n",
    "\n",
    "############################################\n",
    "%matplotlib widget\n",
    "import pandas as pd\n",
    "import numpy as np\n",
    "import matplotlib.pyplot as plt\n",
    "import plotly.graph_objects as go\n",
    "from matplotlib.widgets import Slider, Button, RadioButtons\n",
    "\n",
    "\n",
    "import matplotlib.gridspec as gridspec\n",
    "import matplotlib.pyplot as plt\n",
    "import cartopy.crs as ccrs\n",
    "import cartopy.io.shapereader as shpreader\n",
    "\n",
    "import plotly as plotly\n",
    "import plotly.offline as offline\n",
    "\n",
    "import pandas as pd\n",
    "\n",
    "import plotly\n",
    "\n",
    "import plotly.graph_objs as go\n",
    "\n",
    "\n",
    "\n",
    "import plotly.offline as offline\n",
    "\n",
    "from plotly.graph_objs import *\n",
    "\n",
    "from plotly.offline import download_plotlyjs, init_notebook_mode, plot, iplot\n",
    "\n",
    "\n",
    "from collections import OrderedDict\n",
    "\n",
    "init_notebook_mode(connected=True)\n",
    "\n",
    "# class for storing election info for states in each year\n",
    "class election_info:\n",
    "    total_votes = 0\n",
    "    \n",
    "    # winner info\n",
    "    winner_name = ''\n",
    "    winner_votes = 0\n",
    "    winner_party = ''\n",
    "    \n",
    "    # runnerup/loser info\n",
    "    runnerup_name = ''\n",
    "    runnerup_votes = 0\n",
    "    runnerup_party = ''\n",
    "    \n",
    "    def __init__(self, winner_name, winner_votes, winner_party, total_votes, runnerup_name, runnerup_votes, runnerup_party):\n",
    "        self.winner_name = winner_name\n",
    "        self.winner_votes = winner_votes\n",
    "        self.winner_party = winner_party\n",
    "        self.total_votes = total_votes\n",
    "        self.runnerup_name = runnerup_name\n",
    "        self.runnerup_votes = runnerup_votes\n",
    "        self.runnerup_party = runnerup_party\n",
    "        \n",
    "\n",
    "# read in election file\n",
    "my_file = pd.read_csv('1976-2016-president.csv', encoding = 'unicode_escape')\n",
    "\n",
    "# read in states and states abbreviation file\n",
    "states_file = pd.read_csv('states.csv')\n",
    "states_file = states_file.sort_values(by=['State'])\n",
    "\n",
    "election_years = [1976, 1980, 1984, 1988, 1992, 1996, 2000, 2004, 2008, 2012, 2016]\n",
    "states = list(states_file['State'])\n",
    "state_codes = list(states_file['Abbreviation'])\n",
    "\n",
    "\n",
    "# dict for storing years as key and then dict of states as vals\n",
    "slides = {}\n",
    "slides = dict((year,None) for year in election_years)\n",
    "# create dict \n",
    "\n",
    "#for year in election_years:\n",
    "#    slides[year] = None\n",
    "#print(slides)\n",
    "#print(\"states len\", len(states))\n",
    "#print(dict(states))\n",
    "\n",
    "\n",
    "# go through each year \n",
    "for year in election_years:\n",
    "    \n",
    "    # create state dict for that year \n",
    "    slides[year] = OrderedDict((s,None) for s in states)\n",
    "    #slides[year] = dict((s,None) for s in states)\n",
    "    \n",
    "    # get all data for that year\n",
    "    year_info = my_file.loc[my_file['year'] == year]\n",
    "    for state in states:\n",
    "        state_info = year_info.loc[year_info['state'] == state]\n",
    "        \n",
    "        state_winner = state_info[state_info['candidatevotes']==state_info['candidatevotes'].max()]\n",
    "        #print(state, \"WINNER: \", state_winner)\n",
    "        state_runnerup = state_info[state_info['candidatevotes']==heapq.nlargest(2, state_info['candidatevotes'])[1]]\n",
    "        \n",
    "        \n",
    "        winner_name = str(state_winner['candidate'].values[0])\n",
    "        winner_votes = int(state_winner['candidatevotes'].values[0])\n",
    "        \n",
    "        total_votes = int(state_winner['totalvotes'].values[0])\n",
    "        winner_party = str(state_winner['party'].values[0])\n",
    "        if(winner_party == 'democratic-farmer-labor'): party ='democrat'\n",
    "        \n",
    "        runnerup_name = str(state_runnerup['candidate'].values[0])\n",
    "        runnerup_votes = int(state_runnerup['candidatevotes'].values[0])\n",
    "        runnerup_party = str(state_runnerup['party'].values[0])\n",
    "        if(runnerup_party == 'democratic-farmer-labor'): party ='democrat'\n",
    "        \n",
    "        #print(year, state, \" WINNER: \", winner_name)\n",
    "        #print(year, state, \" WINNER RUNNERUP: \", runnerup_name)\n",
    "        slides[year][state] = election_info(winner_name, winner_votes, winner_party, total_votes, runnerup_name, runnerup_votes, runnerup_party)   \n",
    "\n",
    "\n",
    "#####################################################################\n",
    "# Plot the US election popular vote slider from 1976-2016\n",
    "data_slider = []\n",
    "\n",
    "scl_cus = [[0.0, '#0015BC'],[1.0, '#DE0100']]\n",
    "\n",
    "for key, val in slides.items():  \n",
    "      \n",
    "   \n",
    "    data_one_year = dict(\n",
    "                        type='choropleth',\n",
    "                        locations = state_codes,\n",
    "                        #z= [float(x.candidate_votes) for x in val.values()],\n",
    "                        z = [0 if x.winner_party == 'democrat' else 1 for x in val.values()],\n",
    "                        locationmode='USA-states',\n",
    "                        #featureidkey = [ x.name for x in val.values()],\n",
    " \n",
    "                        colorscale = scl_cus,\n",
    "                        text =  [ str(str(x.winner_name)+ '<br>' + str(x.winner_party).title() + '<br>' + str(x.winner_votes) + \" / \" + str(x.total_votes) + \" votes\\n\")  for x in val.values()],\n",
    "                        showlegend = False,\n",
    "                        showscale = False,\n",
    "                        #hoverinfo = \"location+text\"\n",
    "                        hovertemplate='%{location}<br>%{text}<extra></extra>'\n",
    "                        )\n",
    "    data_slider.append(data_one_year)\n",
    "\n",
    "\n",
    "\n",
    "steps = []\n",
    "\n",
    "for i in range(len(data_slider)):\n",
    "    step = dict(method='restyle',\n",
    "                args=['visible', [False] * len(data_slider)],\n",
    "                label='Year {}'.format(i*4 + 1976)) # label to be displayed for each step (year)\n",
    "    step['args'][1][i] = True\n",
    "    steps.append(step)\n",
    "\n",
    "\n",
    "\n",
    "##  I create the 'sliders' object from the 'steps' \n",
    "\n",
    "sliders = [dict(active=10, pad={\"t\": 1}, steps=steps)]  \n",
    "\n",
    "\n",
    "\n",
    "layout = dict(title = 'US Popular Vote Election Map 1976-2016', geo=dict(scope='usa',\n",
    "                       projection={'type': 'albers usa'}),\n",
    "              sliders=sliders)\n",
    "fig = dict(data=data_slider, layout=layout) \n",
    "\n",
    "\n",
    "plotly.offline.iplot(fig)\n",
    "#offline.plot(fig, auto_open=True, image = 'png', image_filename=\"map_us_crime_slider\" ,image_width=2000, image_height=1000, \n",
    "              #filename='map_us_crime_slider.html', validate=True)\n",
    "#offline.plot(fig, auto_open=True, filename='tmp 1976-2016 US Election Map.html', validate=True)\n",
    "offline.plot(fig, auto_open=True, filename='plots/1976-2016 US Election Map.html', validate=True)\n",
    "\n",
    "#####################################################################\n",
    "\n",
    "\n",
    "# winners for each election year\n",
    "winners = {\n",
    "    1976:\"democrat\",\n",
    "    1980:\"republican\",\n",
    "    1984:\"republican\",\n",
    "    1988:\"republican\",\n",
    "    1992:\"democrat\",\n",
    "    1996:\"democrat\",\n",
    "    2000:\"republican\",\n",
    "    2004:\"republican\",\n",
    "    2008:\"democrat\",\n",
    "    2012:\"democrat\",\n",
    "    2016:\"republican\" \n",
    "}\n",
    "\n",
    "# count up total votes for election winner( via checking dem/rep), runnerup total, other votes total, and total votes\n",
    "winner_totals = {}\n",
    "runnerup_totals = {}\n",
    "other_totals = {}\n",
    "total_votes = {}\n",
    "for YEAR, STATES in slides.items():\n",
    "    winner_total = 0\n",
    "    runnerup_total = 0\n",
    "    other_total = 0\n",
    "    tvc = 0\n",
    "    for state, election_info in STATES.items():\n",
    "        if(winners[YEAR] == \"democrat\" and election_info.winner_party == \"democrat\"):\n",
    "            winner_total += election_info.winner_votes\n",
    "            runnerup_total +=election_info.runnerup_votes\n",
    "        elif(winners[YEAR] == \"republican\" and election_info.winner_party == \"republican\"):\n",
    "            winner_total += election_info.winner_votes\n",
    "            runnerup_total +=election_info.runnerup_votes\n",
    "        else:\n",
    "            winner_total +=election_info.runnerup_votes\n",
    "            runnerup_total += election_info.winner_votes\n",
    "            \n",
    "        other_total += election_info.total_votes - election_info.winner_votes - election_info.runnerup_votes\n",
    "        tvc+=election_info.total_votes\n",
    "        \n",
    "    winner_totals[YEAR]=winner_total\n",
    "    runnerup_totals[YEAR] = runnerup_total\n",
    "    other_totals[YEAR] = other_total\n",
    "    total_votes[YEAR] = tvc\n",
    "    \n",
    "\n",
    "# plot 1 - Difference between winner and loser/runnerup of election over the years\n",
    "import seaborn as sns\n",
    "import matplotlib.pyplot as plt\n",
    "axdf = pd.DataFrame()\n",
    "#ax['year'] = election_years\n",
    "axdf['diff'] = [winner_totals[i] - runnerup_totals[i] for i in election_years]\n",
    "ax = sns.lineplot(data=axdf,color='b')\n",
    "ax.set_xticks(range(len(axdf)))\n",
    "ax.set_xticklabels(election_years)\n",
    "legend = ax.legend()\n",
    "legend.texts[0].set_text(\"Difference\")\n",
    "ax.set(xlabel='Year', ylabel='Difference')\n",
    "ax.axhline(0, ls='--', color='r')\n",
    "plt.title(\"Vote difference between winner and runnerup\")\n",
    "plt.plot(1)\n",
    "plt.savefig('plots/1.png')\n",
    "plt.show()\n",
    "\n",
    "\n",
    "# plot 2 - plot percentage distribution of votes for each election year\n",
    "fig = plt.figure(2)\n",
    "\n",
    "ax1 = fig.add_subplot(341)\n",
    "ax2 = fig.add_subplot(342)\n",
    "ax3 = fig.add_subplot(343)\n",
    "ax4 = fig.add_subplot(344)\n",
    "ax5 = fig.add_subplot(345)\n",
    "ax6 = fig.add_subplot(346)\n",
    "ax7 = fig.add_subplot(347)\n",
    "ax8 = fig.add_subplot(348)\n",
    "ax9 = fig.add_subplot(349)\n",
    "ax10 = fig.add_subplot(3,4,10)\n",
    "ax11 = fig.add_subplot(3,4,11)\n",
    "ax12 = fig.add_subplot(3,4,12)\n",
    "\n",
    "#labels = 'winner', 'runnerup', 'other'\n",
    "labels = 'Winner', 'Runnerup', 'Other'\n",
    "colors = 'tab:blue', 'tab:orange', 'tab:green'\n",
    "\n",
    "# colors=['tab:orange', 'tab:green', 'tab:purple']\n",
    "sizes = [winner_totals[election_years[0]], runnerup_totals[election_years[0]], other_totals[election_years[0]]]\n",
    "ax1.pie(sizes, labels=labels, autopct='%1.1f%%',\n",
    "        shadow=True, startangle=90, textprops={'fontsize': 6}, colors=colors)\n",
    "#ax1.pie(sizes,  autopct='%1.1f%%',\n",
    "#        shadow=True, startangle=90, textprops={'fontsize': 6}, colors=['tab:purple', 'tab:orange', 'tab:green'])\n",
    "ax1.set_title(election_years[0])\n",
    "\n",
    "\n",
    "sizes = [winner_totals[election_years[1]], runnerup_totals[election_years[1]], other_totals[election_years[1]]]\n",
    "ax2.pie(sizes, labels=labels, autopct='%1.1f%%',\n",
    "        shadow=True, startangle=90, textprops={'fontsize': 6}, colors=colors)\n",
    "ax2.set_title(election_years[1])\n",
    "\n",
    "sizes = [winner_totals[election_years[2]], runnerup_totals[election_years[2]], other_totals[election_years[2]]]\n",
    "ax3.pie(sizes, labels=labels, autopct='%1.1f%%',\n",
    "        shadow=True, startangle=90, textprops={'fontsize': 6}, colors=colors)\n",
    "ax3.set_title(election_years[2])\n",
    "\n",
    "# set ax4 as legend, no a plot\n",
    "handles, labels = ax1.get_legend_handles_labels()\n",
    "ax4.axis('off')\n",
    "ax4.legend(handles, labels,\n",
    "          title=\"Votes\",\n",
    "         loc=\"lower right\",\n",
    "          bbox_to_anchor=(.5, 0, 0.5, .5))\n",
    "\n",
    "sizes = [winner_totals[election_years[3]], runnerup_totals[election_years[3]], other_totals[election_years[3]]]\n",
    "ax5.pie(sizes, labels=labels, autopct='%1.1f%%',\n",
    "         shadow=True, startangle=90, textprops={'fontsize': 6}, colors=colors)\n",
    "ax5.set_title(election_years[3])\n",
    "\n",
    "sizes = [winner_totals[election_years[4]], runnerup_totals[election_years[4]], other_totals[election_years[4]]]\n",
    "ax6.pie(sizes, labels=labels, autopct='%1.1f%%',\n",
    "        shadow=True, startangle=90, textprops={'fontsize': 6}, colors=colors)\n",
    "ax6.set_title(election_years[4])\n",
    "\n",
    "sizes = [winner_totals[election_years[5]], runnerup_totals[election_years[5]], other_totals[election_years[5]]]\n",
    "ax7.pie(sizes, labels=labels, autopct='%1.1f%%',\n",
    "        shadow=True, startangle=90, textprops={'fontsize': 6}, colors=colors)\n",
    "ax7.set_title(election_years[5])\n",
    "\n",
    "sizes = [winner_totals[election_years[6]], runnerup_totals[election_years[6]], other_totals[election_years[6]]]\n",
    "ax8.pie(sizes, labels=labels, autopct='%1.1f%%',\n",
    "        shadow=True, startangle=90, textprops={'fontsize': 6}, colors=colors)\n",
    "ax8.set_title(election_years[6])\n",
    "\n",
    "sizes = [winner_totals[election_years[7]], runnerup_totals[election_years[7]], other_totals[election_years[7]]]\n",
    "ax9.pie(sizes, labels=labels, autopct='%1.1f%%',\n",
    "        shadow=True, startangle=90, textprops={'fontsize': 6}, colors=colors)\n",
    "ax9.set_title(election_years[7])\n",
    "\n",
    "sizes = [winner_totals[election_years[8]], runnerup_totals[election_years[8]], other_totals[election_years[8]]]\n",
    "ax10.pie(sizes, labels=labels, autopct='%1.1f%%',\n",
    "        shadow=True, startangle=90, textprops={'fontsize': 6}, colors=colors)\n",
    "ax10.set_title(election_years[8])\n",
    "\n",
    "sizes = [winner_totals[election_years[9]], runnerup_totals[election_years[9]], other_totals[election_years[9]]]\n",
    "ax11.pie(sizes, labels=labels, autopct='%1.1f%%',\n",
    "        shadow=True, startangle=90, textprops={'fontsize': 6}, colors=colors)\n",
    "ax11.set_title(election_years[9])\n",
    "\n",
    "sizes = [winner_totals[election_years[10]], runnerup_totals[election_years[10]], other_totals[election_years[10]]]\n",
    "ax12.pie(sizes, labels=labels, autopct='%1.1f%%',\n",
    "        shadow=True, startangle=90, textprops={'fontsize': 6}, colors=colors)\n",
    "ax12.set_title(election_years[10])\n",
    "\n",
    "\n",
    "\n",
    "fig.suptitle('Vote Distribution By Year', fontsize=16)\n",
    "\n",
    "plt.tight_layout()\n",
    "plt.plot(2)\n",
    "plt.savefig('plots/2.png')\n",
    "plt.show()\n",
    "\n",
    "\n",
    "# plot 3 - Total Votes over the Years\n",
    "fig = plt.figure(3)\n",
    "\n",
    "axdf = pd.DataFrame()\n",
    "axdf['Years'] = total_votes.keys()\n",
    "axdf['Total Votes'] = total_votes.values()\n",
    "ax = sns.barplot(data=axdf, x='Years', y='Total Votes', color='#f77f00')\n",
    "plt.title(\"Total Votes Over Years\")\n",
    "plt.plot(3)\n",
    "plt.savefig('plots/3.png')\n",
    "plt.show()\n",
    "\n",
    "# plot 4 - Total Winner votes over the years\n",
    "fig = plt.figure(4)\n",
    "\n",
    "axdf = pd.DataFrame()\n",
    "axdf['Years'] = winner_totals.keys()\n",
    "axdf['Winner Votes'] = winner_totals.values()\n",
    "ax = sns.barplot(data=axdf, x='Years', y='Winner Votes', color='#f77f00')\n",
    "plt.title(\"Winner's Votes Over Years\")\n",
    "plt.plot(4)\n",
    "plt.savefig('plots/4.png')\n",
    "plt.show()\n",
    "\n",
    "# plot 5 - total runnerup votes over the years\n",
    "fig = plt.figure(5)\n",
    "\n",
    "axdf = pd.DataFrame()\n",
    "axdf['Years'] = runnerup_totals.keys()\n",
    "axdf['Runnerup Votes'] = runnerup_totals.values()\n",
    "ax = sns.barplot(data=axdf, x='Years', y='Runnerup Votes', color='#f77f00')\n",
    "plt.title(\"Runnerup's Votes Over Years\")\n",
    "plt.plot(5)\n",
    "plt.savefig('plots/5.png')\n",
    "plt.show()\n",
    "\n",
    "\n",
    "\n",
    "# sum states vots over time for each party and classify them as rep or dem\n",
    "from collections import OrderedDict \n",
    "state_leans = OrderedDict((state,[0,0]) for state in states)\n",
    "\n",
    "for YEAR, STATES in slides.items():\n",
    "    for state, election_info in STATES.items():\n",
    "        if(election_info.winner_party == \"democrat\"):\n",
    "            state_leans[state][0] += election_info.winner_votes\n",
    "            state_leans[state][1] += election_info.runnerup_votes\n",
    "        else:\n",
    "            state_leans[state][0] += election_info.runnerup_votes\n",
    "            state_leans[state][1] += election_info.winner_votes\n",
    "\n",
    "# plot US map with state leanings from 1976 - 2016 (which party had more total votes in that time period)\n",
    "data = dict(\n",
    "                        type='choropleth',\n",
    "                        locations = state_codes,\n",
    "                        #z= [float(x.candidate_votes) for x in val.values()],\n",
    "                        z = [0 if x[0] > x[1] else 1 for x in state_leans.values()],\n",
    "                        locationmode='USA-states',\n",
    "                        #featureidkey = [ x.name for x in val.values()],\n",
    " \n",
    "                        colorscale = scl_cus,\n",
    "                        text =  [ str('Democratic Lean <br>Dem: ' + str(x[0])+ ' votes' + '<br>' + \"Rep: \" + str(x[1]) + \" votes\") if x[0] > x[1] else str('Republican Lean <br>Rep: ' + str(x[1])+ ' votes' + '<br>' + \"Dem: \" + str(x[0]) + \" votes\")  for x in state_leans.values()],\n",
    "                        showlegend = False,\n",
    "                        showscale = False,\n",
    "                        #hoverinfo = \"location+text\"\n",
    "                        hovertemplate='%{location}<br>%{text}<extra></extra>'\n",
    "                        )\n",
    "    \n",
    "\n",
    "\n",
    "layout = dict(\n",
    "        title = 'State Leanings (1976-2016)',\n",
    "        geo = dict(\n",
    "            scope='usa',\n",
    "            projection=dict( type='albers usa' ), \n",
    "            ),\n",
    "             )\n",
    "fig = dict( data=data, layout=layout )\n",
    "plotly.offline.iplot(fig)\n",
    "offline.plot(fig, auto_open=True, filename='plots/State Leanings.html', validate=True)\n",
    "\n"
   ]
  },
  {
   "cell_type": "code",
   "execution_count": null,
   "metadata": {},
   "outputs": [],
   "source": []
  }
 ],
 "metadata": {
  "kernelspec": {
   "display_name": "Python 3",
   "language": "python",
   "name": "python3"
  },
  "language_info": {
   "codemirror_mode": {
    "name": "ipython",
    "version": 3
   },
   "file_extension": ".py",
   "mimetype": "text/x-python",
   "name": "python",
   "nbconvert_exporter": "python",
   "pygments_lexer": "ipython3",
   "version": "3.6.12"
  }
 },
 "nbformat": 4,
 "nbformat_minor": 4
}
