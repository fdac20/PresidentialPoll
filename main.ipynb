{
 "cells": [
  {
   "cell_type": "markdown",
   "metadata": {},
   "source": [
    "# PresidentialPoll - Presidential Election Analysis from 1976-2016   "
   ]
  },
  {
   "cell_type": "markdown",
   "metadata": {},
   "source": [
    "## Read in all of our data and plot Popular Vote Map"
   ]
  },
  {
   "cell_type": "code",
   "execution_count": 1,
   "metadata": {
    "scrolled": true
   },
   "outputs": [
    {
     "output_type": "display_data",
     "data": {
      "text/html": "        <script type=\"text/javascript\">\n        window.PlotlyConfig = {MathJaxConfig: 'local'};\n        if (window.MathJax) {MathJax.Hub.Config({SVG: {font: \"STIX-Web\"}});}\n        if (typeof require !== 'undefined') {\n        require.undef(\"plotly\");\n        requirejs.config({\n            paths: {\n                'plotly': ['https://cdn.plot.ly/plotly-latest.min']\n            }\n        });\n        require(['plotly'], function(Plotly) {\n            window._Plotly = Plotly;\n        });\n        }\n        </script>\n        "
     },
     "metadata": {}
    },
    {
     "output_type": "display_data",
     "data": {
      "application/vnd.plotly.v1+json": {
       "config": {
        "linkText": "Export to plot.ly",
        "plotlyServerURL": "https://plot.ly",
        "showLink": false
       },
       "data": [
        {
         "colorscale": [
          [
           0,
           "#0015BC"
          ],
          [
           1,
           "#DE0100"
          ]
         ],
         "hovertemplate": "%{text}<extra></extra>",
         "locationmode": "USA-states",
         "locations": [
          "AL",
          "AK",
          "AZ",
          "AR",
          "CA",
          "CO",
          "CT",
          "DE",
          "DC",
          "FL",
          "GA",
          "HI",
          "ID",
          "IL",
          "IN",
          "IA",
          "KS",
          "KY",
          "LA",
          "ME",
          "MD",
          "MA",
          "MI",
          "MN",
          "MS",
          "MO",
          "MT",
          "NE",
          "NV",
          "NH",
          "NJ",
          "NM",
          "NY",
          "NC",
          "ND",
          "OH",
          "OK",
          "OR",
          "PA",
          "RI",
          "SC",
          "SD",
          "TN",
          "TX",
          "UT",
          "VT",
          "VA",
          "WA",
          "WV",
          "WI",
          "WY"
         ],
         "showlegend": false,
         "showscale": false,
         "text": [
          "Alabama<br>Carter, Jimmy<br>Democrat<br>Votes: 659,170 / 1,182,850<br>Population: 3,893,888<br>Density: 76 ppsm<br>Land Area: 50,750 mi²<br>",
          "Alaska<br>Ford, Gerald<br>Republican<br>Votes: 71,555 / 123,574<br>Population: 401,851<br>Density: 0 ppsm<br>Land Area: 570,641 mi²<br>",
          "Arizona<br>Ford, Gerald<br>Republican<br>Votes: 418,642 / 742,719<br>Population: 2,718,215<br>Density: 23 ppsm<br>Land Area: 113,642 mi²<br>",
          "Arkansas<br>Carter, Jimmy<br>Democrat<br>Votes: 498,604 / 767,535<br>Population: 2,286,435<br>Density: 43 ppsm<br>Land Area: 52,075 mi²<br>",
          "California<br>Ford, Gerald<br>Republican<br>Votes: 3,882,244 / 7,803,770<br>Population: 23,667,902<br>Density: 151 ppsm<br>Land Area: 155,973 mi²<br>",
          "Colorado<br>Ford, Gerald<br>Republican<br>Votes: 584,278 / 1,081,440<br>Population: 2,889,964<br>Density: 27 ppsm<br>Land Area: 103,730 mi²<br>",
          "Connecticut<br>Ford, Gerald<br>Republican<br>Votes: 719,261 / 1,386,355<br>Population: 3,107,576<br>Density: 641 ppsm<br>Land Area: 4,845 mi²<br>",
          "Delaware<br>Carter, Jimmy<br>Democrat<br>Votes: 122,461 / 235,642<br>Population: 594,338<br>Density: 8,740 ppsm<br>Land Area: 1,955 mi²<br>",
          "District of Columbia<br>Carter, Jimmy<br>Democrat<br>Votes: 137,818 / 168,830<br>Population: 638,333<br>Density: 326 ppsm<br>Land Area: 68 mi²<br>",
          "Florida<br>Carter, Jimmy<br>Democrat<br>Votes: 1,636,000 / 3,150,631<br>Population: 9,746,324<br>Density: 180 ppsm<br>Land Area: 53,997 mi²<br>",
          "Georgia<br>Carter, Jimmy<br>Democrat<br>Votes: 979,409 / 1,463,152<br>Population: 5,463,105<br>Density: 94 ppsm<br>Land Area: 57,919 mi²<br>",
          "Hawaii<br>Carter, Jimmy<br>Democrat<br>Votes: 147,375 / 291,301<br>Population: 964,691<br>Density: 150 ppsm<br>Land Area: 6,423 mi²<br>",
          "Idaho<br>Ford, Gerald<br>Republican<br>Votes: 204,151 / 340,932<br>Population: 943,935<br>Density: 11 ppsm<br>Land Area: 82,751 mi²<br>",
          "Illinois<br>Ford, Gerald<br>Republican<br>Votes: 2,364,269 / 4,721,282<br>Population: 11,426,518<br>Density: 205 ppsm<br>Land Area: 55,593 mi²<br>",
          "Indiana<br>Ford, Gerald<br>Republican<br>Votes: 1,183,958 / 2,220,362<br>Population: 5,490,224<br>Density: 153 ppsm<br>Land Area: 35,870 mi²<br>",
          "Iowa<br>Ford, Gerald<br>Republican<br>Votes: 632,864 / 1,279,303<br>Population: 2,913,808<br>Density: 52 ppsm<br>Land Area: 55,875 mi²<br>",
          "Kansas<br>Ford, Gerald<br>Republican<br>Votes: 502,752 / 957,845<br>Population: 2,363,679<br>Density: 28 ppsm<br>Land Area: 81,823 mi²<br>",
          "Kentucky<br>Carter, Jimmy<br>Democrat<br>Votes: 615,717 / 1,167,142<br>Population: 3,660,777<br>Density: 92 ppsm<br>Land Area: 39,732 mi²<br>",
          "Louisiana<br>Carter, Jimmy<br>Democrat<br>Votes: 661,365 / 1,277,383<br>Population: 4,205,900<br>Density: 96 ppsm<br>Land Area: 43,566 mi²<br>",
          "Maine<br>Ford, Gerald<br>Republican<br>Votes: 236,320 / 482,968<br>Population: 1,124,660<br>Density: 36 ppsm<br>Land Area: 30,865 mi²<br>",
          "Maryland<br>Carter, Jimmy<br>Democrat<br>Votes: 759,612 / 1,432,273<br>Population: 4,216,975<br>Density: 431 ppsm<br>Land Area: 9,775 mi²<br>",
          "Massachusetts<br>Carter, Jimmy<br>Democrat<br>Votes: 1,429,475 / 2,547,558<br>Population: 5,737,037<br>Density: 731 ppsm<br>Land Area: 7,838 mi²<br>",
          "Michigan<br>Ford, Gerald<br>Republican<br>Votes: 1,893,742 / 3,651,590<br>Population: 9,262,078<br>Density: 163 ppsm<br>Land Area: 56,539 mi²<br>",
          "Minnesota<br>Carter, Jimmy<br>Democrat<br>Votes: 1,070,440 / 1,949,931<br>Population: 4,075,970<br>Density: 51 ppsm<br>Land Area: 79,617 mi²<br>",
          "Mississippi<br>Carter, Jimmy<br>Democrat<br>Votes: 381,329 / 768,390<br>Population: 2,520,638<br>Density: 53 ppsm<br>Land Area: 46,914 mi²<br>",
          "Missouri<br>Carter, Jimmy<br>Democrat<br>Votes: 998,387 / 1,953,600<br>Population: 4,916,686<br>Density: 71 ppsm<br>Land Area: 68,898 mi²<br>",
          "Montana<br>Ford, Gerald<br>Republican<br>Votes: 173,703 / 328,734<br>Population: 786,690<br>Density: 5 ppsm<br>Land Area: 145,556 mi²<br>",
          "Nebraska<br>Ford, Gerald<br>Republican<br>Votes: 359,219 / 606,749<br>Population: 1,569,825<br>Density: 20 ppsm<br>Land Area: 76,878 mi²<br>",
          "Nevada<br>Ford, Gerald<br>Republican<br>Votes: 101,273 / 201,876<br>Population: 800,493<br>Density: 7 ppsm<br>Land Area: 109,806 mi²<br>",
          "New Hampshire<br>Ford, Gerald<br>Republican<br>Votes: 185,935 / 339,627<br>Population: 920,610<br>Density: 102 ppsm<br>Land Area: 8,969 mi²<br>",
          "New Jersey<br>Ford, Gerald<br>Republican<br>Votes: 1,509,688 / 3,014,472<br>Population: 7,364,823<br>Density: 992 ppsm<br>Land Area: 7,419 mi²<br>",
          "New Mexico<br>Ford, Gerald<br>Republican<br>Votes: 211,419 / 416,590<br>Population: 1,302,894<br>Density: 10 ppsm<br>Land Area: 121,365 mi²<br>",
          "New York<br>Carter, Jimmy<br>Democrat<br>Votes: 3,244,165 / 6,668,262<br>Population: 17,558,072<br>Density: 371 ppsm<br>Land Area: 47,224 mi²<br>",
          "North Carolina<br>Carter, Jimmy<br>Democrat<br>Votes: 927,365 / 1,677,906<br>Population: 5,881,766<br>Density: 120 ppsm<br>Land Area: 48,718 mi²<br>",
          "North Dakota<br>Ford, Gerald<br>Republican<br>Votes: 153,684 / 297,308<br>Population: 652,717<br>Density: 9 ppsm<br>Land Area: 68,994 mi²<br>",
          "Ohio<br>Carter, Jimmy<br>Democrat<br>Votes: 2,009,959 / 4,110,456<br>Population: 10,797,630<br>Density: 263 ppsm<br>Land Area: 40,953 mi²<br>",
          "Oklahoma<br>Ford, Gerald<br>Republican<br>Votes: 545,708 / 1,092,251<br>Population: 3,025,290<br>Density: 44 ppsm<br>Land Area: 68,679 mi²<br>",
          "Oregon<br>Ford, Gerald<br>Republican<br>Votes: 492,120 / 1,029,876<br>Population: 2,633,105<br>Density: 27 ppsm<br>Land Area: 96,003 mi²<br>",
          "Pennsylvania<br>Carter, Jimmy<br>Democrat<br>Votes: 2,328,677 / 4,620,787<br>Population: 11,863,895<br>Density: 264 ppsm<br>Land Area: 44,820 mi²<br>",
          "Rhode Island<br>Carter, Jimmy<br>Democrat<br>Votes: 227,636 / 410,584<br>Population: 947,154<br>Density: 916 ppsm<br>Land Area: 1,034 mi²<br>",
          "South Carolina<br>Carter, Jimmy<br>Democrat<br>Votes: 450,807 / 802,583<br>Population: 3,121,820<br>Density: 103 ppsm<br>Land Area: 30,111 mi²<br>",
          "South Dakota<br>Ford, Gerald<br>Republican<br>Votes: 151,505 / 300,678<br>Population: 690,768<br>Density: 9 ppsm<br>Land Area: 75,898 mi²<br>",
          "Tennessee<br>Carter, Jimmy<br>Democrat<br>Votes: 825,879 / 1,476,346<br>Population: 4,591,120<br>Density: 111 ppsm<br>Land Area: 41,220 mi²<br>",
          "Texas<br>Carter, Jimmy<br>Democrat<br>Votes: 2,082,319 / 4,071,884<br>Population: 14,229,191<br>Density: 54 ppsm<br>Land Area: 261,914 mi²<br>",
          "Utah<br>Ford, Gerald<br>Republican<br>Votes: 337,908 / 541,218<br>Population: 1,461,037<br>Density: 17 ppsm<br>Land Area: 82,168 mi²<br>",
          "Vermont<br>Ford, Gerald<br>Republican<br>Votes: 100,387 / 183,902<br>Population: 511,456<br>Density: 55 ppsm<br>Land Area: 9,249 mi²<br>",
          "Virginia<br>Ford, Gerald<br>Republican<br>Votes: 836,554 / 1,697,094<br>Population: 5,346,818<br>Density: 135 ppsm<br>Land Area: 39,598 mi²<br>",
          "Washington<br>Ford, Gerald<br>Republican<br>Votes: 777,732 / 1,555,534<br>Population: 4,132,156<br>Density: 62 ppsm<br>Land Area: 66,582 mi²<br>",
          "West Virginia<br>Carter, Jimmy<br>Democrat<br>Votes: 435,864 / 750,590<br>Population: 1,949,644<br>Density: 80 ppsm<br>Land Area: 24,087 mi²<br>",
          "Wisconsin<br>Carter, Jimmy<br>Democrat<br>Votes: 1,040,232 / 2,101,336<br>Population: 4,705,767<br>Density: 86 ppsm<br>Land Area: 54,314 mi²<br>",
          "Wyoming<br>Ford, Gerald<br>Republican<br>Votes: 92,717 / 156,343<br>Population: 469,557<br>Density: 4 ppsm<br>Land Area: 97,105 mi²<br>"
         ],
         "type": "choropleth",
         "z": [
          0,
          1,
          1,
          0,
          1,
          1,
          1,
          0,
          0,
          0,
          0,
          0,
          1,
          1,
          1,
          1,
          1,
          0,
          0,
          1,
          0,
          0,
          1,
          0,
          0,
          0,
          1,
          1,
          1,
          1,
          1,
          1,
          0,
          0,
          1,
          0,
          1,
          1,
          0,
          0,
          0,
          1,
          0,
          0,
          1,
          1,
          1,
          1,
          0,
          0,
          1
         ]
        },
        {
         "colorscale": [
          [
           0,
           "#0015BC"
          ],
          [
           1,
           "#DE0100"
          ]
         ],
         "hovertemplate": "%{text}<extra></extra>",
         "locationmode": "USA-states",
         "locations": [
          "AL",
          "AK",
          "AZ",
          "AR",
          "CA",
          "CO",
          "CT",
          "DE",
          "DC",
          "FL",
          "GA",
          "HI",
          "ID",
          "IL",
          "IN",
          "IA",
          "KS",
          "KY",
          "LA",
          "ME",
          "MD",
          "MA",
          "MI",
          "MN",
          "MS",
          "MO",
          "MT",
          "NE",
          "NV",
          "NH",
          "NJ",
          "NM",
          "NY",
          "NC",
          "ND",
          "OH",
          "OK",
          "OR",
          "PA",
          "RI",
          "SC",
          "SD",
          "TN",
          "TX",
          "UT",
          "VT",
          "VA",
          "WA",
          "WV",
          "WI",
          "WY"
         ],
         "showlegend": false,
         "showscale": false,
         "text": [
          "Alabama<br>Reagan, Ronald<br>Republican<br>Votes: 654,192 / 1,341,929<br>Population: 3,893,888<br>Density: 76 ppsm<br>Land Area: 50,750 mi²<br>",
          "Alaska<br>Reagan, Ronald<br>Republican<br>Votes: 86,112 / 158,445<br>Population: 401,851<br>Density: 0 ppsm<br>Land Area: 570,641 mi²<br>",
          "Arizona<br>Reagan, Ronald<br>Republican<br>Votes: 529,688 / 873,945<br>Population: 2,718,215<br>Density: 23 ppsm<br>Land Area: 113,642 mi²<br>",
          "Arkansas<br>Reagan, Ronald<br>Republican<br>Votes: 403,164 / 837,582<br>Population: 2,286,435<br>Density: 43 ppsm<br>Land Area: 52,075 mi²<br>",
          "California<br>Reagan, Ronald<br>Republican<br>Votes: 4,522,994 / 8,582,938<br>Population: 23,667,902<br>Density: 151 ppsm<br>Land Area: 155,973 mi²<br>",
          "Colorado<br>Reagan, Ronald<br>Republican<br>Votes: 652,264 / 1,184,450<br>Population: 2,889,964<br>Density: 27 ppsm<br>Land Area: 103,730 mi²<br>",
          "Connecticut<br>Reagan, Ronald<br>Republican<br>Votes: 677,210 / 1,406,285<br>Population: 3,107,576<br>Density: 641 ppsm<br>Land Area: 4,845 mi²<br>",
          "Delaware<br>Reagan, Ronald<br>Republican<br>Votes: 111,252 / 235,668<br>Population: 594,338<br>Density: 8,740 ppsm<br>Land Area: 1,955 mi²<br>",
          "District of Columbia<br>Carter, Jimmy<br>Democrat<br>Votes: 130,231 / 173,889<br>Population: 638,333<br>Density: 326 ppsm<br>Land Area: 68 mi²<br>",
          "Florida<br>Reagan, Ronald<br>Republican<br>Votes: 2,046,951 / 3,686,927<br>Population: 9,746,324<br>Density: 180 ppsm<br>Land Area: 53,997 mi²<br>",
          "Georgia<br>Carter, Jimmy<br>Democrat<br>Votes: 890,955 / 1,596,805<br>Population: 5,463,105<br>Density: 94 ppsm<br>Land Area: 57,919 mi²<br>",
          "Hawaii<br>Carter, Jimmy<br>Democrat<br>Votes: 135,879 / 303,287<br>Population: 964,691<br>Density: 150 ppsm<br>Land Area: 6,423 mi²<br>",
          "Idaho<br>Reagan, Ronald<br>Republican<br>Votes: 290,699 / 437,431<br>Population: 943,935<br>Density: 11 ppsm<br>Land Area: 82,751 mi²<br>",
          "Illinois<br>Reagan, Ronald<br>Republican<br>Votes: 2,358,049 / 4,749,721<br>Population: 11,426,518<br>Density: 205 ppsm<br>Land Area: 55,593 mi²<br>",
          "Indiana<br>Reagan, Ronald<br>Republican<br>Votes: 1,255,656 / 2,242,033<br>Population: 5,490,224<br>Density: 153 ppsm<br>Land Area: 35,870 mi²<br>",
          "Iowa<br>Reagan, Ronald<br>Republican<br>Votes: 676,026 / 1,317,661<br>Population: 2,913,808<br>Density: 52 ppsm<br>Land Area: 55,875 mi²<br>",
          "Kansas<br>Reagan, Ronald<br>Republican<br>Votes: 566,812 / 979,795<br>Population: 2,363,679<br>Density: 28 ppsm<br>Land Area: 81,823 mi²<br>",
          "Kentucky<br>Reagan, Ronald<br>Republican<br>Votes: 635,274 / 1,295,627<br>Population: 3,660,777<br>Density: 92 ppsm<br>Land Area: 39,732 mi²<br>",
          "Louisiana<br>Reagan, Ronald<br>Republican<br>Votes: 792,853 / 1,548,591<br>Population: 4,205,900<br>Density: 96 ppsm<br>Land Area: 43,566 mi²<br>",
          "Maine<br>Reagan, Ronald<br>Republican<br>Votes: 238,522 / 523,011<br>Population: 1,124,660<br>Density: 36 ppsm<br>Land Area: 30,865 mi²<br>",
          "Maryland<br>Carter, Jimmy<br>Democrat<br>Votes: 726,161 / 1,540,496<br>Population: 4,216,975<br>Density: 431 ppsm<br>Land Area: 9,775 mi²<br>",
          "Massachusetts<br>Reagan, Ronald<br>Republican<br>Votes: 1,057,631 / 2,524,090<br>Population: 5,737,037<br>Density: 731 ppsm<br>Land Area: 7,838 mi²<br>",
          "Michigan<br>Reagan, Ronald<br>Republican<br>Votes: 1,915,225 / 3,909,725<br>Population: 9,262,078<br>Density: 163 ppsm<br>Land Area: 56,539 mi²<br>",
          "Minnesota<br>Carter, Jimmy<br>Democrat<br>Votes: 954,173 / 2,051,916<br>Population: 4,075,970<br>Density: 51 ppsm<br>Land Area: 79,617 mi²<br>",
          "Mississippi<br>Reagan, Ronald<br>Republican<br>Votes: 441,089 / 891,750<br>Population: 2,520,638<br>Density: 53 ppsm<br>Land Area: 46,914 mi²<br>",
          "Missouri<br>Reagan, Ronald<br>Republican<br>Votes: 1,074,181 / 2,099,824<br>Population: 4,916,686<br>Density: 71 ppsm<br>Land Area: 68,898 mi²<br>",
          "Montana<br>Reagan, Ronald<br>Republican<br>Votes: 206,814 / 363,952<br>Population: 786,690<br>Density: 5 ppsm<br>Land Area: 145,556 mi²<br>",
          "Nebraska<br>Reagan, Ronald<br>Republican<br>Votes: 419,214 / 639,533<br>Population: 1,569,825<br>Density: 20 ppsm<br>Land Area: 76,878 mi²<br>",
          "Nevada<br>Reagan, Ronald<br>Republican<br>Votes: 155,017 / 243,692<br>Population: 800,493<br>Density: 7 ppsm<br>Land Area: 109,806 mi²<br>",
          "New Hampshire<br>Reagan, Ronald<br>Republican<br>Votes: 221,705 / 383,990<br>Population: 920,610<br>Density: 102 ppsm<br>Land Area: 8,969 mi²<br>",
          "New Jersey<br>Reagan, Ronald<br>Republican<br>Votes: 1,546,557 / 2,975,684<br>Population: 7,364,823<br>Density: 992 ppsm<br>Land Area: 7,419 mi²<br>",
          "New Mexico<br>Reagan, Ronald<br>Republican<br>Votes: 250,779 / 456,237<br>Population: 1,302,894<br>Density: 10 ppsm<br>Land Area: 121,365 mi²<br>",
          "New York<br>Carter, Jimmy<br>Democrat<br>Votes: 2,728,372 / 6,201,959<br>Population: 17,558,072<br>Density: 371 ppsm<br>Land Area: 47,224 mi²<br>",
          "North Carolina<br>Reagan, Ronald<br>Republican<br>Votes: 915,018 / 1,855,833<br>Population: 5,881,766<br>Density: 120 ppsm<br>Land Area: 48,718 mi²<br>",
          "North Dakota<br>Reagan, Ronald<br>Republican<br>Votes: 193,695 / 301,116<br>Population: 652,717<br>Density: 9 ppsm<br>Land Area: 68,994 mi²<br>",
          "Ohio<br>Reagan, Ronald<br>Republican<br>Votes: 2,206,545 / 4,283,603<br>Population: 10,797,630<br>Density: 263 ppsm<br>Land Area: 40,953 mi²<br>",
          "Oklahoma<br>Reagan, Ronald<br>Republican<br>Votes: 695,570 / 1,149,708<br>Population: 3,025,290<br>Density: 44 ppsm<br>Land Area: 68,679 mi²<br>",
          "Oregon<br>Reagan, Ronald<br>Republican<br>Votes: 571,044 / 1,181,516<br>Population: 2,633,105<br>Density: 27 ppsm<br>Land Area: 96,003 mi²<br>",
          "Pennsylvania<br>Reagan, Ronald<br>Republican<br>Votes: 2,261,872 / 4,561,501<br>Population: 11,863,895<br>Density: 264 ppsm<br>Land Area: 44,820 mi²<br>",
          "Rhode Island<br>Carter, Jimmy<br>Democrat<br>Votes: 198,342 / 415,967<br>Population: 947,154<br>Density: 916 ppsm<br>Land Area: 1,034 mi²<br>",
          "South Carolina<br>Reagan, Ronald<br>Republican<br>Votes: 439,277 / 888,258<br>Population: 3,121,820<br>Density: 103 ppsm<br>Land Area: 30,111 mi²<br>",
          "South Dakota<br>Reagan, Ronald<br>Republican<br>Votes: 198,343 / 327,703<br>Population: 690,768<br>Density: 9 ppsm<br>Land Area: 75,898 mi²<br>",
          "Tennessee<br>Reagan, Ronald<br>Republican<br>Votes: 787,761 / 1,617,616<br>Population: 4,591,120<br>Density: 111 ppsm<br>Land Area: 41,220 mi²<br>",
          "Texas<br>Reagan, Ronald<br>Republican<br>Votes: 2,510,705 / 4,541,636<br>Population: 14,229,191<br>Density: 54 ppsm<br>Land Area: 261,914 mi²<br>",
          "Utah<br>Reagan, Ronald<br>Republican<br>Votes: 439,687 / 604,152<br>Population: 1,461,037<br>Density: 17 ppsm<br>Land Area: 82,168 mi²<br>",
          "Vermont<br>Reagan, Ronald<br>Republican<br>Votes: 94,628 / 213,299<br>Population: 511,456<br>Density: 55 ppsm<br>Land Area: 9,249 mi²<br>",
          "Virginia<br>Reagan, Ronald<br>Republican<br>Votes: 989,609 / 1,866,032<br>Population: 5,346,818<br>Density: 135 ppsm<br>Land Area: 39,598 mi²<br>",
          "Washington<br>Reagan, Ronald<br>Republican<br>Votes: 865,244 / 1,742,394<br>Population: 4,132,156<br>Density: 62 ppsm<br>Land Area: 66,582 mi²<br>",
          "West Virginia<br>Carter, Jimmy<br>Democrat<br>Votes: 367,462 / 737,715<br>Population: 1,949,644<br>Density: 80 ppsm<br>Land Area: 24,087 mi²<br>",
          "Wisconsin<br>Reagan, Ronald<br>Republican<br>Votes: 1,088,845 / 2,273,221<br>Population: 4,705,767<br>Density: 86 ppsm<br>Land Area: 54,314 mi²<br>",
          "Wyoming<br>Reagan, Ronald<br>Republican<br>Votes: 110,700 / 176,713<br>Population: 469,557<br>Density: 4 ppsm<br>Land Area: 97,105 mi²<br>"
         ],
         "type": "choropleth",
         "z": [
          1,
          1,
          1,
          1,
          1,
          1,
          1,
          1,
          0,
          1,
          0,
          0,
          1,
          1,
          1,
          1,
          1,
          1,
          1,
          1,
          0,
          1,
          1,
          0,
          1,
          1,
          1,
          1,
          1,
          1,
          1,
          1,
          0,
          1,
          1,
          1,
          1,
          1,
          1,
          0,
          1,
          1,
          1,
          1,
          1,
          1,
          1,
          1,
          0,
          1,
          1
         ]
        },
        {
         "colorscale": [
          [
           0,
           "#0015BC"
          ],
          [
           1,
           "#DE0100"
          ]
         ],
         "hovertemplate": "%{text}<extra></extra>",
         "locationmode": "USA-states",
         "locations": [
          "AL",
          "AK",
          "AZ",
          "AR",
          "CA",
          "CO",
          "CT",
          "DE",
          "DC",
          "FL",
          "GA",
          "HI",
          "ID",
          "IL",
          "IN",
          "IA",
          "KS",
          "KY",
          "LA",
          "ME",
          "MD",
          "MA",
          "MI",
          "MN",
          "MS",
          "MO",
          "MT",
          "NE",
          "NV",
          "NH",
          "NJ",
          "NM",
          "NY",
          "NC",
          "ND",
          "OH",
          "OK",
          "OR",
          "PA",
          "RI",
          "SC",
          "SD",
          "TN",
          "TX",
          "UT",
          "VT",
          "VA",
          "WA",
          "WV",
          "WI",
          "WY"
         ],
         "showlegend": false,
         "showscale": false,
         "text": [
          "Alabama<br>Reagan, Ronald<br>Republican<br>Votes: 872,849 / 1,441,713<br>Population: 3,893,888<br>Density: 76 ppsm<br>Land Area: 50,750 mi²<br>",
          "Alaska<br>Reagan, Ronald<br>Republican<br>Votes: 138,377 / 207,605<br>Population: 401,851<br>Density: 0 ppsm<br>Land Area: 570,641 mi²<br>",
          "Arizona<br>Reagan, Ronald<br>Republican<br>Votes: 681,416 / 1,025,897<br>Population: 2,718,215<br>Density: 23 ppsm<br>Land Area: 113,642 mi²<br>",
          "Arkansas<br>Reagan, Ronald<br>Republican<br>Votes: 534,774 / 884,406<br>Population: 2,286,435<br>Density: 43 ppsm<br>Land Area: 52,075 mi²<br>",
          "California<br>Reagan, Ronald<br>Republican<br>Votes: 5,467,009 / 9,505,041<br>Population: 23,667,902<br>Density: 151 ppsm<br>Land Area: 155,973 mi²<br>",
          "Colorado<br>Reagan, Ronald<br>Republican<br>Votes: 821,817 / 1,295,380<br>Population: 2,889,964<br>Density: 27 ppsm<br>Land Area: 103,730 mi²<br>",
          "Connecticut<br>Reagan, Ronald<br>Republican<br>Votes: 890,877 / 1,466,900<br>Population: 3,107,576<br>Density: 641 ppsm<br>Land Area: 4,845 mi²<br>",
          "Delaware<br>Reagan, Ronald<br>Republican<br>Votes: 152,190 / 254,572<br>Population: 594,338<br>Density: 8,740 ppsm<br>Land Area: 1,955 mi²<br>",
          "District of Columbia<br>Mondale, Walter<br>Democrat<br>Votes: 180,408 / 211,288<br>Population: 638,333<br>Density: 326 ppsm<br>Land Area: 68 mi²<br>",
          "Florida<br>Reagan, Ronald<br>Republican<br>Votes: 2,730,350 / 4,180,051<br>Population: 9,746,324<br>Density: 180 ppsm<br>Land Area: 53,997 mi²<br>",
          "Georgia<br>Reagan, Ronald<br>Republican<br>Votes: 1,068,722 / 1,776,103<br>Population: 5,463,105<br>Density: 94 ppsm<br>Land Area: 57,919 mi²<br>",
          "Hawaii<br>Reagan, Ronald<br>Republican<br>Votes: 185,050 / 335,846<br>Population: 964,691<br>Density: 150 ppsm<br>Land Area: 6,423 mi²<br>",
          "Idaho<br>Reagan, Ronald<br>Republican<br>Votes: 297,523 / 411,144<br>Population: 943,935<br>Density: 11 ppsm<br>Land Area: 82,751 mi²<br>",
          "Illinois<br>Reagan, Ronald<br>Republican<br>Votes: 2,707,103 / 4,819,088<br>Population: 11,426,518<br>Density: 205 ppsm<br>Land Area: 55,593 mi²<br>",
          "Indiana<br>Reagan, Ronald<br>Republican<br>Votes: 1,377,230 / 2,233,069<br>Population: 5,490,224<br>Density: 153 ppsm<br>Land Area: 35,870 mi²<br>",
          "Iowa<br>Reagan, Ronald<br>Republican<br>Votes: 703,088 / 1,319,805<br>Population: 2,913,808<br>Density: 52 ppsm<br>Land Area: 55,875 mi²<br>",
          "Kansas<br>Reagan, Ronald<br>Republican<br>Votes: 677,296 / 1,021,991<br>Population: 2,363,679<br>Density: 28 ppsm<br>Land Area: 81,823 mi²<br>",
          "Kentucky<br>Reagan, Ronald<br>Republican<br>Votes: 821,702 / 1,369,345<br>Population: 3,660,777<br>Density: 92 ppsm<br>Land Area: 39,732 mi²<br>",
          "Louisiana<br>Reagan, Ronald<br>Republican<br>Votes: 1,037,299 / 1,706,822<br>Population: 4,205,900<br>Density: 96 ppsm<br>Land Area: 43,566 mi²<br>",
          "Maine<br>Reagan, Ronald<br>Republican<br>Votes: 336,500 / 553,144<br>Population: 1,124,660<br>Density: 36 ppsm<br>Land Area: 30,865 mi²<br>",
          "Maryland<br>Reagan, Ronald<br>Republican<br>Votes: 879,918 / 1,675,873<br>Population: 4,216,975<br>Density: 431 ppsm<br>Land Area: 9,775 mi²<br>",
          "Massachusetts<br>Reagan, Ronald<br>Republican<br>Votes: 1,310,936 / 2,559,383<br>Population: 5,737,037<br>Density: 731 ppsm<br>Land Area: 7,838 mi²<br>",
          "Michigan<br>Reagan, Ronald<br>Republican<br>Votes: 2,251,571 / 3,801,658<br>Population: 9,262,078<br>Density: 163 ppsm<br>Land Area: 56,539 mi²<br>",
          "Minnesota<br>Mondale, Walter<br>Democrat<br>Votes: 1,036,364 / 2,084,449<br>Population: 4,075,970<br>Density: 51 ppsm<br>Land Area: 79,617 mi²<br>",
          "Mississippi<br>Reagan, Ronald<br>Republican<br>Votes: 582,377 / 941,104<br>Population: 2,520,638<br>Density: 53 ppsm<br>Land Area: 46,914 mi²<br>",
          "Missouri<br>Reagan, Ronald<br>Republican<br>Votes: 1,274,188 / 2,122,771<br>Population: 4,916,686<br>Density: 71 ppsm<br>Land Area: 68,898 mi²<br>",
          "Montana<br>Reagan, Ronald<br>Republican<br>Votes: 232,450 / 384,377<br>Population: 786,690<br>Density: 5 ppsm<br>Land Area: 145,556 mi²<br>",
          "Nebraska<br>Reagan, Ronald<br>Republican<br>Votes: 460,054 / 652,090<br>Population: 1,569,825<br>Density: 20 ppsm<br>Land Area: 76,878 mi²<br>",
          "Nevada<br>Reagan, Ronald<br>Republican<br>Votes: 188,770 / 282,717<br>Population: 800,493<br>Density: 7 ppsm<br>Land Area: 109,806 mi²<br>",
          "New Hampshire<br>Reagan, Ronald<br>Republican<br>Votes: 267,050 / 388,904<br>Population: 920,610<br>Density: 102 ppsm<br>Land Area: 8,969 mi²<br>",
          "New Jersey<br>Reagan, Ronald<br>Republican<br>Votes: 1,933,630 / 3,217,862<br>Population: 7,364,823<br>Density: 992 ppsm<br>Land Area: 7,419 mi²<br>",
          "New Mexico<br>Reagan, Ronald<br>Republican<br>Votes: 307,101 / 514,370<br>Population: 1,302,894<br>Density: 10 ppsm<br>Land Area: 121,365 mi²<br>",
          "New York<br>Reagan, Ronald<br>Republican<br>Votes: 3,376,519 / 6,806,810<br>Population: 17,558,072<br>Density: 371 ppsm<br>Land Area: 47,224 mi²<br>",
          "North Carolina<br>Reagan, Ronald<br>Republican<br>Votes: 1,346,481 / 2,175,361<br>Population: 5,881,766<br>Density: 120 ppsm<br>Land Area: 48,718 mi²<br>",
          "North Dakota<br>Reagan, Ronald<br>Republican<br>Votes: 200,336 / 308,971<br>Population: 652,717<br>Density: 9 ppsm<br>Land Area: 68,994 mi²<br>",
          "Ohio<br>Reagan, Ronald<br>Republican<br>Votes: 2,678,559 / 4,563,235<br>Population: 10,797,630<br>Density: 263 ppsm<br>Land Area: 40,953 mi²<br>",
          "Oklahoma<br>Reagan, Ronald<br>Republican<br>Votes: 861,530 / 1,255,676<br>Population: 3,025,290<br>Density: 44 ppsm<br>Land Area: 68,679 mi²<br>",
          "Oregon<br>Reagan, Ronald<br>Republican<br>Votes: 685,700 / 1,226,527<br>Population: 2,633,105<br>Density: 27 ppsm<br>Land Area: 96,003 mi²<br>",
          "Pennsylvania<br>Reagan, Ronald<br>Republican<br>Votes: 2,584,323 / 4,844,903<br>Population: 11,863,895<br>Density: 264 ppsm<br>Land Area: 44,820 mi²<br>",
          "Rhode Island<br>Reagan, Ronald<br>Republican<br>Votes: 212,080 / 410,489<br>Population: 947,154<br>Density: 916 ppsm<br>Land Area: 1,034 mi²<br>",
          "South Carolina<br>Reagan, Ronald<br>Republican<br>Votes: 615,539 / 968,529<br>Population: 3,121,820<br>Density: 103 ppsm<br>Land Area: 30,111 mi²<br>",
          "South Dakota<br>Reagan, Ronald<br>Republican<br>Votes: 200,267 / 317,867<br>Population: 690,768<br>Density: 9 ppsm<br>Land Area: 75,898 mi²<br>",
          "Tennessee<br>Reagan, Ronald<br>Republican<br>Votes: 990,212 / 1,711,993<br>Population: 4,591,120<br>Density: 111 ppsm<br>Land Area: 41,220 mi²<br>",
          "Texas<br>Reagan, Ronald<br>Republican<br>Votes: 3,433,428 / 5,397,571<br>Population: 14,229,191<br>Density: 54 ppsm<br>Land Area: 261,914 mi²<br>",
          "Utah<br>Reagan, Ronald<br>Republican<br>Votes: 469,105 / 629,656<br>Population: 1,461,037<br>Density: 17 ppsm<br>Land Area: 82,168 mi²<br>",
          "Vermont<br>Reagan, Ronald<br>Republican<br>Votes: 135,865 / 234,561<br>Population: 511,456<br>Density: 55 ppsm<br>Land Area: 9,249 mi²<br>",
          "Virginia<br>Reagan, Ronald<br>Republican<br>Votes: 1,337,078 / 2,146,635<br>Population: 5,346,818<br>Density: 135 ppsm<br>Land Area: 39,598 mi²<br>",
          "Washington<br>Reagan, Ronald<br>Republican<br>Votes: 1,051,670 / 1,874,910<br>Population: 4,132,156<br>Density: 62 ppsm<br>Land Area: 66,582 mi²<br>",
          "West Virginia<br>Reagan, Ronald<br>Republican<br>Votes: 405,483 / 735,742<br>Population: 1,949,644<br>Density: 80 ppsm<br>Land Area: 24,087 mi²<br>",
          "Wisconsin<br>Reagan, Ronald<br>Republican<br>Votes: 1,198,584 / 2,211,689<br>Population: 4,705,767<br>Density: 86 ppsm<br>Land Area: 54,314 mi²<br>",
          "Wyoming<br>Reagan, Ronald<br>Republican<br>Votes: 133,241 / 188,968<br>Population: 469,557<br>Density: 4 ppsm<br>Land Area: 97,105 mi²<br>"
         ],
         "type": "choropleth",
         "z": [
          1,
          1,
          1,
          1,
          1,
          1,
          1,
          1,
          0,
          1,
          1,
          1,
          1,
          1,
          1,
          1,
          1,
          1,
          1,
          1,
          1,
          1,
          1,
          0,
          1,
          1,
          1,
          1,
          1,
          1,
          1,
          1,
          1,
          1,
          1,
          1,
          1,
          1,
          1,
          1,
          1,
          1,
          1,
          1,
          1,
          1,
          1,
          1,
          1,
          1,
          1
         ]
        },
        {
         "colorscale": [
          [
           0,
           "#0015BC"
          ],
          [
           1,
           "#DE0100"
          ]
         ],
         "hovertemplate": "%{text}<extra></extra>",
         "locationmode": "USA-states",
         "locations": [
          "AL",
          "AK",
          "AZ",
          "AR",
          "CA",
          "CO",
          "CT",
          "DE",
          "DC",
          "FL",
          "GA",
          "HI",
          "ID",
          "IL",
          "IN",
          "IA",
          "KS",
          "KY",
          "LA",
          "ME",
          "MD",
          "MA",
          "MI",
          "MN",
          "MS",
          "MO",
          "MT",
          "NE",
          "NV",
          "NH",
          "NJ",
          "NM",
          "NY",
          "NC",
          "ND",
          "OH",
          "OK",
          "OR",
          "PA",
          "RI",
          "SC",
          "SD",
          "TN",
          "TX",
          "UT",
          "VT",
          "VA",
          "WA",
          "WV",
          "WI",
          "WY"
         ],
         "showlegend": false,
         "showscale": false,
         "text": [
          "Alabama<br>Bush, George H.W.<br>Republican<br>Votes: 815,576 / 1,378,476<br>Population: 4,040,587<br>Density: 79 ppsm<br>Land Area: 50,750 mi²<br>",
          "Alaska<br>Bush, George H.W.<br>Republican<br>Votes: 119,251 / 200,116<br>Population: 550,043<br>Density: 0 ppsm<br>Land Area: 570,641 mi²<br>",
          "Arizona<br>Bush, George H.W.<br>Republican<br>Votes: 702,541 / 1,171,873<br>Population: 3,665,228<br>Density: 32 ppsm<br>Land Area: 113,642 mi²<br>",
          "Arkansas<br>Bush, George H.W.<br>Republican<br>Votes: 466,578 / 827,738<br>Population: 2,350,725<br>Density: 45 ppsm<br>Land Area: 52,075 mi²<br>",
          "California<br>Bush, George H.W.<br>Republican<br>Votes: 5,054,917 / 9,887,065<br>Population: 29,760,021<br>Density: 190 ppsm<br>Land Area: 155,973 mi²<br>",
          "Colorado<br>Bush, George H.W.<br>Republican<br>Votes: 728,177 / 1,372,394<br>Population: 3,294,394<br>Density: 31 ppsm<br>Land Area: 103,730 mi²<br>",
          "Connecticut<br>Bush, George H.W.<br>Republican<br>Votes: 750,241 / 1,443,394<br>Population: 3,287,116<br>Density: 678 ppsm<br>Land Area: 4,845 mi²<br>",
          "Delaware<br>Bush, George H.W.<br>Republican<br>Votes: 139,639 / 249,891<br>Population: 666,168<br>Density: 9,796 ppsm<br>Land Area: 1,955 mi²<br>",
          "District of Columbia<br>Dukakis, Michael<br>Democrat<br>Votes: 159,407 / 192,877<br>Population: 606,900<br>Density: 310 ppsm<br>Land Area: 68 mi²<br>",
          "Florida<br>Bush, George H.W.<br>Republican<br>Votes: 2,618,885 / 4,302,313<br>Population: 12,937,926<br>Density: 239 ppsm<br>Land Area: 53,997 mi²<br>",
          "Georgia<br>Bush, George H.W.<br>Republican<br>Votes: 1,081,331 / 1,809,672<br>Population: 6,478,216<br>Density: 111 ppsm<br>Land Area: 57,919 mi²<br>",
          "Hawaii<br>Dukakis, Michael<br>Democrat<br>Votes: 192,364 / 354,461<br>Population: 1,108,229<br>Density: 172 ppsm<br>Land Area: 6,423 mi²<br>",
          "Idaho<br>Bush, George H.W.<br>Republican<br>Votes: 253,881 / 408,968<br>Population: 1,006,749<br>Density: 12 ppsm<br>Land Area: 82,751 mi²<br>",
          "Illinois<br>Bush, George H.W.<br>Republican<br>Votes: 2,310,939 / 4,559,120<br>Population: 11,430,602<br>Density: 205 ppsm<br>Land Area: 55,593 mi²<br>",
          "Indiana<br>Bush, George H.W.<br>Republican<br>Votes: 1,297,763 / 2,168,621<br>Population: 5,544,159<br>Density: 154 ppsm<br>Land Area: 35,870 mi²<br>",
          "Iowa<br>Dukakis, Michael<br>Democrat<br>Votes: 670,557 / 1,225,614<br>Population: 2,776,755<br>Density: 49 ppsm<br>Land Area: 55,875 mi²<br>",
          "Kansas<br>Bush, George H.W.<br>Republican<br>Votes: 554,049 / 993,044<br>Population: 2,477,574<br>Density: 30 ppsm<br>Land Area: 81,823 mi²<br>",
          "Kentucky<br>Bush, George H.W.<br>Republican<br>Votes: 734,281 / 1,322,517<br>Population: 3,685,296<br>Density: 92 ppsm<br>Land Area: 39,732 mi²<br>",
          "Louisiana<br>Bush, George H.W.<br>Republican<br>Votes: 883,702 / 1,628,202<br>Population: 4,219,973<br>Density: 96 ppsm<br>Land Area: 43,566 mi²<br>",
          "Maine<br>Bush, George H.W.<br>Republican<br>Votes: 307,131 / 555,035<br>Population: 1,227,928<br>Density: 39 ppsm<br>Land Area: 30,865 mi²<br>",
          "Maryland<br>Bush, George H.W.<br>Republican<br>Votes: 876,167 / 1,714,358<br>Population: 4,781,468<br>Density: 489 ppsm<br>Land Area: 9,775 mi²<br>",
          "Massachusetts<br>Dukakis, Michael<br>Democrat<br>Votes: 1,401,415 / 2,632,801<br>Population: 6,016,425<br>Density: 767 ppsm<br>Land Area: 7,838 mi²<br>",
          "Michigan<br>Bush, George H.W.<br>Republican<br>Votes: 1,965,486 / 3,669,163<br>Population: 9,295,297<br>Density: 164 ppsm<br>Land Area: 56,539 mi²<br>",
          "Minnesota<br>Dukakis, Michael<br>Democrat<br>Votes: 1,109,471 / 2,096,790<br>Population: 4,375,099<br>Density: 54 ppsm<br>Land Area: 79,617 mi²<br>",
          "Mississippi<br>Bush, George H.W.<br>Republican<br>Votes: 557,890 / 931,527<br>Population: 2,573,216<br>Density: 54 ppsm<br>Land Area: 46,914 mi²<br>",
          "Missouri<br>Bush, George H.W.<br>Republican<br>Votes: 1,084,953 / 2,093,228<br>Population: 5,117,073<br>Density: 74 ppsm<br>Land Area: 68,898 mi²<br>",
          "Montana<br>Bush, George H.W.<br>Republican<br>Votes: 190,412 / 365,674<br>Population: 799,065<br>Density: 5 ppsm<br>Land Area: 145,556 mi²<br>",
          "Nebraska<br>Bush, George H.W.<br>Republican<br>Votes: 397,956 / 661,465<br>Population: 1,578,385<br>Density: 20 ppsm<br>Land Area: 76,878 mi²<br>",
          "Nevada<br>Bush, George H.W.<br>Republican<br>Votes: 206,040 / 343,133<br>Population: 1,201,833<br>Density: 10 ppsm<br>Land Area: 109,806 mi²<br>",
          "New Hampshire<br>Bush, George H.W.<br>Republican<br>Votes: 281,537 / 450,525<br>Population: 1,109,252<br>Density: 123 ppsm<br>Land Area: 8,969 mi²<br>",
          "New Jersey<br>Bush, George H.W.<br>Republican<br>Votes: 1,743,192 / 3,099,553<br>Population: 7,730,188<br>Density: 1,041 ppsm<br>Land Area: 7,419 mi²<br>",
          "New Mexico<br>Bush, George H.W.<br>Republican<br>Votes: 270,341 / 521,387<br>Population: 1,515,069<br>Density: 12 ppsm<br>Land Area: 121,365 mi²<br>",
          "New York<br>Dukakis, Michael<br>Democrat<br>Votes: 3,255,487 / 6,485,683<br>Population: 17,990,455<br>Density: 380 ppsm<br>Land Area: 47,224 mi²<br>",
          "North Carolina<br>Bush, George H.W.<br>Republican<br>Votes: 1,237,258 / 2,134,370<br>Population: 6,628,637<br>Density: 136 ppsm<br>Land Area: 48,718 mi²<br>",
          "North Dakota<br>Bush, George H.W.<br>Republican<br>Votes: 166,559 / 297,261<br>Population: 638,800<br>Density: 9 ppsm<br>Land Area: 68,994 mi²<br>",
          "Ohio<br>Bush, George H.W.<br>Republican<br>Votes: 2,416,549 / 4,393,585<br>Population: 10,847,115<br>Density: 264 ppsm<br>Land Area: 40,953 mi²<br>",
          "Oklahoma<br>Bush, George H.W.<br>Republican<br>Votes: 678,367 / 1,171,036<br>Population: 3,145,585<br>Density: 45 ppsm<br>Land Area: 68,679 mi²<br>",
          "Oregon<br>Dukakis, Michael<br>Democrat<br>Votes: 616,206 / 1,201,694<br>Population: 2,842,321<br>Density: 29 ppsm<br>Land Area: 96,003 mi²<br>",
          "Pennsylvania<br>Bush, George H.W.<br>Republican<br>Votes: 2,300,087 / 4,536,251<br>Population: 11,881,643<br>Density: 265 ppsm<br>Land Area: 44,820 mi²<br>",
          "Rhode Island<br>Dukakis, Michael<br>Democrat<br>Votes: 225,123 / 404,622<br>Population: 1,003,464<br>Density: 970 ppsm<br>Land Area: 1,034 mi²<br>",
          "South Carolina<br>Bush, George H.W.<br>Republican<br>Votes: 606,443 / 986,009<br>Population: 3,486,703<br>Density: 115 ppsm<br>Land Area: 30,111 mi²<br>",
          "South Dakota<br>Bush, George H.W.<br>Republican<br>Votes: 165,415 / 312,991<br>Population: 696,004<br>Density: 9 ppsm<br>Land Area: 75,898 mi²<br>",
          "Tennessee<br>Bush, George H.W.<br>Republican<br>Votes: 947,233 / 1,636,250<br>Population: 4,877,185<br>Density: 118 ppsm<br>Land Area: 41,220 mi²<br>",
          "Texas<br>Bush, George H.W.<br>Republican<br>Votes: 3,036,829 / 5,427,410<br>Population: 16,986,510<br>Density: 64 ppsm<br>Land Area: 261,914 mi²<br>",
          "Utah<br>Bush, George H.W.<br>Republican<br>Votes: 428,442 / 647,008<br>Population: 1,722,850<br>Density: 20 ppsm<br>Land Area: 82,168 mi²<br>",
          "Vermont<br>Bush, George H.W.<br>Republican<br>Votes: 124,331 / 243,328<br>Population: 562,758<br>Density: 60 ppsm<br>Land Area: 9,249 mi²<br>",
          "Virginia<br>Bush, George H.W.<br>Republican<br>Votes: 1,309,162 / 2,191,609<br>Population: 6,187,358<br>Density: 156 ppsm<br>Land Area: 39,598 mi²<br>",
          "Washington<br>Dukakis, Michael<br>Democrat<br>Votes: 933,516 / 1,865,253<br>Population: 4,866,692<br>Density: 73 ppsm<br>Land Area: 66,582 mi²<br>",
          "West Virginia<br>Dukakis, Michael<br>Democrat<br>Votes: 341,016 / 653,311<br>Population: 1,793,477<br>Density: 74 ppsm<br>Land Area: 24,087 mi²<br>",
          "Wisconsin<br>Dukakis, Michael<br>Democrat<br>Votes: 1,126,794 / 2,191,608<br>Population: 4,891,769<br>Density: 90 ppsm<br>Land Area: 54,314 mi²<br>",
          "Wyoming<br>Bush, George H.W.<br>Republican<br>Votes: 106,867 / 176,551<br>Population: 453,588<br>Density: 4 ppsm<br>Land Area: 97,105 mi²<br>"
         ],
         "type": "choropleth",
         "z": [
          1,
          1,
          1,
          1,
          1,
          1,
          1,
          1,
          0,
          1,
          1,
          0,
          1,
          1,
          1,
          0,
          1,
          1,
          1,
          1,
          1,
          0,
          1,
          0,
          1,
          1,
          1,
          1,
          1,
          1,
          1,
          1,
          0,
          1,
          1,
          1,
          1,
          0,
          1,
          0,
          1,
          1,
          1,
          1,
          1,
          1,
          1,
          0,
          0,
          0,
          1
         ]
        },
        {
         "colorscale": [
          [
           0,
           "#0015BC"
          ],
          [
           1,
           "#DE0100"
          ]
         ],
         "hovertemplate": "%{text}<extra></extra>",
         "locationmode": "USA-states",
         "locations": [
          "AL",
          "AK",
          "AZ",
          "AR",
          "CA",
          "CO",
          "CT",
          "DE",
          "DC",
          "FL",
          "GA",
          "HI",
          "ID",
          "IL",
          "IN",
          "IA",
          "KS",
          "KY",
          "LA",
          "ME",
          "MD",
          "MA",
          "MI",
          "MN",
          "MS",
          "MO",
          "MT",
          "NE",
          "NV",
          "NH",
          "NJ",
          "NM",
          "NY",
          "NC",
          "ND",
          "OH",
          "OK",
          "OR",
          "PA",
          "RI",
          "SC",
          "SD",
          "TN",
          "TX",
          "UT",
          "VT",
          "VA",
          "WA",
          "WV",
          "WI",
          "WY"
         ],
         "showlegend": false,
         "showscale": false,
         "text": [
          "Alabama<br>Bush, George H.W.<br>Republican<br>Votes: 804,283 / 1,688,060<br>Population: 4,040,587<br>Density: 79 ppsm<br>Land Area: 50,750 mi²<br>",
          "Alaska<br>Bush, George H.W.<br>Republican<br>Votes: 102,000 / 258,506<br>Population: 550,043<br>Density: 0 ppsm<br>Land Area: 570,641 mi²<br>",
          "Arizona<br>Bush, George H.W.<br>Republican<br>Votes: 572,086 / 1,486,975<br>Population: 3,665,228<br>Density: 32 ppsm<br>Land Area: 113,642 mi²<br>",
          "Arkansas<br>Clinton, Bill<br>Democrat<br>Votes: 505,823 / 950,653<br>Population: 2,350,725<br>Density: 45 ppsm<br>Land Area: 52,075 mi²<br>",
          "California<br>Clinton, Bill<br>Democrat<br>Votes: 5,121,325 / 11,131,721<br>Population: 29,760,021<br>Density: 190 ppsm<br>Land Area: 155,973 mi²<br>",
          "Colorado<br>Clinton, Bill<br>Democrat<br>Votes: 629,681 / 1,569,180<br>Population: 3,294,394<br>Density: 31 ppsm<br>Land Area: 103,730 mi²<br>",
          "Connecticut<br>Clinton, Bill<br>Democrat<br>Votes: 682,318 / 1,616,156<br>Population: 3,287,116<br>Density: 678 ppsm<br>Land Area: 4,845 mi²<br>",
          "Delaware<br>Clinton, Bill<br>Democrat<br>Votes: 126,054 / 289,620<br>Population: 666,168<br>Density: 9,796 ppsm<br>Land Area: 1,955 mi²<br>",
          "District of Columbia<br>Clinton, Bill<br>Democrat<br>Votes: 192,619 / 227,572<br>Population: 606,900<br>Density: 310 ppsm<br>Land Area: 68 mi²<br>",
          "Florida<br>Bush, George H.W.<br>Republican<br>Votes: 2,173,310 / 5,313,392<br>Population: 12,937,926<br>Density: 239 ppsm<br>Land Area: 53,997 mi²<br>",
          "Georgia<br>Clinton, Bill<br>Democrat<br>Votes: 1,008,966 / 2,321,133<br>Population: 6,478,216<br>Density: 111 ppsm<br>Land Area: 57,919 mi²<br>",
          "Hawaii<br>Clinton, Bill<br>Democrat<br>Votes: 179,310 / 372,842<br>Population: 1,108,229<br>Density: 172 ppsm<br>Land Area: 6,423 mi²<br>",
          "Idaho<br>Bush, George H.W.<br>Republican<br>Votes: 202,645 / 482,114<br>Population: 1,006,749<br>Density: 12 ppsm<br>Land Area: 82,751 mi²<br>",
          "Illinois<br>Clinton, Bill<br>Democrat<br>Votes: 2,453,350 / 5,050,157<br>Population: 11,430,602<br>Density: 205 ppsm<br>Land Area: 55,593 mi²<br>",
          "Indiana<br>Bush, George H.W.<br>Republican<br>Votes: 989,375 / 2,305,871<br>Population: 5,544,159<br>Density: 154 ppsm<br>Land Area: 35,870 mi²<br>",
          "Iowa<br>Clinton, Bill<br>Democrat<br>Votes: 586,353 / 1,354,607<br>Population: 2,776,755<br>Density: 49 ppsm<br>Land Area: 55,875 mi²<br>",
          "Kansas<br>Bush, George H.W.<br>Republican<br>Votes: 449,951 / 1,157,236<br>Population: 2,477,574<br>Density: 30 ppsm<br>Land Area: 81,823 mi²<br>",
          "Kentucky<br>Clinton, Bill<br>Democrat<br>Votes: 665,104 / 1,492,900<br>Population: 3,685,296<br>Density: 92 ppsm<br>Land Area: 39,732 mi²<br>",
          "Louisiana<br>Clinton, Bill<br>Democrat<br>Votes: 815,971 / 1,790,017<br>Population: 4,219,973<br>Density: 96 ppsm<br>Land Area: 43,566 mi²<br>",
          "Maine<br>Clinton, Bill<br>Democrat<br>Votes: 263,420 / 679,499<br>Population: 1,227,928<br>Density: 39 ppsm<br>Land Area: 30,865 mi²<br>",
          "Maryland<br>Clinton, Bill<br>Democrat<br>Votes: 988,571 / 1,984,580<br>Population: 4,781,468<br>Density: 489 ppsm<br>Land Area: 9,775 mi²<br>",
          "Massachusetts<br>Clinton, Bill<br>Democrat<br>Votes: 1,318,639 / 2,773,664<br>Population: 6,016,425<br>Density: 767 ppsm<br>Land Area: 7,838 mi²<br>",
          "Michigan<br>Clinton, Bill<br>Democrat<br>Votes: 1,871,182 / 4,274,673<br>Population: 9,295,297<br>Density: 164 ppsm<br>Land Area: 56,539 mi²<br>",
          "Minnesota<br>Clinton, Bill<br>Democrat<br>Votes: 1,020,997 / 2,347,948<br>Population: 4,375,099<br>Density: 54 ppsm<br>Land Area: 79,617 mi²<br>",
          "Mississippi<br>Bush, George H.W.<br>Republican<br>Votes: 487,793 / 981,793<br>Population: 2,573,216<br>Density: 54 ppsm<br>Land Area: 46,914 mi²<br>",
          "Missouri<br>Clinton, Bill<br>Democrat<br>Votes: 1,053,873 / 2,391,270<br>Population: 5,117,073<br>Density: 74 ppsm<br>Land Area: 68,898 mi²<br>",
          "Montana<br>Clinton, Bill<br>Democrat<br>Votes: 154,507 / 410,583<br>Population: 799,065<br>Density: 5 ppsm<br>Land Area: 145,556 mi²<br>",
          "Nebraska<br>Bush, George H.W.<br>Republican<br>Votes: 343,678 / 737,546<br>Population: 1,578,385<br>Density: 20 ppsm<br>Land Area: 76,878 mi²<br>",
          "Nevada<br>Clinton, Bill<br>Democrat<br>Votes: 189,148 / 506,318<br>Population: 1,201,833<br>Density: 10 ppsm<br>Land Area: 109,806 mi²<br>",
          "New Hampshire<br>Clinton, Bill<br>Democrat<br>Votes: 209,040 / 537,215<br>Population: 1,109,252<br>Density: 123 ppsm<br>Land Area: 8,969 mi²<br>",
          "New Jersey<br>Clinton, Bill<br>Democrat<br>Votes: 1,436,206 / 3,343,594<br>Population: 7,730,188<br>Density: 1,041 ppsm<br>Land Area: 7,419 mi²<br>",
          "New Mexico<br>Clinton, Bill<br>Democrat<br>Votes: 261,617 / 569,986<br>Population: 1,515,069<br>Density: 12 ppsm<br>Land Area: 121,365 mi²<br>",
          "New York<br>Clinton, Bill<br>Democrat<br>Votes: 3,346,894 / 7,079,432<br>Population: 17,990,455<br>Density: 380 ppsm<br>Land Area: 47,224 mi²<br>",
          "North Carolina<br>Bush, George H.W.<br>Republican<br>Votes: 1,134,661 / 2,611,850<br>Population: 6,628,637<br>Density: 136 ppsm<br>Land Area: 48,718 mi²<br>",
          "North Dakota<br>Bush, George H.W.<br>Republican<br>Votes: 136,244 / 308,133<br>Population: 638,800<br>Density: 9 ppsm<br>Land Area: 68,994 mi²<br>",
          "Ohio<br>Clinton, Bill<br>Democrat<br>Votes: 1,984,942 / 4,939,967<br>Population: 10,847,115<br>Density: 264 ppsm<br>Land Area: 40,953 mi²<br>",
          "Oklahoma<br>Bush, George H.W.<br>Republican<br>Votes: 592,929 / 1,390,359<br>Population: 3,145,585<br>Density: 45 ppsm<br>Land Area: 68,679 mi²<br>",
          "Oregon<br>Clinton, Bill<br>Democrat<br>Votes: 621,314 / 1,462,643<br>Population: 2,842,321<br>Density: 29 ppsm<br>Land Area: 96,003 mi²<br>",
          "Pennsylvania<br>Clinton, Bill<br>Democrat<br>Votes: 2,239,164 / 4,959,810<br>Population: 11,881,643<br>Density: 265 ppsm<br>Land Area: 44,820 mi²<br>",
          "Rhode Island<br>Clinton, Bill<br>Democrat<br>Votes: 213,299 / 453,365<br>Population: 1,003,464<br>Density: 970 ppsm<br>Land Area: 1,034 mi²<br>",
          "South Carolina<br>Bush, George H.W.<br>Republican<br>Votes: 577,507 / 1,228,912<br>Population: 3,486,703<br>Density: 115 ppsm<br>Land Area: 30,111 mi²<br>",
          "South Dakota<br>Bush, George H.W.<br>Republican<br>Votes: 136,718 / 336,254<br>Population: 696,004<br>Density: 9 ppsm<br>Land Area: 75,898 mi²<br>",
          "Tennessee<br>Clinton, Bill<br>Democrat<br>Votes: 933,521 / 1,982,638<br>Population: 4,877,185<br>Density: 118 ppsm<br>Land Area: 41,220 mi²<br>",
          "Texas<br>Bush, George H.W.<br>Republican<br>Votes: 2,496,071 / 6,154,018<br>Population: 16,986,510<br>Density: 64 ppsm<br>Land Area: 261,914 mi²<br>",
          "Utah<br>Bush, George H.W.<br>Republican<br>Votes: 322,632 / 743,998<br>Population: 1,722,850<br>Density: 20 ppsm<br>Land Area: 82,168 mi²<br>",
          "Vermont<br>Clinton, Bill<br>Democrat<br>Votes: 133,592 / 289,701<br>Population: 562,758<br>Density: 60 ppsm<br>Land Area: 9,249 mi²<br>",
          "Virginia<br>Bush, George H.W.<br>Republican<br>Votes: 1,150,517 / 2,559,129<br>Population: 6,187,358<br>Density: 156 ppsm<br>Land Area: 39,598 mi²<br>",
          "Washington<br>Clinton, Bill<br>Democrat<br>Votes: 993,037 / 2,287,565<br>Population: 4,866,692<br>Density: 73 ppsm<br>Land Area: 66,582 mi²<br>",
          "West Virginia<br>Clinton, Bill<br>Democrat<br>Votes: 331,001 / 683,677<br>Population: 1,793,477<br>Density: 74 ppsm<br>Land Area: 24,087 mi²<br>",
          "Wisconsin<br>Clinton, Bill<br>Democrat<br>Votes: 1,041,066 / 2,531,064<br>Population: 4,891,769<br>Density: 90 ppsm<br>Land Area: 54,314 mi²<br>",
          "Wyoming<br>Bush, George H.W.<br>Republican<br>Votes: 79,347 / 199,884<br>Population: 453,588<br>Density: 4 ppsm<br>Land Area: 97,105 mi²<br>"
         ],
         "type": "choropleth",
         "z": [
          1,
          1,
          1,
          0,
          0,
          0,
          0,
          0,
          0,
          1,
          0,
          0,
          1,
          0,
          1,
          0,
          1,
          0,
          0,
          0,
          0,
          0,
          0,
          0,
          1,
          0,
          0,
          1,
          0,
          0,
          0,
          0,
          0,
          1,
          1,
          0,
          1,
          0,
          0,
          0,
          1,
          1,
          0,
          1,
          1,
          0,
          1,
          0,
          0,
          0,
          1
         ]
        },
        {
         "colorscale": [
          [
           0,
           "#0015BC"
          ],
          [
           1,
           "#DE0100"
          ]
         ],
         "hovertemplate": "%{text}<extra></extra>",
         "locationmode": "USA-states",
         "locations": [
          "AL",
          "AK",
          "AZ",
          "AR",
          "CA",
          "CO",
          "CT",
          "DE",
          "DC",
          "FL",
          "GA",
          "HI",
          "ID",
          "IL",
          "IN",
          "IA",
          "KS",
          "KY",
          "LA",
          "ME",
          "MD",
          "MA",
          "MI",
          "MN",
          "MS",
          "MO",
          "MT",
          "NE",
          "NV",
          "NH",
          "NJ",
          "NM",
          "NY",
          "NC",
          "ND",
          "OH",
          "OK",
          "OR",
          "PA",
          "RI",
          "SC",
          "SD",
          "TN",
          "TX",
          "UT",
          "VT",
          "VA",
          "WA",
          "WV",
          "WI",
          "WY"
         ],
         "showlegend": false,
         "showscale": false,
         "text": [
          "Alabama<br>Dole, Robert<br>Republican<br>Votes: 769,044 / 1,534,349<br>Population: 4,447,100<br>Density: 87 ppsm<br>Land Area: 50,750 mi²<br>",
          "Alaska<br>Dole, Robert<br>Republican<br>Votes: 122,746 / 241,620<br>Population: 626,932<br>Density: 1 ppsm<br>Land Area: 570,641 mi²<br>",
          "Arizona<br>Clinton, Bill<br>Democrat<br>Votes: 653,288 / 1,404,405<br>Population: 5,130,632<br>Density: 45 ppsm<br>Land Area: 113,642 mi²<br>",
          "Arkansas<br>Clinton, Bill<br>Democrat<br>Votes: 475,171 / 884,262<br>Population: 2,673,400<br>Density: 51 ppsm<br>Land Area: 52,075 mi²<br>",
          "California<br>Clinton, Bill<br>Democrat<br>Votes: 5,119,835 / 10,019,469<br>Population: 33,871,648<br>Density: 217 ppsm<br>Land Area: 155,973 mi²<br>",
          "Colorado<br>Dole, Robert<br>Republican<br>Votes: 691,848 / 1,510,702<br>Population: 4,301,261<br>Density: 41 ppsm<br>Land Area: 103,730 mi²<br>",
          "Connecticut<br>Clinton, Bill<br>Democrat<br>Votes: 735,740 / 1,392,614<br>Population: 3,405,565<br>Density: 702 ppsm<br>Land Area: 4,845 mi²<br>",
          "Delaware<br>Clinton, Bill<br>Democrat<br>Votes: 140,355 / 270,810<br>Population: 783,600<br>Density: 11,523 ppsm<br>Land Area: 1,955 mi²<br>",
          "District of Columbia<br>Clinton, Bill<br>Democrat<br>Votes: 158,220 / 185,726<br>Population: 572,059<br>Density: 292 ppsm<br>Land Area: 68 mi²<br>",
          "Florida<br>Clinton, Bill<br>Democrat<br>Votes: 2,546,870 / 5,303,154<br>Population: 15,982,378<br>Density: 295 ppsm<br>Land Area: 53,997 mi²<br>",
          "Georgia<br>Dole, Robert<br>Republican<br>Votes: 1,080,843 / 2,298,899<br>Population: 8,186,453<br>Density: 141 ppsm<br>Land Area: 57,919 mi²<br>",
          "Hawaii<br>Clinton, Bill<br>Democrat<br>Votes: 205,012 / 360,120<br>Population: 1,211,537<br>Density: 188 ppsm<br>Land Area: 6,423 mi²<br>",
          "Idaho<br>Dole, Robert<br>Republican<br>Votes: 256,595 / 491,711<br>Population: 1,293,953<br>Density: 15 ppsm<br>Land Area: 82,751 mi²<br>",
          "Illinois<br>Clinton, Bill<br>Democrat<br>Votes: 2,341,744 / 4,311,391<br>Population: 12,419,293<br>Density: 223 ppsm<br>Land Area: 55,593 mi²<br>",
          "Indiana<br>Dole, Robert<br>Republican<br>Votes: 1,006,693 / 2,135,431<br>Population: 6,080,485<br>Density: 169 ppsm<br>Land Area: 35,870 mi²<br>",
          "Iowa<br>Clinton, Bill<br>Democrat<br>Votes: 620,258 / 1,234,075<br>Population: 2,926,324<br>Density: 52 ppsm<br>Land Area: 55,875 mi²<br>",
          "Kansas<br>Dole, Robert<br>Republican<br>Votes: 583,245 / 1,074,300<br>Population: 2,688,418<br>Density: 32 ppsm<br>Land Area: 81,823 mi²<br>",
          "Kentucky<br>Clinton, Bill<br>Democrat<br>Votes: 636,614 / 1,388,708<br>Population: 4,041,769<br>Density: 101 ppsm<br>Land Area: 39,732 mi²<br>",
          "Louisiana<br>Clinton, Bill<br>Democrat<br>Votes: 927,837 / 1,783,959<br>Population: 4,468,976<br>Density: 102 ppsm<br>Land Area: 43,566 mi²<br>",
          "Maine<br>Clinton, Bill<br>Democrat<br>Votes: 312,788 / 605,897<br>Population: 1,274,923<br>Density: 41 ppsm<br>Land Area: 30,865 mi²<br>",
          "Maryland<br>Clinton, Bill<br>Democrat<br>Votes: 966,207 / 1,780,870<br>Population: 5,296,486<br>Density: 541 ppsm<br>Land Area: 9,775 mi²<br>",
          "Massachusetts<br>Clinton, Bill<br>Democrat<br>Votes: 1,571,509 / 2,556,459<br>Population: 6,349,097<br>Density: 810 ppsm<br>Land Area: 7,838 mi²<br>",
          "Michigan<br>Clinton, Bill<br>Democrat<br>Votes: 1,989,653 / 3,848,844<br>Population: 9,938,444<br>Density: 175 ppsm<br>Land Area: 56,539 mi²<br>",
          "Minnesota<br>Clinton, Bill<br>Democrat<br>Votes: 1,120,380 / 2,192,492<br>Population: 4,919,479<br>Density: 61 ppsm<br>Land Area: 79,617 mi²<br>",
          "Mississippi<br>Dole, Robert<br>Republican<br>Votes: 439,838 / 893,857<br>Population: 2,844,658<br>Density: 60 ppsm<br>Land Area: 46,914 mi²<br>",
          "Missouri<br>Clinton, Bill<br>Democrat<br>Votes: 1,025,935 / 2,158,065<br>Population: 5,595,211<br>Density: 81 ppsm<br>Land Area: 68,898 mi²<br>",
          "Montana<br>Dole, Robert<br>Republican<br>Votes: 179,652 / 407,083<br>Population: 902,195<br>Density: 6 ppsm<br>Land Area: 145,556 mi²<br>",
          "Nebraska<br>Dole, Robert<br>Republican<br>Votes: 363,467 / 677,415<br>Population: 1,711,263<br>Density: 22 ppsm<br>Land Area: 76,878 mi²<br>",
          "Nevada<br>Clinton, Bill<br>Democrat<br>Votes: 203,974 / 464,279<br>Population: 1,998,257<br>Density: 18 ppsm<br>Land Area: 109,806 mi²<br>",
          "New Hampshire<br>Clinton, Bill<br>Democrat<br>Votes: 246,166 / 496,597<br>Population: 1,235,786<br>Density: 137 ppsm<br>Land Area: 8,969 mi²<br>",
          "New Jersey<br>Clinton, Bill<br>Democrat<br>Votes: 1,652,361 / 3,075,860<br>Population: 8,414,350<br>Density: 1,134 ppsm<br>Land Area: 7,419 mi²<br>",
          "New Mexico<br>Clinton, Bill<br>Democrat<br>Votes: 273,495 / 556,074<br>Population: 1,819,046<br>Density: 14 ppsm<br>Land Area: 121,365 mi²<br>",
          "New York<br>Clinton, Bill<br>Democrat<br>Votes: 3,649,630 / 6,439,129<br>Population: 18,976,457<br>Density: 401 ppsm<br>Land Area: 47,224 mi²<br>",
          "North Carolina<br>Dole, Robert<br>Republican<br>Votes: 1,225,938 / 2,515,807<br>Population: 8,049,313<br>Density: 165 ppsm<br>Land Area: 48,718 mi²<br>",
          "North Dakota<br>Dole, Robert<br>Republican<br>Votes: 125,050 / 266,411<br>Population: 642,200<br>Density: 9 ppsm<br>Land Area: 68,994 mi²<br>",
          "Ohio<br>Clinton, Bill<br>Democrat<br>Votes: 2,148,222 / 4,534,434<br>Population: 11,353,140<br>Density: 277 ppsm<br>Land Area: 40,953 mi²<br>",
          "Oklahoma<br>Dole, Robert<br>Republican<br>Votes: 582,315 / 1,206,713<br>Population: 3,450,654<br>Density: 50 ppsm<br>Land Area: 68,679 mi²<br>",
          "Oregon<br>Clinton, Bill<br>Democrat<br>Votes: 649,641 / 1,377,760<br>Population: 3,421,399<br>Density: 35 ppsm<br>Land Area: 96,003 mi²<br>",
          "Pennsylvania<br>Clinton, Bill<br>Democrat<br>Votes: 2,215,819 / 4,501,307<br>Population: 12,281,054<br>Density: 274 ppsm<br>Land Area: 44,820 mi²<br>",
          "Rhode Island<br>Clinton, Bill<br>Democrat<br>Votes: 233,050 / 390,247<br>Population: 1,048,319<br>Density: 1,013 ppsm<br>Land Area: 1,034 mi²<br>",
          "South Carolina<br>Dole, Robert<br>Republican<br>Votes: 573,339 / 1,150,182<br>Population: 4,012,012<br>Density: 133 ppsm<br>Land Area: 30,111 mi²<br>",
          "South Dakota<br>Dole, Robert<br>Republican<br>Votes: 150,543 / 323,826<br>Population: 754,844<br>Density: 9 ppsm<br>Land Area: 75,898 mi²<br>",
          "Tennessee<br>Clinton, Bill<br>Democrat<br>Votes: 909,146 / 1,894,105<br>Population: 5,689,283<br>Density: 138 ppsm<br>Land Area: 41,220 mi²<br>",
          "Texas<br>Dole, Robert<br>Republican<br>Votes: 2,736,167 / 5,611,644<br>Population: 20,851,820<br>Density: 79 ppsm<br>Land Area: 261,914 mi²<br>",
          "Utah<br>Dole, Robert<br>Republican<br>Votes: 361,911 / 665,629<br>Population: 2,233,169<br>Density: 27 ppsm<br>Land Area: 82,168 mi²<br>",
          "Vermont<br>Clinton, Bill<br>Democrat<br>Votes: 137,894 / 258,449<br>Population: 608,827<br>Density: 65 ppsm<br>Land Area: 9,249 mi²<br>",
          "Virginia<br>Dole, Robert<br>Republican<br>Votes: 1,138,350 / 2,416,642<br>Population: 7,078,515<br>Density: 178 ppsm<br>Land Area: 39,598 mi²<br>",
          "Washington<br>Clinton, Bill<br>Democrat<br>Votes: 1,123,323 / 2,253,837<br>Population: 5,894,121<br>Density: 88 ppsm<br>Land Area: 66,582 mi²<br>",
          "West Virginia<br>Clinton, Bill<br>Democrat<br>Votes: 327,812 / 636,459<br>Population: 1,808,344<br>Density: 75 ppsm<br>Land Area: 24,087 mi²<br>",
          "Wisconsin<br>Clinton, Bill<br>Democrat<br>Votes: 1,071,971 / 2,196,169<br>Population: 5,363,675<br>Density: 98 ppsm<br>Land Area: 54,314 mi²<br>",
          "Wyoming<br>Dole, Robert<br>Republican<br>Votes: 105,388 / 211,571<br>Population: 493,782<br>Density: 5 ppsm<br>Land Area: 97,105 mi²<br>"
         ],
         "type": "choropleth",
         "z": [
          1,
          1,
          0,
          0,
          0,
          1,
          0,
          0,
          0,
          0,
          1,
          0,
          1,
          0,
          1,
          0,
          1,
          0,
          0,
          0,
          0,
          0,
          0,
          0,
          1,
          0,
          1,
          1,
          0,
          0,
          0,
          0,
          0,
          1,
          1,
          0,
          1,
          0,
          0,
          0,
          1,
          1,
          0,
          1,
          1,
          0,
          1,
          0,
          0,
          0,
          1
         ]
        },
        {
         "colorscale": [
          [
           0,
           "#0015BC"
          ],
          [
           1,
           "#DE0100"
          ]
         ],
         "hovertemplate": "%{text}<extra></extra>",
         "locationmode": "USA-states",
         "locations": [
          "AL",
          "AK",
          "AZ",
          "AR",
          "CA",
          "CO",
          "CT",
          "DE",
          "DC",
          "FL",
          "GA",
          "HI",
          "ID",
          "IL",
          "IN",
          "IA",
          "KS",
          "KY",
          "LA",
          "ME",
          "MD",
          "MA",
          "MI",
          "MN",
          "MS",
          "MO",
          "MT",
          "NE",
          "NV",
          "NH",
          "NJ",
          "NM",
          "NY",
          "NC",
          "ND",
          "OH",
          "OK",
          "OR",
          "PA",
          "RI",
          "SC",
          "SD",
          "TN",
          "TX",
          "UT",
          "VT",
          "VA",
          "WA",
          "WV",
          "WI",
          "WY"
         ],
         "showlegend": false,
         "showscale": false,
         "text": [
          "Alabama<br>Bush, George W.<br>Republican<br>Votes: 941,173 / 1,666,272<br>Population: 4,447,100<br>Density: 87 ppsm<br>Land Area: 50,750 mi²<br>",
          "Alaska<br>Bush, George W.<br>Republican<br>Votes: 167,398 / 285,560<br>Population: 626,932<br>Density: 1 ppsm<br>Land Area: 570,641 mi²<br>",
          "Arizona<br>Bush, George W.<br>Republican<br>Votes: 781,652 / 1,532,016<br>Population: 5,130,632<br>Density: 45 ppsm<br>Land Area: 113,642 mi²<br>",
          "Arkansas<br>Bush, George W.<br>Republican<br>Votes: 472,940 / 921,781<br>Population: 2,673,400<br>Density: 51 ppsm<br>Land Area: 52,075 mi²<br>",
          "California<br>Gore, Al<br>Democrat<br>Votes: 5,861,203 / 10,965,822<br>Population: 33,871,648<br>Density: 217 ppsm<br>Land Area: 155,973 mi²<br>",
          "Colorado<br>Bush, George W.<br>Republican<br>Votes: 883,748 / 1,741,368<br>Population: 4,301,261<br>Density: 41 ppsm<br>Land Area: 103,730 mi²<br>",
          "Connecticut<br>Gore, Al<br>Democrat<br>Votes: 816,015 / 1,459,525<br>Population: 3,405,565<br>Density: 702 ppsm<br>Land Area: 4,845 mi²<br>",
          "Delaware<br>Gore, Al<br>Democrat<br>Votes: 180,068 / 327,529<br>Population: 783,600<br>Density: 11,523 ppsm<br>Land Area: 1,955 mi²<br>",
          "District of Columbia<br>Gore, Al<br>Democrat<br>Votes: 171,923 / 201,894<br>Population: 572,059<br>Density: 292 ppsm<br>Land Area: 68 mi²<br>",
          "Florida<br>Bush, George W.<br>Republican<br>Votes: 2,912,790 / 5,963,110<br>Population: 15,982,378<br>Density: 295 ppsm<br>Land Area: 53,997 mi²<br>",
          "Georgia<br>Bush, George W.<br>Republican<br>Votes: 1,419,720 / 2,583,208<br>Population: 8,186,453<br>Density: 141 ppsm<br>Land Area: 57,919 mi²<br>",
          "Hawaii<br>Gore, Al<br>Democrat<br>Votes: 205,286 / 367,951<br>Population: 1,211,537<br>Density: 188 ppsm<br>Land Area: 6,423 mi²<br>",
          "Idaho<br>Bush, George W.<br>Republican<br>Votes: 336,937 / 501,615<br>Population: 1,293,953<br>Density: 15 ppsm<br>Land Area: 82,751 mi²<br>",
          "Illinois<br>Gore, Al<br>Democrat<br>Votes: 2,589,026 / 4,742,108<br>Population: 12,419,293<br>Density: 223 ppsm<br>Land Area: 55,593 mi²<br>",
          "Indiana<br>Bush, George W.<br>Republican<br>Votes: 1,245,836 / 2,199,302<br>Population: 6,080,485<br>Density: 169 ppsm<br>Land Area: 35,870 mi²<br>",
          "Iowa<br>Gore, Al<br>Democrat<br>Votes: 638,517 / 1,353,022<br>Population: 2,926,324<br>Density: 52 ppsm<br>Land Area: 55,875 mi²<br>",
          "Kansas<br>Bush, George W.<br>Republican<br>Votes: 622,332 / 1,072,216<br>Population: 2,688,418<br>Density: 32 ppsm<br>Land Area: 81,823 mi²<br>",
          "Kentucky<br>Bush, George W.<br>Republican<br>Votes: 872,520 / 1,544,106<br>Population: 4,041,769<br>Density: 101 ppsm<br>Land Area: 39,732 mi²<br>",
          "Louisiana<br>Bush, George W.<br>Republican<br>Votes: 927,871 / 1,765,656<br>Population: 4,468,976<br>Density: 102 ppsm<br>Land Area: 43,566 mi²<br>",
          "Maine<br>Gore, Al<br>Democrat<br>Votes: 319,951 / 651,817<br>Population: 1,274,923<br>Density: 41 ppsm<br>Land Area: 30,865 mi²<br>",
          "Maryland<br>Gore, Al<br>Democrat<br>Votes: 1,144,008 / 2,025,212<br>Population: 5,296,486<br>Density: 541 ppsm<br>Land Area: 9,775 mi²<br>",
          "Massachusetts<br>Gore, Al<br>Democrat<br>Votes: 1,616,487 / 2,733,964<br>Population: 6,349,097<br>Density: 810 ppsm<br>Land Area: 7,838 mi²<br>",
          "Michigan<br>Gore, Al<br>Democrat<br>Votes: 2,170,418 / 4,232,501<br>Population: 9,938,444<br>Density: 175 ppsm<br>Land Area: 56,539 mi²<br>",
          "Minnesota<br>Gore, Al<br>Democrat<br>Votes: 1,168,266 / 2,438,685<br>Population: 4,919,479<br>Density: 61 ppsm<br>Land Area: 79,617 mi²<br>",
          "Mississippi<br>Bush, George W.<br>Republican<br>Votes: 572,844 / 994,184<br>Population: 2,844,658<br>Density: 60 ppsm<br>Land Area: 46,914 mi²<br>",
          "Missouri<br>Bush, George W.<br>Republican<br>Votes: 1,189,924 / 2,359,892<br>Population: 5,595,211<br>Density: 81 ppsm<br>Land Area: 68,898 mi²<br>",
          "Montana<br>Bush, George W.<br>Republican<br>Votes: 240,178 / 410,986<br>Population: 902,195<br>Density: 6 ppsm<br>Land Area: 145,556 mi²<br>",
          "Nebraska<br>Bush, George W.<br>Republican<br>Votes: 433,862 / 697,019<br>Population: 1,711,263<br>Density: 22 ppsm<br>Land Area: 76,878 mi²<br>",
          "Nevada<br>Bush, George W.<br>Republican<br>Votes: 301,575 / 609,426<br>Population: 1,998,257<br>Density: 18 ppsm<br>Land Area: 109,806 mi²<br>",
          "New Hampshire<br>Bush, George W.<br>Republican<br>Votes: 273,559 / 569,081<br>Population: 1,235,786<br>Density: 137 ppsm<br>Land Area: 8,969 mi²<br>",
          "New Jersey<br>Gore, Al<br>Democrat<br>Votes: 1,788,850 / 3,187,226<br>Population: 8,414,350<br>Density: 1,134 ppsm<br>Land Area: 7,419 mi²<br>",
          "New Mexico<br>Gore, Al<br>Democrat<br>Votes: 286,783 / 598,605<br>Population: 1,819,046<br>Density: 14 ppsm<br>Land Area: 121,365 mi²<br>",
          "New York<br>Gore, Al<br>Democrat<br>Votes: 3,942,215 / 6,960,215<br>Population: 18,976,457<br>Density: 401 ppsm<br>Land Area: 47,224 mi²<br>",
          "North Carolina<br>Bush, George W.<br>Republican<br>Votes: 1,631,163 / 2,914,990<br>Population: 8,049,313<br>Density: 165 ppsm<br>Land Area: 48,718 mi²<br>",
          "North Dakota<br>Bush, George W.<br>Republican<br>Votes: 174,852 / 288,256<br>Population: 642,200<br>Density: 9 ppsm<br>Land Area: 68,994 mi²<br>",
          "Ohio<br>Bush, George W.<br>Republican<br>Votes: 2,350,363 / 4,701,998<br>Population: 11,353,140<br>Density: 277 ppsm<br>Land Area: 40,953 mi²<br>",
          "Oklahoma<br>Bush, George W.<br>Republican<br>Votes: 744,337 / 1,234,229<br>Population: 3,450,654<br>Density: 50 ppsm<br>Land Area: 68,679 mi²<br>",
          "Oregon<br>Gore, Al<br>Democrat<br>Votes: 720,342 / 1,533,950<br>Population: 3,421,399<br>Density: 35 ppsm<br>Land Area: 96,003 mi²<br>",
          "Pennsylvania<br>Gore, Al<br>Democrat<br>Votes: 2,485,967 / 4,912,185<br>Population: 12,281,054<br>Density: 274 ppsm<br>Land Area: 44,820 mi²<br>",
          "Rhode Island<br>Gore, Al<br>Democrat<br>Votes: 249,508 / 409,112<br>Population: 1,048,319<br>Density: 1,013 ppsm<br>Land Area: 1,034 mi²<br>",
          "South Carolina<br>Bush, George W.<br>Republican<br>Votes: 786,892 / 1,383,902<br>Population: 4,012,012<br>Density: 133 ppsm<br>Land Area: 30,111 mi²<br>",
          "South Dakota<br>Bush, George W.<br>Republican<br>Votes: 190,700 / 316,269<br>Population: 754,844<br>Density: 9 ppsm<br>Land Area: 75,898 mi²<br>",
          "Tennessee<br>Bush, George W.<br>Republican<br>Votes: 1,061,949 / 2,076,181<br>Population: 5,689,283<br>Density: 138 ppsm<br>Land Area: 41,220 mi²<br>",
          "Texas<br>Bush, George W.<br>Republican<br>Votes: 3,799,639 / 6,407,637<br>Population: 20,851,820<br>Density: 79 ppsm<br>Land Area: 261,914 mi²<br>",
          "Utah<br>Bush, George W.<br>Republican<br>Votes: 515,096 / 770,754<br>Population: 2,233,169<br>Density: 27 ppsm<br>Land Area: 82,168 mi²<br>",
          "Vermont<br>Gore, Al<br>Democrat<br>Votes: 149,022 / 294,308<br>Population: 608,827<br>Density: 65 ppsm<br>Land Area: 9,249 mi²<br>",
          "Virginia<br>Bush, George W.<br>Republican<br>Votes: 1,437,490 / 2,739,447<br>Population: 7,078,515<br>Density: 178 ppsm<br>Land Area: 39,598 mi²<br>",
          "Washington<br>Gore, Al<br>Democrat<br>Votes: 1,247,652 / 2,487,433<br>Population: 5,894,121<br>Density: 88 ppsm<br>Land Area: 66,582 mi²<br>",
          "West Virginia<br>Bush, George W.<br>Republican<br>Votes: 336,475 / 648,124<br>Population: 1,808,344<br>Density: 75 ppsm<br>Land Area: 24,087 mi²<br>",
          "Wisconsin<br>Gore, Al<br>Democrat<br>Votes: 1,242,987 / 2,598,607<br>Population: 5,363,675<br>Density: 98 ppsm<br>Land Area: 54,314 mi²<br>",
          "Wyoming<br>Bush, George W.<br>Republican<br>Votes: 147,947 / 213,726<br>Population: 493,782<br>Density: 5 ppsm<br>Land Area: 97,105 mi²<br>"
         ],
         "type": "choropleth",
         "z": [
          1,
          1,
          1,
          1,
          0,
          1,
          0,
          0,
          0,
          1,
          1,
          0,
          1,
          0,
          1,
          0,
          1,
          1,
          1,
          0,
          0,
          0,
          0,
          0,
          1,
          1,
          1,
          1,
          1,
          1,
          0,
          0,
          0,
          1,
          1,
          1,
          1,
          0,
          0,
          0,
          1,
          1,
          1,
          1,
          1,
          0,
          1,
          0,
          1,
          0,
          1
         ]
        },
        {
         "colorscale": [
          [
           0,
           "#0015BC"
          ],
          [
           1,
           "#DE0100"
          ]
         ],
         "hovertemplate": "%{text}<extra></extra>",
         "locationmode": "USA-states",
         "locations": [
          "AL",
          "AK",
          "AZ",
          "AR",
          "CA",
          "CO",
          "CT",
          "DE",
          "DC",
          "FL",
          "GA",
          "HI",
          "ID",
          "IL",
          "IN",
          "IA",
          "KS",
          "KY",
          "LA",
          "ME",
          "MD",
          "MA",
          "MI",
          "MN",
          "MS",
          "MO",
          "MT",
          "NE",
          "NV",
          "NH",
          "NJ",
          "NM",
          "NY",
          "NC",
          "ND",
          "OH",
          "OK",
          "OR",
          "PA",
          "RI",
          "SC",
          "SD",
          "TN",
          "TX",
          "UT",
          "VT",
          "VA",
          "WA",
          "WV",
          "WI",
          "WY"
         ],
         "showlegend": false,
         "showscale": false,
         "text": [
          "Alabama<br>Bush, George W.<br>Republican<br>Votes: 1,176,394 / 1,883,415<br>Population: 4,447,100<br>Density: 87 ppsm<br>Land Area: 50,750 mi²<br>",
          "Alaska<br>Bush, George W.<br>Republican<br>Votes: 190,889 / 312,598<br>Population: 626,932<br>Density: 1 ppsm<br>Land Area: 570,641 mi²<br>",
          "Arizona<br>Bush, George W.<br>Republican<br>Votes: 1,104,294 / 2,012,585<br>Population: 5,130,632<br>Density: 45 ppsm<br>Land Area: 113,642 mi²<br>",
          "Arkansas<br>Bush, George W.<br>Republican<br>Votes: 572,898 / 1,054,945<br>Population: 2,673,400<br>Density: 51 ppsm<br>Land Area: 52,075 mi²<br>",
          "California<br>Kerry, John<br>Democrat<br>Votes: 6,745,485 / 12,421,353<br>Population: 33,871,648<br>Density: 217 ppsm<br>Land Area: 155,973 mi²<br>",
          "Colorado<br>Bush, George W.<br>Republican<br>Votes: 1,101,255 / 2,129,630<br>Population: 4,301,261<br>Density: 41 ppsm<br>Land Area: 103,730 mi²<br>",
          "Connecticut<br>Kerry, John<br>Democrat<br>Votes: 857,488 / 1,578,769<br>Population: 3,405,565<br>Density: 702 ppsm<br>Land Area: 4,845 mi²<br>",
          "Delaware<br>Kerry, John<br>Democrat<br>Votes: 200,152 / 375,190<br>Population: 783,600<br>Density: 11,523 ppsm<br>Land Area: 1,955 mi²<br>",
          "District of Columbia<br>Kerry, John<br>Democrat<br>Votes: 202,970 / 227,586<br>Population: 572,059<br>Density: 292 ppsm<br>Land Area: 68 mi²<br>",
          "Florida<br>Bush, George W.<br>Republican<br>Votes: 3,964,522 / 7,609,810<br>Population: 15,982,378<br>Density: 295 ppsm<br>Land Area: 53,997 mi²<br>",
          "Georgia<br>Bush, George W.<br>Republican<br>Votes: 1,914,254 / 3,301,875<br>Population: 8,186,453<br>Density: 141 ppsm<br>Land Area: 57,919 mi²<br>",
          "Hawaii<br>Kerry, John<br>Democrat<br>Votes: 231,708 / 429,013<br>Population: 1,211,537<br>Density: 188 ppsm<br>Land Area: 6,423 mi²<br>",
          "Idaho<br>Bush, George W.<br>Republican<br>Votes: 409,235 / 598,376<br>Population: 1,293,953<br>Density: 15 ppsm<br>Land Area: 82,751 mi²<br>",
          "Illinois<br>Kerry, John<br>Democrat<br>Votes: 2,891,550 / 5,274,322<br>Population: 12,419,293<br>Density: 223 ppsm<br>Land Area: 55,593 mi²<br>",
          "Indiana<br>Bush, George W.<br>Republican<br>Votes: 1,479,438 / 2,468,002<br>Population: 6,080,485<br>Density: 169 ppsm<br>Land Area: 35,870 mi²<br>",
          "Iowa<br>Bush, George W.<br>Republican<br>Votes: 751,957 / 1,506,908<br>Population: 2,926,324<br>Density: 52 ppsm<br>Land Area: 55,875 mi²<br>",
          "Kansas<br>Bush, George W.<br>Republican<br>Votes: 736,456 / 1,187,756<br>Population: 2,688,418<br>Density: 32 ppsm<br>Land Area: 81,823 mi²<br>",
          "Kentucky<br>Bush, George W.<br>Republican<br>Votes: 1,069,439 / 1,795,882<br>Population: 4,041,769<br>Density: 101 ppsm<br>Land Area: 39,732 mi²<br>",
          "Louisiana<br>Bush, George W.<br>Republican<br>Votes: 1,102,169 / 1,943,106<br>Population: 4,468,976<br>Density: 102 ppsm<br>Land Area: 43,566 mi²<br>",
          "Maine<br>Kerry, John<br>Democrat<br>Votes: 396,842 / 740,752<br>Population: 1,274,923<br>Density: 41 ppsm<br>Land Area: 30,865 mi²<br>",
          "Maryland<br>Kerry, John<br>Democrat<br>Votes: 1,334,493 / 2,384,238<br>Population: 5,296,486<br>Density: 541 ppsm<br>Land Area: 9,775 mi²<br>",
          "Massachusetts<br>Kerry, John<br>Democrat<br>Votes: 1,803,800 / 2,927,455<br>Population: 6,349,097<br>Density: 810 ppsm<br>Land Area: 7,838 mi²<br>",
          "Michigan<br>Kerry, John<br>Democrat<br>Votes: 2,479,183 / 4,839,252<br>Population: 9,938,444<br>Density: 175 ppsm<br>Land Area: 56,539 mi²<br>",
          "Minnesota<br>Kerry, John<br>Democrat<br>Votes: 1,445,014 / 2,828,387<br>Population: 4,919,479<br>Density: 61 ppsm<br>Land Area: 79,617 mi²<br>",
          "Mississippi<br>Bush, George W.<br>Republican<br>Votes: 672,660 / 1,139,824<br>Population: 2,844,658<br>Density: 60 ppsm<br>Land Area: 46,914 mi²<br>",
          "Missouri<br>Bush, George W.<br>Republican<br>Votes: 1,455,713 / 2,731,364<br>Population: 5,595,211<br>Density: 81 ppsm<br>Land Area: 68,898 mi²<br>",
          "Montana<br>Bush, George W.<br>Republican<br>Votes: 266,063 / 450,434<br>Population: 902,195<br>Density: 6 ppsm<br>Land Area: 145,556 mi²<br>",
          "Nebraska<br>Bush, George W.<br>Republican<br>Votes: 512,814 / 778,186<br>Population: 1,711,263<br>Density: 22 ppsm<br>Land Area: 76,878 mi²<br>",
          "Nevada<br>Bush, George W.<br>Republican<br>Votes: 418,690 / 829,587<br>Population: 1,998,257<br>Density: 18 ppsm<br>Land Area: 109,806 mi²<br>",
          "New Hampshire<br>Kerry, John<br>Democrat<br>Votes: 340,511 / 678,287<br>Population: 1,235,786<br>Density: 137 ppsm<br>Land Area: 8,969 mi²<br>",
          "New Jersey<br>Kerry, John<br>Democrat<br>Votes: 1,911,430 / 3,611,691<br>Population: 8,414,350<br>Density: 1,134 ppsm<br>Land Area: 7,419 mi²<br>",
          "New Mexico<br>Bush, George W.<br>Republican<br>Votes: 376,930 / 756,304<br>Population: 1,819,046<br>Density: 14 ppsm<br>Land Area: 121,365 mi²<br>",
          "New York<br>Kerry, John<br>Democrat<br>Votes: 4,180,755 / 7,448,266<br>Population: 18,976,457<br>Density: 401 ppsm<br>Land Area: 47,224 mi²<br>",
          "North Carolina<br>Bush, George W.<br>Republican<br>Votes: 1,961,166 / 3,501,007<br>Population: 8,049,313<br>Density: 165 ppsm<br>Land Area: 48,718 mi²<br>",
          "North Dakota<br>Bush, George W.<br>Republican<br>Votes: 196,651 / 312,833<br>Population: 642,200<br>Density: 9 ppsm<br>Land Area: 68,994 mi²<br>",
          "Ohio<br>Bush, George W.<br>Republican<br>Votes: 2,859,764 / 5,627,903<br>Population: 11,353,140<br>Density: 277 ppsm<br>Land Area: 40,953 mi²<br>",
          "Oklahoma<br>Bush, George W.<br>Republican<br>Votes: 959,792 / 1,463,758<br>Population: 3,450,654<br>Density: 50 ppsm<br>Land Area: 68,679 mi²<br>",
          "Oregon<br>Kerry, John<br>Democrat<br>Votes: 943,163 / 1,836,782<br>Population: 3,421,399<br>Density: 35 ppsm<br>Land Area: 96,003 mi²<br>",
          "Pennsylvania<br>Kerry, John<br>Democrat<br>Votes: 2,938,095 / 5,769,590<br>Population: 12,281,054<br>Density: 274 ppsm<br>Land Area: 44,820 mi²<br>",
          "Rhode Island<br>Kerry, John<br>Democrat<br>Votes: 259,760 / 437,134<br>Population: 1,048,319<br>Density: 1,013 ppsm<br>Land Area: 1,034 mi²<br>",
          "South Carolina<br>Bush, George W.<br>Republican<br>Votes: 937,974 / 1,617,700<br>Population: 4,012,012<br>Density: 133 ppsm<br>Land Area: 30,111 mi²<br>",
          "South Dakota<br>Bush, George W.<br>Republican<br>Votes: 232,584 / 388,215<br>Population: 754,844<br>Density: 9 ppsm<br>Land Area: 75,898 mi²<br>",
          "Tennessee<br>Bush, George W.<br>Republican<br>Votes: 1,384,375 / 2,437,319<br>Population: 5,689,283<br>Density: 138 ppsm<br>Land Area: 41,220 mi²<br>",
          "Texas<br>Bush, George W.<br>Republican<br>Votes: 4,526,917 / 7,410,749<br>Population: 20,851,820<br>Density: 79 ppsm<br>Land Area: 261,914 mi²<br>",
          "Utah<br>Bush, George W.<br>Republican<br>Votes: 663,742 / 927,844<br>Population: 2,233,169<br>Density: 27 ppsm<br>Land Area: 82,168 mi²<br>",
          "Vermont<br>Kerry, John<br>Democrat<br>Votes: 184,067 / 312,309<br>Population: 608,827<br>Density: 65 ppsm<br>Land Area: 9,249 mi²<br>",
          "Virginia<br>Bush, George W.<br>Republican<br>Votes: 1,716,959 / 3,195,415<br>Population: 7,078,515<br>Density: 178 ppsm<br>Land Area: 39,598 mi²<br>",
          "Washington<br>Kerry, John<br>Democrat<br>Votes: 1,510,201 / 2,859,084<br>Population: 5,894,121<br>Density: 88 ppsm<br>Land Area: 66,582 mi²<br>",
          "West Virginia<br>Bush, George W.<br>Republican<br>Votes: 423,778 / 755,792<br>Population: 1,808,344<br>Density: 75 ppsm<br>Land Area: 24,087 mi²<br>",
          "Wisconsin<br>Kerry, John<br>Democrat<br>Votes: 1,489,504 / 2,997,007<br>Population: 5,363,675<br>Density: 98 ppsm<br>Land Area: 54,314 mi²<br>",
          "Wyoming<br>Bush, George W.<br>Republican<br>Votes: 167,629 / 243,861<br>Population: 493,782<br>Density: 5 ppsm<br>Land Area: 97,105 mi²<br>"
         ],
         "type": "choropleth",
         "z": [
          1,
          1,
          1,
          1,
          0,
          1,
          0,
          0,
          0,
          1,
          1,
          0,
          1,
          0,
          1,
          1,
          1,
          1,
          1,
          0,
          0,
          0,
          0,
          0,
          1,
          1,
          1,
          1,
          1,
          0,
          0,
          1,
          0,
          1,
          1,
          1,
          1,
          0,
          0,
          0,
          1,
          1,
          1,
          1,
          1,
          0,
          1,
          0,
          1,
          0,
          1
         ]
        },
        {
         "colorscale": [
          [
           0,
           "#0015BC"
          ],
          [
           1,
           "#DE0100"
          ]
         ],
         "hovertemplate": "%{text}<extra></extra>",
         "locationmode": "USA-states",
         "locations": [
          "AL",
          "AK",
          "AZ",
          "AR",
          "CA",
          "CO",
          "CT",
          "DE",
          "DC",
          "FL",
          "GA",
          "HI",
          "ID",
          "IL",
          "IN",
          "IA",
          "KS",
          "KY",
          "LA",
          "ME",
          "MD",
          "MA",
          "MI",
          "MN",
          "MS",
          "MO",
          "MT",
          "NE",
          "NV",
          "NH",
          "NJ",
          "NM",
          "NY",
          "NC",
          "ND",
          "OH",
          "OK",
          "OR",
          "PA",
          "RI",
          "SC",
          "SD",
          "TN",
          "TX",
          "UT",
          "VT",
          "VA",
          "WA",
          "WV",
          "WI",
          "WY"
         ],
         "showlegend": false,
         "showscale": false,
         "text": [
          "Alabama<br>McCain, John<br>Republican<br>Votes: 1,266,546 / 2,099,819<br>Population: 4,779,735<br>Density: 94 ppsm<br>Land Area: 50,750 mi²<br>",
          "Alaska<br>McCain, John<br>Republican<br>Votes: 193,841 / 326,197<br>Population: 710,231<br>Density: 1 ppsm<br>Land Area: 570,641 mi²<br>",
          "Arizona<br>McCain, John<br>Republican<br>Votes: 1,230,111 / 2,293,475<br>Population: 6,329,013<br>Density: 55 ppsm<br>Land Area: 113,642 mi²<br>",
          "Arkansas<br>McCain, John<br>Republican<br>Votes: 638,017 / 1,086,617<br>Population: 2,915,921<br>Density: 55 ppsm<br>Land Area: 52,075 mi²<br>",
          "California<br>Obama, Barack H.<br>Democrat<br>Votes: 8,274,473 / 13,561,900<br>Population: 37,253,956<br>Density: 238 ppsm<br>Land Area: 155,973 mi²<br>",
          "Colorado<br>Obama, Barack H.<br>Democrat<br>Votes: 1,288,576 / 2,401,361<br>Population: 5,029,196<br>Density: 48 ppsm<br>Land Area: 103,730 mi²<br>",
          "Connecticut<br>Obama, Barack H.<br>Democrat<br>Votes: 997,772 / 1,646,792<br>Population: 3,574,097<br>Density: 737 ppsm<br>Land Area: 4,845 mi²<br>",
          "Delaware<br>Obama, Barack H.<br>Democrat<br>Votes: 255,459 / 412,412<br>Population: 897,934<br>Density: 13,204 ppsm<br>Land Area: 1,955 mi²<br>",
          "District of Columbia<br>Obama, Barack H.<br>Democrat<br>Votes: 245,800 / 265,853<br>Population: 601,723<br>Density: 307 ppsm<br>Land Area: 68 mi²<br>",
          "Florida<br>Obama, Barack H.<br>Democrat<br>Votes: 4,282,074 / 8,390,744<br>Population: 18,801,311<br>Density: 348 ppsm<br>Land Area: 53,997 mi²<br>",
          "Georgia<br>McCain, John<br>Republican<br>Votes: 2,048,759 / 3,924,486<br>Population: 9,687,653<br>Density: 167 ppsm<br>Land Area: 57,919 mi²<br>",
          "Hawaii<br>Obama, Barack H.<br>Democrat<br>Votes: 325,871 / 456,064<br>Population: 1,360,301<br>Density: 211 ppsm<br>Land Area: 6,423 mi²<br>",
          "Idaho<br>McCain, John<br>Republican<br>Votes: 403,012 / 655,122<br>Population: 1,567,582<br>Density: 18 ppsm<br>Land Area: 82,751 mi²<br>",
          "Illinois<br>Obama, Barack H.<br>Democrat<br>Votes: 3,419,348 / 5,522,371<br>Population: 12,830,632<br>Density: 230 ppsm<br>Land Area: 55,593 mi²<br>",
          "Indiana<br>Obama, Barack H.<br>Democrat<br>Votes: 1,374,039 / 2,751,054<br>Population: 6,483,800<br>Density: 180 ppsm<br>Land Area: 35,870 mi²<br>",
          "Iowa<br>Obama, Barack H.<br>Democrat<br>Votes: 828,940 / 1,537,123<br>Population: 3,046,350<br>Density: 54 ppsm<br>Land Area: 55,875 mi²<br>",
          "Kansas<br>McCain, John<br>Republican<br>Votes: 699,655 / 1,235,872<br>Population: 2,853,118<br>Density: 34 ppsm<br>Land Area: 81,823 mi²<br>",
          "Kentucky<br>McCain, John<br>Republican<br>Votes: 1,048,462 / 1,826,620<br>Population: 4,339,362<br>Density: 109 ppsm<br>Land Area: 39,732 mi²<br>",
          "Louisiana<br>McCain, John<br>Republican<br>Votes: 1,148,275 / 1,960,761<br>Population: 4,515,770<br>Density: 103 ppsm<br>Land Area: 43,566 mi²<br>",
          "Maine<br>Obama, Barack H.<br>Democrat<br>Votes: 421,923 / 731,163<br>Population: 1,328,361<br>Density: 43 ppsm<br>Land Area: 30,865 mi²<br>",
          "Maryland<br>Obama, Barack H.<br>Democrat<br>Votes: 1,629,467 / 2,631,596<br>Population: 5,773,552<br>Density: 590 ppsm<br>Land Area: 9,775 mi²<br>",
          "Massachusetts<br>Obama, Barack H.<br>Democrat<br>Votes: 1,904,097 / 3,102,995<br>Population: 6,547,629<br>Density: 835 ppsm<br>Land Area: 7,838 mi²<br>",
          "Michigan<br>Obama, Barack H.<br>Democrat<br>Votes: 2,872,579 / 5,001,596<br>Population: 9,883,635<br>Density: 174 ppsm<br>Land Area: 56,539 mi²<br>",
          "Minnesota<br>Obama, Barack H.<br>Democrat<br>Votes: 1,573,354 / 2,910,369<br>Population: 5,303,925<br>Density: 66 ppsm<br>Land Area: 79,617 mi²<br>",
          "Mississippi<br>McCain, John<br>Republican<br>Votes: 724,597 / 1,289,865<br>Population: 2,967,297<br>Density: 63 ppsm<br>Land Area: 46,914 mi²<br>",
          "Missouri<br>McCain, John<br>Republican<br>Votes: 1,445,814 / 2,925,205<br>Population: 5,988,927<br>Density: 86 ppsm<br>Land Area: 68,898 mi²<br>",
          "Montana<br>McCain, John<br>Republican<br>Votes: 242,763 / 490,109<br>Population: 989,415<br>Density: 6 ppsm<br>Land Area: 145,556 mi²<br>",
          "Nebraska<br>McCain, John<br>Republican<br>Votes: 452,979 / 801,281<br>Population: 1,826,341<br>Density: 23 ppsm<br>Land Area: 76,878 mi²<br>",
          "Nevada<br>Obama, Barack H.<br>Democrat<br>Votes: 533,736 / 967,848<br>Population: 2,700,551<br>Density: 24 ppsm<br>Land Area: 109,806 mi²<br>",
          "New Hampshire<br>Obama, Barack H.<br>Democrat<br>Votes: 384,826 / 710,970<br>Population: 1,316,472<br>Density: 146 ppsm<br>Land Area: 8,969 mi²<br>",
          "New Jersey<br>Obama, Barack H.<br>Democrat<br>Votes: 2,215,422 / 3,868,237<br>Population: 8,791,894<br>Density: 1,185 ppsm<br>Land Area: 7,419 mi²<br>",
          "New Mexico<br>Obama, Barack H.<br>Democrat<br>Votes: 472,422 / 830,158<br>Population: 2,059,180<br>Density: 16 ppsm<br>Land Area: 121,365 mi²<br>",
          "New York<br>Obama, Barack H.<br>Democrat<br>Votes: 4,645,332 / 7,722,019<br>Population: 19,378,104<br>Density: 410 ppsm<br>Land Area: 47,224 mi²<br>",
          "North Carolina<br>Obama, Barack H.<br>Democrat<br>Votes: 2,142,651 / 4,310,851<br>Population: 9,535,475<br>Density: 195 ppsm<br>Land Area: 48,718 mi²<br>",
          "North Dakota<br>McCain, John<br>Republican<br>Votes: 168,601 / 316,621<br>Population: 672,591<br>Density: 9 ppsm<br>Land Area: 68,994 mi²<br>",
          "Ohio<br>Obama, Barack H.<br>Democrat<br>Votes: 2,940,044 / 5,708,350<br>Population: 11,536,502<br>Density: 281 ppsm<br>Land Area: 40,953 mi²<br>",
          "Oklahoma<br>McCain, John<br>Republican<br>Votes: 960,165 / 1,462,661<br>Population: 3,751,354<br>Density: 54 ppsm<br>Land Area: 68,679 mi²<br>",
          "Oregon<br>Obama, Barack H.<br>Democrat<br>Votes: 1,037,291 / 1,827,864<br>Population: 3,831,074<br>Density: 39 ppsm<br>Land Area: 96,003 mi²<br>",
          "Pennsylvania<br>Obama, Barack H.<br>Democrat<br>Votes: 3,276,363 / 6,013,272<br>Population: 12,702,379<br>Density: 283 ppsm<br>Land Area: 44,820 mi²<br>",
          "Rhode Island<br>Obama, Barack H.<br>Democrat<br>Votes: 296,571 / 471,766<br>Population: 1,052,567<br>Density: 1,017 ppsm<br>Land Area: 1,034 mi²<br>",
          "South Carolina<br>McCain, John<br>Republican<br>Votes: 1,034,896 / 1,920,969<br>Population: 4,625,364<br>Density: 153 ppsm<br>Land Area: 30,111 mi²<br>",
          "South Dakota<br>McCain, John<br>Republican<br>Votes: 203,054 / 381,975<br>Population: 814,180<br>Density: 10 ppsm<br>Land Area: 75,898 mi²<br>",
          "Tennessee<br>McCain, John<br>Republican<br>Votes: 1,479,178 / 2,599,749<br>Population: 6,346,110<br>Density: 153 ppsm<br>Land Area: 41,220 mi²<br>",
          "Texas<br>McCain, John<br>Republican<br>Votes: 4,479,328 / 8,077,795<br>Population: 25,145,561<br>Density: 96 ppsm<br>Land Area: 261,914 mi²<br>",
          "Utah<br>McCain, John<br>Republican<br>Votes: 596,030 / 952,370<br>Population: 2,763,885<br>Density: 33 ppsm<br>Land Area: 82,168 mi²<br>",
          "Vermont<br>Obama, Barack H.<br>Democrat<br>Votes: 219,262 / 325,046<br>Population: 625,741<br>Density: 67 ppsm<br>Land Area: 9,249 mi²<br>",
          "Virginia<br>Obama, Barack H.<br>Democrat<br>Votes: 1,959,532 / 3,723,260<br>Population: 8,001,024<br>Density: 202 ppsm<br>Land Area: 39,598 mi²<br>",
          "Washington<br>Obama, Barack H.<br>Democrat<br>Votes: 1,750,848 / 3,036,878<br>Population: 6,724,540<br>Density: 100 ppsm<br>Land Area: 66,582 mi²<br>",
          "West Virginia<br>McCain, John<br>Republican<br>Votes: 397,466 / 713,451<br>Population: 1,852,996<br>Density: 76 ppsm<br>Land Area: 24,087 mi²<br>",
          "Wisconsin<br>Obama, Barack H.<br>Democrat<br>Votes: 1,677,211 / 2,983,417<br>Population: 5,686,986<br>Density: 104 ppsm<br>Land Area: 54,314 mi²<br>",
          "Wyoming<br>McCain, John<br>Republican<br>Votes: 164,958 / 254,904<br>Population: 563,626<br>Density: 5 ppsm<br>Land Area: 97,105 mi²<br>"
         ],
         "type": "choropleth",
         "z": [
          1,
          1,
          1,
          1,
          0,
          0,
          0,
          0,
          0,
          0,
          1,
          0,
          1,
          0,
          0,
          0,
          1,
          1,
          1,
          0,
          0,
          0,
          0,
          0,
          1,
          1,
          1,
          1,
          0,
          0,
          0,
          0,
          0,
          0,
          1,
          0,
          1,
          0,
          0,
          0,
          1,
          1,
          1,
          1,
          1,
          0,
          0,
          0,
          1,
          0,
          1
         ]
        },
        {
         "colorscale": [
          [
           0,
           "#0015BC"
          ],
          [
           1,
           "#DE0100"
          ]
         ],
         "hovertemplate": "%{text}<extra></extra>",
         "locationmode": "USA-states",
         "locations": [
          "AL",
          "AK",
          "AZ",
          "AR",
          "CA",
          "CO",
          "CT",
          "DE",
          "DC",
          "FL",
          "GA",
          "HI",
          "ID",
          "IL",
          "IN",
          "IA",
          "KS",
          "KY",
          "LA",
          "ME",
          "MD",
          "MA",
          "MI",
          "MN",
          "MS",
          "MO",
          "MT",
          "NE",
          "NV",
          "NH",
          "NJ",
          "NM",
          "NY",
          "NC",
          "ND",
          "OH",
          "OK",
          "OR",
          "PA",
          "RI",
          "SC",
          "SD",
          "TN",
          "TX",
          "UT",
          "VT",
          "VA",
          "WA",
          "WV",
          "WI",
          "WY"
         ],
         "showlegend": false,
         "showscale": false,
         "text": [
          "Alabama<br>Romney, Mitt<br>Republican<br>Votes: 1,255,925 / 2,074,338<br>Population: 4,779,735<br>Density: 94 ppsm<br>Land Area: 50,750 mi²<br>",
          "Alaska<br>Romney, Mitt<br>Republican<br>Votes: 164,676 / 300,495<br>Population: 710,231<br>Density: 1 ppsm<br>Land Area: 570,641 mi²<br>",
          "Arizona<br>Romney, Mitt<br>Republican<br>Votes: 1,233,654 / 2,299,254<br>Population: 6,329,013<br>Density: 55 ppsm<br>Land Area: 113,642 mi²<br>",
          "Arkansas<br>Romney, Mitt<br>Republican<br>Votes: 647,744 / 1,069,468<br>Population: 2,915,921<br>Density: 55 ppsm<br>Land Area: 52,075 mi²<br>",
          "California<br>Obama, Barack H.<br>Democrat<br>Votes: 7,854,285 / 13,038,547<br>Population: 37,253,956<br>Density: 238 ppsm<br>Land Area: 155,973 mi²<br>",
          "Colorado<br>Obama, Barack H.<br>Democrat<br>Votes: 1,323,101 / 2,569,516<br>Population: 5,029,196<br>Density: 48 ppsm<br>Land Area: 103,730 mi²<br>",
          "Connecticut<br>Obama, Barack H.<br>Democrat<br>Votes: 905,083 / 1,558,204<br>Population: 3,574,097<br>Density: 737 ppsm<br>Land Area: 4,845 mi²<br>",
          "Delaware<br>Obama, Barack H.<br>Democrat<br>Votes: 242,584 / 413,890<br>Population: 897,934<br>Density: 13,204 ppsm<br>Land Area: 1,955 mi²<br>",
          "District of Columbia<br>Obama, Barack H.<br>Democrat<br>Votes: 267,070 / 293,764<br>Population: 601,723<br>Density: 307 ppsm<br>Land Area: 68 mi²<br>",
          "Florida<br>Obama, Barack H.<br>Democrat<br>Votes: 4,237,756 / 8,474,179<br>Population: 18,801,311<br>Density: 348 ppsm<br>Land Area: 53,997 mi²<br>",
          "Georgia<br>Romney, Mitt<br>Republican<br>Votes: 2,078,688 / 3,897,839<br>Population: 9,687,653<br>Density: 167 ppsm<br>Land Area: 57,919 mi²<br>",
          "Hawaii<br>Obama, Barack H.<br>Democrat<br>Votes: 306,658 / 437,159<br>Population: 1,360,301<br>Density: 211 ppsm<br>Land Area: 6,423 mi²<br>",
          "Idaho<br>Romney, Mitt<br>Republican<br>Votes: 420,911 / 652,274<br>Population: 1,567,582<br>Density: 18 ppsm<br>Land Area: 82,751 mi²<br>",
          "Illinois<br>Obama, Barack H.<br>Democrat<br>Votes: 3,019,512 / 5,242,014<br>Population: 12,830,632<br>Density: 230 ppsm<br>Land Area: 55,593 mi²<br>",
          "Indiana<br>Romney, Mitt<br>Republican<br>Votes: 1,420,543 / 2,624,534<br>Population: 6,483,800<br>Density: 180 ppsm<br>Land Area: 35,870 mi²<br>",
          "Iowa<br>Obama, Barack H.<br>Democrat<br>Votes: 822,544 / 1,582,180<br>Population: 3,046,350<br>Density: 54 ppsm<br>Land Area: 55,875 mi²<br>",
          "Kansas<br>Romney, Mitt<br>Republican<br>Votes: 692,634 / 1,159,971<br>Population: 2,853,118<br>Density: 34 ppsm<br>Land Area: 81,823 mi²<br>",
          "Kentucky<br>Romney, Mitt<br>Republican<br>Votes: 1,087,190 / 1,797,212<br>Population: 4,339,362<br>Density: 109 ppsm<br>Land Area: 39,732 mi²<br>",
          "Louisiana<br>Romney, Mitt<br>Republican<br>Votes: 1,152,262 / 1,994,065<br>Population: 4,515,770<br>Density: 103 ppsm<br>Land Area: 43,566 mi²<br>",
          "Maine<br>Obama, Barack H.<br>Democrat<br>Votes: 401,306 / 724,758<br>Population: 1,328,361<br>Density: 43 ppsm<br>Land Area: 30,865 mi²<br>",
          "Maryland<br>Obama, Barack H.<br>Democrat<br>Votes: 1,677,844 / 2,707,327<br>Population: 5,773,552<br>Density: 590 ppsm<br>Land Area: 9,775 mi²<br>",
          "Massachusetts<br>Obama, Barack H.<br>Democrat<br>Votes: 1,921,290 / 3,184,196<br>Population: 6,547,629<br>Density: 835 ppsm<br>Land Area: 7,838 mi²<br>",
          "Michigan<br>Obama, Barack H.<br>Democrat<br>Votes: 2,564,569 / 4,730,961<br>Population: 9,883,635<br>Density: 174 ppsm<br>Land Area: 56,539 mi²<br>",
          "Minnesota<br>Obama, Barack H.<br>Democrat<br>Votes: 1,546,167 / 2,936,561<br>Population: 5,303,925<br>Density: 66 ppsm<br>Land Area: 79,617 mi²<br>",
          "Mississippi<br>Romney, Mitt<br>Republican<br>Votes: 710,746 / 1,285,584<br>Population: 2,967,297<br>Density: 63 ppsm<br>Land Area: 46,914 mi²<br>",
          "Missouri<br>Romney, Mitt<br>Republican<br>Votes: 1,482,440 / 2,757,323<br>Population: 5,988,927<br>Density: 86 ppsm<br>Land Area: 68,898 mi²<br>",
          "Montana<br>Romney, Mitt<br>Republican<br>Votes: 267,928 / 484,048<br>Population: 989,415<br>Density: 6 ppsm<br>Land Area: 145,556 mi²<br>",
          "Nebraska<br>Romney, Mitt<br>Republican<br>Votes: 475,064 / 794,379<br>Population: 1,826,341<br>Density: 23 ppsm<br>Land Area: 76,878 mi²<br>",
          "Nevada<br>Obama, Barack H.<br>Democrat<br>Votes: 531,373 / 1,014,918<br>Population: 2,700,551<br>Density: 24 ppsm<br>Land Area: 109,806 mi²<br>",
          "New Hampshire<br>Obama, Barack H.<br>Democrat<br>Votes: 369,561 / 710,972<br>Population: 1,316,472<br>Density: 146 ppsm<br>Land Area: 8,969 mi²<br>",
          "New Jersey<br>Obama, Barack H.<br>Democrat<br>Votes: 2,122,786 / 3,638,499<br>Population: 8,791,894<br>Density: 1,185 ppsm<br>Land Area: 7,419 mi²<br>",
          "New Mexico<br>Obama, Barack H.<br>Democrat<br>Votes: 415,335 / 783,758<br>Population: 2,059,180<br>Density: 16 ppsm<br>Land Area: 121,365 mi²<br>",
          "New York<br>Obama, Barack H.<br>Democrat<br>Votes: 4,324,228 / 7,116,784<br>Population: 19,378,104<br>Density: 410 ppsm<br>Land Area: 47,224 mi²<br>",
          "North Carolina<br>Romney, Mitt<br>Republican<br>Votes: 2,270,395 / 4,505,372<br>Population: 9,535,475<br>Density: 195 ppsm<br>Land Area: 48,718 mi²<br>",
          "North Dakota<br>Romney, Mitt<br>Republican<br>Votes: 188,320 / 322,932<br>Population: 672,591<br>Density: 9 ppsm<br>Land Area: 68,994 mi²<br>",
          "Ohio<br>Obama, Barack H.<br>Democrat<br>Votes: 2,827,621 / 5,580,822<br>Population: 11,536,502<br>Density: 281 ppsm<br>Land Area: 40,953 mi²<br>",
          "Oklahoma<br>Romney, Mitt<br>Republican<br>Votes: 891,325 / 1,334,872<br>Population: 3,751,354<br>Density: 54 ppsm<br>Land Area: 68,679 mi²<br>",
          "Oregon<br>Obama, Barack H.<br>Democrat<br>Votes: 970,488 / 1,789,270<br>Population: 3,831,074<br>Density: 39 ppsm<br>Land Area: 96,003 mi²<br>",
          "Pennsylvania<br>Obama, Barack H.<br>Democrat<br>Votes: 2,990,274 / 5,742,040<br>Population: 12,702,379<br>Density: 283 ppsm<br>Land Area: 44,820 mi²<br>",
          "Rhode Island<br>Obama, Barack H.<br>Democrat<br>Votes: 279,677 / 446,049<br>Population: 1,052,567<br>Density: 1,017 ppsm<br>Land Area: 1,034 mi²<br>",
          "South Carolina<br>Romney, Mitt<br>Republican<br>Votes: 1,071,645 / 1,964,118<br>Population: 4,625,364<br>Density: 153 ppsm<br>Land Area: 30,111 mi²<br>",
          "South Dakota<br>Romney, Mitt<br>Republican<br>Votes: 210,610 / 363,815<br>Population: 814,180<br>Density: 10 ppsm<br>Land Area: 75,898 mi²<br>",
          "Tennessee<br>Romney, Mitt<br>Republican<br>Votes: 1,462,330 / 2,458,577<br>Population: 6,346,110<br>Density: 153 ppsm<br>Land Area: 41,220 mi²<br>",
          "Texas<br>Romney, Mitt<br>Republican<br>Votes: 4,569,843 / 7,993,851<br>Population: 25,145,561<br>Density: 96 ppsm<br>Land Area: 261,914 mi²<br>",
          "Utah<br>Romney, Mitt<br>Republican<br>Votes: 740,600 / 1,017,440<br>Population: 2,763,885<br>Density: 33 ppsm<br>Land Area: 82,168 mi²<br>",
          "Vermont<br>Obama, Barack H.<br>Democrat<br>Votes: 199,239 / 299,290<br>Population: 625,741<br>Density: 67 ppsm<br>Land Area: 9,249 mi²<br>",
          "Virginia<br>Obama, Barack H.<br>Democrat<br>Votes: 1,971,820 / 3,854,489<br>Population: 8,001,024<br>Density: 202 ppsm<br>Land Area: 39,598 mi²<br>",
          "Washington<br>Obama, Barack H.<br>Democrat<br>Votes: 1,755,396 / 3,125,516<br>Population: 6,724,540<br>Density: 100 ppsm<br>Land Area: 66,582 mi²<br>",
          "West Virginia<br>Romney, Mitt<br>Republican<br>Votes: 417,655 / 670,438<br>Population: 1,852,996<br>Density: 76 ppsm<br>Land Area: 24,087 mi²<br>",
          "Wisconsin<br>Obama, Barack H.<br>Democrat<br>Votes: 1,620,985 / 3,071,434<br>Population: 5,686,986<br>Density: 104 ppsm<br>Land Area: 54,314 mi²<br>",
          "Wyoming<br>Romney, Mitt<br>Republican<br>Votes: 170,962 / 250,701<br>Population: 563,626<br>Density: 5 ppsm<br>Land Area: 97,105 mi²<br>"
         ],
         "type": "choropleth",
         "z": [
          1,
          1,
          1,
          1,
          0,
          0,
          0,
          0,
          0,
          0,
          1,
          0,
          1,
          0,
          1,
          0,
          1,
          1,
          1,
          0,
          0,
          0,
          0,
          0,
          1,
          1,
          1,
          1,
          0,
          0,
          0,
          0,
          0,
          1,
          1,
          0,
          1,
          0,
          0,
          0,
          1,
          1,
          1,
          1,
          1,
          0,
          0,
          0,
          1,
          0,
          1
         ]
        },
        {
         "colorscale": [
          [
           0,
           "#0015BC"
          ],
          [
           1,
           "#DE0100"
          ]
         ],
         "hovertemplate": "%{text}<extra></extra>",
         "locationmode": "USA-states",
         "locations": [
          "AL",
          "AK",
          "AZ",
          "AR",
          "CA",
          "CO",
          "CT",
          "DE",
          "DC",
          "FL",
          "GA",
          "HI",
          "ID",
          "IL",
          "IN",
          "IA",
          "KS",
          "KY",
          "LA",
          "ME",
          "MD",
          "MA",
          "MI",
          "MN",
          "MS",
          "MO",
          "MT",
          "NE",
          "NV",
          "NH",
          "NJ",
          "NM",
          "NY",
          "NC",
          "ND",
          "OH",
          "OK",
          "OR",
          "PA",
          "RI",
          "SC",
          "SD",
          "TN",
          "TX",
          "UT",
          "VT",
          "VA",
          "WA",
          "WV",
          "WI",
          "WY"
         ],
         "showlegend": false,
         "showscale": false,
         "text": [
          "Alabama<br>Trump, Donald J.<br>Republican<br>Votes: 1,318,255 / 2,123,372<br>Population: 4,779,735<br>Density: 94 ppsm<br>Land Area: 50,750 mi²<br>",
          "Alaska<br>Trump, Donald J.<br>Republican<br>Votes: 163,387 / 318,608<br>Population: 710,231<br>Density: 1 ppsm<br>Land Area: 570,641 mi²<br>",
          "Arizona<br>Trump, Donald J.<br>Republican<br>Votes: 1,252,401 / 2,573,165<br>Population: 6,329,013<br>Density: 55 ppsm<br>Land Area: 113,642 mi²<br>",
          "Arkansas<br>Trump, Donald J.<br>Republican<br>Votes: 684,872 / 1,130,635<br>Population: 2,915,921<br>Density: 55 ppsm<br>Land Area: 52,075 mi²<br>",
          "California<br>Clinton, Hillary<br>Democrat<br>Votes: 8,753,788 / 14,181,595<br>Population: 37,253,956<br>Density: 238 ppsm<br>Land Area: 155,973 mi²<br>",
          "Colorado<br>Clinton, Hillary<br>Democrat<br>Votes: 1,338,870 / 2,780,220<br>Population: 5,029,196<br>Density: 48 ppsm<br>Land Area: 103,730 mi²<br>",
          "Connecticut<br>Clinton, Hillary<br>Democrat<br>Votes: 897,572 / 1,644,920<br>Population: 3,574,097<br>Density: 737 ppsm<br>Land Area: 4,845 mi²<br>",
          "Delaware<br>Clinton, Hillary<br>Democrat<br>Votes: 235,603 / 441,590<br>Population: 897,934<br>Density: 13,204 ppsm<br>Land Area: 1,955 mi²<br>",
          "District of Columbia<br>Clinton, Hillary<br>Democrat<br>Votes: 282,830 / 312,575<br>Population: 601,723<br>Density: 307 ppsm<br>Land Area: 68 mi²<br>",
          "Florida<br>Trump, Donald J.<br>Republican<br>Votes: 4,617,886 / 9,420,039<br>Population: 18,801,311<br>Density: 348 ppsm<br>Land Area: 53,997 mi²<br>",
          "Georgia<br>Trump, Donald J.<br>Republican<br>Votes: 2,089,104 / 4,114,732<br>Population: 9,687,653<br>Density: 167 ppsm<br>Land Area: 57,919 mi²<br>",
          "Hawaii<br>Clinton, Hillary<br>Democrat<br>Votes: 266,891 / 437,664<br>Population: 1,360,301<br>Density: 211 ppsm<br>Land Area: 6,423 mi²<br>",
          "Idaho<br>Trump, Donald J.<br>Republican<br>Votes: 409,055 / 690,255<br>Population: 1,567,582<br>Density: 18 ppsm<br>Land Area: 82,751 mi²<br>",
          "Illinois<br>Clinton, Hillary<br>Democrat<br>Votes: 3,090,729 / 5,536,424<br>Population: 12,830,632<br>Density: 230 ppsm<br>Land Area: 55,593 mi²<br>",
          "Indiana<br>Trump, Donald J.<br>Republican<br>Votes: 1,557,286 / 2,734,958<br>Population: 6,483,800<br>Density: 180 ppsm<br>Land Area: 35,870 mi²<br>",
          "Iowa<br>Trump, Donald J.<br>Republican<br>Votes: 800,983 / 1,565,580<br>Population: 3,046,350<br>Density: 54 ppsm<br>Land Area: 55,875 mi²<br>",
          "Kansas<br>Trump, Donald J.<br>Republican<br>Votes: 671,018 / 1,184,402<br>Population: 2,853,118<br>Density: 34 ppsm<br>Land Area: 81,823 mi²<br>",
          "Kentucky<br>Trump, Donald J.<br>Republican<br>Votes: 1,202,971 / 1,924,149<br>Population: 4,339,362<br>Density: 109 ppsm<br>Land Area: 39,732 mi²<br>",
          "Louisiana<br>Trump, Donald J.<br>Republican<br>Votes: 1,178,638 / 2,029,032<br>Population: 4,515,770<br>Density: 103 ppsm<br>Land Area: 43,566 mi²<br>",
          "Maine<br>Clinton, Hillary<br>Democrat<br>Votes: 357,735 / 771,892<br>Population: 1,328,361<br>Density: 43 ppsm<br>Land Area: 30,865 mi²<br>",
          "Maryland<br>Clinton, Hillary<br>Democrat<br>Votes: 1,677,928 / 2,781,446<br>Population: 5,773,552<br>Density: 590 ppsm<br>Land Area: 9,775 mi²<br>",
          "Massachusetts<br>Clinton, Hillary<br>Democrat<br>Votes: 1,995,196 / 3,378,821<br>Population: 6,547,629<br>Density: 835 ppsm<br>Land Area: 7,838 mi²<br>",
          "Michigan<br>Trump, Donald J.<br>Republican<br>Votes: 2,279,543 / 4,799,284<br>Population: 9,883,635<br>Density: 174 ppsm<br>Land Area: 56,539 mi²<br>",
          "Minnesota<br>Clinton, Hillary<br>Democrat<br>Votes: 1,367,705 / 2,944,782<br>Population: 5,303,925<br>Density: 66 ppsm<br>Land Area: 79,617 mi²<br>",
          "Mississippi<br>Trump, Donald J.<br>Republican<br>Votes: 700,714 / 1,209,357<br>Population: 2,967,297<br>Density: 63 ppsm<br>Land Area: 46,914 mi²<br>",
          "Missouri<br>Trump, Donald J.<br>Republican<br>Votes: 1,594,511 / 2,808,605<br>Population: 5,988,927<br>Density: 86 ppsm<br>Land Area: 68,898 mi²<br>",
          "Montana<br>Trump, Donald J.<br>Republican<br>Votes: 279,240 / 494,526<br>Population: 989,415<br>Density: 6 ppsm<br>Land Area: 145,556 mi²<br>",
          "Nebraska<br>Trump, Donald J.<br>Republican<br>Votes: 495,961 / 844,227<br>Population: 1,826,341<br>Density: 23 ppsm<br>Land Area: 76,878 mi²<br>",
          "Nevada<br>Clinton, Hillary<br>Democrat<br>Votes: 539,260 / 1,125,385<br>Population: 2,700,551<br>Density: 24 ppsm<br>Land Area: 109,806 mi²<br>",
          "New Hampshire<br>Clinton, Hillary<br>Democrat<br>Votes: 348,526 / 744,296<br>Population: 1,316,472<br>Density: 146 ppsm<br>Land Area: 8,969 mi²<br>",
          "New Jersey<br>Clinton, Hillary<br>Democrat<br>Votes: 2,148,278 / 3,874,046<br>Population: 8,791,894<br>Density: 1,185 ppsm<br>Land Area: 7,419 mi²<br>",
          "New Mexico<br>Clinton, Hillary<br>Democrat<br>Votes: 385,234 / 798,319<br>Population: 2,059,180<br>Density: 16 ppsm<br>Land Area: 121,365 mi²<br>",
          "New York<br>Clinton, Hillary<br>Democrat<br>Votes: 4,379,789 / 7,802,084<br>Population: 19,378,104<br>Density: 410 ppsm<br>Land Area: 47,224 mi²<br>",
          "North Carolina<br>Trump, Donald J.<br>Republican<br>Votes: 2,362,631 / 4,741,564<br>Population: 9,535,475<br>Density: 195 ppsm<br>Land Area: 48,718 mi²<br>",
          "North Dakota<br>Trump, Donald J.<br>Republican<br>Votes: 216,794 / 344,360<br>Population: 672,591<br>Density: 9 ppsm<br>Land Area: 68,994 mi²<br>",
          "Ohio<br>Trump, Donald J.<br>Republican<br>Votes: 2,841,005 / 5,496,487<br>Population: 11,536,502<br>Density: 281 ppsm<br>Land Area: 40,953 mi²<br>",
          "Oklahoma<br>Trump, Donald J.<br>Republican<br>Votes: 949,136 / 1,452,992<br>Population: 3,751,354<br>Density: 54 ppsm<br>Land Area: 68,679 mi²<br>",
          "Oregon<br>Clinton, Hillary<br>Democrat<br>Votes: 1,002,106 / 2,001,336<br>Population: 3,831,074<br>Density: 39 ppsm<br>Land Area: 96,003 mi²<br>",
          "Pennsylvania<br>Trump, Donald J.<br>Republican<br>Votes: 2,970,733 / 6,115,402<br>Population: 12,702,379<br>Density: 283 ppsm<br>Land Area: 44,820 mi²<br>",
          "Rhode Island<br>Clinton, Hillary<br>Democrat<br>Votes: 252,525 / 464,144<br>Population: 1,052,567<br>Density: 1,017 ppsm<br>Land Area: 1,034 mi²<br>",
          "South Carolina<br>Trump, Donald J.<br>Republican<br>Votes: 1,155,389 / 2,103,027<br>Population: 4,625,364<br>Density: 153 ppsm<br>Land Area: 30,111 mi²<br>",
          "South Dakota<br>Trump, Donald J.<br>Republican<br>Votes: 227,721 / 370,093<br>Population: 814,180<br>Density: 10 ppsm<br>Land Area: 75,898 mi²<br>",
          "Tennessee<br>Trump, Donald J.<br>Republican<br>Votes: 1,522,925 / 2,508,027<br>Population: 6,346,110<br>Density: 153 ppsm<br>Land Area: 41,220 mi²<br>",
          "Texas<br>Trump, Donald J.<br>Republican<br>Votes: 4,685,047 / 8,969,226<br>Population: 25,145,561<br>Density: 96 ppsm<br>Land Area: 261,914 mi²<br>",
          "Utah<br>Trump, Donald J.<br>Republican<br>Votes: 515,211 / 1,131,317<br>Population: 2,763,885<br>Density: 33 ppsm<br>Land Area: 82,168 mi²<br>",
          "Vermont<br>Clinton, Hillary<br>Democrat<br>Votes: 178,573 / 320,467<br>Population: 625,741<br>Density: 67 ppsm<br>Land Area: 9,249 mi²<br>",
          "Virginia<br>Clinton, Hillary<br>Democrat<br>Votes: 1,981,473 / 3,982,752<br>Population: 8,001,024<br>Density: 202 ppsm<br>Land Area: 39,598 mi²<br>",
          "Washington<br>Clinton, Hillary<br>Democrat<br>Votes: 1,742,718 / 3,317,019<br>Population: 6,724,540<br>Density: 100 ppsm<br>Land Area: 66,582 mi²<br>",
          "West Virginia<br>Trump, Donald J.<br>Republican<br>Votes: 489,371 / 713,051<br>Population: 1,852,996<br>Density: 76 ppsm<br>Land Area: 24,087 mi²<br>",
          "Wisconsin<br>Trump, Donald J.<br>Republican<br>Votes: 1,405,284 / 2,976,150<br>Population: 5,686,986<br>Density: 104 ppsm<br>Land Area: 54,314 mi²<br>",
          "Wyoming<br>Trump, Donald J.<br>Republican<br>Votes: 174,419 / 258,788<br>Population: 563,626<br>Density: 5 ppsm<br>Land Area: 97,105 mi²<br>"
         ],
         "type": "choropleth",
         "z": [
          1,
          1,
          1,
          1,
          0,
          0,
          0,
          0,
          0,
          1,
          1,
          0,
          1,
          0,
          1,
          1,
          1,
          1,
          1,
          0,
          0,
          0,
          1,
          0,
          1,
          1,
          1,
          1,
          0,
          0,
          0,
          0,
          0,
          1,
          1,
          1,
          1,
          0,
          1,
          0,
          1,
          1,
          1,
          1,
          1,
          0,
          0,
          0,
          1,
          1,
          1
         ]
        }
       ],
       "layout": {
        "geo": {
         "projection": {
          "type": "albers usa"
         },
         "scope": "usa"
        },
        "sliders": [
         {
          "active": 10,
          "pad": {
           "t": 1
          },
          "steps": [
           {
            "args": [
             "visible",
             [
              true,
              false,
              false,
              false,
              false,
              false,
              false,
              false,
              false,
              false,
              false
             ]
            ],
            "label": "Year 1976",
            "method": "restyle"
           },
           {
            "args": [
             "visible",
             [
              false,
              true,
              false,
              false,
              false,
              false,
              false,
              false,
              false,
              false,
              false
             ]
            ],
            "label": "Year 1980",
            "method": "restyle"
           },
           {
            "args": [
             "visible",
             [
              false,
              false,
              true,
              false,
              false,
              false,
              false,
              false,
              false,
              false,
              false
             ]
            ],
            "label": "Year 1984",
            "method": "restyle"
           },
           {
            "args": [
             "visible",
             [
              false,
              false,
              false,
              true,
              false,
              false,
              false,
              false,
              false,
              false,
              false
             ]
            ],
            "label": "Year 1988",
            "method": "restyle"
           },
           {
            "args": [
             "visible",
             [
              false,
              false,
              false,
              false,
              true,
              false,
              false,
              false,
              false,
              false,
              false
             ]
            ],
            "label": "Year 1992",
            "method": "restyle"
           },
           {
            "args": [
             "visible",
             [
              false,
              false,
              false,
              false,
              false,
              true,
              false,
              false,
              false,
              false,
              false
             ]
            ],
            "label": "Year 1996",
            "method": "restyle"
           },
           {
            "args": [
             "visible",
             [
              false,
              false,
              false,
              false,
              false,
              false,
              true,
              false,
              false,
              false,
              false
             ]
            ],
            "label": "Year 2000",
            "method": "restyle"
           },
           {
            "args": [
             "visible",
             [
              false,
              false,
              false,
              false,
              false,
              false,
              false,
              true,
              false,
              false,
              false
             ]
            ],
            "label": "Year 2004",
            "method": "restyle"
           },
           {
            "args": [
             "visible",
             [
              false,
              false,
              false,
              false,
              false,
              false,
              false,
              false,
              true,
              false,
              false
             ]
            ],
            "label": "Year 2008",
            "method": "restyle"
           },
           {
            "args": [
             "visible",
             [
              false,
              false,
              false,
              false,
              false,
              false,
              false,
              false,
              false,
              true,
              false
             ]
            ],
            "label": "Year 2012",
            "method": "restyle"
           },
           {
            "args": [
             "visible",
             [
              false,
              false,
              false,
              false,
              false,
              false,
              false,
              false,
              false,
              false,
              true
             ]
            ],
            "label": "Year 2016",
            "method": "restyle"
           }
          ]
         }
        ],
        "template": {
         "data": {
          "bar": [
           {
            "error_x": {
             "color": "#2a3f5f"
            },
            "error_y": {
             "color": "#2a3f5f"
            },
            "marker": {
             "line": {
              "color": "#E5ECF6",
              "width": 0.5
             }
            },
            "type": "bar"
           }
          ],
          "barpolar": [
           {
            "marker": {
             "line": {
              "color": "#E5ECF6",
              "width": 0.5
             }
            },
            "type": "barpolar"
           }
          ],
          "carpet": [
           {
            "aaxis": {
             "endlinecolor": "#2a3f5f",
             "gridcolor": "white",
             "linecolor": "white",
             "minorgridcolor": "white",
             "startlinecolor": "#2a3f5f"
            },
            "baxis": {
             "endlinecolor": "#2a3f5f",
             "gridcolor": "white",
             "linecolor": "white",
             "minorgridcolor": "white",
             "startlinecolor": "#2a3f5f"
            },
            "type": "carpet"
           }
          ],
          "choropleth": [
           {
            "colorbar": {
             "outlinewidth": 0,
             "ticks": ""
            },
            "type": "choropleth"
           }
          ],
          "contour": [
           {
            "colorbar": {
             "outlinewidth": 0,
             "ticks": ""
            },
            "colorscale": [
             [
              0,
              "#0d0887"
             ],
             [
              0.1111111111111111,
              "#46039f"
             ],
             [
              0.2222222222222222,
              "#7201a8"
             ],
             [
              0.3333333333333333,
              "#9c179e"
             ],
             [
              0.4444444444444444,
              "#bd3786"
             ],
             [
              0.5555555555555556,
              "#d8576b"
             ],
             [
              0.6666666666666666,
              "#ed7953"
             ],
             [
              0.7777777777777778,
              "#fb9f3a"
             ],
             [
              0.8888888888888888,
              "#fdca26"
             ],
             [
              1,
              "#f0f921"
             ]
            ],
            "type": "contour"
           }
          ],
          "contourcarpet": [
           {
            "colorbar": {
             "outlinewidth": 0,
             "ticks": ""
            },
            "type": "contourcarpet"
           }
          ],
          "heatmap": [
           {
            "colorbar": {
             "outlinewidth": 0,
             "ticks": ""
            },
            "colorscale": [
             [
              0,
              "#0d0887"
             ],
             [
              0.1111111111111111,
              "#46039f"
             ],
             [
              0.2222222222222222,
              "#7201a8"
             ],
             [
              0.3333333333333333,
              "#9c179e"
             ],
             [
              0.4444444444444444,
              "#bd3786"
             ],
             [
              0.5555555555555556,
              "#d8576b"
             ],
             [
              0.6666666666666666,
              "#ed7953"
             ],
             [
              0.7777777777777778,
              "#fb9f3a"
             ],
             [
              0.8888888888888888,
              "#fdca26"
             ],
             [
              1,
              "#f0f921"
             ]
            ],
            "type": "heatmap"
           }
          ],
          "heatmapgl": [
           {
            "colorbar": {
             "outlinewidth": 0,
             "ticks": ""
            },
            "colorscale": [
             [
              0,
              "#0d0887"
             ],
             [
              0.1111111111111111,
              "#46039f"
             ],
             [
              0.2222222222222222,
              "#7201a8"
             ],
             [
              0.3333333333333333,
              "#9c179e"
             ],
             [
              0.4444444444444444,
              "#bd3786"
             ],
             [
              0.5555555555555556,
              "#d8576b"
             ],
             [
              0.6666666666666666,
              "#ed7953"
             ],
             [
              0.7777777777777778,
              "#fb9f3a"
             ],
             [
              0.8888888888888888,
              "#fdca26"
             ],
             [
              1,
              "#f0f921"
             ]
            ],
            "type": "heatmapgl"
           }
          ],
          "histogram": [
           {
            "marker": {
             "colorbar": {
              "outlinewidth": 0,
              "ticks": ""
             }
            },
            "type": "histogram"
           }
          ],
          "histogram2d": [
           {
            "colorbar": {
             "outlinewidth": 0,
             "ticks": ""
            },
            "colorscale": [
             [
              0,
              "#0d0887"
             ],
             [
              0.1111111111111111,
              "#46039f"
             ],
             [
              0.2222222222222222,
              "#7201a8"
             ],
             [
              0.3333333333333333,
              "#9c179e"
             ],
             [
              0.4444444444444444,
              "#bd3786"
             ],
             [
              0.5555555555555556,
              "#d8576b"
             ],
             [
              0.6666666666666666,
              "#ed7953"
             ],
             [
              0.7777777777777778,
              "#fb9f3a"
             ],
             [
              0.8888888888888888,
              "#fdca26"
             ],
             [
              1,
              "#f0f921"
             ]
            ],
            "type": "histogram2d"
           }
          ],
          "histogram2dcontour": [
           {
            "colorbar": {
             "outlinewidth": 0,
             "ticks": ""
            },
            "colorscale": [
             [
              0,
              "#0d0887"
             ],
             [
              0.1111111111111111,
              "#46039f"
             ],
             [
              0.2222222222222222,
              "#7201a8"
             ],
             [
              0.3333333333333333,
              "#9c179e"
             ],
             [
              0.4444444444444444,
              "#bd3786"
             ],
             [
              0.5555555555555556,
              "#d8576b"
             ],
             [
              0.6666666666666666,
              "#ed7953"
             ],
             [
              0.7777777777777778,
              "#fb9f3a"
             ],
             [
              0.8888888888888888,
              "#fdca26"
             ],
             [
              1,
              "#f0f921"
             ]
            ],
            "type": "histogram2dcontour"
           }
          ],
          "mesh3d": [
           {
            "colorbar": {
             "outlinewidth": 0,
             "ticks": ""
            },
            "type": "mesh3d"
           }
          ],
          "parcoords": [
           {
            "line": {
             "colorbar": {
              "outlinewidth": 0,
              "ticks": ""
             }
            },
            "type": "parcoords"
           }
          ],
          "pie": [
           {
            "automargin": true,
            "type": "pie"
           }
          ],
          "scatter": [
           {
            "marker": {
             "colorbar": {
              "outlinewidth": 0,
              "ticks": ""
             }
            },
            "type": "scatter"
           }
          ],
          "scatter3d": [
           {
            "line": {
             "colorbar": {
              "outlinewidth": 0,
              "ticks": ""
             }
            },
            "marker": {
             "colorbar": {
              "outlinewidth": 0,
              "ticks": ""
             }
            },
            "type": "scatter3d"
           }
          ],
          "scattercarpet": [
           {
            "marker": {
             "colorbar": {
              "outlinewidth": 0,
              "ticks": ""
             }
            },
            "type": "scattercarpet"
           }
          ],
          "scattergeo": [
           {
            "marker": {
             "colorbar": {
              "outlinewidth": 0,
              "ticks": ""
             }
            },
            "type": "scattergeo"
           }
          ],
          "scattergl": [
           {
            "marker": {
             "colorbar": {
              "outlinewidth": 0,
              "ticks": ""
             }
            },
            "type": "scattergl"
           }
          ],
          "scattermapbox": [
           {
            "marker": {
             "colorbar": {
              "outlinewidth": 0,
              "ticks": ""
             }
            },
            "type": "scattermapbox"
           }
          ],
          "scatterpolar": [
           {
            "marker": {
             "colorbar": {
              "outlinewidth": 0,
              "ticks": ""
             }
            },
            "type": "scatterpolar"
           }
          ],
          "scatterpolargl": [
           {
            "marker": {
             "colorbar": {
              "outlinewidth": 0,
              "ticks": ""
             }
            },
            "type": "scatterpolargl"
           }
          ],
          "scatterternary": [
           {
            "marker": {
             "colorbar": {
              "outlinewidth": 0,
              "ticks": ""
             }
            },
            "type": "scatterternary"
           }
          ],
          "surface": [
           {
            "colorbar": {
             "outlinewidth": 0,
             "ticks": ""
            },
            "colorscale": [
             [
              0,
              "#0d0887"
             ],
             [
              0.1111111111111111,
              "#46039f"
             ],
             [
              0.2222222222222222,
              "#7201a8"
             ],
             [
              0.3333333333333333,
              "#9c179e"
             ],
             [
              0.4444444444444444,
              "#bd3786"
             ],
             [
              0.5555555555555556,
              "#d8576b"
             ],
             [
              0.6666666666666666,
              "#ed7953"
             ],
             [
              0.7777777777777778,
              "#fb9f3a"
             ],
             [
              0.8888888888888888,
              "#fdca26"
             ],
             [
              1,
              "#f0f921"
             ]
            ],
            "type": "surface"
           }
          ],
          "table": [
           {
            "cells": {
             "fill": {
              "color": "#EBF0F8"
             },
             "line": {
              "color": "white"
             }
            },
            "header": {
             "fill": {
              "color": "#C8D4E3"
             },
             "line": {
              "color": "white"
             }
            },
            "type": "table"
           }
          ]
         },
         "layout": {
          "annotationdefaults": {
           "arrowcolor": "#2a3f5f",
           "arrowhead": 0,
           "arrowwidth": 1
          },
          "coloraxis": {
           "colorbar": {
            "outlinewidth": 0,
            "ticks": ""
           }
          },
          "colorscale": {
           "diverging": [
            [
             0,
             "#8e0152"
            ],
            [
             0.1,
             "#c51b7d"
            ],
            [
             0.2,
             "#de77ae"
            ],
            [
             0.3,
             "#f1b6da"
            ],
            [
             0.4,
             "#fde0ef"
            ],
            [
             0.5,
             "#f7f7f7"
            ],
            [
             0.6,
             "#e6f5d0"
            ],
            [
             0.7,
             "#b8e186"
            ],
            [
             0.8,
             "#7fbc41"
            ],
            [
             0.9,
             "#4d9221"
            ],
            [
             1,
             "#276419"
            ]
           ],
           "sequential": [
            [
             0,
             "#0d0887"
            ],
            [
             0.1111111111111111,
             "#46039f"
            ],
            [
             0.2222222222222222,
             "#7201a8"
            ],
            [
             0.3333333333333333,
             "#9c179e"
            ],
            [
             0.4444444444444444,
             "#bd3786"
            ],
            [
             0.5555555555555556,
             "#d8576b"
            ],
            [
             0.6666666666666666,
             "#ed7953"
            ],
            [
             0.7777777777777778,
             "#fb9f3a"
            ],
            [
             0.8888888888888888,
             "#fdca26"
            ],
            [
             1,
             "#f0f921"
            ]
           ],
           "sequentialminus": [
            [
             0,
             "#0d0887"
            ],
            [
             0.1111111111111111,
             "#46039f"
            ],
            [
             0.2222222222222222,
             "#7201a8"
            ],
            [
             0.3333333333333333,
             "#9c179e"
            ],
            [
             0.4444444444444444,
             "#bd3786"
            ],
            [
             0.5555555555555556,
             "#d8576b"
            ],
            [
             0.6666666666666666,
             "#ed7953"
            ],
            [
             0.7777777777777778,
             "#fb9f3a"
            ],
            [
             0.8888888888888888,
             "#fdca26"
            ],
            [
             1,
             "#f0f921"
            ]
           ]
          },
          "colorway": [
           "#636efa",
           "#EF553B",
           "#00cc96",
           "#ab63fa",
           "#FFA15A",
           "#19d3f3",
           "#FF6692",
           "#B6E880",
           "#FF97FF",
           "#FECB52"
          ],
          "font": {
           "color": "#2a3f5f"
          },
          "geo": {
           "bgcolor": "white",
           "lakecolor": "white",
           "landcolor": "#E5ECF6",
           "showlakes": true,
           "showland": true,
           "subunitcolor": "white"
          },
          "hoverlabel": {
           "align": "left"
          },
          "hovermode": "closest",
          "mapbox": {
           "style": "light"
          },
          "paper_bgcolor": "white",
          "plot_bgcolor": "#E5ECF6",
          "polar": {
           "angularaxis": {
            "gridcolor": "white",
            "linecolor": "white",
            "ticks": ""
           },
           "bgcolor": "#E5ECF6",
           "radialaxis": {
            "gridcolor": "white",
            "linecolor": "white",
            "ticks": ""
           }
          },
          "scene": {
           "xaxis": {
            "backgroundcolor": "#E5ECF6",
            "gridcolor": "white",
            "gridwidth": 2,
            "linecolor": "white",
            "showbackground": true,
            "ticks": "",
            "zerolinecolor": "white"
           },
           "yaxis": {
            "backgroundcolor": "#E5ECF6",
            "gridcolor": "white",
            "gridwidth": 2,
            "linecolor": "white",
            "showbackground": true,
            "ticks": "",
            "zerolinecolor": "white"
           },
           "zaxis": {
            "backgroundcolor": "#E5ECF6",
            "gridcolor": "white",
            "gridwidth": 2,
            "linecolor": "white",
            "showbackground": true,
            "ticks": "",
            "zerolinecolor": "white"
           }
          },
          "shapedefaults": {
           "line": {
            "color": "#2a3f5f"
           }
          },
          "ternary": {
           "aaxis": {
            "gridcolor": "white",
            "linecolor": "white",
            "ticks": ""
           },
           "baxis": {
            "gridcolor": "white",
            "linecolor": "white",
            "ticks": ""
           },
           "bgcolor": "#E5ECF6",
           "caxis": {
            "gridcolor": "white",
            "linecolor": "white",
            "ticks": ""
           }
          },
          "title": {
           "x": 0.05
          },
          "xaxis": {
           "automargin": true,
           "gridcolor": "white",
           "linecolor": "white",
           "ticks": "",
           "title": {
            "standoff": 15
           },
           "zerolinecolor": "white",
           "zerolinewidth": 2
          },
          "yaxis": {
           "automargin": true,
           "gridcolor": "white",
           "linecolor": "white",
           "ticks": "",
           "title": {
            "standoff": 15
           },
           "zerolinecolor": "white",
           "zerolinewidth": 2
          }
         }
        },
        "title": {
         "text": "US Popular Vote Election Map 1976-2016",
         "x": 0.5
        }
       }
      },
      "text/html": "<div>                            <div id=\"a10715b1-b6c1-4b0d-af6a-bd38b1d687d1\" class=\"plotly-graph-div\" style=\"height:525px; width:100%;\"></div>            <script type=\"text/javascript\">                require([\"plotly\"], function(Plotly) {                    window.PLOTLYENV=window.PLOTLYENV || {};                                    if (document.getElementById(\"a10715b1-b6c1-4b0d-af6a-bd38b1d687d1\")) {                    Plotly.newPlot(                        \"a10715b1-b6c1-4b0d-af6a-bd38b1d687d1\",                        [{\"colorscale\": [[0.0, \"#0015BC\"], [1.0, \"#DE0100\"]], \"hovertemplate\": \"%{text}<extra></extra>\", \"locationmode\": \"USA-states\", \"locations\": [\"AL\", \"AK\", \"AZ\", \"AR\", \"CA\", \"CO\", \"CT\", \"DE\", \"DC\", \"FL\", \"GA\", \"HI\", \"ID\", \"IL\", \"IN\", \"IA\", \"KS\", \"KY\", \"LA\", \"ME\", \"MD\", \"MA\", \"MI\", \"MN\", \"MS\", \"MO\", \"MT\", \"NE\", \"NV\", \"NH\", \"NJ\", \"NM\", \"NY\", \"NC\", \"ND\", \"OH\", \"OK\", \"OR\", \"PA\", \"RI\", \"SC\", \"SD\", \"TN\", \"TX\", \"UT\", \"VT\", \"VA\", \"WA\", \"WV\", \"WI\", \"WY\"], \"showlegend\": false, \"showscale\": false, \"text\": [\"Alabama<br>Carter, Jimmy<br>Democrat<br>Votes: 659,170 / 1,182,850<br>Population: 3,893,888<br>Density: 76 ppsm<br>Land Area: 50,750 mi\\u00b2<br>\", \"Alaska<br>Ford, Gerald<br>Republican<br>Votes: 71,555 / 123,574<br>Population: 401,851<br>Density: 0 ppsm<br>Land Area: 570,641 mi\\u00b2<br>\", \"Arizona<br>Ford, Gerald<br>Republican<br>Votes: 418,642 / 742,719<br>Population: 2,718,215<br>Density: 23 ppsm<br>Land Area: 113,642 mi\\u00b2<br>\", \"Arkansas<br>Carter, Jimmy<br>Democrat<br>Votes: 498,604 / 767,535<br>Population: 2,286,435<br>Density: 43 ppsm<br>Land Area: 52,075 mi\\u00b2<br>\", \"California<br>Ford, Gerald<br>Republican<br>Votes: 3,882,244 / 7,803,770<br>Population: 23,667,902<br>Density: 151 ppsm<br>Land Area: 155,973 mi\\u00b2<br>\", \"Colorado<br>Ford, Gerald<br>Republican<br>Votes: 584,278 / 1,081,440<br>Population: 2,889,964<br>Density: 27 ppsm<br>Land Area: 103,730 mi\\u00b2<br>\", \"Connecticut<br>Ford, Gerald<br>Republican<br>Votes: 719,261 / 1,386,355<br>Population: 3,107,576<br>Density: 641 ppsm<br>Land Area: 4,845 mi\\u00b2<br>\", \"Delaware<br>Carter, Jimmy<br>Democrat<br>Votes: 122,461 / 235,642<br>Population: 594,338<br>Density: 8,740 ppsm<br>Land Area: 1,955 mi\\u00b2<br>\", \"District of Columbia<br>Carter, Jimmy<br>Democrat<br>Votes: 137,818 / 168,830<br>Population: 638,333<br>Density: 326 ppsm<br>Land Area: 68 mi\\u00b2<br>\", \"Florida<br>Carter, Jimmy<br>Democrat<br>Votes: 1,636,000 / 3,150,631<br>Population: 9,746,324<br>Density: 180 ppsm<br>Land Area: 53,997 mi\\u00b2<br>\", \"Georgia<br>Carter, Jimmy<br>Democrat<br>Votes: 979,409 / 1,463,152<br>Population: 5,463,105<br>Density: 94 ppsm<br>Land Area: 57,919 mi\\u00b2<br>\", \"Hawaii<br>Carter, Jimmy<br>Democrat<br>Votes: 147,375 / 291,301<br>Population: 964,691<br>Density: 150 ppsm<br>Land Area: 6,423 mi\\u00b2<br>\", \"Idaho<br>Ford, Gerald<br>Republican<br>Votes: 204,151 / 340,932<br>Population: 943,935<br>Density: 11 ppsm<br>Land Area: 82,751 mi\\u00b2<br>\", \"Illinois<br>Ford, Gerald<br>Republican<br>Votes: 2,364,269 / 4,721,282<br>Population: 11,426,518<br>Density: 205 ppsm<br>Land Area: 55,593 mi\\u00b2<br>\", \"Indiana<br>Ford, Gerald<br>Republican<br>Votes: 1,183,958 / 2,220,362<br>Population: 5,490,224<br>Density: 153 ppsm<br>Land Area: 35,870 mi\\u00b2<br>\", \"Iowa<br>Ford, Gerald<br>Republican<br>Votes: 632,864 / 1,279,303<br>Population: 2,913,808<br>Density: 52 ppsm<br>Land Area: 55,875 mi\\u00b2<br>\", \"Kansas<br>Ford, Gerald<br>Republican<br>Votes: 502,752 / 957,845<br>Population: 2,363,679<br>Density: 28 ppsm<br>Land Area: 81,823 mi\\u00b2<br>\", \"Kentucky<br>Carter, Jimmy<br>Democrat<br>Votes: 615,717 / 1,167,142<br>Population: 3,660,777<br>Density: 92 ppsm<br>Land Area: 39,732 mi\\u00b2<br>\", \"Louisiana<br>Carter, Jimmy<br>Democrat<br>Votes: 661,365 / 1,277,383<br>Population: 4,205,900<br>Density: 96 ppsm<br>Land Area: 43,566 mi\\u00b2<br>\", \"Maine<br>Ford, Gerald<br>Republican<br>Votes: 236,320 / 482,968<br>Population: 1,124,660<br>Density: 36 ppsm<br>Land Area: 30,865 mi\\u00b2<br>\", \"Maryland<br>Carter, Jimmy<br>Democrat<br>Votes: 759,612 / 1,432,273<br>Population: 4,216,975<br>Density: 431 ppsm<br>Land Area: 9,775 mi\\u00b2<br>\", \"Massachusetts<br>Carter, Jimmy<br>Democrat<br>Votes: 1,429,475 / 2,547,558<br>Population: 5,737,037<br>Density: 731 ppsm<br>Land Area: 7,838 mi\\u00b2<br>\", \"Michigan<br>Ford, Gerald<br>Republican<br>Votes: 1,893,742 / 3,651,590<br>Population: 9,262,078<br>Density: 163 ppsm<br>Land Area: 56,539 mi\\u00b2<br>\", \"Minnesota<br>Carter, Jimmy<br>Democrat<br>Votes: 1,070,440 / 1,949,931<br>Population: 4,075,970<br>Density: 51 ppsm<br>Land Area: 79,617 mi\\u00b2<br>\", \"Mississippi<br>Carter, Jimmy<br>Democrat<br>Votes: 381,329 / 768,390<br>Population: 2,520,638<br>Density: 53 ppsm<br>Land Area: 46,914 mi\\u00b2<br>\", \"Missouri<br>Carter, Jimmy<br>Democrat<br>Votes: 998,387 / 1,953,600<br>Population: 4,916,686<br>Density: 71 ppsm<br>Land Area: 68,898 mi\\u00b2<br>\", \"Montana<br>Ford, Gerald<br>Republican<br>Votes: 173,703 / 328,734<br>Population: 786,690<br>Density: 5 ppsm<br>Land Area: 145,556 mi\\u00b2<br>\", \"Nebraska<br>Ford, Gerald<br>Republican<br>Votes: 359,219 / 606,749<br>Population: 1,569,825<br>Density: 20 ppsm<br>Land Area: 76,878 mi\\u00b2<br>\", \"Nevada<br>Ford, Gerald<br>Republican<br>Votes: 101,273 / 201,876<br>Population: 800,493<br>Density: 7 ppsm<br>Land Area: 109,806 mi\\u00b2<br>\", \"New Hampshire<br>Ford, Gerald<br>Republican<br>Votes: 185,935 / 339,627<br>Population: 920,610<br>Density: 102 ppsm<br>Land Area: 8,969 mi\\u00b2<br>\", \"New Jersey<br>Ford, Gerald<br>Republican<br>Votes: 1,509,688 / 3,014,472<br>Population: 7,364,823<br>Density: 992 ppsm<br>Land Area: 7,419 mi\\u00b2<br>\", \"New Mexico<br>Ford, Gerald<br>Republican<br>Votes: 211,419 / 416,590<br>Population: 1,302,894<br>Density: 10 ppsm<br>Land Area: 121,365 mi\\u00b2<br>\", \"New York<br>Carter, Jimmy<br>Democrat<br>Votes: 3,244,165 / 6,668,262<br>Population: 17,558,072<br>Density: 371 ppsm<br>Land Area: 47,224 mi\\u00b2<br>\", \"North Carolina<br>Carter, Jimmy<br>Democrat<br>Votes: 927,365 / 1,677,906<br>Population: 5,881,766<br>Density: 120 ppsm<br>Land Area: 48,718 mi\\u00b2<br>\", \"North Dakota<br>Ford, Gerald<br>Republican<br>Votes: 153,684 / 297,308<br>Population: 652,717<br>Density: 9 ppsm<br>Land Area: 68,994 mi\\u00b2<br>\", \"Ohio<br>Carter, Jimmy<br>Democrat<br>Votes: 2,009,959 / 4,110,456<br>Population: 10,797,630<br>Density: 263 ppsm<br>Land Area: 40,953 mi\\u00b2<br>\", \"Oklahoma<br>Ford, Gerald<br>Republican<br>Votes: 545,708 / 1,092,251<br>Population: 3,025,290<br>Density: 44 ppsm<br>Land Area: 68,679 mi\\u00b2<br>\", \"Oregon<br>Ford, Gerald<br>Republican<br>Votes: 492,120 / 1,029,876<br>Population: 2,633,105<br>Density: 27 ppsm<br>Land Area: 96,003 mi\\u00b2<br>\", \"Pennsylvania<br>Carter, Jimmy<br>Democrat<br>Votes: 2,328,677 / 4,620,787<br>Population: 11,863,895<br>Density: 264 ppsm<br>Land Area: 44,820 mi\\u00b2<br>\", \"Rhode Island<br>Carter, Jimmy<br>Democrat<br>Votes: 227,636 / 410,584<br>Population: 947,154<br>Density: 916 ppsm<br>Land Area: 1,034 mi\\u00b2<br>\", \"South Carolina<br>Carter, Jimmy<br>Democrat<br>Votes: 450,807 / 802,583<br>Population: 3,121,820<br>Density: 103 ppsm<br>Land Area: 30,111 mi\\u00b2<br>\", \"South Dakota<br>Ford, Gerald<br>Republican<br>Votes: 151,505 / 300,678<br>Population: 690,768<br>Density: 9 ppsm<br>Land Area: 75,898 mi\\u00b2<br>\", \"Tennessee<br>Carter, Jimmy<br>Democrat<br>Votes: 825,879 / 1,476,346<br>Population: 4,591,120<br>Density: 111 ppsm<br>Land Area: 41,220 mi\\u00b2<br>\", \"Texas<br>Carter, Jimmy<br>Democrat<br>Votes: 2,082,319 / 4,071,884<br>Population: 14,229,191<br>Density: 54 ppsm<br>Land Area: 261,914 mi\\u00b2<br>\", \"Utah<br>Ford, Gerald<br>Republican<br>Votes: 337,908 / 541,218<br>Population: 1,461,037<br>Density: 17 ppsm<br>Land Area: 82,168 mi\\u00b2<br>\", \"Vermont<br>Ford, Gerald<br>Republican<br>Votes: 100,387 / 183,902<br>Population: 511,456<br>Density: 55 ppsm<br>Land Area: 9,249 mi\\u00b2<br>\", \"Virginia<br>Ford, Gerald<br>Republican<br>Votes: 836,554 / 1,697,094<br>Population: 5,346,818<br>Density: 135 ppsm<br>Land Area: 39,598 mi\\u00b2<br>\", \"Washington<br>Ford, Gerald<br>Republican<br>Votes: 777,732 / 1,555,534<br>Population: 4,132,156<br>Density: 62 ppsm<br>Land Area: 66,582 mi\\u00b2<br>\", \"West Virginia<br>Carter, Jimmy<br>Democrat<br>Votes: 435,864 / 750,590<br>Population: 1,949,644<br>Density: 80 ppsm<br>Land Area: 24,087 mi\\u00b2<br>\", \"Wisconsin<br>Carter, Jimmy<br>Democrat<br>Votes: 1,040,232 / 2,101,336<br>Population: 4,705,767<br>Density: 86 ppsm<br>Land Area: 54,314 mi\\u00b2<br>\", \"Wyoming<br>Ford, Gerald<br>Republican<br>Votes: 92,717 / 156,343<br>Population: 469,557<br>Density: 4 ppsm<br>Land Area: 97,105 mi\\u00b2<br>\"], \"type\": \"choropleth\", \"z\": [0, 1, 1, 0, 1, 1, 1, 0, 0, 0, 0, 0, 1, 1, 1, 1, 1, 0, 0, 1, 0, 0, 1, 0, 0, 0, 1, 1, 1, 1, 1, 1, 0, 0, 1, 0, 1, 1, 0, 0, 0, 1, 0, 0, 1, 1, 1, 1, 0, 0, 1]}, {\"colorscale\": [[0.0, \"#0015BC\"], [1.0, \"#DE0100\"]], \"hovertemplate\": \"%{text}<extra></extra>\", \"locationmode\": \"USA-states\", \"locations\": [\"AL\", \"AK\", \"AZ\", \"AR\", \"CA\", \"CO\", \"CT\", \"DE\", \"DC\", \"FL\", \"GA\", \"HI\", \"ID\", \"IL\", \"IN\", \"IA\", \"KS\", \"KY\", \"LA\", \"ME\", \"MD\", \"MA\", \"MI\", \"MN\", \"MS\", \"MO\", \"MT\", \"NE\", \"NV\", \"NH\", \"NJ\", \"NM\", \"NY\", \"NC\", \"ND\", \"OH\", \"OK\", \"OR\", \"PA\", \"RI\", \"SC\", \"SD\", \"TN\", \"TX\", \"UT\", \"VT\", \"VA\", \"WA\", \"WV\", \"WI\", \"WY\"], \"showlegend\": false, \"showscale\": false, \"text\": [\"Alabama<br>Reagan, Ronald<br>Republican<br>Votes: 654,192 / 1,341,929<br>Population: 3,893,888<br>Density: 76 ppsm<br>Land Area: 50,750 mi\\u00b2<br>\", \"Alaska<br>Reagan, Ronald<br>Republican<br>Votes: 86,112 / 158,445<br>Population: 401,851<br>Density: 0 ppsm<br>Land Area: 570,641 mi\\u00b2<br>\", \"Arizona<br>Reagan, Ronald<br>Republican<br>Votes: 529,688 / 873,945<br>Population: 2,718,215<br>Density: 23 ppsm<br>Land Area: 113,642 mi\\u00b2<br>\", \"Arkansas<br>Reagan, Ronald<br>Republican<br>Votes: 403,164 / 837,582<br>Population: 2,286,435<br>Density: 43 ppsm<br>Land Area: 52,075 mi\\u00b2<br>\", \"California<br>Reagan, Ronald<br>Republican<br>Votes: 4,522,994 / 8,582,938<br>Population: 23,667,902<br>Density: 151 ppsm<br>Land Area: 155,973 mi\\u00b2<br>\", \"Colorado<br>Reagan, Ronald<br>Republican<br>Votes: 652,264 / 1,184,450<br>Population: 2,889,964<br>Density: 27 ppsm<br>Land Area: 103,730 mi\\u00b2<br>\", \"Connecticut<br>Reagan, Ronald<br>Republican<br>Votes: 677,210 / 1,406,285<br>Population: 3,107,576<br>Density: 641 ppsm<br>Land Area: 4,845 mi\\u00b2<br>\", \"Delaware<br>Reagan, Ronald<br>Republican<br>Votes: 111,252 / 235,668<br>Population: 594,338<br>Density: 8,740 ppsm<br>Land Area: 1,955 mi\\u00b2<br>\", \"District of Columbia<br>Carter, Jimmy<br>Democrat<br>Votes: 130,231 / 173,889<br>Population: 638,333<br>Density: 326 ppsm<br>Land Area: 68 mi\\u00b2<br>\", \"Florida<br>Reagan, Ronald<br>Republican<br>Votes: 2,046,951 / 3,686,927<br>Population: 9,746,324<br>Density: 180 ppsm<br>Land Area: 53,997 mi\\u00b2<br>\", \"Georgia<br>Carter, Jimmy<br>Democrat<br>Votes: 890,955 / 1,596,805<br>Population: 5,463,105<br>Density: 94 ppsm<br>Land Area: 57,919 mi\\u00b2<br>\", \"Hawaii<br>Carter, Jimmy<br>Democrat<br>Votes: 135,879 / 303,287<br>Population: 964,691<br>Density: 150 ppsm<br>Land Area: 6,423 mi\\u00b2<br>\", \"Idaho<br>Reagan, Ronald<br>Republican<br>Votes: 290,699 / 437,431<br>Population: 943,935<br>Density: 11 ppsm<br>Land Area: 82,751 mi\\u00b2<br>\", \"Illinois<br>Reagan, Ronald<br>Republican<br>Votes: 2,358,049 / 4,749,721<br>Population: 11,426,518<br>Density: 205 ppsm<br>Land Area: 55,593 mi\\u00b2<br>\", \"Indiana<br>Reagan, Ronald<br>Republican<br>Votes: 1,255,656 / 2,242,033<br>Population: 5,490,224<br>Density: 153 ppsm<br>Land Area: 35,870 mi\\u00b2<br>\", \"Iowa<br>Reagan, Ronald<br>Republican<br>Votes: 676,026 / 1,317,661<br>Population: 2,913,808<br>Density: 52 ppsm<br>Land Area: 55,875 mi\\u00b2<br>\", \"Kansas<br>Reagan, Ronald<br>Republican<br>Votes: 566,812 / 979,795<br>Population: 2,363,679<br>Density: 28 ppsm<br>Land Area: 81,823 mi\\u00b2<br>\", \"Kentucky<br>Reagan, Ronald<br>Republican<br>Votes: 635,274 / 1,295,627<br>Population: 3,660,777<br>Density: 92 ppsm<br>Land Area: 39,732 mi\\u00b2<br>\", \"Louisiana<br>Reagan, Ronald<br>Republican<br>Votes: 792,853 / 1,548,591<br>Population: 4,205,900<br>Density: 96 ppsm<br>Land Area: 43,566 mi\\u00b2<br>\", \"Maine<br>Reagan, Ronald<br>Republican<br>Votes: 238,522 / 523,011<br>Population: 1,124,660<br>Density: 36 ppsm<br>Land Area: 30,865 mi\\u00b2<br>\", \"Maryland<br>Carter, Jimmy<br>Democrat<br>Votes: 726,161 / 1,540,496<br>Population: 4,216,975<br>Density: 431 ppsm<br>Land Area: 9,775 mi\\u00b2<br>\", \"Massachusetts<br>Reagan, Ronald<br>Republican<br>Votes: 1,057,631 / 2,524,090<br>Population: 5,737,037<br>Density: 731 ppsm<br>Land Area: 7,838 mi\\u00b2<br>\", \"Michigan<br>Reagan, Ronald<br>Republican<br>Votes: 1,915,225 / 3,909,725<br>Population: 9,262,078<br>Density: 163 ppsm<br>Land Area: 56,539 mi\\u00b2<br>\", \"Minnesota<br>Carter, Jimmy<br>Democrat<br>Votes: 954,173 / 2,051,916<br>Population: 4,075,970<br>Density: 51 ppsm<br>Land Area: 79,617 mi\\u00b2<br>\", \"Mississippi<br>Reagan, Ronald<br>Republican<br>Votes: 441,089 / 891,750<br>Population: 2,520,638<br>Density: 53 ppsm<br>Land Area: 46,914 mi\\u00b2<br>\", \"Missouri<br>Reagan, Ronald<br>Republican<br>Votes: 1,074,181 / 2,099,824<br>Population: 4,916,686<br>Density: 71 ppsm<br>Land Area: 68,898 mi\\u00b2<br>\", \"Montana<br>Reagan, Ronald<br>Republican<br>Votes: 206,814 / 363,952<br>Population: 786,690<br>Density: 5 ppsm<br>Land Area: 145,556 mi\\u00b2<br>\", \"Nebraska<br>Reagan, Ronald<br>Republican<br>Votes: 419,214 / 639,533<br>Population: 1,569,825<br>Density: 20 ppsm<br>Land Area: 76,878 mi\\u00b2<br>\", \"Nevada<br>Reagan, Ronald<br>Republican<br>Votes: 155,017 / 243,692<br>Population: 800,493<br>Density: 7 ppsm<br>Land Area: 109,806 mi\\u00b2<br>\", \"New Hampshire<br>Reagan, Ronald<br>Republican<br>Votes: 221,705 / 383,990<br>Population: 920,610<br>Density: 102 ppsm<br>Land Area: 8,969 mi\\u00b2<br>\", \"New Jersey<br>Reagan, Ronald<br>Republican<br>Votes: 1,546,557 / 2,975,684<br>Population: 7,364,823<br>Density: 992 ppsm<br>Land Area: 7,419 mi\\u00b2<br>\", \"New Mexico<br>Reagan, Ronald<br>Republican<br>Votes: 250,779 / 456,237<br>Population: 1,302,894<br>Density: 10 ppsm<br>Land Area: 121,365 mi\\u00b2<br>\", \"New York<br>Carter, Jimmy<br>Democrat<br>Votes: 2,728,372 / 6,201,959<br>Population: 17,558,072<br>Density: 371 ppsm<br>Land Area: 47,224 mi\\u00b2<br>\", \"North Carolina<br>Reagan, Ronald<br>Republican<br>Votes: 915,018 / 1,855,833<br>Population: 5,881,766<br>Density: 120 ppsm<br>Land Area: 48,718 mi\\u00b2<br>\", \"North Dakota<br>Reagan, Ronald<br>Republican<br>Votes: 193,695 / 301,116<br>Population: 652,717<br>Density: 9 ppsm<br>Land Area: 68,994 mi\\u00b2<br>\", \"Ohio<br>Reagan, Ronald<br>Republican<br>Votes: 2,206,545 / 4,283,603<br>Population: 10,797,630<br>Density: 263 ppsm<br>Land Area: 40,953 mi\\u00b2<br>\", \"Oklahoma<br>Reagan, Ronald<br>Republican<br>Votes: 695,570 / 1,149,708<br>Population: 3,025,290<br>Density: 44 ppsm<br>Land Area: 68,679 mi\\u00b2<br>\", \"Oregon<br>Reagan, Ronald<br>Republican<br>Votes: 571,044 / 1,181,516<br>Population: 2,633,105<br>Density: 27 ppsm<br>Land Area: 96,003 mi\\u00b2<br>\", \"Pennsylvania<br>Reagan, Ronald<br>Republican<br>Votes: 2,261,872 / 4,561,501<br>Population: 11,863,895<br>Density: 264 ppsm<br>Land Area: 44,820 mi\\u00b2<br>\", \"Rhode Island<br>Carter, Jimmy<br>Democrat<br>Votes: 198,342 / 415,967<br>Population: 947,154<br>Density: 916 ppsm<br>Land Area: 1,034 mi\\u00b2<br>\", \"South Carolina<br>Reagan, Ronald<br>Republican<br>Votes: 439,277 / 888,258<br>Population: 3,121,820<br>Density: 103 ppsm<br>Land Area: 30,111 mi\\u00b2<br>\", \"South Dakota<br>Reagan, Ronald<br>Republican<br>Votes: 198,343 / 327,703<br>Population: 690,768<br>Density: 9 ppsm<br>Land Area: 75,898 mi\\u00b2<br>\", \"Tennessee<br>Reagan, Ronald<br>Republican<br>Votes: 787,761 / 1,617,616<br>Population: 4,591,120<br>Density: 111 ppsm<br>Land Area: 41,220 mi\\u00b2<br>\", \"Texas<br>Reagan, Ronald<br>Republican<br>Votes: 2,510,705 / 4,541,636<br>Population: 14,229,191<br>Density: 54 ppsm<br>Land Area: 261,914 mi\\u00b2<br>\", \"Utah<br>Reagan, Ronald<br>Republican<br>Votes: 439,687 / 604,152<br>Population: 1,461,037<br>Density: 17 ppsm<br>Land Area: 82,168 mi\\u00b2<br>\", \"Vermont<br>Reagan, Ronald<br>Republican<br>Votes: 94,628 / 213,299<br>Population: 511,456<br>Density: 55 ppsm<br>Land Area: 9,249 mi\\u00b2<br>\", \"Virginia<br>Reagan, Ronald<br>Republican<br>Votes: 989,609 / 1,866,032<br>Population: 5,346,818<br>Density: 135 ppsm<br>Land Area: 39,598 mi\\u00b2<br>\", \"Washington<br>Reagan, Ronald<br>Republican<br>Votes: 865,244 / 1,742,394<br>Population: 4,132,156<br>Density: 62 ppsm<br>Land Area: 66,582 mi\\u00b2<br>\", \"West Virginia<br>Carter, Jimmy<br>Democrat<br>Votes: 367,462 / 737,715<br>Population: 1,949,644<br>Density: 80 ppsm<br>Land Area: 24,087 mi\\u00b2<br>\", \"Wisconsin<br>Reagan, Ronald<br>Republican<br>Votes: 1,088,845 / 2,273,221<br>Population: 4,705,767<br>Density: 86 ppsm<br>Land Area: 54,314 mi\\u00b2<br>\", \"Wyoming<br>Reagan, Ronald<br>Republican<br>Votes: 110,700 / 176,713<br>Population: 469,557<br>Density: 4 ppsm<br>Land Area: 97,105 mi\\u00b2<br>\"], \"type\": \"choropleth\", \"z\": [1, 1, 1, 1, 1, 1, 1, 1, 0, 1, 0, 0, 1, 1, 1, 1, 1, 1, 1, 1, 0, 1, 1, 0, 1, 1, 1, 1, 1, 1, 1, 1, 0, 1, 1, 1, 1, 1, 1, 0, 1, 1, 1, 1, 1, 1, 1, 1, 0, 1, 1]}, {\"colorscale\": [[0.0, \"#0015BC\"], [1.0, \"#DE0100\"]], \"hovertemplate\": \"%{text}<extra></extra>\", \"locationmode\": \"USA-states\", \"locations\": [\"AL\", \"AK\", \"AZ\", \"AR\", \"CA\", \"CO\", \"CT\", \"DE\", \"DC\", \"FL\", \"GA\", \"HI\", \"ID\", \"IL\", \"IN\", \"IA\", \"KS\", \"KY\", \"LA\", \"ME\", \"MD\", \"MA\", \"MI\", \"MN\", \"MS\", \"MO\", \"MT\", \"NE\", \"NV\", \"NH\", \"NJ\", \"NM\", \"NY\", \"NC\", \"ND\", \"OH\", \"OK\", \"OR\", \"PA\", \"RI\", \"SC\", \"SD\", \"TN\", \"TX\", \"UT\", \"VT\", \"VA\", \"WA\", \"WV\", \"WI\", \"WY\"], \"showlegend\": false, \"showscale\": false, \"text\": [\"Alabama<br>Reagan, Ronald<br>Republican<br>Votes: 872,849 / 1,441,713<br>Population: 3,893,888<br>Density: 76 ppsm<br>Land Area: 50,750 mi\\u00b2<br>\", \"Alaska<br>Reagan, Ronald<br>Republican<br>Votes: 138,377 / 207,605<br>Population: 401,851<br>Density: 0 ppsm<br>Land Area: 570,641 mi\\u00b2<br>\", \"Arizona<br>Reagan, Ronald<br>Republican<br>Votes: 681,416 / 1,025,897<br>Population: 2,718,215<br>Density: 23 ppsm<br>Land Area: 113,642 mi\\u00b2<br>\", \"Arkansas<br>Reagan, Ronald<br>Republican<br>Votes: 534,774 / 884,406<br>Population: 2,286,435<br>Density: 43 ppsm<br>Land Area: 52,075 mi\\u00b2<br>\", \"California<br>Reagan, Ronald<br>Republican<br>Votes: 5,467,009 / 9,505,041<br>Population: 23,667,902<br>Density: 151 ppsm<br>Land Area: 155,973 mi\\u00b2<br>\", \"Colorado<br>Reagan, Ronald<br>Republican<br>Votes: 821,817 / 1,295,380<br>Population: 2,889,964<br>Density: 27 ppsm<br>Land Area: 103,730 mi\\u00b2<br>\", \"Connecticut<br>Reagan, Ronald<br>Republican<br>Votes: 890,877 / 1,466,900<br>Population: 3,107,576<br>Density: 641 ppsm<br>Land Area: 4,845 mi\\u00b2<br>\", \"Delaware<br>Reagan, Ronald<br>Republican<br>Votes: 152,190 / 254,572<br>Population: 594,338<br>Density: 8,740 ppsm<br>Land Area: 1,955 mi\\u00b2<br>\", \"District of Columbia<br>Mondale, Walter<br>Democrat<br>Votes: 180,408 / 211,288<br>Population: 638,333<br>Density: 326 ppsm<br>Land Area: 68 mi\\u00b2<br>\", \"Florida<br>Reagan, Ronald<br>Republican<br>Votes: 2,730,350 / 4,180,051<br>Population: 9,746,324<br>Density: 180 ppsm<br>Land Area: 53,997 mi\\u00b2<br>\", \"Georgia<br>Reagan, Ronald<br>Republican<br>Votes: 1,068,722 / 1,776,103<br>Population: 5,463,105<br>Density: 94 ppsm<br>Land Area: 57,919 mi\\u00b2<br>\", \"Hawaii<br>Reagan, Ronald<br>Republican<br>Votes: 185,050 / 335,846<br>Population: 964,691<br>Density: 150 ppsm<br>Land Area: 6,423 mi\\u00b2<br>\", \"Idaho<br>Reagan, Ronald<br>Republican<br>Votes: 297,523 / 411,144<br>Population: 943,935<br>Density: 11 ppsm<br>Land Area: 82,751 mi\\u00b2<br>\", \"Illinois<br>Reagan, Ronald<br>Republican<br>Votes: 2,707,103 / 4,819,088<br>Population: 11,426,518<br>Density: 205 ppsm<br>Land Area: 55,593 mi\\u00b2<br>\", \"Indiana<br>Reagan, Ronald<br>Republican<br>Votes: 1,377,230 / 2,233,069<br>Population: 5,490,224<br>Density: 153 ppsm<br>Land Area: 35,870 mi\\u00b2<br>\", \"Iowa<br>Reagan, Ronald<br>Republican<br>Votes: 703,088 / 1,319,805<br>Population: 2,913,808<br>Density: 52 ppsm<br>Land Area: 55,875 mi\\u00b2<br>\", \"Kansas<br>Reagan, Ronald<br>Republican<br>Votes: 677,296 / 1,021,991<br>Population: 2,363,679<br>Density: 28 ppsm<br>Land Area: 81,823 mi\\u00b2<br>\", \"Kentucky<br>Reagan, Ronald<br>Republican<br>Votes: 821,702 / 1,369,345<br>Population: 3,660,777<br>Density: 92 ppsm<br>Land Area: 39,732 mi\\u00b2<br>\", \"Louisiana<br>Reagan, Ronald<br>Republican<br>Votes: 1,037,299 / 1,706,822<br>Population: 4,205,900<br>Density: 96 ppsm<br>Land Area: 43,566 mi\\u00b2<br>\", \"Maine<br>Reagan, Ronald<br>Republican<br>Votes: 336,500 / 553,144<br>Population: 1,124,660<br>Density: 36 ppsm<br>Land Area: 30,865 mi\\u00b2<br>\", \"Maryland<br>Reagan, Ronald<br>Republican<br>Votes: 879,918 / 1,675,873<br>Population: 4,216,975<br>Density: 431 ppsm<br>Land Area: 9,775 mi\\u00b2<br>\", \"Massachusetts<br>Reagan, Ronald<br>Republican<br>Votes: 1,310,936 / 2,559,383<br>Population: 5,737,037<br>Density: 731 ppsm<br>Land Area: 7,838 mi\\u00b2<br>\", \"Michigan<br>Reagan, Ronald<br>Republican<br>Votes: 2,251,571 / 3,801,658<br>Population: 9,262,078<br>Density: 163 ppsm<br>Land Area: 56,539 mi\\u00b2<br>\", \"Minnesota<br>Mondale, Walter<br>Democrat<br>Votes: 1,036,364 / 2,084,449<br>Population: 4,075,970<br>Density: 51 ppsm<br>Land Area: 79,617 mi\\u00b2<br>\", \"Mississippi<br>Reagan, Ronald<br>Republican<br>Votes: 582,377 / 941,104<br>Population: 2,520,638<br>Density: 53 ppsm<br>Land Area: 46,914 mi\\u00b2<br>\", \"Missouri<br>Reagan, Ronald<br>Republican<br>Votes: 1,274,188 / 2,122,771<br>Population: 4,916,686<br>Density: 71 ppsm<br>Land Area: 68,898 mi\\u00b2<br>\", \"Montana<br>Reagan, Ronald<br>Republican<br>Votes: 232,450 / 384,377<br>Population: 786,690<br>Density: 5 ppsm<br>Land Area: 145,556 mi\\u00b2<br>\", \"Nebraska<br>Reagan, Ronald<br>Republican<br>Votes: 460,054 / 652,090<br>Population: 1,569,825<br>Density: 20 ppsm<br>Land Area: 76,878 mi\\u00b2<br>\", \"Nevada<br>Reagan, Ronald<br>Republican<br>Votes: 188,770 / 282,717<br>Population: 800,493<br>Density: 7 ppsm<br>Land Area: 109,806 mi\\u00b2<br>\", \"New Hampshire<br>Reagan, Ronald<br>Republican<br>Votes: 267,050 / 388,904<br>Population: 920,610<br>Density: 102 ppsm<br>Land Area: 8,969 mi\\u00b2<br>\", \"New Jersey<br>Reagan, Ronald<br>Republican<br>Votes: 1,933,630 / 3,217,862<br>Population: 7,364,823<br>Density: 992 ppsm<br>Land Area: 7,419 mi\\u00b2<br>\", \"New Mexico<br>Reagan, Ronald<br>Republican<br>Votes: 307,101 / 514,370<br>Population: 1,302,894<br>Density: 10 ppsm<br>Land Area: 121,365 mi\\u00b2<br>\", \"New York<br>Reagan, Ronald<br>Republican<br>Votes: 3,376,519 / 6,806,810<br>Population: 17,558,072<br>Density: 371 ppsm<br>Land Area: 47,224 mi\\u00b2<br>\", \"North Carolina<br>Reagan, Ronald<br>Republican<br>Votes: 1,346,481 / 2,175,361<br>Population: 5,881,766<br>Density: 120 ppsm<br>Land Area: 48,718 mi\\u00b2<br>\", \"North Dakota<br>Reagan, Ronald<br>Republican<br>Votes: 200,336 / 308,971<br>Population: 652,717<br>Density: 9 ppsm<br>Land Area: 68,994 mi\\u00b2<br>\", \"Ohio<br>Reagan, Ronald<br>Republican<br>Votes: 2,678,559 / 4,563,235<br>Population: 10,797,630<br>Density: 263 ppsm<br>Land Area: 40,953 mi\\u00b2<br>\", \"Oklahoma<br>Reagan, Ronald<br>Republican<br>Votes: 861,530 / 1,255,676<br>Population: 3,025,290<br>Density: 44 ppsm<br>Land Area: 68,679 mi\\u00b2<br>\", \"Oregon<br>Reagan, Ronald<br>Republican<br>Votes: 685,700 / 1,226,527<br>Population: 2,633,105<br>Density: 27 ppsm<br>Land Area: 96,003 mi\\u00b2<br>\", \"Pennsylvania<br>Reagan, Ronald<br>Republican<br>Votes: 2,584,323 / 4,844,903<br>Population: 11,863,895<br>Density: 264 ppsm<br>Land Area: 44,820 mi\\u00b2<br>\", \"Rhode Island<br>Reagan, Ronald<br>Republican<br>Votes: 212,080 / 410,489<br>Population: 947,154<br>Density: 916 ppsm<br>Land Area: 1,034 mi\\u00b2<br>\", \"South Carolina<br>Reagan, Ronald<br>Republican<br>Votes: 615,539 / 968,529<br>Population: 3,121,820<br>Density: 103 ppsm<br>Land Area: 30,111 mi\\u00b2<br>\", \"South Dakota<br>Reagan, Ronald<br>Republican<br>Votes: 200,267 / 317,867<br>Population: 690,768<br>Density: 9 ppsm<br>Land Area: 75,898 mi\\u00b2<br>\", \"Tennessee<br>Reagan, Ronald<br>Republican<br>Votes: 990,212 / 1,711,993<br>Population: 4,591,120<br>Density: 111 ppsm<br>Land Area: 41,220 mi\\u00b2<br>\", \"Texas<br>Reagan, Ronald<br>Republican<br>Votes: 3,433,428 / 5,397,571<br>Population: 14,229,191<br>Density: 54 ppsm<br>Land Area: 261,914 mi\\u00b2<br>\", \"Utah<br>Reagan, Ronald<br>Republican<br>Votes: 469,105 / 629,656<br>Population: 1,461,037<br>Density: 17 ppsm<br>Land Area: 82,168 mi\\u00b2<br>\", \"Vermont<br>Reagan, Ronald<br>Republican<br>Votes: 135,865 / 234,561<br>Population: 511,456<br>Density: 55 ppsm<br>Land Area: 9,249 mi\\u00b2<br>\", \"Virginia<br>Reagan, Ronald<br>Republican<br>Votes: 1,337,078 / 2,146,635<br>Population: 5,346,818<br>Density: 135 ppsm<br>Land Area: 39,598 mi\\u00b2<br>\", \"Washington<br>Reagan, Ronald<br>Republican<br>Votes: 1,051,670 / 1,874,910<br>Population: 4,132,156<br>Density: 62 ppsm<br>Land Area: 66,582 mi\\u00b2<br>\", \"West Virginia<br>Reagan, Ronald<br>Republican<br>Votes: 405,483 / 735,742<br>Population: 1,949,644<br>Density: 80 ppsm<br>Land Area: 24,087 mi\\u00b2<br>\", \"Wisconsin<br>Reagan, Ronald<br>Republican<br>Votes: 1,198,584 / 2,211,689<br>Population: 4,705,767<br>Density: 86 ppsm<br>Land Area: 54,314 mi\\u00b2<br>\", \"Wyoming<br>Reagan, Ronald<br>Republican<br>Votes: 133,241 / 188,968<br>Population: 469,557<br>Density: 4 ppsm<br>Land Area: 97,105 mi\\u00b2<br>\"], \"type\": \"choropleth\", \"z\": [1, 1, 1, 1, 1, 1, 1, 1, 0, 1, 1, 1, 1, 1, 1, 1, 1, 1, 1, 1, 1, 1, 1, 0, 1, 1, 1, 1, 1, 1, 1, 1, 1, 1, 1, 1, 1, 1, 1, 1, 1, 1, 1, 1, 1, 1, 1, 1, 1, 1, 1]}, {\"colorscale\": [[0.0, \"#0015BC\"], [1.0, \"#DE0100\"]], \"hovertemplate\": \"%{text}<extra></extra>\", \"locationmode\": \"USA-states\", \"locations\": [\"AL\", \"AK\", \"AZ\", \"AR\", \"CA\", \"CO\", \"CT\", \"DE\", \"DC\", \"FL\", \"GA\", \"HI\", \"ID\", \"IL\", \"IN\", \"IA\", \"KS\", \"KY\", \"LA\", \"ME\", \"MD\", \"MA\", \"MI\", \"MN\", \"MS\", \"MO\", \"MT\", \"NE\", \"NV\", \"NH\", \"NJ\", \"NM\", \"NY\", \"NC\", \"ND\", \"OH\", \"OK\", \"OR\", \"PA\", \"RI\", \"SC\", \"SD\", \"TN\", \"TX\", \"UT\", \"VT\", \"VA\", \"WA\", \"WV\", \"WI\", \"WY\"], \"showlegend\": false, \"showscale\": false, \"text\": [\"Alabama<br>Bush, George H.W.<br>Republican<br>Votes: 815,576 / 1,378,476<br>Population: 4,040,587<br>Density: 79 ppsm<br>Land Area: 50,750 mi\\u00b2<br>\", \"Alaska<br>Bush, George H.W.<br>Republican<br>Votes: 119,251 / 200,116<br>Population: 550,043<br>Density: 0 ppsm<br>Land Area: 570,641 mi\\u00b2<br>\", \"Arizona<br>Bush, George H.W.<br>Republican<br>Votes: 702,541 / 1,171,873<br>Population: 3,665,228<br>Density: 32 ppsm<br>Land Area: 113,642 mi\\u00b2<br>\", \"Arkansas<br>Bush, George H.W.<br>Republican<br>Votes: 466,578 / 827,738<br>Population: 2,350,725<br>Density: 45 ppsm<br>Land Area: 52,075 mi\\u00b2<br>\", \"California<br>Bush, George H.W.<br>Republican<br>Votes: 5,054,917 / 9,887,065<br>Population: 29,760,021<br>Density: 190 ppsm<br>Land Area: 155,973 mi\\u00b2<br>\", \"Colorado<br>Bush, George H.W.<br>Republican<br>Votes: 728,177 / 1,372,394<br>Population: 3,294,394<br>Density: 31 ppsm<br>Land Area: 103,730 mi\\u00b2<br>\", \"Connecticut<br>Bush, George H.W.<br>Republican<br>Votes: 750,241 / 1,443,394<br>Population: 3,287,116<br>Density: 678 ppsm<br>Land Area: 4,845 mi\\u00b2<br>\", \"Delaware<br>Bush, George H.W.<br>Republican<br>Votes: 139,639 / 249,891<br>Population: 666,168<br>Density: 9,796 ppsm<br>Land Area: 1,955 mi\\u00b2<br>\", \"District of Columbia<br>Dukakis, Michael<br>Democrat<br>Votes: 159,407 / 192,877<br>Population: 606,900<br>Density: 310 ppsm<br>Land Area: 68 mi\\u00b2<br>\", \"Florida<br>Bush, George H.W.<br>Republican<br>Votes: 2,618,885 / 4,302,313<br>Population: 12,937,926<br>Density: 239 ppsm<br>Land Area: 53,997 mi\\u00b2<br>\", \"Georgia<br>Bush, George H.W.<br>Republican<br>Votes: 1,081,331 / 1,809,672<br>Population: 6,478,216<br>Density: 111 ppsm<br>Land Area: 57,919 mi\\u00b2<br>\", \"Hawaii<br>Dukakis, Michael<br>Democrat<br>Votes: 192,364 / 354,461<br>Population: 1,108,229<br>Density: 172 ppsm<br>Land Area: 6,423 mi\\u00b2<br>\", \"Idaho<br>Bush, George H.W.<br>Republican<br>Votes: 253,881 / 408,968<br>Population: 1,006,749<br>Density: 12 ppsm<br>Land Area: 82,751 mi\\u00b2<br>\", \"Illinois<br>Bush, George H.W.<br>Republican<br>Votes: 2,310,939 / 4,559,120<br>Population: 11,430,602<br>Density: 205 ppsm<br>Land Area: 55,593 mi\\u00b2<br>\", \"Indiana<br>Bush, George H.W.<br>Republican<br>Votes: 1,297,763 / 2,168,621<br>Population: 5,544,159<br>Density: 154 ppsm<br>Land Area: 35,870 mi\\u00b2<br>\", \"Iowa<br>Dukakis, Michael<br>Democrat<br>Votes: 670,557 / 1,225,614<br>Population: 2,776,755<br>Density: 49 ppsm<br>Land Area: 55,875 mi\\u00b2<br>\", \"Kansas<br>Bush, George H.W.<br>Republican<br>Votes: 554,049 / 993,044<br>Population: 2,477,574<br>Density: 30 ppsm<br>Land Area: 81,823 mi\\u00b2<br>\", \"Kentucky<br>Bush, George H.W.<br>Republican<br>Votes: 734,281 / 1,322,517<br>Population: 3,685,296<br>Density: 92 ppsm<br>Land Area: 39,732 mi\\u00b2<br>\", \"Louisiana<br>Bush, George H.W.<br>Republican<br>Votes: 883,702 / 1,628,202<br>Population: 4,219,973<br>Density: 96 ppsm<br>Land Area: 43,566 mi\\u00b2<br>\", \"Maine<br>Bush, George H.W.<br>Republican<br>Votes: 307,131 / 555,035<br>Population: 1,227,928<br>Density: 39 ppsm<br>Land Area: 30,865 mi\\u00b2<br>\", \"Maryland<br>Bush, George H.W.<br>Republican<br>Votes: 876,167 / 1,714,358<br>Population: 4,781,468<br>Density: 489 ppsm<br>Land Area: 9,775 mi\\u00b2<br>\", \"Massachusetts<br>Dukakis, Michael<br>Democrat<br>Votes: 1,401,415 / 2,632,801<br>Population: 6,016,425<br>Density: 767 ppsm<br>Land Area: 7,838 mi\\u00b2<br>\", \"Michigan<br>Bush, George H.W.<br>Republican<br>Votes: 1,965,486 / 3,669,163<br>Population: 9,295,297<br>Density: 164 ppsm<br>Land Area: 56,539 mi\\u00b2<br>\", \"Minnesota<br>Dukakis, Michael<br>Democrat<br>Votes: 1,109,471 / 2,096,790<br>Population: 4,375,099<br>Density: 54 ppsm<br>Land Area: 79,617 mi\\u00b2<br>\", \"Mississippi<br>Bush, George H.W.<br>Republican<br>Votes: 557,890 / 931,527<br>Population: 2,573,216<br>Density: 54 ppsm<br>Land Area: 46,914 mi\\u00b2<br>\", \"Missouri<br>Bush, George H.W.<br>Republican<br>Votes: 1,084,953 / 2,093,228<br>Population: 5,117,073<br>Density: 74 ppsm<br>Land Area: 68,898 mi\\u00b2<br>\", \"Montana<br>Bush, George H.W.<br>Republican<br>Votes: 190,412 / 365,674<br>Population: 799,065<br>Density: 5 ppsm<br>Land Area: 145,556 mi\\u00b2<br>\", \"Nebraska<br>Bush, George H.W.<br>Republican<br>Votes: 397,956 / 661,465<br>Population: 1,578,385<br>Density: 20 ppsm<br>Land Area: 76,878 mi\\u00b2<br>\", \"Nevada<br>Bush, George H.W.<br>Republican<br>Votes: 206,040 / 343,133<br>Population: 1,201,833<br>Density: 10 ppsm<br>Land Area: 109,806 mi\\u00b2<br>\", \"New Hampshire<br>Bush, George H.W.<br>Republican<br>Votes: 281,537 / 450,525<br>Population: 1,109,252<br>Density: 123 ppsm<br>Land Area: 8,969 mi\\u00b2<br>\", \"New Jersey<br>Bush, George H.W.<br>Republican<br>Votes: 1,743,192 / 3,099,553<br>Population: 7,730,188<br>Density: 1,041 ppsm<br>Land Area: 7,419 mi\\u00b2<br>\", \"New Mexico<br>Bush, George H.W.<br>Republican<br>Votes: 270,341 / 521,387<br>Population: 1,515,069<br>Density: 12 ppsm<br>Land Area: 121,365 mi\\u00b2<br>\", \"New York<br>Dukakis, Michael<br>Democrat<br>Votes: 3,255,487 / 6,485,683<br>Population: 17,990,455<br>Density: 380 ppsm<br>Land Area: 47,224 mi\\u00b2<br>\", \"North Carolina<br>Bush, George H.W.<br>Republican<br>Votes: 1,237,258 / 2,134,370<br>Population: 6,628,637<br>Density: 136 ppsm<br>Land Area: 48,718 mi\\u00b2<br>\", \"North Dakota<br>Bush, George H.W.<br>Republican<br>Votes: 166,559 / 297,261<br>Population: 638,800<br>Density: 9 ppsm<br>Land Area: 68,994 mi\\u00b2<br>\", \"Ohio<br>Bush, George H.W.<br>Republican<br>Votes: 2,416,549 / 4,393,585<br>Population: 10,847,115<br>Density: 264 ppsm<br>Land Area: 40,953 mi\\u00b2<br>\", \"Oklahoma<br>Bush, George H.W.<br>Republican<br>Votes: 678,367 / 1,171,036<br>Population: 3,145,585<br>Density: 45 ppsm<br>Land Area: 68,679 mi\\u00b2<br>\", \"Oregon<br>Dukakis, Michael<br>Democrat<br>Votes: 616,206 / 1,201,694<br>Population: 2,842,321<br>Density: 29 ppsm<br>Land Area: 96,003 mi\\u00b2<br>\", \"Pennsylvania<br>Bush, George H.W.<br>Republican<br>Votes: 2,300,087 / 4,536,251<br>Population: 11,881,643<br>Density: 265 ppsm<br>Land Area: 44,820 mi\\u00b2<br>\", \"Rhode Island<br>Dukakis, Michael<br>Democrat<br>Votes: 225,123 / 404,622<br>Population: 1,003,464<br>Density: 970 ppsm<br>Land Area: 1,034 mi\\u00b2<br>\", \"South Carolina<br>Bush, George H.W.<br>Republican<br>Votes: 606,443 / 986,009<br>Population: 3,486,703<br>Density: 115 ppsm<br>Land Area: 30,111 mi\\u00b2<br>\", \"South Dakota<br>Bush, George H.W.<br>Republican<br>Votes: 165,415 / 312,991<br>Population: 696,004<br>Density: 9 ppsm<br>Land Area: 75,898 mi\\u00b2<br>\", \"Tennessee<br>Bush, George H.W.<br>Republican<br>Votes: 947,233 / 1,636,250<br>Population: 4,877,185<br>Density: 118 ppsm<br>Land Area: 41,220 mi\\u00b2<br>\", \"Texas<br>Bush, George H.W.<br>Republican<br>Votes: 3,036,829 / 5,427,410<br>Population: 16,986,510<br>Density: 64 ppsm<br>Land Area: 261,914 mi\\u00b2<br>\", \"Utah<br>Bush, George H.W.<br>Republican<br>Votes: 428,442 / 647,008<br>Population: 1,722,850<br>Density: 20 ppsm<br>Land Area: 82,168 mi\\u00b2<br>\", \"Vermont<br>Bush, George H.W.<br>Republican<br>Votes: 124,331 / 243,328<br>Population: 562,758<br>Density: 60 ppsm<br>Land Area: 9,249 mi\\u00b2<br>\", \"Virginia<br>Bush, George H.W.<br>Republican<br>Votes: 1,309,162 / 2,191,609<br>Population: 6,187,358<br>Density: 156 ppsm<br>Land Area: 39,598 mi\\u00b2<br>\", \"Washington<br>Dukakis, Michael<br>Democrat<br>Votes: 933,516 / 1,865,253<br>Population: 4,866,692<br>Density: 73 ppsm<br>Land Area: 66,582 mi\\u00b2<br>\", \"West Virginia<br>Dukakis, Michael<br>Democrat<br>Votes: 341,016 / 653,311<br>Population: 1,793,477<br>Density: 74 ppsm<br>Land Area: 24,087 mi\\u00b2<br>\", \"Wisconsin<br>Dukakis, Michael<br>Democrat<br>Votes: 1,126,794 / 2,191,608<br>Population: 4,891,769<br>Density: 90 ppsm<br>Land Area: 54,314 mi\\u00b2<br>\", \"Wyoming<br>Bush, George H.W.<br>Republican<br>Votes: 106,867 / 176,551<br>Population: 453,588<br>Density: 4 ppsm<br>Land Area: 97,105 mi\\u00b2<br>\"], \"type\": \"choropleth\", \"z\": [1, 1, 1, 1, 1, 1, 1, 1, 0, 1, 1, 0, 1, 1, 1, 0, 1, 1, 1, 1, 1, 0, 1, 0, 1, 1, 1, 1, 1, 1, 1, 1, 0, 1, 1, 1, 1, 0, 1, 0, 1, 1, 1, 1, 1, 1, 1, 0, 0, 0, 1]}, {\"colorscale\": [[0.0, \"#0015BC\"], [1.0, \"#DE0100\"]], \"hovertemplate\": \"%{text}<extra></extra>\", \"locationmode\": \"USA-states\", \"locations\": [\"AL\", \"AK\", \"AZ\", \"AR\", \"CA\", \"CO\", \"CT\", \"DE\", \"DC\", \"FL\", \"GA\", \"HI\", \"ID\", \"IL\", \"IN\", \"IA\", \"KS\", \"KY\", \"LA\", \"ME\", \"MD\", \"MA\", \"MI\", \"MN\", \"MS\", \"MO\", \"MT\", \"NE\", \"NV\", \"NH\", \"NJ\", \"NM\", \"NY\", \"NC\", \"ND\", \"OH\", \"OK\", \"OR\", \"PA\", \"RI\", \"SC\", \"SD\", \"TN\", \"TX\", \"UT\", \"VT\", \"VA\", \"WA\", \"WV\", \"WI\", \"WY\"], \"showlegend\": false, \"showscale\": false, \"text\": [\"Alabama<br>Bush, George H.W.<br>Republican<br>Votes: 804,283 / 1,688,060<br>Population: 4,040,587<br>Density: 79 ppsm<br>Land Area: 50,750 mi\\u00b2<br>\", \"Alaska<br>Bush, George H.W.<br>Republican<br>Votes: 102,000 / 258,506<br>Population: 550,043<br>Density: 0 ppsm<br>Land Area: 570,641 mi\\u00b2<br>\", \"Arizona<br>Bush, George H.W.<br>Republican<br>Votes: 572,086 / 1,486,975<br>Population: 3,665,228<br>Density: 32 ppsm<br>Land Area: 113,642 mi\\u00b2<br>\", \"Arkansas<br>Clinton, Bill<br>Democrat<br>Votes: 505,823 / 950,653<br>Population: 2,350,725<br>Density: 45 ppsm<br>Land Area: 52,075 mi\\u00b2<br>\", \"California<br>Clinton, Bill<br>Democrat<br>Votes: 5,121,325 / 11,131,721<br>Population: 29,760,021<br>Density: 190 ppsm<br>Land Area: 155,973 mi\\u00b2<br>\", \"Colorado<br>Clinton, Bill<br>Democrat<br>Votes: 629,681 / 1,569,180<br>Population: 3,294,394<br>Density: 31 ppsm<br>Land Area: 103,730 mi\\u00b2<br>\", \"Connecticut<br>Clinton, Bill<br>Democrat<br>Votes: 682,318 / 1,616,156<br>Population: 3,287,116<br>Density: 678 ppsm<br>Land Area: 4,845 mi\\u00b2<br>\", \"Delaware<br>Clinton, Bill<br>Democrat<br>Votes: 126,054 / 289,620<br>Population: 666,168<br>Density: 9,796 ppsm<br>Land Area: 1,955 mi\\u00b2<br>\", \"District of Columbia<br>Clinton, Bill<br>Democrat<br>Votes: 192,619 / 227,572<br>Population: 606,900<br>Density: 310 ppsm<br>Land Area: 68 mi\\u00b2<br>\", \"Florida<br>Bush, George H.W.<br>Republican<br>Votes: 2,173,310 / 5,313,392<br>Population: 12,937,926<br>Density: 239 ppsm<br>Land Area: 53,997 mi\\u00b2<br>\", \"Georgia<br>Clinton, Bill<br>Democrat<br>Votes: 1,008,966 / 2,321,133<br>Population: 6,478,216<br>Density: 111 ppsm<br>Land Area: 57,919 mi\\u00b2<br>\", \"Hawaii<br>Clinton, Bill<br>Democrat<br>Votes: 179,310 / 372,842<br>Population: 1,108,229<br>Density: 172 ppsm<br>Land Area: 6,423 mi\\u00b2<br>\", \"Idaho<br>Bush, George H.W.<br>Republican<br>Votes: 202,645 / 482,114<br>Population: 1,006,749<br>Density: 12 ppsm<br>Land Area: 82,751 mi\\u00b2<br>\", \"Illinois<br>Clinton, Bill<br>Democrat<br>Votes: 2,453,350 / 5,050,157<br>Population: 11,430,602<br>Density: 205 ppsm<br>Land Area: 55,593 mi\\u00b2<br>\", \"Indiana<br>Bush, George H.W.<br>Republican<br>Votes: 989,375 / 2,305,871<br>Population: 5,544,159<br>Density: 154 ppsm<br>Land Area: 35,870 mi\\u00b2<br>\", \"Iowa<br>Clinton, Bill<br>Democrat<br>Votes: 586,353 / 1,354,607<br>Population: 2,776,755<br>Density: 49 ppsm<br>Land Area: 55,875 mi\\u00b2<br>\", \"Kansas<br>Bush, George H.W.<br>Republican<br>Votes: 449,951 / 1,157,236<br>Population: 2,477,574<br>Density: 30 ppsm<br>Land Area: 81,823 mi\\u00b2<br>\", \"Kentucky<br>Clinton, Bill<br>Democrat<br>Votes: 665,104 / 1,492,900<br>Population: 3,685,296<br>Density: 92 ppsm<br>Land Area: 39,732 mi\\u00b2<br>\", \"Louisiana<br>Clinton, Bill<br>Democrat<br>Votes: 815,971 / 1,790,017<br>Population: 4,219,973<br>Density: 96 ppsm<br>Land Area: 43,566 mi\\u00b2<br>\", \"Maine<br>Clinton, Bill<br>Democrat<br>Votes: 263,420 / 679,499<br>Population: 1,227,928<br>Density: 39 ppsm<br>Land Area: 30,865 mi\\u00b2<br>\", \"Maryland<br>Clinton, Bill<br>Democrat<br>Votes: 988,571 / 1,984,580<br>Population: 4,781,468<br>Density: 489 ppsm<br>Land Area: 9,775 mi\\u00b2<br>\", \"Massachusetts<br>Clinton, Bill<br>Democrat<br>Votes: 1,318,639 / 2,773,664<br>Population: 6,016,425<br>Density: 767 ppsm<br>Land Area: 7,838 mi\\u00b2<br>\", \"Michigan<br>Clinton, Bill<br>Democrat<br>Votes: 1,871,182 / 4,274,673<br>Population: 9,295,297<br>Density: 164 ppsm<br>Land Area: 56,539 mi\\u00b2<br>\", \"Minnesota<br>Clinton, Bill<br>Democrat<br>Votes: 1,020,997 / 2,347,948<br>Population: 4,375,099<br>Density: 54 ppsm<br>Land Area: 79,617 mi\\u00b2<br>\", \"Mississippi<br>Bush, George H.W.<br>Republican<br>Votes: 487,793 / 981,793<br>Population: 2,573,216<br>Density: 54 ppsm<br>Land Area: 46,914 mi\\u00b2<br>\", \"Missouri<br>Clinton, Bill<br>Democrat<br>Votes: 1,053,873 / 2,391,270<br>Population: 5,117,073<br>Density: 74 ppsm<br>Land Area: 68,898 mi\\u00b2<br>\", \"Montana<br>Clinton, Bill<br>Democrat<br>Votes: 154,507 / 410,583<br>Population: 799,065<br>Density: 5 ppsm<br>Land Area: 145,556 mi\\u00b2<br>\", \"Nebraska<br>Bush, George H.W.<br>Republican<br>Votes: 343,678 / 737,546<br>Population: 1,578,385<br>Density: 20 ppsm<br>Land Area: 76,878 mi\\u00b2<br>\", \"Nevada<br>Clinton, Bill<br>Democrat<br>Votes: 189,148 / 506,318<br>Population: 1,201,833<br>Density: 10 ppsm<br>Land Area: 109,806 mi\\u00b2<br>\", \"New Hampshire<br>Clinton, Bill<br>Democrat<br>Votes: 209,040 / 537,215<br>Population: 1,109,252<br>Density: 123 ppsm<br>Land Area: 8,969 mi\\u00b2<br>\", \"New Jersey<br>Clinton, Bill<br>Democrat<br>Votes: 1,436,206 / 3,343,594<br>Population: 7,730,188<br>Density: 1,041 ppsm<br>Land Area: 7,419 mi\\u00b2<br>\", \"New Mexico<br>Clinton, Bill<br>Democrat<br>Votes: 261,617 / 569,986<br>Population: 1,515,069<br>Density: 12 ppsm<br>Land Area: 121,365 mi\\u00b2<br>\", \"New York<br>Clinton, Bill<br>Democrat<br>Votes: 3,346,894 / 7,079,432<br>Population: 17,990,455<br>Density: 380 ppsm<br>Land Area: 47,224 mi\\u00b2<br>\", \"North Carolina<br>Bush, George H.W.<br>Republican<br>Votes: 1,134,661 / 2,611,850<br>Population: 6,628,637<br>Density: 136 ppsm<br>Land Area: 48,718 mi\\u00b2<br>\", \"North Dakota<br>Bush, George H.W.<br>Republican<br>Votes: 136,244 / 308,133<br>Population: 638,800<br>Density: 9 ppsm<br>Land Area: 68,994 mi\\u00b2<br>\", \"Ohio<br>Clinton, Bill<br>Democrat<br>Votes: 1,984,942 / 4,939,967<br>Population: 10,847,115<br>Density: 264 ppsm<br>Land Area: 40,953 mi\\u00b2<br>\", \"Oklahoma<br>Bush, George H.W.<br>Republican<br>Votes: 592,929 / 1,390,359<br>Population: 3,145,585<br>Density: 45 ppsm<br>Land Area: 68,679 mi\\u00b2<br>\", \"Oregon<br>Clinton, Bill<br>Democrat<br>Votes: 621,314 / 1,462,643<br>Population: 2,842,321<br>Density: 29 ppsm<br>Land Area: 96,003 mi\\u00b2<br>\", \"Pennsylvania<br>Clinton, Bill<br>Democrat<br>Votes: 2,239,164 / 4,959,810<br>Population: 11,881,643<br>Density: 265 ppsm<br>Land Area: 44,820 mi\\u00b2<br>\", \"Rhode Island<br>Clinton, Bill<br>Democrat<br>Votes: 213,299 / 453,365<br>Population: 1,003,464<br>Density: 970 ppsm<br>Land Area: 1,034 mi\\u00b2<br>\", \"South Carolina<br>Bush, George H.W.<br>Republican<br>Votes: 577,507 / 1,228,912<br>Population: 3,486,703<br>Density: 115 ppsm<br>Land Area: 30,111 mi\\u00b2<br>\", \"South Dakota<br>Bush, George H.W.<br>Republican<br>Votes: 136,718 / 336,254<br>Population: 696,004<br>Density: 9 ppsm<br>Land Area: 75,898 mi\\u00b2<br>\", \"Tennessee<br>Clinton, Bill<br>Democrat<br>Votes: 933,521 / 1,982,638<br>Population: 4,877,185<br>Density: 118 ppsm<br>Land Area: 41,220 mi\\u00b2<br>\", \"Texas<br>Bush, George H.W.<br>Republican<br>Votes: 2,496,071 / 6,154,018<br>Population: 16,986,510<br>Density: 64 ppsm<br>Land Area: 261,914 mi\\u00b2<br>\", \"Utah<br>Bush, George H.W.<br>Republican<br>Votes: 322,632 / 743,998<br>Population: 1,722,850<br>Density: 20 ppsm<br>Land Area: 82,168 mi\\u00b2<br>\", \"Vermont<br>Clinton, Bill<br>Democrat<br>Votes: 133,592 / 289,701<br>Population: 562,758<br>Density: 60 ppsm<br>Land Area: 9,249 mi\\u00b2<br>\", \"Virginia<br>Bush, George H.W.<br>Republican<br>Votes: 1,150,517 / 2,559,129<br>Population: 6,187,358<br>Density: 156 ppsm<br>Land Area: 39,598 mi\\u00b2<br>\", \"Washington<br>Clinton, Bill<br>Democrat<br>Votes: 993,037 / 2,287,565<br>Population: 4,866,692<br>Density: 73 ppsm<br>Land Area: 66,582 mi\\u00b2<br>\", \"West Virginia<br>Clinton, Bill<br>Democrat<br>Votes: 331,001 / 683,677<br>Population: 1,793,477<br>Density: 74 ppsm<br>Land Area: 24,087 mi\\u00b2<br>\", \"Wisconsin<br>Clinton, Bill<br>Democrat<br>Votes: 1,041,066 / 2,531,064<br>Population: 4,891,769<br>Density: 90 ppsm<br>Land Area: 54,314 mi\\u00b2<br>\", \"Wyoming<br>Bush, George H.W.<br>Republican<br>Votes: 79,347 / 199,884<br>Population: 453,588<br>Density: 4 ppsm<br>Land Area: 97,105 mi\\u00b2<br>\"], \"type\": \"choropleth\", \"z\": [1, 1, 1, 0, 0, 0, 0, 0, 0, 1, 0, 0, 1, 0, 1, 0, 1, 0, 0, 0, 0, 0, 0, 0, 1, 0, 0, 1, 0, 0, 0, 0, 0, 1, 1, 0, 1, 0, 0, 0, 1, 1, 0, 1, 1, 0, 1, 0, 0, 0, 1]}, {\"colorscale\": [[0.0, \"#0015BC\"], [1.0, \"#DE0100\"]], \"hovertemplate\": \"%{text}<extra></extra>\", \"locationmode\": \"USA-states\", \"locations\": [\"AL\", \"AK\", \"AZ\", \"AR\", \"CA\", \"CO\", \"CT\", \"DE\", \"DC\", \"FL\", \"GA\", \"HI\", \"ID\", \"IL\", \"IN\", \"IA\", \"KS\", \"KY\", \"LA\", \"ME\", \"MD\", \"MA\", \"MI\", \"MN\", \"MS\", \"MO\", \"MT\", \"NE\", \"NV\", \"NH\", \"NJ\", \"NM\", \"NY\", \"NC\", \"ND\", \"OH\", \"OK\", \"OR\", \"PA\", \"RI\", \"SC\", \"SD\", \"TN\", \"TX\", \"UT\", \"VT\", \"VA\", \"WA\", \"WV\", \"WI\", \"WY\"], \"showlegend\": false, \"showscale\": false, \"text\": [\"Alabama<br>Dole, Robert<br>Republican<br>Votes: 769,044 / 1,534,349<br>Population: 4,447,100<br>Density: 87 ppsm<br>Land Area: 50,750 mi\\u00b2<br>\", \"Alaska<br>Dole, Robert<br>Republican<br>Votes: 122,746 / 241,620<br>Population: 626,932<br>Density: 1 ppsm<br>Land Area: 570,641 mi\\u00b2<br>\", \"Arizona<br>Clinton, Bill<br>Democrat<br>Votes: 653,288 / 1,404,405<br>Population: 5,130,632<br>Density: 45 ppsm<br>Land Area: 113,642 mi\\u00b2<br>\", \"Arkansas<br>Clinton, Bill<br>Democrat<br>Votes: 475,171 / 884,262<br>Population: 2,673,400<br>Density: 51 ppsm<br>Land Area: 52,075 mi\\u00b2<br>\", \"California<br>Clinton, Bill<br>Democrat<br>Votes: 5,119,835 / 10,019,469<br>Population: 33,871,648<br>Density: 217 ppsm<br>Land Area: 155,973 mi\\u00b2<br>\", \"Colorado<br>Dole, Robert<br>Republican<br>Votes: 691,848 / 1,510,702<br>Population: 4,301,261<br>Density: 41 ppsm<br>Land Area: 103,730 mi\\u00b2<br>\", \"Connecticut<br>Clinton, Bill<br>Democrat<br>Votes: 735,740 / 1,392,614<br>Population: 3,405,565<br>Density: 702 ppsm<br>Land Area: 4,845 mi\\u00b2<br>\", \"Delaware<br>Clinton, Bill<br>Democrat<br>Votes: 140,355 / 270,810<br>Population: 783,600<br>Density: 11,523 ppsm<br>Land Area: 1,955 mi\\u00b2<br>\", \"District of Columbia<br>Clinton, Bill<br>Democrat<br>Votes: 158,220 / 185,726<br>Population: 572,059<br>Density: 292 ppsm<br>Land Area: 68 mi\\u00b2<br>\", \"Florida<br>Clinton, Bill<br>Democrat<br>Votes: 2,546,870 / 5,303,154<br>Population: 15,982,378<br>Density: 295 ppsm<br>Land Area: 53,997 mi\\u00b2<br>\", \"Georgia<br>Dole, Robert<br>Republican<br>Votes: 1,080,843 / 2,298,899<br>Population: 8,186,453<br>Density: 141 ppsm<br>Land Area: 57,919 mi\\u00b2<br>\", \"Hawaii<br>Clinton, Bill<br>Democrat<br>Votes: 205,012 / 360,120<br>Population: 1,211,537<br>Density: 188 ppsm<br>Land Area: 6,423 mi\\u00b2<br>\", \"Idaho<br>Dole, Robert<br>Republican<br>Votes: 256,595 / 491,711<br>Population: 1,293,953<br>Density: 15 ppsm<br>Land Area: 82,751 mi\\u00b2<br>\", \"Illinois<br>Clinton, Bill<br>Democrat<br>Votes: 2,341,744 / 4,311,391<br>Population: 12,419,293<br>Density: 223 ppsm<br>Land Area: 55,593 mi\\u00b2<br>\", \"Indiana<br>Dole, Robert<br>Republican<br>Votes: 1,006,693 / 2,135,431<br>Population: 6,080,485<br>Density: 169 ppsm<br>Land Area: 35,870 mi\\u00b2<br>\", \"Iowa<br>Clinton, Bill<br>Democrat<br>Votes: 620,258 / 1,234,075<br>Population: 2,926,324<br>Density: 52 ppsm<br>Land Area: 55,875 mi\\u00b2<br>\", \"Kansas<br>Dole, Robert<br>Republican<br>Votes: 583,245 / 1,074,300<br>Population: 2,688,418<br>Density: 32 ppsm<br>Land Area: 81,823 mi\\u00b2<br>\", \"Kentucky<br>Clinton, Bill<br>Democrat<br>Votes: 636,614 / 1,388,708<br>Population: 4,041,769<br>Density: 101 ppsm<br>Land Area: 39,732 mi\\u00b2<br>\", \"Louisiana<br>Clinton, Bill<br>Democrat<br>Votes: 927,837 / 1,783,959<br>Population: 4,468,976<br>Density: 102 ppsm<br>Land Area: 43,566 mi\\u00b2<br>\", \"Maine<br>Clinton, Bill<br>Democrat<br>Votes: 312,788 / 605,897<br>Population: 1,274,923<br>Density: 41 ppsm<br>Land Area: 30,865 mi\\u00b2<br>\", \"Maryland<br>Clinton, Bill<br>Democrat<br>Votes: 966,207 / 1,780,870<br>Population: 5,296,486<br>Density: 541 ppsm<br>Land Area: 9,775 mi\\u00b2<br>\", \"Massachusetts<br>Clinton, Bill<br>Democrat<br>Votes: 1,571,509 / 2,556,459<br>Population: 6,349,097<br>Density: 810 ppsm<br>Land Area: 7,838 mi\\u00b2<br>\", \"Michigan<br>Clinton, Bill<br>Democrat<br>Votes: 1,989,653 / 3,848,844<br>Population: 9,938,444<br>Density: 175 ppsm<br>Land Area: 56,539 mi\\u00b2<br>\", \"Minnesota<br>Clinton, Bill<br>Democrat<br>Votes: 1,120,380 / 2,192,492<br>Population: 4,919,479<br>Density: 61 ppsm<br>Land Area: 79,617 mi\\u00b2<br>\", \"Mississippi<br>Dole, Robert<br>Republican<br>Votes: 439,838 / 893,857<br>Population: 2,844,658<br>Density: 60 ppsm<br>Land Area: 46,914 mi\\u00b2<br>\", \"Missouri<br>Clinton, Bill<br>Democrat<br>Votes: 1,025,935 / 2,158,065<br>Population: 5,595,211<br>Density: 81 ppsm<br>Land Area: 68,898 mi\\u00b2<br>\", \"Montana<br>Dole, Robert<br>Republican<br>Votes: 179,652 / 407,083<br>Population: 902,195<br>Density: 6 ppsm<br>Land Area: 145,556 mi\\u00b2<br>\", \"Nebraska<br>Dole, Robert<br>Republican<br>Votes: 363,467 / 677,415<br>Population: 1,711,263<br>Density: 22 ppsm<br>Land Area: 76,878 mi\\u00b2<br>\", \"Nevada<br>Clinton, Bill<br>Democrat<br>Votes: 203,974 / 464,279<br>Population: 1,998,257<br>Density: 18 ppsm<br>Land Area: 109,806 mi\\u00b2<br>\", \"New Hampshire<br>Clinton, Bill<br>Democrat<br>Votes: 246,166 / 496,597<br>Population: 1,235,786<br>Density: 137 ppsm<br>Land Area: 8,969 mi\\u00b2<br>\", \"New Jersey<br>Clinton, Bill<br>Democrat<br>Votes: 1,652,361 / 3,075,860<br>Population: 8,414,350<br>Density: 1,134 ppsm<br>Land Area: 7,419 mi\\u00b2<br>\", \"New Mexico<br>Clinton, Bill<br>Democrat<br>Votes: 273,495 / 556,074<br>Population: 1,819,046<br>Density: 14 ppsm<br>Land Area: 121,365 mi\\u00b2<br>\", \"New York<br>Clinton, Bill<br>Democrat<br>Votes: 3,649,630 / 6,439,129<br>Population: 18,976,457<br>Density: 401 ppsm<br>Land Area: 47,224 mi\\u00b2<br>\", \"North Carolina<br>Dole, Robert<br>Republican<br>Votes: 1,225,938 / 2,515,807<br>Population: 8,049,313<br>Density: 165 ppsm<br>Land Area: 48,718 mi\\u00b2<br>\", \"North Dakota<br>Dole, Robert<br>Republican<br>Votes: 125,050 / 266,411<br>Population: 642,200<br>Density: 9 ppsm<br>Land Area: 68,994 mi\\u00b2<br>\", \"Ohio<br>Clinton, Bill<br>Democrat<br>Votes: 2,148,222 / 4,534,434<br>Population: 11,353,140<br>Density: 277 ppsm<br>Land Area: 40,953 mi\\u00b2<br>\", \"Oklahoma<br>Dole, Robert<br>Republican<br>Votes: 582,315 / 1,206,713<br>Population: 3,450,654<br>Density: 50 ppsm<br>Land Area: 68,679 mi\\u00b2<br>\", \"Oregon<br>Clinton, Bill<br>Democrat<br>Votes: 649,641 / 1,377,760<br>Population: 3,421,399<br>Density: 35 ppsm<br>Land Area: 96,003 mi\\u00b2<br>\", \"Pennsylvania<br>Clinton, Bill<br>Democrat<br>Votes: 2,215,819 / 4,501,307<br>Population: 12,281,054<br>Density: 274 ppsm<br>Land Area: 44,820 mi\\u00b2<br>\", \"Rhode Island<br>Clinton, Bill<br>Democrat<br>Votes: 233,050 / 390,247<br>Population: 1,048,319<br>Density: 1,013 ppsm<br>Land Area: 1,034 mi\\u00b2<br>\", \"South Carolina<br>Dole, Robert<br>Republican<br>Votes: 573,339 / 1,150,182<br>Population: 4,012,012<br>Density: 133 ppsm<br>Land Area: 30,111 mi\\u00b2<br>\", \"South Dakota<br>Dole, Robert<br>Republican<br>Votes: 150,543 / 323,826<br>Population: 754,844<br>Density: 9 ppsm<br>Land Area: 75,898 mi\\u00b2<br>\", \"Tennessee<br>Clinton, Bill<br>Democrat<br>Votes: 909,146 / 1,894,105<br>Population: 5,689,283<br>Density: 138 ppsm<br>Land Area: 41,220 mi\\u00b2<br>\", \"Texas<br>Dole, Robert<br>Republican<br>Votes: 2,736,167 / 5,611,644<br>Population: 20,851,820<br>Density: 79 ppsm<br>Land Area: 261,914 mi\\u00b2<br>\", \"Utah<br>Dole, Robert<br>Republican<br>Votes: 361,911 / 665,629<br>Population: 2,233,169<br>Density: 27 ppsm<br>Land Area: 82,168 mi\\u00b2<br>\", \"Vermont<br>Clinton, Bill<br>Democrat<br>Votes: 137,894 / 258,449<br>Population: 608,827<br>Density: 65 ppsm<br>Land Area: 9,249 mi\\u00b2<br>\", \"Virginia<br>Dole, Robert<br>Republican<br>Votes: 1,138,350 / 2,416,642<br>Population: 7,078,515<br>Density: 178 ppsm<br>Land Area: 39,598 mi\\u00b2<br>\", \"Washington<br>Clinton, Bill<br>Democrat<br>Votes: 1,123,323 / 2,253,837<br>Population: 5,894,121<br>Density: 88 ppsm<br>Land Area: 66,582 mi\\u00b2<br>\", \"West Virginia<br>Clinton, Bill<br>Democrat<br>Votes: 327,812 / 636,459<br>Population: 1,808,344<br>Density: 75 ppsm<br>Land Area: 24,087 mi\\u00b2<br>\", \"Wisconsin<br>Clinton, Bill<br>Democrat<br>Votes: 1,071,971 / 2,196,169<br>Population: 5,363,675<br>Density: 98 ppsm<br>Land Area: 54,314 mi\\u00b2<br>\", \"Wyoming<br>Dole, Robert<br>Republican<br>Votes: 105,388 / 211,571<br>Population: 493,782<br>Density: 5 ppsm<br>Land Area: 97,105 mi\\u00b2<br>\"], \"type\": \"choropleth\", \"z\": [1, 1, 0, 0, 0, 1, 0, 0, 0, 0, 1, 0, 1, 0, 1, 0, 1, 0, 0, 0, 0, 0, 0, 0, 1, 0, 1, 1, 0, 0, 0, 0, 0, 1, 1, 0, 1, 0, 0, 0, 1, 1, 0, 1, 1, 0, 1, 0, 0, 0, 1]}, {\"colorscale\": [[0.0, \"#0015BC\"], [1.0, \"#DE0100\"]], \"hovertemplate\": \"%{text}<extra></extra>\", \"locationmode\": \"USA-states\", \"locations\": [\"AL\", \"AK\", \"AZ\", \"AR\", \"CA\", \"CO\", \"CT\", \"DE\", \"DC\", \"FL\", \"GA\", \"HI\", \"ID\", \"IL\", \"IN\", \"IA\", \"KS\", \"KY\", \"LA\", \"ME\", \"MD\", \"MA\", \"MI\", \"MN\", \"MS\", \"MO\", \"MT\", \"NE\", \"NV\", \"NH\", \"NJ\", \"NM\", \"NY\", \"NC\", \"ND\", \"OH\", \"OK\", \"OR\", \"PA\", \"RI\", \"SC\", \"SD\", \"TN\", \"TX\", \"UT\", \"VT\", \"VA\", \"WA\", \"WV\", \"WI\", \"WY\"], \"showlegend\": false, \"showscale\": false, \"text\": [\"Alabama<br>Bush, George W.<br>Republican<br>Votes: 941,173 / 1,666,272<br>Population: 4,447,100<br>Density: 87 ppsm<br>Land Area: 50,750 mi\\u00b2<br>\", \"Alaska<br>Bush, George W.<br>Republican<br>Votes: 167,398 / 285,560<br>Population: 626,932<br>Density: 1 ppsm<br>Land Area: 570,641 mi\\u00b2<br>\", \"Arizona<br>Bush, George W.<br>Republican<br>Votes: 781,652 / 1,532,016<br>Population: 5,130,632<br>Density: 45 ppsm<br>Land Area: 113,642 mi\\u00b2<br>\", \"Arkansas<br>Bush, George W.<br>Republican<br>Votes: 472,940 / 921,781<br>Population: 2,673,400<br>Density: 51 ppsm<br>Land Area: 52,075 mi\\u00b2<br>\", \"California<br>Gore, Al<br>Democrat<br>Votes: 5,861,203 / 10,965,822<br>Population: 33,871,648<br>Density: 217 ppsm<br>Land Area: 155,973 mi\\u00b2<br>\", \"Colorado<br>Bush, George W.<br>Republican<br>Votes: 883,748 / 1,741,368<br>Population: 4,301,261<br>Density: 41 ppsm<br>Land Area: 103,730 mi\\u00b2<br>\", \"Connecticut<br>Gore, Al<br>Democrat<br>Votes: 816,015 / 1,459,525<br>Population: 3,405,565<br>Density: 702 ppsm<br>Land Area: 4,845 mi\\u00b2<br>\", \"Delaware<br>Gore, Al<br>Democrat<br>Votes: 180,068 / 327,529<br>Population: 783,600<br>Density: 11,523 ppsm<br>Land Area: 1,955 mi\\u00b2<br>\", \"District of Columbia<br>Gore, Al<br>Democrat<br>Votes: 171,923 / 201,894<br>Population: 572,059<br>Density: 292 ppsm<br>Land Area: 68 mi\\u00b2<br>\", \"Florida<br>Bush, George W.<br>Republican<br>Votes: 2,912,790 / 5,963,110<br>Population: 15,982,378<br>Density: 295 ppsm<br>Land Area: 53,997 mi\\u00b2<br>\", \"Georgia<br>Bush, George W.<br>Republican<br>Votes: 1,419,720 / 2,583,208<br>Population: 8,186,453<br>Density: 141 ppsm<br>Land Area: 57,919 mi\\u00b2<br>\", \"Hawaii<br>Gore, Al<br>Democrat<br>Votes: 205,286 / 367,951<br>Population: 1,211,537<br>Density: 188 ppsm<br>Land Area: 6,423 mi\\u00b2<br>\", \"Idaho<br>Bush, George W.<br>Republican<br>Votes: 336,937 / 501,615<br>Population: 1,293,953<br>Density: 15 ppsm<br>Land Area: 82,751 mi\\u00b2<br>\", \"Illinois<br>Gore, Al<br>Democrat<br>Votes: 2,589,026 / 4,742,108<br>Population: 12,419,293<br>Density: 223 ppsm<br>Land Area: 55,593 mi\\u00b2<br>\", \"Indiana<br>Bush, George W.<br>Republican<br>Votes: 1,245,836 / 2,199,302<br>Population: 6,080,485<br>Density: 169 ppsm<br>Land Area: 35,870 mi\\u00b2<br>\", \"Iowa<br>Gore, Al<br>Democrat<br>Votes: 638,517 / 1,353,022<br>Population: 2,926,324<br>Density: 52 ppsm<br>Land Area: 55,875 mi\\u00b2<br>\", \"Kansas<br>Bush, George W.<br>Republican<br>Votes: 622,332 / 1,072,216<br>Population: 2,688,418<br>Density: 32 ppsm<br>Land Area: 81,823 mi\\u00b2<br>\", \"Kentucky<br>Bush, George W.<br>Republican<br>Votes: 872,520 / 1,544,106<br>Population: 4,041,769<br>Density: 101 ppsm<br>Land Area: 39,732 mi\\u00b2<br>\", \"Louisiana<br>Bush, George W.<br>Republican<br>Votes: 927,871 / 1,765,656<br>Population: 4,468,976<br>Density: 102 ppsm<br>Land Area: 43,566 mi\\u00b2<br>\", \"Maine<br>Gore, Al<br>Democrat<br>Votes: 319,951 / 651,817<br>Population: 1,274,923<br>Density: 41 ppsm<br>Land Area: 30,865 mi\\u00b2<br>\", \"Maryland<br>Gore, Al<br>Democrat<br>Votes: 1,144,008 / 2,025,212<br>Population: 5,296,486<br>Density: 541 ppsm<br>Land Area: 9,775 mi\\u00b2<br>\", \"Massachusetts<br>Gore, Al<br>Democrat<br>Votes: 1,616,487 / 2,733,964<br>Population: 6,349,097<br>Density: 810 ppsm<br>Land Area: 7,838 mi\\u00b2<br>\", \"Michigan<br>Gore, Al<br>Democrat<br>Votes: 2,170,418 / 4,232,501<br>Population: 9,938,444<br>Density: 175 ppsm<br>Land Area: 56,539 mi\\u00b2<br>\", \"Minnesota<br>Gore, Al<br>Democrat<br>Votes: 1,168,266 / 2,438,685<br>Population: 4,919,479<br>Density: 61 ppsm<br>Land Area: 79,617 mi\\u00b2<br>\", \"Mississippi<br>Bush, George W.<br>Republican<br>Votes: 572,844 / 994,184<br>Population: 2,844,658<br>Density: 60 ppsm<br>Land Area: 46,914 mi\\u00b2<br>\", \"Missouri<br>Bush, George W.<br>Republican<br>Votes: 1,189,924 / 2,359,892<br>Population: 5,595,211<br>Density: 81 ppsm<br>Land Area: 68,898 mi\\u00b2<br>\", \"Montana<br>Bush, George W.<br>Republican<br>Votes: 240,178 / 410,986<br>Population: 902,195<br>Density: 6 ppsm<br>Land Area: 145,556 mi\\u00b2<br>\", \"Nebraska<br>Bush, George W.<br>Republican<br>Votes: 433,862 / 697,019<br>Population: 1,711,263<br>Density: 22 ppsm<br>Land Area: 76,878 mi\\u00b2<br>\", \"Nevada<br>Bush, George W.<br>Republican<br>Votes: 301,575 / 609,426<br>Population: 1,998,257<br>Density: 18 ppsm<br>Land Area: 109,806 mi\\u00b2<br>\", \"New Hampshire<br>Bush, George W.<br>Republican<br>Votes: 273,559 / 569,081<br>Population: 1,235,786<br>Density: 137 ppsm<br>Land Area: 8,969 mi\\u00b2<br>\", \"New Jersey<br>Gore, Al<br>Democrat<br>Votes: 1,788,850 / 3,187,226<br>Population: 8,414,350<br>Density: 1,134 ppsm<br>Land Area: 7,419 mi\\u00b2<br>\", \"New Mexico<br>Gore, Al<br>Democrat<br>Votes: 286,783 / 598,605<br>Population: 1,819,046<br>Density: 14 ppsm<br>Land Area: 121,365 mi\\u00b2<br>\", \"New York<br>Gore, Al<br>Democrat<br>Votes: 3,942,215 / 6,960,215<br>Population: 18,976,457<br>Density: 401 ppsm<br>Land Area: 47,224 mi\\u00b2<br>\", \"North Carolina<br>Bush, George W.<br>Republican<br>Votes: 1,631,163 / 2,914,990<br>Population: 8,049,313<br>Density: 165 ppsm<br>Land Area: 48,718 mi\\u00b2<br>\", \"North Dakota<br>Bush, George W.<br>Republican<br>Votes: 174,852 / 288,256<br>Population: 642,200<br>Density: 9 ppsm<br>Land Area: 68,994 mi\\u00b2<br>\", \"Ohio<br>Bush, George W.<br>Republican<br>Votes: 2,350,363 / 4,701,998<br>Population: 11,353,140<br>Density: 277 ppsm<br>Land Area: 40,953 mi\\u00b2<br>\", \"Oklahoma<br>Bush, George W.<br>Republican<br>Votes: 744,337 / 1,234,229<br>Population: 3,450,654<br>Density: 50 ppsm<br>Land Area: 68,679 mi\\u00b2<br>\", \"Oregon<br>Gore, Al<br>Democrat<br>Votes: 720,342 / 1,533,950<br>Population: 3,421,399<br>Density: 35 ppsm<br>Land Area: 96,003 mi\\u00b2<br>\", \"Pennsylvania<br>Gore, Al<br>Democrat<br>Votes: 2,485,967 / 4,912,185<br>Population: 12,281,054<br>Density: 274 ppsm<br>Land Area: 44,820 mi\\u00b2<br>\", \"Rhode Island<br>Gore, Al<br>Democrat<br>Votes: 249,508 / 409,112<br>Population: 1,048,319<br>Density: 1,013 ppsm<br>Land Area: 1,034 mi\\u00b2<br>\", \"South Carolina<br>Bush, George W.<br>Republican<br>Votes: 786,892 / 1,383,902<br>Population: 4,012,012<br>Density: 133 ppsm<br>Land Area: 30,111 mi\\u00b2<br>\", \"South Dakota<br>Bush, George W.<br>Republican<br>Votes: 190,700 / 316,269<br>Population: 754,844<br>Density: 9 ppsm<br>Land Area: 75,898 mi\\u00b2<br>\", \"Tennessee<br>Bush, George W.<br>Republican<br>Votes: 1,061,949 / 2,076,181<br>Population: 5,689,283<br>Density: 138 ppsm<br>Land Area: 41,220 mi\\u00b2<br>\", \"Texas<br>Bush, George W.<br>Republican<br>Votes: 3,799,639 / 6,407,637<br>Population: 20,851,820<br>Density: 79 ppsm<br>Land Area: 261,914 mi\\u00b2<br>\", \"Utah<br>Bush, George W.<br>Republican<br>Votes: 515,096 / 770,754<br>Population: 2,233,169<br>Density: 27 ppsm<br>Land Area: 82,168 mi\\u00b2<br>\", \"Vermont<br>Gore, Al<br>Democrat<br>Votes: 149,022 / 294,308<br>Population: 608,827<br>Density: 65 ppsm<br>Land Area: 9,249 mi\\u00b2<br>\", \"Virginia<br>Bush, George W.<br>Republican<br>Votes: 1,437,490 / 2,739,447<br>Population: 7,078,515<br>Density: 178 ppsm<br>Land Area: 39,598 mi\\u00b2<br>\", \"Washington<br>Gore, Al<br>Democrat<br>Votes: 1,247,652 / 2,487,433<br>Population: 5,894,121<br>Density: 88 ppsm<br>Land Area: 66,582 mi\\u00b2<br>\", \"West Virginia<br>Bush, George W.<br>Republican<br>Votes: 336,475 / 648,124<br>Population: 1,808,344<br>Density: 75 ppsm<br>Land Area: 24,087 mi\\u00b2<br>\", \"Wisconsin<br>Gore, Al<br>Democrat<br>Votes: 1,242,987 / 2,598,607<br>Population: 5,363,675<br>Density: 98 ppsm<br>Land Area: 54,314 mi\\u00b2<br>\", \"Wyoming<br>Bush, George W.<br>Republican<br>Votes: 147,947 / 213,726<br>Population: 493,782<br>Density: 5 ppsm<br>Land Area: 97,105 mi\\u00b2<br>\"], \"type\": \"choropleth\", \"z\": [1, 1, 1, 1, 0, 1, 0, 0, 0, 1, 1, 0, 1, 0, 1, 0, 1, 1, 1, 0, 0, 0, 0, 0, 1, 1, 1, 1, 1, 1, 0, 0, 0, 1, 1, 1, 1, 0, 0, 0, 1, 1, 1, 1, 1, 0, 1, 0, 1, 0, 1]}, {\"colorscale\": [[0.0, \"#0015BC\"], [1.0, \"#DE0100\"]], \"hovertemplate\": \"%{text}<extra></extra>\", \"locationmode\": \"USA-states\", \"locations\": [\"AL\", \"AK\", \"AZ\", \"AR\", \"CA\", \"CO\", \"CT\", \"DE\", \"DC\", \"FL\", \"GA\", \"HI\", \"ID\", \"IL\", \"IN\", \"IA\", \"KS\", \"KY\", \"LA\", \"ME\", \"MD\", \"MA\", \"MI\", \"MN\", \"MS\", \"MO\", \"MT\", \"NE\", \"NV\", \"NH\", \"NJ\", \"NM\", \"NY\", \"NC\", \"ND\", \"OH\", \"OK\", \"OR\", \"PA\", \"RI\", \"SC\", \"SD\", \"TN\", \"TX\", \"UT\", \"VT\", \"VA\", \"WA\", \"WV\", \"WI\", \"WY\"], \"showlegend\": false, \"showscale\": false, \"text\": [\"Alabama<br>Bush, George W.<br>Republican<br>Votes: 1,176,394 / 1,883,415<br>Population: 4,447,100<br>Density: 87 ppsm<br>Land Area: 50,750 mi\\u00b2<br>\", \"Alaska<br>Bush, George W.<br>Republican<br>Votes: 190,889 / 312,598<br>Population: 626,932<br>Density: 1 ppsm<br>Land Area: 570,641 mi\\u00b2<br>\", \"Arizona<br>Bush, George W.<br>Republican<br>Votes: 1,104,294 / 2,012,585<br>Population: 5,130,632<br>Density: 45 ppsm<br>Land Area: 113,642 mi\\u00b2<br>\", \"Arkansas<br>Bush, George W.<br>Republican<br>Votes: 572,898 / 1,054,945<br>Population: 2,673,400<br>Density: 51 ppsm<br>Land Area: 52,075 mi\\u00b2<br>\", \"California<br>Kerry, John<br>Democrat<br>Votes: 6,745,485 / 12,421,353<br>Population: 33,871,648<br>Density: 217 ppsm<br>Land Area: 155,973 mi\\u00b2<br>\", \"Colorado<br>Bush, George W.<br>Republican<br>Votes: 1,101,255 / 2,129,630<br>Population: 4,301,261<br>Density: 41 ppsm<br>Land Area: 103,730 mi\\u00b2<br>\", \"Connecticut<br>Kerry, John<br>Democrat<br>Votes: 857,488 / 1,578,769<br>Population: 3,405,565<br>Density: 702 ppsm<br>Land Area: 4,845 mi\\u00b2<br>\", \"Delaware<br>Kerry, John<br>Democrat<br>Votes: 200,152 / 375,190<br>Population: 783,600<br>Density: 11,523 ppsm<br>Land Area: 1,955 mi\\u00b2<br>\", \"District of Columbia<br>Kerry, John<br>Democrat<br>Votes: 202,970 / 227,586<br>Population: 572,059<br>Density: 292 ppsm<br>Land Area: 68 mi\\u00b2<br>\", \"Florida<br>Bush, George W.<br>Republican<br>Votes: 3,964,522 / 7,609,810<br>Population: 15,982,378<br>Density: 295 ppsm<br>Land Area: 53,997 mi\\u00b2<br>\", \"Georgia<br>Bush, George W.<br>Republican<br>Votes: 1,914,254 / 3,301,875<br>Population: 8,186,453<br>Density: 141 ppsm<br>Land Area: 57,919 mi\\u00b2<br>\", \"Hawaii<br>Kerry, John<br>Democrat<br>Votes: 231,708 / 429,013<br>Population: 1,211,537<br>Density: 188 ppsm<br>Land Area: 6,423 mi\\u00b2<br>\", \"Idaho<br>Bush, George W.<br>Republican<br>Votes: 409,235 / 598,376<br>Population: 1,293,953<br>Density: 15 ppsm<br>Land Area: 82,751 mi\\u00b2<br>\", \"Illinois<br>Kerry, John<br>Democrat<br>Votes: 2,891,550 / 5,274,322<br>Population: 12,419,293<br>Density: 223 ppsm<br>Land Area: 55,593 mi\\u00b2<br>\", \"Indiana<br>Bush, George W.<br>Republican<br>Votes: 1,479,438 / 2,468,002<br>Population: 6,080,485<br>Density: 169 ppsm<br>Land Area: 35,870 mi\\u00b2<br>\", \"Iowa<br>Bush, George W.<br>Republican<br>Votes: 751,957 / 1,506,908<br>Population: 2,926,324<br>Density: 52 ppsm<br>Land Area: 55,875 mi\\u00b2<br>\", \"Kansas<br>Bush, George W.<br>Republican<br>Votes: 736,456 / 1,187,756<br>Population: 2,688,418<br>Density: 32 ppsm<br>Land Area: 81,823 mi\\u00b2<br>\", \"Kentucky<br>Bush, George W.<br>Republican<br>Votes: 1,069,439 / 1,795,882<br>Population: 4,041,769<br>Density: 101 ppsm<br>Land Area: 39,732 mi\\u00b2<br>\", \"Louisiana<br>Bush, George W.<br>Republican<br>Votes: 1,102,169 / 1,943,106<br>Population: 4,468,976<br>Density: 102 ppsm<br>Land Area: 43,566 mi\\u00b2<br>\", \"Maine<br>Kerry, John<br>Democrat<br>Votes: 396,842 / 740,752<br>Population: 1,274,923<br>Density: 41 ppsm<br>Land Area: 30,865 mi\\u00b2<br>\", \"Maryland<br>Kerry, John<br>Democrat<br>Votes: 1,334,493 / 2,384,238<br>Population: 5,296,486<br>Density: 541 ppsm<br>Land Area: 9,775 mi\\u00b2<br>\", \"Massachusetts<br>Kerry, John<br>Democrat<br>Votes: 1,803,800 / 2,927,455<br>Population: 6,349,097<br>Density: 810 ppsm<br>Land Area: 7,838 mi\\u00b2<br>\", \"Michigan<br>Kerry, John<br>Democrat<br>Votes: 2,479,183 / 4,839,252<br>Population: 9,938,444<br>Density: 175 ppsm<br>Land Area: 56,539 mi\\u00b2<br>\", \"Minnesota<br>Kerry, John<br>Democrat<br>Votes: 1,445,014 / 2,828,387<br>Population: 4,919,479<br>Density: 61 ppsm<br>Land Area: 79,617 mi\\u00b2<br>\", \"Mississippi<br>Bush, George W.<br>Republican<br>Votes: 672,660 / 1,139,824<br>Population: 2,844,658<br>Density: 60 ppsm<br>Land Area: 46,914 mi\\u00b2<br>\", \"Missouri<br>Bush, George W.<br>Republican<br>Votes: 1,455,713 / 2,731,364<br>Population: 5,595,211<br>Density: 81 ppsm<br>Land Area: 68,898 mi\\u00b2<br>\", \"Montana<br>Bush, George W.<br>Republican<br>Votes: 266,063 / 450,434<br>Population: 902,195<br>Density: 6 ppsm<br>Land Area: 145,556 mi\\u00b2<br>\", \"Nebraska<br>Bush, George W.<br>Republican<br>Votes: 512,814 / 778,186<br>Population: 1,711,263<br>Density: 22 ppsm<br>Land Area: 76,878 mi\\u00b2<br>\", \"Nevada<br>Bush, George W.<br>Republican<br>Votes: 418,690 / 829,587<br>Population: 1,998,257<br>Density: 18 ppsm<br>Land Area: 109,806 mi\\u00b2<br>\", \"New Hampshire<br>Kerry, John<br>Democrat<br>Votes: 340,511 / 678,287<br>Population: 1,235,786<br>Density: 137 ppsm<br>Land Area: 8,969 mi\\u00b2<br>\", \"New Jersey<br>Kerry, John<br>Democrat<br>Votes: 1,911,430 / 3,611,691<br>Population: 8,414,350<br>Density: 1,134 ppsm<br>Land Area: 7,419 mi\\u00b2<br>\", \"New Mexico<br>Bush, George W.<br>Republican<br>Votes: 376,930 / 756,304<br>Population: 1,819,046<br>Density: 14 ppsm<br>Land Area: 121,365 mi\\u00b2<br>\", \"New York<br>Kerry, John<br>Democrat<br>Votes: 4,180,755 / 7,448,266<br>Population: 18,976,457<br>Density: 401 ppsm<br>Land Area: 47,224 mi\\u00b2<br>\", \"North Carolina<br>Bush, George W.<br>Republican<br>Votes: 1,961,166 / 3,501,007<br>Population: 8,049,313<br>Density: 165 ppsm<br>Land Area: 48,718 mi\\u00b2<br>\", \"North Dakota<br>Bush, George W.<br>Republican<br>Votes: 196,651 / 312,833<br>Population: 642,200<br>Density: 9 ppsm<br>Land Area: 68,994 mi\\u00b2<br>\", \"Ohio<br>Bush, George W.<br>Republican<br>Votes: 2,859,764 / 5,627,903<br>Population: 11,353,140<br>Density: 277 ppsm<br>Land Area: 40,953 mi\\u00b2<br>\", \"Oklahoma<br>Bush, George W.<br>Republican<br>Votes: 959,792 / 1,463,758<br>Population: 3,450,654<br>Density: 50 ppsm<br>Land Area: 68,679 mi\\u00b2<br>\", \"Oregon<br>Kerry, John<br>Democrat<br>Votes: 943,163 / 1,836,782<br>Population: 3,421,399<br>Density: 35 ppsm<br>Land Area: 96,003 mi\\u00b2<br>\", \"Pennsylvania<br>Kerry, John<br>Democrat<br>Votes: 2,938,095 / 5,769,590<br>Population: 12,281,054<br>Density: 274 ppsm<br>Land Area: 44,820 mi\\u00b2<br>\", \"Rhode Island<br>Kerry, John<br>Democrat<br>Votes: 259,760 / 437,134<br>Population: 1,048,319<br>Density: 1,013 ppsm<br>Land Area: 1,034 mi\\u00b2<br>\", \"South Carolina<br>Bush, George W.<br>Republican<br>Votes: 937,974 / 1,617,700<br>Population: 4,012,012<br>Density: 133 ppsm<br>Land Area: 30,111 mi\\u00b2<br>\", \"South Dakota<br>Bush, George W.<br>Republican<br>Votes: 232,584 / 388,215<br>Population: 754,844<br>Density: 9 ppsm<br>Land Area: 75,898 mi\\u00b2<br>\", \"Tennessee<br>Bush, George W.<br>Republican<br>Votes: 1,384,375 / 2,437,319<br>Population: 5,689,283<br>Density: 138 ppsm<br>Land Area: 41,220 mi\\u00b2<br>\", \"Texas<br>Bush, George W.<br>Republican<br>Votes: 4,526,917 / 7,410,749<br>Population: 20,851,820<br>Density: 79 ppsm<br>Land Area: 261,914 mi\\u00b2<br>\", \"Utah<br>Bush, George W.<br>Republican<br>Votes: 663,742 / 927,844<br>Population: 2,233,169<br>Density: 27 ppsm<br>Land Area: 82,168 mi\\u00b2<br>\", \"Vermont<br>Kerry, John<br>Democrat<br>Votes: 184,067 / 312,309<br>Population: 608,827<br>Density: 65 ppsm<br>Land Area: 9,249 mi\\u00b2<br>\", \"Virginia<br>Bush, George W.<br>Republican<br>Votes: 1,716,959 / 3,195,415<br>Population: 7,078,515<br>Density: 178 ppsm<br>Land Area: 39,598 mi\\u00b2<br>\", \"Washington<br>Kerry, John<br>Democrat<br>Votes: 1,510,201 / 2,859,084<br>Population: 5,894,121<br>Density: 88 ppsm<br>Land Area: 66,582 mi\\u00b2<br>\", \"West Virginia<br>Bush, George W.<br>Republican<br>Votes: 423,778 / 755,792<br>Population: 1,808,344<br>Density: 75 ppsm<br>Land Area: 24,087 mi\\u00b2<br>\", \"Wisconsin<br>Kerry, John<br>Democrat<br>Votes: 1,489,504 / 2,997,007<br>Population: 5,363,675<br>Density: 98 ppsm<br>Land Area: 54,314 mi\\u00b2<br>\", \"Wyoming<br>Bush, George W.<br>Republican<br>Votes: 167,629 / 243,861<br>Population: 493,782<br>Density: 5 ppsm<br>Land Area: 97,105 mi\\u00b2<br>\"], \"type\": \"choropleth\", \"z\": [1, 1, 1, 1, 0, 1, 0, 0, 0, 1, 1, 0, 1, 0, 1, 1, 1, 1, 1, 0, 0, 0, 0, 0, 1, 1, 1, 1, 1, 0, 0, 1, 0, 1, 1, 1, 1, 0, 0, 0, 1, 1, 1, 1, 1, 0, 1, 0, 1, 0, 1]}, {\"colorscale\": [[0.0, \"#0015BC\"], [1.0, \"#DE0100\"]], \"hovertemplate\": \"%{text}<extra></extra>\", \"locationmode\": \"USA-states\", \"locations\": [\"AL\", \"AK\", \"AZ\", \"AR\", \"CA\", \"CO\", \"CT\", \"DE\", \"DC\", \"FL\", \"GA\", \"HI\", \"ID\", \"IL\", \"IN\", \"IA\", \"KS\", \"KY\", \"LA\", \"ME\", \"MD\", \"MA\", \"MI\", \"MN\", \"MS\", \"MO\", \"MT\", \"NE\", \"NV\", \"NH\", \"NJ\", \"NM\", \"NY\", \"NC\", \"ND\", \"OH\", \"OK\", \"OR\", \"PA\", \"RI\", \"SC\", \"SD\", \"TN\", \"TX\", \"UT\", \"VT\", \"VA\", \"WA\", \"WV\", \"WI\", \"WY\"], \"showlegend\": false, \"showscale\": false, \"text\": [\"Alabama<br>McCain, John<br>Republican<br>Votes: 1,266,546 / 2,099,819<br>Population: 4,779,735<br>Density: 94 ppsm<br>Land Area: 50,750 mi\\u00b2<br>\", \"Alaska<br>McCain, John<br>Republican<br>Votes: 193,841 / 326,197<br>Population: 710,231<br>Density: 1 ppsm<br>Land Area: 570,641 mi\\u00b2<br>\", \"Arizona<br>McCain, John<br>Republican<br>Votes: 1,230,111 / 2,293,475<br>Population: 6,329,013<br>Density: 55 ppsm<br>Land Area: 113,642 mi\\u00b2<br>\", \"Arkansas<br>McCain, John<br>Republican<br>Votes: 638,017 / 1,086,617<br>Population: 2,915,921<br>Density: 55 ppsm<br>Land Area: 52,075 mi\\u00b2<br>\", \"California<br>Obama, Barack H.<br>Democrat<br>Votes: 8,274,473 / 13,561,900<br>Population: 37,253,956<br>Density: 238 ppsm<br>Land Area: 155,973 mi\\u00b2<br>\", \"Colorado<br>Obama, Barack H.<br>Democrat<br>Votes: 1,288,576 / 2,401,361<br>Population: 5,029,196<br>Density: 48 ppsm<br>Land Area: 103,730 mi\\u00b2<br>\", \"Connecticut<br>Obama, Barack H.<br>Democrat<br>Votes: 997,772 / 1,646,792<br>Population: 3,574,097<br>Density: 737 ppsm<br>Land Area: 4,845 mi\\u00b2<br>\", \"Delaware<br>Obama, Barack H.<br>Democrat<br>Votes: 255,459 / 412,412<br>Population: 897,934<br>Density: 13,204 ppsm<br>Land Area: 1,955 mi\\u00b2<br>\", \"District of Columbia<br>Obama, Barack H.<br>Democrat<br>Votes: 245,800 / 265,853<br>Population: 601,723<br>Density: 307 ppsm<br>Land Area: 68 mi\\u00b2<br>\", \"Florida<br>Obama, Barack H.<br>Democrat<br>Votes: 4,282,074 / 8,390,744<br>Population: 18,801,311<br>Density: 348 ppsm<br>Land Area: 53,997 mi\\u00b2<br>\", \"Georgia<br>McCain, John<br>Republican<br>Votes: 2,048,759 / 3,924,486<br>Population: 9,687,653<br>Density: 167 ppsm<br>Land Area: 57,919 mi\\u00b2<br>\", \"Hawaii<br>Obama, Barack H.<br>Democrat<br>Votes: 325,871 / 456,064<br>Population: 1,360,301<br>Density: 211 ppsm<br>Land Area: 6,423 mi\\u00b2<br>\", \"Idaho<br>McCain, John<br>Republican<br>Votes: 403,012 / 655,122<br>Population: 1,567,582<br>Density: 18 ppsm<br>Land Area: 82,751 mi\\u00b2<br>\", \"Illinois<br>Obama, Barack H.<br>Democrat<br>Votes: 3,419,348 / 5,522,371<br>Population: 12,830,632<br>Density: 230 ppsm<br>Land Area: 55,593 mi\\u00b2<br>\", \"Indiana<br>Obama, Barack H.<br>Democrat<br>Votes: 1,374,039 / 2,751,054<br>Population: 6,483,800<br>Density: 180 ppsm<br>Land Area: 35,870 mi\\u00b2<br>\", \"Iowa<br>Obama, Barack H.<br>Democrat<br>Votes: 828,940 / 1,537,123<br>Population: 3,046,350<br>Density: 54 ppsm<br>Land Area: 55,875 mi\\u00b2<br>\", \"Kansas<br>McCain, John<br>Republican<br>Votes: 699,655 / 1,235,872<br>Population: 2,853,118<br>Density: 34 ppsm<br>Land Area: 81,823 mi\\u00b2<br>\", \"Kentucky<br>McCain, John<br>Republican<br>Votes: 1,048,462 / 1,826,620<br>Population: 4,339,362<br>Density: 109 ppsm<br>Land Area: 39,732 mi\\u00b2<br>\", \"Louisiana<br>McCain, John<br>Republican<br>Votes: 1,148,275 / 1,960,761<br>Population: 4,515,770<br>Density: 103 ppsm<br>Land Area: 43,566 mi\\u00b2<br>\", \"Maine<br>Obama, Barack H.<br>Democrat<br>Votes: 421,923 / 731,163<br>Population: 1,328,361<br>Density: 43 ppsm<br>Land Area: 30,865 mi\\u00b2<br>\", \"Maryland<br>Obama, Barack H.<br>Democrat<br>Votes: 1,629,467 / 2,631,596<br>Population: 5,773,552<br>Density: 590 ppsm<br>Land Area: 9,775 mi\\u00b2<br>\", \"Massachusetts<br>Obama, Barack H.<br>Democrat<br>Votes: 1,904,097 / 3,102,995<br>Population: 6,547,629<br>Density: 835 ppsm<br>Land Area: 7,838 mi\\u00b2<br>\", \"Michigan<br>Obama, Barack H.<br>Democrat<br>Votes: 2,872,579 / 5,001,596<br>Population: 9,883,635<br>Density: 174 ppsm<br>Land Area: 56,539 mi\\u00b2<br>\", \"Minnesota<br>Obama, Barack H.<br>Democrat<br>Votes: 1,573,354 / 2,910,369<br>Population: 5,303,925<br>Density: 66 ppsm<br>Land Area: 79,617 mi\\u00b2<br>\", \"Mississippi<br>McCain, John<br>Republican<br>Votes: 724,597 / 1,289,865<br>Population: 2,967,297<br>Density: 63 ppsm<br>Land Area: 46,914 mi\\u00b2<br>\", \"Missouri<br>McCain, John<br>Republican<br>Votes: 1,445,814 / 2,925,205<br>Population: 5,988,927<br>Density: 86 ppsm<br>Land Area: 68,898 mi\\u00b2<br>\", \"Montana<br>McCain, John<br>Republican<br>Votes: 242,763 / 490,109<br>Population: 989,415<br>Density: 6 ppsm<br>Land Area: 145,556 mi\\u00b2<br>\", \"Nebraska<br>McCain, John<br>Republican<br>Votes: 452,979 / 801,281<br>Population: 1,826,341<br>Density: 23 ppsm<br>Land Area: 76,878 mi\\u00b2<br>\", \"Nevada<br>Obama, Barack H.<br>Democrat<br>Votes: 533,736 / 967,848<br>Population: 2,700,551<br>Density: 24 ppsm<br>Land Area: 109,806 mi\\u00b2<br>\", \"New Hampshire<br>Obama, Barack H.<br>Democrat<br>Votes: 384,826 / 710,970<br>Population: 1,316,472<br>Density: 146 ppsm<br>Land Area: 8,969 mi\\u00b2<br>\", \"New Jersey<br>Obama, Barack H.<br>Democrat<br>Votes: 2,215,422 / 3,868,237<br>Population: 8,791,894<br>Density: 1,185 ppsm<br>Land Area: 7,419 mi\\u00b2<br>\", \"New Mexico<br>Obama, Barack H.<br>Democrat<br>Votes: 472,422 / 830,158<br>Population: 2,059,180<br>Density: 16 ppsm<br>Land Area: 121,365 mi\\u00b2<br>\", \"New York<br>Obama, Barack H.<br>Democrat<br>Votes: 4,645,332 / 7,722,019<br>Population: 19,378,104<br>Density: 410 ppsm<br>Land Area: 47,224 mi\\u00b2<br>\", \"North Carolina<br>Obama, Barack H.<br>Democrat<br>Votes: 2,142,651 / 4,310,851<br>Population: 9,535,475<br>Density: 195 ppsm<br>Land Area: 48,718 mi\\u00b2<br>\", \"North Dakota<br>McCain, John<br>Republican<br>Votes: 168,601 / 316,621<br>Population: 672,591<br>Density: 9 ppsm<br>Land Area: 68,994 mi\\u00b2<br>\", \"Ohio<br>Obama, Barack H.<br>Democrat<br>Votes: 2,940,044 / 5,708,350<br>Population: 11,536,502<br>Density: 281 ppsm<br>Land Area: 40,953 mi\\u00b2<br>\", \"Oklahoma<br>McCain, John<br>Republican<br>Votes: 960,165 / 1,462,661<br>Population: 3,751,354<br>Density: 54 ppsm<br>Land Area: 68,679 mi\\u00b2<br>\", \"Oregon<br>Obama, Barack H.<br>Democrat<br>Votes: 1,037,291 / 1,827,864<br>Population: 3,831,074<br>Density: 39 ppsm<br>Land Area: 96,003 mi\\u00b2<br>\", \"Pennsylvania<br>Obama, Barack H.<br>Democrat<br>Votes: 3,276,363 / 6,013,272<br>Population: 12,702,379<br>Density: 283 ppsm<br>Land Area: 44,820 mi\\u00b2<br>\", \"Rhode Island<br>Obama, Barack H.<br>Democrat<br>Votes: 296,571 / 471,766<br>Population: 1,052,567<br>Density: 1,017 ppsm<br>Land Area: 1,034 mi\\u00b2<br>\", \"South Carolina<br>McCain, John<br>Republican<br>Votes: 1,034,896 / 1,920,969<br>Population: 4,625,364<br>Density: 153 ppsm<br>Land Area: 30,111 mi\\u00b2<br>\", \"South Dakota<br>McCain, John<br>Republican<br>Votes: 203,054 / 381,975<br>Population: 814,180<br>Density: 10 ppsm<br>Land Area: 75,898 mi\\u00b2<br>\", \"Tennessee<br>McCain, John<br>Republican<br>Votes: 1,479,178 / 2,599,749<br>Population: 6,346,110<br>Density: 153 ppsm<br>Land Area: 41,220 mi\\u00b2<br>\", \"Texas<br>McCain, John<br>Republican<br>Votes: 4,479,328 / 8,077,795<br>Population: 25,145,561<br>Density: 96 ppsm<br>Land Area: 261,914 mi\\u00b2<br>\", \"Utah<br>McCain, John<br>Republican<br>Votes: 596,030 / 952,370<br>Population: 2,763,885<br>Density: 33 ppsm<br>Land Area: 82,168 mi\\u00b2<br>\", \"Vermont<br>Obama, Barack H.<br>Democrat<br>Votes: 219,262 / 325,046<br>Population: 625,741<br>Density: 67 ppsm<br>Land Area: 9,249 mi\\u00b2<br>\", \"Virginia<br>Obama, Barack H.<br>Democrat<br>Votes: 1,959,532 / 3,723,260<br>Population: 8,001,024<br>Density: 202 ppsm<br>Land Area: 39,598 mi\\u00b2<br>\", \"Washington<br>Obama, Barack H.<br>Democrat<br>Votes: 1,750,848 / 3,036,878<br>Population: 6,724,540<br>Density: 100 ppsm<br>Land Area: 66,582 mi\\u00b2<br>\", \"West Virginia<br>McCain, John<br>Republican<br>Votes: 397,466 / 713,451<br>Population: 1,852,996<br>Density: 76 ppsm<br>Land Area: 24,087 mi\\u00b2<br>\", \"Wisconsin<br>Obama, Barack H.<br>Democrat<br>Votes: 1,677,211 / 2,983,417<br>Population: 5,686,986<br>Density: 104 ppsm<br>Land Area: 54,314 mi\\u00b2<br>\", \"Wyoming<br>McCain, John<br>Republican<br>Votes: 164,958 / 254,904<br>Population: 563,626<br>Density: 5 ppsm<br>Land Area: 97,105 mi\\u00b2<br>\"], \"type\": \"choropleth\", \"z\": [1, 1, 1, 1, 0, 0, 0, 0, 0, 0, 1, 0, 1, 0, 0, 0, 1, 1, 1, 0, 0, 0, 0, 0, 1, 1, 1, 1, 0, 0, 0, 0, 0, 0, 1, 0, 1, 0, 0, 0, 1, 1, 1, 1, 1, 0, 0, 0, 1, 0, 1]}, {\"colorscale\": [[0.0, \"#0015BC\"], [1.0, \"#DE0100\"]], \"hovertemplate\": \"%{text}<extra></extra>\", \"locationmode\": \"USA-states\", \"locations\": [\"AL\", \"AK\", \"AZ\", \"AR\", \"CA\", \"CO\", \"CT\", \"DE\", \"DC\", \"FL\", \"GA\", \"HI\", \"ID\", \"IL\", \"IN\", \"IA\", \"KS\", \"KY\", \"LA\", \"ME\", \"MD\", \"MA\", \"MI\", \"MN\", \"MS\", \"MO\", \"MT\", \"NE\", \"NV\", \"NH\", \"NJ\", \"NM\", \"NY\", \"NC\", \"ND\", \"OH\", \"OK\", \"OR\", \"PA\", \"RI\", \"SC\", \"SD\", \"TN\", \"TX\", \"UT\", \"VT\", \"VA\", \"WA\", \"WV\", \"WI\", \"WY\"], \"showlegend\": false, \"showscale\": false, \"text\": [\"Alabama<br>Romney, Mitt<br>Republican<br>Votes: 1,255,925 / 2,074,338<br>Population: 4,779,735<br>Density: 94 ppsm<br>Land Area: 50,750 mi\\u00b2<br>\", \"Alaska<br>Romney, Mitt<br>Republican<br>Votes: 164,676 / 300,495<br>Population: 710,231<br>Density: 1 ppsm<br>Land Area: 570,641 mi\\u00b2<br>\", \"Arizona<br>Romney, Mitt<br>Republican<br>Votes: 1,233,654 / 2,299,254<br>Population: 6,329,013<br>Density: 55 ppsm<br>Land Area: 113,642 mi\\u00b2<br>\", \"Arkansas<br>Romney, Mitt<br>Republican<br>Votes: 647,744 / 1,069,468<br>Population: 2,915,921<br>Density: 55 ppsm<br>Land Area: 52,075 mi\\u00b2<br>\", \"California<br>Obama, Barack H.<br>Democrat<br>Votes: 7,854,285 / 13,038,547<br>Population: 37,253,956<br>Density: 238 ppsm<br>Land Area: 155,973 mi\\u00b2<br>\", \"Colorado<br>Obama, Barack H.<br>Democrat<br>Votes: 1,323,101 / 2,569,516<br>Population: 5,029,196<br>Density: 48 ppsm<br>Land Area: 103,730 mi\\u00b2<br>\", \"Connecticut<br>Obama, Barack H.<br>Democrat<br>Votes: 905,083 / 1,558,204<br>Population: 3,574,097<br>Density: 737 ppsm<br>Land Area: 4,845 mi\\u00b2<br>\", \"Delaware<br>Obama, Barack H.<br>Democrat<br>Votes: 242,584 / 413,890<br>Population: 897,934<br>Density: 13,204 ppsm<br>Land Area: 1,955 mi\\u00b2<br>\", \"District of Columbia<br>Obama, Barack H.<br>Democrat<br>Votes: 267,070 / 293,764<br>Population: 601,723<br>Density: 307 ppsm<br>Land Area: 68 mi\\u00b2<br>\", \"Florida<br>Obama, Barack H.<br>Democrat<br>Votes: 4,237,756 / 8,474,179<br>Population: 18,801,311<br>Density: 348 ppsm<br>Land Area: 53,997 mi\\u00b2<br>\", \"Georgia<br>Romney, Mitt<br>Republican<br>Votes: 2,078,688 / 3,897,839<br>Population: 9,687,653<br>Density: 167 ppsm<br>Land Area: 57,919 mi\\u00b2<br>\", \"Hawaii<br>Obama, Barack H.<br>Democrat<br>Votes: 306,658 / 437,159<br>Population: 1,360,301<br>Density: 211 ppsm<br>Land Area: 6,423 mi\\u00b2<br>\", \"Idaho<br>Romney, Mitt<br>Republican<br>Votes: 420,911 / 652,274<br>Population: 1,567,582<br>Density: 18 ppsm<br>Land Area: 82,751 mi\\u00b2<br>\", \"Illinois<br>Obama, Barack H.<br>Democrat<br>Votes: 3,019,512 / 5,242,014<br>Population: 12,830,632<br>Density: 230 ppsm<br>Land Area: 55,593 mi\\u00b2<br>\", \"Indiana<br>Romney, Mitt<br>Republican<br>Votes: 1,420,543 / 2,624,534<br>Population: 6,483,800<br>Density: 180 ppsm<br>Land Area: 35,870 mi\\u00b2<br>\", \"Iowa<br>Obama, Barack H.<br>Democrat<br>Votes: 822,544 / 1,582,180<br>Population: 3,046,350<br>Density: 54 ppsm<br>Land Area: 55,875 mi\\u00b2<br>\", \"Kansas<br>Romney, Mitt<br>Republican<br>Votes: 692,634 / 1,159,971<br>Population: 2,853,118<br>Density: 34 ppsm<br>Land Area: 81,823 mi\\u00b2<br>\", \"Kentucky<br>Romney, Mitt<br>Republican<br>Votes: 1,087,190 / 1,797,212<br>Population: 4,339,362<br>Density: 109 ppsm<br>Land Area: 39,732 mi\\u00b2<br>\", \"Louisiana<br>Romney, Mitt<br>Republican<br>Votes: 1,152,262 / 1,994,065<br>Population: 4,515,770<br>Density: 103 ppsm<br>Land Area: 43,566 mi\\u00b2<br>\", \"Maine<br>Obama, Barack H.<br>Democrat<br>Votes: 401,306 / 724,758<br>Population: 1,328,361<br>Density: 43 ppsm<br>Land Area: 30,865 mi\\u00b2<br>\", \"Maryland<br>Obama, Barack H.<br>Democrat<br>Votes: 1,677,844 / 2,707,327<br>Population: 5,773,552<br>Density: 590 ppsm<br>Land Area: 9,775 mi\\u00b2<br>\", \"Massachusetts<br>Obama, Barack H.<br>Democrat<br>Votes: 1,921,290 / 3,184,196<br>Population: 6,547,629<br>Density: 835 ppsm<br>Land Area: 7,838 mi\\u00b2<br>\", \"Michigan<br>Obama, Barack H.<br>Democrat<br>Votes: 2,564,569 / 4,730,961<br>Population: 9,883,635<br>Density: 174 ppsm<br>Land Area: 56,539 mi\\u00b2<br>\", \"Minnesota<br>Obama, Barack H.<br>Democrat<br>Votes: 1,546,167 / 2,936,561<br>Population: 5,303,925<br>Density: 66 ppsm<br>Land Area: 79,617 mi\\u00b2<br>\", \"Mississippi<br>Romney, Mitt<br>Republican<br>Votes: 710,746 / 1,285,584<br>Population: 2,967,297<br>Density: 63 ppsm<br>Land Area: 46,914 mi\\u00b2<br>\", \"Missouri<br>Romney, Mitt<br>Republican<br>Votes: 1,482,440 / 2,757,323<br>Population: 5,988,927<br>Density: 86 ppsm<br>Land Area: 68,898 mi\\u00b2<br>\", \"Montana<br>Romney, Mitt<br>Republican<br>Votes: 267,928 / 484,048<br>Population: 989,415<br>Density: 6 ppsm<br>Land Area: 145,556 mi\\u00b2<br>\", \"Nebraska<br>Romney, Mitt<br>Republican<br>Votes: 475,064 / 794,379<br>Population: 1,826,341<br>Density: 23 ppsm<br>Land Area: 76,878 mi\\u00b2<br>\", \"Nevada<br>Obama, Barack H.<br>Democrat<br>Votes: 531,373 / 1,014,918<br>Population: 2,700,551<br>Density: 24 ppsm<br>Land Area: 109,806 mi\\u00b2<br>\", \"New Hampshire<br>Obama, Barack H.<br>Democrat<br>Votes: 369,561 / 710,972<br>Population: 1,316,472<br>Density: 146 ppsm<br>Land Area: 8,969 mi\\u00b2<br>\", \"New Jersey<br>Obama, Barack H.<br>Democrat<br>Votes: 2,122,786 / 3,638,499<br>Population: 8,791,894<br>Density: 1,185 ppsm<br>Land Area: 7,419 mi\\u00b2<br>\", \"New Mexico<br>Obama, Barack H.<br>Democrat<br>Votes: 415,335 / 783,758<br>Population: 2,059,180<br>Density: 16 ppsm<br>Land Area: 121,365 mi\\u00b2<br>\", \"New York<br>Obama, Barack H.<br>Democrat<br>Votes: 4,324,228 / 7,116,784<br>Population: 19,378,104<br>Density: 410 ppsm<br>Land Area: 47,224 mi\\u00b2<br>\", \"North Carolina<br>Romney, Mitt<br>Republican<br>Votes: 2,270,395 / 4,505,372<br>Population: 9,535,475<br>Density: 195 ppsm<br>Land Area: 48,718 mi\\u00b2<br>\", \"North Dakota<br>Romney, Mitt<br>Republican<br>Votes: 188,320 / 322,932<br>Population: 672,591<br>Density: 9 ppsm<br>Land Area: 68,994 mi\\u00b2<br>\", \"Ohio<br>Obama, Barack H.<br>Democrat<br>Votes: 2,827,621 / 5,580,822<br>Population: 11,536,502<br>Density: 281 ppsm<br>Land Area: 40,953 mi\\u00b2<br>\", \"Oklahoma<br>Romney, Mitt<br>Republican<br>Votes: 891,325 / 1,334,872<br>Population: 3,751,354<br>Density: 54 ppsm<br>Land Area: 68,679 mi\\u00b2<br>\", \"Oregon<br>Obama, Barack H.<br>Democrat<br>Votes: 970,488 / 1,789,270<br>Population: 3,831,074<br>Density: 39 ppsm<br>Land Area: 96,003 mi\\u00b2<br>\", \"Pennsylvania<br>Obama, Barack H.<br>Democrat<br>Votes: 2,990,274 / 5,742,040<br>Population: 12,702,379<br>Density: 283 ppsm<br>Land Area: 44,820 mi\\u00b2<br>\", \"Rhode Island<br>Obama, Barack H.<br>Democrat<br>Votes: 279,677 / 446,049<br>Population: 1,052,567<br>Density: 1,017 ppsm<br>Land Area: 1,034 mi\\u00b2<br>\", \"South Carolina<br>Romney, Mitt<br>Republican<br>Votes: 1,071,645 / 1,964,118<br>Population: 4,625,364<br>Density: 153 ppsm<br>Land Area: 30,111 mi\\u00b2<br>\", \"South Dakota<br>Romney, Mitt<br>Republican<br>Votes: 210,610 / 363,815<br>Population: 814,180<br>Density: 10 ppsm<br>Land Area: 75,898 mi\\u00b2<br>\", \"Tennessee<br>Romney, Mitt<br>Republican<br>Votes: 1,462,330 / 2,458,577<br>Population: 6,346,110<br>Density: 153 ppsm<br>Land Area: 41,220 mi\\u00b2<br>\", \"Texas<br>Romney, Mitt<br>Republican<br>Votes: 4,569,843 / 7,993,851<br>Population: 25,145,561<br>Density: 96 ppsm<br>Land Area: 261,914 mi\\u00b2<br>\", \"Utah<br>Romney, Mitt<br>Republican<br>Votes: 740,600 / 1,017,440<br>Population: 2,763,885<br>Density: 33 ppsm<br>Land Area: 82,168 mi\\u00b2<br>\", \"Vermont<br>Obama, Barack H.<br>Democrat<br>Votes: 199,239 / 299,290<br>Population: 625,741<br>Density: 67 ppsm<br>Land Area: 9,249 mi\\u00b2<br>\", \"Virginia<br>Obama, Barack H.<br>Democrat<br>Votes: 1,971,820 / 3,854,489<br>Population: 8,001,024<br>Density: 202 ppsm<br>Land Area: 39,598 mi\\u00b2<br>\", \"Washington<br>Obama, Barack H.<br>Democrat<br>Votes: 1,755,396 / 3,125,516<br>Population: 6,724,540<br>Density: 100 ppsm<br>Land Area: 66,582 mi\\u00b2<br>\", \"West Virginia<br>Romney, Mitt<br>Republican<br>Votes: 417,655 / 670,438<br>Population: 1,852,996<br>Density: 76 ppsm<br>Land Area: 24,087 mi\\u00b2<br>\", \"Wisconsin<br>Obama, Barack H.<br>Democrat<br>Votes: 1,620,985 / 3,071,434<br>Population: 5,686,986<br>Density: 104 ppsm<br>Land Area: 54,314 mi\\u00b2<br>\", \"Wyoming<br>Romney, Mitt<br>Republican<br>Votes: 170,962 / 250,701<br>Population: 563,626<br>Density: 5 ppsm<br>Land Area: 97,105 mi\\u00b2<br>\"], \"type\": \"choropleth\", \"z\": [1, 1, 1, 1, 0, 0, 0, 0, 0, 0, 1, 0, 1, 0, 1, 0, 1, 1, 1, 0, 0, 0, 0, 0, 1, 1, 1, 1, 0, 0, 0, 0, 0, 1, 1, 0, 1, 0, 0, 0, 1, 1, 1, 1, 1, 0, 0, 0, 1, 0, 1]}, {\"colorscale\": [[0.0, \"#0015BC\"], [1.0, \"#DE0100\"]], \"hovertemplate\": \"%{text}<extra></extra>\", \"locationmode\": \"USA-states\", \"locations\": [\"AL\", \"AK\", \"AZ\", \"AR\", \"CA\", \"CO\", \"CT\", \"DE\", \"DC\", \"FL\", \"GA\", \"HI\", \"ID\", \"IL\", \"IN\", \"IA\", \"KS\", \"KY\", \"LA\", \"ME\", \"MD\", \"MA\", \"MI\", \"MN\", \"MS\", \"MO\", \"MT\", \"NE\", \"NV\", \"NH\", \"NJ\", \"NM\", \"NY\", \"NC\", \"ND\", \"OH\", \"OK\", \"OR\", \"PA\", \"RI\", \"SC\", \"SD\", \"TN\", \"TX\", \"UT\", \"VT\", \"VA\", \"WA\", \"WV\", \"WI\", \"WY\"], \"showlegend\": false, \"showscale\": false, \"text\": [\"Alabama<br>Trump, Donald J.<br>Republican<br>Votes: 1,318,255 / 2,123,372<br>Population: 4,779,735<br>Density: 94 ppsm<br>Land Area: 50,750 mi\\u00b2<br>\", \"Alaska<br>Trump, Donald J.<br>Republican<br>Votes: 163,387 / 318,608<br>Population: 710,231<br>Density: 1 ppsm<br>Land Area: 570,641 mi\\u00b2<br>\", \"Arizona<br>Trump, Donald J.<br>Republican<br>Votes: 1,252,401 / 2,573,165<br>Population: 6,329,013<br>Density: 55 ppsm<br>Land Area: 113,642 mi\\u00b2<br>\", \"Arkansas<br>Trump, Donald J.<br>Republican<br>Votes: 684,872 / 1,130,635<br>Population: 2,915,921<br>Density: 55 ppsm<br>Land Area: 52,075 mi\\u00b2<br>\", \"California<br>Clinton, Hillary<br>Democrat<br>Votes: 8,753,788 / 14,181,595<br>Population: 37,253,956<br>Density: 238 ppsm<br>Land Area: 155,973 mi\\u00b2<br>\", \"Colorado<br>Clinton, Hillary<br>Democrat<br>Votes: 1,338,870 / 2,780,220<br>Population: 5,029,196<br>Density: 48 ppsm<br>Land Area: 103,730 mi\\u00b2<br>\", \"Connecticut<br>Clinton, Hillary<br>Democrat<br>Votes: 897,572 / 1,644,920<br>Population: 3,574,097<br>Density: 737 ppsm<br>Land Area: 4,845 mi\\u00b2<br>\", \"Delaware<br>Clinton, Hillary<br>Democrat<br>Votes: 235,603 / 441,590<br>Population: 897,934<br>Density: 13,204 ppsm<br>Land Area: 1,955 mi\\u00b2<br>\", \"District of Columbia<br>Clinton, Hillary<br>Democrat<br>Votes: 282,830 / 312,575<br>Population: 601,723<br>Density: 307 ppsm<br>Land Area: 68 mi\\u00b2<br>\", \"Florida<br>Trump, Donald J.<br>Republican<br>Votes: 4,617,886 / 9,420,039<br>Population: 18,801,311<br>Density: 348 ppsm<br>Land Area: 53,997 mi\\u00b2<br>\", \"Georgia<br>Trump, Donald J.<br>Republican<br>Votes: 2,089,104 / 4,114,732<br>Population: 9,687,653<br>Density: 167 ppsm<br>Land Area: 57,919 mi\\u00b2<br>\", \"Hawaii<br>Clinton, Hillary<br>Democrat<br>Votes: 266,891 / 437,664<br>Population: 1,360,301<br>Density: 211 ppsm<br>Land Area: 6,423 mi\\u00b2<br>\", \"Idaho<br>Trump, Donald J.<br>Republican<br>Votes: 409,055 / 690,255<br>Population: 1,567,582<br>Density: 18 ppsm<br>Land Area: 82,751 mi\\u00b2<br>\", \"Illinois<br>Clinton, Hillary<br>Democrat<br>Votes: 3,090,729 / 5,536,424<br>Population: 12,830,632<br>Density: 230 ppsm<br>Land Area: 55,593 mi\\u00b2<br>\", \"Indiana<br>Trump, Donald J.<br>Republican<br>Votes: 1,557,286 / 2,734,958<br>Population: 6,483,800<br>Density: 180 ppsm<br>Land Area: 35,870 mi\\u00b2<br>\", \"Iowa<br>Trump, Donald J.<br>Republican<br>Votes: 800,983 / 1,565,580<br>Population: 3,046,350<br>Density: 54 ppsm<br>Land Area: 55,875 mi\\u00b2<br>\", \"Kansas<br>Trump, Donald J.<br>Republican<br>Votes: 671,018 / 1,184,402<br>Population: 2,853,118<br>Density: 34 ppsm<br>Land Area: 81,823 mi\\u00b2<br>\", \"Kentucky<br>Trump, Donald J.<br>Republican<br>Votes: 1,202,971 / 1,924,149<br>Population: 4,339,362<br>Density: 109 ppsm<br>Land Area: 39,732 mi\\u00b2<br>\", \"Louisiana<br>Trump, Donald J.<br>Republican<br>Votes: 1,178,638 / 2,029,032<br>Population: 4,515,770<br>Density: 103 ppsm<br>Land Area: 43,566 mi\\u00b2<br>\", \"Maine<br>Clinton, Hillary<br>Democrat<br>Votes: 357,735 / 771,892<br>Population: 1,328,361<br>Density: 43 ppsm<br>Land Area: 30,865 mi\\u00b2<br>\", \"Maryland<br>Clinton, Hillary<br>Democrat<br>Votes: 1,677,928 / 2,781,446<br>Population: 5,773,552<br>Density: 590 ppsm<br>Land Area: 9,775 mi\\u00b2<br>\", \"Massachusetts<br>Clinton, Hillary<br>Democrat<br>Votes: 1,995,196 / 3,378,821<br>Population: 6,547,629<br>Density: 835 ppsm<br>Land Area: 7,838 mi\\u00b2<br>\", \"Michigan<br>Trump, Donald J.<br>Republican<br>Votes: 2,279,543 / 4,799,284<br>Population: 9,883,635<br>Density: 174 ppsm<br>Land Area: 56,539 mi\\u00b2<br>\", \"Minnesota<br>Clinton, Hillary<br>Democrat<br>Votes: 1,367,705 / 2,944,782<br>Population: 5,303,925<br>Density: 66 ppsm<br>Land Area: 79,617 mi\\u00b2<br>\", \"Mississippi<br>Trump, Donald J.<br>Republican<br>Votes: 700,714 / 1,209,357<br>Population: 2,967,297<br>Density: 63 ppsm<br>Land Area: 46,914 mi\\u00b2<br>\", \"Missouri<br>Trump, Donald J.<br>Republican<br>Votes: 1,594,511 / 2,808,605<br>Population: 5,988,927<br>Density: 86 ppsm<br>Land Area: 68,898 mi\\u00b2<br>\", \"Montana<br>Trump, Donald J.<br>Republican<br>Votes: 279,240 / 494,526<br>Population: 989,415<br>Density: 6 ppsm<br>Land Area: 145,556 mi\\u00b2<br>\", \"Nebraska<br>Trump, Donald J.<br>Republican<br>Votes: 495,961 / 844,227<br>Population: 1,826,341<br>Density: 23 ppsm<br>Land Area: 76,878 mi\\u00b2<br>\", \"Nevada<br>Clinton, Hillary<br>Democrat<br>Votes: 539,260 / 1,125,385<br>Population: 2,700,551<br>Density: 24 ppsm<br>Land Area: 109,806 mi\\u00b2<br>\", \"New Hampshire<br>Clinton, Hillary<br>Democrat<br>Votes: 348,526 / 744,296<br>Population: 1,316,472<br>Density: 146 ppsm<br>Land Area: 8,969 mi\\u00b2<br>\", \"New Jersey<br>Clinton, Hillary<br>Democrat<br>Votes: 2,148,278 / 3,874,046<br>Population: 8,791,894<br>Density: 1,185 ppsm<br>Land Area: 7,419 mi\\u00b2<br>\", \"New Mexico<br>Clinton, Hillary<br>Democrat<br>Votes: 385,234 / 798,319<br>Population: 2,059,180<br>Density: 16 ppsm<br>Land Area: 121,365 mi\\u00b2<br>\", \"New York<br>Clinton, Hillary<br>Democrat<br>Votes: 4,379,789 / 7,802,084<br>Population: 19,378,104<br>Density: 410 ppsm<br>Land Area: 47,224 mi\\u00b2<br>\", \"North Carolina<br>Trump, Donald J.<br>Republican<br>Votes: 2,362,631 / 4,741,564<br>Population: 9,535,475<br>Density: 195 ppsm<br>Land Area: 48,718 mi\\u00b2<br>\", \"North Dakota<br>Trump, Donald J.<br>Republican<br>Votes: 216,794 / 344,360<br>Population: 672,591<br>Density: 9 ppsm<br>Land Area: 68,994 mi\\u00b2<br>\", \"Ohio<br>Trump, Donald J.<br>Republican<br>Votes: 2,841,005 / 5,496,487<br>Population: 11,536,502<br>Density: 281 ppsm<br>Land Area: 40,953 mi\\u00b2<br>\", \"Oklahoma<br>Trump, Donald J.<br>Republican<br>Votes: 949,136 / 1,452,992<br>Population: 3,751,354<br>Density: 54 ppsm<br>Land Area: 68,679 mi\\u00b2<br>\", \"Oregon<br>Clinton, Hillary<br>Democrat<br>Votes: 1,002,106 / 2,001,336<br>Population: 3,831,074<br>Density: 39 ppsm<br>Land Area: 96,003 mi\\u00b2<br>\", \"Pennsylvania<br>Trump, Donald J.<br>Republican<br>Votes: 2,970,733 / 6,115,402<br>Population: 12,702,379<br>Density: 283 ppsm<br>Land Area: 44,820 mi\\u00b2<br>\", \"Rhode Island<br>Clinton, Hillary<br>Democrat<br>Votes: 252,525 / 464,144<br>Population: 1,052,567<br>Density: 1,017 ppsm<br>Land Area: 1,034 mi\\u00b2<br>\", \"South Carolina<br>Trump, Donald J.<br>Republican<br>Votes: 1,155,389 / 2,103,027<br>Population: 4,625,364<br>Density: 153 ppsm<br>Land Area: 30,111 mi\\u00b2<br>\", \"South Dakota<br>Trump, Donald J.<br>Republican<br>Votes: 227,721 / 370,093<br>Population: 814,180<br>Density: 10 ppsm<br>Land Area: 75,898 mi\\u00b2<br>\", \"Tennessee<br>Trump, Donald J.<br>Republican<br>Votes: 1,522,925 / 2,508,027<br>Population: 6,346,110<br>Density: 153 ppsm<br>Land Area: 41,220 mi\\u00b2<br>\", \"Texas<br>Trump, Donald J.<br>Republican<br>Votes: 4,685,047 / 8,969,226<br>Population: 25,145,561<br>Density: 96 ppsm<br>Land Area: 261,914 mi\\u00b2<br>\", \"Utah<br>Trump, Donald J.<br>Republican<br>Votes: 515,211 / 1,131,317<br>Population: 2,763,885<br>Density: 33 ppsm<br>Land Area: 82,168 mi\\u00b2<br>\", \"Vermont<br>Clinton, Hillary<br>Democrat<br>Votes: 178,573 / 320,467<br>Population: 625,741<br>Density: 67 ppsm<br>Land Area: 9,249 mi\\u00b2<br>\", \"Virginia<br>Clinton, Hillary<br>Democrat<br>Votes: 1,981,473 / 3,982,752<br>Population: 8,001,024<br>Density: 202 ppsm<br>Land Area: 39,598 mi\\u00b2<br>\", \"Washington<br>Clinton, Hillary<br>Democrat<br>Votes: 1,742,718 / 3,317,019<br>Population: 6,724,540<br>Density: 100 ppsm<br>Land Area: 66,582 mi\\u00b2<br>\", \"West Virginia<br>Trump, Donald J.<br>Republican<br>Votes: 489,371 / 713,051<br>Population: 1,852,996<br>Density: 76 ppsm<br>Land Area: 24,087 mi\\u00b2<br>\", \"Wisconsin<br>Trump, Donald J.<br>Republican<br>Votes: 1,405,284 / 2,976,150<br>Population: 5,686,986<br>Density: 104 ppsm<br>Land Area: 54,314 mi\\u00b2<br>\", \"Wyoming<br>Trump, Donald J.<br>Republican<br>Votes: 174,419 / 258,788<br>Population: 563,626<br>Density: 5 ppsm<br>Land Area: 97,105 mi\\u00b2<br>\"], \"type\": \"choropleth\", \"z\": [1, 1, 1, 1, 0, 0, 0, 0, 0, 1, 1, 0, 1, 0, 1, 1, 1, 1, 1, 0, 0, 0, 1, 0, 1, 1, 1, 1, 0, 0, 0, 0, 0, 1, 1, 1, 1, 0, 1, 0, 1, 1, 1, 1, 1, 0, 0, 0, 1, 1, 1]}],                        {\"geo\": {\"projection\": {\"type\": \"albers usa\"}, \"scope\": \"usa\"}, \"sliders\": [{\"active\": 10, \"pad\": {\"t\": 1}, \"steps\": [{\"args\": [\"visible\", [true, false, false, false, false, false, false, false, false, false, false]], \"label\": \"Year 1976\", \"method\": \"restyle\"}, {\"args\": [\"visible\", [false, true, false, false, false, false, false, false, false, false, false]], \"label\": \"Year 1980\", \"method\": \"restyle\"}, {\"args\": [\"visible\", [false, false, true, false, false, false, false, false, false, false, false]], \"label\": \"Year 1984\", \"method\": \"restyle\"}, {\"args\": [\"visible\", [false, false, false, true, false, false, false, false, false, false, false]], \"label\": \"Year 1988\", \"method\": \"restyle\"}, {\"args\": [\"visible\", [false, false, false, false, true, false, false, false, false, false, false]], \"label\": \"Year 1992\", \"method\": \"restyle\"}, {\"args\": [\"visible\", [false, false, false, false, false, true, false, false, false, false, false]], \"label\": \"Year 1996\", \"method\": \"restyle\"}, {\"args\": [\"visible\", [false, false, false, false, false, false, true, false, false, false, false]], \"label\": \"Year 2000\", \"method\": \"restyle\"}, {\"args\": [\"visible\", [false, false, false, false, false, false, false, true, false, false, false]], \"label\": \"Year 2004\", \"method\": \"restyle\"}, {\"args\": [\"visible\", [false, false, false, false, false, false, false, false, true, false, false]], \"label\": \"Year 2008\", \"method\": \"restyle\"}, {\"args\": [\"visible\", [false, false, false, false, false, false, false, false, false, true, false]], \"label\": \"Year 2012\", \"method\": \"restyle\"}, {\"args\": [\"visible\", [false, false, false, false, false, false, false, false, false, false, true]], \"label\": \"Year 2016\", \"method\": \"restyle\"}]}], \"template\": {\"data\": {\"bar\": [{\"error_x\": {\"color\": \"#2a3f5f\"}, \"error_y\": {\"color\": \"#2a3f5f\"}, \"marker\": {\"line\": {\"color\": \"#E5ECF6\", \"width\": 0.5}}, \"type\": \"bar\"}], \"barpolar\": [{\"marker\": {\"line\": {\"color\": \"#E5ECF6\", \"width\": 0.5}}, \"type\": \"barpolar\"}], \"carpet\": [{\"aaxis\": {\"endlinecolor\": \"#2a3f5f\", \"gridcolor\": \"white\", \"linecolor\": \"white\", \"minorgridcolor\": \"white\", \"startlinecolor\": \"#2a3f5f\"}, \"baxis\": {\"endlinecolor\": \"#2a3f5f\", \"gridcolor\": \"white\", \"linecolor\": \"white\", \"minorgridcolor\": \"white\", \"startlinecolor\": \"#2a3f5f\"}, \"type\": \"carpet\"}], \"choropleth\": [{\"colorbar\": {\"outlinewidth\": 0, \"ticks\": \"\"}, \"type\": \"choropleth\"}], \"contour\": [{\"colorbar\": {\"outlinewidth\": 0, \"ticks\": \"\"}, \"colorscale\": [[0.0, \"#0d0887\"], [0.1111111111111111, \"#46039f\"], [0.2222222222222222, \"#7201a8\"], [0.3333333333333333, \"#9c179e\"], [0.4444444444444444, \"#bd3786\"], [0.5555555555555556, \"#d8576b\"], [0.6666666666666666, \"#ed7953\"], [0.7777777777777778, \"#fb9f3a\"], [0.8888888888888888, \"#fdca26\"], [1.0, \"#f0f921\"]], \"type\": \"contour\"}], \"contourcarpet\": [{\"colorbar\": {\"outlinewidth\": 0, \"ticks\": \"\"}, \"type\": \"contourcarpet\"}], \"heatmap\": [{\"colorbar\": {\"outlinewidth\": 0, \"ticks\": \"\"}, \"colorscale\": [[0.0, \"#0d0887\"], [0.1111111111111111, \"#46039f\"], [0.2222222222222222, \"#7201a8\"], [0.3333333333333333, \"#9c179e\"], [0.4444444444444444, \"#bd3786\"], [0.5555555555555556, \"#d8576b\"], [0.6666666666666666, \"#ed7953\"], [0.7777777777777778, \"#fb9f3a\"], [0.8888888888888888, \"#fdca26\"], [1.0, \"#f0f921\"]], \"type\": \"heatmap\"}], \"heatmapgl\": [{\"colorbar\": {\"outlinewidth\": 0, \"ticks\": \"\"}, \"colorscale\": [[0.0, \"#0d0887\"], [0.1111111111111111, \"#46039f\"], [0.2222222222222222, \"#7201a8\"], [0.3333333333333333, \"#9c179e\"], [0.4444444444444444, \"#bd3786\"], [0.5555555555555556, \"#d8576b\"], [0.6666666666666666, \"#ed7953\"], [0.7777777777777778, \"#fb9f3a\"], [0.8888888888888888, \"#fdca26\"], [1.0, \"#f0f921\"]], \"type\": \"heatmapgl\"}], \"histogram\": [{\"marker\": {\"colorbar\": {\"outlinewidth\": 0, \"ticks\": \"\"}}, \"type\": \"histogram\"}], \"histogram2d\": [{\"colorbar\": {\"outlinewidth\": 0, \"ticks\": \"\"}, \"colorscale\": [[0.0, \"#0d0887\"], [0.1111111111111111, \"#46039f\"], [0.2222222222222222, \"#7201a8\"], [0.3333333333333333, \"#9c179e\"], [0.4444444444444444, \"#bd3786\"], [0.5555555555555556, \"#d8576b\"], [0.6666666666666666, \"#ed7953\"], [0.7777777777777778, \"#fb9f3a\"], [0.8888888888888888, \"#fdca26\"], [1.0, \"#f0f921\"]], \"type\": \"histogram2d\"}], \"histogram2dcontour\": [{\"colorbar\": {\"outlinewidth\": 0, \"ticks\": \"\"}, \"colorscale\": [[0.0, \"#0d0887\"], [0.1111111111111111, \"#46039f\"], [0.2222222222222222, \"#7201a8\"], [0.3333333333333333, \"#9c179e\"], [0.4444444444444444, \"#bd3786\"], [0.5555555555555556, \"#d8576b\"], [0.6666666666666666, \"#ed7953\"], [0.7777777777777778, \"#fb9f3a\"], [0.8888888888888888, \"#fdca26\"], [1.0, \"#f0f921\"]], \"type\": \"histogram2dcontour\"}], \"mesh3d\": [{\"colorbar\": {\"outlinewidth\": 0, \"ticks\": \"\"}, \"type\": \"mesh3d\"}], \"parcoords\": [{\"line\": {\"colorbar\": {\"outlinewidth\": 0, \"ticks\": \"\"}}, \"type\": \"parcoords\"}], \"pie\": [{\"automargin\": true, \"type\": \"pie\"}], \"scatter\": [{\"marker\": {\"colorbar\": {\"outlinewidth\": 0, \"ticks\": \"\"}}, \"type\": \"scatter\"}], \"scatter3d\": [{\"line\": {\"colorbar\": {\"outlinewidth\": 0, \"ticks\": \"\"}}, \"marker\": {\"colorbar\": {\"outlinewidth\": 0, \"ticks\": \"\"}}, \"type\": \"scatter3d\"}], \"scattercarpet\": [{\"marker\": {\"colorbar\": {\"outlinewidth\": 0, \"ticks\": \"\"}}, \"type\": \"scattercarpet\"}], \"scattergeo\": [{\"marker\": {\"colorbar\": {\"outlinewidth\": 0, \"ticks\": \"\"}}, \"type\": \"scattergeo\"}], \"scattergl\": [{\"marker\": {\"colorbar\": {\"outlinewidth\": 0, \"ticks\": \"\"}}, \"type\": \"scattergl\"}], \"scattermapbox\": [{\"marker\": {\"colorbar\": {\"outlinewidth\": 0, \"ticks\": \"\"}}, \"type\": \"scattermapbox\"}], \"scatterpolar\": [{\"marker\": {\"colorbar\": {\"outlinewidth\": 0, \"ticks\": \"\"}}, \"type\": \"scatterpolar\"}], \"scatterpolargl\": [{\"marker\": {\"colorbar\": {\"outlinewidth\": 0, \"ticks\": \"\"}}, \"type\": \"scatterpolargl\"}], \"scatterternary\": [{\"marker\": {\"colorbar\": {\"outlinewidth\": 0, \"ticks\": \"\"}}, \"type\": \"scatterternary\"}], \"surface\": [{\"colorbar\": {\"outlinewidth\": 0, \"ticks\": \"\"}, \"colorscale\": [[0.0, \"#0d0887\"], [0.1111111111111111, \"#46039f\"], [0.2222222222222222, \"#7201a8\"], [0.3333333333333333, \"#9c179e\"], [0.4444444444444444, \"#bd3786\"], [0.5555555555555556, \"#d8576b\"], [0.6666666666666666, \"#ed7953\"], [0.7777777777777778, \"#fb9f3a\"], [0.8888888888888888, \"#fdca26\"], [1.0, \"#f0f921\"]], \"type\": \"surface\"}], \"table\": [{\"cells\": {\"fill\": {\"color\": \"#EBF0F8\"}, \"line\": {\"color\": \"white\"}}, \"header\": {\"fill\": {\"color\": \"#C8D4E3\"}, \"line\": {\"color\": \"white\"}}, \"type\": \"table\"}]}, \"layout\": {\"annotationdefaults\": {\"arrowcolor\": \"#2a3f5f\", \"arrowhead\": 0, \"arrowwidth\": 1}, \"coloraxis\": {\"colorbar\": {\"outlinewidth\": 0, \"ticks\": \"\"}}, \"colorscale\": {\"diverging\": [[0, \"#8e0152\"], [0.1, \"#c51b7d\"], [0.2, \"#de77ae\"], [0.3, \"#f1b6da\"], [0.4, \"#fde0ef\"], [0.5, \"#f7f7f7\"], [0.6, \"#e6f5d0\"], [0.7, \"#b8e186\"], [0.8, \"#7fbc41\"], [0.9, \"#4d9221\"], [1, \"#276419\"]], \"sequential\": [[0.0, \"#0d0887\"], [0.1111111111111111, \"#46039f\"], [0.2222222222222222, \"#7201a8\"], [0.3333333333333333, \"#9c179e\"], [0.4444444444444444, \"#bd3786\"], [0.5555555555555556, \"#d8576b\"], [0.6666666666666666, \"#ed7953\"], [0.7777777777777778, \"#fb9f3a\"], [0.8888888888888888, \"#fdca26\"], [1.0, \"#f0f921\"]], \"sequentialminus\": [[0.0, \"#0d0887\"], [0.1111111111111111, \"#46039f\"], [0.2222222222222222, \"#7201a8\"], [0.3333333333333333, \"#9c179e\"], [0.4444444444444444, \"#bd3786\"], [0.5555555555555556, \"#d8576b\"], [0.6666666666666666, \"#ed7953\"], [0.7777777777777778, \"#fb9f3a\"], [0.8888888888888888, \"#fdca26\"], [1.0, \"#f0f921\"]]}, \"colorway\": [\"#636efa\", \"#EF553B\", \"#00cc96\", \"#ab63fa\", \"#FFA15A\", \"#19d3f3\", \"#FF6692\", \"#B6E880\", \"#FF97FF\", \"#FECB52\"], \"font\": {\"color\": \"#2a3f5f\"}, \"geo\": {\"bgcolor\": \"white\", \"lakecolor\": \"white\", \"landcolor\": \"#E5ECF6\", \"showlakes\": true, \"showland\": true, \"subunitcolor\": \"white\"}, \"hoverlabel\": {\"align\": \"left\"}, \"hovermode\": \"closest\", \"mapbox\": {\"style\": \"light\"}, \"paper_bgcolor\": \"white\", \"plot_bgcolor\": \"#E5ECF6\", \"polar\": {\"angularaxis\": {\"gridcolor\": \"white\", \"linecolor\": \"white\", \"ticks\": \"\"}, \"bgcolor\": \"#E5ECF6\", \"radialaxis\": {\"gridcolor\": \"white\", \"linecolor\": \"white\", \"ticks\": \"\"}}, \"scene\": {\"xaxis\": {\"backgroundcolor\": \"#E5ECF6\", \"gridcolor\": \"white\", \"gridwidth\": 2, \"linecolor\": \"white\", \"showbackground\": true, \"ticks\": \"\", \"zerolinecolor\": \"white\"}, \"yaxis\": {\"backgroundcolor\": \"#E5ECF6\", \"gridcolor\": \"white\", \"gridwidth\": 2, \"linecolor\": \"white\", \"showbackground\": true, \"ticks\": \"\", \"zerolinecolor\": \"white\"}, \"zaxis\": {\"backgroundcolor\": \"#E5ECF6\", \"gridcolor\": \"white\", \"gridwidth\": 2, \"linecolor\": \"white\", \"showbackground\": true, \"ticks\": \"\", \"zerolinecolor\": \"white\"}}, \"shapedefaults\": {\"line\": {\"color\": \"#2a3f5f\"}}, \"ternary\": {\"aaxis\": {\"gridcolor\": \"white\", \"linecolor\": \"white\", \"ticks\": \"\"}, \"baxis\": {\"gridcolor\": \"white\", \"linecolor\": \"white\", \"ticks\": \"\"}, \"bgcolor\": \"#E5ECF6\", \"caxis\": {\"gridcolor\": \"white\", \"linecolor\": \"white\", \"ticks\": \"\"}}, \"title\": {\"x\": 0.05}, \"xaxis\": {\"automargin\": true, \"gridcolor\": \"white\", \"linecolor\": \"white\", \"ticks\": \"\", \"title\": {\"standoff\": 15}, \"zerolinecolor\": \"white\", \"zerolinewidth\": 2}, \"yaxis\": {\"automargin\": true, \"gridcolor\": \"white\", \"linecolor\": \"white\", \"ticks\": \"\", \"title\": {\"standoff\": 15}, \"zerolinecolor\": \"white\", \"zerolinewidth\": 2}}}, \"title\": {\"text\": \"US Popular Vote Election Map 1976-2016\", \"x\": 0.5}},                        {\"responsive\": true}                    ).then(function(){\n                            \nvar gd = document.getElementById('a10715b1-b6c1-4b0d-af6a-bd38b1d687d1');\nvar x = new MutationObserver(function (mutations, observer) {{\n        var display = window.getComputedStyle(gd).display;\n        if (!display || display === 'none') {{\n            console.log([gd, 'removed!']);\n            Plotly.purge(gd);\n            observer.disconnect();\n        }}\n}});\n\n// Listen for the removal of the full notebook cells\nvar notebookContainer = gd.closest('#notebook-container');\nif (notebookContainer) {{\n    x.observe(notebookContainer, {childList: true});\n}}\n\n// Listen for the clearing of the current output cell\nvar outputEl = gd.closest('.output');\nif (outputEl) {{\n    x.observe(outputEl, {childList: true});\n}}\n\n                        })                };                });            </script>        </div>"
     },
     "metadata": {}
    },
    {
     "output_type": "execute_result",
     "data": {
      "text/plain": "'plots/html_plots/US Popular Vote Election Map 1976-2016.html'"
     },
     "metadata": {},
     "execution_count": 1
    }
   ],
   "source": [
    "import pandas as pd\n",
    "import numpy as np\n",
    "\n",
    "import matplotlib.pyplot as plt\n",
    "import plotly.graph_objects as go\n",
    "from matplotlib.widgets import Slider, Button, RadioButtons\n",
    "import matplotlib.gridspec as gridspec\n",
    "import cartopy.crs as ccrs\n",
    "import cartopy.io.shapereader as shpreader\n",
    "import plotly.offline as offline\n",
    "\n",
    "############################################\n",
    "%matplotlib widget\n",
    "\n",
    "from matplotlib.widgets import Slider, Button, RadioButtons\n",
    "import plotly as plotly\n",
    "from plotly.graph_objs import *\n",
    "from plotly.offline import download_plotlyjs, init_notebook_mode, plot, iplot\n",
    "\n",
    "import heapq\n",
    "from collections import OrderedDict\n",
    "\n",
    "init_notebook_mode(connected=True)\n",
    "\n",
    "# class for storing election info for states in each year\n",
    "class election_info:\n",
    "    total_votes = 0\n",
    "    \n",
    "    # winner info\n",
    "    winner_name = ''\n",
    "    winner_votes = 0\n",
    "    winner_party = ''\n",
    "    \n",
    "    # runnerup/loser info\n",
    "    runnerup_name = ''\n",
    "    runnerup_votes = 0\n",
    "    runnerup_party = ''\n",
    "    \n",
    "    # state info\n",
    "    state_density = 0\n",
    "    state_population = 0\n",
    "    state_area = 0\n",
    "    \n",
    "    def __init__(self, winner_name, winner_votes, winner_party, total_votes, runnerup_name, runnerup_votes, runnerup_party, state_density, state_population, state_area):\n",
    "        self.winner_name = winner_name\n",
    "        self.winner_votes = winner_votes\n",
    "        self.winner_party = winner_party\n",
    "        self.total_votes = total_votes\n",
    "        self.runnerup_name = runnerup_name\n",
    "        self.runnerup_votes = runnerup_votes\n",
    "        self.runnerup_party = runnerup_party\n",
    "        self.state_density = state_density\n",
    "        self.state_population = state_population\n",
    "        self.state_area = state_area\n",
    "\n",
    "\n",
    "# read in election data\n",
    "my_file = pd.read_csv('data/1976-2016-president.csv', encoding = 'unicode_escape')\n",
    "\n",
    "# read in states and state abbreviations \n",
    "states_df = pd.read_csv('data/states.csv')\n",
    "states_df = states_df.sort_values(by=['State'])\n",
    "\n",
    "# set election year, make states lists\n",
    "election_years = [1976, 1980, 1984, 1988, 1992, 1996, 2000, 2004, 2008, 2012, 2016]\n",
    "states = list(states_df['State'])\n",
    "state_codes = list(states_df['Abbreviation'])\n",
    "\n",
    "# read in population, density, and area data\n",
    "# note: area is land area\n",
    "areas_df = pd.read_csv('data/areas.csv', encoding = 'unicode_escape')\n",
    "densities_df = pd.read_csv('data/densities.csv', encoding = 'unicode_escape')\n",
    "populations_df = pd.read_csv('data/populations.csv', encoding = 'unicode_escape')\n",
    "\n",
    "# dict for storing years as key and then dict of states as vals\n",
    "slides = {}\n",
    "slides = dict((year,None) for year in election_years)\n",
    "\n",
    "# since our population and density data is only every 10 years, function to return right time frame\n",
    "def get_year(x):\n",
    "    if(x < 1976):\n",
    "        return 1970\n",
    "    elif(x < 1986):\n",
    "        return 1980\n",
    "    elif(x < 1996):\n",
    "        return 1990\n",
    "    elif(x < 2006):\n",
    "        return 2000\n",
    "    else:\n",
    "        return 2010\n",
    "\n",
    "# Read in data\n",
    "\n",
    "# go through each election year \n",
    "for year in election_years:\n",
    "    \n",
    "    # create state dict for that year (key=states, val=election_info class)\n",
    "    slides[year] = OrderedDict((s,None) for s in states)\n",
    "    \n",
    "    # get all data for that year from dfs\n",
    "    year_info = my_file.loc[my_file['year'] == year]\n",
    "    for state in states:\n",
    "        state_info = year_info.loc[year_info['state'] == state]\n",
    "        \n",
    "        state_winner = state_info[state_info['candidatevotes']==state_info['candidatevotes'].max()]\n",
    "        state_runnerup = state_info[state_info['candidatevotes']==heapq.nlargest(2, state_info['candidatevotes'])[1]]\n",
    "        \n",
    "        total_votes = int(state_winner['totalvotes'].values[0])\n",
    "        \n",
    "        winner_name = str(state_winner['candidate'].values[0])\n",
    "        winner_votes = int(state_winner['candidatevotes'].values[0])\n",
    "        winner_party = str(state_winner['party'].values[0])\n",
    "        if(winner_party == 'democratic-farmer-labor'): winner_party ='democrat'\n",
    "        \n",
    "        runnerup_name = str(state_runnerup['candidate'].values[0])\n",
    "        runnerup_votes = int(state_runnerup['candidatevotes'].values[0])\n",
    "        runnerup_party = str(state_runnerup['party'].values[0])\n",
    "        if(runnerup_party == 'democratic-farmer-labor'): runnerup_party ='democrat'\n",
    "        \n",
    "        \n",
    "        state_area = int(areas_df.loc[areas_df['State'] == state].values[0][1].replace(',', ''))\n",
    "        state_population = populations_df.loc[populations_df['State'] == state][str(get_year(int(year)))].values[0]\n",
    "        state_density = densities_df.loc[densities_df['State'] == state][str(get_year(int(year)))].values[0]\n",
    "        \n",
    "        \n",
    "        slides[year][state] = election_info(winner_name, winner_votes, winner_party, total_votes, runnerup_name, runnerup_votes, runnerup_party, state_density, state_population, state_area)   \n",
    "\n",
    "#####################################################################\n",
    "        \n",
    "# get total population, total densities, total area for each election year - may or may not be used later\n",
    "state_population_totals = dict((year,None) for year in election_years)\n",
    "state_density_totals = dict((year,None) for year in election_years)\n",
    "state_area_totals = dict((year,None) for year in election_years)\n",
    "for year, states in slides.items(): \n",
    "    pop_tot = 0\n",
    "    area_tot = 0\n",
    "    density_tot = 0\n",
    "    for state, info in states.items():\n",
    "        pop_tot+=info.state_population\n",
    "        density_tot+=info.state_density\n",
    "        area_tot+=info.state_area\n",
    "\n",
    "    state_population_totals[year]=pop_tot\n",
    "    state_density_totals[year]=density_tot\n",
    "    state_area_totals[year]=area_tot\n",
    "\n",
    "\n",
    "#####################################################################\n",
    "\n",
    "# Plot the US election popular vote slider from 1976-2016\n",
    "data_slider = []\n",
    "\n",
    "scl_cus = [[0.0, '#0015BC'],[1.0, '#DE0100']]\n",
    "\n",
    "for key, val in slides.items():  \n",
    "      \n",
    "   \n",
    "    data_one_year = dict(\n",
    "                        type='choropleth',\n",
    "                        locations = state_codes,\n",
    "                        z = [0 if x.winner_party == 'democrat' else 1 for x in val.values()],\n",
    "                        locationmode='USA-states',\n",
    " \n",
    "                        colorscale = scl_cus,\n",
    "                        text =  [ str(str(y) + '<br>' + str(x.winner_name)+ '<br>' + str(x.winner_party).title() + '<br>' + 'Votes: ' + str(\"{:,}\".format(x.winner_votes)) + \" / \" + str(\"{:,}\".format(x.total_votes)) + '<br>Population: ' + str(\"{:,}\".format(x.state_population)) + '<br>Density: ' + str(\"{:,} ppsm\".format(x.state_density)) + '<br>Land Area: ' + str(\"{:,} mi²\".format(x.state_area)) + '<br>')  for y,x in val.items()],\n",
    "                        \n",
    "                        showlegend = False,\n",
    "                        showscale = False,\n",
    "\n",
    "                        hovertemplate='%{text}<extra></extra>'\n",
    "                        )\n",
    "    data_slider.append(data_one_year)\n",
    "\n",
    "\n",
    "\n",
    "steps = []\n",
    "\n",
    "for i in range(len(data_slider)):\n",
    "    step = dict(method='restyle',\n",
    "                args=['visible', [False] * len(data_slider)],\n",
    "                label='Year {}'.format(i*4 + 1976)) # label to be displayed for each step (year)\n",
    "    step['args'][1][i] = True\n",
    "    steps.append(step)\n",
    "\n",
    "\n",
    "sliders = [dict(active=10, pad={\"t\": 1}, steps=steps)]  \n",
    "\n",
    "\n",
    "\n",
    "layout = dict(title = 'US Popular Vote Election Map 1976-2016',title_x=0.5, geo=dict(scope='usa',\n",
    "                       projection={'type': 'albers usa'}),\n",
    "              sliders=sliders)\n",
    "fig = dict(data=data_slider, layout=layout) \n",
    "\n",
    "\n",
    "# Make plots directory if doesn't exist\n",
    "import os\n",
    "if not os.path.exists(\"plots\"):\n",
    "    os.mkdir(\"plots\")\n",
    "if not os.path.exists(\"plots/html_plots\"):\n",
    "    os.mkdir(\"plots/html_plots\")\n",
    "    \n",
    "plotly.offline.iplot(fig)\n",
    "offline.plot(fig, auto_open=True, filename='plots/html_plots/US Popular Vote Election Map 1976-2016.html', validate=True)\n",
    ""
   ]
  },
  {
   "cell_type": "markdown",
   "metadata": {},
   "source": [
    "## Plot Vote Difference Between Winner and Runnerup and Vote Distribution"
   ]
  },
  {
   "cell_type": "code",
   "execution_count": 2,
   "metadata": {},
   "outputs": [
    {
     "output_type": "display_data",
     "data": {
      "text/plain": "Canvas(toolbar=Toolbar(toolitems=[('Home', 'Reset original view', 'home', 'home'), ('Back', 'Back to previous …",
      "application/vnd.jupyter.widget-view+json": {
       "version_major": 2,
       "version_minor": 0,
       "model_id": "c789b60c75e14dff90d1f1307813101b"
      }
     },
     "metadata": {}
    },
    {
     "output_type": "display_data",
     "data": {
      "text/plain": "Canvas(toolbar=Toolbar(toolitems=[('Home', 'Reset original view', 'home', 'home'), ('Back', 'Back to previous …",
      "application/vnd.jupyter.widget-view+json": {
       "version_major": 2,
       "version_minor": 0,
       "model_id": "a9c9057ded1a495abbed586aadd0982b"
      }
     },
     "metadata": {}
    }
   ],
   "source": [
    "import numpy as np\n",
    "import matplotlib.pyplot as plt\n",
    "from mpl_toolkits.mplot3d import Axes3D\n",
    "import ipywidgets as widgets\n",
    "from IPython.display import display\n",
    "import seaborn as sns\n",
    "import matplotlib.pyplot as plt\n",
    "\n",
    "# winners for each election year\n",
    "winners = {\n",
    "    1976:\"democrat\",\n",
    "    1980:\"republican\",\n",
    "    1984:\"republican\",\n",
    "    1988:\"republican\",\n",
    "    1992:\"democrat\",\n",
    "    1996:\"democrat\",\n",
    "    2000:\"republican\",\n",
    "    2004:\"republican\",\n",
    "    2008:\"democrat\",\n",
    "    2012:\"democrat\",\n",
    "    2016:\"republican\" \n",
    "}\n",
    "\n",
    "# Count up total votes for election winner(via checking dem/rep), runnerup total, other votes total, and total votes\n",
    "winner_totals = {}\n",
    "runnerup_totals = {}\n",
    "other_totals = {}\n",
    "total_votes = {}\n",
    "for YEAR, STATES in slides.items():\n",
    "    winner_total = 0\n",
    "    runnerup_total = 0\n",
    "    other_total = 0\n",
    "    tvc = 0\n",
    "    for state, election_info in STATES.items():\n",
    "        if(winners[YEAR] == \"democrat\" and election_info.winner_party == \"democrat\"):\n",
    "            winner_total += election_info.winner_votes\n",
    "            runnerup_total +=election_info.runnerup_votes\n",
    "        elif(winners[YEAR] == \"republican\" and election_info.winner_party == \"republican\"):\n",
    "            winner_total += election_info.winner_votes\n",
    "            runnerup_total +=election_info.runnerup_votes\n",
    "        else:\n",
    "            winner_total +=election_info.runnerup_votes\n",
    "            runnerup_total += election_info.winner_votes\n",
    "            \n",
    "        other_total += election_info.total_votes - election_info.winner_votes - election_info.runnerup_votes\n",
    "        tvc+=election_info.total_votes\n",
    "        \n",
    "    winner_totals[YEAR]=winner_total\n",
    "    runnerup_totals[YEAR] = runnerup_total\n",
    "    other_totals[YEAR] = other_total\n",
    "    total_votes[YEAR] = tvc\n",
    "    \n",
    "\n",
    "# plot 1 - Plot vote difference between winner and runnerup for each election year\n",
    "fig = plt.figure(1)\n",
    "\n",
    "axdf = pd.DataFrame()\n",
    "axdf['diff'] = [winner_totals[i] - runnerup_totals[i] for i in election_years]\n",
    "ax = sns.lineplot(data=axdf,color='b')\n",
    "ax.set_xticks(range(len(axdf)))\n",
    "ax.set_xticklabels(election_years)\n",
    "legend = ax.legend()\n",
    "legend.texts[0].set_text(\"Difference\")\n",
    "ax.set(xlabel='Year', ylabel='Difference')\n",
    "ax.axhline(0, ls='--', color='r')\n",
    "plt.title(\"Vote Difference Between Winner and Runnerup\")\n",
    "\n",
    "\n",
    "import matplotlib.ticker as ticker\n",
    "ax.yaxis.set_major_formatter(ticker.FuncFormatter(lambda x, pos: '%1.1fM' % (x * 1e-6)))\n",
    "\n",
    "plt.tight_layout()\n",
    "plt.plot(1)\n",
    "plt.savefig('plots/Vote Difference Between Winner and Runnerup From 1976-2016.png')\n",
    "plt.show()\n",
    "\n",
    "\n",
    "\n",
    "# plot 2 - Plot percentage distribution of votes for each election year\n",
    "fig = plt.figure(2)\n",
    "\n",
    "# Create subplots\n",
    "ax1 = fig.add_subplot(341)\n",
    "ax2 = fig.add_subplot(342)\n",
    "ax3 = fig.add_subplot(343)\n",
    "ax4 = fig.add_subplot(344)\n",
    "ax5 = fig.add_subplot(345)\n",
    "ax6 = fig.add_subplot(346)\n",
    "ax7 = fig.add_subplot(347)\n",
    "ax8 = fig.add_subplot(348)\n",
    "ax9 = fig.add_subplot(349)\n",
    "ax10 = fig.add_subplot(3,4,10)\n",
    "ax11 = fig.add_subplot(3,4,11)\n",
    "ax12 = fig.add_subplot(3,4,12)\n",
    "\n",
    "\n",
    "labels = 'Winner', 'Runnerup', 'Other'\n",
    "colors = 'tab:blue', 'tab:orange', 'tab:green'\n",
    "\n",
    "\n",
    "sizes = [winner_totals[election_years[0]], runnerup_totals[election_years[0]], other_totals[election_years[0]]]\n",
    "ax1.pie(sizes, labels=labels, autopct='%1.1f%%',\n",
    "        shadow=True, startangle=90, textprops={'fontsize': 6}, colors=colors)\n",
    "ax1.set_title(election_years[0])\n",
    "\n",
    "\n",
    "sizes = [winner_totals[election_years[1]], runnerup_totals[election_years[1]], other_totals[election_years[1]]]\n",
    "ax2.pie(sizes, labels=labels, autopct='%1.1f%%',\n",
    "        shadow=True, startangle=90, textprops={'fontsize': 6}, colors=colors)\n",
    "ax2.set_title(election_years[1])\n",
    "\n",
    "sizes = [winner_totals[election_years[2]], runnerup_totals[election_years[2]], other_totals[election_years[2]]]\n",
    "ax3.pie(sizes, labels=labels, autopct='%1.1f%%',\n",
    "        shadow=True, startangle=90, textprops={'fontsize': 6}, colors=colors)\n",
    "ax3.set_title(election_years[2])\n",
    "\n",
    "# set ax4 as legend, no a plot\n",
    "handles, labels = ax1.get_legend_handles_labels()\n",
    "ax4.axis('off')\n",
    "ax4.legend(handles, labels,\n",
    "          title=\"Votes\",\n",
    "         loc=\"lower right\",\n",
    "          bbox_to_anchor=(.5, 0, 0.5, .5))\n",
    "\n",
    "sizes = [winner_totals[election_years[3]], runnerup_totals[election_years[3]], other_totals[election_years[3]]]\n",
    "ax5.pie(sizes, labels=labels, autopct='%1.1f%%',\n",
    "         shadow=True, startangle=90, textprops={'fontsize': 6}, colors=colors)\n",
    "ax5.set_title(election_years[3])\n",
    "\n",
    "sizes = [winner_totals[election_years[4]], runnerup_totals[election_years[4]], other_totals[election_years[4]]]\n",
    "ax6.pie(sizes, labels=labels, autopct='%1.1f%%',\n",
    "        shadow=True, startangle=90, textprops={'fontsize': 6}, colors=colors)\n",
    "ax6.set_title(election_years[4])\n",
    "\n",
    "sizes = [winner_totals[election_years[5]], runnerup_totals[election_years[5]], other_totals[election_years[5]]]\n",
    "ax7.pie(sizes, labels=labels, autopct='%1.1f%%',\n",
    "        shadow=True, startangle=90, textprops={'fontsize': 6}, colors=colors)\n",
    "ax7.set_title(election_years[5])\n",
    "\n",
    "sizes = [winner_totals[election_years[6]], runnerup_totals[election_years[6]], other_totals[election_years[6]]]\n",
    "ax8.pie(sizes, labels=labels, autopct='%1.1f%%',\n",
    "        shadow=True, startangle=90, textprops={'fontsize': 6}, colors=colors)\n",
    "ax8.set_title(election_years[6])\n",
    "\n",
    "sizes = [winner_totals[election_years[7]], runnerup_totals[election_years[7]], other_totals[election_years[7]]]\n",
    "ax9.pie(sizes, labels=labels, autopct='%1.1f%%',\n",
    "        shadow=True, startangle=90, textprops={'fontsize': 6}, colors=colors)\n",
    "ax9.set_title(election_years[7])\n",
    "\n",
    "sizes = [winner_totals[election_years[8]], runnerup_totals[election_years[8]], other_totals[election_years[8]]]\n",
    "ax10.pie(sizes, labels=labels, autopct='%1.1f%%',\n",
    "        shadow=True, startangle=90, textprops={'fontsize': 6}, colors=colors)\n",
    "ax10.set_title(election_years[8])\n",
    "\n",
    "sizes = [winner_totals[election_years[9]], runnerup_totals[election_years[9]], other_totals[election_years[9]]]\n",
    "ax11.pie(sizes, labels=labels, autopct='%1.1f%%',\n",
    "        shadow=True, startangle=90, textprops={'fontsize': 6}, colors=colors)\n",
    "ax11.set_title(election_years[9])\n",
    "\n",
    "sizes = [winner_totals[election_years[10]], runnerup_totals[election_years[10]], other_totals[election_years[10]]]\n",
    "ax12.pie(sizes, labels=labels, autopct='%1.1f%%',\n",
    "        shadow=True, startangle=90, textprops={'fontsize': 6}, colors=colors)\n",
    "ax12.set_title(election_years[10])\n",
    "\n",
    "\n",
    "\n",
    "fig.suptitle('Vote Distribution From 1976-2016', fontsize=16)\n",
    "\n",
    "plt.tight_layout()\n",
    "plt.plot(2)\n",
    "plt.savefig('plots/Vote Distribution From 1976-2016.png')\n",
    "plt.show()"
   ]
  },
  {
   "cell_type": "markdown",
   "metadata": {},
   "source": [
    "## Plot Total Votes, Winner Votes, and Runnerup Votes Over The Years"
   ]
  },
  {
   "cell_type": "code",
   "execution_count": 3,
   "metadata": {},
   "outputs": [
    {
     "output_type": "display_data",
     "data": {
      "text/plain": "Canvas(toolbar=Toolbar(toolitems=[('Home', 'Reset original view', 'home', 'home'), ('Back', 'Back to previous …",
      "application/vnd.jupyter.widget-view+json": {
       "version_major": 2,
       "version_minor": 0,
       "model_id": "18560b52ac264091b0c9f111df594b48"
      }
     },
     "metadata": {}
    },
    {
     "output_type": "display_data",
     "data": {
      "text/plain": "Canvas(toolbar=Toolbar(toolitems=[('Home', 'Reset original view', 'home', 'home'), ('Back', 'Back to previous …",
      "application/vnd.jupyter.widget-view+json": {
       "version_major": 2,
       "version_minor": 0,
       "model_id": "f9bad48aa323417c8d08a73dffa47e28"
      }
     },
     "metadata": {}
    },
    {
     "output_type": "display_data",
     "data": {
      "text/plain": "Canvas(toolbar=Toolbar(toolitems=[('Home', 'Reset original view', 'home', 'home'), ('Back', 'Back to previous …",
      "application/vnd.jupyter.widget-view+json": {
       "version_major": 2,
       "version_minor": 0,
       "model_id": "81ffa5133b204b61866fad8c96666758"
      }
     },
     "metadata": {}
    }
   ],
   "source": [
    "\n",
    "# plot 3 - Total Votes over the years\n",
    "fig = plt.figure(3)\n",
    "\n",
    "axdf = pd.DataFrame()\n",
    "axdf['Year'] = total_votes.keys()\n",
    "axdf['Total Votes'] = total_votes.values()\n",
    "ax = sns.barplot(data=axdf, x='Year', y='Total Votes', color='#f77f00')\n",
    "plt.title(\"Total Votes From 1976-2016\")\n",
    "import matplotlib.ticker as ticker\n",
    "ax.yaxis.set_major_formatter(ticker.FuncFormatter(lambda x, pos: '%1.1fM' % (x * 1e-6)))\n",
    "plt.plot(3)\n",
    "plt.savefig('plots/Total Votes From 1976-2016.png')\n",
    "plt.show()\n",
    "\n",
    "# plot 4 - Total Winner votes over the years\n",
    "fig = plt.figure(4)\n",
    "\n",
    "axdf = pd.DataFrame()\n",
    "axdf['Year'] = winner_totals.keys()\n",
    "axdf['Winner Votes'] = winner_totals.values()\n",
    "ax = sns.barplot(data=axdf, x='Year', y='Winner Votes', color='#f77f00')\n",
    "plt.title(\"Winner's Votes From 1976-2016\")\n",
    "ax.yaxis.set_major_formatter(ticker.FuncFormatter(lambda x, pos: '%1.1fM' % (x * 1e-6)))\n",
    "plt.plot(4)\n",
    "plt.savefig('plots/Winner\\'s Votes From 1976-2016.png')\n",
    "plt.show()\n",
    "\n",
    "# plot 5 - total runnerup votes over the years\n",
    "fig = plt.figure(5)\n",
    "\n",
    "axdf = pd.DataFrame()\n",
    "axdf['Year'] = runnerup_totals.keys()\n",
    "axdf['Runnerup Votes'] = runnerup_totals.values()\n",
    "ax = sns.barplot(data=axdf, x='Year', y='Runnerup Votes', color='#f77f00')\n",
    "plt.title(\"Runnerup's Votes From 1976-2016\")\n",
    "ax.yaxis.set_major_formatter(ticker.FuncFormatter(lambda x, pos: '%1.1fM' % (x * 1e-6)))\n",
    "plt.plot(5)\n",
    "plt.savefig('plots/Runnerup\\'s Votes From 1976-2016.png')\n",
    "plt.show()\n",
    ""
   ]
  },
  {
   "cell_type": "markdown",
   "metadata": {},
   "source": [
    "## Plot State Leanings Based on Total Votes"
   ]
  },
  {
   "cell_type": "code",
   "execution_count": 4,
   "metadata": {},
   "outputs": [
    {
     "output_type": "display_data",
     "data": {
      "application/vnd.plotly.v1+json": {
       "config": {
        "linkText": "Export to plot.ly",
        "plotlyServerURL": "https://plot.ly",
        "showLink": false
       },
       "data": [
        {
         "colorscale": [
          [
           0,
           "#0015BC"
          ],
          [
           1,
           "#DE0100"
          ]
         ],
         "hovertemplate": "%{text}<extra></extra>",
         "locationmode": "USA-states",
         "locations": [
          "AL",
          "AK",
          "AZ",
          "AR",
          "CA",
          "CO",
          "CT",
          "DE",
          "DC",
          "FL",
          "GA",
          "HI",
          "ID",
          "IL",
          "IN",
          "IA",
          "KS",
          "KY",
          "LA",
          "ME",
          "MD",
          "MA",
          "MI",
          "MN",
          "MS",
          "MO",
          "MT",
          "NE",
          "NV",
          "NH",
          "NJ",
          "NM",
          "NY",
          "NC",
          "ND",
          "OH",
          "OK",
          "OR",
          "PA",
          "RI",
          "SC",
          "SD",
          "TN",
          "TX",
          "UT",
          "VT",
          "VA",
          "WA",
          "WV",
          "WI",
          "WY"
         ],
         "showlegend": false,
         "showscale": false,
         "text": [
          "Alabama<br>Republican Lean <br>Rep: 10,378,307 votes<br>Dem: 7,474,816 votes",
          "Alaska<br>Republican Lean <br>Rep: 1,520,232 votes<br>Dem: 931,882 votes",
          "Arizona<br>Republican Lean <br>Rep: 9,128,558 votes<br>Dem: 7,326,637 votes",
          "Arkansas<br>Republican Lean <br>Rep: 5,351,630 votes<br>Dem: 4,655,456 votes",
          "California<br>Democratic Lean <br>Dem: 63,180,373 votes<br>Rep: 50,798,923 votes",
          "Colorado<br>Republican Lean <br>Rep: 9,487,553 votes<br>Dem: 8,896,577 votes",
          "Connecticut<br>Democratic Lean <br>Dem: 8,327,796 votes<br>Rep: 7,291,466 votes",
          "Delaware<br>Democratic Lean <br>Dem: 1,818,793 votes<br>Rep: 1,526,169 votes",
          "District of Columbia<br>Democratic Lean <br>Dem: 2,129,296 votes<br>Rep: 236,622 votes",
          "Florida<br>Republican Lean <br>Rep: 32,987,832 votes<br>Dem: 30,300,162 votes",
          "Georgia<br>Republican Lean <br>Rep: 14,914,584 votes<br>Dem: 13,332,891 votes",
          "Hawaii<br>Democratic Lean <br>Dem: 2,343,508 votes<br>Rep: 1,567,019 votes",
          "Idaho<br>Republican Lean <br>Rep: 3,484,644 votes<br>Dem: 1,753,706 votes",
          "Illinois<br>Democratic Lean <br>Dem: 28,360,406 votes<br>Rep: 23,739,254 votes",
          "Indiana<br>Republican Lean <br>Rep: 14,159,426 votes<br>Dem: 10,727,922 votes",
          "Iowa<br>Democratic Lean <br>Dem: 7,296,959 votes<br>Rep: 7,155,177 votes",
          "Kansas<br>Republican Lean <br>Rep: 6,756,200 votes<br>Dem: 4,507,214 votes",
          "Kentucky<br>Republican Lean <br>Rep: 9,244,152 votes<br>Dem: 7,066,624 votes",
          "Louisiana<br>Republican Lean <br>Rep: 10,256,487 votes<br>Dem: 8,467,599 votes",
          "Maine<br>Democratic Lean <br>Dem: 3,385,302 votes<br>Rep: 3,051,630 votes",
          "Maryland<br>Democratic Lean <br>Dem: 12,518,530 votes<br>Rep: 9,211,406 votes",
          "Massachusetts<br>Democratic Lean <br>Dem: 17,255,316 votes<br>Rep: 11,454,247 votes",
          "Michigan<br>Democratic Lean <br>Dem: 22,780,090 votes<br>Rep: 21,772,499 votes",
          "Minnesota<br>Democratic Lean <br>Dem: 13,412,331 votes<br>Rep: 11,576,776 votes",
          "Mississippi<br>Republican Lean <br>Rep: 6,257,394 votes<br>Dem: 4,786,125 votes",
          "Missouri<br>Republican Lean <br>Rep: 13,230,342 votes<br>Dem: 11,966,663 votes",
          "Montana<br>Republican Lean <br>Rep: 2,423,410 votes<br>Dem: 1,827,449 votes",
          "Nebraska<br>Republican Lean <br>Rep: 4,714,268 votes<br>Dem: 2,706,445 votes",
          "Nevada<br>Republican Lean <br>Rep: 3,134,889 votes<br>Dem: 3,058,197 votes",
          "New Hampshire<br>Republican Lean <br>Rep: 2,952,235 votes<br>Dem: 2,705,530 votes",
          "New Jersey<br>Democratic Lean <br>Dem: 18,449,025 votes<br>Rep: 16,840,435 votes",
          "New Mexico<br>Democratic Lean <br>Dem: 3,281,068 votes<br>Rep: 3,150,849 votes",
          "New York<br>Democratic Lean <br>Dem: 40,698,152 votes<br>Rep: 27,693,375 votes",
          "North Carolina<br>Republican Lean <br>Rep: 16,955,145 votes<br>Dem: 15,033,244 votes",
          "North Dakota<br>Republican Lean <br>Rep: 1,920,786 votes<br>Dem: 1,219,846 votes",
          "Ohio<br>Republican Lean <br>Rep: 26,446,831 votes<br>Dem: 24,747,228 votes",
          "Oklahoma<br>Republican Lean <br>Rep: 8,461,174 votes<br>Dem: 5,108,802 votes",
          "Oregon<br>Democratic Lean <br>Dem: 8,044,327 votes<br>Rep: 7,178,360 votes",
          "Pennsylvania<br>Democratic Lean <br>Dem: 27,761,415 votes<br>Rep: 26,326,922 votes",
          "Rhode Island<br>Democratic Lean <br>Dem: 2,632,597 votes<br>Rep: 1,764,906 votes",
          "South Carolina<br>Republican Lean <br>Rep: 8,145,050 votes<br>Dem: 6,437,175 votes",
          "South Dakota<br>Republican Lean <br>Rep: 2,067,460 votes<br>Dem: 1,478,286 votes",
          "Tennessee<br>Republican Lean <br>Rep: 11,974,762 votes<br>Dem: 9,780,143 votes",
          "Texas<br>Republican Lean <br>Rep: 38,227,274 votes<br>Dem: 28,988,063 votes",
          "Utah<br>Republican Lean <br>Rep: 5,390,364 votes<br>Dem: 2,428,530 votes",
          "Vermont<br>Democratic Lean <br>Dem: 1,572,904 votes<br>Rep: 1,151,681 votes",
          "Virginia<br>Republican Lean <br>Rep: 15,232,689 votes<br>Dem: 13,936,686 votes",
          "Washington<br>Democratic Lean <br>Dem: 13,222,559 votes<br>Rep: 11,325,818 votes",
          "West Virginia<br>Republican Lean <br>Rep: 3,905,145 votes<br>Dem: 3,484,238 votes",
          "Wisconsin<br>Democratic Lean <br>Dem: 13,670,610 votes<br>Rep: 12,909,841 votes",
          "Wyoming<br>Republican Lean <br>Rep: 1,454,175 votes<br>Dem: 717,627 votes"
         ],
         "type": "choropleth",
         "z": [
          1,
          1,
          1,
          1,
          0,
          1,
          0,
          0,
          0,
          1,
          1,
          0,
          1,
          0,
          1,
          0,
          1,
          1,
          1,
          0,
          0,
          0,
          0,
          0,
          1,
          1,
          1,
          1,
          1,
          1,
          0,
          0,
          0,
          1,
          1,
          1,
          1,
          0,
          0,
          0,
          1,
          1,
          1,
          1,
          1,
          0,
          1,
          0,
          1,
          0,
          1
         ]
        }
       ],
       "layout": {
        "geo": {
         "projection": {
          "type": "albers usa"
         },
         "scope": "usa"
        },
        "template": {
         "data": {
          "bar": [
           {
            "error_x": {
             "color": "#2a3f5f"
            },
            "error_y": {
             "color": "#2a3f5f"
            },
            "marker": {
             "line": {
              "color": "#E5ECF6",
              "width": 0.5
             }
            },
            "type": "bar"
           }
          ],
          "barpolar": [
           {
            "marker": {
             "line": {
              "color": "#E5ECF6",
              "width": 0.5
             }
            },
            "type": "barpolar"
           }
          ],
          "carpet": [
           {
            "aaxis": {
             "endlinecolor": "#2a3f5f",
             "gridcolor": "white",
             "linecolor": "white",
             "minorgridcolor": "white",
             "startlinecolor": "#2a3f5f"
            },
            "baxis": {
             "endlinecolor": "#2a3f5f",
             "gridcolor": "white",
             "linecolor": "white",
             "minorgridcolor": "white",
             "startlinecolor": "#2a3f5f"
            },
            "type": "carpet"
           }
          ],
          "choropleth": [
           {
            "colorbar": {
             "outlinewidth": 0,
             "ticks": ""
            },
            "type": "choropleth"
           }
          ],
          "contour": [
           {
            "colorbar": {
             "outlinewidth": 0,
             "ticks": ""
            },
            "colorscale": [
             [
              0,
              "#0d0887"
             ],
             [
              0.1111111111111111,
              "#46039f"
             ],
             [
              0.2222222222222222,
              "#7201a8"
             ],
             [
              0.3333333333333333,
              "#9c179e"
             ],
             [
              0.4444444444444444,
              "#bd3786"
             ],
             [
              0.5555555555555556,
              "#d8576b"
             ],
             [
              0.6666666666666666,
              "#ed7953"
             ],
             [
              0.7777777777777778,
              "#fb9f3a"
             ],
             [
              0.8888888888888888,
              "#fdca26"
             ],
             [
              1,
              "#f0f921"
             ]
            ],
            "type": "contour"
           }
          ],
          "contourcarpet": [
           {
            "colorbar": {
             "outlinewidth": 0,
             "ticks": ""
            },
            "type": "contourcarpet"
           }
          ],
          "heatmap": [
           {
            "colorbar": {
             "outlinewidth": 0,
             "ticks": ""
            },
            "colorscale": [
             [
              0,
              "#0d0887"
             ],
             [
              0.1111111111111111,
              "#46039f"
             ],
             [
              0.2222222222222222,
              "#7201a8"
             ],
             [
              0.3333333333333333,
              "#9c179e"
             ],
             [
              0.4444444444444444,
              "#bd3786"
             ],
             [
              0.5555555555555556,
              "#d8576b"
             ],
             [
              0.6666666666666666,
              "#ed7953"
             ],
             [
              0.7777777777777778,
              "#fb9f3a"
             ],
             [
              0.8888888888888888,
              "#fdca26"
             ],
             [
              1,
              "#f0f921"
             ]
            ],
            "type": "heatmap"
           }
          ],
          "heatmapgl": [
           {
            "colorbar": {
             "outlinewidth": 0,
             "ticks": ""
            },
            "colorscale": [
             [
              0,
              "#0d0887"
             ],
             [
              0.1111111111111111,
              "#46039f"
             ],
             [
              0.2222222222222222,
              "#7201a8"
             ],
             [
              0.3333333333333333,
              "#9c179e"
             ],
             [
              0.4444444444444444,
              "#bd3786"
             ],
             [
              0.5555555555555556,
              "#d8576b"
             ],
             [
              0.6666666666666666,
              "#ed7953"
             ],
             [
              0.7777777777777778,
              "#fb9f3a"
             ],
             [
              0.8888888888888888,
              "#fdca26"
             ],
             [
              1,
              "#f0f921"
             ]
            ],
            "type": "heatmapgl"
           }
          ],
          "histogram": [
           {
            "marker": {
             "colorbar": {
              "outlinewidth": 0,
              "ticks": ""
             }
            },
            "type": "histogram"
           }
          ],
          "histogram2d": [
           {
            "colorbar": {
             "outlinewidth": 0,
             "ticks": ""
            },
            "colorscale": [
             [
              0,
              "#0d0887"
             ],
             [
              0.1111111111111111,
              "#46039f"
             ],
             [
              0.2222222222222222,
              "#7201a8"
             ],
             [
              0.3333333333333333,
              "#9c179e"
             ],
             [
              0.4444444444444444,
              "#bd3786"
             ],
             [
              0.5555555555555556,
              "#d8576b"
             ],
             [
              0.6666666666666666,
              "#ed7953"
             ],
             [
              0.7777777777777778,
              "#fb9f3a"
             ],
             [
              0.8888888888888888,
              "#fdca26"
             ],
             [
              1,
              "#f0f921"
             ]
            ],
            "type": "histogram2d"
           }
          ],
          "histogram2dcontour": [
           {
            "colorbar": {
             "outlinewidth": 0,
             "ticks": ""
            },
            "colorscale": [
             [
              0,
              "#0d0887"
             ],
             [
              0.1111111111111111,
              "#46039f"
             ],
             [
              0.2222222222222222,
              "#7201a8"
             ],
             [
              0.3333333333333333,
              "#9c179e"
             ],
             [
              0.4444444444444444,
              "#bd3786"
             ],
             [
              0.5555555555555556,
              "#d8576b"
             ],
             [
              0.6666666666666666,
              "#ed7953"
             ],
             [
              0.7777777777777778,
              "#fb9f3a"
             ],
             [
              0.8888888888888888,
              "#fdca26"
             ],
             [
              1,
              "#f0f921"
             ]
            ],
            "type": "histogram2dcontour"
           }
          ],
          "mesh3d": [
           {
            "colorbar": {
             "outlinewidth": 0,
             "ticks": ""
            },
            "type": "mesh3d"
           }
          ],
          "parcoords": [
           {
            "line": {
             "colorbar": {
              "outlinewidth": 0,
              "ticks": ""
             }
            },
            "type": "parcoords"
           }
          ],
          "pie": [
           {
            "automargin": true,
            "type": "pie"
           }
          ],
          "scatter": [
           {
            "marker": {
             "colorbar": {
              "outlinewidth": 0,
              "ticks": ""
             }
            },
            "type": "scatter"
           }
          ],
          "scatter3d": [
           {
            "line": {
             "colorbar": {
              "outlinewidth": 0,
              "ticks": ""
             }
            },
            "marker": {
             "colorbar": {
              "outlinewidth": 0,
              "ticks": ""
             }
            },
            "type": "scatter3d"
           }
          ],
          "scattercarpet": [
           {
            "marker": {
             "colorbar": {
              "outlinewidth": 0,
              "ticks": ""
             }
            },
            "type": "scattercarpet"
           }
          ],
          "scattergeo": [
           {
            "marker": {
             "colorbar": {
              "outlinewidth": 0,
              "ticks": ""
             }
            },
            "type": "scattergeo"
           }
          ],
          "scattergl": [
           {
            "marker": {
             "colorbar": {
              "outlinewidth": 0,
              "ticks": ""
             }
            },
            "type": "scattergl"
           }
          ],
          "scattermapbox": [
           {
            "marker": {
             "colorbar": {
              "outlinewidth": 0,
              "ticks": ""
             }
            },
            "type": "scattermapbox"
           }
          ],
          "scatterpolar": [
           {
            "marker": {
             "colorbar": {
              "outlinewidth": 0,
              "ticks": ""
             }
            },
            "type": "scatterpolar"
           }
          ],
          "scatterpolargl": [
           {
            "marker": {
             "colorbar": {
              "outlinewidth": 0,
              "ticks": ""
             }
            },
            "type": "scatterpolargl"
           }
          ],
          "scatterternary": [
           {
            "marker": {
             "colorbar": {
              "outlinewidth": 0,
              "ticks": ""
             }
            },
            "type": "scatterternary"
           }
          ],
          "surface": [
           {
            "colorbar": {
             "outlinewidth": 0,
             "ticks": ""
            },
            "colorscale": [
             [
              0,
              "#0d0887"
             ],
             [
              0.1111111111111111,
              "#46039f"
             ],
             [
              0.2222222222222222,
              "#7201a8"
             ],
             [
              0.3333333333333333,
              "#9c179e"
             ],
             [
              0.4444444444444444,
              "#bd3786"
             ],
             [
              0.5555555555555556,
              "#d8576b"
             ],
             [
              0.6666666666666666,
              "#ed7953"
             ],
             [
              0.7777777777777778,
              "#fb9f3a"
             ],
             [
              0.8888888888888888,
              "#fdca26"
             ],
             [
              1,
              "#f0f921"
             ]
            ],
            "type": "surface"
           }
          ],
          "table": [
           {
            "cells": {
             "fill": {
              "color": "#EBF0F8"
             },
             "line": {
              "color": "white"
             }
            },
            "header": {
             "fill": {
              "color": "#C8D4E3"
             },
             "line": {
              "color": "white"
             }
            },
            "type": "table"
           }
          ]
         },
         "layout": {
          "annotationdefaults": {
           "arrowcolor": "#2a3f5f",
           "arrowhead": 0,
           "arrowwidth": 1
          },
          "coloraxis": {
           "colorbar": {
            "outlinewidth": 0,
            "ticks": ""
           }
          },
          "colorscale": {
           "diverging": [
            [
             0,
             "#8e0152"
            ],
            [
             0.1,
             "#c51b7d"
            ],
            [
             0.2,
             "#de77ae"
            ],
            [
             0.3,
             "#f1b6da"
            ],
            [
             0.4,
             "#fde0ef"
            ],
            [
             0.5,
             "#f7f7f7"
            ],
            [
             0.6,
             "#e6f5d0"
            ],
            [
             0.7,
             "#b8e186"
            ],
            [
             0.8,
             "#7fbc41"
            ],
            [
             0.9,
             "#4d9221"
            ],
            [
             1,
             "#276419"
            ]
           ],
           "sequential": [
            [
             0,
             "#0d0887"
            ],
            [
             0.1111111111111111,
             "#46039f"
            ],
            [
             0.2222222222222222,
             "#7201a8"
            ],
            [
             0.3333333333333333,
             "#9c179e"
            ],
            [
             0.4444444444444444,
             "#bd3786"
            ],
            [
             0.5555555555555556,
             "#d8576b"
            ],
            [
             0.6666666666666666,
             "#ed7953"
            ],
            [
             0.7777777777777778,
             "#fb9f3a"
            ],
            [
             0.8888888888888888,
             "#fdca26"
            ],
            [
             1,
             "#f0f921"
            ]
           ],
           "sequentialminus": [
            [
             0,
             "#0d0887"
            ],
            [
             0.1111111111111111,
             "#46039f"
            ],
            [
             0.2222222222222222,
             "#7201a8"
            ],
            [
             0.3333333333333333,
             "#9c179e"
            ],
            [
             0.4444444444444444,
             "#bd3786"
            ],
            [
             0.5555555555555556,
             "#d8576b"
            ],
            [
             0.6666666666666666,
             "#ed7953"
            ],
            [
             0.7777777777777778,
             "#fb9f3a"
            ],
            [
             0.8888888888888888,
             "#fdca26"
            ],
            [
             1,
             "#f0f921"
            ]
           ]
          },
          "colorway": [
           "#636efa",
           "#EF553B",
           "#00cc96",
           "#ab63fa",
           "#FFA15A",
           "#19d3f3",
           "#FF6692",
           "#B6E880",
           "#FF97FF",
           "#FECB52"
          ],
          "font": {
           "color": "#2a3f5f"
          },
          "geo": {
           "bgcolor": "white",
           "lakecolor": "white",
           "landcolor": "#E5ECF6",
           "showlakes": true,
           "showland": true,
           "subunitcolor": "white"
          },
          "hoverlabel": {
           "align": "left"
          },
          "hovermode": "closest",
          "mapbox": {
           "style": "light"
          },
          "paper_bgcolor": "white",
          "plot_bgcolor": "#E5ECF6",
          "polar": {
           "angularaxis": {
            "gridcolor": "white",
            "linecolor": "white",
            "ticks": ""
           },
           "bgcolor": "#E5ECF6",
           "radialaxis": {
            "gridcolor": "white",
            "linecolor": "white",
            "ticks": ""
           }
          },
          "scene": {
           "xaxis": {
            "backgroundcolor": "#E5ECF6",
            "gridcolor": "white",
            "gridwidth": 2,
            "linecolor": "white",
            "showbackground": true,
            "ticks": "",
            "zerolinecolor": "white"
           },
           "yaxis": {
            "backgroundcolor": "#E5ECF6",
            "gridcolor": "white",
            "gridwidth": 2,
            "linecolor": "white",
            "showbackground": true,
            "ticks": "",
            "zerolinecolor": "white"
           },
           "zaxis": {
            "backgroundcolor": "#E5ECF6",
            "gridcolor": "white",
            "gridwidth": 2,
            "linecolor": "white",
            "showbackground": true,
            "ticks": "",
            "zerolinecolor": "white"
           }
          },
          "shapedefaults": {
           "line": {
            "color": "#2a3f5f"
           }
          },
          "ternary": {
           "aaxis": {
            "gridcolor": "white",
            "linecolor": "white",
            "ticks": ""
           },
           "baxis": {
            "gridcolor": "white",
            "linecolor": "white",
            "ticks": ""
           },
           "bgcolor": "#E5ECF6",
           "caxis": {
            "gridcolor": "white",
            "linecolor": "white",
            "ticks": ""
           }
          },
          "title": {
           "x": 0.05
          },
          "xaxis": {
           "automargin": true,
           "gridcolor": "white",
           "linecolor": "white",
           "ticks": "",
           "title": {
            "standoff": 15
           },
           "zerolinecolor": "white",
           "zerolinewidth": 2
          },
          "yaxis": {
           "automargin": true,
           "gridcolor": "white",
           "linecolor": "white",
           "ticks": "",
           "title": {
            "standoff": 15
           },
           "zerolinecolor": "white",
           "zerolinewidth": 2
          }
         }
        },
        "title": {
         "text": "State Leanings(Comparing Total Votes) 1976-2016",
         "x": 0.5
        }
       }
      },
      "text/html": "<div>                            <div id=\"472ac3ea-9e73-4f00-8185-00535977979b\" class=\"plotly-graph-div\" style=\"height:525px; width:100%;\"></div>            <script type=\"text/javascript\">                require([\"plotly\"], function(Plotly) {                    window.PLOTLYENV=window.PLOTLYENV || {};                                    if (document.getElementById(\"472ac3ea-9e73-4f00-8185-00535977979b\")) {                    Plotly.newPlot(                        \"472ac3ea-9e73-4f00-8185-00535977979b\",                        [{\"colorscale\": [[0.0, \"#0015BC\"], [1.0, \"#DE0100\"]], \"hovertemplate\": \"%{text}<extra></extra>\", \"locationmode\": \"USA-states\", \"locations\": [\"AL\", \"AK\", \"AZ\", \"AR\", \"CA\", \"CO\", \"CT\", \"DE\", \"DC\", \"FL\", \"GA\", \"HI\", \"ID\", \"IL\", \"IN\", \"IA\", \"KS\", \"KY\", \"LA\", \"ME\", \"MD\", \"MA\", \"MI\", \"MN\", \"MS\", \"MO\", \"MT\", \"NE\", \"NV\", \"NH\", \"NJ\", \"NM\", \"NY\", \"NC\", \"ND\", \"OH\", \"OK\", \"OR\", \"PA\", \"RI\", \"SC\", \"SD\", \"TN\", \"TX\", \"UT\", \"VT\", \"VA\", \"WA\", \"WV\", \"WI\", \"WY\"], \"showlegend\": false, \"showscale\": false, \"text\": [\"Alabama<br>Republican Lean <br>Rep: 10,378,307 votes<br>Dem: 7,474,816 votes\", \"Alaska<br>Republican Lean <br>Rep: 1,520,232 votes<br>Dem: 931,882 votes\", \"Arizona<br>Republican Lean <br>Rep: 9,128,558 votes<br>Dem: 7,326,637 votes\", \"Arkansas<br>Republican Lean <br>Rep: 5,351,630 votes<br>Dem: 4,655,456 votes\", \"California<br>Democratic Lean <br>Dem: 63,180,373 votes<br>Rep: 50,798,923 votes\", \"Colorado<br>Republican Lean <br>Rep: 9,487,553 votes<br>Dem: 8,896,577 votes\", \"Connecticut<br>Democratic Lean <br>Dem: 8,327,796 votes<br>Rep: 7,291,466 votes\", \"Delaware<br>Democratic Lean <br>Dem: 1,818,793 votes<br>Rep: 1,526,169 votes\", \"District of Columbia<br>Democratic Lean <br>Dem: 2,129,296 votes<br>Rep: 236,622 votes\", \"Florida<br>Republican Lean <br>Rep: 32,987,832 votes<br>Dem: 30,300,162 votes\", \"Georgia<br>Republican Lean <br>Rep: 14,914,584 votes<br>Dem: 13,332,891 votes\", \"Hawaii<br>Democratic Lean <br>Dem: 2,343,508 votes<br>Rep: 1,567,019 votes\", \"Idaho<br>Republican Lean <br>Rep: 3,484,644 votes<br>Dem: 1,753,706 votes\", \"Illinois<br>Democratic Lean <br>Dem: 28,360,406 votes<br>Rep: 23,739,254 votes\", \"Indiana<br>Republican Lean <br>Rep: 14,159,426 votes<br>Dem: 10,727,922 votes\", \"Iowa<br>Democratic Lean <br>Dem: 7,296,959 votes<br>Rep: 7,155,177 votes\", \"Kansas<br>Republican Lean <br>Rep: 6,756,200 votes<br>Dem: 4,507,214 votes\", \"Kentucky<br>Republican Lean <br>Rep: 9,244,152 votes<br>Dem: 7,066,624 votes\", \"Louisiana<br>Republican Lean <br>Rep: 10,256,487 votes<br>Dem: 8,467,599 votes\", \"Maine<br>Democratic Lean <br>Dem: 3,385,302 votes<br>Rep: 3,051,630 votes\", \"Maryland<br>Democratic Lean <br>Dem: 12,518,530 votes<br>Rep: 9,211,406 votes\", \"Massachusetts<br>Democratic Lean <br>Dem: 17,255,316 votes<br>Rep: 11,454,247 votes\", \"Michigan<br>Democratic Lean <br>Dem: 22,780,090 votes<br>Rep: 21,772,499 votes\", \"Minnesota<br>Democratic Lean <br>Dem: 13,412,331 votes<br>Rep: 11,576,776 votes\", \"Mississippi<br>Republican Lean <br>Rep: 6,257,394 votes<br>Dem: 4,786,125 votes\", \"Missouri<br>Republican Lean <br>Rep: 13,230,342 votes<br>Dem: 11,966,663 votes\", \"Montana<br>Republican Lean <br>Rep: 2,423,410 votes<br>Dem: 1,827,449 votes\", \"Nebraska<br>Republican Lean <br>Rep: 4,714,268 votes<br>Dem: 2,706,445 votes\", \"Nevada<br>Republican Lean <br>Rep: 3,134,889 votes<br>Dem: 3,058,197 votes\", \"New Hampshire<br>Republican Lean <br>Rep: 2,952,235 votes<br>Dem: 2,705,530 votes\", \"New Jersey<br>Democratic Lean <br>Dem: 18,449,025 votes<br>Rep: 16,840,435 votes\", \"New Mexico<br>Democratic Lean <br>Dem: 3,281,068 votes<br>Rep: 3,150,849 votes\", \"New York<br>Democratic Lean <br>Dem: 40,698,152 votes<br>Rep: 27,693,375 votes\", \"North Carolina<br>Republican Lean <br>Rep: 16,955,145 votes<br>Dem: 15,033,244 votes\", \"North Dakota<br>Republican Lean <br>Rep: 1,920,786 votes<br>Dem: 1,219,846 votes\", \"Ohio<br>Republican Lean <br>Rep: 26,446,831 votes<br>Dem: 24,747,228 votes\", \"Oklahoma<br>Republican Lean <br>Rep: 8,461,174 votes<br>Dem: 5,108,802 votes\", \"Oregon<br>Democratic Lean <br>Dem: 8,044,327 votes<br>Rep: 7,178,360 votes\", \"Pennsylvania<br>Democratic Lean <br>Dem: 27,761,415 votes<br>Rep: 26,326,922 votes\", \"Rhode Island<br>Democratic Lean <br>Dem: 2,632,597 votes<br>Rep: 1,764,906 votes\", \"South Carolina<br>Republican Lean <br>Rep: 8,145,050 votes<br>Dem: 6,437,175 votes\", \"South Dakota<br>Republican Lean <br>Rep: 2,067,460 votes<br>Dem: 1,478,286 votes\", \"Tennessee<br>Republican Lean <br>Rep: 11,974,762 votes<br>Dem: 9,780,143 votes\", \"Texas<br>Republican Lean <br>Rep: 38,227,274 votes<br>Dem: 28,988,063 votes\", \"Utah<br>Republican Lean <br>Rep: 5,390,364 votes<br>Dem: 2,428,530 votes\", \"Vermont<br>Democratic Lean <br>Dem: 1,572,904 votes<br>Rep: 1,151,681 votes\", \"Virginia<br>Republican Lean <br>Rep: 15,232,689 votes<br>Dem: 13,936,686 votes\", \"Washington<br>Democratic Lean <br>Dem: 13,222,559 votes<br>Rep: 11,325,818 votes\", \"West Virginia<br>Republican Lean <br>Rep: 3,905,145 votes<br>Dem: 3,484,238 votes\", \"Wisconsin<br>Democratic Lean <br>Dem: 13,670,610 votes<br>Rep: 12,909,841 votes\", \"Wyoming<br>Republican Lean <br>Rep: 1,454,175 votes<br>Dem: 717,627 votes\"], \"type\": \"choropleth\", \"z\": [1, 1, 1, 1, 0, 1, 0, 0, 0, 1, 1, 0, 1, 0, 1, 0, 1, 1, 1, 0, 0, 0, 0, 0, 1, 1, 1, 1, 1, 1, 0, 0, 0, 1, 1, 1, 1, 0, 0, 0, 1, 1, 1, 1, 1, 0, 1, 0, 1, 0, 1]}],                        {\"geo\": {\"projection\": {\"type\": \"albers usa\"}, \"scope\": \"usa\"}, \"template\": {\"data\": {\"bar\": [{\"error_x\": {\"color\": \"#2a3f5f\"}, \"error_y\": {\"color\": \"#2a3f5f\"}, \"marker\": {\"line\": {\"color\": \"#E5ECF6\", \"width\": 0.5}}, \"type\": \"bar\"}], \"barpolar\": [{\"marker\": {\"line\": {\"color\": \"#E5ECF6\", \"width\": 0.5}}, \"type\": \"barpolar\"}], \"carpet\": [{\"aaxis\": {\"endlinecolor\": \"#2a3f5f\", \"gridcolor\": \"white\", \"linecolor\": \"white\", \"minorgridcolor\": \"white\", \"startlinecolor\": \"#2a3f5f\"}, \"baxis\": {\"endlinecolor\": \"#2a3f5f\", \"gridcolor\": \"white\", \"linecolor\": \"white\", \"minorgridcolor\": \"white\", \"startlinecolor\": \"#2a3f5f\"}, \"type\": \"carpet\"}], \"choropleth\": [{\"colorbar\": {\"outlinewidth\": 0, \"ticks\": \"\"}, \"type\": \"choropleth\"}], \"contour\": [{\"colorbar\": {\"outlinewidth\": 0, \"ticks\": \"\"}, \"colorscale\": [[0.0, \"#0d0887\"], [0.1111111111111111, \"#46039f\"], [0.2222222222222222, \"#7201a8\"], [0.3333333333333333, \"#9c179e\"], [0.4444444444444444, \"#bd3786\"], [0.5555555555555556, \"#d8576b\"], [0.6666666666666666, \"#ed7953\"], [0.7777777777777778, \"#fb9f3a\"], [0.8888888888888888, \"#fdca26\"], [1.0, \"#f0f921\"]], \"type\": \"contour\"}], \"contourcarpet\": [{\"colorbar\": {\"outlinewidth\": 0, \"ticks\": \"\"}, \"type\": \"contourcarpet\"}], \"heatmap\": [{\"colorbar\": {\"outlinewidth\": 0, \"ticks\": \"\"}, \"colorscale\": [[0.0, \"#0d0887\"], [0.1111111111111111, \"#46039f\"], [0.2222222222222222, \"#7201a8\"], [0.3333333333333333, \"#9c179e\"], [0.4444444444444444, \"#bd3786\"], [0.5555555555555556, \"#d8576b\"], [0.6666666666666666, \"#ed7953\"], [0.7777777777777778, \"#fb9f3a\"], [0.8888888888888888, \"#fdca26\"], [1.0, \"#f0f921\"]], \"type\": \"heatmap\"}], \"heatmapgl\": [{\"colorbar\": {\"outlinewidth\": 0, \"ticks\": \"\"}, \"colorscale\": [[0.0, \"#0d0887\"], [0.1111111111111111, \"#46039f\"], [0.2222222222222222, \"#7201a8\"], [0.3333333333333333, \"#9c179e\"], [0.4444444444444444, \"#bd3786\"], [0.5555555555555556, \"#d8576b\"], [0.6666666666666666, \"#ed7953\"], [0.7777777777777778, \"#fb9f3a\"], [0.8888888888888888, \"#fdca26\"], [1.0, \"#f0f921\"]], \"type\": \"heatmapgl\"}], \"histogram\": [{\"marker\": {\"colorbar\": {\"outlinewidth\": 0, \"ticks\": \"\"}}, \"type\": \"histogram\"}], \"histogram2d\": [{\"colorbar\": {\"outlinewidth\": 0, \"ticks\": \"\"}, \"colorscale\": [[0.0, \"#0d0887\"], [0.1111111111111111, \"#46039f\"], [0.2222222222222222, \"#7201a8\"], [0.3333333333333333, \"#9c179e\"], [0.4444444444444444, \"#bd3786\"], [0.5555555555555556, \"#d8576b\"], [0.6666666666666666, \"#ed7953\"], [0.7777777777777778, \"#fb9f3a\"], [0.8888888888888888, \"#fdca26\"], [1.0, \"#f0f921\"]], \"type\": \"histogram2d\"}], \"histogram2dcontour\": [{\"colorbar\": {\"outlinewidth\": 0, \"ticks\": \"\"}, \"colorscale\": [[0.0, \"#0d0887\"], [0.1111111111111111, \"#46039f\"], [0.2222222222222222, \"#7201a8\"], [0.3333333333333333, \"#9c179e\"], [0.4444444444444444, \"#bd3786\"], [0.5555555555555556, \"#d8576b\"], [0.6666666666666666, \"#ed7953\"], [0.7777777777777778, \"#fb9f3a\"], [0.8888888888888888, \"#fdca26\"], [1.0, \"#f0f921\"]], \"type\": \"histogram2dcontour\"}], \"mesh3d\": [{\"colorbar\": {\"outlinewidth\": 0, \"ticks\": \"\"}, \"type\": \"mesh3d\"}], \"parcoords\": [{\"line\": {\"colorbar\": {\"outlinewidth\": 0, \"ticks\": \"\"}}, \"type\": \"parcoords\"}], \"pie\": [{\"automargin\": true, \"type\": \"pie\"}], \"scatter\": [{\"marker\": {\"colorbar\": {\"outlinewidth\": 0, \"ticks\": \"\"}}, \"type\": \"scatter\"}], \"scatter3d\": [{\"line\": {\"colorbar\": {\"outlinewidth\": 0, \"ticks\": \"\"}}, \"marker\": {\"colorbar\": {\"outlinewidth\": 0, \"ticks\": \"\"}}, \"type\": \"scatter3d\"}], \"scattercarpet\": [{\"marker\": {\"colorbar\": {\"outlinewidth\": 0, \"ticks\": \"\"}}, \"type\": \"scattercarpet\"}], \"scattergeo\": [{\"marker\": {\"colorbar\": {\"outlinewidth\": 0, \"ticks\": \"\"}}, \"type\": \"scattergeo\"}], \"scattergl\": [{\"marker\": {\"colorbar\": {\"outlinewidth\": 0, \"ticks\": \"\"}}, \"type\": \"scattergl\"}], \"scattermapbox\": [{\"marker\": {\"colorbar\": {\"outlinewidth\": 0, \"ticks\": \"\"}}, \"type\": \"scattermapbox\"}], \"scatterpolar\": [{\"marker\": {\"colorbar\": {\"outlinewidth\": 0, \"ticks\": \"\"}}, \"type\": \"scatterpolar\"}], \"scatterpolargl\": [{\"marker\": {\"colorbar\": {\"outlinewidth\": 0, \"ticks\": \"\"}}, \"type\": \"scatterpolargl\"}], \"scatterternary\": [{\"marker\": {\"colorbar\": {\"outlinewidth\": 0, \"ticks\": \"\"}}, \"type\": \"scatterternary\"}], \"surface\": [{\"colorbar\": {\"outlinewidth\": 0, \"ticks\": \"\"}, \"colorscale\": [[0.0, \"#0d0887\"], [0.1111111111111111, \"#46039f\"], [0.2222222222222222, \"#7201a8\"], [0.3333333333333333, \"#9c179e\"], [0.4444444444444444, \"#bd3786\"], [0.5555555555555556, \"#d8576b\"], [0.6666666666666666, \"#ed7953\"], [0.7777777777777778, \"#fb9f3a\"], [0.8888888888888888, \"#fdca26\"], [1.0, \"#f0f921\"]], \"type\": \"surface\"}], \"table\": [{\"cells\": {\"fill\": {\"color\": \"#EBF0F8\"}, \"line\": {\"color\": \"white\"}}, \"header\": {\"fill\": {\"color\": \"#C8D4E3\"}, \"line\": {\"color\": \"white\"}}, \"type\": \"table\"}]}, \"layout\": {\"annotationdefaults\": {\"arrowcolor\": \"#2a3f5f\", \"arrowhead\": 0, \"arrowwidth\": 1}, \"coloraxis\": {\"colorbar\": {\"outlinewidth\": 0, \"ticks\": \"\"}}, \"colorscale\": {\"diverging\": [[0, \"#8e0152\"], [0.1, \"#c51b7d\"], [0.2, \"#de77ae\"], [0.3, \"#f1b6da\"], [0.4, \"#fde0ef\"], [0.5, \"#f7f7f7\"], [0.6, \"#e6f5d0\"], [0.7, \"#b8e186\"], [0.8, \"#7fbc41\"], [0.9, \"#4d9221\"], [1, \"#276419\"]], \"sequential\": [[0.0, \"#0d0887\"], [0.1111111111111111, \"#46039f\"], [0.2222222222222222, \"#7201a8\"], [0.3333333333333333, \"#9c179e\"], [0.4444444444444444, \"#bd3786\"], [0.5555555555555556, \"#d8576b\"], [0.6666666666666666, \"#ed7953\"], [0.7777777777777778, \"#fb9f3a\"], [0.8888888888888888, \"#fdca26\"], [1.0, \"#f0f921\"]], \"sequentialminus\": [[0.0, \"#0d0887\"], [0.1111111111111111, \"#46039f\"], [0.2222222222222222, \"#7201a8\"], [0.3333333333333333, \"#9c179e\"], [0.4444444444444444, \"#bd3786\"], [0.5555555555555556, \"#d8576b\"], [0.6666666666666666, \"#ed7953\"], [0.7777777777777778, \"#fb9f3a\"], [0.8888888888888888, \"#fdca26\"], [1.0, \"#f0f921\"]]}, \"colorway\": [\"#636efa\", \"#EF553B\", \"#00cc96\", \"#ab63fa\", \"#FFA15A\", \"#19d3f3\", \"#FF6692\", \"#B6E880\", \"#FF97FF\", \"#FECB52\"], \"font\": {\"color\": \"#2a3f5f\"}, \"geo\": {\"bgcolor\": \"white\", \"lakecolor\": \"white\", \"landcolor\": \"#E5ECF6\", \"showlakes\": true, \"showland\": true, \"subunitcolor\": \"white\"}, \"hoverlabel\": {\"align\": \"left\"}, \"hovermode\": \"closest\", \"mapbox\": {\"style\": \"light\"}, \"paper_bgcolor\": \"white\", \"plot_bgcolor\": \"#E5ECF6\", \"polar\": {\"angularaxis\": {\"gridcolor\": \"white\", \"linecolor\": \"white\", \"ticks\": \"\"}, \"bgcolor\": \"#E5ECF6\", \"radialaxis\": {\"gridcolor\": \"white\", \"linecolor\": \"white\", \"ticks\": \"\"}}, \"scene\": {\"xaxis\": {\"backgroundcolor\": \"#E5ECF6\", \"gridcolor\": \"white\", \"gridwidth\": 2, \"linecolor\": \"white\", \"showbackground\": true, \"ticks\": \"\", \"zerolinecolor\": \"white\"}, \"yaxis\": {\"backgroundcolor\": \"#E5ECF6\", \"gridcolor\": \"white\", \"gridwidth\": 2, \"linecolor\": \"white\", \"showbackground\": true, \"ticks\": \"\", \"zerolinecolor\": \"white\"}, \"zaxis\": {\"backgroundcolor\": \"#E5ECF6\", \"gridcolor\": \"white\", \"gridwidth\": 2, \"linecolor\": \"white\", \"showbackground\": true, \"ticks\": \"\", \"zerolinecolor\": \"white\"}}, \"shapedefaults\": {\"line\": {\"color\": \"#2a3f5f\"}}, \"ternary\": {\"aaxis\": {\"gridcolor\": \"white\", \"linecolor\": \"white\", \"ticks\": \"\"}, \"baxis\": {\"gridcolor\": \"white\", \"linecolor\": \"white\", \"ticks\": \"\"}, \"bgcolor\": \"#E5ECF6\", \"caxis\": {\"gridcolor\": \"white\", \"linecolor\": \"white\", \"ticks\": \"\"}}, \"title\": {\"x\": 0.05}, \"xaxis\": {\"automargin\": true, \"gridcolor\": \"white\", \"linecolor\": \"white\", \"ticks\": \"\", \"title\": {\"standoff\": 15}, \"zerolinecolor\": \"white\", \"zerolinewidth\": 2}, \"yaxis\": {\"automargin\": true, \"gridcolor\": \"white\", \"linecolor\": \"white\", \"ticks\": \"\", \"title\": {\"standoff\": 15}, \"zerolinecolor\": \"white\", \"zerolinewidth\": 2}}}, \"title\": {\"text\": \"State Leanings(Comparing Total Votes) 1976-2016\", \"x\": 0.5}},                        {\"responsive\": true}                    ).then(function(){\n                            \nvar gd = document.getElementById('472ac3ea-9e73-4f00-8185-00535977979b');\nvar x = new MutationObserver(function (mutations, observer) {{\n        var display = window.getComputedStyle(gd).display;\n        if (!display || display === 'none') {{\n            console.log([gd, 'removed!']);\n            Plotly.purge(gd);\n            observer.disconnect();\n        }}\n}});\n\n// Listen for the removal of the full notebook cells\nvar notebookContainer = gd.closest('#notebook-container');\nif (notebookContainer) {{\n    x.observe(notebookContainer, {childList: true});\n}}\n\n// Listen for the clearing of the current output cell\nvar outputEl = gd.closest('.output');\nif (outputEl) {{\n    x.observe(outputEl, {childList: true});\n}}\n\n                        })                };                });            </script>        </div>"
     },
     "metadata": {}
    },
    {
     "output_type": "execute_result",
     "data": {
      "text/plain": "'plots/html_plots/State Leanings(Comparing Total Votes) 1976-2016.html'"
     },
     "metadata": {},
     "execution_count": 4
    }
   ],
   "source": [
    "# sum total states votes for each party and classify via majority vote \n",
    "from collections import OrderedDict \n",
    "state_leans = OrderedDict((state,[0,0]) for state in states)\n",
    "\n",
    "# state_leans[state][0] is dem [1] is rep\n",
    "for YEAR, STATES in slides.items():\n",
    "    for state, election_info in STATES.items():\n",
    "        if(election_info.winner_party == \"democrat\"):\n",
    "            state_leans[state][0] += election_info.winner_votes\n",
    "            state_leans[state][1] += election_info.runnerup_votes\n",
    "        else:\n",
    "            state_leans[state][0] += election_info.runnerup_votes\n",
    "            state_leans[state][1] += election_info.winner_votes\n",
    "            \n",
    "            \n",
    "# plot US map with state leanings from 1976 - 2016 (which party had more overall total votes)\n",
    "data = dict(\n",
    "                        type='choropleth',\n",
    "                        locations = state_codes,\n",
    "\n",
    "                        z = [0 if x[0] > x[1] else 1 for x in state_leans.values()],\n",
    "                        locationmode='USA-states',\n",
    "\n",
    " \n",
    "                        colorscale = scl_cus,\n",
    "                        text =  [ str(str(y) + '<br>' + 'Democratic Lean <br>Dem: ' + str(\"{:,}\".format(x[0]))+ ' votes' + '<br>' + \"Rep: \" + str(\"{:,}\".format(x[1])) + \" votes\") if x[0] > x[1] else str( str(y) + '<br>' 'Republican Lean <br>Rep: ' + str(\"{:,}\".format(x[1]))+ ' votes' + '<br>' + \"Dem: \" + str(\"{:,}\".format(x[0])) + \" votes\")  for y,x in state_leans.items()],\n",
    "                        \n",
    "                        showlegend = False,\n",
    "                        showscale = False,\n",
    "    \n",
    "                        hovertemplate='%{text}<extra></extra>'\n",
    "                        \n",
    "                        )\n",
    "    \n",
    "\n",
    "\n",
    "layout = dict(\n",
    "        title = 'State Leanings(Comparing Total Votes) 1976-2016', title_x =.5,\n",
    "        geo = dict(\n",
    "            scope='usa',\n",
    "            projection=dict( type='albers usa' ), \n",
    "            ),\n",
    "             )\n",
    "fig = dict( data=data, layout=layout )\n",
    "plotly.offline.iplot(fig)\n",
    "offline.plot(fig, auto_open=True, filename='plots/html_plots/State Leanings(Comparing Total Votes) 1976-2016.html', validate=True)\n",
    "\n",
    ""
   ]
  },
  {
   "cell_type": "markdown",
   "metadata": {},
   "source": [
    "## Plot State Leanings Based on Comparing Elections Won"
   ]
  },
  {
   "cell_type": "code",
   "execution_count": 5,
   "metadata": {},
   "outputs": [
    {
     "output_type": "display_data",
     "data": {
      "application/vnd.plotly.v1+json": {
       "config": {
        "linkText": "Export to plot.ly",
        "plotlyServerURL": "https://plot.ly",
        "showLink": false
       },
       "data": [
        {
         "colorscale": [
          [
           0,
           "#0015BC"
          ],
          [
           1,
           "#DE0100"
          ]
         ],
         "hovertemplate": "%{text}<extra></extra>",
         "locationmode": "USA-states",
         "locations": [
          "AL",
          "AK",
          "AZ",
          "AR",
          "CA",
          "CO",
          "CT",
          "DE",
          "DC",
          "FL",
          "GA",
          "HI",
          "ID",
          "IL",
          "IN",
          "IA",
          "KS",
          "KY",
          "LA",
          "ME",
          "MD",
          "MA",
          "MI",
          "MN",
          "MS",
          "MO",
          "MT",
          "NE",
          "NV",
          "NH",
          "NJ",
          "NM",
          "NY",
          "NC",
          "ND",
          "OH",
          "OK",
          "OR",
          "PA",
          "RI",
          "SC",
          "SD",
          "TN",
          "TX",
          "UT",
          "VT",
          "VA",
          "WA",
          "WV",
          "WI",
          "WY"
         ],
         "showlegend": false,
         "showscale": false,
         "text": [
          "Alabama<br>Republican Lean <br>Rep: 10 elections<br>Dem: 1 elections",
          "Alaska<br>Republican Lean <br>Rep: 11 elections<br>Dem: 0 elections",
          "Arizona<br>Republican Lean <br>Rep: 10 elections<br>Dem: 1 elections",
          "Arkansas<br>Republican Lean <br>Rep: 8 elections<br>Dem: 3 elections",
          "California<br>Democratic Lean <br>Dem: 7 elections<br>Rep: 4 elections",
          "Colorado<br>Republican Lean <br>Rep: 7 elections<br>Dem: 4 elections",
          "Connecticut<br>Democratic Lean <br>Dem: 7 elections<br>Rep: 4 elections",
          "Delaware<br>Democratic Lean <br>Dem: 8 elections<br>Rep: 3 elections",
          "District of Columbia<br>Democratic Lean <br>Dem: 11 elections<br>Rep: 0 elections",
          "Florida<br>Republican Lean <br>Rep: 7 elections<br>Dem: 4 elections",
          "Georgia<br>Republican Lean <br>Rep: 8 elections<br>Dem: 3 elections",
          "Hawaii<br>Democratic Lean <br>Dem: 10 elections<br>Rep: 1 elections",
          "Idaho<br>Republican Lean <br>Rep: 11 elections<br>Dem: 0 elections",
          "Illinois<br>Democratic Lean <br>Dem: 7 elections<br>Rep: 4 elections",
          "Indiana<br>Republican Lean <br>Rep: 10 elections<br>Dem: 1 elections",
          "Iowa<br>Democratic Lean <br>Dem: 6 elections<br>Rep: 5 elections",
          "Kansas<br>Republican Lean <br>Rep: 11 elections<br>Dem: 0 elections",
          "Kentucky<br>Republican Lean <br>Rep: 8 elections<br>Dem: 3 elections",
          "Louisiana<br>Republican Lean <br>Rep: 8 elections<br>Dem: 3 elections",
          "Maine<br>Democratic Lean <br>Dem: 7 elections<br>Rep: 4 elections",
          "Maryland<br>Democratic Lean <br>Dem: 9 elections<br>Rep: 2 elections",
          "Massachusetts<br>Democratic Lean <br>Dem: 9 elections<br>Rep: 2 elections",
          "Michigan<br>Democratic Lean <br>Dem: 6 elections<br>Rep: 5 elections",
          "Minnesota<br>Democratic Lean <br>Dem: 11 elections<br>Rep: 0 elections",
          "Mississippi<br>Republican Lean <br>Rep: 10 elections<br>Dem: 1 elections",
          "Missouri<br>Republican Lean <br>Rep: 8 elections<br>Dem: 3 elections",
          "Montana<br>Republican Lean <br>Rep: 10 elections<br>Dem: 1 elections",
          "Nebraska<br>Republican Lean <br>Rep: 11 elections<br>Dem: 0 elections",
          "Nevada<br>Republican Lean <br>Rep: 6 elections<br>Dem: 5 elections",
          "New Hampshire<br>Democratic Lean <br>Dem: 6 elections<br>Rep: 5 elections",
          "New Jersey<br>Democratic Lean <br>Dem: 7 elections<br>Rep: 4 elections",
          "New Mexico<br>Democratic Lean <br>Dem: 6 elections<br>Rep: 5 elections",
          "New York<br>Democratic Lean <br>Dem: 10 elections<br>Rep: 1 elections",
          "North Carolina<br>Republican Lean <br>Rep: 9 elections<br>Dem: 2 elections",
          "North Dakota<br>Republican Lean <br>Rep: 11 elections<br>Dem: 0 elections",
          "Ohio<br>Republican Lean <br>Rep: 6 elections<br>Dem: 5 elections",
          "Oklahoma<br>Republican Lean <br>Rep: 11 elections<br>Dem: 0 elections",
          "Oregon<br>Democratic Lean <br>Dem: 8 elections<br>Rep: 3 elections",
          "Pennsylvania<br>Democratic Lean <br>Dem: 7 elections<br>Rep: 4 elections",
          "Rhode Island<br>Democratic Lean <br>Dem: 10 elections<br>Rep: 1 elections",
          "South Carolina<br>Republican Lean <br>Rep: 10 elections<br>Dem: 1 elections",
          "South Dakota<br>Republican Lean <br>Rep: 11 elections<br>Dem: 0 elections",
          "Tennessee<br>Republican Lean <br>Rep: 8 elections<br>Dem: 3 elections",
          "Texas<br>Republican Lean <br>Rep: 10 elections<br>Dem: 1 elections",
          "Utah<br>Republican Lean <br>Rep: 11 elections<br>Dem: 0 elections",
          "Vermont<br>Democratic Lean <br>Dem: 7 elections<br>Rep: 4 elections",
          "Virginia<br>Republican Lean <br>Rep: 8 elections<br>Dem: 3 elections",
          "Washington<br>Democratic Lean <br>Dem: 8 elections<br>Rep: 3 elections",
          "West Virginia<br>Republican Lean <br>Rep: 6 elections<br>Dem: 5 elections",
          "Wisconsin<br>Democratic Lean <br>Dem: 8 elections<br>Rep: 3 elections",
          "Wyoming<br>Republican Lean <br>Rep: 11 elections<br>Dem: 0 elections"
         ],
         "type": "choropleth",
         "z": [
          1,
          1,
          1,
          1,
          0,
          1,
          0,
          0,
          0,
          1,
          1,
          0,
          1,
          0,
          1,
          0,
          1,
          1,
          1,
          0,
          0,
          0,
          0,
          0,
          1,
          1,
          1,
          1,
          1,
          0,
          0,
          0,
          0,
          1,
          1,
          1,
          1,
          0,
          0,
          0,
          1,
          1,
          1,
          1,
          1,
          0,
          1,
          0,
          1,
          0,
          1
         ]
        }
       ],
       "layout": {
        "geo": {
         "projection": {
          "type": "albers usa"
         },
         "scope": "usa"
        },
        "template": {
         "data": {
          "bar": [
           {
            "error_x": {
             "color": "#2a3f5f"
            },
            "error_y": {
             "color": "#2a3f5f"
            },
            "marker": {
             "line": {
              "color": "#E5ECF6",
              "width": 0.5
             }
            },
            "type": "bar"
           }
          ],
          "barpolar": [
           {
            "marker": {
             "line": {
              "color": "#E5ECF6",
              "width": 0.5
             }
            },
            "type": "barpolar"
           }
          ],
          "carpet": [
           {
            "aaxis": {
             "endlinecolor": "#2a3f5f",
             "gridcolor": "white",
             "linecolor": "white",
             "minorgridcolor": "white",
             "startlinecolor": "#2a3f5f"
            },
            "baxis": {
             "endlinecolor": "#2a3f5f",
             "gridcolor": "white",
             "linecolor": "white",
             "minorgridcolor": "white",
             "startlinecolor": "#2a3f5f"
            },
            "type": "carpet"
           }
          ],
          "choropleth": [
           {
            "colorbar": {
             "outlinewidth": 0,
             "ticks": ""
            },
            "type": "choropleth"
           }
          ],
          "contour": [
           {
            "colorbar": {
             "outlinewidth": 0,
             "ticks": ""
            },
            "colorscale": [
             [
              0,
              "#0d0887"
             ],
             [
              0.1111111111111111,
              "#46039f"
             ],
             [
              0.2222222222222222,
              "#7201a8"
             ],
             [
              0.3333333333333333,
              "#9c179e"
             ],
             [
              0.4444444444444444,
              "#bd3786"
             ],
             [
              0.5555555555555556,
              "#d8576b"
             ],
             [
              0.6666666666666666,
              "#ed7953"
             ],
             [
              0.7777777777777778,
              "#fb9f3a"
             ],
             [
              0.8888888888888888,
              "#fdca26"
             ],
             [
              1,
              "#f0f921"
             ]
            ],
            "type": "contour"
           }
          ],
          "contourcarpet": [
           {
            "colorbar": {
             "outlinewidth": 0,
             "ticks": ""
            },
            "type": "contourcarpet"
           }
          ],
          "heatmap": [
           {
            "colorbar": {
             "outlinewidth": 0,
             "ticks": ""
            },
            "colorscale": [
             [
              0,
              "#0d0887"
             ],
             [
              0.1111111111111111,
              "#46039f"
             ],
             [
              0.2222222222222222,
              "#7201a8"
             ],
             [
              0.3333333333333333,
              "#9c179e"
             ],
             [
              0.4444444444444444,
              "#bd3786"
             ],
             [
              0.5555555555555556,
              "#d8576b"
             ],
             [
              0.6666666666666666,
              "#ed7953"
             ],
             [
              0.7777777777777778,
              "#fb9f3a"
             ],
             [
              0.8888888888888888,
              "#fdca26"
             ],
             [
              1,
              "#f0f921"
             ]
            ],
            "type": "heatmap"
           }
          ],
          "heatmapgl": [
           {
            "colorbar": {
             "outlinewidth": 0,
             "ticks": ""
            },
            "colorscale": [
             [
              0,
              "#0d0887"
             ],
             [
              0.1111111111111111,
              "#46039f"
             ],
             [
              0.2222222222222222,
              "#7201a8"
             ],
             [
              0.3333333333333333,
              "#9c179e"
             ],
             [
              0.4444444444444444,
              "#bd3786"
             ],
             [
              0.5555555555555556,
              "#d8576b"
             ],
             [
              0.6666666666666666,
              "#ed7953"
             ],
             [
              0.7777777777777778,
              "#fb9f3a"
             ],
             [
              0.8888888888888888,
              "#fdca26"
             ],
             [
              1,
              "#f0f921"
             ]
            ],
            "type": "heatmapgl"
           }
          ],
          "histogram": [
           {
            "marker": {
             "colorbar": {
              "outlinewidth": 0,
              "ticks": ""
             }
            },
            "type": "histogram"
           }
          ],
          "histogram2d": [
           {
            "colorbar": {
             "outlinewidth": 0,
             "ticks": ""
            },
            "colorscale": [
             [
              0,
              "#0d0887"
             ],
             [
              0.1111111111111111,
              "#46039f"
             ],
             [
              0.2222222222222222,
              "#7201a8"
             ],
             [
              0.3333333333333333,
              "#9c179e"
             ],
             [
              0.4444444444444444,
              "#bd3786"
             ],
             [
              0.5555555555555556,
              "#d8576b"
             ],
             [
              0.6666666666666666,
              "#ed7953"
             ],
             [
              0.7777777777777778,
              "#fb9f3a"
             ],
             [
              0.8888888888888888,
              "#fdca26"
             ],
             [
              1,
              "#f0f921"
             ]
            ],
            "type": "histogram2d"
           }
          ],
          "histogram2dcontour": [
           {
            "colorbar": {
             "outlinewidth": 0,
             "ticks": ""
            },
            "colorscale": [
             [
              0,
              "#0d0887"
             ],
             [
              0.1111111111111111,
              "#46039f"
             ],
             [
              0.2222222222222222,
              "#7201a8"
             ],
             [
              0.3333333333333333,
              "#9c179e"
             ],
             [
              0.4444444444444444,
              "#bd3786"
             ],
             [
              0.5555555555555556,
              "#d8576b"
             ],
             [
              0.6666666666666666,
              "#ed7953"
             ],
             [
              0.7777777777777778,
              "#fb9f3a"
             ],
             [
              0.8888888888888888,
              "#fdca26"
             ],
             [
              1,
              "#f0f921"
             ]
            ],
            "type": "histogram2dcontour"
           }
          ],
          "mesh3d": [
           {
            "colorbar": {
             "outlinewidth": 0,
             "ticks": ""
            },
            "type": "mesh3d"
           }
          ],
          "parcoords": [
           {
            "line": {
             "colorbar": {
              "outlinewidth": 0,
              "ticks": ""
             }
            },
            "type": "parcoords"
           }
          ],
          "pie": [
           {
            "automargin": true,
            "type": "pie"
           }
          ],
          "scatter": [
           {
            "marker": {
             "colorbar": {
              "outlinewidth": 0,
              "ticks": ""
             }
            },
            "type": "scatter"
           }
          ],
          "scatter3d": [
           {
            "line": {
             "colorbar": {
              "outlinewidth": 0,
              "ticks": ""
             }
            },
            "marker": {
             "colorbar": {
              "outlinewidth": 0,
              "ticks": ""
             }
            },
            "type": "scatter3d"
           }
          ],
          "scattercarpet": [
           {
            "marker": {
             "colorbar": {
              "outlinewidth": 0,
              "ticks": ""
             }
            },
            "type": "scattercarpet"
           }
          ],
          "scattergeo": [
           {
            "marker": {
             "colorbar": {
              "outlinewidth": 0,
              "ticks": ""
             }
            },
            "type": "scattergeo"
           }
          ],
          "scattergl": [
           {
            "marker": {
             "colorbar": {
              "outlinewidth": 0,
              "ticks": ""
             }
            },
            "type": "scattergl"
           }
          ],
          "scattermapbox": [
           {
            "marker": {
             "colorbar": {
              "outlinewidth": 0,
              "ticks": ""
             }
            },
            "type": "scattermapbox"
           }
          ],
          "scatterpolar": [
           {
            "marker": {
             "colorbar": {
              "outlinewidth": 0,
              "ticks": ""
             }
            },
            "type": "scatterpolar"
           }
          ],
          "scatterpolargl": [
           {
            "marker": {
             "colorbar": {
              "outlinewidth": 0,
              "ticks": ""
             }
            },
            "type": "scatterpolargl"
           }
          ],
          "scatterternary": [
           {
            "marker": {
             "colorbar": {
              "outlinewidth": 0,
              "ticks": ""
             }
            },
            "type": "scatterternary"
           }
          ],
          "surface": [
           {
            "colorbar": {
             "outlinewidth": 0,
             "ticks": ""
            },
            "colorscale": [
             [
              0,
              "#0d0887"
             ],
             [
              0.1111111111111111,
              "#46039f"
             ],
             [
              0.2222222222222222,
              "#7201a8"
             ],
             [
              0.3333333333333333,
              "#9c179e"
             ],
             [
              0.4444444444444444,
              "#bd3786"
             ],
             [
              0.5555555555555556,
              "#d8576b"
             ],
             [
              0.6666666666666666,
              "#ed7953"
             ],
             [
              0.7777777777777778,
              "#fb9f3a"
             ],
             [
              0.8888888888888888,
              "#fdca26"
             ],
             [
              1,
              "#f0f921"
             ]
            ],
            "type": "surface"
           }
          ],
          "table": [
           {
            "cells": {
             "fill": {
              "color": "#EBF0F8"
             },
             "line": {
              "color": "white"
             }
            },
            "header": {
             "fill": {
              "color": "#C8D4E3"
             },
             "line": {
              "color": "white"
             }
            },
            "type": "table"
           }
          ]
         },
         "layout": {
          "annotationdefaults": {
           "arrowcolor": "#2a3f5f",
           "arrowhead": 0,
           "arrowwidth": 1
          },
          "coloraxis": {
           "colorbar": {
            "outlinewidth": 0,
            "ticks": ""
           }
          },
          "colorscale": {
           "diverging": [
            [
             0,
             "#8e0152"
            ],
            [
             0.1,
             "#c51b7d"
            ],
            [
             0.2,
             "#de77ae"
            ],
            [
             0.3,
             "#f1b6da"
            ],
            [
             0.4,
             "#fde0ef"
            ],
            [
             0.5,
             "#f7f7f7"
            ],
            [
             0.6,
             "#e6f5d0"
            ],
            [
             0.7,
             "#b8e186"
            ],
            [
             0.8,
             "#7fbc41"
            ],
            [
             0.9,
             "#4d9221"
            ],
            [
             1,
             "#276419"
            ]
           ],
           "sequential": [
            [
             0,
             "#0d0887"
            ],
            [
             0.1111111111111111,
             "#46039f"
            ],
            [
             0.2222222222222222,
             "#7201a8"
            ],
            [
             0.3333333333333333,
             "#9c179e"
            ],
            [
             0.4444444444444444,
             "#bd3786"
            ],
            [
             0.5555555555555556,
             "#d8576b"
            ],
            [
             0.6666666666666666,
             "#ed7953"
            ],
            [
             0.7777777777777778,
             "#fb9f3a"
            ],
            [
             0.8888888888888888,
             "#fdca26"
            ],
            [
             1,
             "#f0f921"
            ]
           ],
           "sequentialminus": [
            [
             0,
             "#0d0887"
            ],
            [
             0.1111111111111111,
             "#46039f"
            ],
            [
             0.2222222222222222,
             "#7201a8"
            ],
            [
             0.3333333333333333,
             "#9c179e"
            ],
            [
             0.4444444444444444,
             "#bd3786"
            ],
            [
             0.5555555555555556,
             "#d8576b"
            ],
            [
             0.6666666666666666,
             "#ed7953"
            ],
            [
             0.7777777777777778,
             "#fb9f3a"
            ],
            [
             0.8888888888888888,
             "#fdca26"
            ],
            [
             1,
             "#f0f921"
            ]
           ]
          },
          "colorway": [
           "#636efa",
           "#EF553B",
           "#00cc96",
           "#ab63fa",
           "#FFA15A",
           "#19d3f3",
           "#FF6692",
           "#B6E880",
           "#FF97FF",
           "#FECB52"
          ],
          "font": {
           "color": "#2a3f5f"
          },
          "geo": {
           "bgcolor": "white",
           "lakecolor": "white",
           "landcolor": "#E5ECF6",
           "showlakes": true,
           "showland": true,
           "subunitcolor": "white"
          },
          "hoverlabel": {
           "align": "left"
          },
          "hovermode": "closest",
          "mapbox": {
           "style": "light"
          },
          "paper_bgcolor": "white",
          "plot_bgcolor": "#E5ECF6",
          "polar": {
           "angularaxis": {
            "gridcolor": "white",
            "linecolor": "white",
            "ticks": ""
           },
           "bgcolor": "#E5ECF6",
           "radialaxis": {
            "gridcolor": "white",
            "linecolor": "white",
            "ticks": ""
           }
          },
          "scene": {
           "xaxis": {
            "backgroundcolor": "#E5ECF6",
            "gridcolor": "white",
            "gridwidth": 2,
            "linecolor": "white",
            "showbackground": true,
            "ticks": "",
            "zerolinecolor": "white"
           },
           "yaxis": {
            "backgroundcolor": "#E5ECF6",
            "gridcolor": "white",
            "gridwidth": 2,
            "linecolor": "white",
            "showbackground": true,
            "ticks": "",
            "zerolinecolor": "white"
           },
           "zaxis": {
            "backgroundcolor": "#E5ECF6",
            "gridcolor": "white",
            "gridwidth": 2,
            "linecolor": "white",
            "showbackground": true,
            "ticks": "",
            "zerolinecolor": "white"
           }
          },
          "shapedefaults": {
           "line": {
            "color": "#2a3f5f"
           }
          },
          "ternary": {
           "aaxis": {
            "gridcolor": "white",
            "linecolor": "white",
            "ticks": ""
           },
           "baxis": {
            "gridcolor": "white",
            "linecolor": "white",
            "ticks": ""
           },
           "bgcolor": "#E5ECF6",
           "caxis": {
            "gridcolor": "white",
            "linecolor": "white",
            "ticks": ""
           }
          },
          "title": {
           "x": 0.05
          },
          "xaxis": {
           "automargin": true,
           "gridcolor": "white",
           "linecolor": "white",
           "ticks": "",
           "title": {
            "standoff": 15
           },
           "zerolinecolor": "white",
           "zerolinewidth": 2
          },
          "yaxis": {
           "automargin": true,
           "gridcolor": "white",
           "linecolor": "white",
           "ticks": "",
           "title": {
            "standoff": 15
           },
           "zerolinecolor": "white",
           "zerolinewidth": 2
          }
         }
        },
        "title": {
         "text": "State Leanings(Comparing Number of Elections Won) 1976-2016",
         "x": 0.5
        }
       }
      },
      "text/html": "<div>                            <div id=\"b334d009-53a2-4430-9219-3392f5eba689\" class=\"plotly-graph-div\" style=\"height:525px; width:100%;\"></div>            <script type=\"text/javascript\">                require([\"plotly\"], function(Plotly) {                    window.PLOTLYENV=window.PLOTLYENV || {};                                    if (document.getElementById(\"b334d009-53a2-4430-9219-3392f5eba689\")) {                    Plotly.newPlot(                        \"b334d009-53a2-4430-9219-3392f5eba689\",                        [{\"colorscale\": [[0.0, \"#0015BC\"], [1.0, \"#DE0100\"]], \"hovertemplate\": \"%{text}<extra></extra>\", \"locationmode\": \"USA-states\", \"locations\": [\"AL\", \"AK\", \"AZ\", \"AR\", \"CA\", \"CO\", \"CT\", \"DE\", \"DC\", \"FL\", \"GA\", \"HI\", \"ID\", \"IL\", \"IN\", \"IA\", \"KS\", \"KY\", \"LA\", \"ME\", \"MD\", \"MA\", \"MI\", \"MN\", \"MS\", \"MO\", \"MT\", \"NE\", \"NV\", \"NH\", \"NJ\", \"NM\", \"NY\", \"NC\", \"ND\", \"OH\", \"OK\", \"OR\", \"PA\", \"RI\", \"SC\", \"SD\", \"TN\", \"TX\", \"UT\", \"VT\", \"VA\", \"WA\", \"WV\", \"WI\", \"WY\"], \"showlegend\": false, \"showscale\": false, \"text\": [\"Alabama<br>Republican Lean <br>Rep: 10 elections<br>Dem: 1 elections\", \"Alaska<br>Republican Lean <br>Rep: 11 elections<br>Dem: 0 elections\", \"Arizona<br>Republican Lean <br>Rep: 10 elections<br>Dem: 1 elections\", \"Arkansas<br>Republican Lean <br>Rep: 8 elections<br>Dem: 3 elections\", \"California<br>Democratic Lean <br>Dem: 7 elections<br>Rep: 4 elections\", \"Colorado<br>Republican Lean <br>Rep: 7 elections<br>Dem: 4 elections\", \"Connecticut<br>Democratic Lean <br>Dem: 7 elections<br>Rep: 4 elections\", \"Delaware<br>Democratic Lean <br>Dem: 8 elections<br>Rep: 3 elections\", \"District of Columbia<br>Democratic Lean <br>Dem: 11 elections<br>Rep: 0 elections\", \"Florida<br>Republican Lean <br>Rep: 7 elections<br>Dem: 4 elections\", \"Georgia<br>Republican Lean <br>Rep: 8 elections<br>Dem: 3 elections\", \"Hawaii<br>Democratic Lean <br>Dem: 10 elections<br>Rep: 1 elections\", \"Idaho<br>Republican Lean <br>Rep: 11 elections<br>Dem: 0 elections\", \"Illinois<br>Democratic Lean <br>Dem: 7 elections<br>Rep: 4 elections\", \"Indiana<br>Republican Lean <br>Rep: 10 elections<br>Dem: 1 elections\", \"Iowa<br>Democratic Lean <br>Dem: 6 elections<br>Rep: 5 elections\", \"Kansas<br>Republican Lean <br>Rep: 11 elections<br>Dem: 0 elections\", \"Kentucky<br>Republican Lean <br>Rep: 8 elections<br>Dem: 3 elections\", \"Louisiana<br>Republican Lean <br>Rep: 8 elections<br>Dem: 3 elections\", \"Maine<br>Democratic Lean <br>Dem: 7 elections<br>Rep: 4 elections\", \"Maryland<br>Democratic Lean <br>Dem: 9 elections<br>Rep: 2 elections\", \"Massachusetts<br>Democratic Lean <br>Dem: 9 elections<br>Rep: 2 elections\", \"Michigan<br>Democratic Lean <br>Dem: 6 elections<br>Rep: 5 elections\", \"Minnesota<br>Democratic Lean <br>Dem: 11 elections<br>Rep: 0 elections\", \"Mississippi<br>Republican Lean <br>Rep: 10 elections<br>Dem: 1 elections\", \"Missouri<br>Republican Lean <br>Rep: 8 elections<br>Dem: 3 elections\", \"Montana<br>Republican Lean <br>Rep: 10 elections<br>Dem: 1 elections\", \"Nebraska<br>Republican Lean <br>Rep: 11 elections<br>Dem: 0 elections\", \"Nevada<br>Republican Lean <br>Rep: 6 elections<br>Dem: 5 elections\", \"New Hampshire<br>Democratic Lean <br>Dem: 6 elections<br>Rep: 5 elections\", \"New Jersey<br>Democratic Lean <br>Dem: 7 elections<br>Rep: 4 elections\", \"New Mexico<br>Democratic Lean <br>Dem: 6 elections<br>Rep: 5 elections\", \"New York<br>Democratic Lean <br>Dem: 10 elections<br>Rep: 1 elections\", \"North Carolina<br>Republican Lean <br>Rep: 9 elections<br>Dem: 2 elections\", \"North Dakota<br>Republican Lean <br>Rep: 11 elections<br>Dem: 0 elections\", \"Ohio<br>Republican Lean <br>Rep: 6 elections<br>Dem: 5 elections\", \"Oklahoma<br>Republican Lean <br>Rep: 11 elections<br>Dem: 0 elections\", \"Oregon<br>Democratic Lean <br>Dem: 8 elections<br>Rep: 3 elections\", \"Pennsylvania<br>Democratic Lean <br>Dem: 7 elections<br>Rep: 4 elections\", \"Rhode Island<br>Democratic Lean <br>Dem: 10 elections<br>Rep: 1 elections\", \"South Carolina<br>Republican Lean <br>Rep: 10 elections<br>Dem: 1 elections\", \"South Dakota<br>Republican Lean <br>Rep: 11 elections<br>Dem: 0 elections\", \"Tennessee<br>Republican Lean <br>Rep: 8 elections<br>Dem: 3 elections\", \"Texas<br>Republican Lean <br>Rep: 10 elections<br>Dem: 1 elections\", \"Utah<br>Republican Lean <br>Rep: 11 elections<br>Dem: 0 elections\", \"Vermont<br>Democratic Lean <br>Dem: 7 elections<br>Rep: 4 elections\", \"Virginia<br>Republican Lean <br>Rep: 8 elections<br>Dem: 3 elections\", \"Washington<br>Democratic Lean <br>Dem: 8 elections<br>Rep: 3 elections\", \"West Virginia<br>Republican Lean <br>Rep: 6 elections<br>Dem: 5 elections\", \"Wisconsin<br>Democratic Lean <br>Dem: 8 elections<br>Rep: 3 elections\", \"Wyoming<br>Republican Lean <br>Rep: 11 elections<br>Dem: 0 elections\"], \"type\": \"choropleth\", \"z\": [1, 1, 1, 1, 0, 1, 0, 0, 0, 1, 1, 0, 1, 0, 1, 0, 1, 1, 1, 0, 0, 0, 0, 0, 1, 1, 1, 1, 1, 0, 0, 0, 0, 1, 1, 1, 1, 0, 0, 0, 1, 1, 1, 1, 1, 0, 1, 0, 1, 0, 1]}],                        {\"geo\": {\"projection\": {\"type\": \"albers usa\"}, \"scope\": \"usa\"}, \"template\": {\"data\": {\"bar\": [{\"error_x\": {\"color\": \"#2a3f5f\"}, \"error_y\": {\"color\": \"#2a3f5f\"}, \"marker\": {\"line\": {\"color\": \"#E5ECF6\", \"width\": 0.5}}, \"type\": \"bar\"}], \"barpolar\": [{\"marker\": {\"line\": {\"color\": \"#E5ECF6\", \"width\": 0.5}}, \"type\": \"barpolar\"}], \"carpet\": [{\"aaxis\": {\"endlinecolor\": \"#2a3f5f\", \"gridcolor\": \"white\", \"linecolor\": \"white\", \"minorgridcolor\": \"white\", \"startlinecolor\": \"#2a3f5f\"}, \"baxis\": {\"endlinecolor\": \"#2a3f5f\", \"gridcolor\": \"white\", \"linecolor\": \"white\", \"minorgridcolor\": \"white\", \"startlinecolor\": \"#2a3f5f\"}, \"type\": \"carpet\"}], \"choropleth\": [{\"colorbar\": {\"outlinewidth\": 0, \"ticks\": \"\"}, \"type\": \"choropleth\"}], \"contour\": [{\"colorbar\": {\"outlinewidth\": 0, \"ticks\": \"\"}, \"colorscale\": [[0.0, \"#0d0887\"], [0.1111111111111111, \"#46039f\"], [0.2222222222222222, \"#7201a8\"], [0.3333333333333333, \"#9c179e\"], [0.4444444444444444, \"#bd3786\"], [0.5555555555555556, \"#d8576b\"], [0.6666666666666666, \"#ed7953\"], [0.7777777777777778, \"#fb9f3a\"], [0.8888888888888888, \"#fdca26\"], [1.0, \"#f0f921\"]], \"type\": \"contour\"}], \"contourcarpet\": [{\"colorbar\": {\"outlinewidth\": 0, \"ticks\": \"\"}, \"type\": \"contourcarpet\"}], \"heatmap\": [{\"colorbar\": {\"outlinewidth\": 0, \"ticks\": \"\"}, \"colorscale\": [[0.0, \"#0d0887\"], [0.1111111111111111, \"#46039f\"], [0.2222222222222222, \"#7201a8\"], [0.3333333333333333, \"#9c179e\"], [0.4444444444444444, \"#bd3786\"], [0.5555555555555556, \"#d8576b\"], [0.6666666666666666, \"#ed7953\"], [0.7777777777777778, \"#fb9f3a\"], [0.8888888888888888, \"#fdca26\"], [1.0, \"#f0f921\"]], \"type\": \"heatmap\"}], \"heatmapgl\": [{\"colorbar\": {\"outlinewidth\": 0, \"ticks\": \"\"}, \"colorscale\": [[0.0, \"#0d0887\"], [0.1111111111111111, \"#46039f\"], [0.2222222222222222, \"#7201a8\"], [0.3333333333333333, \"#9c179e\"], [0.4444444444444444, \"#bd3786\"], [0.5555555555555556, \"#d8576b\"], [0.6666666666666666, \"#ed7953\"], [0.7777777777777778, \"#fb9f3a\"], [0.8888888888888888, \"#fdca26\"], [1.0, \"#f0f921\"]], \"type\": \"heatmapgl\"}], \"histogram\": [{\"marker\": {\"colorbar\": {\"outlinewidth\": 0, \"ticks\": \"\"}}, \"type\": \"histogram\"}], \"histogram2d\": [{\"colorbar\": {\"outlinewidth\": 0, \"ticks\": \"\"}, \"colorscale\": [[0.0, \"#0d0887\"], [0.1111111111111111, \"#46039f\"], [0.2222222222222222, \"#7201a8\"], [0.3333333333333333, \"#9c179e\"], [0.4444444444444444, \"#bd3786\"], [0.5555555555555556, \"#d8576b\"], [0.6666666666666666, \"#ed7953\"], [0.7777777777777778, \"#fb9f3a\"], [0.8888888888888888, \"#fdca26\"], [1.0, \"#f0f921\"]], \"type\": \"histogram2d\"}], \"histogram2dcontour\": [{\"colorbar\": {\"outlinewidth\": 0, \"ticks\": \"\"}, \"colorscale\": [[0.0, \"#0d0887\"], [0.1111111111111111, \"#46039f\"], [0.2222222222222222, \"#7201a8\"], [0.3333333333333333, \"#9c179e\"], [0.4444444444444444, \"#bd3786\"], [0.5555555555555556, \"#d8576b\"], [0.6666666666666666, \"#ed7953\"], [0.7777777777777778, \"#fb9f3a\"], [0.8888888888888888, \"#fdca26\"], [1.0, \"#f0f921\"]], \"type\": \"histogram2dcontour\"}], \"mesh3d\": [{\"colorbar\": {\"outlinewidth\": 0, \"ticks\": \"\"}, \"type\": \"mesh3d\"}], \"parcoords\": [{\"line\": {\"colorbar\": {\"outlinewidth\": 0, \"ticks\": \"\"}}, \"type\": \"parcoords\"}], \"pie\": [{\"automargin\": true, \"type\": \"pie\"}], \"scatter\": [{\"marker\": {\"colorbar\": {\"outlinewidth\": 0, \"ticks\": \"\"}}, \"type\": \"scatter\"}], \"scatter3d\": [{\"line\": {\"colorbar\": {\"outlinewidth\": 0, \"ticks\": \"\"}}, \"marker\": {\"colorbar\": {\"outlinewidth\": 0, \"ticks\": \"\"}}, \"type\": \"scatter3d\"}], \"scattercarpet\": [{\"marker\": {\"colorbar\": {\"outlinewidth\": 0, \"ticks\": \"\"}}, \"type\": \"scattercarpet\"}], \"scattergeo\": [{\"marker\": {\"colorbar\": {\"outlinewidth\": 0, \"ticks\": \"\"}}, \"type\": \"scattergeo\"}], \"scattergl\": [{\"marker\": {\"colorbar\": {\"outlinewidth\": 0, \"ticks\": \"\"}}, \"type\": \"scattergl\"}], \"scattermapbox\": [{\"marker\": {\"colorbar\": {\"outlinewidth\": 0, \"ticks\": \"\"}}, \"type\": \"scattermapbox\"}], \"scatterpolar\": [{\"marker\": {\"colorbar\": {\"outlinewidth\": 0, \"ticks\": \"\"}}, \"type\": \"scatterpolar\"}], \"scatterpolargl\": [{\"marker\": {\"colorbar\": {\"outlinewidth\": 0, \"ticks\": \"\"}}, \"type\": \"scatterpolargl\"}], \"scatterternary\": [{\"marker\": {\"colorbar\": {\"outlinewidth\": 0, \"ticks\": \"\"}}, \"type\": \"scatterternary\"}], \"surface\": [{\"colorbar\": {\"outlinewidth\": 0, \"ticks\": \"\"}, \"colorscale\": [[0.0, \"#0d0887\"], [0.1111111111111111, \"#46039f\"], [0.2222222222222222, \"#7201a8\"], [0.3333333333333333, \"#9c179e\"], [0.4444444444444444, \"#bd3786\"], [0.5555555555555556, \"#d8576b\"], [0.6666666666666666, \"#ed7953\"], [0.7777777777777778, \"#fb9f3a\"], [0.8888888888888888, \"#fdca26\"], [1.0, \"#f0f921\"]], \"type\": \"surface\"}], \"table\": [{\"cells\": {\"fill\": {\"color\": \"#EBF0F8\"}, \"line\": {\"color\": \"white\"}}, \"header\": {\"fill\": {\"color\": \"#C8D4E3\"}, \"line\": {\"color\": \"white\"}}, \"type\": \"table\"}]}, \"layout\": {\"annotationdefaults\": {\"arrowcolor\": \"#2a3f5f\", \"arrowhead\": 0, \"arrowwidth\": 1}, \"coloraxis\": {\"colorbar\": {\"outlinewidth\": 0, \"ticks\": \"\"}}, \"colorscale\": {\"diverging\": [[0, \"#8e0152\"], [0.1, \"#c51b7d\"], [0.2, \"#de77ae\"], [0.3, \"#f1b6da\"], [0.4, \"#fde0ef\"], [0.5, \"#f7f7f7\"], [0.6, \"#e6f5d0\"], [0.7, \"#b8e186\"], [0.8, \"#7fbc41\"], [0.9, \"#4d9221\"], [1, \"#276419\"]], \"sequential\": [[0.0, \"#0d0887\"], [0.1111111111111111, \"#46039f\"], [0.2222222222222222, \"#7201a8\"], [0.3333333333333333, \"#9c179e\"], [0.4444444444444444, \"#bd3786\"], [0.5555555555555556, \"#d8576b\"], [0.6666666666666666, \"#ed7953\"], [0.7777777777777778, \"#fb9f3a\"], [0.8888888888888888, \"#fdca26\"], [1.0, \"#f0f921\"]], \"sequentialminus\": [[0.0, \"#0d0887\"], [0.1111111111111111, \"#46039f\"], [0.2222222222222222, \"#7201a8\"], [0.3333333333333333, \"#9c179e\"], [0.4444444444444444, \"#bd3786\"], [0.5555555555555556, \"#d8576b\"], [0.6666666666666666, \"#ed7953\"], [0.7777777777777778, \"#fb9f3a\"], [0.8888888888888888, \"#fdca26\"], [1.0, \"#f0f921\"]]}, \"colorway\": [\"#636efa\", \"#EF553B\", \"#00cc96\", \"#ab63fa\", \"#FFA15A\", \"#19d3f3\", \"#FF6692\", \"#B6E880\", \"#FF97FF\", \"#FECB52\"], \"font\": {\"color\": \"#2a3f5f\"}, \"geo\": {\"bgcolor\": \"white\", \"lakecolor\": \"white\", \"landcolor\": \"#E5ECF6\", \"showlakes\": true, \"showland\": true, \"subunitcolor\": \"white\"}, \"hoverlabel\": {\"align\": \"left\"}, \"hovermode\": \"closest\", \"mapbox\": {\"style\": \"light\"}, \"paper_bgcolor\": \"white\", \"plot_bgcolor\": \"#E5ECF6\", \"polar\": {\"angularaxis\": {\"gridcolor\": \"white\", \"linecolor\": \"white\", \"ticks\": \"\"}, \"bgcolor\": \"#E5ECF6\", \"radialaxis\": {\"gridcolor\": \"white\", \"linecolor\": \"white\", \"ticks\": \"\"}}, \"scene\": {\"xaxis\": {\"backgroundcolor\": \"#E5ECF6\", \"gridcolor\": \"white\", \"gridwidth\": 2, \"linecolor\": \"white\", \"showbackground\": true, \"ticks\": \"\", \"zerolinecolor\": \"white\"}, \"yaxis\": {\"backgroundcolor\": \"#E5ECF6\", \"gridcolor\": \"white\", \"gridwidth\": 2, \"linecolor\": \"white\", \"showbackground\": true, \"ticks\": \"\", \"zerolinecolor\": \"white\"}, \"zaxis\": {\"backgroundcolor\": \"#E5ECF6\", \"gridcolor\": \"white\", \"gridwidth\": 2, \"linecolor\": \"white\", \"showbackground\": true, \"ticks\": \"\", \"zerolinecolor\": \"white\"}}, \"shapedefaults\": {\"line\": {\"color\": \"#2a3f5f\"}}, \"ternary\": {\"aaxis\": {\"gridcolor\": \"white\", \"linecolor\": \"white\", \"ticks\": \"\"}, \"baxis\": {\"gridcolor\": \"white\", \"linecolor\": \"white\", \"ticks\": \"\"}, \"bgcolor\": \"#E5ECF6\", \"caxis\": {\"gridcolor\": \"white\", \"linecolor\": \"white\", \"ticks\": \"\"}}, \"title\": {\"x\": 0.05}, \"xaxis\": {\"automargin\": true, \"gridcolor\": \"white\", \"linecolor\": \"white\", \"ticks\": \"\", \"title\": {\"standoff\": 15}, \"zerolinecolor\": \"white\", \"zerolinewidth\": 2}, \"yaxis\": {\"automargin\": true, \"gridcolor\": \"white\", \"linecolor\": \"white\", \"ticks\": \"\", \"title\": {\"standoff\": 15}, \"zerolinecolor\": \"white\", \"zerolinewidth\": 2}}}, \"title\": {\"text\": \"State Leanings(Comparing Number of Elections Won) 1976-2016\", \"x\": 0.5}},                        {\"responsive\": true}                    ).then(function(){\n                            \nvar gd = document.getElementById('b334d009-53a2-4430-9219-3392f5eba689');\nvar x = new MutationObserver(function (mutations, observer) {{\n        var display = window.getComputedStyle(gd).display;\n        if (!display || display === 'none') {{\n            console.log([gd, 'removed!']);\n            Plotly.purge(gd);\n            observer.disconnect();\n        }}\n}});\n\n// Listen for the removal of the full notebook cells\nvar notebookContainer = gd.closest('#notebook-container');\nif (notebookContainer) {{\n    x.observe(notebookContainer, {childList: true});\n}}\n\n// Listen for the clearing of the current output cell\nvar outputEl = gd.closest('.output');\nif (outputEl) {{\n    x.observe(outputEl, {childList: true});\n}}\n\n                        })                };                });            </script>        </div>"
     },
     "metadata": {}
    },
    {
     "output_type": "execute_result",
     "data": {
      "text/plain": "'plots/html_plots/State Leanings(Comparing Number of Elections Won) 1976-2016.html'"
     },
     "metadata": {},
     "execution_count": 5
    }
   ],
   "source": [
    "# sum states vots over time for each party and classify them as rep or dem\n",
    "from collections import OrderedDict \n",
    "\n",
    "# state_leans_elections[state][0] is dem [1] is rep\n",
    "state_leans_elections = OrderedDict((state,[0,0]) for state in states)\n",
    "\n",
    "for YEAR, STATES in slides.items():\n",
    "    for state, election_info in STATES.items():\n",
    "        if(election_info.winner_party == \"democrat\"):\n",
    "            state_leans_elections[state][0] += 1\n",
    "        else:\n",
    "            state_leans_elections[state][1] += 1\n",
    "\n",
    "# plot US map with state leanings from 1976 - 2016 (which party won more elections for that state)\n",
    "data = dict(\n",
    "                        type='choropleth',\n",
    "                        locations = state_codes,\n",
    "\n",
    "                        z = [0 if x[0] > x[1] else 1 for x in state_leans_elections.values()],\n",
    "                        locationmode='USA-states',\n",
    "\n",
    " \n",
    "                        colorscale = scl_cus,\n",
    "                        text =  [ str(str(y) + '<br>' + 'Democratic Lean <br>Dem: ' + str(\"{:,}\".format(x[0]))+ ' elections' + '<br>' + \"Rep: \" + str(\"{:,}\".format(x[1])) + \" elections\") if x[0] > x[1] else str( str(y) + '<br>' 'Republican Lean <br>Rep: ' + str(\"{:,}\".format(x[1]))+ ' elections' + '<br>' + \"Dem: \" + str(\"{:,}\".format(x[0])) + \" elections\")  for y,x in state_leans_elections.items()],\n",
    "                        \n",
    "                        showlegend = False,\n",
    "                        showscale = False,\n",
    "                        hovertemplate='%{text}<extra></extra>'\n",
    "                        )\n",
    "    \n",
    "\n",
    "\n",
    "layout = dict(\n",
    "        title = 'State Leanings(Comparing Number of Elections Won) 1976-2016', title_x =.5,\n",
    "        geo = dict(\n",
    "            scope='usa',\n",
    "            projection=dict( type='albers usa' ), \n",
    "            ),\n",
    "             )\n",
    "fig = dict( data=data, layout=layout )\n",
    "plotly.offline.iplot(fig)\n",
    "offline.plot(fig, auto_open=True, filename='plots/html_plots/State Leanings(Comparing Number of Elections Won) 1976-2016.html', validate=True)\n",
    "\n",
    ""
   ]
  },
  {
   "cell_type": "markdown",
   "metadata": {},
   "source": [
    "## Plot Voting Metrics"
   ]
  },
  {
   "cell_type": "code",
   "execution_count": 6,
   "metadata": {
    "scrolled": true
   },
   "outputs": [
    {
     "output_type": "display_data",
     "data": {
      "application/vnd.plotly.v1+json": {
       "config": {
        "plotlyServerURL": "https://plot.ly"
       },
       "data": [
        {
         "name": "Estimated Population",
         "type": "bar",
         "x": [
          1976,
          1980,
          1984,
          1988,
          1992,
          1996,
          2000,
          2004,
          2008,
          2012,
          2016
         ],
         "y": [
          226545805,
          226545805,
          226545805,
          248709873,
          248709873,
          281421906,
          281421906,
          281421906,
          308664923,
          308664923,
          308664923
         ]
        },
        {
         "name": "Voter Turnout",
         "type": "bar",
         "x": [
          1976,
          1980,
          1984,
          1988,
          1992,
          1996,
          2000,
          2004,
          2008,
          2012,
          2016
         ],
         "y": [
          81601344,
          86496851,
          92654861,
          91586825,
          104599780,
          96389818,
          105593982,
          122349450,
          131419253,
          129139997,
          136787187
         ]
        },
        {
         "name": "Winner Votes",
         "type": "bar",
         "x": [
          1976,
          1980,
          1984,
          1988,
          1992,
          1996,
          2000,
          2004,
          2008,
          2012,
          2016
         ],
         "y": [
          40680446,
          43642639,
          54166829,
          48642640,
          44876718,
          47295351,
          50311372,
          61872711,
          69338846,
          65752017,
          62692411
         ]
        },
        {
         "name": "Runnerup Votes",
         "type": "bar",
         "x": [
          1976,
          1980,
          1984,
          1988,
          1992,
          1996,
          2000,
          2004,
          2008,
          2012,
          2016
         ],
         "y": [
          38870893,
          35480948,
          37449813,
          41716679,
          38799229,
          39003697,
          50830580,
          58894554,
          59613835,
          60670117,
          65677168
         ]
        },
        {
         "name": "Other Votes",
         "type": "bar",
         "x": [
          1976,
          1980,
          1984,
          1988,
          1992,
          1996,
          2000,
          2004,
          2008,
          2012,
          2016
         ],
         "y": [
          2050005,
          7373264,
          1038219,
          1227506,
          20923833,
          10090770,
          4452030,
          1582185,
          2466572,
          2717863,
          8417608
         ]
        }
       ],
       "layout": {
        "template": {
         "data": {
          "bar": [
           {
            "error_x": {
             "color": "#2a3f5f"
            },
            "error_y": {
             "color": "#2a3f5f"
            },
            "marker": {
             "line": {
              "color": "#E5ECF6",
              "width": 0.5
             }
            },
            "type": "bar"
           }
          ],
          "barpolar": [
           {
            "marker": {
             "line": {
              "color": "#E5ECF6",
              "width": 0.5
             }
            },
            "type": "barpolar"
           }
          ],
          "carpet": [
           {
            "aaxis": {
             "endlinecolor": "#2a3f5f",
             "gridcolor": "white",
             "linecolor": "white",
             "minorgridcolor": "white",
             "startlinecolor": "#2a3f5f"
            },
            "baxis": {
             "endlinecolor": "#2a3f5f",
             "gridcolor": "white",
             "linecolor": "white",
             "minorgridcolor": "white",
             "startlinecolor": "#2a3f5f"
            },
            "type": "carpet"
           }
          ],
          "choropleth": [
           {
            "colorbar": {
             "outlinewidth": 0,
             "ticks": ""
            },
            "type": "choropleth"
           }
          ],
          "contour": [
           {
            "colorbar": {
             "outlinewidth": 0,
             "ticks": ""
            },
            "colorscale": [
             [
              0,
              "#0d0887"
             ],
             [
              0.1111111111111111,
              "#46039f"
             ],
             [
              0.2222222222222222,
              "#7201a8"
             ],
             [
              0.3333333333333333,
              "#9c179e"
             ],
             [
              0.4444444444444444,
              "#bd3786"
             ],
             [
              0.5555555555555556,
              "#d8576b"
             ],
             [
              0.6666666666666666,
              "#ed7953"
             ],
             [
              0.7777777777777778,
              "#fb9f3a"
             ],
             [
              0.8888888888888888,
              "#fdca26"
             ],
             [
              1,
              "#f0f921"
             ]
            ],
            "type": "contour"
           }
          ],
          "contourcarpet": [
           {
            "colorbar": {
             "outlinewidth": 0,
             "ticks": ""
            },
            "type": "contourcarpet"
           }
          ],
          "heatmap": [
           {
            "colorbar": {
             "outlinewidth": 0,
             "ticks": ""
            },
            "colorscale": [
             [
              0,
              "#0d0887"
             ],
             [
              0.1111111111111111,
              "#46039f"
             ],
             [
              0.2222222222222222,
              "#7201a8"
             ],
             [
              0.3333333333333333,
              "#9c179e"
             ],
             [
              0.4444444444444444,
              "#bd3786"
             ],
             [
              0.5555555555555556,
              "#d8576b"
             ],
             [
              0.6666666666666666,
              "#ed7953"
             ],
             [
              0.7777777777777778,
              "#fb9f3a"
             ],
             [
              0.8888888888888888,
              "#fdca26"
             ],
             [
              1,
              "#f0f921"
             ]
            ],
            "type": "heatmap"
           }
          ],
          "heatmapgl": [
           {
            "colorbar": {
             "outlinewidth": 0,
             "ticks": ""
            },
            "colorscale": [
             [
              0,
              "#0d0887"
             ],
             [
              0.1111111111111111,
              "#46039f"
             ],
             [
              0.2222222222222222,
              "#7201a8"
             ],
             [
              0.3333333333333333,
              "#9c179e"
             ],
             [
              0.4444444444444444,
              "#bd3786"
             ],
             [
              0.5555555555555556,
              "#d8576b"
             ],
             [
              0.6666666666666666,
              "#ed7953"
             ],
             [
              0.7777777777777778,
              "#fb9f3a"
             ],
             [
              0.8888888888888888,
              "#fdca26"
             ],
             [
              1,
              "#f0f921"
             ]
            ],
            "type": "heatmapgl"
           }
          ],
          "histogram": [
           {
            "marker": {
             "colorbar": {
              "outlinewidth": 0,
              "ticks": ""
             }
            },
            "type": "histogram"
           }
          ],
          "histogram2d": [
           {
            "colorbar": {
             "outlinewidth": 0,
             "ticks": ""
            },
            "colorscale": [
             [
              0,
              "#0d0887"
             ],
             [
              0.1111111111111111,
              "#46039f"
             ],
             [
              0.2222222222222222,
              "#7201a8"
             ],
             [
              0.3333333333333333,
              "#9c179e"
             ],
             [
              0.4444444444444444,
              "#bd3786"
             ],
             [
              0.5555555555555556,
              "#d8576b"
             ],
             [
              0.6666666666666666,
              "#ed7953"
             ],
             [
              0.7777777777777778,
              "#fb9f3a"
             ],
             [
              0.8888888888888888,
              "#fdca26"
             ],
             [
              1,
              "#f0f921"
             ]
            ],
            "type": "histogram2d"
           }
          ],
          "histogram2dcontour": [
           {
            "colorbar": {
             "outlinewidth": 0,
             "ticks": ""
            },
            "colorscale": [
             [
              0,
              "#0d0887"
             ],
             [
              0.1111111111111111,
              "#46039f"
             ],
             [
              0.2222222222222222,
              "#7201a8"
             ],
             [
              0.3333333333333333,
              "#9c179e"
             ],
             [
              0.4444444444444444,
              "#bd3786"
             ],
             [
              0.5555555555555556,
              "#d8576b"
             ],
             [
              0.6666666666666666,
              "#ed7953"
             ],
             [
              0.7777777777777778,
              "#fb9f3a"
             ],
             [
              0.8888888888888888,
              "#fdca26"
             ],
             [
              1,
              "#f0f921"
             ]
            ],
            "type": "histogram2dcontour"
           }
          ],
          "mesh3d": [
           {
            "colorbar": {
             "outlinewidth": 0,
             "ticks": ""
            },
            "type": "mesh3d"
           }
          ],
          "parcoords": [
           {
            "line": {
             "colorbar": {
              "outlinewidth": 0,
              "ticks": ""
             }
            },
            "type": "parcoords"
           }
          ],
          "pie": [
           {
            "automargin": true,
            "type": "pie"
           }
          ],
          "scatter": [
           {
            "marker": {
             "colorbar": {
              "outlinewidth": 0,
              "ticks": ""
             }
            },
            "type": "scatter"
           }
          ],
          "scatter3d": [
           {
            "line": {
             "colorbar": {
              "outlinewidth": 0,
              "ticks": ""
             }
            },
            "marker": {
             "colorbar": {
              "outlinewidth": 0,
              "ticks": ""
             }
            },
            "type": "scatter3d"
           }
          ],
          "scattercarpet": [
           {
            "marker": {
             "colorbar": {
              "outlinewidth": 0,
              "ticks": ""
             }
            },
            "type": "scattercarpet"
           }
          ],
          "scattergeo": [
           {
            "marker": {
             "colorbar": {
              "outlinewidth": 0,
              "ticks": ""
             }
            },
            "type": "scattergeo"
           }
          ],
          "scattergl": [
           {
            "marker": {
             "colorbar": {
              "outlinewidth": 0,
              "ticks": ""
             }
            },
            "type": "scattergl"
           }
          ],
          "scattermapbox": [
           {
            "marker": {
             "colorbar": {
              "outlinewidth": 0,
              "ticks": ""
             }
            },
            "type": "scattermapbox"
           }
          ],
          "scatterpolar": [
           {
            "marker": {
             "colorbar": {
              "outlinewidth": 0,
              "ticks": ""
             }
            },
            "type": "scatterpolar"
           }
          ],
          "scatterpolargl": [
           {
            "marker": {
             "colorbar": {
              "outlinewidth": 0,
              "ticks": ""
             }
            },
            "type": "scatterpolargl"
           }
          ],
          "scatterternary": [
           {
            "marker": {
             "colorbar": {
              "outlinewidth": 0,
              "ticks": ""
             }
            },
            "type": "scatterternary"
           }
          ],
          "surface": [
           {
            "colorbar": {
             "outlinewidth": 0,
             "ticks": ""
            },
            "colorscale": [
             [
              0,
              "#0d0887"
             ],
             [
              0.1111111111111111,
              "#46039f"
             ],
             [
              0.2222222222222222,
              "#7201a8"
             ],
             [
              0.3333333333333333,
              "#9c179e"
             ],
             [
              0.4444444444444444,
              "#bd3786"
             ],
             [
              0.5555555555555556,
              "#d8576b"
             ],
             [
              0.6666666666666666,
              "#ed7953"
             ],
             [
              0.7777777777777778,
              "#fb9f3a"
             ],
             [
              0.8888888888888888,
              "#fdca26"
             ],
             [
              1,
              "#f0f921"
             ]
            ],
            "type": "surface"
           }
          ],
          "table": [
           {
            "cells": {
             "fill": {
              "color": "#EBF0F8"
             },
             "line": {
              "color": "white"
             }
            },
            "header": {
             "fill": {
              "color": "#C8D4E3"
             },
             "line": {
              "color": "white"
             }
            },
            "type": "table"
           }
          ]
         },
         "layout": {
          "annotationdefaults": {
           "arrowcolor": "#2a3f5f",
           "arrowhead": 0,
           "arrowwidth": 1
          },
          "coloraxis": {
           "colorbar": {
            "outlinewidth": 0,
            "ticks": ""
           }
          },
          "colorscale": {
           "diverging": [
            [
             0,
             "#8e0152"
            ],
            [
             0.1,
             "#c51b7d"
            ],
            [
             0.2,
             "#de77ae"
            ],
            [
             0.3,
             "#f1b6da"
            ],
            [
             0.4,
             "#fde0ef"
            ],
            [
             0.5,
             "#f7f7f7"
            ],
            [
             0.6,
             "#e6f5d0"
            ],
            [
             0.7,
             "#b8e186"
            ],
            [
             0.8,
             "#7fbc41"
            ],
            [
             0.9,
             "#4d9221"
            ],
            [
             1,
             "#276419"
            ]
           ],
           "sequential": [
            [
             0,
             "#0d0887"
            ],
            [
             0.1111111111111111,
             "#46039f"
            ],
            [
             0.2222222222222222,
             "#7201a8"
            ],
            [
             0.3333333333333333,
             "#9c179e"
            ],
            [
             0.4444444444444444,
             "#bd3786"
            ],
            [
             0.5555555555555556,
             "#d8576b"
            ],
            [
             0.6666666666666666,
             "#ed7953"
            ],
            [
             0.7777777777777778,
             "#fb9f3a"
            ],
            [
             0.8888888888888888,
             "#fdca26"
            ],
            [
             1,
             "#f0f921"
            ]
           ],
           "sequentialminus": [
            [
             0,
             "#0d0887"
            ],
            [
             0.1111111111111111,
             "#46039f"
            ],
            [
             0.2222222222222222,
             "#7201a8"
            ],
            [
             0.3333333333333333,
             "#9c179e"
            ],
            [
             0.4444444444444444,
             "#bd3786"
            ],
            [
             0.5555555555555556,
             "#d8576b"
            ],
            [
             0.6666666666666666,
             "#ed7953"
            ],
            [
             0.7777777777777778,
             "#fb9f3a"
            ],
            [
             0.8888888888888888,
             "#fdca26"
            ],
            [
             1,
             "#f0f921"
            ]
           ]
          },
          "colorway": [
           "#636efa",
           "#EF553B",
           "#00cc96",
           "#ab63fa",
           "#FFA15A",
           "#19d3f3",
           "#FF6692",
           "#B6E880",
           "#FF97FF",
           "#FECB52"
          ],
          "font": {
           "color": "#2a3f5f"
          },
          "geo": {
           "bgcolor": "white",
           "lakecolor": "white",
           "landcolor": "#E5ECF6",
           "showlakes": true,
           "showland": true,
           "subunitcolor": "white"
          },
          "hoverlabel": {
           "align": "left"
          },
          "hovermode": "closest",
          "mapbox": {
           "style": "light"
          },
          "paper_bgcolor": "white",
          "plot_bgcolor": "#E5ECF6",
          "polar": {
           "angularaxis": {
            "gridcolor": "white",
            "linecolor": "white",
            "ticks": ""
           },
           "bgcolor": "#E5ECF6",
           "radialaxis": {
            "gridcolor": "white",
            "linecolor": "white",
            "ticks": ""
           }
          },
          "scene": {
           "xaxis": {
            "backgroundcolor": "#E5ECF6",
            "gridcolor": "white",
            "gridwidth": 2,
            "linecolor": "white",
            "showbackground": true,
            "ticks": "",
            "zerolinecolor": "white"
           },
           "yaxis": {
            "backgroundcolor": "#E5ECF6",
            "gridcolor": "white",
            "gridwidth": 2,
            "linecolor": "white",
            "showbackground": true,
            "ticks": "",
            "zerolinecolor": "white"
           },
           "zaxis": {
            "backgroundcolor": "#E5ECF6",
            "gridcolor": "white",
            "gridwidth": 2,
            "linecolor": "white",
            "showbackground": true,
            "ticks": "",
            "zerolinecolor": "white"
           }
          },
          "shapedefaults": {
           "line": {
            "color": "#2a3f5f"
           }
          },
          "ternary": {
           "aaxis": {
            "gridcolor": "white",
            "linecolor": "white",
            "ticks": ""
           },
           "baxis": {
            "gridcolor": "white",
            "linecolor": "white",
            "ticks": ""
           },
           "bgcolor": "#E5ECF6",
           "caxis": {
            "gridcolor": "white",
            "linecolor": "white",
            "ticks": ""
           }
          },
          "title": {
           "x": 0.05
          },
          "xaxis": {
           "automargin": true,
           "gridcolor": "white",
           "linecolor": "white",
           "ticks": "",
           "title": {
            "standoff": 15
           },
           "zerolinecolor": "white",
           "zerolinewidth": 2
          },
          "yaxis": {
           "automargin": true,
           "gridcolor": "white",
           "linecolor": "white",
           "ticks": "",
           "title": {
            "standoff": 15
           },
           "zerolinecolor": "white",
           "zerolinewidth": 2
          }
         }
        },
        "title": {
         "text": "Voting Metrics From 1976-2016",
         "x": 0.5
        },
        "uniformtext": {
         "minsize": 8,
         "mode": "hide"
        },
        "xaxis": {
         "tickvals": [
          1976,
          1980,
          1984,
          1988,
          1992,
          1996,
          2000,
          2004,
          2008,
          2012,
          2016
         ],
         "title": {
          "text": "Year"
         }
        },
        "yaxis": {
         "title": {
          "text": "Votes"
         }
        }
       }
      },
      "text/html": "<div>                            <div id=\"5eccdf81-5c4e-459d-91d4-9203c56a3779\" class=\"plotly-graph-div\" style=\"height:525px; width:100%;\"></div>            <script type=\"text/javascript\">                require([\"plotly\"], function(Plotly) {                    window.PLOTLYENV=window.PLOTLYENV || {};                                    if (document.getElementById(\"5eccdf81-5c4e-459d-91d4-9203c56a3779\")) {                    Plotly.newPlot(                        \"5eccdf81-5c4e-459d-91d4-9203c56a3779\",                        [{\"name\": \"Estimated Population\", \"type\": \"bar\", \"x\": [1976, 1980, 1984, 1988, 1992, 1996, 2000, 2004, 2008, 2012, 2016], \"y\": [226545805, 226545805, 226545805, 248709873, 248709873, 281421906, 281421906, 281421906, 308664923, 308664923, 308664923]}, {\"name\": \"Voter Turnout\", \"type\": \"bar\", \"x\": [1976, 1980, 1984, 1988, 1992, 1996, 2000, 2004, 2008, 2012, 2016], \"y\": [81601344, 86496851, 92654861, 91586825, 104599780, 96389818, 105593982, 122349450, 131419253, 129139997, 136787187]}, {\"name\": \"Winner Votes\", \"type\": \"bar\", \"x\": [1976, 1980, 1984, 1988, 1992, 1996, 2000, 2004, 2008, 2012, 2016], \"y\": [40680446, 43642639, 54166829, 48642640, 44876718, 47295351, 50311372, 61872711, 69338846, 65752017, 62692411]}, {\"name\": \"Runnerup Votes\", \"type\": \"bar\", \"x\": [1976, 1980, 1984, 1988, 1992, 1996, 2000, 2004, 2008, 2012, 2016], \"y\": [38870893, 35480948, 37449813, 41716679, 38799229, 39003697, 50830580, 58894554, 59613835, 60670117, 65677168]}, {\"name\": \"Other Votes\", \"type\": \"bar\", \"x\": [1976, 1980, 1984, 1988, 1992, 1996, 2000, 2004, 2008, 2012, 2016], \"y\": [2050005, 7373264, 1038219, 1227506, 20923833, 10090770, 4452030, 1582185, 2466572, 2717863, 8417608]}],                        {\"template\": {\"data\": {\"bar\": [{\"error_x\": {\"color\": \"#2a3f5f\"}, \"error_y\": {\"color\": \"#2a3f5f\"}, \"marker\": {\"line\": {\"color\": \"#E5ECF6\", \"width\": 0.5}}, \"type\": \"bar\"}], \"barpolar\": [{\"marker\": {\"line\": {\"color\": \"#E5ECF6\", \"width\": 0.5}}, \"type\": \"barpolar\"}], \"carpet\": [{\"aaxis\": {\"endlinecolor\": \"#2a3f5f\", \"gridcolor\": \"white\", \"linecolor\": \"white\", \"minorgridcolor\": \"white\", \"startlinecolor\": \"#2a3f5f\"}, \"baxis\": {\"endlinecolor\": \"#2a3f5f\", \"gridcolor\": \"white\", \"linecolor\": \"white\", \"minorgridcolor\": \"white\", \"startlinecolor\": \"#2a3f5f\"}, \"type\": \"carpet\"}], \"choropleth\": [{\"colorbar\": {\"outlinewidth\": 0, \"ticks\": \"\"}, \"type\": \"choropleth\"}], \"contour\": [{\"colorbar\": {\"outlinewidth\": 0, \"ticks\": \"\"}, \"colorscale\": [[0.0, \"#0d0887\"], [0.1111111111111111, \"#46039f\"], [0.2222222222222222, \"#7201a8\"], [0.3333333333333333, \"#9c179e\"], [0.4444444444444444, \"#bd3786\"], [0.5555555555555556, \"#d8576b\"], [0.6666666666666666, \"#ed7953\"], [0.7777777777777778, \"#fb9f3a\"], [0.8888888888888888, \"#fdca26\"], [1.0, \"#f0f921\"]], \"type\": \"contour\"}], \"contourcarpet\": [{\"colorbar\": {\"outlinewidth\": 0, \"ticks\": \"\"}, \"type\": \"contourcarpet\"}], \"heatmap\": [{\"colorbar\": {\"outlinewidth\": 0, \"ticks\": \"\"}, \"colorscale\": [[0.0, \"#0d0887\"], [0.1111111111111111, \"#46039f\"], [0.2222222222222222, \"#7201a8\"], [0.3333333333333333, \"#9c179e\"], [0.4444444444444444, \"#bd3786\"], [0.5555555555555556, \"#d8576b\"], [0.6666666666666666, \"#ed7953\"], [0.7777777777777778, \"#fb9f3a\"], [0.8888888888888888, \"#fdca26\"], [1.0, \"#f0f921\"]], \"type\": \"heatmap\"}], \"heatmapgl\": [{\"colorbar\": {\"outlinewidth\": 0, \"ticks\": \"\"}, \"colorscale\": [[0.0, \"#0d0887\"], [0.1111111111111111, \"#46039f\"], [0.2222222222222222, \"#7201a8\"], [0.3333333333333333, \"#9c179e\"], [0.4444444444444444, \"#bd3786\"], [0.5555555555555556, \"#d8576b\"], [0.6666666666666666, \"#ed7953\"], [0.7777777777777778, \"#fb9f3a\"], [0.8888888888888888, \"#fdca26\"], [1.0, \"#f0f921\"]], \"type\": \"heatmapgl\"}], \"histogram\": [{\"marker\": {\"colorbar\": {\"outlinewidth\": 0, \"ticks\": \"\"}}, \"type\": \"histogram\"}], \"histogram2d\": [{\"colorbar\": {\"outlinewidth\": 0, \"ticks\": \"\"}, \"colorscale\": [[0.0, \"#0d0887\"], [0.1111111111111111, \"#46039f\"], [0.2222222222222222, \"#7201a8\"], [0.3333333333333333, \"#9c179e\"], [0.4444444444444444, \"#bd3786\"], [0.5555555555555556, \"#d8576b\"], [0.6666666666666666, \"#ed7953\"], [0.7777777777777778, \"#fb9f3a\"], [0.8888888888888888, \"#fdca26\"], [1.0, \"#f0f921\"]], \"type\": \"histogram2d\"}], \"histogram2dcontour\": [{\"colorbar\": {\"outlinewidth\": 0, \"ticks\": \"\"}, \"colorscale\": [[0.0, \"#0d0887\"], [0.1111111111111111, \"#46039f\"], [0.2222222222222222, \"#7201a8\"], [0.3333333333333333, \"#9c179e\"], [0.4444444444444444, \"#bd3786\"], [0.5555555555555556, \"#d8576b\"], [0.6666666666666666, \"#ed7953\"], [0.7777777777777778, \"#fb9f3a\"], [0.8888888888888888, \"#fdca26\"], [1.0, \"#f0f921\"]], \"type\": \"histogram2dcontour\"}], \"mesh3d\": [{\"colorbar\": {\"outlinewidth\": 0, \"ticks\": \"\"}, \"type\": \"mesh3d\"}], \"parcoords\": [{\"line\": {\"colorbar\": {\"outlinewidth\": 0, \"ticks\": \"\"}}, \"type\": \"parcoords\"}], \"pie\": [{\"automargin\": true, \"type\": \"pie\"}], \"scatter\": [{\"marker\": {\"colorbar\": {\"outlinewidth\": 0, \"ticks\": \"\"}}, \"type\": \"scatter\"}], \"scatter3d\": [{\"line\": {\"colorbar\": {\"outlinewidth\": 0, \"ticks\": \"\"}}, \"marker\": {\"colorbar\": {\"outlinewidth\": 0, \"ticks\": \"\"}}, \"type\": \"scatter3d\"}], \"scattercarpet\": [{\"marker\": {\"colorbar\": {\"outlinewidth\": 0, \"ticks\": \"\"}}, \"type\": \"scattercarpet\"}], \"scattergeo\": [{\"marker\": {\"colorbar\": {\"outlinewidth\": 0, \"ticks\": \"\"}}, \"type\": \"scattergeo\"}], \"scattergl\": [{\"marker\": {\"colorbar\": {\"outlinewidth\": 0, \"ticks\": \"\"}}, \"type\": \"scattergl\"}], \"scattermapbox\": [{\"marker\": {\"colorbar\": {\"outlinewidth\": 0, \"ticks\": \"\"}}, \"type\": \"scattermapbox\"}], \"scatterpolar\": [{\"marker\": {\"colorbar\": {\"outlinewidth\": 0, \"ticks\": \"\"}}, \"type\": \"scatterpolar\"}], \"scatterpolargl\": [{\"marker\": {\"colorbar\": {\"outlinewidth\": 0, \"ticks\": \"\"}}, \"type\": \"scatterpolargl\"}], \"scatterternary\": [{\"marker\": {\"colorbar\": {\"outlinewidth\": 0, \"ticks\": \"\"}}, \"type\": \"scatterternary\"}], \"surface\": [{\"colorbar\": {\"outlinewidth\": 0, \"ticks\": \"\"}, \"colorscale\": [[0.0, \"#0d0887\"], [0.1111111111111111, \"#46039f\"], [0.2222222222222222, \"#7201a8\"], [0.3333333333333333, \"#9c179e\"], [0.4444444444444444, \"#bd3786\"], [0.5555555555555556, \"#d8576b\"], [0.6666666666666666, \"#ed7953\"], [0.7777777777777778, \"#fb9f3a\"], [0.8888888888888888, \"#fdca26\"], [1.0, \"#f0f921\"]], \"type\": \"surface\"}], \"table\": [{\"cells\": {\"fill\": {\"color\": \"#EBF0F8\"}, \"line\": {\"color\": \"white\"}}, \"header\": {\"fill\": {\"color\": \"#C8D4E3\"}, \"line\": {\"color\": \"white\"}}, \"type\": \"table\"}]}, \"layout\": {\"annotationdefaults\": {\"arrowcolor\": \"#2a3f5f\", \"arrowhead\": 0, \"arrowwidth\": 1}, \"coloraxis\": {\"colorbar\": {\"outlinewidth\": 0, \"ticks\": \"\"}}, \"colorscale\": {\"diverging\": [[0, \"#8e0152\"], [0.1, \"#c51b7d\"], [0.2, \"#de77ae\"], [0.3, \"#f1b6da\"], [0.4, \"#fde0ef\"], [0.5, \"#f7f7f7\"], [0.6, \"#e6f5d0\"], [0.7, \"#b8e186\"], [0.8, \"#7fbc41\"], [0.9, \"#4d9221\"], [1, \"#276419\"]], \"sequential\": [[0.0, \"#0d0887\"], [0.1111111111111111, \"#46039f\"], [0.2222222222222222, \"#7201a8\"], [0.3333333333333333, \"#9c179e\"], [0.4444444444444444, \"#bd3786\"], [0.5555555555555556, \"#d8576b\"], [0.6666666666666666, \"#ed7953\"], [0.7777777777777778, \"#fb9f3a\"], [0.8888888888888888, \"#fdca26\"], [1.0, \"#f0f921\"]], \"sequentialminus\": [[0.0, \"#0d0887\"], [0.1111111111111111, \"#46039f\"], [0.2222222222222222, \"#7201a8\"], [0.3333333333333333, \"#9c179e\"], [0.4444444444444444, \"#bd3786\"], [0.5555555555555556, \"#d8576b\"], [0.6666666666666666, \"#ed7953\"], [0.7777777777777778, \"#fb9f3a\"], [0.8888888888888888, \"#fdca26\"], [1.0, \"#f0f921\"]]}, \"colorway\": [\"#636efa\", \"#EF553B\", \"#00cc96\", \"#ab63fa\", \"#FFA15A\", \"#19d3f3\", \"#FF6692\", \"#B6E880\", \"#FF97FF\", \"#FECB52\"], \"font\": {\"color\": \"#2a3f5f\"}, \"geo\": {\"bgcolor\": \"white\", \"lakecolor\": \"white\", \"landcolor\": \"#E5ECF6\", \"showlakes\": true, \"showland\": true, \"subunitcolor\": \"white\"}, \"hoverlabel\": {\"align\": \"left\"}, \"hovermode\": \"closest\", \"mapbox\": {\"style\": \"light\"}, \"paper_bgcolor\": \"white\", \"plot_bgcolor\": \"#E5ECF6\", \"polar\": {\"angularaxis\": {\"gridcolor\": \"white\", \"linecolor\": \"white\", \"ticks\": \"\"}, \"bgcolor\": \"#E5ECF6\", \"radialaxis\": {\"gridcolor\": \"white\", \"linecolor\": \"white\", \"ticks\": \"\"}}, \"scene\": {\"xaxis\": {\"backgroundcolor\": \"#E5ECF6\", \"gridcolor\": \"white\", \"gridwidth\": 2, \"linecolor\": \"white\", \"showbackground\": true, \"ticks\": \"\", \"zerolinecolor\": \"white\"}, \"yaxis\": {\"backgroundcolor\": \"#E5ECF6\", \"gridcolor\": \"white\", \"gridwidth\": 2, \"linecolor\": \"white\", \"showbackground\": true, \"ticks\": \"\", \"zerolinecolor\": \"white\"}, \"zaxis\": {\"backgroundcolor\": \"#E5ECF6\", \"gridcolor\": \"white\", \"gridwidth\": 2, \"linecolor\": \"white\", \"showbackground\": true, \"ticks\": \"\", \"zerolinecolor\": \"white\"}}, \"shapedefaults\": {\"line\": {\"color\": \"#2a3f5f\"}}, \"ternary\": {\"aaxis\": {\"gridcolor\": \"white\", \"linecolor\": \"white\", \"ticks\": \"\"}, \"baxis\": {\"gridcolor\": \"white\", \"linecolor\": \"white\", \"ticks\": \"\"}, \"bgcolor\": \"#E5ECF6\", \"caxis\": {\"gridcolor\": \"white\", \"linecolor\": \"white\", \"ticks\": \"\"}}, \"title\": {\"x\": 0.05}, \"xaxis\": {\"automargin\": true, \"gridcolor\": \"white\", \"linecolor\": \"white\", \"ticks\": \"\", \"title\": {\"standoff\": 15}, \"zerolinecolor\": \"white\", \"zerolinewidth\": 2}, \"yaxis\": {\"automargin\": true, \"gridcolor\": \"white\", \"linecolor\": \"white\", \"ticks\": \"\", \"title\": {\"standoff\": 15}, \"zerolinecolor\": \"white\", \"zerolinewidth\": 2}}}, \"title\": {\"text\": \"Voting Metrics From 1976-2016\", \"x\": 0.5}, \"uniformtext\": {\"minsize\": 8, \"mode\": \"hide\"}, \"xaxis\": {\"tickvals\": [1976, 1980, 1984, 1988, 1992, 1996, 2000, 2004, 2008, 2012, 2016], \"title\": {\"text\": \"Year\"}}, \"yaxis\": {\"title\": {\"text\": \"Votes\"}}},                        {\"responsive\": true}                    ).then(function(){\n                            \nvar gd = document.getElementById('5eccdf81-5c4e-459d-91d4-9203c56a3779');\nvar x = new MutationObserver(function (mutations, observer) {{\n        var display = window.getComputedStyle(gd).display;\n        if (!display || display === 'none') {{\n            console.log([gd, 'removed!']);\n            Plotly.purge(gd);\n            observer.disconnect();\n        }}\n}});\n\n// Listen for the removal of the full notebook cells\nvar notebookContainer = gd.closest('#notebook-container');\nif (notebookContainer) {{\n    x.observe(notebookContainer, {childList: true});\n}}\n\n// Listen for the clearing of the current output cell\nvar outputEl = gd.closest('.output');\nif (outputEl) {{\n    x.observe(outputEl, {childList: true});\n}}\n\n                        })                };                });            </script>        </div>"
     },
     "metadata": {}
    }
   ],
   "source": [
    "import plotly as px\n",
    "import plotly.graph_objects as go\n",
    "\n",
    "fig = go.Figure(data=[\n",
    "    go.Bar(name='Estimated Population', x=election_years, y=[state_population_totals[yr] for yr in election_years]),\n",
    "    go.Bar(name='Voter Turnout', x=election_years, y=[total_votes[yr] for yr in election_years]),\n",
    "    go.Bar(name='Winner Votes', x=election_years, y=[winner_totals[yr] for yr in election_years]),\n",
    "    go.Bar(name='Runnerup Votes', x=election_years, y=[runnerup_totals[yr] for yr in election_years]),\n",
    "    go.Bar(name='Other Votes', x=election_years, y=[other_totals[yr] for yr in election_years])\n",
    "    \n",
    "])\n",
    "fig.update_layout(uniformtext_minsize=8, uniformtext_mode='hide', title=\"Voting Metrics From 1976-2016\",title_x=0.5,xaxis_title=\"Year\",\n",
    "yaxis_title=\"Votes\")\n",
    "\n",
    "fig.update_xaxes( tickvals = list(range(1976,2017,4)) ) \n",
    "\n",
    "    \n",
    "fig.show()"
   ]
  },
  {
   "cell_type": "markdown",
   "metadata": {},
   "source": [
    "## Plot Total Elections Won By Party for Each State"
   ]
  },
  {
   "cell_type": "code",
   "execution_count": 7,
   "metadata": {
    "scrolled": true
   },
   "outputs": [
    {
     "output_type": "display_data",
     "data": {
      "application/vnd.plotly.v1+json": {
       "config": {
        "plotlyServerURL": "https://plot.ly"
       },
       "data": [
        {
         "name": "Democratic Elections Won",
         "type": "bar",
         "x": [
          "AL",
          "AK",
          "AZ",
          "AR",
          "CA",
          "CO",
          "CT",
          "DE",
          "DC",
          "FL",
          "GA",
          "HI",
          "ID",
          "IL",
          "IN",
          "IA",
          "KS",
          "KY",
          "LA",
          "ME",
          "MD",
          "MA",
          "MI",
          "MN",
          "MS",
          "MO",
          "MT",
          "NE",
          "NV",
          "NH",
          "NJ",
          "NM",
          "NY",
          "NC",
          "ND",
          "OH",
          "OK",
          "OR",
          "PA",
          "RI",
          "SC",
          "SD",
          "TN",
          "TX",
          "UT",
          "VT",
          "VA",
          "WA",
          "WV",
          "WI",
          "WY"
         ],
         "y": [
          1,
          0,
          1,
          3,
          7,
          4,
          7,
          8,
          11,
          4,
          3,
          10,
          0,
          7,
          1,
          6,
          0,
          3,
          3,
          7,
          9,
          9,
          6,
          11,
          1,
          3,
          1,
          0,
          5,
          6,
          7,
          6,
          10,
          2,
          0,
          5,
          0,
          8,
          7,
          10,
          1,
          0,
          3,
          1,
          0,
          7,
          3,
          8,
          5,
          8,
          0
         ]
        },
        {
         "name": "Republican Elections Won",
         "type": "bar",
         "x": [
          "AL",
          "AK",
          "AZ",
          "AR",
          "CA",
          "CO",
          "CT",
          "DE",
          "DC",
          "FL",
          "GA",
          "HI",
          "ID",
          "IL",
          "IN",
          "IA",
          "KS",
          "KY",
          "LA",
          "ME",
          "MD",
          "MA",
          "MI",
          "MN",
          "MS",
          "MO",
          "MT",
          "NE",
          "NV",
          "NH",
          "NJ",
          "NM",
          "NY",
          "NC",
          "ND",
          "OH",
          "OK",
          "OR",
          "PA",
          "RI",
          "SC",
          "SD",
          "TN",
          "TX",
          "UT",
          "VT",
          "VA",
          "WA",
          "WV",
          "WI",
          "WY"
         ],
         "y": [
          10,
          11,
          10,
          8,
          4,
          7,
          4,
          3,
          0,
          7,
          8,
          1,
          11,
          4,
          10,
          5,
          11,
          8,
          8,
          4,
          2,
          2,
          5,
          0,
          10,
          8,
          10,
          11,
          6,
          5,
          4,
          5,
          1,
          9,
          11,
          6,
          11,
          3,
          4,
          1,
          10,
          11,
          8,
          10,
          11,
          4,
          8,
          3,
          6,
          3,
          11
         ]
        }
       ],
       "layout": {
        "margin": {
         "b": 30,
         "l": 30,
         "r": 30,
         "t": 30
        },
        "template": {
         "data": {
          "bar": [
           {
            "error_x": {
             "color": "#2a3f5f"
            },
            "error_y": {
             "color": "#2a3f5f"
            },
            "marker": {
             "line": {
              "color": "#E5ECF6",
              "width": 0.5
             }
            },
            "type": "bar"
           }
          ],
          "barpolar": [
           {
            "marker": {
             "line": {
              "color": "#E5ECF6",
              "width": 0.5
             }
            },
            "type": "barpolar"
           }
          ],
          "carpet": [
           {
            "aaxis": {
             "endlinecolor": "#2a3f5f",
             "gridcolor": "white",
             "linecolor": "white",
             "minorgridcolor": "white",
             "startlinecolor": "#2a3f5f"
            },
            "baxis": {
             "endlinecolor": "#2a3f5f",
             "gridcolor": "white",
             "linecolor": "white",
             "minorgridcolor": "white",
             "startlinecolor": "#2a3f5f"
            },
            "type": "carpet"
           }
          ],
          "choropleth": [
           {
            "colorbar": {
             "outlinewidth": 0,
             "ticks": ""
            },
            "type": "choropleth"
           }
          ],
          "contour": [
           {
            "colorbar": {
             "outlinewidth": 0,
             "ticks": ""
            },
            "colorscale": [
             [
              0,
              "#0d0887"
             ],
             [
              0.1111111111111111,
              "#46039f"
             ],
             [
              0.2222222222222222,
              "#7201a8"
             ],
             [
              0.3333333333333333,
              "#9c179e"
             ],
             [
              0.4444444444444444,
              "#bd3786"
             ],
             [
              0.5555555555555556,
              "#d8576b"
             ],
             [
              0.6666666666666666,
              "#ed7953"
             ],
             [
              0.7777777777777778,
              "#fb9f3a"
             ],
             [
              0.8888888888888888,
              "#fdca26"
             ],
             [
              1,
              "#f0f921"
             ]
            ],
            "type": "contour"
           }
          ],
          "contourcarpet": [
           {
            "colorbar": {
             "outlinewidth": 0,
             "ticks": ""
            },
            "type": "contourcarpet"
           }
          ],
          "heatmap": [
           {
            "colorbar": {
             "outlinewidth": 0,
             "ticks": ""
            },
            "colorscale": [
             [
              0,
              "#0d0887"
             ],
             [
              0.1111111111111111,
              "#46039f"
             ],
             [
              0.2222222222222222,
              "#7201a8"
             ],
             [
              0.3333333333333333,
              "#9c179e"
             ],
             [
              0.4444444444444444,
              "#bd3786"
             ],
             [
              0.5555555555555556,
              "#d8576b"
             ],
             [
              0.6666666666666666,
              "#ed7953"
             ],
             [
              0.7777777777777778,
              "#fb9f3a"
             ],
             [
              0.8888888888888888,
              "#fdca26"
             ],
             [
              1,
              "#f0f921"
             ]
            ],
            "type": "heatmap"
           }
          ],
          "heatmapgl": [
           {
            "colorbar": {
             "outlinewidth": 0,
             "ticks": ""
            },
            "colorscale": [
             [
              0,
              "#0d0887"
             ],
             [
              0.1111111111111111,
              "#46039f"
             ],
             [
              0.2222222222222222,
              "#7201a8"
             ],
             [
              0.3333333333333333,
              "#9c179e"
             ],
             [
              0.4444444444444444,
              "#bd3786"
             ],
             [
              0.5555555555555556,
              "#d8576b"
             ],
             [
              0.6666666666666666,
              "#ed7953"
             ],
             [
              0.7777777777777778,
              "#fb9f3a"
             ],
             [
              0.8888888888888888,
              "#fdca26"
             ],
             [
              1,
              "#f0f921"
             ]
            ],
            "type": "heatmapgl"
           }
          ],
          "histogram": [
           {
            "marker": {
             "colorbar": {
              "outlinewidth": 0,
              "ticks": ""
             }
            },
            "type": "histogram"
           }
          ],
          "histogram2d": [
           {
            "colorbar": {
             "outlinewidth": 0,
             "ticks": ""
            },
            "colorscale": [
             [
              0,
              "#0d0887"
             ],
             [
              0.1111111111111111,
              "#46039f"
             ],
             [
              0.2222222222222222,
              "#7201a8"
             ],
             [
              0.3333333333333333,
              "#9c179e"
             ],
             [
              0.4444444444444444,
              "#bd3786"
             ],
             [
              0.5555555555555556,
              "#d8576b"
             ],
             [
              0.6666666666666666,
              "#ed7953"
             ],
             [
              0.7777777777777778,
              "#fb9f3a"
             ],
             [
              0.8888888888888888,
              "#fdca26"
             ],
             [
              1,
              "#f0f921"
             ]
            ],
            "type": "histogram2d"
           }
          ],
          "histogram2dcontour": [
           {
            "colorbar": {
             "outlinewidth": 0,
             "ticks": ""
            },
            "colorscale": [
             [
              0,
              "#0d0887"
             ],
             [
              0.1111111111111111,
              "#46039f"
             ],
             [
              0.2222222222222222,
              "#7201a8"
             ],
             [
              0.3333333333333333,
              "#9c179e"
             ],
             [
              0.4444444444444444,
              "#bd3786"
             ],
             [
              0.5555555555555556,
              "#d8576b"
             ],
             [
              0.6666666666666666,
              "#ed7953"
             ],
             [
              0.7777777777777778,
              "#fb9f3a"
             ],
             [
              0.8888888888888888,
              "#fdca26"
             ],
             [
              1,
              "#f0f921"
             ]
            ],
            "type": "histogram2dcontour"
           }
          ],
          "mesh3d": [
           {
            "colorbar": {
             "outlinewidth": 0,
             "ticks": ""
            },
            "type": "mesh3d"
           }
          ],
          "parcoords": [
           {
            "line": {
             "colorbar": {
              "outlinewidth": 0,
              "ticks": ""
             }
            },
            "type": "parcoords"
           }
          ],
          "pie": [
           {
            "automargin": true,
            "type": "pie"
           }
          ],
          "scatter": [
           {
            "marker": {
             "colorbar": {
              "outlinewidth": 0,
              "ticks": ""
             }
            },
            "type": "scatter"
           }
          ],
          "scatter3d": [
           {
            "line": {
             "colorbar": {
              "outlinewidth": 0,
              "ticks": ""
             }
            },
            "marker": {
             "colorbar": {
              "outlinewidth": 0,
              "ticks": ""
             }
            },
            "type": "scatter3d"
           }
          ],
          "scattercarpet": [
           {
            "marker": {
             "colorbar": {
              "outlinewidth": 0,
              "ticks": ""
             }
            },
            "type": "scattercarpet"
           }
          ],
          "scattergeo": [
           {
            "marker": {
             "colorbar": {
              "outlinewidth": 0,
              "ticks": ""
             }
            },
            "type": "scattergeo"
           }
          ],
          "scattergl": [
           {
            "marker": {
             "colorbar": {
              "outlinewidth": 0,
              "ticks": ""
             }
            },
            "type": "scattergl"
           }
          ],
          "scattermapbox": [
           {
            "marker": {
             "colorbar": {
              "outlinewidth": 0,
              "ticks": ""
             }
            },
            "type": "scattermapbox"
           }
          ],
          "scatterpolar": [
           {
            "marker": {
             "colorbar": {
              "outlinewidth": 0,
              "ticks": ""
             }
            },
            "type": "scatterpolar"
           }
          ],
          "scatterpolargl": [
           {
            "marker": {
             "colorbar": {
              "outlinewidth": 0,
              "ticks": ""
             }
            },
            "type": "scatterpolargl"
           }
          ],
          "scatterternary": [
           {
            "marker": {
             "colorbar": {
              "outlinewidth": 0,
              "ticks": ""
             }
            },
            "type": "scatterternary"
           }
          ],
          "surface": [
           {
            "colorbar": {
             "outlinewidth": 0,
             "ticks": ""
            },
            "colorscale": [
             [
              0,
              "#0d0887"
             ],
             [
              0.1111111111111111,
              "#46039f"
             ],
             [
              0.2222222222222222,
              "#7201a8"
             ],
             [
              0.3333333333333333,
              "#9c179e"
             ],
             [
              0.4444444444444444,
              "#bd3786"
             ],
             [
              0.5555555555555556,
              "#d8576b"
             ],
             [
              0.6666666666666666,
              "#ed7953"
             ],
             [
              0.7777777777777778,
              "#fb9f3a"
             ],
             [
              0.8888888888888888,
              "#fdca26"
             ],
             [
              1,
              "#f0f921"
             ]
            ],
            "type": "surface"
           }
          ],
          "table": [
           {
            "cells": {
             "fill": {
              "color": "#EBF0F8"
             },
             "line": {
              "color": "white"
             }
            },
            "header": {
             "fill": {
              "color": "#C8D4E3"
             },
             "line": {
              "color": "white"
             }
            },
            "type": "table"
           }
          ]
         },
         "layout": {
          "annotationdefaults": {
           "arrowcolor": "#2a3f5f",
           "arrowhead": 0,
           "arrowwidth": 1
          },
          "coloraxis": {
           "colorbar": {
            "outlinewidth": 0,
            "ticks": ""
           }
          },
          "colorscale": {
           "diverging": [
            [
             0,
             "#8e0152"
            ],
            [
             0.1,
             "#c51b7d"
            ],
            [
             0.2,
             "#de77ae"
            ],
            [
             0.3,
             "#f1b6da"
            ],
            [
             0.4,
             "#fde0ef"
            ],
            [
             0.5,
             "#f7f7f7"
            ],
            [
             0.6,
             "#e6f5d0"
            ],
            [
             0.7,
             "#b8e186"
            ],
            [
             0.8,
             "#7fbc41"
            ],
            [
             0.9,
             "#4d9221"
            ],
            [
             1,
             "#276419"
            ]
           ],
           "sequential": [
            [
             0,
             "#0d0887"
            ],
            [
             0.1111111111111111,
             "#46039f"
            ],
            [
             0.2222222222222222,
             "#7201a8"
            ],
            [
             0.3333333333333333,
             "#9c179e"
            ],
            [
             0.4444444444444444,
             "#bd3786"
            ],
            [
             0.5555555555555556,
             "#d8576b"
            ],
            [
             0.6666666666666666,
             "#ed7953"
            ],
            [
             0.7777777777777778,
             "#fb9f3a"
            ],
            [
             0.8888888888888888,
             "#fdca26"
            ],
            [
             1,
             "#f0f921"
            ]
           ],
           "sequentialminus": [
            [
             0,
             "#0d0887"
            ],
            [
             0.1111111111111111,
             "#46039f"
            ],
            [
             0.2222222222222222,
             "#7201a8"
            ],
            [
             0.3333333333333333,
             "#9c179e"
            ],
            [
             0.4444444444444444,
             "#bd3786"
            ],
            [
             0.5555555555555556,
             "#d8576b"
            ],
            [
             0.6666666666666666,
             "#ed7953"
            ],
            [
             0.7777777777777778,
             "#fb9f3a"
            ],
            [
             0.8888888888888888,
             "#fdca26"
            ],
            [
             1,
             "#f0f921"
            ]
           ]
          },
          "colorway": [
           "#636efa",
           "#EF553B",
           "#00cc96",
           "#ab63fa",
           "#FFA15A",
           "#19d3f3",
           "#FF6692",
           "#B6E880",
           "#FF97FF",
           "#FECB52"
          ],
          "font": {
           "color": "#2a3f5f"
          },
          "geo": {
           "bgcolor": "white",
           "lakecolor": "white",
           "landcolor": "#E5ECF6",
           "showlakes": true,
           "showland": true,
           "subunitcolor": "white"
          },
          "hoverlabel": {
           "align": "left"
          },
          "hovermode": "closest",
          "mapbox": {
           "style": "light"
          },
          "paper_bgcolor": "white",
          "plot_bgcolor": "#E5ECF6",
          "polar": {
           "angularaxis": {
            "gridcolor": "white",
            "linecolor": "white",
            "ticks": ""
           },
           "bgcolor": "#E5ECF6",
           "radialaxis": {
            "gridcolor": "white",
            "linecolor": "white",
            "ticks": ""
           }
          },
          "scene": {
           "xaxis": {
            "backgroundcolor": "#E5ECF6",
            "gridcolor": "white",
            "gridwidth": 2,
            "linecolor": "white",
            "showbackground": true,
            "ticks": "",
            "zerolinecolor": "white"
           },
           "yaxis": {
            "backgroundcolor": "#E5ECF6",
            "gridcolor": "white",
            "gridwidth": 2,
            "linecolor": "white",
            "showbackground": true,
            "ticks": "",
            "zerolinecolor": "white"
           },
           "zaxis": {
            "backgroundcolor": "#E5ECF6",
            "gridcolor": "white",
            "gridwidth": 2,
            "linecolor": "white",
            "showbackground": true,
            "ticks": "",
            "zerolinecolor": "white"
           }
          },
          "shapedefaults": {
           "line": {
            "color": "#2a3f5f"
           }
          },
          "ternary": {
           "aaxis": {
            "gridcolor": "white",
            "linecolor": "white",
            "ticks": ""
           },
           "baxis": {
            "gridcolor": "white",
            "linecolor": "white",
            "ticks": ""
           },
           "bgcolor": "#E5ECF6",
           "caxis": {
            "gridcolor": "white",
            "linecolor": "white",
            "ticks": ""
           }
          },
          "title": {
           "x": 0.05
          },
          "xaxis": {
           "automargin": true,
           "gridcolor": "white",
           "linecolor": "white",
           "ticks": "",
           "title": {
            "standoff": 15
           },
           "zerolinecolor": "white",
           "zerolinewidth": 2
          },
          "yaxis": {
           "automargin": true,
           "gridcolor": "white",
           "linecolor": "white",
           "ticks": "",
           "title": {
            "standoff": 15
           },
           "zerolinecolor": "white",
           "zerolinewidth": 2
          }
         }
        },
        "title": {
         "text": "Total Elections Won by Party vs State 1976-2016",
         "x": 0.5
        },
        "uniformtext": {
         "minsize": 8,
         "mode": "hide"
        },
        "xaxis": {
         "tickmode": "linear",
         "title": {
          "text": "State"
         }
        },
        "yaxis": {
         "autorange": false,
         "dtick": 1,
         "range": [
          0,
          12
         ],
         "title": {
          "text": "Number of Elections Won"
         }
        }
       }
      },
      "text/html": "<div>                            <div id=\"2fb0214b-2553-4f75-9bb2-5520db6796cb\" class=\"plotly-graph-div\" style=\"height:525px; width:100%;\"></div>            <script type=\"text/javascript\">                require([\"plotly\"], function(Plotly) {                    window.PLOTLYENV=window.PLOTLYENV || {};                                    if (document.getElementById(\"2fb0214b-2553-4f75-9bb2-5520db6796cb\")) {                    Plotly.newPlot(                        \"2fb0214b-2553-4f75-9bb2-5520db6796cb\",                        [{\"name\": \"Democratic Elections Won\", \"type\": \"bar\", \"x\": [\"AL\", \"AK\", \"AZ\", \"AR\", \"CA\", \"CO\", \"CT\", \"DE\", \"DC\", \"FL\", \"GA\", \"HI\", \"ID\", \"IL\", \"IN\", \"IA\", \"KS\", \"KY\", \"LA\", \"ME\", \"MD\", \"MA\", \"MI\", \"MN\", \"MS\", \"MO\", \"MT\", \"NE\", \"NV\", \"NH\", \"NJ\", \"NM\", \"NY\", \"NC\", \"ND\", \"OH\", \"OK\", \"OR\", \"PA\", \"RI\", \"SC\", \"SD\", \"TN\", \"TX\", \"UT\", \"VT\", \"VA\", \"WA\", \"WV\", \"WI\", \"WY\"], \"y\": [1, 0, 1, 3, 7, 4, 7, 8, 11, 4, 3, 10, 0, 7, 1, 6, 0, 3, 3, 7, 9, 9, 6, 11, 1, 3, 1, 0, 5, 6, 7, 6, 10, 2, 0, 5, 0, 8, 7, 10, 1, 0, 3, 1, 0, 7, 3, 8, 5, 8, 0]}, {\"name\": \"Republican Elections Won\", \"type\": \"bar\", \"x\": [\"AL\", \"AK\", \"AZ\", \"AR\", \"CA\", \"CO\", \"CT\", \"DE\", \"DC\", \"FL\", \"GA\", \"HI\", \"ID\", \"IL\", \"IN\", \"IA\", \"KS\", \"KY\", \"LA\", \"ME\", \"MD\", \"MA\", \"MI\", \"MN\", \"MS\", \"MO\", \"MT\", \"NE\", \"NV\", \"NH\", \"NJ\", \"NM\", \"NY\", \"NC\", \"ND\", \"OH\", \"OK\", \"OR\", \"PA\", \"RI\", \"SC\", \"SD\", \"TN\", \"TX\", \"UT\", \"VT\", \"VA\", \"WA\", \"WV\", \"WI\", \"WY\"], \"y\": [10, 11, 10, 8, 4, 7, 4, 3, 0, 7, 8, 1, 11, 4, 10, 5, 11, 8, 8, 4, 2, 2, 5, 0, 10, 8, 10, 11, 6, 5, 4, 5, 1, 9, 11, 6, 11, 3, 4, 1, 10, 11, 8, 10, 11, 4, 8, 3, 6, 3, 11]}],                        {\"margin\": {\"b\": 30, \"l\": 30, \"r\": 30, \"t\": 30}, \"template\": {\"data\": {\"bar\": [{\"error_x\": {\"color\": \"#2a3f5f\"}, \"error_y\": {\"color\": \"#2a3f5f\"}, \"marker\": {\"line\": {\"color\": \"#E5ECF6\", \"width\": 0.5}}, \"type\": \"bar\"}], \"barpolar\": [{\"marker\": {\"line\": {\"color\": \"#E5ECF6\", \"width\": 0.5}}, \"type\": \"barpolar\"}], \"carpet\": [{\"aaxis\": {\"endlinecolor\": \"#2a3f5f\", \"gridcolor\": \"white\", \"linecolor\": \"white\", \"minorgridcolor\": \"white\", \"startlinecolor\": \"#2a3f5f\"}, \"baxis\": {\"endlinecolor\": \"#2a3f5f\", \"gridcolor\": \"white\", \"linecolor\": \"white\", \"minorgridcolor\": \"white\", \"startlinecolor\": \"#2a3f5f\"}, \"type\": \"carpet\"}], \"choropleth\": [{\"colorbar\": {\"outlinewidth\": 0, \"ticks\": \"\"}, \"type\": \"choropleth\"}], \"contour\": [{\"colorbar\": {\"outlinewidth\": 0, \"ticks\": \"\"}, \"colorscale\": [[0.0, \"#0d0887\"], [0.1111111111111111, \"#46039f\"], [0.2222222222222222, \"#7201a8\"], [0.3333333333333333, \"#9c179e\"], [0.4444444444444444, \"#bd3786\"], [0.5555555555555556, \"#d8576b\"], [0.6666666666666666, \"#ed7953\"], [0.7777777777777778, \"#fb9f3a\"], [0.8888888888888888, \"#fdca26\"], [1.0, \"#f0f921\"]], \"type\": \"contour\"}], \"contourcarpet\": [{\"colorbar\": {\"outlinewidth\": 0, \"ticks\": \"\"}, \"type\": \"contourcarpet\"}], \"heatmap\": [{\"colorbar\": {\"outlinewidth\": 0, \"ticks\": \"\"}, \"colorscale\": [[0.0, \"#0d0887\"], [0.1111111111111111, \"#46039f\"], [0.2222222222222222, \"#7201a8\"], [0.3333333333333333, \"#9c179e\"], [0.4444444444444444, \"#bd3786\"], [0.5555555555555556, \"#d8576b\"], [0.6666666666666666, \"#ed7953\"], [0.7777777777777778, \"#fb9f3a\"], [0.8888888888888888, \"#fdca26\"], [1.0, \"#f0f921\"]], \"type\": \"heatmap\"}], \"heatmapgl\": [{\"colorbar\": {\"outlinewidth\": 0, \"ticks\": \"\"}, \"colorscale\": [[0.0, \"#0d0887\"], [0.1111111111111111, \"#46039f\"], [0.2222222222222222, \"#7201a8\"], [0.3333333333333333, \"#9c179e\"], [0.4444444444444444, \"#bd3786\"], [0.5555555555555556, \"#d8576b\"], [0.6666666666666666, \"#ed7953\"], [0.7777777777777778, \"#fb9f3a\"], [0.8888888888888888, \"#fdca26\"], [1.0, \"#f0f921\"]], \"type\": \"heatmapgl\"}], \"histogram\": [{\"marker\": {\"colorbar\": {\"outlinewidth\": 0, \"ticks\": \"\"}}, \"type\": \"histogram\"}], \"histogram2d\": [{\"colorbar\": {\"outlinewidth\": 0, \"ticks\": \"\"}, \"colorscale\": [[0.0, \"#0d0887\"], [0.1111111111111111, \"#46039f\"], [0.2222222222222222, \"#7201a8\"], [0.3333333333333333, \"#9c179e\"], [0.4444444444444444, \"#bd3786\"], [0.5555555555555556, \"#d8576b\"], [0.6666666666666666, \"#ed7953\"], [0.7777777777777778, \"#fb9f3a\"], [0.8888888888888888, \"#fdca26\"], [1.0, \"#f0f921\"]], \"type\": \"histogram2d\"}], \"histogram2dcontour\": [{\"colorbar\": {\"outlinewidth\": 0, \"ticks\": \"\"}, \"colorscale\": [[0.0, \"#0d0887\"], [0.1111111111111111, \"#46039f\"], [0.2222222222222222, \"#7201a8\"], [0.3333333333333333, \"#9c179e\"], [0.4444444444444444, \"#bd3786\"], [0.5555555555555556, \"#d8576b\"], [0.6666666666666666, \"#ed7953\"], [0.7777777777777778, \"#fb9f3a\"], [0.8888888888888888, \"#fdca26\"], [1.0, \"#f0f921\"]], \"type\": \"histogram2dcontour\"}], \"mesh3d\": [{\"colorbar\": {\"outlinewidth\": 0, \"ticks\": \"\"}, \"type\": \"mesh3d\"}], \"parcoords\": [{\"line\": {\"colorbar\": {\"outlinewidth\": 0, \"ticks\": \"\"}}, \"type\": \"parcoords\"}], \"pie\": [{\"automargin\": true, \"type\": \"pie\"}], \"scatter\": [{\"marker\": {\"colorbar\": {\"outlinewidth\": 0, \"ticks\": \"\"}}, \"type\": \"scatter\"}], \"scatter3d\": [{\"line\": {\"colorbar\": {\"outlinewidth\": 0, \"ticks\": \"\"}}, \"marker\": {\"colorbar\": {\"outlinewidth\": 0, \"ticks\": \"\"}}, \"type\": \"scatter3d\"}], \"scattercarpet\": [{\"marker\": {\"colorbar\": {\"outlinewidth\": 0, \"ticks\": \"\"}}, \"type\": \"scattercarpet\"}], \"scattergeo\": [{\"marker\": {\"colorbar\": {\"outlinewidth\": 0, \"ticks\": \"\"}}, \"type\": \"scattergeo\"}], \"scattergl\": [{\"marker\": {\"colorbar\": {\"outlinewidth\": 0, \"ticks\": \"\"}}, \"type\": \"scattergl\"}], \"scattermapbox\": [{\"marker\": {\"colorbar\": {\"outlinewidth\": 0, \"ticks\": \"\"}}, \"type\": \"scattermapbox\"}], \"scatterpolar\": [{\"marker\": {\"colorbar\": {\"outlinewidth\": 0, \"ticks\": \"\"}}, \"type\": \"scatterpolar\"}], \"scatterpolargl\": [{\"marker\": {\"colorbar\": {\"outlinewidth\": 0, \"ticks\": \"\"}}, \"type\": \"scatterpolargl\"}], \"scatterternary\": [{\"marker\": {\"colorbar\": {\"outlinewidth\": 0, \"ticks\": \"\"}}, \"type\": \"scatterternary\"}], \"surface\": [{\"colorbar\": {\"outlinewidth\": 0, \"ticks\": \"\"}, \"colorscale\": [[0.0, \"#0d0887\"], [0.1111111111111111, \"#46039f\"], [0.2222222222222222, \"#7201a8\"], [0.3333333333333333, \"#9c179e\"], [0.4444444444444444, \"#bd3786\"], [0.5555555555555556, \"#d8576b\"], [0.6666666666666666, \"#ed7953\"], [0.7777777777777778, \"#fb9f3a\"], [0.8888888888888888, \"#fdca26\"], [1.0, \"#f0f921\"]], \"type\": \"surface\"}], \"table\": [{\"cells\": {\"fill\": {\"color\": \"#EBF0F8\"}, \"line\": {\"color\": \"white\"}}, \"header\": {\"fill\": {\"color\": \"#C8D4E3\"}, \"line\": {\"color\": \"white\"}}, \"type\": \"table\"}]}, \"layout\": {\"annotationdefaults\": {\"arrowcolor\": \"#2a3f5f\", \"arrowhead\": 0, \"arrowwidth\": 1}, \"coloraxis\": {\"colorbar\": {\"outlinewidth\": 0, \"ticks\": \"\"}}, \"colorscale\": {\"diverging\": [[0, \"#8e0152\"], [0.1, \"#c51b7d\"], [0.2, \"#de77ae\"], [0.3, \"#f1b6da\"], [0.4, \"#fde0ef\"], [0.5, \"#f7f7f7\"], [0.6, \"#e6f5d0\"], [0.7, \"#b8e186\"], [0.8, \"#7fbc41\"], [0.9, \"#4d9221\"], [1, \"#276419\"]], \"sequential\": [[0.0, \"#0d0887\"], [0.1111111111111111, \"#46039f\"], [0.2222222222222222, \"#7201a8\"], [0.3333333333333333, \"#9c179e\"], [0.4444444444444444, \"#bd3786\"], [0.5555555555555556, \"#d8576b\"], [0.6666666666666666, \"#ed7953\"], [0.7777777777777778, \"#fb9f3a\"], [0.8888888888888888, \"#fdca26\"], [1.0, \"#f0f921\"]], \"sequentialminus\": [[0.0, \"#0d0887\"], [0.1111111111111111, \"#46039f\"], [0.2222222222222222, \"#7201a8\"], [0.3333333333333333, \"#9c179e\"], [0.4444444444444444, \"#bd3786\"], [0.5555555555555556, \"#d8576b\"], [0.6666666666666666, \"#ed7953\"], [0.7777777777777778, \"#fb9f3a\"], [0.8888888888888888, \"#fdca26\"], [1.0, \"#f0f921\"]]}, \"colorway\": [\"#636efa\", \"#EF553B\", \"#00cc96\", \"#ab63fa\", \"#FFA15A\", \"#19d3f3\", \"#FF6692\", \"#B6E880\", \"#FF97FF\", \"#FECB52\"], \"font\": {\"color\": \"#2a3f5f\"}, \"geo\": {\"bgcolor\": \"white\", \"lakecolor\": \"white\", \"landcolor\": \"#E5ECF6\", \"showlakes\": true, \"showland\": true, \"subunitcolor\": \"white\"}, \"hoverlabel\": {\"align\": \"left\"}, \"hovermode\": \"closest\", \"mapbox\": {\"style\": \"light\"}, \"paper_bgcolor\": \"white\", \"plot_bgcolor\": \"#E5ECF6\", \"polar\": {\"angularaxis\": {\"gridcolor\": \"white\", \"linecolor\": \"white\", \"ticks\": \"\"}, \"bgcolor\": \"#E5ECF6\", \"radialaxis\": {\"gridcolor\": \"white\", \"linecolor\": \"white\", \"ticks\": \"\"}}, \"scene\": {\"xaxis\": {\"backgroundcolor\": \"#E5ECF6\", \"gridcolor\": \"white\", \"gridwidth\": 2, \"linecolor\": \"white\", \"showbackground\": true, \"ticks\": \"\", \"zerolinecolor\": \"white\"}, \"yaxis\": {\"backgroundcolor\": \"#E5ECF6\", \"gridcolor\": \"white\", \"gridwidth\": 2, \"linecolor\": \"white\", \"showbackground\": true, \"ticks\": \"\", \"zerolinecolor\": \"white\"}, \"zaxis\": {\"backgroundcolor\": \"#E5ECF6\", \"gridcolor\": \"white\", \"gridwidth\": 2, \"linecolor\": \"white\", \"showbackground\": true, \"ticks\": \"\", \"zerolinecolor\": \"white\"}}, \"shapedefaults\": {\"line\": {\"color\": \"#2a3f5f\"}}, \"ternary\": {\"aaxis\": {\"gridcolor\": \"white\", \"linecolor\": \"white\", \"ticks\": \"\"}, \"baxis\": {\"gridcolor\": \"white\", \"linecolor\": \"white\", \"ticks\": \"\"}, \"bgcolor\": \"#E5ECF6\", \"caxis\": {\"gridcolor\": \"white\", \"linecolor\": \"white\", \"ticks\": \"\"}}, \"title\": {\"x\": 0.05}, \"xaxis\": {\"automargin\": true, \"gridcolor\": \"white\", \"linecolor\": \"white\", \"ticks\": \"\", \"title\": {\"standoff\": 15}, \"zerolinecolor\": \"white\", \"zerolinewidth\": 2}, \"yaxis\": {\"automargin\": true, \"gridcolor\": \"white\", \"linecolor\": \"white\", \"ticks\": \"\", \"title\": {\"standoff\": 15}, \"zerolinecolor\": \"white\", \"zerolinewidth\": 2}}}, \"title\": {\"text\": \"Total Elections Won by Party vs State 1976-2016\", \"x\": 0.5}, \"uniformtext\": {\"minsize\": 8, \"mode\": \"hide\"}, \"xaxis\": {\"tickmode\": \"linear\", \"title\": {\"text\": \"State\"}}, \"yaxis\": {\"autorange\": false, \"dtick\": 1, \"range\": [0, 12], \"title\": {\"text\": \"Number of Elections Won\"}}},                        {\"responsive\": true}                    ).then(function(){\n                            \nvar gd = document.getElementById('2fb0214b-2553-4f75-9bb2-5520db6796cb');\nvar x = new MutationObserver(function (mutations, observer) {{\n        var display = window.getComputedStyle(gd).display;\n        if (!display || display === 'none') {{\n            console.log([gd, 'removed!']);\n            Plotly.purge(gd);\n            observer.disconnect();\n        }}\n}});\n\n// Listen for the removal of the full notebook cells\nvar notebookContainer = gd.closest('#notebook-container');\nif (notebookContainer) {{\n    x.observe(notebookContainer, {childList: true});\n}}\n\n// Listen for the clearing of the current output cell\nvar outputEl = gd.closest('.output');\nif (outputEl) {{\n    x.observe(outputEl, {childList: true});\n}}\n\n                        })                };                });            </script>        </div>"
     },
     "metadata": {}
    }
   ],
   "source": [
    "#state_leans\n",
    "\n",
    "import plotly as px\n",
    "import plotly.graph_objects as go\n",
    "\n",
    "\n",
    "#List meant to hold \"Democrat\" or \"Republican\" labels for each state\n",
    "#elections won each year, used for a linear regression\n",
    "#Y = []\n",
    "#Y2 = []\n",
    "\n",
    "\n",
    "# 0 is dem 1 is rep\n",
    "state_lean_by_winners = OrderedDict((state,[0,0]) for state in states)\n",
    "\n",
    "for YEAR, STATES in slides.items():\n",
    "    for state, election_info in STATES.items():\n",
    "        if(election_info.winner_party == \"democrat\"):\n",
    "            state_lean_by_winners[state][0] += 1\n",
    "            #appends 0 if democrat\n",
    "            #Y.append(0)\n",
    "        else:\n",
    "            state_lean_by_winners[state][1] += 1\n",
    "            #appends 1 if republican\n",
    "            #Y.append(1)\n",
    "\n",
    "\n",
    "fig = go.Figure(data=[\n",
    "    go.Bar(name='Democratic Elections Won', x=state_codes, y=[x[0] for x in state_lean_by_winners.values()]),\n",
    "    go.Bar(name='Republican Elections Won', x=state_codes, y=[x[1] for x in state_lean_by_winners.values()]),\n",
    "    \n",
    "    \n",
    "])\n",
    "fig.update_layout(uniformtext_minsize=8, uniformtext_mode='hide', title=\"Total Elections Won by Party vs State 1976-2016\",title_x=0.5)\n",
    "fig['layout']['yaxis1'].update( range=[0, 12], dtick=1, autorange=False)\n",
    "fig['layout']['xaxis1'].update(tickmode='linear')\n",
    "fig.update_layout(\n",
    "    margin=dict(l=30, r=30, t=30, b=30),\n",
    "    xaxis_title=\"State\",\n",
    "    yaxis_title=\"Number of Elections Won\"\n",
    "\n",
    ")\n",
    "fig.show()\n",
    "# download these plots from jupyter since plotly write_image messes up plot \n",
    ""
   ]
  },
  {
   "cell_type": "markdown",
   "metadata": {},
   "source": [
    "## Plot Total Votes by Party for Each State"
   ]
  },
  {
   "cell_type": "code",
   "execution_count": 8,
   "metadata": {},
   "outputs": [
    {
     "output_type": "display_data",
     "data": {
      "application/vnd.plotly.v1+json": {
       "config": {
        "plotlyServerURL": "https://plot.ly"
       },
       "data": [
        {
         "name": "Total Democrat Votes",
         "type": "bar",
         "x": [
          "AL",
          "AK",
          "AZ",
          "AR",
          "CA",
          "CO",
          "CT",
          "DE",
          "DC",
          "FL",
          "GA",
          "HI",
          "ID",
          "IL",
          "IN",
          "IA",
          "KS",
          "KY",
          "LA",
          "ME",
          "MD",
          "MA",
          "MI",
          "MN",
          "MS",
          "MO",
          "MT",
          "NE",
          "NV",
          "NH",
          "NJ",
          "NM",
          "NY",
          "NC",
          "ND",
          "OH",
          "OK",
          "OR",
          "PA",
          "RI",
          "SC",
          "SD",
          "TN",
          "TX",
          "UT",
          "VT",
          "VA",
          "WA",
          "WV",
          "WI",
          "WY"
         ],
         "y": [
          7474816,
          931882,
          7326637,
          4655456,
          63180373,
          8896577,
          8327796,
          1818793,
          2129296,
          30300162,
          13332891,
          2343508,
          1753706,
          28360406,
          10727922,
          7296959,
          4507214,
          7066624,
          8467599,
          3385302,
          12518530,
          17255316,
          22780090,
          13412331,
          4786125,
          11966663,
          1827449,
          2706445,
          3058197,
          2705530,
          18449025,
          3281068,
          40698152,
          15033244,
          1219846,
          24747228,
          5108802,
          8044327,
          27761415,
          2632597,
          6437175,
          1478286,
          9780143,
          28988063,
          2428530,
          1572904,
          13936686,
          13222559,
          3484238,
          13670610,
          717627
         ]
        },
        {
         "name": "Total Republican Votes",
         "type": "bar",
         "x": [
          "AL",
          "AK",
          "AZ",
          "AR",
          "CA",
          "CO",
          "CT",
          "DE",
          "DC",
          "FL",
          "GA",
          "HI",
          "ID",
          "IL",
          "IN",
          "IA",
          "KS",
          "KY",
          "LA",
          "ME",
          "MD",
          "MA",
          "MI",
          "MN",
          "MS",
          "MO",
          "MT",
          "NE",
          "NV",
          "NH",
          "NJ",
          "NM",
          "NY",
          "NC",
          "ND",
          "OH",
          "OK",
          "OR",
          "PA",
          "RI",
          "SC",
          "SD",
          "TN",
          "TX",
          "UT",
          "VT",
          "VA",
          "WA",
          "WV",
          "WI",
          "WY"
         ],
         "y": [
          10378307,
          1520232,
          9128558,
          5351630,
          50798923,
          9487553,
          7291466,
          1526169,
          236622,
          32987832,
          14914584,
          1567019,
          3484644,
          23739254,
          14159426,
          7155177,
          6756200,
          9244152,
          10256487,
          3051630,
          9211406,
          11454247,
          21772499,
          11576776,
          6257394,
          13230342,
          2423410,
          4714268,
          3134889,
          2952235,
          16840435,
          3150849,
          27693375,
          16955145,
          1920786,
          26446831,
          8461174,
          7178360,
          26326922,
          1764906,
          8145050,
          2067460,
          11974762,
          38227274,
          5390364,
          1151681,
          15232689,
          11325818,
          3905145,
          12909841,
          1454175
         ]
        }
       ],
       "layout": {
        "margin": {
         "b": 30,
         "l": 30,
         "r": 30,
         "t": 30
        },
        "template": {
         "data": {
          "bar": [
           {
            "error_x": {
             "color": "#2a3f5f"
            },
            "error_y": {
             "color": "#2a3f5f"
            },
            "marker": {
             "line": {
              "color": "#E5ECF6",
              "width": 0.5
             }
            },
            "type": "bar"
           }
          ],
          "barpolar": [
           {
            "marker": {
             "line": {
              "color": "#E5ECF6",
              "width": 0.5
             }
            },
            "type": "barpolar"
           }
          ],
          "carpet": [
           {
            "aaxis": {
             "endlinecolor": "#2a3f5f",
             "gridcolor": "white",
             "linecolor": "white",
             "minorgridcolor": "white",
             "startlinecolor": "#2a3f5f"
            },
            "baxis": {
             "endlinecolor": "#2a3f5f",
             "gridcolor": "white",
             "linecolor": "white",
             "minorgridcolor": "white",
             "startlinecolor": "#2a3f5f"
            },
            "type": "carpet"
           }
          ],
          "choropleth": [
           {
            "colorbar": {
             "outlinewidth": 0,
             "ticks": ""
            },
            "type": "choropleth"
           }
          ],
          "contour": [
           {
            "colorbar": {
             "outlinewidth": 0,
             "ticks": ""
            },
            "colorscale": [
             [
              0,
              "#0d0887"
             ],
             [
              0.1111111111111111,
              "#46039f"
             ],
             [
              0.2222222222222222,
              "#7201a8"
             ],
             [
              0.3333333333333333,
              "#9c179e"
             ],
             [
              0.4444444444444444,
              "#bd3786"
             ],
             [
              0.5555555555555556,
              "#d8576b"
             ],
             [
              0.6666666666666666,
              "#ed7953"
             ],
             [
              0.7777777777777778,
              "#fb9f3a"
             ],
             [
              0.8888888888888888,
              "#fdca26"
             ],
             [
              1,
              "#f0f921"
             ]
            ],
            "type": "contour"
           }
          ],
          "contourcarpet": [
           {
            "colorbar": {
             "outlinewidth": 0,
             "ticks": ""
            },
            "type": "contourcarpet"
           }
          ],
          "heatmap": [
           {
            "colorbar": {
             "outlinewidth": 0,
             "ticks": ""
            },
            "colorscale": [
             [
              0,
              "#0d0887"
             ],
             [
              0.1111111111111111,
              "#46039f"
             ],
             [
              0.2222222222222222,
              "#7201a8"
             ],
             [
              0.3333333333333333,
              "#9c179e"
             ],
             [
              0.4444444444444444,
              "#bd3786"
             ],
             [
              0.5555555555555556,
              "#d8576b"
             ],
             [
              0.6666666666666666,
              "#ed7953"
             ],
             [
              0.7777777777777778,
              "#fb9f3a"
             ],
             [
              0.8888888888888888,
              "#fdca26"
             ],
             [
              1,
              "#f0f921"
             ]
            ],
            "type": "heatmap"
           }
          ],
          "heatmapgl": [
           {
            "colorbar": {
             "outlinewidth": 0,
             "ticks": ""
            },
            "colorscale": [
             [
              0,
              "#0d0887"
             ],
             [
              0.1111111111111111,
              "#46039f"
             ],
             [
              0.2222222222222222,
              "#7201a8"
             ],
             [
              0.3333333333333333,
              "#9c179e"
             ],
             [
              0.4444444444444444,
              "#bd3786"
             ],
             [
              0.5555555555555556,
              "#d8576b"
             ],
             [
              0.6666666666666666,
              "#ed7953"
             ],
             [
              0.7777777777777778,
              "#fb9f3a"
             ],
             [
              0.8888888888888888,
              "#fdca26"
             ],
             [
              1,
              "#f0f921"
             ]
            ],
            "type": "heatmapgl"
           }
          ],
          "histogram": [
           {
            "marker": {
             "colorbar": {
              "outlinewidth": 0,
              "ticks": ""
             }
            },
            "type": "histogram"
           }
          ],
          "histogram2d": [
           {
            "colorbar": {
             "outlinewidth": 0,
             "ticks": ""
            },
            "colorscale": [
             [
              0,
              "#0d0887"
             ],
             [
              0.1111111111111111,
              "#46039f"
             ],
             [
              0.2222222222222222,
              "#7201a8"
             ],
             [
              0.3333333333333333,
              "#9c179e"
             ],
             [
              0.4444444444444444,
              "#bd3786"
             ],
             [
              0.5555555555555556,
              "#d8576b"
             ],
             [
              0.6666666666666666,
              "#ed7953"
             ],
             [
              0.7777777777777778,
              "#fb9f3a"
             ],
             [
              0.8888888888888888,
              "#fdca26"
             ],
             [
              1,
              "#f0f921"
             ]
            ],
            "type": "histogram2d"
           }
          ],
          "histogram2dcontour": [
           {
            "colorbar": {
             "outlinewidth": 0,
             "ticks": ""
            },
            "colorscale": [
             [
              0,
              "#0d0887"
             ],
             [
              0.1111111111111111,
              "#46039f"
             ],
             [
              0.2222222222222222,
              "#7201a8"
             ],
             [
              0.3333333333333333,
              "#9c179e"
             ],
             [
              0.4444444444444444,
              "#bd3786"
             ],
             [
              0.5555555555555556,
              "#d8576b"
             ],
             [
              0.6666666666666666,
              "#ed7953"
             ],
             [
              0.7777777777777778,
              "#fb9f3a"
             ],
             [
              0.8888888888888888,
              "#fdca26"
             ],
             [
              1,
              "#f0f921"
             ]
            ],
            "type": "histogram2dcontour"
           }
          ],
          "mesh3d": [
           {
            "colorbar": {
             "outlinewidth": 0,
             "ticks": ""
            },
            "type": "mesh3d"
           }
          ],
          "parcoords": [
           {
            "line": {
             "colorbar": {
              "outlinewidth": 0,
              "ticks": ""
             }
            },
            "type": "parcoords"
           }
          ],
          "pie": [
           {
            "automargin": true,
            "type": "pie"
           }
          ],
          "scatter": [
           {
            "marker": {
             "colorbar": {
              "outlinewidth": 0,
              "ticks": ""
             }
            },
            "type": "scatter"
           }
          ],
          "scatter3d": [
           {
            "line": {
             "colorbar": {
              "outlinewidth": 0,
              "ticks": ""
             }
            },
            "marker": {
             "colorbar": {
              "outlinewidth": 0,
              "ticks": ""
             }
            },
            "type": "scatter3d"
           }
          ],
          "scattercarpet": [
           {
            "marker": {
             "colorbar": {
              "outlinewidth": 0,
              "ticks": ""
             }
            },
            "type": "scattercarpet"
           }
          ],
          "scattergeo": [
           {
            "marker": {
             "colorbar": {
              "outlinewidth": 0,
              "ticks": ""
             }
            },
            "type": "scattergeo"
           }
          ],
          "scattergl": [
           {
            "marker": {
             "colorbar": {
              "outlinewidth": 0,
              "ticks": ""
             }
            },
            "type": "scattergl"
           }
          ],
          "scattermapbox": [
           {
            "marker": {
             "colorbar": {
              "outlinewidth": 0,
              "ticks": ""
             }
            },
            "type": "scattermapbox"
           }
          ],
          "scatterpolar": [
           {
            "marker": {
             "colorbar": {
              "outlinewidth": 0,
              "ticks": ""
             }
            },
            "type": "scatterpolar"
           }
          ],
          "scatterpolargl": [
           {
            "marker": {
             "colorbar": {
              "outlinewidth": 0,
              "ticks": ""
             }
            },
            "type": "scatterpolargl"
           }
          ],
          "scatterternary": [
           {
            "marker": {
             "colorbar": {
              "outlinewidth": 0,
              "ticks": ""
             }
            },
            "type": "scatterternary"
           }
          ],
          "surface": [
           {
            "colorbar": {
             "outlinewidth": 0,
             "ticks": ""
            },
            "colorscale": [
             [
              0,
              "#0d0887"
             ],
             [
              0.1111111111111111,
              "#46039f"
             ],
             [
              0.2222222222222222,
              "#7201a8"
             ],
             [
              0.3333333333333333,
              "#9c179e"
             ],
             [
              0.4444444444444444,
              "#bd3786"
             ],
             [
              0.5555555555555556,
              "#d8576b"
             ],
             [
              0.6666666666666666,
              "#ed7953"
             ],
             [
              0.7777777777777778,
              "#fb9f3a"
             ],
             [
              0.8888888888888888,
              "#fdca26"
             ],
             [
              1,
              "#f0f921"
             ]
            ],
            "type": "surface"
           }
          ],
          "table": [
           {
            "cells": {
             "fill": {
              "color": "#EBF0F8"
             },
             "line": {
              "color": "white"
             }
            },
            "header": {
             "fill": {
              "color": "#C8D4E3"
             },
             "line": {
              "color": "white"
             }
            },
            "type": "table"
           }
          ]
         },
         "layout": {
          "annotationdefaults": {
           "arrowcolor": "#2a3f5f",
           "arrowhead": 0,
           "arrowwidth": 1
          },
          "coloraxis": {
           "colorbar": {
            "outlinewidth": 0,
            "ticks": ""
           }
          },
          "colorscale": {
           "diverging": [
            [
             0,
             "#8e0152"
            ],
            [
             0.1,
             "#c51b7d"
            ],
            [
             0.2,
             "#de77ae"
            ],
            [
             0.3,
             "#f1b6da"
            ],
            [
             0.4,
             "#fde0ef"
            ],
            [
             0.5,
             "#f7f7f7"
            ],
            [
             0.6,
             "#e6f5d0"
            ],
            [
             0.7,
             "#b8e186"
            ],
            [
             0.8,
             "#7fbc41"
            ],
            [
             0.9,
             "#4d9221"
            ],
            [
             1,
             "#276419"
            ]
           ],
           "sequential": [
            [
             0,
             "#0d0887"
            ],
            [
             0.1111111111111111,
             "#46039f"
            ],
            [
             0.2222222222222222,
             "#7201a8"
            ],
            [
             0.3333333333333333,
             "#9c179e"
            ],
            [
             0.4444444444444444,
             "#bd3786"
            ],
            [
             0.5555555555555556,
             "#d8576b"
            ],
            [
             0.6666666666666666,
             "#ed7953"
            ],
            [
             0.7777777777777778,
             "#fb9f3a"
            ],
            [
             0.8888888888888888,
             "#fdca26"
            ],
            [
             1,
             "#f0f921"
            ]
           ],
           "sequentialminus": [
            [
             0,
             "#0d0887"
            ],
            [
             0.1111111111111111,
             "#46039f"
            ],
            [
             0.2222222222222222,
             "#7201a8"
            ],
            [
             0.3333333333333333,
             "#9c179e"
            ],
            [
             0.4444444444444444,
             "#bd3786"
            ],
            [
             0.5555555555555556,
             "#d8576b"
            ],
            [
             0.6666666666666666,
             "#ed7953"
            ],
            [
             0.7777777777777778,
             "#fb9f3a"
            ],
            [
             0.8888888888888888,
             "#fdca26"
            ],
            [
             1,
             "#f0f921"
            ]
           ]
          },
          "colorway": [
           "#636efa",
           "#EF553B",
           "#00cc96",
           "#ab63fa",
           "#FFA15A",
           "#19d3f3",
           "#FF6692",
           "#B6E880",
           "#FF97FF",
           "#FECB52"
          ],
          "font": {
           "color": "#2a3f5f"
          },
          "geo": {
           "bgcolor": "white",
           "lakecolor": "white",
           "landcolor": "#E5ECF6",
           "showlakes": true,
           "showland": true,
           "subunitcolor": "white"
          },
          "hoverlabel": {
           "align": "left"
          },
          "hovermode": "closest",
          "mapbox": {
           "style": "light"
          },
          "paper_bgcolor": "white",
          "plot_bgcolor": "#E5ECF6",
          "polar": {
           "angularaxis": {
            "gridcolor": "white",
            "linecolor": "white",
            "ticks": ""
           },
           "bgcolor": "#E5ECF6",
           "radialaxis": {
            "gridcolor": "white",
            "linecolor": "white",
            "ticks": ""
           }
          },
          "scene": {
           "xaxis": {
            "backgroundcolor": "#E5ECF6",
            "gridcolor": "white",
            "gridwidth": 2,
            "linecolor": "white",
            "showbackground": true,
            "ticks": "",
            "zerolinecolor": "white"
           },
           "yaxis": {
            "backgroundcolor": "#E5ECF6",
            "gridcolor": "white",
            "gridwidth": 2,
            "linecolor": "white",
            "showbackground": true,
            "ticks": "",
            "zerolinecolor": "white"
           },
           "zaxis": {
            "backgroundcolor": "#E5ECF6",
            "gridcolor": "white",
            "gridwidth": 2,
            "linecolor": "white",
            "showbackground": true,
            "ticks": "",
            "zerolinecolor": "white"
           }
          },
          "shapedefaults": {
           "line": {
            "color": "#2a3f5f"
           }
          },
          "ternary": {
           "aaxis": {
            "gridcolor": "white",
            "linecolor": "white",
            "ticks": ""
           },
           "baxis": {
            "gridcolor": "white",
            "linecolor": "white",
            "ticks": ""
           },
           "bgcolor": "#E5ECF6",
           "caxis": {
            "gridcolor": "white",
            "linecolor": "white",
            "ticks": ""
           }
          },
          "title": {
           "x": 0.05
          },
          "xaxis": {
           "automargin": true,
           "gridcolor": "white",
           "linecolor": "white",
           "ticks": "",
           "title": {
            "standoff": 15
           },
           "zerolinecolor": "white",
           "zerolinewidth": 2
          },
          "yaxis": {
           "automargin": true,
           "gridcolor": "white",
           "linecolor": "white",
           "ticks": "",
           "title": {
            "standoff": 15
           },
           "zerolinecolor": "white",
           "zerolinewidth": 2
          }
         }
        },
        "title": {
         "text": "Total Votes by Party vs State 1976-2016",
         "x": 0.5
        },
        "uniformtext": {
         "minsize": 8,
         "mode": "hide"
        },
        "xaxis": {
         "tickmode": "linear",
         "title": {
          "text": "State"
         }
        },
        "yaxis": {
         "title": {
          "text": "Total Votes"
         }
        }
       }
      },
      "text/html": "<div>                            <div id=\"6a122b05-10b9-49be-ba8f-f10b2f1a7710\" class=\"plotly-graph-div\" style=\"height:525px; width:100%;\"></div>            <script type=\"text/javascript\">                require([\"plotly\"], function(Plotly) {                    window.PLOTLYENV=window.PLOTLYENV || {};                                    if (document.getElementById(\"6a122b05-10b9-49be-ba8f-f10b2f1a7710\")) {                    Plotly.newPlot(                        \"6a122b05-10b9-49be-ba8f-f10b2f1a7710\",                        [{\"name\": \"Total Democrat Votes\", \"type\": \"bar\", \"x\": [\"AL\", \"AK\", \"AZ\", \"AR\", \"CA\", \"CO\", \"CT\", \"DE\", \"DC\", \"FL\", \"GA\", \"HI\", \"ID\", \"IL\", \"IN\", \"IA\", \"KS\", \"KY\", \"LA\", \"ME\", \"MD\", \"MA\", \"MI\", \"MN\", \"MS\", \"MO\", \"MT\", \"NE\", \"NV\", \"NH\", \"NJ\", \"NM\", \"NY\", \"NC\", \"ND\", \"OH\", \"OK\", \"OR\", \"PA\", \"RI\", \"SC\", \"SD\", \"TN\", \"TX\", \"UT\", \"VT\", \"VA\", \"WA\", \"WV\", \"WI\", \"WY\"], \"y\": [7474816, 931882, 7326637, 4655456, 63180373, 8896577, 8327796, 1818793, 2129296, 30300162, 13332891, 2343508, 1753706, 28360406, 10727922, 7296959, 4507214, 7066624, 8467599, 3385302, 12518530, 17255316, 22780090, 13412331, 4786125, 11966663, 1827449, 2706445, 3058197, 2705530, 18449025, 3281068, 40698152, 15033244, 1219846, 24747228, 5108802, 8044327, 27761415, 2632597, 6437175, 1478286, 9780143, 28988063, 2428530, 1572904, 13936686, 13222559, 3484238, 13670610, 717627]}, {\"name\": \"Total Republican Votes\", \"type\": \"bar\", \"x\": [\"AL\", \"AK\", \"AZ\", \"AR\", \"CA\", \"CO\", \"CT\", \"DE\", \"DC\", \"FL\", \"GA\", \"HI\", \"ID\", \"IL\", \"IN\", \"IA\", \"KS\", \"KY\", \"LA\", \"ME\", \"MD\", \"MA\", \"MI\", \"MN\", \"MS\", \"MO\", \"MT\", \"NE\", \"NV\", \"NH\", \"NJ\", \"NM\", \"NY\", \"NC\", \"ND\", \"OH\", \"OK\", \"OR\", \"PA\", \"RI\", \"SC\", \"SD\", \"TN\", \"TX\", \"UT\", \"VT\", \"VA\", \"WA\", \"WV\", \"WI\", \"WY\"], \"y\": [10378307, 1520232, 9128558, 5351630, 50798923, 9487553, 7291466, 1526169, 236622, 32987832, 14914584, 1567019, 3484644, 23739254, 14159426, 7155177, 6756200, 9244152, 10256487, 3051630, 9211406, 11454247, 21772499, 11576776, 6257394, 13230342, 2423410, 4714268, 3134889, 2952235, 16840435, 3150849, 27693375, 16955145, 1920786, 26446831, 8461174, 7178360, 26326922, 1764906, 8145050, 2067460, 11974762, 38227274, 5390364, 1151681, 15232689, 11325818, 3905145, 12909841, 1454175]}],                        {\"margin\": {\"b\": 30, \"l\": 30, \"r\": 30, \"t\": 30}, \"template\": {\"data\": {\"bar\": [{\"error_x\": {\"color\": \"#2a3f5f\"}, \"error_y\": {\"color\": \"#2a3f5f\"}, \"marker\": {\"line\": {\"color\": \"#E5ECF6\", \"width\": 0.5}}, \"type\": \"bar\"}], \"barpolar\": [{\"marker\": {\"line\": {\"color\": \"#E5ECF6\", \"width\": 0.5}}, \"type\": \"barpolar\"}], \"carpet\": [{\"aaxis\": {\"endlinecolor\": \"#2a3f5f\", \"gridcolor\": \"white\", \"linecolor\": \"white\", \"minorgridcolor\": \"white\", \"startlinecolor\": \"#2a3f5f\"}, \"baxis\": {\"endlinecolor\": \"#2a3f5f\", \"gridcolor\": \"white\", \"linecolor\": \"white\", \"minorgridcolor\": \"white\", \"startlinecolor\": \"#2a3f5f\"}, \"type\": \"carpet\"}], \"choropleth\": [{\"colorbar\": {\"outlinewidth\": 0, \"ticks\": \"\"}, \"type\": \"choropleth\"}], \"contour\": [{\"colorbar\": {\"outlinewidth\": 0, \"ticks\": \"\"}, \"colorscale\": [[0.0, \"#0d0887\"], [0.1111111111111111, \"#46039f\"], [0.2222222222222222, \"#7201a8\"], [0.3333333333333333, \"#9c179e\"], [0.4444444444444444, \"#bd3786\"], [0.5555555555555556, \"#d8576b\"], [0.6666666666666666, \"#ed7953\"], [0.7777777777777778, \"#fb9f3a\"], [0.8888888888888888, \"#fdca26\"], [1.0, \"#f0f921\"]], \"type\": \"contour\"}], \"contourcarpet\": [{\"colorbar\": {\"outlinewidth\": 0, \"ticks\": \"\"}, \"type\": \"contourcarpet\"}], \"heatmap\": [{\"colorbar\": {\"outlinewidth\": 0, \"ticks\": \"\"}, \"colorscale\": [[0.0, \"#0d0887\"], [0.1111111111111111, \"#46039f\"], [0.2222222222222222, \"#7201a8\"], [0.3333333333333333, \"#9c179e\"], [0.4444444444444444, \"#bd3786\"], [0.5555555555555556, \"#d8576b\"], [0.6666666666666666, \"#ed7953\"], [0.7777777777777778, \"#fb9f3a\"], [0.8888888888888888, \"#fdca26\"], [1.0, \"#f0f921\"]], \"type\": \"heatmap\"}], \"heatmapgl\": [{\"colorbar\": {\"outlinewidth\": 0, \"ticks\": \"\"}, \"colorscale\": [[0.0, \"#0d0887\"], [0.1111111111111111, \"#46039f\"], [0.2222222222222222, \"#7201a8\"], [0.3333333333333333, \"#9c179e\"], [0.4444444444444444, \"#bd3786\"], [0.5555555555555556, \"#d8576b\"], [0.6666666666666666, \"#ed7953\"], [0.7777777777777778, \"#fb9f3a\"], [0.8888888888888888, \"#fdca26\"], [1.0, \"#f0f921\"]], \"type\": \"heatmapgl\"}], \"histogram\": [{\"marker\": {\"colorbar\": {\"outlinewidth\": 0, \"ticks\": \"\"}}, \"type\": \"histogram\"}], \"histogram2d\": [{\"colorbar\": {\"outlinewidth\": 0, \"ticks\": \"\"}, \"colorscale\": [[0.0, \"#0d0887\"], [0.1111111111111111, \"#46039f\"], [0.2222222222222222, \"#7201a8\"], [0.3333333333333333, \"#9c179e\"], [0.4444444444444444, \"#bd3786\"], [0.5555555555555556, \"#d8576b\"], [0.6666666666666666, \"#ed7953\"], [0.7777777777777778, \"#fb9f3a\"], [0.8888888888888888, \"#fdca26\"], [1.0, \"#f0f921\"]], \"type\": \"histogram2d\"}], \"histogram2dcontour\": [{\"colorbar\": {\"outlinewidth\": 0, \"ticks\": \"\"}, \"colorscale\": [[0.0, \"#0d0887\"], [0.1111111111111111, \"#46039f\"], [0.2222222222222222, \"#7201a8\"], [0.3333333333333333, \"#9c179e\"], [0.4444444444444444, \"#bd3786\"], [0.5555555555555556, \"#d8576b\"], [0.6666666666666666, \"#ed7953\"], [0.7777777777777778, \"#fb9f3a\"], [0.8888888888888888, \"#fdca26\"], [1.0, \"#f0f921\"]], \"type\": \"histogram2dcontour\"}], \"mesh3d\": [{\"colorbar\": {\"outlinewidth\": 0, \"ticks\": \"\"}, \"type\": \"mesh3d\"}], \"parcoords\": [{\"line\": {\"colorbar\": {\"outlinewidth\": 0, \"ticks\": \"\"}}, \"type\": \"parcoords\"}], \"pie\": [{\"automargin\": true, \"type\": \"pie\"}], \"scatter\": [{\"marker\": {\"colorbar\": {\"outlinewidth\": 0, \"ticks\": \"\"}}, \"type\": \"scatter\"}], \"scatter3d\": [{\"line\": {\"colorbar\": {\"outlinewidth\": 0, \"ticks\": \"\"}}, \"marker\": {\"colorbar\": {\"outlinewidth\": 0, \"ticks\": \"\"}}, \"type\": \"scatter3d\"}], \"scattercarpet\": [{\"marker\": {\"colorbar\": {\"outlinewidth\": 0, \"ticks\": \"\"}}, \"type\": \"scattercarpet\"}], \"scattergeo\": [{\"marker\": {\"colorbar\": {\"outlinewidth\": 0, \"ticks\": \"\"}}, \"type\": \"scattergeo\"}], \"scattergl\": [{\"marker\": {\"colorbar\": {\"outlinewidth\": 0, \"ticks\": \"\"}}, \"type\": \"scattergl\"}], \"scattermapbox\": [{\"marker\": {\"colorbar\": {\"outlinewidth\": 0, \"ticks\": \"\"}}, \"type\": \"scattermapbox\"}], \"scatterpolar\": [{\"marker\": {\"colorbar\": {\"outlinewidth\": 0, \"ticks\": \"\"}}, \"type\": \"scatterpolar\"}], \"scatterpolargl\": [{\"marker\": {\"colorbar\": {\"outlinewidth\": 0, \"ticks\": \"\"}}, \"type\": \"scatterpolargl\"}], \"scatterternary\": [{\"marker\": {\"colorbar\": {\"outlinewidth\": 0, \"ticks\": \"\"}}, \"type\": \"scatterternary\"}], \"surface\": [{\"colorbar\": {\"outlinewidth\": 0, \"ticks\": \"\"}, \"colorscale\": [[0.0, \"#0d0887\"], [0.1111111111111111, \"#46039f\"], [0.2222222222222222, \"#7201a8\"], [0.3333333333333333, \"#9c179e\"], [0.4444444444444444, \"#bd3786\"], [0.5555555555555556, \"#d8576b\"], [0.6666666666666666, \"#ed7953\"], [0.7777777777777778, \"#fb9f3a\"], [0.8888888888888888, \"#fdca26\"], [1.0, \"#f0f921\"]], \"type\": \"surface\"}], \"table\": [{\"cells\": {\"fill\": {\"color\": \"#EBF0F8\"}, \"line\": {\"color\": \"white\"}}, \"header\": {\"fill\": {\"color\": \"#C8D4E3\"}, \"line\": {\"color\": \"white\"}}, \"type\": \"table\"}]}, \"layout\": {\"annotationdefaults\": {\"arrowcolor\": \"#2a3f5f\", \"arrowhead\": 0, \"arrowwidth\": 1}, \"coloraxis\": {\"colorbar\": {\"outlinewidth\": 0, \"ticks\": \"\"}}, \"colorscale\": {\"diverging\": [[0, \"#8e0152\"], [0.1, \"#c51b7d\"], [0.2, \"#de77ae\"], [0.3, \"#f1b6da\"], [0.4, \"#fde0ef\"], [0.5, \"#f7f7f7\"], [0.6, \"#e6f5d0\"], [0.7, \"#b8e186\"], [0.8, \"#7fbc41\"], [0.9, \"#4d9221\"], [1, \"#276419\"]], \"sequential\": [[0.0, \"#0d0887\"], [0.1111111111111111, \"#46039f\"], [0.2222222222222222, \"#7201a8\"], [0.3333333333333333, \"#9c179e\"], [0.4444444444444444, \"#bd3786\"], [0.5555555555555556, \"#d8576b\"], [0.6666666666666666, \"#ed7953\"], [0.7777777777777778, \"#fb9f3a\"], [0.8888888888888888, \"#fdca26\"], [1.0, \"#f0f921\"]], \"sequentialminus\": [[0.0, \"#0d0887\"], [0.1111111111111111, \"#46039f\"], [0.2222222222222222, \"#7201a8\"], [0.3333333333333333, \"#9c179e\"], [0.4444444444444444, \"#bd3786\"], [0.5555555555555556, \"#d8576b\"], [0.6666666666666666, \"#ed7953\"], [0.7777777777777778, \"#fb9f3a\"], [0.8888888888888888, \"#fdca26\"], [1.0, \"#f0f921\"]]}, \"colorway\": [\"#636efa\", \"#EF553B\", \"#00cc96\", \"#ab63fa\", \"#FFA15A\", \"#19d3f3\", \"#FF6692\", \"#B6E880\", \"#FF97FF\", \"#FECB52\"], \"font\": {\"color\": \"#2a3f5f\"}, \"geo\": {\"bgcolor\": \"white\", \"lakecolor\": \"white\", \"landcolor\": \"#E5ECF6\", \"showlakes\": true, \"showland\": true, \"subunitcolor\": \"white\"}, \"hoverlabel\": {\"align\": \"left\"}, \"hovermode\": \"closest\", \"mapbox\": {\"style\": \"light\"}, \"paper_bgcolor\": \"white\", \"plot_bgcolor\": \"#E5ECF6\", \"polar\": {\"angularaxis\": {\"gridcolor\": \"white\", \"linecolor\": \"white\", \"ticks\": \"\"}, \"bgcolor\": \"#E5ECF6\", \"radialaxis\": {\"gridcolor\": \"white\", \"linecolor\": \"white\", \"ticks\": \"\"}}, \"scene\": {\"xaxis\": {\"backgroundcolor\": \"#E5ECF6\", \"gridcolor\": \"white\", \"gridwidth\": 2, \"linecolor\": \"white\", \"showbackground\": true, \"ticks\": \"\", \"zerolinecolor\": \"white\"}, \"yaxis\": {\"backgroundcolor\": \"#E5ECF6\", \"gridcolor\": \"white\", \"gridwidth\": 2, \"linecolor\": \"white\", \"showbackground\": true, \"ticks\": \"\", \"zerolinecolor\": \"white\"}, \"zaxis\": {\"backgroundcolor\": \"#E5ECF6\", \"gridcolor\": \"white\", \"gridwidth\": 2, \"linecolor\": \"white\", \"showbackground\": true, \"ticks\": \"\", \"zerolinecolor\": \"white\"}}, \"shapedefaults\": {\"line\": {\"color\": \"#2a3f5f\"}}, \"ternary\": {\"aaxis\": {\"gridcolor\": \"white\", \"linecolor\": \"white\", \"ticks\": \"\"}, \"baxis\": {\"gridcolor\": \"white\", \"linecolor\": \"white\", \"ticks\": \"\"}, \"bgcolor\": \"#E5ECF6\", \"caxis\": {\"gridcolor\": \"white\", \"linecolor\": \"white\", \"ticks\": \"\"}}, \"title\": {\"x\": 0.05}, \"xaxis\": {\"automargin\": true, \"gridcolor\": \"white\", \"linecolor\": \"white\", \"ticks\": \"\", \"title\": {\"standoff\": 15}, \"zerolinecolor\": \"white\", \"zerolinewidth\": 2}, \"yaxis\": {\"automargin\": true, \"gridcolor\": \"white\", \"linecolor\": \"white\", \"ticks\": \"\", \"title\": {\"standoff\": 15}, \"zerolinecolor\": \"white\", \"zerolinewidth\": 2}}}, \"title\": {\"text\": \"Total Votes by Party vs State 1976-2016\", \"x\": 0.5}, \"uniformtext\": {\"minsize\": 8, \"mode\": \"hide\"}, \"xaxis\": {\"tickmode\": \"linear\", \"title\": {\"text\": \"State\"}}, \"yaxis\": {\"title\": {\"text\": \"Total Votes\"}}},                        {\"responsive\": true}                    ).then(function(){\n                            \nvar gd = document.getElementById('6a122b05-10b9-49be-ba8f-f10b2f1a7710');\nvar x = new MutationObserver(function (mutations, observer) {{\n        var display = window.getComputedStyle(gd).display;\n        if (!display || display === 'none') {{\n            console.log([gd, 'removed!']);\n            Plotly.purge(gd);\n            observer.disconnect();\n        }}\n}});\n\n// Listen for the removal of the full notebook cells\nvar notebookContainer = gd.closest('#notebook-container');\nif (notebookContainer) {{\n    x.observe(notebookContainer, {childList: true});\n}}\n\n// Listen for the clearing of the current output cell\nvar outputEl = gd.closest('.output');\nif (outputEl) {{\n    x.observe(outputEl, {childList: true});\n}}\n\n                        })                };                });            </script>        </div>"
     },
     "metadata": {}
    }
   ],
   "source": [
    "import plotly as px\n",
    "import plotly.graph_objects as go\n",
    "\n",
    "\n",
    "fig = go.Figure(data=[\n",
    "    go.Bar(name='Total Democrat Votes', x=state_codes, y=[x[0] for x in state_leans.values()]),\n",
    "    go.Bar(name='Total Republican Votes', x=state_codes, y=[x[1] for x in state_leans.values()]),\n",
    "    \n",
    "])\n",
    "fig.update_layout(uniformtext_minsize=8, uniformtext_mode='hide', title=\"Total Votes by Party vs State 1976-2016\",title_x=0.5)\n",
    "\n",
    "fig['layout']['xaxis1'].update(tickmode='linear')\n",
    "fig.update_layout(\n",
    "    margin=dict(l=30, r=30, t=30, b=30),\n",
    "    xaxis_title=\"State\",\n",
    "    yaxis_title=\"Total Votes\"\n",
    ")\n",
    "fig.show()\n",
    ""
   ]
  },
  {
   "cell_type": "markdown",
   "metadata": {},
   "source": [
    "## Plot Population vs Election Results"
   ]
  },
  {
   "cell_type": "code",
   "execution_count": 9,
   "metadata": {},
   "outputs": [
    {
     "output_type": "display_data",
     "data": {
      "application/vnd.plotly.v1+json": {
       "config": {
        "plotlyServerURL": "https://plot.ly"
       },
       "data": [
        {
         "customdata": [
          "Democrat",
          "Republican",
          "Republican",
          "Democrat",
          "Republican",
          "Republican",
          "Republican",
          "Democrat",
          "Democrat",
          "Democrat",
          "Democrat",
          "Democrat",
          "Republican",
          "Republican",
          "Republican",
          "Republican",
          "Republican",
          "Democrat",
          "Democrat",
          "Republican",
          "Democrat",
          "Democrat",
          "Republican",
          "Democrat",
          "Democrat",
          "Democrat",
          "Republican",
          "Republican",
          "Republican",
          "Republican",
          "Republican",
          "Republican",
          "Democrat",
          "Democrat",
          "Republican",
          "Democrat",
          "Republican",
          "Republican",
          "Democrat",
          "Democrat",
          "Democrat",
          "Republican",
          "Democrat",
          "Democrat",
          "Republican",
          "Republican",
          "Republican",
          "Republican",
          "Democrat",
          "Democrat",
          "Republican"
         ],
         "hovertemplate": "%{x}<br>Pop: %{y}<br>%{customdata}<extra></extra>",
         "marker": {
          "color": [
           "#0015BC",
           "#DE0100",
           "#DE0100",
           "#0015BC",
           "#DE0100",
           "#DE0100",
           "#DE0100",
           "#0015BC",
           "#0015BC",
           "#0015BC",
           "#0015BC",
           "#0015BC",
           "#DE0100",
           "#DE0100",
           "#DE0100",
           "#DE0100",
           "#DE0100",
           "#0015BC",
           "#0015BC",
           "#DE0100",
           "#0015BC",
           "#0015BC",
           "#DE0100",
           "#0015BC",
           "#0015BC",
           "#0015BC",
           "#DE0100",
           "#DE0100",
           "#DE0100",
           "#DE0100",
           "#DE0100",
           "#DE0100",
           "#0015BC",
           "#0015BC",
           "#DE0100",
           "#0015BC",
           "#DE0100",
           "#DE0100",
           "#0015BC",
           "#0015BC",
           "#0015BC",
           "#DE0100",
           "#0015BC",
           "#0015BC",
           "#DE0100",
           "#DE0100",
           "#DE0100",
           "#DE0100",
           "#0015BC",
           "#0015BC",
           "#DE0100"
          ]
         },
         "mode": "markers",
         "type": "scatter",
         "visible": true,
         "x": [
          "AL",
          "AK",
          "AZ",
          "AR",
          "CA",
          "CO",
          "CT",
          "DE",
          "DC",
          "FL",
          "GA",
          "HI",
          "ID",
          "IL",
          "IN",
          "IA",
          "KS",
          "KY",
          "LA",
          "ME",
          "MD",
          "MA",
          "MI",
          "MN",
          "MS",
          "MO",
          "MT",
          "NE",
          "NV",
          "NH",
          "NJ",
          "NM",
          "NY",
          "NC",
          "ND",
          "OH",
          "OK",
          "OR",
          "PA",
          "RI",
          "SC",
          "SD",
          "TN",
          "TX",
          "UT",
          "VT",
          "VA",
          "WA",
          "WV",
          "WI",
          "WY"
         ],
         "y": [
          3893888,
          401851,
          2718215,
          2286435,
          23667902,
          2889964,
          3107576,
          594338,
          638333,
          9746324,
          5463105,
          964691,
          943935,
          11426518,
          5490224,
          2913808,
          2363679,
          3660777,
          4205900,
          1124660,
          4216975,
          5737037,
          9262078,
          4075970,
          2520638,
          4916686,
          786690,
          1569825,
          800493,
          920610,
          7364823,
          1302894,
          17558072,
          5881766,
          652717,
          10797630,
          3025290,
          2633105,
          11863895,
          947154,
          3121820,
          690768,
          4591120,
          14229191,
          1461037,
          511456,
          5346818,
          4132156,
          1949644,
          4705767,
          469557
         ]
        },
        {
         "customdata": [
          "Republican",
          "Republican",
          "Republican",
          "Republican",
          "Republican",
          "Republican",
          "Republican",
          "Republican",
          "Democrat",
          "Republican",
          "Democrat",
          "Democrat",
          "Republican",
          "Republican",
          "Republican",
          "Republican",
          "Republican",
          "Republican",
          "Republican",
          "Republican",
          "Democrat",
          "Republican",
          "Republican",
          "Democrat",
          "Republican",
          "Republican",
          "Republican",
          "Republican",
          "Republican",
          "Republican",
          "Republican",
          "Republican",
          "Democrat",
          "Republican",
          "Republican",
          "Republican",
          "Republican",
          "Republican",
          "Republican",
          "Democrat",
          "Republican",
          "Republican",
          "Republican",
          "Republican",
          "Republican",
          "Republican",
          "Republican",
          "Republican",
          "Democrat",
          "Republican",
          "Republican"
         ],
         "hovertemplate": "%{x}<br>Pop: %{y}<br>%{customdata}<extra></extra>",
         "marker": {
          "color": [
           "#DE0100",
           "#DE0100",
           "#DE0100",
           "#DE0100",
           "#DE0100",
           "#DE0100",
           "#DE0100",
           "#DE0100",
           "#0015BC",
           "#DE0100",
           "#0015BC",
           "#0015BC",
           "#DE0100",
           "#DE0100",
           "#DE0100",
           "#DE0100",
           "#DE0100",
           "#DE0100",
           "#DE0100",
           "#DE0100",
           "#0015BC",
           "#DE0100",
           "#DE0100",
           "#0015BC",
           "#DE0100",
           "#DE0100",
           "#DE0100",
           "#DE0100",
           "#DE0100",
           "#DE0100",
           "#DE0100",
           "#DE0100",
           "#0015BC",
           "#DE0100",
           "#DE0100",
           "#DE0100",
           "#DE0100",
           "#DE0100",
           "#DE0100",
           "#0015BC",
           "#DE0100",
           "#DE0100",
           "#DE0100",
           "#DE0100",
           "#DE0100",
           "#DE0100",
           "#DE0100",
           "#DE0100",
           "#0015BC",
           "#DE0100",
           "#DE0100"
          ]
         },
         "mode": "markers",
         "type": "scatter",
         "visible": false,
         "x": [
          "AL",
          "AK",
          "AZ",
          "AR",
          "CA",
          "CO",
          "CT",
          "DE",
          "DC",
          "FL",
          "GA",
          "HI",
          "ID",
          "IL",
          "IN",
          "IA",
          "KS",
          "KY",
          "LA",
          "ME",
          "MD",
          "MA",
          "MI",
          "MN",
          "MS",
          "MO",
          "MT",
          "NE",
          "NV",
          "NH",
          "NJ",
          "NM",
          "NY",
          "NC",
          "ND",
          "OH",
          "OK",
          "OR",
          "PA",
          "RI",
          "SC",
          "SD",
          "TN",
          "TX",
          "UT",
          "VT",
          "VA",
          "WA",
          "WV",
          "WI",
          "WY"
         ],
         "y": [
          3893888,
          401851,
          2718215,
          2286435,
          23667902,
          2889964,
          3107576,
          594338,
          638333,
          9746324,
          5463105,
          964691,
          943935,
          11426518,
          5490224,
          2913808,
          2363679,
          3660777,
          4205900,
          1124660,
          4216975,
          5737037,
          9262078,
          4075970,
          2520638,
          4916686,
          786690,
          1569825,
          800493,
          920610,
          7364823,
          1302894,
          17558072,
          5881766,
          652717,
          10797630,
          3025290,
          2633105,
          11863895,
          947154,
          3121820,
          690768,
          4591120,
          14229191,
          1461037,
          511456,
          5346818,
          4132156,
          1949644,
          4705767,
          469557
         ]
        },
        {
         "customdata": [
          "Republican",
          "Republican",
          "Republican",
          "Republican",
          "Republican",
          "Republican",
          "Republican",
          "Republican",
          "Democrat",
          "Republican",
          "Republican",
          "Republican",
          "Republican",
          "Republican",
          "Republican",
          "Republican",
          "Republican",
          "Republican",
          "Republican",
          "Republican",
          "Republican",
          "Republican",
          "Republican",
          "Democrat",
          "Republican",
          "Republican",
          "Republican",
          "Republican",
          "Republican",
          "Republican",
          "Republican",
          "Republican",
          "Republican",
          "Republican",
          "Republican",
          "Republican",
          "Republican",
          "Republican",
          "Republican",
          "Republican",
          "Republican",
          "Republican",
          "Republican",
          "Republican",
          "Republican",
          "Republican",
          "Republican",
          "Republican",
          "Republican",
          "Republican",
          "Republican"
         ],
         "hovertemplate": "%{x}<br>Pop: %{y}<br>%{customdata}<extra></extra>",
         "marker": {
          "color": [
           "#DE0100",
           "#DE0100",
           "#DE0100",
           "#DE0100",
           "#DE0100",
           "#DE0100",
           "#DE0100",
           "#DE0100",
           "#0015BC",
           "#DE0100",
           "#DE0100",
           "#DE0100",
           "#DE0100",
           "#DE0100",
           "#DE0100",
           "#DE0100",
           "#DE0100",
           "#DE0100",
           "#DE0100",
           "#DE0100",
           "#DE0100",
           "#DE0100",
           "#DE0100",
           "#0015BC",
           "#DE0100",
           "#DE0100",
           "#DE0100",
           "#DE0100",
           "#DE0100",
           "#DE0100",
           "#DE0100",
           "#DE0100",
           "#DE0100",
           "#DE0100",
           "#DE0100",
           "#DE0100",
           "#DE0100",
           "#DE0100",
           "#DE0100",
           "#DE0100",
           "#DE0100",
           "#DE0100",
           "#DE0100",
           "#DE0100",
           "#DE0100",
           "#DE0100",
           "#DE0100",
           "#DE0100",
           "#DE0100",
           "#DE0100",
           "#DE0100"
          ]
         },
         "mode": "markers",
         "type": "scatter",
         "visible": false,
         "x": [
          "AL",
          "AK",
          "AZ",
          "AR",
          "CA",
          "CO",
          "CT",
          "DE",
          "DC",
          "FL",
          "GA",
          "HI",
          "ID",
          "IL",
          "IN",
          "IA",
          "KS",
          "KY",
          "LA",
          "ME",
          "MD",
          "MA",
          "MI",
          "MN",
          "MS",
          "MO",
          "MT",
          "NE",
          "NV",
          "NH",
          "NJ",
          "NM",
          "NY",
          "NC",
          "ND",
          "OH",
          "OK",
          "OR",
          "PA",
          "RI",
          "SC",
          "SD",
          "TN",
          "TX",
          "UT",
          "VT",
          "VA",
          "WA",
          "WV",
          "WI",
          "WY"
         ],
         "y": [
          3893888,
          401851,
          2718215,
          2286435,
          23667902,
          2889964,
          3107576,
          594338,
          638333,
          9746324,
          5463105,
          964691,
          943935,
          11426518,
          5490224,
          2913808,
          2363679,
          3660777,
          4205900,
          1124660,
          4216975,
          5737037,
          9262078,
          4075970,
          2520638,
          4916686,
          786690,
          1569825,
          800493,
          920610,
          7364823,
          1302894,
          17558072,
          5881766,
          652717,
          10797630,
          3025290,
          2633105,
          11863895,
          947154,
          3121820,
          690768,
          4591120,
          14229191,
          1461037,
          511456,
          5346818,
          4132156,
          1949644,
          4705767,
          469557
         ]
        },
        {
         "customdata": [
          "Republican",
          "Republican",
          "Republican",
          "Republican",
          "Republican",
          "Republican",
          "Republican",
          "Republican",
          "Democrat",
          "Republican",
          "Republican",
          "Democrat",
          "Republican",
          "Republican",
          "Republican",
          "Democrat",
          "Republican",
          "Republican",
          "Republican",
          "Republican",
          "Republican",
          "Democrat",
          "Republican",
          "Democrat",
          "Republican",
          "Republican",
          "Republican",
          "Republican",
          "Republican",
          "Republican",
          "Republican",
          "Republican",
          "Democrat",
          "Republican",
          "Republican",
          "Republican",
          "Republican",
          "Democrat",
          "Republican",
          "Democrat",
          "Republican",
          "Republican",
          "Republican",
          "Republican",
          "Republican",
          "Republican",
          "Republican",
          "Democrat",
          "Democrat",
          "Democrat",
          "Republican"
         ],
         "hovertemplate": "%{x}<br>Pop: %{y}<br>%{customdata}<extra></extra>",
         "marker": {
          "color": [
           "#DE0100",
           "#DE0100",
           "#DE0100",
           "#DE0100",
           "#DE0100",
           "#DE0100",
           "#DE0100",
           "#DE0100",
           "#0015BC",
           "#DE0100",
           "#DE0100",
           "#0015BC",
           "#DE0100",
           "#DE0100",
           "#DE0100",
           "#0015BC",
           "#DE0100",
           "#DE0100",
           "#DE0100",
           "#DE0100",
           "#DE0100",
           "#0015BC",
           "#DE0100",
           "#0015BC",
           "#DE0100",
           "#DE0100",
           "#DE0100",
           "#DE0100",
           "#DE0100",
           "#DE0100",
           "#DE0100",
           "#DE0100",
           "#0015BC",
           "#DE0100",
           "#DE0100",
           "#DE0100",
           "#DE0100",
           "#0015BC",
           "#DE0100",
           "#0015BC",
           "#DE0100",
           "#DE0100",
           "#DE0100",
           "#DE0100",
           "#DE0100",
           "#DE0100",
           "#DE0100",
           "#0015BC",
           "#0015BC",
           "#0015BC",
           "#DE0100"
          ]
         },
         "mode": "markers",
         "type": "scatter",
         "visible": false,
         "x": [
          "AL",
          "AK",
          "AZ",
          "AR",
          "CA",
          "CO",
          "CT",
          "DE",
          "DC",
          "FL",
          "GA",
          "HI",
          "ID",
          "IL",
          "IN",
          "IA",
          "KS",
          "KY",
          "LA",
          "ME",
          "MD",
          "MA",
          "MI",
          "MN",
          "MS",
          "MO",
          "MT",
          "NE",
          "NV",
          "NH",
          "NJ",
          "NM",
          "NY",
          "NC",
          "ND",
          "OH",
          "OK",
          "OR",
          "PA",
          "RI",
          "SC",
          "SD",
          "TN",
          "TX",
          "UT",
          "VT",
          "VA",
          "WA",
          "WV",
          "WI",
          "WY"
         ],
         "y": [
          4040587,
          550043,
          3665228,
          2350725,
          29760021,
          3294394,
          3287116,
          666168,
          606900,
          12937926,
          6478216,
          1108229,
          1006749,
          11430602,
          5544159,
          2776755,
          2477574,
          3685296,
          4219973,
          1227928,
          4781468,
          6016425,
          9295297,
          4375099,
          2573216,
          5117073,
          799065,
          1578385,
          1201833,
          1109252,
          7730188,
          1515069,
          17990455,
          6628637,
          638800,
          10847115,
          3145585,
          2842321,
          11881643,
          1003464,
          3486703,
          696004,
          4877185,
          16986510,
          1722850,
          562758,
          6187358,
          4866692,
          1793477,
          4891769,
          453588
         ]
        },
        {
         "customdata": [
          "Republican",
          "Republican",
          "Republican",
          "Democrat",
          "Democrat",
          "Democrat",
          "Democrat",
          "Democrat",
          "Democrat",
          "Republican",
          "Democrat",
          "Democrat",
          "Republican",
          "Democrat",
          "Republican",
          "Democrat",
          "Republican",
          "Democrat",
          "Democrat",
          "Democrat",
          "Democrat",
          "Democrat",
          "Democrat",
          "Democrat",
          "Republican",
          "Democrat",
          "Democrat",
          "Republican",
          "Democrat",
          "Democrat",
          "Democrat",
          "Democrat",
          "Democrat",
          "Republican",
          "Republican",
          "Democrat",
          "Republican",
          "Democrat",
          "Democrat",
          "Democrat",
          "Republican",
          "Republican",
          "Democrat",
          "Republican",
          "Republican",
          "Democrat",
          "Republican",
          "Democrat",
          "Democrat",
          "Democrat",
          "Republican"
         ],
         "hovertemplate": "%{x}<br>Pop: %{y}<br>%{customdata}<extra></extra>",
         "marker": {
          "color": [
           "#DE0100",
           "#DE0100",
           "#DE0100",
           "#0015BC",
           "#0015BC",
           "#0015BC",
           "#0015BC",
           "#0015BC",
           "#0015BC",
           "#DE0100",
           "#0015BC",
           "#0015BC",
           "#DE0100",
           "#0015BC",
           "#DE0100",
           "#0015BC",
           "#DE0100",
           "#0015BC",
           "#0015BC",
           "#0015BC",
           "#0015BC",
           "#0015BC",
           "#0015BC",
           "#0015BC",
           "#DE0100",
           "#0015BC",
           "#0015BC",
           "#DE0100",
           "#0015BC",
           "#0015BC",
           "#0015BC",
           "#0015BC",
           "#0015BC",
           "#DE0100",
           "#DE0100",
           "#0015BC",
           "#DE0100",
           "#0015BC",
           "#0015BC",
           "#0015BC",
           "#DE0100",
           "#DE0100",
           "#0015BC",
           "#DE0100",
           "#DE0100",
           "#0015BC",
           "#DE0100",
           "#0015BC",
           "#0015BC",
           "#0015BC",
           "#DE0100"
          ]
         },
         "mode": "markers",
         "type": "scatter",
         "visible": false,
         "x": [
          "AL",
          "AK",
          "AZ",
          "AR",
          "CA",
          "CO",
          "CT",
          "DE",
          "DC",
          "FL",
          "GA",
          "HI",
          "ID",
          "IL",
          "IN",
          "IA",
          "KS",
          "KY",
          "LA",
          "ME",
          "MD",
          "MA",
          "MI",
          "MN",
          "MS",
          "MO",
          "MT",
          "NE",
          "NV",
          "NH",
          "NJ",
          "NM",
          "NY",
          "NC",
          "ND",
          "OH",
          "OK",
          "OR",
          "PA",
          "RI",
          "SC",
          "SD",
          "TN",
          "TX",
          "UT",
          "VT",
          "VA",
          "WA",
          "WV",
          "WI",
          "WY"
         ],
         "y": [
          4040587,
          550043,
          3665228,
          2350725,
          29760021,
          3294394,
          3287116,
          666168,
          606900,
          12937926,
          6478216,
          1108229,
          1006749,
          11430602,
          5544159,
          2776755,
          2477574,
          3685296,
          4219973,
          1227928,
          4781468,
          6016425,
          9295297,
          4375099,
          2573216,
          5117073,
          799065,
          1578385,
          1201833,
          1109252,
          7730188,
          1515069,
          17990455,
          6628637,
          638800,
          10847115,
          3145585,
          2842321,
          11881643,
          1003464,
          3486703,
          696004,
          4877185,
          16986510,
          1722850,
          562758,
          6187358,
          4866692,
          1793477,
          4891769,
          453588
         ]
        },
        {
         "customdata": [
          "Republican",
          "Republican",
          "Democrat",
          "Democrat",
          "Democrat",
          "Republican",
          "Democrat",
          "Democrat",
          "Democrat",
          "Democrat",
          "Republican",
          "Democrat",
          "Republican",
          "Democrat",
          "Republican",
          "Democrat",
          "Republican",
          "Democrat",
          "Democrat",
          "Democrat",
          "Democrat",
          "Democrat",
          "Democrat",
          "Democrat",
          "Republican",
          "Democrat",
          "Republican",
          "Republican",
          "Democrat",
          "Democrat",
          "Democrat",
          "Democrat",
          "Democrat",
          "Republican",
          "Republican",
          "Democrat",
          "Republican",
          "Democrat",
          "Democrat",
          "Democrat",
          "Republican",
          "Republican",
          "Democrat",
          "Republican",
          "Republican",
          "Democrat",
          "Republican",
          "Democrat",
          "Democrat",
          "Democrat",
          "Republican"
         ],
         "hovertemplate": "%{x}<br>Pop: %{y}<br>%{customdata}<extra></extra>",
         "marker": {
          "color": [
           "#DE0100",
           "#DE0100",
           "#0015BC",
           "#0015BC",
           "#0015BC",
           "#DE0100",
           "#0015BC",
           "#0015BC",
           "#0015BC",
           "#0015BC",
           "#DE0100",
           "#0015BC",
           "#DE0100",
           "#0015BC",
           "#DE0100",
           "#0015BC",
           "#DE0100",
           "#0015BC",
           "#0015BC",
           "#0015BC",
           "#0015BC",
           "#0015BC",
           "#0015BC",
           "#0015BC",
           "#DE0100",
           "#0015BC",
           "#DE0100",
           "#DE0100",
           "#0015BC",
           "#0015BC",
           "#0015BC",
           "#0015BC",
           "#0015BC",
           "#DE0100",
           "#DE0100",
           "#0015BC",
           "#DE0100",
           "#0015BC",
           "#0015BC",
           "#0015BC",
           "#DE0100",
           "#DE0100",
           "#0015BC",
           "#DE0100",
           "#DE0100",
           "#0015BC",
           "#DE0100",
           "#0015BC",
           "#0015BC",
           "#0015BC",
           "#DE0100"
          ]
         },
         "mode": "markers",
         "type": "scatter",
         "visible": false,
         "x": [
          "AL",
          "AK",
          "AZ",
          "AR",
          "CA",
          "CO",
          "CT",
          "DE",
          "DC",
          "FL",
          "GA",
          "HI",
          "ID",
          "IL",
          "IN",
          "IA",
          "KS",
          "KY",
          "LA",
          "ME",
          "MD",
          "MA",
          "MI",
          "MN",
          "MS",
          "MO",
          "MT",
          "NE",
          "NV",
          "NH",
          "NJ",
          "NM",
          "NY",
          "NC",
          "ND",
          "OH",
          "OK",
          "OR",
          "PA",
          "RI",
          "SC",
          "SD",
          "TN",
          "TX",
          "UT",
          "VT",
          "VA",
          "WA",
          "WV",
          "WI",
          "WY"
         ],
         "y": [
          4447100,
          626932,
          5130632,
          2673400,
          33871648,
          4301261,
          3405565,
          783600,
          572059,
          15982378,
          8186453,
          1211537,
          1293953,
          12419293,
          6080485,
          2926324,
          2688418,
          4041769,
          4468976,
          1274923,
          5296486,
          6349097,
          9938444,
          4919479,
          2844658,
          5595211,
          902195,
          1711263,
          1998257,
          1235786,
          8414350,
          1819046,
          18976457,
          8049313,
          642200,
          11353140,
          3450654,
          3421399,
          12281054,
          1048319,
          4012012,
          754844,
          5689283,
          20851820,
          2233169,
          608827,
          7078515,
          5894121,
          1808344,
          5363675,
          493782
         ]
        },
        {
         "customdata": [
          "Republican",
          "Republican",
          "Republican",
          "Republican",
          "Democrat",
          "Republican",
          "Democrat",
          "Democrat",
          "Democrat",
          "Republican",
          "Republican",
          "Democrat",
          "Republican",
          "Democrat",
          "Republican",
          "Democrat",
          "Republican",
          "Republican",
          "Republican",
          "Democrat",
          "Democrat",
          "Democrat",
          "Democrat",
          "Democrat",
          "Republican",
          "Republican",
          "Republican",
          "Republican",
          "Republican",
          "Republican",
          "Democrat",
          "Democrat",
          "Democrat",
          "Republican",
          "Republican",
          "Republican",
          "Republican",
          "Democrat",
          "Democrat",
          "Democrat",
          "Republican",
          "Republican",
          "Republican",
          "Republican",
          "Republican",
          "Democrat",
          "Republican",
          "Democrat",
          "Republican",
          "Democrat",
          "Republican"
         ],
         "hovertemplate": "%{x}<br>Pop: %{y}<br>%{customdata}<extra></extra>",
         "marker": {
          "color": [
           "#DE0100",
           "#DE0100",
           "#DE0100",
           "#DE0100",
           "#0015BC",
           "#DE0100",
           "#0015BC",
           "#0015BC",
           "#0015BC",
           "#DE0100",
           "#DE0100",
           "#0015BC",
           "#DE0100",
           "#0015BC",
           "#DE0100",
           "#0015BC",
           "#DE0100",
           "#DE0100",
           "#DE0100",
           "#0015BC",
           "#0015BC",
           "#0015BC",
           "#0015BC",
           "#0015BC",
           "#DE0100",
           "#DE0100",
           "#DE0100",
           "#DE0100",
           "#DE0100",
           "#DE0100",
           "#0015BC",
           "#0015BC",
           "#0015BC",
           "#DE0100",
           "#DE0100",
           "#DE0100",
           "#DE0100",
           "#0015BC",
           "#0015BC",
           "#0015BC",
           "#DE0100",
           "#DE0100",
           "#DE0100",
           "#DE0100",
           "#DE0100",
           "#0015BC",
           "#DE0100",
           "#0015BC",
           "#DE0100",
           "#0015BC",
           "#DE0100"
          ]
         },
         "mode": "markers",
         "type": "scatter",
         "visible": false,
         "x": [
          "AL",
          "AK",
          "AZ",
          "AR",
          "CA",
          "CO",
          "CT",
          "DE",
          "DC",
          "FL",
          "GA",
          "HI",
          "ID",
          "IL",
          "IN",
          "IA",
          "KS",
          "KY",
          "LA",
          "ME",
          "MD",
          "MA",
          "MI",
          "MN",
          "MS",
          "MO",
          "MT",
          "NE",
          "NV",
          "NH",
          "NJ",
          "NM",
          "NY",
          "NC",
          "ND",
          "OH",
          "OK",
          "OR",
          "PA",
          "RI",
          "SC",
          "SD",
          "TN",
          "TX",
          "UT",
          "VT",
          "VA",
          "WA",
          "WV",
          "WI",
          "WY"
         ],
         "y": [
          4447100,
          626932,
          5130632,
          2673400,
          33871648,
          4301261,
          3405565,
          783600,
          572059,
          15982378,
          8186453,
          1211537,
          1293953,
          12419293,
          6080485,
          2926324,
          2688418,
          4041769,
          4468976,
          1274923,
          5296486,
          6349097,
          9938444,
          4919479,
          2844658,
          5595211,
          902195,
          1711263,
          1998257,
          1235786,
          8414350,
          1819046,
          18976457,
          8049313,
          642200,
          11353140,
          3450654,
          3421399,
          12281054,
          1048319,
          4012012,
          754844,
          5689283,
          20851820,
          2233169,
          608827,
          7078515,
          5894121,
          1808344,
          5363675,
          493782
         ]
        },
        {
         "customdata": [
          "Republican",
          "Republican",
          "Republican",
          "Republican",
          "Democrat",
          "Republican",
          "Democrat",
          "Democrat",
          "Democrat",
          "Republican",
          "Republican",
          "Democrat",
          "Republican",
          "Democrat",
          "Republican",
          "Republican",
          "Republican",
          "Republican",
          "Republican",
          "Democrat",
          "Democrat",
          "Democrat",
          "Democrat",
          "Democrat",
          "Republican",
          "Republican",
          "Republican",
          "Republican",
          "Republican",
          "Democrat",
          "Democrat",
          "Republican",
          "Democrat",
          "Republican",
          "Republican",
          "Republican",
          "Republican",
          "Democrat",
          "Democrat",
          "Democrat",
          "Republican",
          "Republican",
          "Republican",
          "Republican",
          "Republican",
          "Democrat",
          "Republican",
          "Democrat",
          "Republican",
          "Democrat",
          "Republican"
         ],
         "hovertemplate": "%{x}<br>Pop: %{y}<br>%{customdata}<extra></extra>",
         "marker": {
          "color": [
           "#DE0100",
           "#DE0100",
           "#DE0100",
           "#DE0100",
           "#0015BC",
           "#DE0100",
           "#0015BC",
           "#0015BC",
           "#0015BC",
           "#DE0100",
           "#DE0100",
           "#0015BC",
           "#DE0100",
           "#0015BC",
           "#DE0100",
           "#DE0100",
           "#DE0100",
           "#DE0100",
           "#DE0100",
           "#0015BC",
           "#0015BC",
           "#0015BC",
           "#0015BC",
           "#0015BC",
           "#DE0100",
           "#DE0100",
           "#DE0100",
           "#DE0100",
           "#DE0100",
           "#0015BC",
           "#0015BC",
           "#DE0100",
           "#0015BC",
           "#DE0100",
           "#DE0100",
           "#DE0100",
           "#DE0100",
           "#0015BC",
           "#0015BC",
           "#0015BC",
           "#DE0100",
           "#DE0100",
           "#DE0100",
           "#DE0100",
           "#DE0100",
           "#0015BC",
           "#DE0100",
           "#0015BC",
           "#DE0100",
           "#0015BC",
           "#DE0100"
          ]
         },
         "mode": "markers",
         "type": "scatter",
         "visible": false,
         "x": [
          "AL",
          "AK",
          "AZ",
          "AR",
          "CA",
          "CO",
          "CT",
          "DE",
          "DC",
          "FL",
          "GA",
          "HI",
          "ID",
          "IL",
          "IN",
          "IA",
          "KS",
          "KY",
          "LA",
          "ME",
          "MD",
          "MA",
          "MI",
          "MN",
          "MS",
          "MO",
          "MT",
          "NE",
          "NV",
          "NH",
          "NJ",
          "NM",
          "NY",
          "NC",
          "ND",
          "OH",
          "OK",
          "OR",
          "PA",
          "RI",
          "SC",
          "SD",
          "TN",
          "TX",
          "UT",
          "VT",
          "VA",
          "WA",
          "WV",
          "WI",
          "WY"
         ],
         "y": [
          4447100,
          626932,
          5130632,
          2673400,
          33871648,
          4301261,
          3405565,
          783600,
          572059,
          15982378,
          8186453,
          1211537,
          1293953,
          12419293,
          6080485,
          2926324,
          2688418,
          4041769,
          4468976,
          1274923,
          5296486,
          6349097,
          9938444,
          4919479,
          2844658,
          5595211,
          902195,
          1711263,
          1998257,
          1235786,
          8414350,
          1819046,
          18976457,
          8049313,
          642200,
          11353140,
          3450654,
          3421399,
          12281054,
          1048319,
          4012012,
          754844,
          5689283,
          20851820,
          2233169,
          608827,
          7078515,
          5894121,
          1808344,
          5363675,
          493782
         ]
        },
        {
         "customdata": [
          "Republican",
          "Republican",
          "Republican",
          "Republican",
          "Democrat",
          "Democrat",
          "Democrat",
          "Democrat",
          "Democrat",
          "Democrat",
          "Republican",
          "Democrat",
          "Republican",
          "Democrat",
          "Democrat",
          "Democrat",
          "Republican",
          "Republican",
          "Republican",
          "Democrat",
          "Democrat",
          "Democrat",
          "Democrat",
          "Democrat",
          "Republican",
          "Republican",
          "Republican",
          "Republican",
          "Democrat",
          "Democrat",
          "Democrat",
          "Democrat",
          "Democrat",
          "Democrat",
          "Republican",
          "Democrat",
          "Republican",
          "Democrat",
          "Democrat",
          "Democrat",
          "Republican",
          "Republican",
          "Republican",
          "Republican",
          "Republican",
          "Democrat",
          "Democrat",
          "Democrat",
          "Republican",
          "Democrat",
          "Republican"
         ],
         "hovertemplate": "%{x}<br>Pop: %{y}<br>%{customdata}<extra></extra>",
         "marker": {
          "color": [
           "#DE0100",
           "#DE0100",
           "#DE0100",
           "#DE0100",
           "#0015BC",
           "#0015BC",
           "#0015BC",
           "#0015BC",
           "#0015BC",
           "#0015BC",
           "#DE0100",
           "#0015BC",
           "#DE0100",
           "#0015BC",
           "#0015BC",
           "#0015BC",
           "#DE0100",
           "#DE0100",
           "#DE0100",
           "#0015BC",
           "#0015BC",
           "#0015BC",
           "#0015BC",
           "#0015BC",
           "#DE0100",
           "#DE0100",
           "#DE0100",
           "#DE0100",
           "#0015BC",
           "#0015BC",
           "#0015BC",
           "#0015BC",
           "#0015BC",
           "#0015BC",
           "#DE0100",
           "#0015BC",
           "#DE0100",
           "#0015BC",
           "#0015BC",
           "#0015BC",
           "#DE0100",
           "#DE0100",
           "#DE0100",
           "#DE0100",
           "#DE0100",
           "#0015BC",
           "#0015BC",
           "#0015BC",
           "#DE0100",
           "#0015BC",
           "#DE0100"
          ]
         },
         "mode": "markers",
         "type": "scatter",
         "visible": false,
         "x": [
          "AL",
          "AK",
          "AZ",
          "AR",
          "CA",
          "CO",
          "CT",
          "DE",
          "DC",
          "FL",
          "GA",
          "HI",
          "ID",
          "IL",
          "IN",
          "IA",
          "KS",
          "KY",
          "LA",
          "ME",
          "MD",
          "MA",
          "MI",
          "MN",
          "MS",
          "MO",
          "MT",
          "NE",
          "NV",
          "NH",
          "NJ",
          "NM",
          "NY",
          "NC",
          "ND",
          "OH",
          "OK",
          "OR",
          "PA",
          "RI",
          "SC",
          "SD",
          "TN",
          "TX",
          "UT",
          "VT",
          "VA",
          "WA",
          "WV",
          "WI",
          "WY"
         ],
         "y": [
          4779735,
          710231,
          6329013,
          2915921,
          37253956,
          5029196,
          3574097,
          897934,
          601723,
          18801311,
          9687653,
          1360301,
          1567582,
          12830632,
          6483800,
          3046350,
          2853118,
          4339362,
          4515770,
          1328361,
          5773552,
          6547629,
          9883635,
          5303925,
          2967297,
          5988927,
          989415,
          1826341,
          2700551,
          1316472,
          8791894,
          2059180,
          19378104,
          9535475,
          672591,
          11536502,
          3751354,
          3831074,
          12702379,
          1052567,
          4625364,
          814180,
          6346110,
          25145561,
          2763885,
          625741,
          8001024,
          6724540,
          1852996,
          5686986,
          563626
         ]
        },
        {
         "customdata": [
          "Republican",
          "Republican",
          "Republican",
          "Republican",
          "Democrat",
          "Democrat",
          "Democrat",
          "Democrat",
          "Democrat",
          "Democrat",
          "Republican",
          "Democrat",
          "Republican",
          "Democrat",
          "Republican",
          "Democrat",
          "Republican",
          "Republican",
          "Republican",
          "Democrat",
          "Democrat",
          "Democrat",
          "Democrat",
          "Democrat",
          "Republican",
          "Republican",
          "Republican",
          "Republican",
          "Democrat",
          "Democrat",
          "Democrat",
          "Democrat",
          "Democrat",
          "Republican",
          "Republican",
          "Democrat",
          "Republican",
          "Democrat",
          "Democrat",
          "Democrat",
          "Republican",
          "Republican",
          "Republican",
          "Republican",
          "Republican",
          "Democrat",
          "Democrat",
          "Democrat",
          "Republican",
          "Democrat",
          "Republican"
         ],
         "hovertemplate": "%{x}<br>Pop: %{y}<br>%{customdata}<extra></extra>",
         "marker": {
          "color": [
           "#DE0100",
           "#DE0100",
           "#DE0100",
           "#DE0100",
           "#0015BC",
           "#0015BC",
           "#0015BC",
           "#0015BC",
           "#0015BC",
           "#0015BC",
           "#DE0100",
           "#0015BC",
           "#DE0100",
           "#0015BC",
           "#DE0100",
           "#0015BC",
           "#DE0100",
           "#DE0100",
           "#DE0100",
           "#0015BC",
           "#0015BC",
           "#0015BC",
           "#0015BC",
           "#0015BC",
           "#DE0100",
           "#DE0100",
           "#DE0100",
           "#DE0100",
           "#0015BC",
           "#0015BC",
           "#0015BC",
           "#0015BC",
           "#0015BC",
           "#DE0100",
           "#DE0100",
           "#0015BC",
           "#DE0100",
           "#0015BC",
           "#0015BC",
           "#0015BC",
           "#DE0100",
           "#DE0100",
           "#DE0100",
           "#DE0100",
           "#DE0100",
           "#0015BC",
           "#0015BC",
           "#0015BC",
           "#DE0100",
           "#0015BC",
           "#DE0100"
          ]
         },
         "mode": "markers",
         "type": "scatter",
         "visible": false,
         "x": [
          "AL",
          "AK",
          "AZ",
          "AR",
          "CA",
          "CO",
          "CT",
          "DE",
          "DC",
          "FL",
          "GA",
          "HI",
          "ID",
          "IL",
          "IN",
          "IA",
          "KS",
          "KY",
          "LA",
          "ME",
          "MD",
          "MA",
          "MI",
          "MN",
          "MS",
          "MO",
          "MT",
          "NE",
          "NV",
          "NH",
          "NJ",
          "NM",
          "NY",
          "NC",
          "ND",
          "OH",
          "OK",
          "OR",
          "PA",
          "RI",
          "SC",
          "SD",
          "TN",
          "TX",
          "UT",
          "VT",
          "VA",
          "WA",
          "WV",
          "WI",
          "WY"
         ],
         "y": [
          4779735,
          710231,
          6329013,
          2915921,
          37253956,
          5029196,
          3574097,
          897934,
          601723,
          18801311,
          9687653,
          1360301,
          1567582,
          12830632,
          6483800,
          3046350,
          2853118,
          4339362,
          4515770,
          1328361,
          5773552,
          6547629,
          9883635,
          5303925,
          2967297,
          5988927,
          989415,
          1826341,
          2700551,
          1316472,
          8791894,
          2059180,
          19378104,
          9535475,
          672591,
          11536502,
          3751354,
          3831074,
          12702379,
          1052567,
          4625364,
          814180,
          6346110,
          25145561,
          2763885,
          625741,
          8001024,
          6724540,
          1852996,
          5686986,
          563626
         ]
        },
        {
         "customdata": [
          "Republican",
          "Republican",
          "Republican",
          "Republican",
          "Democrat",
          "Democrat",
          "Democrat",
          "Democrat",
          "Democrat",
          "Republican",
          "Republican",
          "Democrat",
          "Republican",
          "Democrat",
          "Republican",
          "Republican",
          "Republican",
          "Republican",
          "Republican",
          "Democrat",
          "Democrat",
          "Democrat",
          "Republican",
          "Democrat",
          "Republican",
          "Republican",
          "Republican",
          "Republican",
          "Democrat",
          "Democrat",
          "Democrat",
          "Democrat",
          "Democrat",
          "Republican",
          "Republican",
          "Republican",
          "Republican",
          "Democrat",
          "Republican",
          "Democrat",
          "Republican",
          "Republican",
          "Republican",
          "Republican",
          "Republican",
          "Democrat",
          "Democrat",
          "Democrat",
          "Republican",
          "Republican",
          "Republican"
         ],
         "hovertemplate": "%{x}<br>Pop: %{y}<br>%{customdata}<extra></extra>",
         "marker": {
          "color": [
           "#DE0100",
           "#DE0100",
           "#DE0100",
           "#DE0100",
           "#0015BC",
           "#0015BC",
           "#0015BC",
           "#0015BC",
           "#0015BC",
           "#DE0100",
           "#DE0100",
           "#0015BC",
           "#DE0100",
           "#0015BC",
           "#DE0100",
           "#DE0100",
           "#DE0100",
           "#DE0100",
           "#DE0100",
           "#0015BC",
           "#0015BC",
           "#0015BC",
           "#DE0100",
           "#0015BC",
           "#DE0100",
           "#DE0100",
           "#DE0100",
           "#DE0100",
           "#0015BC",
           "#0015BC",
           "#0015BC",
           "#0015BC",
           "#0015BC",
           "#DE0100",
           "#DE0100",
           "#DE0100",
           "#DE0100",
           "#0015BC",
           "#DE0100",
           "#0015BC",
           "#DE0100",
           "#DE0100",
           "#DE0100",
           "#DE0100",
           "#DE0100",
           "#0015BC",
           "#0015BC",
           "#0015BC",
           "#DE0100",
           "#DE0100",
           "#DE0100"
          ]
         },
         "mode": "markers",
         "type": "scatter",
         "visible": false,
         "x": [
          "AL",
          "AK",
          "AZ",
          "AR",
          "CA",
          "CO",
          "CT",
          "DE",
          "DC",
          "FL",
          "GA",
          "HI",
          "ID",
          "IL",
          "IN",
          "IA",
          "KS",
          "KY",
          "LA",
          "ME",
          "MD",
          "MA",
          "MI",
          "MN",
          "MS",
          "MO",
          "MT",
          "NE",
          "NV",
          "NH",
          "NJ",
          "NM",
          "NY",
          "NC",
          "ND",
          "OH",
          "OK",
          "OR",
          "PA",
          "RI",
          "SC",
          "SD",
          "TN",
          "TX",
          "UT",
          "VT",
          "VA",
          "WA",
          "WV",
          "WI",
          "WY"
         ],
         "y": [
          4779735,
          710231,
          6329013,
          2915921,
          37253956,
          5029196,
          3574097,
          897934,
          601723,
          18801311,
          9687653,
          1360301,
          1567582,
          12830632,
          6483800,
          3046350,
          2853118,
          4339362,
          4515770,
          1328361,
          5773552,
          6547629,
          9883635,
          5303925,
          2967297,
          5988927,
          989415,
          1826341,
          2700551,
          1316472,
          8791894,
          2059180,
          19378104,
          9535475,
          672591,
          11536502,
          3751354,
          3831074,
          12702379,
          1052567,
          4625364,
          814180,
          6346110,
          25145561,
          2763885,
          625741,
          8001024,
          6724540,
          1852996,
          5686986,
          563626
         ]
        }
       ],
       "layout": {
        "sliders": [
         {
          "active": 0,
          "pad": {
           "t": 50
          },
          "steps": [
           {
            "args": [
             {
              "visible": [
               true,
               false,
               false,
               false,
               false,
               false,
               false,
               false,
               false,
               false,
               false
              ]
             },
             {
              "title": "Population vs Election Results - 1976"
             },
             {
              "title_x": 0.5
             }
            ],
            "label": "Year 1976",
            "method": "update"
           },
           {
            "args": [
             {
              "visible": [
               false,
               true,
               false,
               false,
               false,
               false,
               false,
               false,
               false,
               false,
               false
              ]
             },
             {
              "title": "Population vs Election Results - 1980"
             },
             {
              "title_x": 0.5
             }
            ],
            "label": "Year 1980",
            "method": "update"
           },
           {
            "args": [
             {
              "visible": [
               false,
               false,
               true,
               false,
               false,
               false,
               false,
               false,
               false,
               false,
               false
              ]
             },
             {
              "title": "Population vs Election Results - 1984"
             },
             {
              "title_x": 0.5
             }
            ],
            "label": "Year 1984",
            "method": "update"
           },
           {
            "args": [
             {
              "visible": [
               false,
               false,
               false,
               true,
               false,
               false,
               false,
               false,
               false,
               false,
               false
              ]
             },
             {
              "title": "Population vs Election Results - 1988"
             },
             {
              "title_x": 0.5
             }
            ],
            "label": "Year 1988",
            "method": "update"
           },
           {
            "args": [
             {
              "visible": [
               false,
               false,
               false,
               false,
               true,
               false,
               false,
               false,
               false,
               false,
               false
              ]
             },
             {
              "title": "Population vs Election Results - 1992"
             },
             {
              "title_x": 0.5
             }
            ],
            "label": "Year 1992",
            "method": "update"
           },
           {
            "args": [
             {
              "visible": [
               false,
               false,
               false,
               false,
               false,
               true,
               false,
               false,
               false,
               false,
               false
              ]
             },
             {
              "title": "Population vs Election Results - 1996"
             },
             {
              "title_x": 0.5
             }
            ],
            "label": "Year 1996",
            "method": "update"
           },
           {
            "args": [
             {
              "visible": [
               false,
               false,
               false,
               false,
               false,
               false,
               true,
               false,
               false,
               false,
               false
              ]
             },
             {
              "title": "Population vs Election Results - 2000"
             },
             {
              "title_x": 0.5
             }
            ],
            "label": "Year 2000",
            "method": "update"
           },
           {
            "args": [
             {
              "visible": [
               false,
               false,
               false,
               false,
               false,
               false,
               false,
               true,
               false,
               false,
               false
              ]
             },
             {
              "title": "Population vs Election Results - 2004"
             },
             {
              "title_x": 0.5
             }
            ],
            "label": "Year 2004",
            "method": "update"
           },
           {
            "args": [
             {
              "visible": [
               false,
               false,
               false,
               false,
               false,
               false,
               false,
               false,
               true,
               false,
               false
              ]
             },
             {
              "title": "Population vs Election Results - 2008"
             },
             {
              "title_x": 0.5
             }
            ],
            "label": "Year 2008",
            "method": "update"
           },
           {
            "args": [
             {
              "visible": [
               false,
               false,
               false,
               false,
               false,
               false,
               false,
               false,
               false,
               true,
               false
              ]
             },
             {
              "title": "Population vs Election Results - 2012"
             },
             {
              "title_x": 0.5
             }
            ],
            "label": "Year 2012",
            "method": "update"
           },
           {
            "args": [
             {
              "visible": [
               false,
               false,
               false,
               false,
               false,
               false,
               false,
               false,
               false,
               false,
               true
              ]
             },
             {
              "title": "Population vs Election Results - 2016"
             },
             {
              "title_x": 0.5
             }
            ],
            "label": "Year 2016",
            "method": "update"
           }
          ]
         }
        ],
        "template": {
         "data": {
          "bar": [
           {
            "error_x": {
             "color": "#2a3f5f"
            },
            "error_y": {
             "color": "#2a3f5f"
            },
            "marker": {
             "line": {
              "color": "#E5ECF6",
              "width": 0.5
             }
            },
            "type": "bar"
           }
          ],
          "barpolar": [
           {
            "marker": {
             "line": {
              "color": "#E5ECF6",
              "width": 0.5
             }
            },
            "type": "barpolar"
           }
          ],
          "carpet": [
           {
            "aaxis": {
             "endlinecolor": "#2a3f5f",
             "gridcolor": "white",
             "linecolor": "white",
             "minorgridcolor": "white",
             "startlinecolor": "#2a3f5f"
            },
            "baxis": {
             "endlinecolor": "#2a3f5f",
             "gridcolor": "white",
             "linecolor": "white",
             "minorgridcolor": "white",
             "startlinecolor": "#2a3f5f"
            },
            "type": "carpet"
           }
          ],
          "choropleth": [
           {
            "colorbar": {
             "outlinewidth": 0,
             "ticks": ""
            },
            "type": "choropleth"
           }
          ],
          "contour": [
           {
            "colorbar": {
             "outlinewidth": 0,
             "ticks": ""
            },
            "colorscale": [
             [
              0,
              "#0d0887"
             ],
             [
              0.1111111111111111,
              "#46039f"
             ],
             [
              0.2222222222222222,
              "#7201a8"
             ],
             [
              0.3333333333333333,
              "#9c179e"
             ],
             [
              0.4444444444444444,
              "#bd3786"
             ],
             [
              0.5555555555555556,
              "#d8576b"
             ],
             [
              0.6666666666666666,
              "#ed7953"
             ],
             [
              0.7777777777777778,
              "#fb9f3a"
             ],
             [
              0.8888888888888888,
              "#fdca26"
             ],
             [
              1,
              "#f0f921"
             ]
            ],
            "type": "contour"
           }
          ],
          "contourcarpet": [
           {
            "colorbar": {
             "outlinewidth": 0,
             "ticks": ""
            },
            "type": "contourcarpet"
           }
          ],
          "heatmap": [
           {
            "colorbar": {
             "outlinewidth": 0,
             "ticks": ""
            },
            "colorscale": [
             [
              0,
              "#0d0887"
             ],
             [
              0.1111111111111111,
              "#46039f"
             ],
             [
              0.2222222222222222,
              "#7201a8"
             ],
             [
              0.3333333333333333,
              "#9c179e"
             ],
             [
              0.4444444444444444,
              "#bd3786"
             ],
             [
              0.5555555555555556,
              "#d8576b"
             ],
             [
              0.6666666666666666,
              "#ed7953"
             ],
             [
              0.7777777777777778,
              "#fb9f3a"
             ],
             [
              0.8888888888888888,
              "#fdca26"
             ],
             [
              1,
              "#f0f921"
             ]
            ],
            "type": "heatmap"
           }
          ],
          "heatmapgl": [
           {
            "colorbar": {
             "outlinewidth": 0,
             "ticks": ""
            },
            "colorscale": [
             [
              0,
              "#0d0887"
             ],
             [
              0.1111111111111111,
              "#46039f"
             ],
             [
              0.2222222222222222,
              "#7201a8"
             ],
             [
              0.3333333333333333,
              "#9c179e"
             ],
             [
              0.4444444444444444,
              "#bd3786"
             ],
             [
              0.5555555555555556,
              "#d8576b"
             ],
             [
              0.6666666666666666,
              "#ed7953"
             ],
             [
              0.7777777777777778,
              "#fb9f3a"
             ],
             [
              0.8888888888888888,
              "#fdca26"
             ],
             [
              1,
              "#f0f921"
             ]
            ],
            "type": "heatmapgl"
           }
          ],
          "histogram": [
           {
            "marker": {
             "colorbar": {
              "outlinewidth": 0,
              "ticks": ""
             }
            },
            "type": "histogram"
           }
          ],
          "histogram2d": [
           {
            "colorbar": {
             "outlinewidth": 0,
             "ticks": ""
            },
            "colorscale": [
             [
              0,
              "#0d0887"
             ],
             [
              0.1111111111111111,
              "#46039f"
             ],
             [
              0.2222222222222222,
              "#7201a8"
             ],
             [
              0.3333333333333333,
              "#9c179e"
             ],
             [
              0.4444444444444444,
              "#bd3786"
             ],
             [
              0.5555555555555556,
              "#d8576b"
             ],
             [
              0.6666666666666666,
              "#ed7953"
             ],
             [
              0.7777777777777778,
              "#fb9f3a"
             ],
             [
              0.8888888888888888,
              "#fdca26"
             ],
             [
              1,
              "#f0f921"
             ]
            ],
            "type": "histogram2d"
           }
          ],
          "histogram2dcontour": [
           {
            "colorbar": {
             "outlinewidth": 0,
             "ticks": ""
            },
            "colorscale": [
             [
              0,
              "#0d0887"
             ],
             [
              0.1111111111111111,
              "#46039f"
             ],
             [
              0.2222222222222222,
              "#7201a8"
             ],
             [
              0.3333333333333333,
              "#9c179e"
             ],
             [
              0.4444444444444444,
              "#bd3786"
             ],
             [
              0.5555555555555556,
              "#d8576b"
             ],
             [
              0.6666666666666666,
              "#ed7953"
             ],
             [
              0.7777777777777778,
              "#fb9f3a"
             ],
             [
              0.8888888888888888,
              "#fdca26"
             ],
             [
              1,
              "#f0f921"
             ]
            ],
            "type": "histogram2dcontour"
           }
          ],
          "mesh3d": [
           {
            "colorbar": {
             "outlinewidth": 0,
             "ticks": ""
            },
            "type": "mesh3d"
           }
          ],
          "parcoords": [
           {
            "line": {
             "colorbar": {
              "outlinewidth": 0,
              "ticks": ""
             }
            },
            "type": "parcoords"
           }
          ],
          "pie": [
           {
            "automargin": true,
            "type": "pie"
           }
          ],
          "scatter": [
           {
            "marker": {
             "colorbar": {
              "outlinewidth": 0,
              "ticks": ""
             }
            },
            "type": "scatter"
           }
          ],
          "scatter3d": [
           {
            "line": {
             "colorbar": {
              "outlinewidth": 0,
              "ticks": ""
             }
            },
            "marker": {
             "colorbar": {
              "outlinewidth": 0,
              "ticks": ""
             }
            },
            "type": "scatter3d"
           }
          ],
          "scattercarpet": [
           {
            "marker": {
             "colorbar": {
              "outlinewidth": 0,
              "ticks": ""
             }
            },
            "type": "scattercarpet"
           }
          ],
          "scattergeo": [
           {
            "marker": {
             "colorbar": {
              "outlinewidth": 0,
              "ticks": ""
             }
            },
            "type": "scattergeo"
           }
          ],
          "scattergl": [
           {
            "marker": {
             "colorbar": {
              "outlinewidth": 0,
              "ticks": ""
             }
            },
            "type": "scattergl"
           }
          ],
          "scattermapbox": [
           {
            "marker": {
             "colorbar": {
              "outlinewidth": 0,
              "ticks": ""
             }
            },
            "type": "scattermapbox"
           }
          ],
          "scatterpolar": [
           {
            "marker": {
             "colorbar": {
              "outlinewidth": 0,
              "ticks": ""
             }
            },
            "type": "scatterpolar"
           }
          ],
          "scatterpolargl": [
           {
            "marker": {
             "colorbar": {
              "outlinewidth": 0,
              "ticks": ""
             }
            },
            "type": "scatterpolargl"
           }
          ],
          "scatterternary": [
           {
            "marker": {
             "colorbar": {
              "outlinewidth": 0,
              "ticks": ""
             }
            },
            "type": "scatterternary"
           }
          ],
          "surface": [
           {
            "colorbar": {
             "outlinewidth": 0,
             "ticks": ""
            },
            "colorscale": [
             [
              0,
              "#0d0887"
             ],
             [
              0.1111111111111111,
              "#46039f"
             ],
             [
              0.2222222222222222,
              "#7201a8"
             ],
             [
              0.3333333333333333,
              "#9c179e"
             ],
             [
              0.4444444444444444,
              "#bd3786"
             ],
             [
              0.5555555555555556,
              "#d8576b"
             ],
             [
              0.6666666666666666,
              "#ed7953"
             ],
             [
              0.7777777777777778,
              "#fb9f3a"
             ],
             [
              0.8888888888888888,
              "#fdca26"
             ],
             [
              1,
              "#f0f921"
             ]
            ],
            "type": "surface"
           }
          ],
          "table": [
           {
            "cells": {
             "fill": {
              "color": "#EBF0F8"
             },
             "line": {
              "color": "white"
             }
            },
            "header": {
             "fill": {
              "color": "#C8D4E3"
             },
             "line": {
              "color": "white"
             }
            },
            "type": "table"
           }
          ]
         },
         "layout": {
          "annotationdefaults": {
           "arrowcolor": "#2a3f5f",
           "arrowhead": 0,
           "arrowwidth": 1
          },
          "coloraxis": {
           "colorbar": {
            "outlinewidth": 0,
            "ticks": ""
           }
          },
          "colorscale": {
           "diverging": [
            [
             0,
             "#8e0152"
            ],
            [
             0.1,
             "#c51b7d"
            ],
            [
             0.2,
             "#de77ae"
            ],
            [
             0.3,
             "#f1b6da"
            ],
            [
             0.4,
             "#fde0ef"
            ],
            [
             0.5,
             "#f7f7f7"
            ],
            [
             0.6,
             "#e6f5d0"
            ],
            [
             0.7,
             "#b8e186"
            ],
            [
             0.8,
             "#7fbc41"
            ],
            [
             0.9,
             "#4d9221"
            ],
            [
             1,
             "#276419"
            ]
           ],
           "sequential": [
            [
             0,
             "#0d0887"
            ],
            [
             0.1111111111111111,
             "#46039f"
            ],
            [
             0.2222222222222222,
             "#7201a8"
            ],
            [
             0.3333333333333333,
             "#9c179e"
            ],
            [
             0.4444444444444444,
             "#bd3786"
            ],
            [
             0.5555555555555556,
             "#d8576b"
            ],
            [
             0.6666666666666666,
             "#ed7953"
            ],
            [
             0.7777777777777778,
             "#fb9f3a"
            ],
            [
             0.8888888888888888,
             "#fdca26"
            ],
            [
             1,
             "#f0f921"
            ]
           ],
           "sequentialminus": [
            [
             0,
             "#0d0887"
            ],
            [
             0.1111111111111111,
             "#46039f"
            ],
            [
             0.2222222222222222,
             "#7201a8"
            ],
            [
             0.3333333333333333,
             "#9c179e"
            ],
            [
             0.4444444444444444,
             "#bd3786"
            ],
            [
             0.5555555555555556,
             "#d8576b"
            ],
            [
             0.6666666666666666,
             "#ed7953"
            ],
            [
             0.7777777777777778,
             "#fb9f3a"
            ],
            [
             0.8888888888888888,
             "#fdca26"
            ],
            [
             1,
             "#f0f921"
            ]
           ]
          },
          "colorway": [
           "#636efa",
           "#EF553B",
           "#00cc96",
           "#ab63fa",
           "#FFA15A",
           "#19d3f3",
           "#FF6692",
           "#B6E880",
           "#FF97FF",
           "#FECB52"
          ],
          "font": {
           "color": "#2a3f5f"
          },
          "geo": {
           "bgcolor": "white",
           "lakecolor": "white",
           "landcolor": "#E5ECF6",
           "showlakes": true,
           "showland": true,
           "subunitcolor": "white"
          },
          "hoverlabel": {
           "align": "left"
          },
          "hovermode": "closest",
          "mapbox": {
           "style": "light"
          },
          "paper_bgcolor": "white",
          "plot_bgcolor": "#E5ECF6",
          "polar": {
           "angularaxis": {
            "gridcolor": "white",
            "linecolor": "white",
            "ticks": ""
           },
           "bgcolor": "#E5ECF6",
           "radialaxis": {
            "gridcolor": "white",
            "linecolor": "white",
            "ticks": ""
           }
          },
          "scene": {
           "xaxis": {
            "backgroundcolor": "#E5ECF6",
            "gridcolor": "white",
            "gridwidth": 2,
            "linecolor": "white",
            "showbackground": true,
            "ticks": "",
            "zerolinecolor": "white"
           },
           "yaxis": {
            "backgroundcolor": "#E5ECF6",
            "gridcolor": "white",
            "gridwidth": 2,
            "linecolor": "white",
            "showbackground": true,
            "ticks": "",
            "zerolinecolor": "white"
           },
           "zaxis": {
            "backgroundcolor": "#E5ECF6",
            "gridcolor": "white",
            "gridwidth": 2,
            "linecolor": "white",
            "showbackground": true,
            "ticks": "",
            "zerolinecolor": "white"
           }
          },
          "shapedefaults": {
           "line": {
            "color": "#2a3f5f"
           }
          },
          "ternary": {
           "aaxis": {
            "gridcolor": "white",
            "linecolor": "white",
            "ticks": ""
           },
           "baxis": {
            "gridcolor": "white",
            "linecolor": "white",
            "ticks": ""
           },
           "bgcolor": "#E5ECF6",
           "caxis": {
            "gridcolor": "white",
            "linecolor": "white",
            "ticks": ""
           }
          },
          "title": {
           "x": 0.05
          },
          "xaxis": {
           "automargin": true,
           "gridcolor": "white",
           "linecolor": "white",
           "ticks": "",
           "title": {
            "standoff": 15
           },
           "zerolinecolor": "white",
           "zerolinewidth": 2
          },
          "yaxis": {
           "automargin": true,
           "gridcolor": "white",
           "linecolor": "white",
           "ticks": "",
           "title": {
            "standoff": 15
           },
           "zerolinecolor": "white",
           "zerolinewidth": 2
          }
         }
        },
        "title": {
         "text": "Population vs Election Results - 1976",
         "x": 0.5
        },
        "xaxis": {
         "title": {
          "text": "State"
         }
        },
        "yaxis": {
         "range": [
          0,
          40000000
         ],
         "title": {
          "text": "Population"
         }
        }
       }
      },
      "text/html": "<div>                            <div id=\"4a60a586-26d7-4a15-b818-bf765c7ebf66\" class=\"plotly-graph-div\" style=\"height:525px; width:100%;\"></div>            <script type=\"text/javascript\">                require([\"plotly\"], function(Plotly) {                    window.PLOTLYENV=window.PLOTLYENV || {};                                    if (document.getElementById(\"4a60a586-26d7-4a15-b818-bf765c7ebf66\")) {                    Plotly.newPlot(                        \"4a60a586-26d7-4a15-b818-bf765c7ebf66\",                        [{\"customdata\": [\"Democrat\", \"Republican\", \"Republican\", \"Democrat\", \"Republican\", \"Republican\", \"Republican\", \"Democrat\", \"Democrat\", \"Democrat\", \"Democrat\", \"Democrat\", \"Republican\", \"Republican\", \"Republican\", \"Republican\", \"Republican\", \"Democrat\", \"Democrat\", \"Republican\", \"Democrat\", \"Democrat\", \"Republican\", \"Democrat\", \"Democrat\", \"Democrat\", \"Republican\", \"Republican\", \"Republican\", \"Republican\", \"Republican\", \"Republican\", \"Democrat\", \"Democrat\", \"Republican\", \"Democrat\", \"Republican\", \"Republican\", \"Democrat\", \"Democrat\", \"Democrat\", \"Republican\", \"Democrat\", \"Democrat\", \"Republican\", \"Republican\", \"Republican\", \"Republican\", \"Democrat\", \"Democrat\", \"Republican\"], \"hovertemplate\": \"%{x}<br>Pop: %{y}<br>%{customdata}<extra></extra>\", \"marker\": {\"color\": [\"#0015BC\", \"#DE0100\", \"#DE0100\", \"#0015BC\", \"#DE0100\", \"#DE0100\", \"#DE0100\", \"#0015BC\", \"#0015BC\", \"#0015BC\", \"#0015BC\", \"#0015BC\", \"#DE0100\", \"#DE0100\", \"#DE0100\", \"#DE0100\", \"#DE0100\", \"#0015BC\", \"#0015BC\", \"#DE0100\", \"#0015BC\", \"#0015BC\", \"#DE0100\", \"#0015BC\", \"#0015BC\", \"#0015BC\", \"#DE0100\", \"#DE0100\", \"#DE0100\", \"#DE0100\", \"#DE0100\", \"#DE0100\", \"#0015BC\", \"#0015BC\", \"#DE0100\", \"#0015BC\", \"#DE0100\", \"#DE0100\", \"#0015BC\", \"#0015BC\", \"#0015BC\", \"#DE0100\", \"#0015BC\", \"#0015BC\", \"#DE0100\", \"#DE0100\", \"#DE0100\", \"#DE0100\", \"#0015BC\", \"#0015BC\", \"#DE0100\"]}, \"mode\": \"markers\", \"type\": \"scatter\", \"visible\": true, \"x\": [\"AL\", \"AK\", \"AZ\", \"AR\", \"CA\", \"CO\", \"CT\", \"DE\", \"DC\", \"FL\", \"GA\", \"HI\", \"ID\", \"IL\", \"IN\", \"IA\", \"KS\", \"KY\", \"LA\", \"ME\", \"MD\", \"MA\", \"MI\", \"MN\", \"MS\", \"MO\", \"MT\", \"NE\", \"NV\", \"NH\", \"NJ\", \"NM\", \"NY\", \"NC\", \"ND\", \"OH\", \"OK\", \"OR\", \"PA\", \"RI\", \"SC\", \"SD\", \"TN\", \"TX\", \"UT\", \"VT\", \"VA\", \"WA\", \"WV\", \"WI\", \"WY\"], \"y\": [3893888, 401851, 2718215, 2286435, 23667902, 2889964, 3107576, 594338, 638333, 9746324, 5463105, 964691, 943935, 11426518, 5490224, 2913808, 2363679, 3660777, 4205900, 1124660, 4216975, 5737037, 9262078, 4075970, 2520638, 4916686, 786690, 1569825, 800493, 920610, 7364823, 1302894, 17558072, 5881766, 652717, 10797630, 3025290, 2633105, 11863895, 947154, 3121820, 690768, 4591120, 14229191, 1461037, 511456, 5346818, 4132156, 1949644, 4705767, 469557]}, {\"customdata\": [\"Republican\", \"Republican\", \"Republican\", \"Republican\", \"Republican\", \"Republican\", \"Republican\", \"Republican\", \"Democrat\", \"Republican\", \"Democrat\", \"Democrat\", \"Republican\", \"Republican\", \"Republican\", \"Republican\", \"Republican\", \"Republican\", \"Republican\", \"Republican\", \"Democrat\", \"Republican\", \"Republican\", \"Democrat\", \"Republican\", \"Republican\", \"Republican\", \"Republican\", \"Republican\", \"Republican\", \"Republican\", \"Republican\", \"Democrat\", \"Republican\", \"Republican\", \"Republican\", \"Republican\", \"Republican\", \"Republican\", \"Democrat\", \"Republican\", \"Republican\", \"Republican\", \"Republican\", \"Republican\", \"Republican\", \"Republican\", \"Republican\", \"Democrat\", \"Republican\", \"Republican\"], \"hovertemplate\": \"%{x}<br>Pop: %{y}<br>%{customdata}<extra></extra>\", \"marker\": {\"color\": [\"#DE0100\", \"#DE0100\", \"#DE0100\", \"#DE0100\", \"#DE0100\", \"#DE0100\", \"#DE0100\", \"#DE0100\", \"#0015BC\", \"#DE0100\", \"#0015BC\", \"#0015BC\", \"#DE0100\", \"#DE0100\", \"#DE0100\", \"#DE0100\", \"#DE0100\", \"#DE0100\", \"#DE0100\", \"#DE0100\", \"#0015BC\", \"#DE0100\", \"#DE0100\", \"#0015BC\", \"#DE0100\", \"#DE0100\", \"#DE0100\", \"#DE0100\", \"#DE0100\", \"#DE0100\", \"#DE0100\", \"#DE0100\", \"#0015BC\", \"#DE0100\", \"#DE0100\", \"#DE0100\", \"#DE0100\", \"#DE0100\", \"#DE0100\", \"#0015BC\", \"#DE0100\", \"#DE0100\", \"#DE0100\", \"#DE0100\", \"#DE0100\", \"#DE0100\", \"#DE0100\", \"#DE0100\", \"#0015BC\", \"#DE0100\", \"#DE0100\"]}, \"mode\": \"markers\", \"type\": \"scatter\", \"visible\": false, \"x\": [\"AL\", \"AK\", \"AZ\", \"AR\", \"CA\", \"CO\", \"CT\", \"DE\", \"DC\", \"FL\", \"GA\", \"HI\", \"ID\", \"IL\", \"IN\", \"IA\", \"KS\", \"KY\", \"LA\", \"ME\", \"MD\", \"MA\", \"MI\", \"MN\", \"MS\", \"MO\", \"MT\", \"NE\", \"NV\", \"NH\", \"NJ\", \"NM\", \"NY\", \"NC\", \"ND\", \"OH\", \"OK\", \"OR\", \"PA\", \"RI\", \"SC\", \"SD\", \"TN\", \"TX\", \"UT\", \"VT\", \"VA\", \"WA\", \"WV\", \"WI\", \"WY\"], \"y\": [3893888, 401851, 2718215, 2286435, 23667902, 2889964, 3107576, 594338, 638333, 9746324, 5463105, 964691, 943935, 11426518, 5490224, 2913808, 2363679, 3660777, 4205900, 1124660, 4216975, 5737037, 9262078, 4075970, 2520638, 4916686, 786690, 1569825, 800493, 920610, 7364823, 1302894, 17558072, 5881766, 652717, 10797630, 3025290, 2633105, 11863895, 947154, 3121820, 690768, 4591120, 14229191, 1461037, 511456, 5346818, 4132156, 1949644, 4705767, 469557]}, {\"customdata\": [\"Republican\", \"Republican\", \"Republican\", \"Republican\", \"Republican\", \"Republican\", \"Republican\", \"Republican\", \"Democrat\", \"Republican\", \"Republican\", \"Republican\", \"Republican\", \"Republican\", \"Republican\", \"Republican\", \"Republican\", \"Republican\", \"Republican\", \"Republican\", \"Republican\", \"Republican\", \"Republican\", \"Democrat\", \"Republican\", \"Republican\", \"Republican\", \"Republican\", \"Republican\", \"Republican\", \"Republican\", \"Republican\", \"Republican\", \"Republican\", \"Republican\", \"Republican\", \"Republican\", \"Republican\", \"Republican\", \"Republican\", \"Republican\", \"Republican\", \"Republican\", \"Republican\", \"Republican\", \"Republican\", \"Republican\", \"Republican\", \"Republican\", \"Republican\", \"Republican\"], \"hovertemplate\": \"%{x}<br>Pop: %{y}<br>%{customdata}<extra></extra>\", \"marker\": {\"color\": [\"#DE0100\", \"#DE0100\", \"#DE0100\", \"#DE0100\", \"#DE0100\", \"#DE0100\", \"#DE0100\", \"#DE0100\", \"#0015BC\", \"#DE0100\", \"#DE0100\", \"#DE0100\", \"#DE0100\", \"#DE0100\", \"#DE0100\", \"#DE0100\", \"#DE0100\", \"#DE0100\", \"#DE0100\", \"#DE0100\", \"#DE0100\", \"#DE0100\", \"#DE0100\", \"#0015BC\", \"#DE0100\", \"#DE0100\", \"#DE0100\", \"#DE0100\", \"#DE0100\", \"#DE0100\", \"#DE0100\", \"#DE0100\", \"#DE0100\", \"#DE0100\", \"#DE0100\", \"#DE0100\", \"#DE0100\", \"#DE0100\", \"#DE0100\", \"#DE0100\", \"#DE0100\", \"#DE0100\", \"#DE0100\", \"#DE0100\", \"#DE0100\", \"#DE0100\", \"#DE0100\", \"#DE0100\", \"#DE0100\", \"#DE0100\", \"#DE0100\"]}, \"mode\": \"markers\", \"type\": \"scatter\", \"visible\": false, \"x\": [\"AL\", \"AK\", \"AZ\", \"AR\", \"CA\", \"CO\", \"CT\", \"DE\", \"DC\", \"FL\", \"GA\", \"HI\", \"ID\", \"IL\", \"IN\", \"IA\", \"KS\", \"KY\", \"LA\", \"ME\", \"MD\", \"MA\", \"MI\", \"MN\", \"MS\", \"MO\", \"MT\", \"NE\", \"NV\", \"NH\", \"NJ\", \"NM\", \"NY\", \"NC\", \"ND\", \"OH\", \"OK\", \"OR\", \"PA\", \"RI\", \"SC\", \"SD\", \"TN\", \"TX\", \"UT\", \"VT\", \"VA\", \"WA\", \"WV\", \"WI\", \"WY\"], \"y\": [3893888, 401851, 2718215, 2286435, 23667902, 2889964, 3107576, 594338, 638333, 9746324, 5463105, 964691, 943935, 11426518, 5490224, 2913808, 2363679, 3660777, 4205900, 1124660, 4216975, 5737037, 9262078, 4075970, 2520638, 4916686, 786690, 1569825, 800493, 920610, 7364823, 1302894, 17558072, 5881766, 652717, 10797630, 3025290, 2633105, 11863895, 947154, 3121820, 690768, 4591120, 14229191, 1461037, 511456, 5346818, 4132156, 1949644, 4705767, 469557]}, {\"customdata\": [\"Republican\", \"Republican\", \"Republican\", \"Republican\", \"Republican\", \"Republican\", \"Republican\", \"Republican\", \"Democrat\", \"Republican\", \"Republican\", \"Democrat\", \"Republican\", \"Republican\", \"Republican\", \"Democrat\", \"Republican\", \"Republican\", \"Republican\", \"Republican\", \"Republican\", \"Democrat\", \"Republican\", \"Democrat\", \"Republican\", \"Republican\", \"Republican\", \"Republican\", \"Republican\", \"Republican\", \"Republican\", \"Republican\", \"Democrat\", \"Republican\", \"Republican\", \"Republican\", \"Republican\", \"Democrat\", \"Republican\", \"Democrat\", \"Republican\", \"Republican\", \"Republican\", \"Republican\", \"Republican\", \"Republican\", \"Republican\", \"Democrat\", \"Democrat\", \"Democrat\", \"Republican\"], \"hovertemplate\": \"%{x}<br>Pop: %{y}<br>%{customdata}<extra></extra>\", \"marker\": {\"color\": [\"#DE0100\", \"#DE0100\", \"#DE0100\", \"#DE0100\", \"#DE0100\", \"#DE0100\", \"#DE0100\", \"#DE0100\", \"#0015BC\", \"#DE0100\", \"#DE0100\", \"#0015BC\", \"#DE0100\", \"#DE0100\", \"#DE0100\", \"#0015BC\", \"#DE0100\", \"#DE0100\", \"#DE0100\", \"#DE0100\", \"#DE0100\", \"#0015BC\", \"#DE0100\", \"#0015BC\", \"#DE0100\", \"#DE0100\", \"#DE0100\", \"#DE0100\", \"#DE0100\", \"#DE0100\", \"#DE0100\", \"#DE0100\", \"#0015BC\", \"#DE0100\", \"#DE0100\", \"#DE0100\", \"#DE0100\", \"#0015BC\", \"#DE0100\", \"#0015BC\", \"#DE0100\", \"#DE0100\", \"#DE0100\", \"#DE0100\", \"#DE0100\", \"#DE0100\", \"#DE0100\", \"#0015BC\", \"#0015BC\", \"#0015BC\", \"#DE0100\"]}, \"mode\": \"markers\", \"type\": \"scatter\", \"visible\": false, \"x\": [\"AL\", \"AK\", \"AZ\", \"AR\", \"CA\", \"CO\", \"CT\", \"DE\", \"DC\", \"FL\", \"GA\", \"HI\", \"ID\", \"IL\", \"IN\", \"IA\", \"KS\", \"KY\", \"LA\", \"ME\", \"MD\", \"MA\", \"MI\", \"MN\", \"MS\", \"MO\", \"MT\", \"NE\", \"NV\", \"NH\", \"NJ\", \"NM\", \"NY\", \"NC\", \"ND\", \"OH\", \"OK\", \"OR\", \"PA\", \"RI\", \"SC\", \"SD\", \"TN\", \"TX\", \"UT\", \"VT\", \"VA\", \"WA\", \"WV\", \"WI\", \"WY\"], \"y\": [4040587, 550043, 3665228, 2350725, 29760021, 3294394, 3287116, 666168, 606900, 12937926, 6478216, 1108229, 1006749, 11430602, 5544159, 2776755, 2477574, 3685296, 4219973, 1227928, 4781468, 6016425, 9295297, 4375099, 2573216, 5117073, 799065, 1578385, 1201833, 1109252, 7730188, 1515069, 17990455, 6628637, 638800, 10847115, 3145585, 2842321, 11881643, 1003464, 3486703, 696004, 4877185, 16986510, 1722850, 562758, 6187358, 4866692, 1793477, 4891769, 453588]}, {\"customdata\": [\"Republican\", \"Republican\", \"Republican\", \"Democrat\", \"Democrat\", \"Democrat\", \"Democrat\", \"Democrat\", \"Democrat\", \"Republican\", \"Democrat\", \"Democrat\", \"Republican\", \"Democrat\", \"Republican\", \"Democrat\", \"Republican\", \"Democrat\", \"Democrat\", \"Democrat\", \"Democrat\", \"Democrat\", \"Democrat\", \"Democrat\", \"Republican\", \"Democrat\", \"Democrat\", \"Republican\", \"Democrat\", \"Democrat\", \"Democrat\", \"Democrat\", \"Democrat\", \"Republican\", \"Republican\", \"Democrat\", \"Republican\", \"Democrat\", \"Democrat\", \"Democrat\", \"Republican\", \"Republican\", \"Democrat\", \"Republican\", \"Republican\", \"Democrat\", \"Republican\", \"Democrat\", \"Democrat\", \"Democrat\", \"Republican\"], \"hovertemplate\": \"%{x}<br>Pop: %{y}<br>%{customdata}<extra></extra>\", \"marker\": {\"color\": [\"#DE0100\", \"#DE0100\", \"#DE0100\", \"#0015BC\", \"#0015BC\", \"#0015BC\", \"#0015BC\", \"#0015BC\", \"#0015BC\", \"#DE0100\", \"#0015BC\", \"#0015BC\", \"#DE0100\", \"#0015BC\", \"#DE0100\", \"#0015BC\", \"#DE0100\", \"#0015BC\", \"#0015BC\", \"#0015BC\", \"#0015BC\", \"#0015BC\", \"#0015BC\", \"#0015BC\", \"#DE0100\", \"#0015BC\", \"#0015BC\", \"#DE0100\", \"#0015BC\", \"#0015BC\", \"#0015BC\", \"#0015BC\", \"#0015BC\", \"#DE0100\", \"#DE0100\", \"#0015BC\", \"#DE0100\", \"#0015BC\", \"#0015BC\", \"#0015BC\", \"#DE0100\", \"#DE0100\", \"#0015BC\", \"#DE0100\", \"#DE0100\", \"#0015BC\", \"#DE0100\", \"#0015BC\", \"#0015BC\", \"#0015BC\", \"#DE0100\"]}, \"mode\": \"markers\", \"type\": \"scatter\", \"visible\": false, \"x\": [\"AL\", \"AK\", \"AZ\", \"AR\", \"CA\", \"CO\", \"CT\", \"DE\", \"DC\", \"FL\", \"GA\", \"HI\", \"ID\", \"IL\", \"IN\", \"IA\", \"KS\", \"KY\", \"LA\", \"ME\", \"MD\", \"MA\", \"MI\", \"MN\", \"MS\", \"MO\", \"MT\", \"NE\", \"NV\", \"NH\", \"NJ\", \"NM\", \"NY\", \"NC\", \"ND\", \"OH\", \"OK\", \"OR\", \"PA\", \"RI\", \"SC\", \"SD\", \"TN\", \"TX\", \"UT\", \"VT\", \"VA\", \"WA\", \"WV\", \"WI\", \"WY\"], \"y\": [4040587, 550043, 3665228, 2350725, 29760021, 3294394, 3287116, 666168, 606900, 12937926, 6478216, 1108229, 1006749, 11430602, 5544159, 2776755, 2477574, 3685296, 4219973, 1227928, 4781468, 6016425, 9295297, 4375099, 2573216, 5117073, 799065, 1578385, 1201833, 1109252, 7730188, 1515069, 17990455, 6628637, 638800, 10847115, 3145585, 2842321, 11881643, 1003464, 3486703, 696004, 4877185, 16986510, 1722850, 562758, 6187358, 4866692, 1793477, 4891769, 453588]}, {\"customdata\": [\"Republican\", \"Republican\", \"Democrat\", \"Democrat\", \"Democrat\", \"Republican\", \"Democrat\", \"Democrat\", \"Democrat\", \"Democrat\", \"Republican\", \"Democrat\", \"Republican\", \"Democrat\", \"Republican\", \"Democrat\", \"Republican\", \"Democrat\", \"Democrat\", \"Democrat\", \"Democrat\", \"Democrat\", \"Democrat\", \"Democrat\", \"Republican\", \"Democrat\", \"Republican\", \"Republican\", \"Democrat\", \"Democrat\", \"Democrat\", \"Democrat\", \"Democrat\", \"Republican\", \"Republican\", \"Democrat\", \"Republican\", \"Democrat\", \"Democrat\", \"Democrat\", \"Republican\", \"Republican\", \"Democrat\", \"Republican\", \"Republican\", \"Democrat\", \"Republican\", \"Democrat\", \"Democrat\", \"Democrat\", \"Republican\"], \"hovertemplate\": \"%{x}<br>Pop: %{y}<br>%{customdata}<extra></extra>\", \"marker\": {\"color\": [\"#DE0100\", \"#DE0100\", \"#0015BC\", \"#0015BC\", \"#0015BC\", \"#DE0100\", \"#0015BC\", \"#0015BC\", \"#0015BC\", \"#0015BC\", \"#DE0100\", \"#0015BC\", \"#DE0100\", \"#0015BC\", \"#DE0100\", \"#0015BC\", \"#DE0100\", \"#0015BC\", \"#0015BC\", \"#0015BC\", \"#0015BC\", \"#0015BC\", \"#0015BC\", \"#0015BC\", \"#DE0100\", \"#0015BC\", \"#DE0100\", \"#DE0100\", \"#0015BC\", \"#0015BC\", \"#0015BC\", \"#0015BC\", \"#0015BC\", \"#DE0100\", \"#DE0100\", \"#0015BC\", \"#DE0100\", \"#0015BC\", \"#0015BC\", \"#0015BC\", \"#DE0100\", \"#DE0100\", \"#0015BC\", \"#DE0100\", \"#DE0100\", \"#0015BC\", \"#DE0100\", \"#0015BC\", \"#0015BC\", \"#0015BC\", \"#DE0100\"]}, \"mode\": \"markers\", \"type\": \"scatter\", \"visible\": false, \"x\": [\"AL\", \"AK\", \"AZ\", \"AR\", \"CA\", \"CO\", \"CT\", \"DE\", \"DC\", \"FL\", \"GA\", \"HI\", \"ID\", \"IL\", \"IN\", \"IA\", \"KS\", \"KY\", \"LA\", \"ME\", \"MD\", \"MA\", \"MI\", \"MN\", \"MS\", \"MO\", \"MT\", \"NE\", \"NV\", \"NH\", \"NJ\", \"NM\", \"NY\", \"NC\", \"ND\", \"OH\", \"OK\", \"OR\", \"PA\", \"RI\", \"SC\", \"SD\", \"TN\", \"TX\", \"UT\", \"VT\", \"VA\", \"WA\", \"WV\", \"WI\", \"WY\"], \"y\": [4447100, 626932, 5130632, 2673400, 33871648, 4301261, 3405565, 783600, 572059, 15982378, 8186453, 1211537, 1293953, 12419293, 6080485, 2926324, 2688418, 4041769, 4468976, 1274923, 5296486, 6349097, 9938444, 4919479, 2844658, 5595211, 902195, 1711263, 1998257, 1235786, 8414350, 1819046, 18976457, 8049313, 642200, 11353140, 3450654, 3421399, 12281054, 1048319, 4012012, 754844, 5689283, 20851820, 2233169, 608827, 7078515, 5894121, 1808344, 5363675, 493782]}, {\"customdata\": [\"Republican\", \"Republican\", \"Republican\", \"Republican\", \"Democrat\", \"Republican\", \"Democrat\", \"Democrat\", \"Democrat\", \"Republican\", \"Republican\", \"Democrat\", \"Republican\", \"Democrat\", \"Republican\", \"Democrat\", \"Republican\", \"Republican\", \"Republican\", \"Democrat\", \"Democrat\", \"Democrat\", \"Democrat\", \"Democrat\", \"Republican\", \"Republican\", \"Republican\", \"Republican\", \"Republican\", \"Republican\", \"Democrat\", \"Democrat\", \"Democrat\", \"Republican\", \"Republican\", \"Republican\", \"Republican\", \"Democrat\", \"Democrat\", \"Democrat\", \"Republican\", \"Republican\", \"Republican\", \"Republican\", \"Republican\", \"Democrat\", \"Republican\", \"Democrat\", \"Republican\", \"Democrat\", \"Republican\"], \"hovertemplate\": \"%{x}<br>Pop: %{y}<br>%{customdata}<extra></extra>\", \"marker\": {\"color\": [\"#DE0100\", \"#DE0100\", \"#DE0100\", \"#DE0100\", \"#0015BC\", \"#DE0100\", \"#0015BC\", \"#0015BC\", \"#0015BC\", \"#DE0100\", \"#DE0100\", \"#0015BC\", \"#DE0100\", \"#0015BC\", \"#DE0100\", \"#0015BC\", \"#DE0100\", \"#DE0100\", \"#DE0100\", \"#0015BC\", \"#0015BC\", \"#0015BC\", \"#0015BC\", \"#0015BC\", \"#DE0100\", \"#DE0100\", \"#DE0100\", \"#DE0100\", \"#DE0100\", \"#DE0100\", \"#0015BC\", \"#0015BC\", \"#0015BC\", \"#DE0100\", \"#DE0100\", \"#DE0100\", \"#DE0100\", \"#0015BC\", \"#0015BC\", \"#0015BC\", \"#DE0100\", \"#DE0100\", \"#DE0100\", \"#DE0100\", \"#DE0100\", \"#0015BC\", \"#DE0100\", \"#0015BC\", \"#DE0100\", \"#0015BC\", \"#DE0100\"]}, \"mode\": \"markers\", \"type\": \"scatter\", \"visible\": false, \"x\": [\"AL\", \"AK\", \"AZ\", \"AR\", \"CA\", \"CO\", \"CT\", \"DE\", \"DC\", \"FL\", \"GA\", \"HI\", \"ID\", \"IL\", \"IN\", \"IA\", \"KS\", \"KY\", \"LA\", \"ME\", \"MD\", \"MA\", \"MI\", \"MN\", \"MS\", \"MO\", \"MT\", \"NE\", \"NV\", \"NH\", \"NJ\", \"NM\", \"NY\", \"NC\", \"ND\", \"OH\", \"OK\", \"OR\", \"PA\", \"RI\", \"SC\", \"SD\", \"TN\", \"TX\", \"UT\", \"VT\", \"VA\", \"WA\", \"WV\", \"WI\", \"WY\"], \"y\": [4447100, 626932, 5130632, 2673400, 33871648, 4301261, 3405565, 783600, 572059, 15982378, 8186453, 1211537, 1293953, 12419293, 6080485, 2926324, 2688418, 4041769, 4468976, 1274923, 5296486, 6349097, 9938444, 4919479, 2844658, 5595211, 902195, 1711263, 1998257, 1235786, 8414350, 1819046, 18976457, 8049313, 642200, 11353140, 3450654, 3421399, 12281054, 1048319, 4012012, 754844, 5689283, 20851820, 2233169, 608827, 7078515, 5894121, 1808344, 5363675, 493782]}, {\"customdata\": [\"Republican\", \"Republican\", \"Republican\", \"Republican\", \"Democrat\", \"Republican\", \"Democrat\", \"Democrat\", \"Democrat\", \"Republican\", \"Republican\", \"Democrat\", \"Republican\", \"Democrat\", \"Republican\", \"Republican\", \"Republican\", \"Republican\", \"Republican\", \"Democrat\", \"Democrat\", \"Democrat\", \"Democrat\", \"Democrat\", \"Republican\", \"Republican\", \"Republican\", \"Republican\", \"Republican\", \"Democrat\", \"Democrat\", \"Republican\", \"Democrat\", \"Republican\", \"Republican\", \"Republican\", \"Republican\", \"Democrat\", \"Democrat\", \"Democrat\", \"Republican\", \"Republican\", \"Republican\", \"Republican\", \"Republican\", \"Democrat\", \"Republican\", \"Democrat\", \"Republican\", \"Democrat\", \"Republican\"], \"hovertemplate\": \"%{x}<br>Pop: %{y}<br>%{customdata}<extra></extra>\", \"marker\": {\"color\": [\"#DE0100\", \"#DE0100\", \"#DE0100\", \"#DE0100\", \"#0015BC\", \"#DE0100\", \"#0015BC\", \"#0015BC\", \"#0015BC\", \"#DE0100\", \"#DE0100\", \"#0015BC\", \"#DE0100\", \"#0015BC\", \"#DE0100\", \"#DE0100\", \"#DE0100\", \"#DE0100\", \"#DE0100\", \"#0015BC\", \"#0015BC\", \"#0015BC\", \"#0015BC\", \"#0015BC\", \"#DE0100\", \"#DE0100\", \"#DE0100\", \"#DE0100\", \"#DE0100\", \"#0015BC\", \"#0015BC\", \"#DE0100\", \"#0015BC\", \"#DE0100\", \"#DE0100\", \"#DE0100\", \"#DE0100\", \"#0015BC\", \"#0015BC\", \"#0015BC\", \"#DE0100\", \"#DE0100\", \"#DE0100\", \"#DE0100\", \"#DE0100\", \"#0015BC\", \"#DE0100\", \"#0015BC\", \"#DE0100\", \"#0015BC\", \"#DE0100\"]}, \"mode\": \"markers\", \"type\": \"scatter\", \"visible\": false, \"x\": [\"AL\", \"AK\", \"AZ\", \"AR\", \"CA\", \"CO\", \"CT\", \"DE\", \"DC\", \"FL\", \"GA\", \"HI\", \"ID\", \"IL\", \"IN\", \"IA\", \"KS\", \"KY\", \"LA\", \"ME\", \"MD\", \"MA\", \"MI\", \"MN\", \"MS\", \"MO\", \"MT\", \"NE\", \"NV\", \"NH\", \"NJ\", \"NM\", \"NY\", \"NC\", \"ND\", \"OH\", \"OK\", \"OR\", \"PA\", \"RI\", \"SC\", \"SD\", \"TN\", \"TX\", \"UT\", \"VT\", \"VA\", \"WA\", \"WV\", \"WI\", \"WY\"], \"y\": [4447100, 626932, 5130632, 2673400, 33871648, 4301261, 3405565, 783600, 572059, 15982378, 8186453, 1211537, 1293953, 12419293, 6080485, 2926324, 2688418, 4041769, 4468976, 1274923, 5296486, 6349097, 9938444, 4919479, 2844658, 5595211, 902195, 1711263, 1998257, 1235786, 8414350, 1819046, 18976457, 8049313, 642200, 11353140, 3450654, 3421399, 12281054, 1048319, 4012012, 754844, 5689283, 20851820, 2233169, 608827, 7078515, 5894121, 1808344, 5363675, 493782]}, {\"customdata\": [\"Republican\", \"Republican\", \"Republican\", \"Republican\", \"Democrat\", \"Democrat\", \"Democrat\", \"Democrat\", \"Democrat\", \"Democrat\", \"Republican\", \"Democrat\", \"Republican\", \"Democrat\", \"Democrat\", \"Democrat\", \"Republican\", \"Republican\", \"Republican\", \"Democrat\", \"Democrat\", \"Democrat\", \"Democrat\", \"Democrat\", \"Republican\", \"Republican\", \"Republican\", \"Republican\", \"Democrat\", \"Democrat\", \"Democrat\", \"Democrat\", \"Democrat\", \"Democrat\", \"Republican\", \"Democrat\", \"Republican\", \"Democrat\", \"Democrat\", \"Democrat\", \"Republican\", \"Republican\", \"Republican\", \"Republican\", \"Republican\", \"Democrat\", \"Democrat\", \"Democrat\", \"Republican\", \"Democrat\", \"Republican\"], \"hovertemplate\": \"%{x}<br>Pop: %{y}<br>%{customdata}<extra></extra>\", \"marker\": {\"color\": [\"#DE0100\", \"#DE0100\", \"#DE0100\", \"#DE0100\", \"#0015BC\", \"#0015BC\", \"#0015BC\", \"#0015BC\", \"#0015BC\", \"#0015BC\", \"#DE0100\", \"#0015BC\", \"#DE0100\", \"#0015BC\", \"#0015BC\", \"#0015BC\", \"#DE0100\", \"#DE0100\", \"#DE0100\", \"#0015BC\", \"#0015BC\", \"#0015BC\", \"#0015BC\", \"#0015BC\", \"#DE0100\", \"#DE0100\", \"#DE0100\", \"#DE0100\", \"#0015BC\", \"#0015BC\", \"#0015BC\", \"#0015BC\", \"#0015BC\", \"#0015BC\", \"#DE0100\", \"#0015BC\", \"#DE0100\", \"#0015BC\", \"#0015BC\", \"#0015BC\", \"#DE0100\", \"#DE0100\", \"#DE0100\", \"#DE0100\", \"#DE0100\", \"#0015BC\", \"#0015BC\", \"#0015BC\", \"#DE0100\", \"#0015BC\", \"#DE0100\"]}, \"mode\": \"markers\", \"type\": \"scatter\", \"visible\": false, \"x\": [\"AL\", \"AK\", \"AZ\", \"AR\", \"CA\", \"CO\", \"CT\", \"DE\", \"DC\", \"FL\", \"GA\", \"HI\", \"ID\", \"IL\", \"IN\", \"IA\", \"KS\", \"KY\", \"LA\", \"ME\", \"MD\", \"MA\", \"MI\", \"MN\", \"MS\", \"MO\", \"MT\", \"NE\", \"NV\", \"NH\", \"NJ\", \"NM\", \"NY\", \"NC\", \"ND\", \"OH\", \"OK\", \"OR\", \"PA\", \"RI\", \"SC\", \"SD\", \"TN\", \"TX\", \"UT\", \"VT\", \"VA\", \"WA\", \"WV\", \"WI\", \"WY\"], \"y\": [4779735, 710231, 6329013, 2915921, 37253956, 5029196, 3574097, 897934, 601723, 18801311, 9687653, 1360301, 1567582, 12830632, 6483800, 3046350, 2853118, 4339362, 4515770, 1328361, 5773552, 6547629, 9883635, 5303925, 2967297, 5988927, 989415, 1826341, 2700551, 1316472, 8791894, 2059180, 19378104, 9535475, 672591, 11536502, 3751354, 3831074, 12702379, 1052567, 4625364, 814180, 6346110, 25145561, 2763885, 625741, 8001024, 6724540, 1852996, 5686986, 563626]}, {\"customdata\": [\"Republican\", \"Republican\", \"Republican\", \"Republican\", \"Democrat\", \"Democrat\", \"Democrat\", \"Democrat\", \"Democrat\", \"Democrat\", \"Republican\", \"Democrat\", \"Republican\", \"Democrat\", \"Republican\", \"Democrat\", \"Republican\", \"Republican\", \"Republican\", \"Democrat\", \"Democrat\", \"Democrat\", \"Democrat\", \"Democrat\", \"Republican\", \"Republican\", \"Republican\", \"Republican\", \"Democrat\", \"Democrat\", \"Democrat\", \"Democrat\", \"Democrat\", \"Republican\", \"Republican\", \"Democrat\", \"Republican\", \"Democrat\", \"Democrat\", \"Democrat\", \"Republican\", \"Republican\", \"Republican\", \"Republican\", \"Republican\", \"Democrat\", \"Democrat\", \"Democrat\", \"Republican\", \"Democrat\", \"Republican\"], \"hovertemplate\": \"%{x}<br>Pop: %{y}<br>%{customdata}<extra></extra>\", \"marker\": {\"color\": [\"#DE0100\", \"#DE0100\", \"#DE0100\", \"#DE0100\", \"#0015BC\", \"#0015BC\", \"#0015BC\", \"#0015BC\", \"#0015BC\", \"#0015BC\", \"#DE0100\", \"#0015BC\", \"#DE0100\", \"#0015BC\", \"#DE0100\", \"#0015BC\", \"#DE0100\", \"#DE0100\", \"#DE0100\", \"#0015BC\", \"#0015BC\", \"#0015BC\", \"#0015BC\", \"#0015BC\", \"#DE0100\", \"#DE0100\", \"#DE0100\", \"#DE0100\", \"#0015BC\", \"#0015BC\", \"#0015BC\", \"#0015BC\", \"#0015BC\", \"#DE0100\", \"#DE0100\", \"#0015BC\", \"#DE0100\", \"#0015BC\", \"#0015BC\", \"#0015BC\", \"#DE0100\", \"#DE0100\", \"#DE0100\", \"#DE0100\", \"#DE0100\", \"#0015BC\", \"#0015BC\", \"#0015BC\", \"#DE0100\", \"#0015BC\", \"#DE0100\"]}, \"mode\": \"markers\", \"type\": \"scatter\", \"visible\": false, \"x\": [\"AL\", \"AK\", \"AZ\", \"AR\", \"CA\", \"CO\", \"CT\", \"DE\", \"DC\", \"FL\", \"GA\", \"HI\", \"ID\", \"IL\", \"IN\", \"IA\", \"KS\", \"KY\", \"LA\", \"ME\", \"MD\", \"MA\", \"MI\", \"MN\", \"MS\", \"MO\", \"MT\", \"NE\", \"NV\", \"NH\", \"NJ\", \"NM\", \"NY\", \"NC\", \"ND\", \"OH\", \"OK\", \"OR\", \"PA\", \"RI\", \"SC\", \"SD\", \"TN\", \"TX\", \"UT\", \"VT\", \"VA\", \"WA\", \"WV\", \"WI\", \"WY\"], \"y\": [4779735, 710231, 6329013, 2915921, 37253956, 5029196, 3574097, 897934, 601723, 18801311, 9687653, 1360301, 1567582, 12830632, 6483800, 3046350, 2853118, 4339362, 4515770, 1328361, 5773552, 6547629, 9883635, 5303925, 2967297, 5988927, 989415, 1826341, 2700551, 1316472, 8791894, 2059180, 19378104, 9535475, 672591, 11536502, 3751354, 3831074, 12702379, 1052567, 4625364, 814180, 6346110, 25145561, 2763885, 625741, 8001024, 6724540, 1852996, 5686986, 563626]}, {\"customdata\": [\"Republican\", \"Republican\", \"Republican\", \"Republican\", \"Democrat\", \"Democrat\", \"Democrat\", \"Democrat\", \"Democrat\", \"Republican\", \"Republican\", \"Democrat\", \"Republican\", \"Democrat\", \"Republican\", \"Republican\", \"Republican\", \"Republican\", \"Republican\", \"Democrat\", \"Democrat\", \"Democrat\", \"Republican\", \"Democrat\", \"Republican\", \"Republican\", \"Republican\", \"Republican\", \"Democrat\", \"Democrat\", \"Democrat\", \"Democrat\", \"Democrat\", \"Republican\", \"Republican\", \"Republican\", \"Republican\", \"Democrat\", \"Republican\", \"Democrat\", \"Republican\", \"Republican\", \"Republican\", \"Republican\", \"Republican\", \"Democrat\", \"Democrat\", \"Democrat\", \"Republican\", \"Republican\", \"Republican\"], \"hovertemplate\": \"%{x}<br>Pop: %{y}<br>%{customdata}<extra></extra>\", \"marker\": {\"color\": [\"#DE0100\", \"#DE0100\", \"#DE0100\", \"#DE0100\", \"#0015BC\", \"#0015BC\", \"#0015BC\", \"#0015BC\", \"#0015BC\", \"#DE0100\", \"#DE0100\", \"#0015BC\", \"#DE0100\", \"#0015BC\", \"#DE0100\", \"#DE0100\", \"#DE0100\", \"#DE0100\", \"#DE0100\", \"#0015BC\", \"#0015BC\", \"#0015BC\", \"#DE0100\", \"#0015BC\", \"#DE0100\", \"#DE0100\", \"#DE0100\", \"#DE0100\", \"#0015BC\", \"#0015BC\", \"#0015BC\", \"#0015BC\", \"#0015BC\", \"#DE0100\", \"#DE0100\", \"#DE0100\", \"#DE0100\", \"#0015BC\", \"#DE0100\", \"#0015BC\", \"#DE0100\", \"#DE0100\", \"#DE0100\", \"#DE0100\", \"#DE0100\", \"#0015BC\", \"#0015BC\", \"#0015BC\", \"#DE0100\", \"#DE0100\", \"#DE0100\"]}, \"mode\": \"markers\", \"type\": \"scatter\", \"visible\": false, \"x\": [\"AL\", \"AK\", \"AZ\", \"AR\", \"CA\", \"CO\", \"CT\", \"DE\", \"DC\", \"FL\", \"GA\", \"HI\", \"ID\", \"IL\", \"IN\", \"IA\", \"KS\", \"KY\", \"LA\", \"ME\", \"MD\", \"MA\", \"MI\", \"MN\", \"MS\", \"MO\", \"MT\", \"NE\", \"NV\", \"NH\", \"NJ\", \"NM\", \"NY\", \"NC\", \"ND\", \"OH\", \"OK\", \"OR\", \"PA\", \"RI\", \"SC\", \"SD\", \"TN\", \"TX\", \"UT\", \"VT\", \"VA\", \"WA\", \"WV\", \"WI\", \"WY\"], \"y\": [4779735, 710231, 6329013, 2915921, 37253956, 5029196, 3574097, 897934, 601723, 18801311, 9687653, 1360301, 1567582, 12830632, 6483800, 3046350, 2853118, 4339362, 4515770, 1328361, 5773552, 6547629, 9883635, 5303925, 2967297, 5988927, 989415, 1826341, 2700551, 1316472, 8791894, 2059180, 19378104, 9535475, 672591, 11536502, 3751354, 3831074, 12702379, 1052567, 4625364, 814180, 6346110, 25145561, 2763885, 625741, 8001024, 6724540, 1852996, 5686986, 563626]}],                        {\"sliders\": [{\"active\": 0, \"pad\": {\"t\": 50}, \"steps\": [{\"args\": [{\"visible\": [true, false, false, false, false, false, false, false, false, false, false]}, {\"title\": \"Population vs Election Results - 1976\"}, {\"title_x\": 0.5}], \"label\": \"Year 1976\", \"method\": \"update\"}, {\"args\": [{\"visible\": [false, true, false, false, false, false, false, false, false, false, false]}, {\"title\": \"Population vs Election Results - 1980\"}, {\"title_x\": 0.5}], \"label\": \"Year 1980\", \"method\": \"update\"}, {\"args\": [{\"visible\": [false, false, true, false, false, false, false, false, false, false, false]}, {\"title\": \"Population vs Election Results - 1984\"}, {\"title_x\": 0.5}], \"label\": \"Year 1984\", \"method\": \"update\"}, {\"args\": [{\"visible\": [false, false, false, true, false, false, false, false, false, false, false]}, {\"title\": \"Population vs Election Results - 1988\"}, {\"title_x\": 0.5}], \"label\": \"Year 1988\", \"method\": \"update\"}, {\"args\": [{\"visible\": [false, false, false, false, true, false, false, false, false, false, false]}, {\"title\": \"Population vs Election Results - 1992\"}, {\"title_x\": 0.5}], \"label\": \"Year 1992\", \"method\": \"update\"}, {\"args\": [{\"visible\": [false, false, false, false, false, true, false, false, false, false, false]}, {\"title\": \"Population vs Election Results - 1996\"}, {\"title_x\": 0.5}], \"label\": \"Year 1996\", \"method\": \"update\"}, {\"args\": [{\"visible\": [false, false, false, false, false, false, true, false, false, false, false]}, {\"title\": \"Population vs Election Results - 2000\"}, {\"title_x\": 0.5}], \"label\": \"Year 2000\", \"method\": \"update\"}, {\"args\": [{\"visible\": [false, false, false, false, false, false, false, true, false, false, false]}, {\"title\": \"Population vs Election Results - 2004\"}, {\"title_x\": 0.5}], \"label\": \"Year 2004\", \"method\": \"update\"}, {\"args\": [{\"visible\": [false, false, false, false, false, false, false, false, true, false, false]}, {\"title\": \"Population vs Election Results - 2008\"}, {\"title_x\": 0.5}], \"label\": \"Year 2008\", \"method\": \"update\"}, {\"args\": [{\"visible\": [false, false, false, false, false, false, false, false, false, true, false]}, {\"title\": \"Population vs Election Results - 2012\"}, {\"title_x\": 0.5}], \"label\": \"Year 2012\", \"method\": \"update\"}, {\"args\": [{\"visible\": [false, false, false, false, false, false, false, false, false, false, true]}, {\"title\": \"Population vs Election Results - 2016\"}, {\"title_x\": 0.5}], \"label\": \"Year 2016\", \"method\": \"update\"}]}], \"template\": {\"data\": {\"bar\": [{\"error_x\": {\"color\": \"#2a3f5f\"}, \"error_y\": {\"color\": \"#2a3f5f\"}, \"marker\": {\"line\": {\"color\": \"#E5ECF6\", \"width\": 0.5}}, \"type\": \"bar\"}], \"barpolar\": [{\"marker\": {\"line\": {\"color\": \"#E5ECF6\", \"width\": 0.5}}, \"type\": \"barpolar\"}], \"carpet\": [{\"aaxis\": {\"endlinecolor\": \"#2a3f5f\", \"gridcolor\": \"white\", \"linecolor\": \"white\", \"minorgridcolor\": \"white\", \"startlinecolor\": \"#2a3f5f\"}, \"baxis\": {\"endlinecolor\": \"#2a3f5f\", \"gridcolor\": \"white\", \"linecolor\": \"white\", \"minorgridcolor\": \"white\", \"startlinecolor\": \"#2a3f5f\"}, \"type\": \"carpet\"}], \"choropleth\": [{\"colorbar\": {\"outlinewidth\": 0, \"ticks\": \"\"}, \"type\": \"choropleth\"}], \"contour\": [{\"colorbar\": {\"outlinewidth\": 0, \"ticks\": \"\"}, \"colorscale\": [[0.0, \"#0d0887\"], [0.1111111111111111, \"#46039f\"], [0.2222222222222222, \"#7201a8\"], [0.3333333333333333, \"#9c179e\"], [0.4444444444444444, \"#bd3786\"], [0.5555555555555556, \"#d8576b\"], [0.6666666666666666, \"#ed7953\"], [0.7777777777777778, \"#fb9f3a\"], [0.8888888888888888, \"#fdca26\"], [1.0, \"#f0f921\"]], \"type\": \"contour\"}], \"contourcarpet\": [{\"colorbar\": {\"outlinewidth\": 0, \"ticks\": \"\"}, \"type\": \"contourcarpet\"}], \"heatmap\": [{\"colorbar\": {\"outlinewidth\": 0, \"ticks\": \"\"}, \"colorscale\": [[0.0, \"#0d0887\"], [0.1111111111111111, \"#46039f\"], [0.2222222222222222, \"#7201a8\"], [0.3333333333333333, \"#9c179e\"], [0.4444444444444444, \"#bd3786\"], [0.5555555555555556, \"#d8576b\"], [0.6666666666666666, \"#ed7953\"], [0.7777777777777778, \"#fb9f3a\"], [0.8888888888888888, \"#fdca26\"], [1.0, \"#f0f921\"]], \"type\": \"heatmap\"}], \"heatmapgl\": [{\"colorbar\": {\"outlinewidth\": 0, \"ticks\": \"\"}, \"colorscale\": [[0.0, \"#0d0887\"], [0.1111111111111111, \"#46039f\"], [0.2222222222222222, \"#7201a8\"], [0.3333333333333333, \"#9c179e\"], [0.4444444444444444, \"#bd3786\"], [0.5555555555555556, \"#d8576b\"], [0.6666666666666666, \"#ed7953\"], [0.7777777777777778, \"#fb9f3a\"], [0.8888888888888888, \"#fdca26\"], [1.0, \"#f0f921\"]], \"type\": \"heatmapgl\"}], \"histogram\": [{\"marker\": {\"colorbar\": {\"outlinewidth\": 0, \"ticks\": \"\"}}, \"type\": \"histogram\"}], \"histogram2d\": [{\"colorbar\": {\"outlinewidth\": 0, \"ticks\": \"\"}, \"colorscale\": [[0.0, \"#0d0887\"], [0.1111111111111111, \"#46039f\"], [0.2222222222222222, \"#7201a8\"], [0.3333333333333333, \"#9c179e\"], [0.4444444444444444, \"#bd3786\"], [0.5555555555555556, \"#d8576b\"], [0.6666666666666666, \"#ed7953\"], [0.7777777777777778, \"#fb9f3a\"], [0.8888888888888888, \"#fdca26\"], [1.0, \"#f0f921\"]], \"type\": \"histogram2d\"}], \"histogram2dcontour\": [{\"colorbar\": {\"outlinewidth\": 0, \"ticks\": \"\"}, \"colorscale\": [[0.0, \"#0d0887\"], [0.1111111111111111, \"#46039f\"], [0.2222222222222222, \"#7201a8\"], [0.3333333333333333, \"#9c179e\"], [0.4444444444444444, \"#bd3786\"], [0.5555555555555556, \"#d8576b\"], [0.6666666666666666, \"#ed7953\"], [0.7777777777777778, \"#fb9f3a\"], [0.8888888888888888, \"#fdca26\"], [1.0, \"#f0f921\"]], \"type\": \"histogram2dcontour\"}], \"mesh3d\": [{\"colorbar\": {\"outlinewidth\": 0, \"ticks\": \"\"}, \"type\": \"mesh3d\"}], \"parcoords\": [{\"line\": {\"colorbar\": {\"outlinewidth\": 0, \"ticks\": \"\"}}, \"type\": \"parcoords\"}], \"pie\": [{\"automargin\": true, \"type\": \"pie\"}], \"scatter\": [{\"marker\": {\"colorbar\": {\"outlinewidth\": 0, \"ticks\": \"\"}}, \"type\": \"scatter\"}], \"scatter3d\": [{\"line\": {\"colorbar\": {\"outlinewidth\": 0, \"ticks\": \"\"}}, \"marker\": {\"colorbar\": {\"outlinewidth\": 0, \"ticks\": \"\"}}, \"type\": \"scatter3d\"}], \"scattercarpet\": [{\"marker\": {\"colorbar\": {\"outlinewidth\": 0, \"ticks\": \"\"}}, \"type\": \"scattercarpet\"}], \"scattergeo\": [{\"marker\": {\"colorbar\": {\"outlinewidth\": 0, \"ticks\": \"\"}}, \"type\": \"scattergeo\"}], \"scattergl\": [{\"marker\": {\"colorbar\": {\"outlinewidth\": 0, \"ticks\": \"\"}}, \"type\": \"scattergl\"}], \"scattermapbox\": [{\"marker\": {\"colorbar\": {\"outlinewidth\": 0, \"ticks\": \"\"}}, \"type\": \"scattermapbox\"}], \"scatterpolar\": [{\"marker\": {\"colorbar\": {\"outlinewidth\": 0, \"ticks\": \"\"}}, \"type\": \"scatterpolar\"}], \"scatterpolargl\": [{\"marker\": {\"colorbar\": {\"outlinewidth\": 0, \"ticks\": \"\"}}, \"type\": \"scatterpolargl\"}], \"scatterternary\": [{\"marker\": {\"colorbar\": {\"outlinewidth\": 0, \"ticks\": \"\"}}, \"type\": \"scatterternary\"}], \"surface\": [{\"colorbar\": {\"outlinewidth\": 0, \"ticks\": \"\"}, \"colorscale\": [[0.0, \"#0d0887\"], [0.1111111111111111, \"#46039f\"], [0.2222222222222222, \"#7201a8\"], [0.3333333333333333, \"#9c179e\"], [0.4444444444444444, \"#bd3786\"], [0.5555555555555556, \"#d8576b\"], [0.6666666666666666, \"#ed7953\"], [0.7777777777777778, \"#fb9f3a\"], [0.8888888888888888, \"#fdca26\"], [1.0, \"#f0f921\"]], \"type\": \"surface\"}], \"table\": [{\"cells\": {\"fill\": {\"color\": \"#EBF0F8\"}, \"line\": {\"color\": \"white\"}}, \"header\": {\"fill\": {\"color\": \"#C8D4E3\"}, \"line\": {\"color\": \"white\"}}, \"type\": \"table\"}]}, \"layout\": {\"annotationdefaults\": {\"arrowcolor\": \"#2a3f5f\", \"arrowhead\": 0, \"arrowwidth\": 1}, \"coloraxis\": {\"colorbar\": {\"outlinewidth\": 0, \"ticks\": \"\"}}, \"colorscale\": {\"diverging\": [[0, \"#8e0152\"], [0.1, \"#c51b7d\"], [0.2, \"#de77ae\"], [0.3, \"#f1b6da\"], [0.4, \"#fde0ef\"], [0.5, \"#f7f7f7\"], [0.6, \"#e6f5d0\"], [0.7, \"#b8e186\"], [0.8, \"#7fbc41\"], [0.9, \"#4d9221\"], [1, \"#276419\"]], \"sequential\": [[0.0, \"#0d0887\"], [0.1111111111111111, \"#46039f\"], [0.2222222222222222, \"#7201a8\"], [0.3333333333333333, \"#9c179e\"], [0.4444444444444444, \"#bd3786\"], [0.5555555555555556, \"#d8576b\"], [0.6666666666666666, \"#ed7953\"], [0.7777777777777778, \"#fb9f3a\"], [0.8888888888888888, \"#fdca26\"], [1.0, \"#f0f921\"]], \"sequentialminus\": [[0.0, \"#0d0887\"], [0.1111111111111111, \"#46039f\"], [0.2222222222222222, \"#7201a8\"], [0.3333333333333333, \"#9c179e\"], [0.4444444444444444, \"#bd3786\"], [0.5555555555555556, \"#d8576b\"], [0.6666666666666666, \"#ed7953\"], [0.7777777777777778, \"#fb9f3a\"], [0.8888888888888888, \"#fdca26\"], [1.0, \"#f0f921\"]]}, \"colorway\": [\"#636efa\", \"#EF553B\", \"#00cc96\", \"#ab63fa\", \"#FFA15A\", \"#19d3f3\", \"#FF6692\", \"#B6E880\", \"#FF97FF\", \"#FECB52\"], \"font\": {\"color\": \"#2a3f5f\"}, \"geo\": {\"bgcolor\": \"white\", \"lakecolor\": \"white\", \"landcolor\": \"#E5ECF6\", \"showlakes\": true, \"showland\": true, \"subunitcolor\": \"white\"}, \"hoverlabel\": {\"align\": \"left\"}, \"hovermode\": \"closest\", \"mapbox\": {\"style\": \"light\"}, \"paper_bgcolor\": \"white\", \"plot_bgcolor\": \"#E5ECF6\", \"polar\": {\"angularaxis\": {\"gridcolor\": \"white\", \"linecolor\": \"white\", \"ticks\": \"\"}, \"bgcolor\": \"#E5ECF6\", \"radialaxis\": {\"gridcolor\": \"white\", \"linecolor\": \"white\", \"ticks\": \"\"}}, \"scene\": {\"xaxis\": {\"backgroundcolor\": \"#E5ECF6\", \"gridcolor\": \"white\", \"gridwidth\": 2, \"linecolor\": \"white\", \"showbackground\": true, \"ticks\": \"\", \"zerolinecolor\": \"white\"}, \"yaxis\": {\"backgroundcolor\": \"#E5ECF6\", \"gridcolor\": \"white\", \"gridwidth\": 2, \"linecolor\": \"white\", \"showbackground\": true, \"ticks\": \"\", \"zerolinecolor\": \"white\"}, \"zaxis\": {\"backgroundcolor\": \"#E5ECF6\", \"gridcolor\": \"white\", \"gridwidth\": 2, \"linecolor\": \"white\", \"showbackground\": true, \"ticks\": \"\", \"zerolinecolor\": \"white\"}}, \"shapedefaults\": {\"line\": {\"color\": \"#2a3f5f\"}}, \"ternary\": {\"aaxis\": {\"gridcolor\": \"white\", \"linecolor\": \"white\", \"ticks\": \"\"}, \"baxis\": {\"gridcolor\": \"white\", \"linecolor\": \"white\", \"ticks\": \"\"}, \"bgcolor\": \"#E5ECF6\", \"caxis\": {\"gridcolor\": \"white\", \"linecolor\": \"white\", \"ticks\": \"\"}}, \"title\": {\"x\": 0.05}, \"xaxis\": {\"automargin\": true, \"gridcolor\": \"white\", \"linecolor\": \"white\", \"ticks\": \"\", \"title\": {\"standoff\": 15}, \"zerolinecolor\": \"white\", \"zerolinewidth\": 2}, \"yaxis\": {\"automargin\": true, \"gridcolor\": \"white\", \"linecolor\": \"white\", \"ticks\": \"\", \"title\": {\"standoff\": 15}, \"zerolinecolor\": \"white\", \"zerolinewidth\": 2}}}, \"title\": {\"text\": \"Population vs Election Results - 1976\", \"x\": 0.5}, \"xaxis\": {\"title\": {\"text\": \"State\"}}, \"yaxis\": {\"range\": [0, 40000000], \"title\": {\"text\": \"Population\"}}},                        {\"responsive\": true}                    ).then(function(){\n                            \nvar gd = document.getElementById('4a60a586-26d7-4a15-b818-bf765c7ebf66');\nvar x = new MutationObserver(function (mutations, observer) {{\n        var display = window.getComputedStyle(gd).display;\n        if (!display || display === 'none') {{\n            console.log([gd, 'removed!']);\n            Plotly.purge(gd);\n            observer.disconnect();\n        }}\n}});\n\n// Listen for the removal of the full notebook cells\nvar notebookContainer = gd.closest('#notebook-container');\nif (notebookContainer) {{\n    x.observe(notebookContainer, {childList: true});\n}}\n\n// Listen for the clearing of the current output cell\nvar outputEl = gd.closest('.output');\nif (outputEl) {{\n    x.observe(outputEl, {childList: true});\n}}\n\n                        })                };                });            </script>        </div>"
     },
     "metadata": {}
    },
    {
     "output_type": "execute_result",
     "data": {
      "text/plain": "'plots/html_plots/Population vs Election Results.html'"
     },
     "metadata": {},
     "execution_count": 9
    }
   ],
   "source": [
    "import plotly.graph_objects as go\n",
    "import numpy as np\n",
    "import plotly.express as px\n",
    "\n",
    "# Create figure\n",
    "fig = go.Figure()\n",
    "\n",
    "# Add traces, one for each slider step\n",
    "for year in election_years:\n",
    "    state_decisions = []\n",
    "    state_pops = []\n",
    "\n",
    "    for state, election_info in slides[year].items():\n",
    "        state_decisions.append(election_info.winner_party.title())\n",
    "        state_pops.append(election_info.state_population)\n",
    "\n",
    "    \n",
    "    fig.add_trace(\n",
    "        go.Scatter(visible=False, x=state_codes, y=state_pops,mode='markers',marker_color=['#0015BC' if x == 'Democrat' else '#DE0100' for x in state_decisions], customdata=state_decisions))\n",
    "\n",
    "fig.data[0].visible = True\n",
    "fig.update_traces(hovertemplate='%{x}<br>Pop: %{y}<br>%{customdata}<extra></extra>')\n",
    "\n",
    "# Create and add slider\n",
    "steps = []\n",
    "\n",
    "for i,yr in zip(range(len(fig.data)), election_years):\n",
    "    step = dict(\n",
    "        method=\"update\",\n",
    "        args=[{\"visible\": [False] * len(fig.data)},\n",
    "              {\"title\": \"Population vs Election Results - \" + str(yr)},{'title_x':0.5}],\n",
    "        label='Year {}'.format(i*4 + 1976),# layout attribute\n",
    "       \n",
    "    )\n",
    "    step[\"args\"][0][\"visible\"][i] = True  # Toggle i'th trace to \"visible\"\n",
    "    steps.append(step)\n",
    "\n",
    "sliders = [dict(\n",
    "    active=0,\n",
    "    pad={\"t\": 50},\n",
    "\n",
    "    steps=steps\n",
    ")]\n",
    "\n",
    "fig.update_layout(\n",
    "     yaxis=dict(range=[0,40000000]),\n",
    "    title= \"Population vs Election Results - \" + str(1976), title_x=.5,\n",
    "    sliders=sliders,\n",
    "    xaxis_title=\"State\",\n",
    "    yaxis_title=\"Population\"\n",
    ")\n",
    "\n",
    "fig.show()\n",
    "offline.plot(fig, auto_open=True, filename='plots/html_plots/Population vs Election Results.html', validate=True)\n",
    ""
   ]
  },
  {
   "cell_type": "markdown",
   "metadata": {},
   "source": [
    "## Plot Density vs Election Results"
   ]
  },
  {
   "cell_type": "code",
   "execution_count": 10,
   "metadata": {},
   "outputs": [
    {
     "output_type": "display_data",
     "data": {
      "application/vnd.plotly.v1+json": {
       "config": {
        "plotlyServerURL": "https://plot.ly"
       },
       "data": [
        {
         "customdata": [
          "Democrat",
          "Republican",
          "Republican",
          "Democrat",
          "Republican",
          "Republican",
          "Republican",
          "Democrat",
          "Democrat",
          "Democrat",
          "Democrat",
          "Democrat",
          "Republican",
          "Republican",
          "Republican",
          "Republican",
          "Republican",
          "Democrat",
          "Democrat",
          "Republican",
          "Democrat",
          "Democrat",
          "Republican",
          "Democrat",
          "Democrat",
          "Democrat",
          "Republican",
          "Republican",
          "Republican",
          "Republican",
          "Republican",
          "Republican",
          "Democrat",
          "Democrat",
          "Republican",
          "Democrat",
          "Republican",
          "Republican",
          "Democrat",
          "Democrat",
          "Democrat",
          "Republican",
          "Democrat",
          "Democrat",
          "Republican",
          "Republican",
          "Republican",
          "Republican",
          "Democrat",
          "Democrat",
          "Republican"
         ],
         "hovertemplate": "%{x}<br>Density: %{y}<br>%{customdata}<extra></extra>",
         "marker": {
          "color": [
           "#0015BC",
           "#DE0100",
           "#DE0100",
           "#0015BC",
           "#DE0100",
           "#DE0100",
           "#DE0100",
           "#0015BC",
           "#0015BC",
           "#0015BC",
           "#0015BC",
           "#0015BC",
           "#DE0100",
           "#DE0100",
           "#DE0100",
           "#DE0100",
           "#DE0100",
           "#0015BC",
           "#0015BC",
           "#DE0100",
           "#0015BC",
           "#0015BC",
           "#DE0100",
           "#0015BC",
           "#0015BC",
           "#0015BC",
           "#DE0100",
           "#DE0100",
           "#DE0100",
           "#DE0100",
           "#DE0100",
           "#DE0100",
           "#0015BC",
           "#0015BC",
           "#DE0100",
           "#0015BC",
           "#DE0100",
           "#DE0100",
           "#0015BC",
           "#0015BC",
           "#0015BC",
           "#DE0100",
           "#0015BC",
           "#0015BC",
           "#DE0100",
           "#DE0100",
           "#DE0100",
           "#DE0100",
           "#0015BC",
           "#0015BC",
           "#DE0100"
          ]
         },
         "mode": "markers",
         "type": "scatter",
         "visible": true,
         "x": [
          "AL",
          "AK",
          "AZ",
          "AR",
          "CA",
          "CO",
          "CT",
          "DE",
          "DC",
          "FL",
          "GA",
          "HI",
          "ID",
          "IL",
          "IN",
          "IA",
          "KS",
          "KY",
          "LA",
          "ME",
          "MD",
          "MA",
          "MI",
          "MN",
          "MS",
          "MO",
          "MT",
          "NE",
          "NV",
          "NH",
          "NJ",
          "NM",
          "NY",
          "NC",
          "ND",
          "OH",
          "OK",
          "OR",
          "PA",
          "RI",
          "SC",
          "SD",
          "TN",
          "TX",
          "UT",
          "VT",
          "VA",
          "WA",
          "WV",
          "WI",
          "WY"
         ],
         "y": [
          76,
          0,
          23,
          43,
          151,
          27,
          641,
          8740,
          326,
          180,
          94,
          150,
          11,
          205,
          153,
          52,
          28,
          92,
          96,
          36,
          431,
          731,
          163,
          51,
          53,
          71,
          5,
          20,
          7,
          102,
          992,
          10,
          371,
          120,
          9,
          263,
          44,
          27,
          264,
          916,
          103,
          9,
          111,
          54,
          17,
          55,
          135,
          62,
          80,
          86,
          4
         ]
        },
        {
         "customdata": [
          "Republican",
          "Republican",
          "Republican",
          "Republican",
          "Republican",
          "Republican",
          "Republican",
          "Republican",
          "Democrat",
          "Republican",
          "Democrat",
          "Democrat",
          "Republican",
          "Republican",
          "Republican",
          "Republican",
          "Republican",
          "Republican",
          "Republican",
          "Republican",
          "Democrat",
          "Republican",
          "Republican",
          "Democrat",
          "Republican",
          "Republican",
          "Republican",
          "Republican",
          "Republican",
          "Republican",
          "Republican",
          "Republican",
          "Democrat",
          "Republican",
          "Republican",
          "Republican",
          "Republican",
          "Republican",
          "Republican",
          "Democrat",
          "Republican",
          "Republican",
          "Republican",
          "Republican",
          "Republican",
          "Republican",
          "Republican",
          "Republican",
          "Democrat",
          "Republican",
          "Republican"
         ],
         "hovertemplate": "%{x}<br>Density: %{y}<br>%{customdata}<extra></extra>",
         "marker": {
          "color": [
           "#DE0100",
           "#DE0100",
           "#DE0100",
           "#DE0100",
           "#DE0100",
           "#DE0100",
           "#DE0100",
           "#DE0100",
           "#0015BC",
           "#DE0100",
           "#0015BC",
           "#0015BC",
           "#DE0100",
           "#DE0100",
           "#DE0100",
           "#DE0100",
           "#DE0100",
           "#DE0100",
           "#DE0100",
           "#DE0100",
           "#0015BC",
           "#DE0100",
           "#DE0100",
           "#0015BC",
           "#DE0100",
           "#DE0100",
           "#DE0100",
           "#DE0100",
           "#DE0100",
           "#DE0100",
           "#DE0100",
           "#DE0100",
           "#0015BC",
           "#DE0100",
           "#DE0100",
           "#DE0100",
           "#DE0100",
           "#DE0100",
           "#DE0100",
           "#0015BC",
           "#DE0100",
           "#DE0100",
           "#DE0100",
           "#DE0100",
           "#DE0100",
           "#DE0100",
           "#DE0100",
           "#DE0100",
           "#0015BC",
           "#DE0100",
           "#DE0100"
          ]
         },
         "mode": "markers",
         "type": "scatter",
         "visible": false,
         "x": [
          "AL",
          "AK",
          "AZ",
          "AR",
          "CA",
          "CO",
          "CT",
          "DE",
          "DC",
          "FL",
          "GA",
          "HI",
          "ID",
          "IL",
          "IN",
          "IA",
          "KS",
          "KY",
          "LA",
          "ME",
          "MD",
          "MA",
          "MI",
          "MN",
          "MS",
          "MO",
          "MT",
          "NE",
          "NV",
          "NH",
          "NJ",
          "NM",
          "NY",
          "NC",
          "ND",
          "OH",
          "OK",
          "OR",
          "PA",
          "RI",
          "SC",
          "SD",
          "TN",
          "TX",
          "UT",
          "VT",
          "VA",
          "WA",
          "WV",
          "WI",
          "WY"
         ],
         "y": [
          76,
          0,
          23,
          43,
          151,
          27,
          641,
          8740,
          326,
          180,
          94,
          150,
          11,
          205,
          153,
          52,
          28,
          92,
          96,
          36,
          431,
          731,
          163,
          51,
          53,
          71,
          5,
          20,
          7,
          102,
          992,
          10,
          371,
          120,
          9,
          263,
          44,
          27,
          264,
          916,
          103,
          9,
          111,
          54,
          17,
          55,
          135,
          62,
          80,
          86,
          4
         ]
        },
        {
         "customdata": [
          "Republican",
          "Republican",
          "Republican",
          "Republican",
          "Republican",
          "Republican",
          "Republican",
          "Republican",
          "Democrat",
          "Republican",
          "Republican",
          "Republican",
          "Republican",
          "Republican",
          "Republican",
          "Republican",
          "Republican",
          "Republican",
          "Republican",
          "Republican",
          "Republican",
          "Republican",
          "Republican",
          "Democrat",
          "Republican",
          "Republican",
          "Republican",
          "Republican",
          "Republican",
          "Republican",
          "Republican",
          "Republican",
          "Republican",
          "Republican",
          "Republican",
          "Republican",
          "Republican",
          "Republican",
          "Republican",
          "Republican",
          "Republican",
          "Republican",
          "Republican",
          "Republican",
          "Republican",
          "Republican",
          "Republican",
          "Republican",
          "Republican",
          "Republican",
          "Republican"
         ],
         "hovertemplate": "%{x}<br>Density: %{y}<br>%{customdata}<extra></extra>",
         "marker": {
          "color": [
           "#DE0100",
           "#DE0100",
           "#DE0100",
           "#DE0100",
           "#DE0100",
           "#DE0100",
           "#DE0100",
           "#DE0100",
           "#0015BC",
           "#DE0100",
           "#DE0100",
           "#DE0100",
           "#DE0100",
           "#DE0100",
           "#DE0100",
           "#DE0100",
           "#DE0100",
           "#DE0100",
           "#DE0100",
           "#DE0100",
           "#DE0100",
           "#DE0100",
           "#DE0100",
           "#0015BC",
           "#DE0100",
           "#DE0100",
           "#DE0100",
           "#DE0100",
           "#DE0100",
           "#DE0100",
           "#DE0100",
           "#DE0100",
           "#DE0100",
           "#DE0100",
           "#DE0100",
           "#DE0100",
           "#DE0100",
           "#DE0100",
           "#DE0100",
           "#DE0100",
           "#DE0100",
           "#DE0100",
           "#DE0100",
           "#DE0100",
           "#DE0100",
           "#DE0100",
           "#DE0100",
           "#DE0100",
           "#DE0100",
           "#DE0100",
           "#DE0100"
          ]
         },
         "mode": "markers",
         "type": "scatter",
         "visible": false,
         "x": [
          "AL",
          "AK",
          "AZ",
          "AR",
          "CA",
          "CO",
          "CT",
          "DE",
          "DC",
          "FL",
          "GA",
          "HI",
          "ID",
          "IL",
          "IN",
          "IA",
          "KS",
          "KY",
          "LA",
          "ME",
          "MD",
          "MA",
          "MI",
          "MN",
          "MS",
          "MO",
          "MT",
          "NE",
          "NV",
          "NH",
          "NJ",
          "NM",
          "NY",
          "NC",
          "ND",
          "OH",
          "OK",
          "OR",
          "PA",
          "RI",
          "SC",
          "SD",
          "TN",
          "TX",
          "UT",
          "VT",
          "VA",
          "WA",
          "WV",
          "WI",
          "WY"
         ],
         "y": [
          76,
          0,
          23,
          43,
          151,
          27,
          641,
          8740,
          326,
          180,
          94,
          150,
          11,
          205,
          153,
          52,
          28,
          92,
          96,
          36,
          431,
          731,
          163,
          51,
          53,
          71,
          5,
          20,
          7,
          102,
          992,
          10,
          371,
          120,
          9,
          263,
          44,
          27,
          264,
          916,
          103,
          9,
          111,
          54,
          17,
          55,
          135,
          62,
          80,
          86,
          4
         ]
        },
        {
         "customdata": [
          "Republican",
          "Republican",
          "Republican",
          "Republican",
          "Republican",
          "Republican",
          "Republican",
          "Republican",
          "Democrat",
          "Republican",
          "Republican",
          "Democrat",
          "Republican",
          "Republican",
          "Republican",
          "Democrat",
          "Republican",
          "Republican",
          "Republican",
          "Republican",
          "Republican",
          "Democrat",
          "Republican",
          "Democrat",
          "Republican",
          "Republican",
          "Republican",
          "Republican",
          "Republican",
          "Republican",
          "Republican",
          "Republican",
          "Democrat",
          "Republican",
          "Republican",
          "Republican",
          "Republican",
          "Democrat",
          "Republican",
          "Democrat",
          "Republican",
          "Republican",
          "Republican",
          "Republican",
          "Republican",
          "Republican",
          "Republican",
          "Democrat",
          "Democrat",
          "Democrat",
          "Republican"
         ],
         "hovertemplate": "%{x}<br>Density: %{y}<br>%{customdata}<extra></extra>",
         "marker": {
          "color": [
           "#DE0100",
           "#DE0100",
           "#DE0100",
           "#DE0100",
           "#DE0100",
           "#DE0100",
           "#DE0100",
           "#DE0100",
           "#0015BC",
           "#DE0100",
           "#DE0100",
           "#0015BC",
           "#DE0100",
           "#DE0100",
           "#DE0100",
           "#0015BC",
           "#DE0100",
           "#DE0100",
           "#DE0100",
           "#DE0100",
           "#DE0100",
           "#0015BC",
           "#DE0100",
           "#0015BC",
           "#DE0100",
           "#DE0100",
           "#DE0100",
           "#DE0100",
           "#DE0100",
           "#DE0100",
           "#DE0100",
           "#DE0100",
           "#0015BC",
           "#DE0100",
           "#DE0100",
           "#DE0100",
           "#DE0100",
           "#0015BC",
           "#DE0100",
           "#0015BC",
           "#DE0100",
           "#DE0100",
           "#DE0100",
           "#DE0100",
           "#DE0100",
           "#DE0100",
           "#DE0100",
           "#0015BC",
           "#0015BC",
           "#0015BC",
           "#DE0100"
          ]
         },
         "mode": "markers",
         "type": "scatter",
         "visible": false,
         "x": [
          "AL",
          "AK",
          "AZ",
          "AR",
          "CA",
          "CO",
          "CT",
          "DE",
          "DC",
          "FL",
          "GA",
          "HI",
          "ID",
          "IL",
          "IN",
          "IA",
          "KS",
          "KY",
          "LA",
          "ME",
          "MD",
          "MA",
          "MI",
          "MN",
          "MS",
          "MO",
          "MT",
          "NE",
          "NV",
          "NH",
          "NJ",
          "NM",
          "NY",
          "NC",
          "ND",
          "OH",
          "OK",
          "OR",
          "PA",
          "RI",
          "SC",
          "SD",
          "TN",
          "TX",
          "UT",
          "VT",
          "VA",
          "WA",
          "WV",
          "WI",
          "WY"
         ],
         "y": [
          79,
          0,
          32,
          45,
          190,
          31,
          678,
          9796,
          310,
          239,
          111,
          172,
          12,
          205,
          154,
          49,
          30,
          92,
          96,
          39,
          489,
          767,
          164,
          54,
          54,
          74,
          5,
          20,
          10,
          123,
          1041,
          12,
          380,
          136,
          9,
          264,
          45,
          29,
          265,
          970,
          115,
          9,
          118,
          64,
          20,
          60,
          156,
          73,
          74,
          90,
          4
         ]
        },
        {
         "customdata": [
          "Republican",
          "Republican",
          "Republican",
          "Democrat",
          "Democrat",
          "Democrat",
          "Democrat",
          "Democrat",
          "Democrat",
          "Republican",
          "Democrat",
          "Democrat",
          "Republican",
          "Democrat",
          "Republican",
          "Democrat",
          "Republican",
          "Democrat",
          "Democrat",
          "Democrat",
          "Democrat",
          "Democrat",
          "Democrat",
          "Democrat",
          "Republican",
          "Democrat",
          "Democrat",
          "Republican",
          "Democrat",
          "Democrat",
          "Democrat",
          "Democrat",
          "Democrat",
          "Republican",
          "Republican",
          "Democrat",
          "Republican",
          "Democrat",
          "Democrat",
          "Democrat",
          "Republican",
          "Republican",
          "Democrat",
          "Republican",
          "Republican",
          "Democrat",
          "Republican",
          "Democrat",
          "Democrat",
          "Democrat",
          "Republican"
         ],
         "hovertemplate": "%{x}<br>Density: %{y}<br>%{customdata}<extra></extra>",
         "marker": {
          "color": [
           "#DE0100",
           "#DE0100",
           "#DE0100",
           "#0015BC",
           "#0015BC",
           "#0015BC",
           "#0015BC",
           "#0015BC",
           "#0015BC",
           "#DE0100",
           "#0015BC",
           "#0015BC",
           "#DE0100",
           "#0015BC",
           "#DE0100",
           "#0015BC",
           "#DE0100",
           "#0015BC",
           "#0015BC",
           "#0015BC",
           "#0015BC",
           "#0015BC",
           "#0015BC",
           "#0015BC",
           "#DE0100",
           "#0015BC",
           "#0015BC",
           "#DE0100",
           "#0015BC",
           "#0015BC",
           "#0015BC",
           "#0015BC",
           "#0015BC",
           "#DE0100",
           "#DE0100",
           "#0015BC",
           "#DE0100",
           "#0015BC",
           "#0015BC",
           "#0015BC",
           "#DE0100",
           "#DE0100",
           "#0015BC",
           "#DE0100",
           "#DE0100",
           "#0015BC",
           "#DE0100",
           "#0015BC",
           "#0015BC",
           "#0015BC",
           "#DE0100"
          ]
         },
         "mode": "markers",
         "type": "scatter",
         "visible": false,
         "x": [
          "AL",
          "AK",
          "AZ",
          "AR",
          "CA",
          "CO",
          "CT",
          "DE",
          "DC",
          "FL",
          "GA",
          "HI",
          "ID",
          "IL",
          "IN",
          "IA",
          "KS",
          "KY",
          "LA",
          "ME",
          "MD",
          "MA",
          "MI",
          "MN",
          "MS",
          "MO",
          "MT",
          "NE",
          "NV",
          "NH",
          "NJ",
          "NM",
          "NY",
          "NC",
          "ND",
          "OH",
          "OK",
          "OR",
          "PA",
          "RI",
          "SC",
          "SD",
          "TN",
          "TX",
          "UT",
          "VT",
          "VA",
          "WA",
          "WV",
          "WI",
          "WY"
         ],
         "y": [
          79,
          0,
          32,
          45,
          190,
          31,
          678,
          9796,
          310,
          239,
          111,
          172,
          12,
          205,
          154,
          49,
          30,
          92,
          96,
          39,
          489,
          767,
          164,
          54,
          54,
          74,
          5,
          20,
          10,
          123,
          1041,
          12,
          380,
          136,
          9,
          264,
          45,
          29,
          265,
          970,
          115,
          9,
          118,
          64,
          20,
          60,
          156,
          73,
          74,
          90,
          4
         ]
        },
        {
         "customdata": [
          "Republican",
          "Republican",
          "Democrat",
          "Democrat",
          "Democrat",
          "Republican",
          "Democrat",
          "Democrat",
          "Democrat",
          "Democrat",
          "Republican",
          "Democrat",
          "Republican",
          "Democrat",
          "Republican",
          "Democrat",
          "Republican",
          "Democrat",
          "Democrat",
          "Democrat",
          "Democrat",
          "Democrat",
          "Democrat",
          "Democrat",
          "Republican",
          "Democrat",
          "Republican",
          "Republican",
          "Democrat",
          "Democrat",
          "Democrat",
          "Democrat",
          "Democrat",
          "Republican",
          "Republican",
          "Democrat",
          "Republican",
          "Democrat",
          "Democrat",
          "Democrat",
          "Republican",
          "Republican",
          "Democrat",
          "Republican",
          "Republican",
          "Democrat",
          "Republican",
          "Democrat",
          "Democrat",
          "Democrat",
          "Republican"
         ],
         "hovertemplate": "%{x}<br>Density: %{y}<br>%{customdata}<extra></extra>",
         "marker": {
          "color": [
           "#DE0100",
           "#DE0100",
           "#0015BC",
           "#0015BC",
           "#0015BC",
           "#DE0100",
           "#0015BC",
           "#0015BC",
           "#0015BC",
           "#0015BC",
           "#DE0100",
           "#0015BC",
           "#DE0100",
           "#0015BC",
           "#DE0100",
           "#0015BC",
           "#DE0100",
           "#0015BC",
           "#0015BC",
           "#0015BC",
           "#0015BC",
           "#0015BC",
           "#0015BC",
           "#0015BC",
           "#DE0100",
           "#0015BC",
           "#DE0100",
           "#DE0100",
           "#0015BC",
           "#0015BC",
           "#0015BC",
           "#0015BC",
           "#0015BC",
           "#DE0100",
           "#DE0100",
           "#0015BC",
           "#DE0100",
           "#0015BC",
           "#0015BC",
           "#0015BC",
           "#DE0100",
           "#DE0100",
           "#0015BC",
           "#DE0100",
           "#DE0100",
           "#0015BC",
           "#DE0100",
           "#0015BC",
           "#0015BC",
           "#0015BC",
           "#DE0100"
          ]
         },
         "mode": "markers",
         "type": "scatter",
         "visible": false,
         "x": [
          "AL",
          "AK",
          "AZ",
          "AR",
          "CA",
          "CO",
          "CT",
          "DE",
          "DC",
          "FL",
          "GA",
          "HI",
          "ID",
          "IL",
          "IN",
          "IA",
          "KS",
          "KY",
          "LA",
          "ME",
          "MD",
          "MA",
          "MI",
          "MN",
          "MS",
          "MO",
          "MT",
          "NE",
          "NV",
          "NH",
          "NJ",
          "NM",
          "NY",
          "NC",
          "ND",
          "OH",
          "OK",
          "OR",
          "PA",
          "RI",
          "SC",
          "SD",
          "TN",
          "TX",
          "UT",
          "VT",
          "VA",
          "WA",
          "WV",
          "WI",
          "WY"
         ],
         "y": [
          87,
          1,
          45,
          51,
          217,
          41,
          702,
          11523,
          292,
          295,
          141,
          188,
          15,
          223,
          169,
          52,
          32,
          101,
          102,
          41,
          541,
          810,
          175,
          61,
          60,
          81,
          6,
          22,
          18,
          137,
          1134,
          14,
          401,
          165,
          9,
          277,
          50,
          35,
          274,
          1013,
          133,
          9,
          138,
          79,
          27,
          65,
          178,
          88,
          75,
          98,
          5
         ]
        },
        {
         "customdata": [
          "Republican",
          "Republican",
          "Republican",
          "Republican",
          "Democrat",
          "Republican",
          "Democrat",
          "Democrat",
          "Democrat",
          "Republican",
          "Republican",
          "Democrat",
          "Republican",
          "Democrat",
          "Republican",
          "Democrat",
          "Republican",
          "Republican",
          "Republican",
          "Democrat",
          "Democrat",
          "Democrat",
          "Democrat",
          "Democrat",
          "Republican",
          "Republican",
          "Republican",
          "Republican",
          "Republican",
          "Republican",
          "Democrat",
          "Democrat",
          "Democrat",
          "Republican",
          "Republican",
          "Republican",
          "Republican",
          "Democrat",
          "Democrat",
          "Democrat",
          "Republican",
          "Republican",
          "Republican",
          "Republican",
          "Republican",
          "Democrat",
          "Republican",
          "Democrat",
          "Republican",
          "Democrat",
          "Republican"
         ],
         "hovertemplate": "%{x}<br>Density: %{y}<br>%{customdata}<extra></extra>",
         "marker": {
          "color": [
           "#DE0100",
           "#DE0100",
           "#DE0100",
           "#DE0100",
           "#0015BC",
           "#DE0100",
           "#0015BC",
           "#0015BC",
           "#0015BC",
           "#DE0100",
           "#DE0100",
           "#0015BC",
           "#DE0100",
           "#0015BC",
           "#DE0100",
           "#0015BC",
           "#DE0100",
           "#DE0100",
           "#DE0100",
           "#0015BC",
           "#0015BC",
           "#0015BC",
           "#0015BC",
           "#0015BC",
           "#DE0100",
           "#DE0100",
           "#DE0100",
           "#DE0100",
           "#DE0100",
           "#DE0100",
           "#0015BC",
           "#0015BC",
           "#0015BC",
           "#DE0100",
           "#DE0100",
           "#DE0100",
           "#DE0100",
           "#0015BC",
           "#0015BC",
           "#0015BC",
           "#DE0100",
           "#DE0100",
           "#DE0100",
           "#DE0100",
           "#DE0100",
           "#0015BC",
           "#DE0100",
           "#0015BC",
           "#DE0100",
           "#0015BC",
           "#DE0100"
          ]
         },
         "mode": "markers",
         "type": "scatter",
         "visible": false,
         "x": [
          "AL",
          "AK",
          "AZ",
          "AR",
          "CA",
          "CO",
          "CT",
          "DE",
          "DC",
          "FL",
          "GA",
          "HI",
          "ID",
          "IL",
          "IN",
          "IA",
          "KS",
          "KY",
          "LA",
          "ME",
          "MD",
          "MA",
          "MI",
          "MN",
          "MS",
          "MO",
          "MT",
          "NE",
          "NV",
          "NH",
          "NJ",
          "NM",
          "NY",
          "NC",
          "ND",
          "OH",
          "OK",
          "OR",
          "PA",
          "RI",
          "SC",
          "SD",
          "TN",
          "TX",
          "UT",
          "VT",
          "VA",
          "WA",
          "WV",
          "WI",
          "WY"
         ],
         "y": [
          87,
          1,
          45,
          51,
          217,
          41,
          702,
          11523,
          292,
          295,
          141,
          188,
          15,
          223,
          169,
          52,
          32,
          101,
          102,
          41,
          541,
          810,
          175,
          61,
          60,
          81,
          6,
          22,
          18,
          137,
          1134,
          14,
          401,
          165,
          9,
          277,
          50,
          35,
          274,
          1013,
          133,
          9,
          138,
          79,
          27,
          65,
          178,
          88,
          75,
          98,
          5
         ]
        },
        {
         "customdata": [
          "Republican",
          "Republican",
          "Republican",
          "Republican",
          "Democrat",
          "Republican",
          "Democrat",
          "Democrat",
          "Democrat",
          "Republican",
          "Republican",
          "Democrat",
          "Republican",
          "Democrat",
          "Republican",
          "Republican",
          "Republican",
          "Republican",
          "Republican",
          "Democrat",
          "Democrat",
          "Democrat",
          "Democrat",
          "Democrat",
          "Republican",
          "Republican",
          "Republican",
          "Republican",
          "Republican",
          "Democrat",
          "Democrat",
          "Republican",
          "Democrat",
          "Republican",
          "Republican",
          "Republican",
          "Republican",
          "Democrat",
          "Democrat",
          "Democrat",
          "Republican",
          "Republican",
          "Republican",
          "Republican",
          "Republican",
          "Democrat",
          "Republican",
          "Democrat",
          "Republican",
          "Democrat",
          "Republican"
         ],
         "hovertemplate": "%{x}<br>Density: %{y}<br>%{customdata}<extra></extra>",
         "marker": {
          "color": [
           "#DE0100",
           "#DE0100",
           "#DE0100",
           "#DE0100",
           "#0015BC",
           "#DE0100",
           "#0015BC",
           "#0015BC",
           "#0015BC",
           "#DE0100",
           "#DE0100",
           "#0015BC",
           "#DE0100",
           "#0015BC",
           "#DE0100",
           "#DE0100",
           "#DE0100",
           "#DE0100",
           "#DE0100",
           "#0015BC",
           "#0015BC",
           "#0015BC",
           "#0015BC",
           "#0015BC",
           "#DE0100",
           "#DE0100",
           "#DE0100",
           "#DE0100",
           "#DE0100",
           "#0015BC",
           "#0015BC",
           "#DE0100",
           "#0015BC",
           "#DE0100",
           "#DE0100",
           "#DE0100",
           "#DE0100",
           "#0015BC",
           "#0015BC",
           "#0015BC",
           "#DE0100",
           "#DE0100",
           "#DE0100",
           "#DE0100",
           "#DE0100",
           "#0015BC",
           "#DE0100",
           "#0015BC",
           "#DE0100",
           "#0015BC",
           "#DE0100"
          ]
         },
         "mode": "markers",
         "type": "scatter",
         "visible": false,
         "x": [
          "AL",
          "AK",
          "AZ",
          "AR",
          "CA",
          "CO",
          "CT",
          "DE",
          "DC",
          "FL",
          "GA",
          "HI",
          "ID",
          "IL",
          "IN",
          "IA",
          "KS",
          "KY",
          "LA",
          "ME",
          "MD",
          "MA",
          "MI",
          "MN",
          "MS",
          "MO",
          "MT",
          "NE",
          "NV",
          "NH",
          "NJ",
          "NM",
          "NY",
          "NC",
          "ND",
          "OH",
          "OK",
          "OR",
          "PA",
          "RI",
          "SC",
          "SD",
          "TN",
          "TX",
          "UT",
          "VT",
          "VA",
          "WA",
          "WV",
          "WI",
          "WY"
         ],
         "y": [
          87,
          1,
          45,
          51,
          217,
          41,
          702,
          11523,
          292,
          295,
          141,
          188,
          15,
          223,
          169,
          52,
          32,
          101,
          102,
          41,
          541,
          810,
          175,
          61,
          60,
          81,
          6,
          22,
          18,
          137,
          1134,
          14,
          401,
          165,
          9,
          277,
          50,
          35,
          274,
          1013,
          133,
          9,
          138,
          79,
          27,
          65,
          178,
          88,
          75,
          98,
          5
         ]
        },
        {
         "customdata": [
          "Republican",
          "Republican",
          "Republican",
          "Republican",
          "Democrat",
          "Democrat",
          "Democrat",
          "Democrat",
          "Democrat",
          "Democrat",
          "Republican",
          "Democrat",
          "Republican",
          "Democrat",
          "Democrat",
          "Democrat",
          "Republican",
          "Republican",
          "Republican",
          "Democrat",
          "Democrat",
          "Democrat",
          "Democrat",
          "Democrat",
          "Republican",
          "Republican",
          "Republican",
          "Republican",
          "Democrat",
          "Democrat",
          "Democrat",
          "Democrat",
          "Democrat",
          "Democrat",
          "Republican",
          "Democrat",
          "Republican",
          "Democrat",
          "Democrat",
          "Democrat",
          "Republican",
          "Republican",
          "Republican",
          "Republican",
          "Republican",
          "Democrat",
          "Democrat",
          "Democrat",
          "Republican",
          "Democrat",
          "Republican"
         ],
         "hovertemplate": "%{x}<br>Density: %{y}<br>%{customdata}<extra></extra>",
         "marker": {
          "color": [
           "#DE0100",
           "#DE0100",
           "#DE0100",
           "#DE0100",
           "#0015BC",
           "#0015BC",
           "#0015BC",
           "#0015BC",
           "#0015BC",
           "#0015BC",
           "#DE0100",
           "#0015BC",
           "#DE0100",
           "#0015BC",
           "#0015BC",
           "#0015BC",
           "#DE0100",
           "#DE0100",
           "#DE0100",
           "#0015BC",
           "#0015BC",
           "#0015BC",
           "#0015BC",
           "#0015BC",
           "#DE0100",
           "#DE0100",
           "#DE0100",
           "#DE0100",
           "#0015BC",
           "#0015BC",
           "#0015BC",
           "#0015BC",
           "#0015BC",
           "#0015BC",
           "#DE0100",
           "#0015BC",
           "#DE0100",
           "#0015BC",
           "#0015BC",
           "#0015BC",
           "#DE0100",
           "#DE0100",
           "#DE0100",
           "#DE0100",
           "#DE0100",
           "#0015BC",
           "#0015BC",
           "#0015BC",
           "#DE0100",
           "#0015BC",
           "#DE0100"
          ]
         },
         "mode": "markers",
         "type": "scatter",
         "visible": false,
         "x": [
          "AL",
          "AK",
          "AZ",
          "AR",
          "CA",
          "CO",
          "CT",
          "DE",
          "DC",
          "FL",
          "GA",
          "HI",
          "ID",
          "IL",
          "IN",
          "IA",
          "KS",
          "KY",
          "LA",
          "ME",
          "MD",
          "MA",
          "MI",
          "MN",
          "MS",
          "MO",
          "MT",
          "NE",
          "NV",
          "NH",
          "NJ",
          "NM",
          "NY",
          "NC",
          "ND",
          "OH",
          "OK",
          "OR",
          "PA",
          "RI",
          "SC",
          "SD",
          "TN",
          "TX",
          "UT",
          "VT",
          "VA",
          "WA",
          "WV",
          "WI",
          "WY"
         ],
         "y": [
          94,
          1,
          55,
          55,
          238,
          48,
          737,
          13204,
          307,
          348,
          167,
          211,
          18,
          230,
          180,
          54,
          34,
          109,
          103,
          43,
          590,
          835,
          174,
          66,
          63,
          86,
          6,
          23,
          24,
          146,
          1185,
          16,
          410,
          195,
          9,
          281,
          54,
          39,
          283,
          1017,
          153,
          10,
          153,
          96,
          33,
          67,
          202,
          100,
          76,
          104,
          5
         ]
        },
        {
         "customdata": [
          "Republican",
          "Republican",
          "Republican",
          "Republican",
          "Democrat",
          "Democrat",
          "Democrat",
          "Democrat",
          "Democrat",
          "Democrat",
          "Republican",
          "Democrat",
          "Republican",
          "Democrat",
          "Republican",
          "Democrat",
          "Republican",
          "Republican",
          "Republican",
          "Democrat",
          "Democrat",
          "Democrat",
          "Democrat",
          "Democrat",
          "Republican",
          "Republican",
          "Republican",
          "Republican",
          "Democrat",
          "Democrat",
          "Democrat",
          "Democrat",
          "Democrat",
          "Republican",
          "Republican",
          "Democrat",
          "Republican",
          "Democrat",
          "Democrat",
          "Democrat",
          "Republican",
          "Republican",
          "Republican",
          "Republican",
          "Republican",
          "Democrat",
          "Democrat",
          "Democrat",
          "Republican",
          "Democrat",
          "Republican"
         ],
         "hovertemplate": "%{x}<br>Density: %{y}<br>%{customdata}<extra></extra>",
         "marker": {
          "color": [
           "#DE0100",
           "#DE0100",
           "#DE0100",
           "#DE0100",
           "#0015BC",
           "#0015BC",
           "#0015BC",
           "#0015BC",
           "#0015BC",
           "#0015BC",
           "#DE0100",
           "#0015BC",
           "#DE0100",
           "#0015BC",
           "#DE0100",
           "#0015BC",
           "#DE0100",
           "#DE0100",
           "#DE0100",
           "#0015BC",
           "#0015BC",
           "#0015BC",
           "#0015BC",
           "#0015BC",
           "#DE0100",
           "#DE0100",
           "#DE0100",
           "#DE0100",
           "#0015BC",
           "#0015BC",
           "#0015BC",
           "#0015BC",
           "#0015BC",
           "#DE0100",
           "#DE0100",
           "#0015BC",
           "#DE0100",
           "#0015BC",
           "#0015BC",
           "#0015BC",
           "#DE0100",
           "#DE0100",
           "#DE0100",
           "#DE0100",
           "#DE0100",
           "#0015BC",
           "#0015BC",
           "#0015BC",
           "#DE0100",
           "#0015BC",
           "#DE0100"
          ]
         },
         "mode": "markers",
         "type": "scatter",
         "visible": false,
         "x": [
          "AL",
          "AK",
          "AZ",
          "AR",
          "CA",
          "CO",
          "CT",
          "DE",
          "DC",
          "FL",
          "GA",
          "HI",
          "ID",
          "IL",
          "IN",
          "IA",
          "KS",
          "KY",
          "LA",
          "ME",
          "MD",
          "MA",
          "MI",
          "MN",
          "MS",
          "MO",
          "MT",
          "NE",
          "NV",
          "NH",
          "NJ",
          "NM",
          "NY",
          "NC",
          "ND",
          "OH",
          "OK",
          "OR",
          "PA",
          "RI",
          "SC",
          "SD",
          "TN",
          "TX",
          "UT",
          "VT",
          "VA",
          "WA",
          "WV",
          "WI",
          "WY"
         ],
         "y": [
          94,
          1,
          55,
          55,
          238,
          48,
          737,
          13204,
          307,
          348,
          167,
          211,
          18,
          230,
          180,
          54,
          34,
          109,
          103,
          43,
          590,
          835,
          174,
          66,
          63,
          86,
          6,
          23,
          24,
          146,
          1185,
          16,
          410,
          195,
          9,
          281,
          54,
          39,
          283,
          1017,
          153,
          10,
          153,
          96,
          33,
          67,
          202,
          100,
          76,
          104,
          5
         ]
        },
        {
         "customdata": [
          "Republican",
          "Republican",
          "Republican",
          "Republican",
          "Democrat",
          "Democrat",
          "Democrat",
          "Democrat",
          "Democrat",
          "Republican",
          "Republican",
          "Democrat",
          "Republican",
          "Democrat",
          "Republican",
          "Republican",
          "Republican",
          "Republican",
          "Republican",
          "Democrat",
          "Democrat",
          "Democrat",
          "Republican",
          "Democrat",
          "Republican",
          "Republican",
          "Republican",
          "Republican",
          "Democrat",
          "Democrat",
          "Democrat",
          "Democrat",
          "Democrat",
          "Republican",
          "Republican",
          "Republican",
          "Republican",
          "Democrat",
          "Republican",
          "Democrat",
          "Republican",
          "Republican",
          "Republican",
          "Republican",
          "Republican",
          "Democrat",
          "Democrat",
          "Democrat",
          "Republican",
          "Republican",
          "Republican"
         ],
         "hovertemplate": "%{x}<br>Density: %{y}<br>%{customdata}<extra></extra>",
         "marker": {
          "color": [
           "#DE0100",
           "#DE0100",
           "#DE0100",
           "#DE0100",
           "#0015BC",
           "#0015BC",
           "#0015BC",
           "#0015BC",
           "#0015BC",
           "#DE0100",
           "#DE0100",
           "#0015BC",
           "#DE0100",
           "#0015BC",
           "#DE0100",
           "#DE0100",
           "#DE0100",
           "#DE0100",
           "#DE0100",
           "#0015BC",
           "#0015BC",
           "#0015BC",
           "#DE0100",
           "#0015BC",
           "#DE0100",
           "#DE0100",
           "#DE0100",
           "#DE0100",
           "#0015BC",
           "#0015BC",
           "#0015BC",
           "#0015BC",
           "#0015BC",
           "#DE0100",
           "#DE0100",
           "#DE0100",
           "#DE0100",
           "#0015BC",
           "#DE0100",
           "#0015BC",
           "#DE0100",
           "#DE0100",
           "#DE0100",
           "#DE0100",
           "#DE0100",
           "#0015BC",
           "#0015BC",
           "#0015BC",
           "#DE0100",
           "#DE0100",
           "#DE0100"
          ]
         },
         "mode": "markers",
         "type": "scatter",
         "visible": false,
         "x": [
          "AL",
          "AK",
          "AZ",
          "AR",
          "CA",
          "CO",
          "CT",
          "DE",
          "DC",
          "FL",
          "GA",
          "HI",
          "ID",
          "IL",
          "IN",
          "IA",
          "KS",
          "KY",
          "LA",
          "ME",
          "MD",
          "MA",
          "MI",
          "MN",
          "MS",
          "MO",
          "MT",
          "NE",
          "NV",
          "NH",
          "NJ",
          "NM",
          "NY",
          "NC",
          "ND",
          "OH",
          "OK",
          "OR",
          "PA",
          "RI",
          "SC",
          "SD",
          "TN",
          "TX",
          "UT",
          "VT",
          "VA",
          "WA",
          "WV",
          "WI",
          "WY"
         ],
         "y": [
          94,
          1,
          55,
          55,
          238,
          48,
          737,
          13204,
          307,
          348,
          167,
          211,
          18,
          230,
          180,
          54,
          34,
          109,
          103,
          43,
          590,
          835,
          174,
          66,
          63,
          86,
          6,
          23,
          24,
          146,
          1185,
          16,
          410,
          195,
          9,
          281,
          54,
          39,
          283,
          1017,
          153,
          10,
          153,
          96,
          33,
          67,
          202,
          100,
          76,
          104,
          5
         ]
        }
       ],
       "layout": {
        "sliders": [
         {
          "active": 0,
          "pad": {
           "t": 50
          },
          "steps": [
           {
            "args": [
             {
              "visible": [
               true,
               false,
               false,
               false,
               false,
               false,
               false,
               false,
               false,
               false,
               false
              ]
             },
             {
              "title": "Density vs Election Results - 1976"
             },
             {
              "title_x": 0.5
             }
            ],
            "label": "Year 1976",
            "method": "update"
           },
           {
            "args": [
             {
              "visible": [
               false,
               true,
               false,
               false,
               false,
               false,
               false,
               false,
               false,
               false,
               false
              ]
             },
             {
              "title": "Density vs Election Results - 1980"
             },
             {
              "title_x": 0.5
             }
            ],
            "label": "Year 1980",
            "method": "update"
           },
           {
            "args": [
             {
              "visible": [
               false,
               false,
               true,
               false,
               false,
               false,
               false,
               false,
               false,
               false,
               false
              ]
             },
             {
              "title": "Density vs Election Results - 1984"
             },
             {
              "title_x": 0.5
             }
            ],
            "label": "Year 1984",
            "method": "update"
           },
           {
            "args": [
             {
              "visible": [
               false,
               false,
               false,
               true,
               false,
               false,
               false,
               false,
               false,
               false,
               false
              ]
             },
             {
              "title": "Density vs Election Results - 1988"
             },
             {
              "title_x": 0.5
             }
            ],
            "label": "Year 1988",
            "method": "update"
           },
           {
            "args": [
             {
              "visible": [
               false,
               false,
               false,
               false,
               true,
               false,
               false,
               false,
               false,
               false,
               false
              ]
             },
             {
              "title": "Density vs Election Results - 1992"
             },
             {
              "title_x": 0.5
             }
            ],
            "label": "Year 1992",
            "method": "update"
           },
           {
            "args": [
             {
              "visible": [
               false,
               false,
               false,
               false,
               false,
               true,
               false,
               false,
               false,
               false,
               false
              ]
             },
             {
              "title": "Density vs Election Results - 1996"
             },
             {
              "title_x": 0.5
             }
            ],
            "label": "Year 1996",
            "method": "update"
           },
           {
            "args": [
             {
              "visible": [
               false,
               false,
               false,
               false,
               false,
               false,
               true,
               false,
               false,
               false,
               false
              ]
             },
             {
              "title": "Density vs Election Results - 2000"
             },
             {
              "title_x": 0.5
             }
            ],
            "label": "Year 2000",
            "method": "update"
           },
           {
            "args": [
             {
              "visible": [
               false,
               false,
               false,
               false,
               false,
               false,
               false,
               true,
               false,
               false,
               false
              ]
             },
             {
              "title": "Density vs Election Results - 2004"
             },
             {
              "title_x": 0.5
             }
            ],
            "label": "Year 2004",
            "method": "update"
           },
           {
            "args": [
             {
              "visible": [
               false,
               false,
               false,
               false,
               false,
               false,
               false,
               false,
               true,
               false,
               false
              ]
             },
             {
              "title": "Density vs Election Results - 2008"
             },
             {
              "title_x": 0.5
             }
            ],
            "label": "Year 2008",
            "method": "update"
           },
           {
            "args": [
             {
              "visible": [
               false,
               false,
               false,
               false,
               false,
               false,
               false,
               false,
               false,
               true,
               false
              ]
             },
             {
              "title": "Density vs Election Results - 2012"
             },
             {
              "title_x": 0.5
             }
            ],
            "label": "Year 2012",
            "method": "update"
           },
           {
            "args": [
             {
              "visible": [
               false,
               false,
               false,
               false,
               false,
               false,
               false,
               false,
               false,
               false,
               true
              ]
             },
             {
              "title": "Density vs Election Results - 2016"
             },
             {
              "title_x": 0.5
             }
            ],
            "label": "Year 2016",
            "method": "update"
           }
          ]
         }
        ],
        "template": {
         "data": {
          "bar": [
           {
            "error_x": {
             "color": "#2a3f5f"
            },
            "error_y": {
             "color": "#2a3f5f"
            },
            "marker": {
             "line": {
              "color": "#E5ECF6",
              "width": 0.5
             }
            },
            "type": "bar"
           }
          ],
          "barpolar": [
           {
            "marker": {
             "line": {
              "color": "#E5ECF6",
              "width": 0.5
             }
            },
            "type": "barpolar"
           }
          ],
          "carpet": [
           {
            "aaxis": {
             "endlinecolor": "#2a3f5f",
             "gridcolor": "white",
             "linecolor": "white",
             "minorgridcolor": "white",
             "startlinecolor": "#2a3f5f"
            },
            "baxis": {
             "endlinecolor": "#2a3f5f",
             "gridcolor": "white",
             "linecolor": "white",
             "minorgridcolor": "white",
             "startlinecolor": "#2a3f5f"
            },
            "type": "carpet"
           }
          ],
          "choropleth": [
           {
            "colorbar": {
             "outlinewidth": 0,
             "ticks": ""
            },
            "type": "choropleth"
           }
          ],
          "contour": [
           {
            "colorbar": {
             "outlinewidth": 0,
             "ticks": ""
            },
            "colorscale": [
             [
              0,
              "#0d0887"
             ],
             [
              0.1111111111111111,
              "#46039f"
             ],
             [
              0.2222222222222222,
              "#7201a8"
             ],
             [
              0.3333333333333333,
              "#9c179e"
             ],
             [
              0.4444444444444444,
              "#bd3786"
             ],
             [
              0.5555555555555556,
              "#d8576b"
             ],
             [
              0.6666666666666666,
              "#ed7953"
             ],
             [
              0.7777777777777778,
              "#fb9f3a"
             ],
             [
              0.8888888888888888,
              "#fdca26"
             ],
             [
              1,
              "#f0f921"
             ]
            ],
            "type": "contour"
           }
          ],
          "contourcarpet": [
           {
            "colorbar": {
             "outlinewidth": 0,
             "ticks": ""
            },
            "type": "contourcarpet"
           }
          ],
          "heatmap": [
           {
            "colorbar": {
             "outlinewidth": 0,
             "ticks": ""
            },
            "colorscale": [
             [
              0,
              "#0d0887"
             ],
             [
              0.1111111111111111,
              "#46039f"
             ],
             [
              0.2222222222222222,
              "#7201a8"
             ],
             [
              0.3333333333333333,
              "#9c179e"
             ],
             [
              0.4444444444444444,
              "#bd3786"
             ],
             [
              0.5555555555555556,
              "#d8576b"
             ],
             [
              0.6666666666666666,
              "#ed7953"
             ],
             [
              0.7777777777777778,
              "#fb9f3a"
             ],
             [
              0.8888888888888888,
              "#fdca26"
             ],
             [
              1,
              "#f0f921"
             ]
            ],
            "type": "heatmap"
           }
          ],
          "heatmapgl": [
           {
            "colorbar": {
             "outlinewidth": 0,
             "ticks": ""
            },
            "colorscale": [
             [
              0,
              "#0d0887"
             ],
             [
              0.1111111111111111,
              "#46039f"
             ],
             [
              0.2222222222222222,
              "#7201a8"
             ],
             [
              0.3333333333333333,
              "#9c179e"
             ],
             [
              0.4444444444444444,
              "#bd3786"
             ],
             [
              0.5555555555555556,
              "#d8576b"
             ],
             [
              0.6666666666666666,
              "#ed7953"
             ],
             [
              0.7777777777777778,
              "#fb9f3a"
             ],
             [
              0.8888888888888888,
              "#fdca26"
             ],
             [
              1,
              "#f0f921"
             ]
            ],
            "type": "heatmapgl"
           }
          ],
          "histogram": [
           {
            "marker": {
             "colorbar": {
              "outlinewidth": 0,
              "ticks": ""
             }
            },
            "type": "histogram"
           }
          ],
          "histogram2d": [
           {
            "colorbar": {
             "outlinewidth": 0,
             "ticks": ""
            },
            "colorscale": [
             [
              0,
              "#0d0887"
             ],
             [
              0.1111111111111111,
              "#46039f"
             ],
             [
              0.2222222222222222,
              "#7201a8"
             ],
             [
              0.3333333333333333,
              "#9c179e"
             ],
             [
              0.4444444444444444,
              "#bd3786"
             ],
             [
              0.5555555555555556,
              "#d8576b"
             ],
             [
              0.6666666666666666,
              "#ed7953"
             ],
             [
              0.7777777777777778,
              "#fb9f3a"
             ],
             [
              0.8888888888888888,
              "#fdca26"
             ],
             [
              1,
              "#f0f921"
             ]
            ],
            "type": "histogram2d"
           }
          ],
          "histogram2dcontour": [
           {
            "colorbar": {
             "outlinewidth": 0,
             "ticks": ""
            },
            "colorscale": [
             [
              0,
              "#0d0887"
             ],
             [
              0.1111111111111111,
              "#46039f"
             ],
             [
              0.2222222222222222,
              "#7201a8"
             ],
             [
              0.3333333333333333,
              "#9c179e"
             ],
             [
              0.4444444444444444,
              "#bd3786"
             ],
             [
              0.5555555555555556,
              "#d8576b"
             ],
             [
              0.6666666666666666,
              "#ed7953"
             ],
             [
              0.7777777777777778,
              "#fb9f3a"
             ],
             [
              0.8888888888888888,
              "#fdca26"
             ],
             [
              1,
              "#f0f921"
             ]
            ],
            "type": "histogram2dcontour"
           }
          ],
          "mesh3d": [
           {
            "colorbar": {
             "outlinewidth": 0,
             "ticks": ""
            },
            "type": "mesh3d"
           }
          ],
          "parcoords": [
           {
            "line": {
             "colorbar": {
              "outlinewidth": 0,
              "ticks": ""
             }
            },
            "type": "parcoords"
           }
          ],
          "pie": [
           {
            "automargin": true,
            "type": "pie"
           }
          ],
          "scatter": [
           {
            "marker": {
             "colorbar": {
              "outlinewidth": 0,
              "ticks": ""
             }
            },
            "type": "scatter"
           }
          ],
          "scatter3d": [
           {
            "line": {
             "colorbar": {
              "outlinewidth": 0,
              "ticks": ""
             }
            },
            "marker": {
             "colorbar": {
              "outlinewidth": 0,
              "ticks": ""
             }
            },
            "type": "scatter3d"
           }
          ],
          "scattercarpet": [
           {
            "marker": {
             "colorbar": {
              "outlinewidth": 0,
              "ticks": ""
             }
            },
            "type": "scattercarpet"
           }
          ],
          "scattergeo": [
           {
            "marker": {
             "colorbar": {
              "outlinewidth": 0,
              "ticks": ""
             }
            },
            "type": "scattergeo"
           }
          ],
          "scattergl": [
           {
            "marker": {
             "colorbar": {
              "outlinewidth": 0,
              "ticks": ""
             }
            },
            "type": "scattergl"
           }
          ],
          "scattermapbox": [
           {
            "marker": {
             "colorbar": {
              "outlinewidth": 0,
              "ticks": ""
             }
            },
            "type": "scattermapbox"
           }
          ],
          "scatterpolar": [
           {
            "marker": {
             "colorbar": {
              "outlinewidth": 0,
              "ticks": ""
             }
            },
            "type": "scatterpolar"
           }
          ],
          "scatterpolargl": [
           {
            "marker": {
             "colorbar": {
              "outlinewidth": 0,
              "ticks": ""
             }
            },
            "type": "scatterpolargl"
           }
          ],
          "scatterternary": [
           {
            "marker": {
             "colorbar": {
              "outlinewidth": 0,
              "ticks": ""
             }
            },
            "type": "scatterternary"
           }
          ],
          "surface": [
           {
            "colorbar": {
             "outlinewidth": 0,
             "ticks": ""
            },
            "colorscale": [
             [
              0,
              "#0d0887"
             ],
             [
              0.1111111111111111,
              "#46039f"
             ],
             [
              0.2222222222222222,
              "#7201a8"
             ],
             [
              0.3333333333333333,
              "#9c179e"
             ],
             [
              0.4444444444444444,
              "#bd3786"
             ],
             [
              0.5555555555555556,
              "#d8576b"
             ],
             [
              0.6666666666666666,
              "#ed7953"
             ],
             [
              0.7777777777777778,
              "#fb9f3a"
             ],
             [
              0.8888888888888888,
              "#fdca26"
             ],
             [
              1,
              "#f0f921"
             ]
            ],
            "type": "surface"
           }
          ],
          "table": [
           {
            "cells": {
             "fill": {
              "color": "#EBF0F8"
             },
             "line": {
              "color": "white"
             }
            },
            "header": {
             "fill": {
              "color": "#C8D4E3"
             },
             "line": {
              "color": "white"
             }
            },
            "type": "table"
           }
          ]
         },
         "layout": {
          "annotationdefaults": {
           "arrowcolor": "#2a3f5f",
           "arrowhead": 0,
           "arrowwidth": 1
          },
          "coloraxis": {
           "colorbar": {
            "outlinewidth": 0,
            "ticks": ""
           }
          },
          "colorscale": {
           "diverging": [
            [
             0,
             "#8e0152"
            ],
            [
             0.1,
             "#c51b7d"
            ],
            [
             0.2,
             "#de77ae"
            ],
            [
             0.3,
             "#f1b6da"
            ],
            [
             0.4,
             "#fde0ef"
            ],
            [
             0.5,
             "#f7f7f7"
            ],
            [
             0.6,
             "#e6f5d0"
            ],
            [
             0.7,
             "#b8e186"
            ],
            [
             0.8,
             "#7fbc41"
            ],
            [
             0.9,
             "#4d9221"
            ],
            [
             1,
             "#276419"
            ]
           ],
           "sequential": [
            [
             0,
             "#0d0887"
            ],
            [
             0.1111111111111111,
             "#46039f"
            ],
            [
             0.2222222222222222,
             "#7201a8"
            ],
            [
             0.3333333333333333,
             "#9c179e"
            ],
            [
             0.4444444444444444,
             "#bd3786"
            ],
            [
             0.5555555555555556,
             "#d8576b"
            ],
            [
             0.6666666666666666,
             "#ed7953"
            ],
            [
             0.7777777777777778,
             "#fb9f3a"
            ],
            [
             0.8888888888888888,
             "#fdca26"
            ],
            [
             1,
             "#f0f921"
            ]
           ],
           "sequentialminus": [
            [
             0,
             "#0d0887"
            ],
            [
             0.1111111111111111,
             "#46039f"
            ],
            [
             0.2222222222222222,
             "#7201a8"
            ],
            [
             0.3333333333333333,
             "#9c179e"
            ],
            [
             0.4444444444444444,
             "#bd3786"
            ],
            [
             0.5555555555555556,
             "#d8576b"
            ],
            [
             0.6666666666666666,
             "#ed7953"
            ],
            [
             0.7777777777777778,
             "#fb9f3a"
            ],
            [
             0.8888888888888888,
             "#fdca26"
            ],
            [
             1,
             "#f0f921"
            ]
           ]
          },
          "colorway": [
           "#636efa",
           "#EF553B",
           "#00cc96",
           "#ab63fa",
           "#FFA15A",
           "#19d3f3",
           "#FF6692",
           "#B6E880",
           "#FF97FF",
           "#FECB52"
          ],
          "font": {
           "color": "#2a3f5f"
          },
          "geo": {
           "bgcolor": "white",
           "lakecolor": "white",
           "landcolor": "#E5ECF6",
           "showlakes": true,
           "showland": true,
           "subunitcolor": "white"
          },
          "hoverlabel": {
           "align": "left"
          },
          "hovermode": "closest",
          "mapbox": {
           "style": "light"
          },
          "paper_bgcolor": "white",
          "plot_bgcolor": "#E5ECF6",
          "polar": {
           "angularaxis": {
            "gridcolor": "white",
            "linecolor": "white",
            "ticks": ""
           },
           "bgcolor": "#E5ECF6",
           "radialaxis": {
            "gridcolor": "white",
            "linecolor": "white",
            "ticks": ""
           }
          },
          "scene": {
           "xaxis": {
            "backgroundcolor": "#E5ECF6",
            "gridcolor": "white",
            "gridwidth": 2,
            "linecolor": "white",
            "showbackground": true,
            "ticks": "",
            "zerolinecolor": "white"
           },
           "yaxis": {
            "backgroundcolor": "#E5ECF6",
            "gridcolor": "white",
            "gridwidth": 2,
            "linecolor": "white",
            "showbackground": true,
            "ticks": "",
            "zerolinecolor": "white"
           },
           "zaxis": {
            "backgroundcolor": "#E5ECF6",
            "gridcolor": "white",
            "gridwidth": 2,
            "linecolor": "white",
            "showbackground": true,
            "ticks": "",
            "zerolinecolor": "white"
           }
          },
          "shapedefaults": {
           "line": {
            "color": "#2a3f5f"
           }
          },
          "ternary": {
           "aaxis": {
            "gridcolor": "white",
            "linecolor": "white",
            "ticks": ""
           },
           "baxis": {
            "gridcolor": "white",
            "linecolor": "white",
            "ticks": ""
           },
           "bgcolor": "#E5ECF6",
           "caxis": {
            "gridcolor": "white",
            "linecolor": "white",
            "ticks": ""
           }
          },
          "title": {
           "x": 0.05
          },
          "xaxis": {
           "automargin": true,
           "gridcolor": "white",
           "linecolor": "white",
           "ticks": "",
           "title": {
            "standoff": 15
           },
           "zerolinecolor": "white",
           "zerolinewidth": 2
          },
          "yaxis": {
           "automargin": true,
           "gridcolor": "white",
           "linecolor": "white",
           "ticks": "",
           "title": {
            "standoff": 15
           },
           "zerolinecolor": "white",
           "zerolinewidth": 2
          }
         }
        },
        "title": {
         "text": "Density vs Election Results - 1976",
         "x": 0.5
        },
        "xaxis": {
         "title": {
          "text": "State"
         }
        },
        "yaxis": {
         "range": [
          0,
          1500
         ],
         "title": {
          "text": "Density (ppsm)"
         }
        }
       }
      },
      "text/html": "<div>                            <div id=\"96837274-624a-4b77-b319-034fff40177b\" class=\"plotly-graph-div\" style=\"height:525px; width:100%;\"></div>            <script type=\"text/javascript\">                require([\"plotly\"], function(Plotly) {                    window.PLOTLYENV=window.PLOTLYENV || {};                                    if (document.getElementById(\"96837274-624a-4b77-b319-034fff40177b\")) {                    Plotly.newPlot(                        \"96837274-624a-4b77-b319-034fff40177b\",                        [{\"customdata\": [\"Democrat\", \"Republican\", \"Republican\", \"Democrat\", \"Republican\", \"Republican\", \"Republican\", \"Democrat\", \"Democrat\", \"Democrat\", \"Democrat\", \"Democrat\", \"Republican\", \"Republican\", \"Republican\", \"Republican\", \"Republican\", \"Democrat\", \"Democrat\", \"Republican\", \"Democrat\", \"Democrat\", \"Republican\", \"Democrat\", \"Democrat\", \"Democrat\", \"Republican\", \"Republican\", \"Republican\", \"Republican\", \"Republican\", \"Republican\", \"Democrat\", \"Democrat\", \"Republican\", \"Democrat\", \"Republican\", \"Republican\", \"Democrat\", \"Democrat\", \"Democrat\", \"Republican\", \"Democrat\", \"Democrat\", \"Republican\", \"Republican\", \"Republican\", \"Republican\", \"Democrat\", \"Democrat\", \"Republican\"], \"hovertemplate\": \"%{x}<br>Density: %{y}<br>%{customdata}<extra></extra>\", \"marker\": {\"color\": [\"#0015BC\", \"#DE0100\", \"#DE0100\", \"#0015BC\", \"#DE0100\", \"#DE0100\", \"#DE0100\", \"#0015BC\", \"#0015BC\", \"#0015BC\", \"#0015BC\", \"#0015BC\", \"#DE0100\", \"#DE0100\", \"#DE0100\", \"#DE0100\", \"#DE0100\", \"#0015BC\", \"#0015BC\", \"#DE0100\", \"#0015BC\", \"#0015BC\", \"#DE0100\", \"#0015BC\", \"#0015BC\", \"#0015BC\", \"#DE0100\", \"#DE0100\", \"#DE0100\", \"#DE0100\", \"#DE0100\", \"#DE0100\", \"#0015BC\", \"#0015BC\", \"#DE0100\", \"#0015BC\", \"#DE0100\", \"#DE0100\", \"#0015BC\", \"#0015BC\", \"#0015BC\", \"#DE0100\", \"#0015BC\", \"#0015BC\", \"#DE0100\", \"#DE0100\", \"#DE0100\", \"#DE0100\", \"#0015BC\", \"#0015BC\", \"#DE0100\"]}, \"mode\": \"markers\", \"type\": \"scatter\", \"visible\": true, \"x\": [\"AL\", \"AK\", \"AZ\", \"AR\", \"CA\", \"CO\", \"CT\", \"DE\", \"DC\", \"FL\", \"GA\", \"HI\", \"ID\", \"IL\", \"IN\", \"IA\", \"KS\", \"KY\", \"LA\", \"ME\", \"MD\", \"MA\", \"MI\", \"MN\", \"MS\", \"MO\", \"MT\", \"NE\", \"NV\", \"NH\", \"NJ\", \"NM\", \"NY\", \"NC\", \"ND\", \"OH\", \"OK\", \"OR\", \"PA\", \"RI\", \"SC\", \"SD\", \"TN\", \"TX\", \"UT\", \"VT\", \"VA\", \"WA\", \"WV\", \"WI\", \"WY\"], \"y\": [76, 0, 23, 43, 151, 27, 641, 8740, 326, 180, 94, 150, 11, 205, 153, 52, 28, 92, 96, 36, 431, 731, 163, 51, 53, 71, 5, 20, 7, 102, 992, 10, 371, 120, 9, 263, 44, 27, 264, 916, 103, 9, 111, 54, 17, 55, 135, 62, 80, 86, 4]}, {\"customdata\": [\"Republican\", \"Republican\", \"Republican\", \"Republican\", \"Republican\", \"Republican\", \"Republican\", \"Republican\", \"Democrat\", \"Republican\", \"Democrat\", \"Democrat\", \"Republican\", \"Republican\", \"Republican\", \"Republican\", \"Republican\", \"Republican\", \"Republican\", \"Republican\", \"Democrat\", \"Republican\", \"Republican\", \"Democrat\", \"Republican\", \"Republican\", \"Republican\", \"Republican\", \"Republican\", \"Republican\", \"Republican\", \"Republican\", \"Democrat\", \"Republican\", \"Republican\", \"Republican\", \"Republican\", \"Republican\", \"Republican\", \"Democrat\", \"Republican\", \"Republican\", \"Republican\", \"Republican\", \"Republican\", \"Republican\", \"Republican\", \"Republican\", \"Democrat\", \"Republican\", \"Republican\"], \"hovertemplate\": \"%{x}<br>Density: %{y}<br>%{customdata}<extra></extra>\", \"marker\": {\"color\": [\"#DE0100\", \"#DE0100\", \"#DE0100\", \"#DE0100\", \"#DE0100\", \"#DE0100\", \"#DE0100\", \"#DE0100\", \"#0015BC\", \"#DE0100\", \"#0015BC\", \"#0015BC\", \"#DE0100\", \"#DE0100\", \"#DE0100\", \"#DE0100\", \"#DE0100\", \"#DE0100\", \"#DE0100\", \"#DE0100\", \"#0015BC\", \"#DE0100\", \"#DE0100\", \"#0015BC\", \"#DE0100\", \"#DE0100\", \"#DE0100\", \"#DE0100\", \"#DE0100\", \"#DE0100\", \"#DE0100\", \"#DE0100\", \"#0015BC\", \"#DE0100\", \"#DE0100\", \"#DE0100\", \"#DE0100\", \"#DE0100\", \"#DE0100\", \"#0015BC\", \"#DE0100\", \"#DE0100\", \"#DE0100\", \"#DE0100\", \"#DE0100\", \"#DE0100\", \"#DE0100\", \"#DE0100\", \"#0015BC\", \"#DE0100\", \"#DE0100\"]}, \"mode\": \"markers\", \"type\": \"scatter\", \"visible\": false, \"x\": [\"AL\", \"AK\", \"AZ\", \"AR\", \"CA\", \"CO\", \"CT\", \"DE\", \"DC\", \"FL\", \"GA\", \"HI\", \"ID\", \"IL\", \"IN\", \"IA\", \"KS\", \"KY\", \"LA\", \"ME\", \"MD\", \"MA\", \"MI\", \"MN\", \"MS\", \"MO\", \"MT\", \"NE\", \"NV\", \"NH\", \"NJ\", \"NM\", \"NY\", \"NC\", \"ND\", \"OH\", \"OK\", \"OR\", \"PA\", \"RI\", \"SC\", \"SD\", \"TN\", \"TX\", \"UT\", \"VT\", \"VA\", \"WA\", \"WV\", \"WI\", \"WY\"], \"y\": [76, 0, 23, 43, 151, 27, 641, 8740, 326, 180, 94, 150, 11, 205, 153, 52, 28, 92, 96, 36, 431, 731, 163, 51, 53, 71, 5, 20, 7, 102, 992, 10, 371, 120, 9, 263, 44, 27, 264, 916, 103, 9, 111, 54, 17, 55, 135, 62, 80, 86, 4]}, {\"customdata\": [\"Republican\", \"Republican\", \"Republican\", \"Republican\", \"Republican\", \"Republican\", \"Republican\", \"Republican\", \"Democrat\", \"Republican\", \"Republican\", \"Republican\", \"Republican\", \"Republican\", \"Republican\", \"Republican\", \"Republican\", \"Republican\", \"Republican\", \"Republican\", \"Republican\", \"Republican\", \"Republican\", \"Democrat\", \"Republican\", \"Republican\", \"Republican\", \"Republican\", \"Republican\", \"Republican\", \"Republican\", \"Republican\", \"Republican\", \"Republican\", \"Republican\", \"Republican\", \"Republican\", \"Republican\", \"Republican\", \"Republican\", \"Republican\", \"Republican\", \"Republican\", \"Republican\", \"Republican\", \"Republican\", \"Republican\", \"Republican\", \"Republican\", \"Republican\", \"Republican\"], \"hovertemplate\": \"%{x}<br>Density: %{y}<br>%{customdata}<extra></extra>\", \"marker\": {\"color\": [\"#DE0100\", \"#DE0100\", \"#DE0100\", \"#DE0100\", \"#DE0100\", \"#DE0100\", \"#DE0100\", \"#DE0100\", \"#0015BC\", \"#DE0100\", \"#DE0100\", \"#DE0100\", \"#DE0100\", \"#DE0100\", \"#DE0100\", \"#DE0100\", \"#DE0100\", \"#DE0100\", \"#DE0100\", \"#DE0100\", \"#DE0100\", \"#DE0100\", \"#DE0100\", \"#0015BC\", \"#DE0100\", \"#DE0100\", \"#DE0100\", \"#DE0100\", \"#DE0100\", \"#DE0100\", \"#DE0100\", \"#DE0100\", \"#DE0100\", \"#DE0100\", \"#DE0100\", \"#DE0100\", \"#DE0100\", \"#DE0100\", \"#DE0100\", \"#DE0100\", \"#DE0100\", \"#DE0100\", \"#DE0100\", \"#DE0100\", \"#DE0100\", \"#DE0100\", \"#DE0100\", \"#DE0100\", \"#DE0100\", \"#DE0100\", \"#DE0100\"]}, \"mode\": \"markers\", \"type\": \"scatter\", \"visible\": false, \"x\": [\"AL\", \"AK\", \"AZ\", \"AR\", \"CA\", \"CO\", \"CT\", \"DE\", \"DC\", \"FL\", \"GA\", \"HI\", \"ID\", \"IL\", \"IN\", \"IA\", \"KS\", \"KY\", \"LA\", \"ME\", \"MD\", \"MA\", \"MI\", \"MN\", \"MS\", \"MO\", \"MT\", \"NE\", \"NV\", \"NH\", \"NJ\", \"NM\", \"NY\", \"NC\", \"ND\", \"OH\", \"OK\", \"OR\", \"PA\", \"RI\", \"SC\", \"SD\", \"TN\", \"TX\", \"UT\", \"VT\", \"VA\", \"WA\", \"WV\", \"WI\", \"WY\"], \"y\": [76, 0, 23, 43, 151, 27, 641, 8740, 326, 180, 94, 150, 11, 205, 153, 52, 28, 92, 96, 36, 431, 731, 163, 51, 53, 71, 5, 20, 7, 102, 992, 10, 371, 120, 9, 263, 44, 27, 264, 916, 103, 9, 111, 54, 17, 55, 135, 62, 80, 86, 4]}, {\"customdata\": [\"Republican\", \"Republican\", \"Republican\", \"Republican\", \"Republican\", \"Republican\", \"Republican\", \"Republican\", \"Democrat\", \"Republican\", \"Republican\", \"Democrat\", \"Republican\", \"Republican\", \"Republican\", \"Democrat\", \"Republican\", \"Republican\", \"Republican\", \"Republican\", \"Republican\", \"Democrat\", \"Republican\", \"Democrat\", \"Republican\", \"Republican\", \"Republican\", \"Republican\", \"Republican\", \"Republican\", \"Republican\", \"Republican\", \"Democrat\", \"Republican\", \"Republican\", \"Republican\", \"Republican\", \"Democrat\", \"Republican\", \"Democrat\", \"Republican\", \"Republican\", \"Republican\", \"Republican\", \"Republican\", \"Republican\", \"Republican\", \"Democrat\", \"Democrat\", \"Democrat\", \"Republican\"], \"hovertemplate\": \"%{x}<br>Density: %{y}<br>%{customdata}<extra></extra>\", \"marker\": {\"color\": [\"#DE0100\", \"#DE0100\", \"#DE0100\", \"#DE0100\", \"#DE0100\", \"#DE0100\", \"#DE0100\", \"#DE0100\", \"#0015BC\", \"#DE0100\", \"#DE0100\", \"#0015BC\", \"#DE0100\", \"#DE0100\", \"#DE0100\", \"#0015BC\", \"#DE0100\", \"#DE0100\", \"#DE0100\", \"#DE0100\", \"#DE0100\", \"#0015BC\", \"#DE0100\", \"#0015BC\", \"#DE0100\", \"#DE0100\", \"#DE0100\", \"#DE0100\", \"#DE0100\", \"#DE0100\", \"#DE0100\", \"#DE0100\", \"#0015BC\", \"#DE0100\", \"#DE0100\", \"#DE0100\", \"#DE0100\", \"#0015BC\", \"#DE0100\", \"#0015BC\", \"#DE0100\", \"#DE0100\", \"#DE0100\", \"#DE0100\", \"#DE0100\", \"#DE0100\", \"#DE0100\", \"#0015BC\", \"#0015BC\", \"#0015BC\", \"#DE0100\"]}, \"mode\": \"markers\", \"type\": \"scatter\", \"visible\": false, \"x\": [\"AL\", \"AK\", \"AZ\", \"AR\", \"CA\", \"CO\", \"CT\", \"DE\", \"DC\", \"FL\", \"GA\", \"HI\", \"ID\", \"IL\", \"IN\", \"IA\", \"KS\", \"KY\", \"LA\", \"ME\", \"MD\", \"MA\", \"MI\", \"MN\", \"MS\", \"MO\", \"MT\", \"NE\", \"NV\", \"NH\", \"NJ\", \"NM\", \"NY\", \"NC\", \"ND\", \"OH\", \"OK\", \"OR\", \"PA\", \"RI\", \"SC\", \"SD\", \"TN\", \"TX\", \"UT\", \"VT\", \"VA\", \"WA\", \"WV\", \"WI\", \"WY\"], \"y\": [79, 0, 32, 45, 190, 31, 678, 9796, 310, 239, 111, 172, 12, 205, 154, 49, 30, 92, 96, 39, 489, 767, 164, 54, 54, 74, 5, 20, 10, 123, 1041, 12, 380, 136, 9, 264, 45, 29, 265, 970, 115, 9, 118, 64, 20, 60, 156, 73, 74, 90, 4]}, {\"customdata\": [\"Republican\", \"Republican\", \"Republican\", \"Democrat\", \"Democrat\", \"Democrat\", \"Democrat\", \"Democrat\", \"Democrat\", \"Republican\", \"Democrat\", \"Democrat\", \"Republican\", \"Democrat\", \"Republican\", \"Democrat\", \"Republican\", \"Democrat\", \"Democrat\", \"Democrat\", \"Democrat\", \"Democrat\", \"Democrat\", \"Democrat\", \"Republican\", \"Democrat\", \"Democrat\", \"Republican\", \"Democrat\", \"Democrat\", \"Democrat\", \"Democrat\", \"Democrat\", \"Republican\", \"Republican\", \"Democrat\", \"Republican\", \"Democrat\", \"Democrat\", \"Democrat\", \"Republican\", \"Republican\", \"Democrat\", \"Republican\", \"Republican\", \"Democrat\", \"Republican\", \"Democrat\", \"Democrat\", \"Democrat\", \"Republican\"], \"hovertemplate\": \"%{x}<br>Density: %{y}<br>%{customdata}<extra></extra>\", \"marker\": {\"color\": [\"#DE0100\", \"#DE0100\", \"#DE0100\", \"#0015BC\", \"#0015BC\", \"#0015BC\", \"#0015BC\", \"#0015BC\", \"#0015BC\", \"#DE0100\", \"#0015BC\", \"#0015BC\", \"#DE0100\", \"#0015BC\", \"#DE0100\", \"#0015BC\", \"#DE0100\", \"#0015BC\", \"#0015BC\", \"#0015BC\", \"#0015BC\", \"#0015BC\", \"#0015BC\", \"#0015BC\", \"#DE0100\", \"#0015BC\", \"#0015BC\", \"#DE0100\", \"#0015BC\", \"#0015BC\", \"#0015BC\", \"#0015BC\", \"#0015BC\", \"#DE0100\", \"#DE0100\", \"#0015BC\", \"#DE0100\", \"#0015BC\", \"#0015BC\", \"#0015BC\", \"#DE0100\", \"#DE0100\", \"#0015BC\", \"#DE0100\", \"#DE0100\", \"#0015BC\", \"#DE0100\", \"#0015BC\", \"#0015BC\", \"#0015BC\", \"#DE0100\"]}, \"mode\": \"markers\", \"type\": \"scatter\", \"visible\": false, \"x\": [\"AL\", \"AK\", \"AZ\", \"AR\", \"CA\", \"CO\", \"CT\", \"DE\", \"DC\", \"FL\", \"GA\", \"HI\", \"ID\", \"IL\", \"IN\", \"IA\", \"KS\", \"KY\", \"LA\", \"ME\", \"MD\", \"MA\", \"MI\", \"MN\", \"MS\", \"MO\", \"MT\", \"NE\", \"NV\", \"NH\", \"NJ\", \"NM\", \"NY\", \"NC\", \"ND\", \"OH\", \"OK\", \"OR\", \"PA\", \"RI\", \"SC\", \"SD\", \"TN\", \"TX\", \"UT\", \"VT\", \"VA\", \"WA\", \"WV\", \"WI\", \"WY\"], \"y\": [79, 0, 32, 45, 190, 31, 678, 9796, 310, 239, 111, 172, 12, 205, 154, 49, 30, 92, 96, 39, 489, 767, 164, 54, 54, 74, 5, 20, 10, 123, 1041, 12, 380, 136, 9, 264, 45, 29, 265, 970, 115, 9, 118, 64, 20, 60, 156, 73, 74, 90, 4]}, {\"customdata\": [\"Republican\", \"Republican\", \"Democrat\", \"Democrat\", \"Democrat\", \"Republican\", \"Democrat\", \"Democrat\", \"Democrat\", \"Democrat\", \"Republican\", \"Democrat\", \"Republican\", \"Democrat\", \"Republican\", \"Democrat\", \"Republican\", \"Democrat\", \"Democrat\", \"Democrat\", \"Democrat\", \"Democrat\", \"Democrat\", \"Democrat\", \"Republican\", \"Democrat\", \"Republican\", \"Republican\", \"Democrat\", \"Democrat\", \"Democrat\", \"Democrat\", \"Democrat\", \"Republican\", \"Republican\", \"Democrat\", \"Republican\", \"Democrat\", \"Democrat\", \"Democrat\", \"Republican\", \"Republican\", \"Democrat\", \"Republican\", \"Republican\", \"Democrat\", \"Republican\", \"Democrat\", \"Democrat\", \"Democrat\", \"Republican\"], \"hovertemplate\": \"%{x}<br>Density: %{y}<br>%{customdata}<extra></extra>\", \"marker\": {\"color\": [\"#DE0100\", \"#DE0100\", \"#0015BC\", \"#0015BC\", \"#0015BC\", \"#DE0100\", \"#0015BC\", \"#0015BC\", \"#0015BC\", \"#0015BC\", \"#DE0100\", \"#0015BC\", \"#DE0100\", \"#0015BC\", \"#DE0100\", \"#0015BC\", \"#DE0100\", \"#0015BC\", \"#0015BC\", \"#0015BC\", \"#0015BC\", \"#0015BC\", \"#0015BC\", \"#0015BC\", \"#DE0100\", \"#0015BC\", \"#DE0100\", \"#DE0100\", \"#0015BC\", \"#0015BC\", \"#0015BC\", \"#0015BC\", \"#0015BC\", \"#DE0100\", \"#DE0100\", \"#0015BC\", \"#DE0100\", \"#0015BC\", \"#0015BC\", \"#0015BC\", \"#DE0100\", \"#DE0100\", \"#0015BC\", \"#DE0100\", \"#DE0100\", \"#0015BC\", \"#DE0100\", \"#0015BC\", \"#0015BC\", \"#0015BC\", \"#DE0100\"]}, \"mode\": \"markers\", \"type\": \"scatter\", \"visible\": false, \"x\": [\"AL\", \"AK\", \"AZ\", \"AR\", \"CA\", \"CO\", \"CT\", \"DE\", \"DC\", \"FL\", \"GA\", \"HI\", \"ID\", \"IL\", \"IN\", \"IA\", \"KS\", \"KY\", \"LA\", \"ME\", \"MD\", \"MA\", \"MI\", \"MN\", \"MS\", \"MO\", \"MT\", \"NE\", \"NV\", \"NH\", \"NJ\", \"NM\", \"NY\", \"NC\", \"ND\", \"OH\", \"OK\", \"OR\", \"PA\", \"RI\", \"SC\", \"SD\", \"TN\", \"TX\", \"UT\", \"VT\", \"VA\", \"WA\", \"WV\", \"WI\", \"WY\"], \"y\": [87, 1, 45, 51, 217, 41, 702, 11523, 292, 295, 141, 188, 15, 223, 169, 52, 32, 101, 102, 41, 541, 810, 175, 61, 60, 81, 6, 22, 18, 137, 1134, 14, 401, 165, 9, 277, 50, 35, 274, 1013, 133, 9, 138, 79, 27, 65, 178, 88, 75, 98, 5]}, {\"customdata\": [\"Republican\", \"Republican\", \"Republican\", \"Republican\", \"Democrat\", \"Republican\", \"Democrat\", \"Democrat\", \"Democrat\", \"Republican\", \"Republican\", \"Democrat\", \"Republican\", \"Democrat\", \"Republican\", \"Democrat\", \"Republican\", \"Republican\", \"Republican\", \"Democrat\", \"Democrat\", \"Democrat\", \"Democrat\", \"Democrat\", \"Republican\", \"Republican\", \"Republican\", \"Republican\", \"Republican\", \"Republican\", \"Democrat\", \"Democrat\", \"Democrat\", \"Republican\", \"Republican\", \"Republican\", \"Republican\", \"Democrat\", \"Democrat\", \"Democrat\", \"Republican\", \"Republican\", \"Republican\", \"Republican\", \"Republican\", \"Democrat\", \"Republican\", \"Democrat\", \"Republican\", \"Democrat\", \"Republican\"], \"hovertemplate\": \"%{x}<br>Density: %{y}<br>%{customdata}<extra></extra>\", \"marker\": {\"color\": [\"#DE0100\", \"#DE0100\", \"#DE0100\", \"#DE0100\", \"#0015BC\", \"#DE0100\", \"#0015BC\", \"#0015BC\", \"#0015BC\", \"#DE0100\", \"#DE0100\", \"#0015BC\", \"#DE0100\", \"#0015BC\", \"#DE0100\", \"#0015BC\", \"#DE0100\", \"#DE0100\", \"#DE0100\", \"#0015BC\", \"#0015BC\", \"#0015BC\", \"#0015BC\", \"#0015BC\", \"#DE0100\", \"#DE0100\", \"#DE0100\", \"#DE0100\", \"#DE0100\", \"#DE0100\", \"#0015BC\", \"#0015BC\", \"#0015BC\", \"#DE0100\", \"#DE0100\", \"#DE0100\", \"#DE0100\", \"#0015BC\", \"#0015BC\", \"#0015BC\", \"#DE0100\", \"#DE0100\", \"#DE0100\", \"#DE0100\", \"#DE0100\", \"#0015BC\", \"#DE0100\", \"#0015BC\", \"#DE0100\", \"#0015BC\", \"#DE0100\"]}, \"mode\": \"markers\", \"type\": \"scatter\", \"visible\": false, \"x\": [\"AL\", \"AK\", \"AZ\", \"AR\", \"CA\", \"CO\", \"CT\", \"DE\", \"DC\", \"FL\", \"GA\", \"HI\", \"ID\", \"IL\", \"IN\", \"IA\", \"KS\", \"KY\", \"LA\", \"ME\", \"MD\", \"MA\", \"MI\", \"MN\", \"MS\", \"MO\", \"MT\", \"NE\", \"NV\", \"NH\", \"NJ\", \"NM\", \"NY\", \"NC\", \"ND\", \"OH\", \"OK\", \"OR\", \"PA\", \"RI\", \"SC\", \"SD\", \"TN\", \"TX\", \"UT\", \"VT\", \"VA\", \"WA\", \"WV\", \"WI\", \"WY\"], \"y\": [87, 1, 45, 51, 217, 41, 702, 11523, 292, 295, 141, 188, 15, 223, 169, 52, 32, 101, 102, 41, 541, 810, 175, 61, 60, 81, 6, 22, 18, 137, 1134, 14, 401, 165, 9, 277, 50, 35, 274, 1013, 133, 9, 138, 79, 27, 65, 178, 88, 75, 98, 5]}, {\"customdata\": [\"Republican\", \"Republican\", \"Republican\", \"Republican\", \"Democrat\", \"Republican\", \"Democrat\", \"Democrat\", \"Democrat\", \"Republican\", \"Republican\", \"Democrat\", \"Republican\", \"Democrat\", \"Republican\", \"Republican\", \"Republican\", \"Republican\", \"Republican\", \"Democrat\", \"Democrat\", \"Democrat\", \"Democrat\", \"Democrat\", \"Republican\", \"Republican\", \"Republican\", \"Republican\", \"Republican\", \"Democrat\", \"Democrat\", \"Republican\", \"Democrat\", \"Republican\", \"Republican\", \"Republican\", \"Republican\", \"Democrat\", \"Democrat\", \"Democrat\", \"Republican\", \"Republican\", \"Republican\", \"Republican\", \"Republican\", \"Democrat\", \"Republican\", \"Democrat\", \"Republican\", \"Democrat\", \"Republican\"], \"hovertemplate\": \"%{x}<br>Density: %{y}<br>%{customdata}<extra></extra>\", \"marker\": {\"color\": [\"#DE0100\", \"#DE0100\", \"#DE0100\", \"#DE0100\", \"#0015BC\", \"#DE0100\", \"#0015BC\", \"#0015BC\", \"#0015BC\", \"#DE0100\", \"#DE0100\", \"#0015BC\", \"#DE0100\", \"#0015BC\", \"#DE0100\", \"#DE0100\", \"#DE0100\", \"#DE0100\", \"#DE0100\", \"#0015BC\", \"#0015BC\", \"#0015BC\", \"#0015BC\", \"#0015BC\", \"#DE0100\", \"#DE0100\", \"#DE0100\", \"#DE0100\", \"#DE0100\", \"#0015BC\", \"#0015BC\", \"#DE0100\", \"#0015BC\", \"#DE0100\", \"#DE0100\", \"#DE0100\", \"#DE0100\", \"#0015BC\", \"#0015BC\", \"#0015BC\", \"#DE0100\", \"#DE0100\", \"#DE0100\", \"#DE0100\", \"#DE0100\", \"#0015BC\", \"#DE0100\", \"#0015BC\", \"#DE0100\", \"#0015BC\", \"#DE0100\"]}, \"mode\": \"markers\", \"type\": \"scatter\", \"visible\": false, \"x\": [\"AL\", \"AK\", \"AZ\", \"AR\", \"CA\", \"CO\", \"CT\", \"DE\", \"DC\", \"FL\", \"GA\", \"HI\", \"ID\", \"IL\", \"IN\", \"IA\", \"KS\", \"KY\", \"LA\", \"ME\", \"MD\", \"MA\", \"MI\", \"MN\", \"MS\", \"MO\", \"MT\", \"NE\", \"NV\", \"NH\", \"NJ\", \"NM\", \"NY\", \"NC\", \"ND\", \"OH\", \"OK\", \"OR\", \"PA\", \"RI\", \"SC\", \"SD\", \"TN\", \"TX\", \"UT\", \"VT\", \"VA\", \"WA\", \"WV\", \"WI\", \"WY\"], \"y\": [87, 1, 45, 51, 217, 41, 702, 11523, 292, 295, 141, 188, 15, 223, 169, 52, 32, 101, 102, 41, 541, 810, 175, 61, 60, 81, 6, 22, 18, 137, 1134, 14, 401, 165, 9, 277, 50, 35, 274, 1013, 133, 9, 138, 79, 27, 65, 178, 88, 75, 98, 5]}, {\"customdata\": [\"Republican\", \"Republican\", \"Republican\", \"Republican\", \"Democrat\", \"Democrat\", \"Democrat\", \"Democrat\", \"Democrat\", \"Democrat\", \"Republican\", \"Democrat\", \"Republican\", \"Democrat\", \"Democrat\", \"Democrat\", \"Republican\", \"Republican\", \"Republican\", \"Democrat\", \"Democrat\", \"Democrat\", \"Democrat\", \"Democrat\", \"Republican\", \"Republican\", \"Republican\", \"Republican\", \"Democrat\", \"Democrat\", \"Democrat\", \"Democrat\", \"Democrat\", \"Democrat\", \"Republican\", \"Democrat\", \"Republican\", \"Democrat\", \"Democrat\", \"Democrat\", \"Republican\", \"Republican\", \"Republican\", \"Republican\", \"Republican\", \"Democrat\", \"Democrat\", \"Democrat\", \"Republican\", \"Democrat\", \"Republican\"], \"hovertemplate\": \"%{x}<br>Density: %{y}<br>%{customdata}<extra></extra>\", \"marker\": {\"color\": [\"#DE0100\", \"#DE0100\", \"#DE0100\", \"#DE0100\", \"#0015BC\", \"#0015BC\", \"#0015BC\", \"#0015BC\", \"#0015BC\", \"#0015BC\", \"#DE0100\", \"#0015BC\", \"#DE0100\", \"#0015BC\", \"#0015BC\", \"#0015BC\", \"#DE0100\", \"#DE0100\", \"#DE0100\", \"#0015BC\", \"#0015BC\", \"#0015BC\", \"#0015BC\", \"#0015BC\", \"#DE0100\", \"#DE0100\", \"#DE0100\", \"#DE0100\", \"#0015BC\", \"#0015BC\", \"#0015BC\", \"#0015BC\", \"#0015BC\", \"#0015BC\", \"#DE0100\", \"#0015BC\", \"#DE0100\", \"#0015BC\", \"#0015BC\", \"#0015BC\", \"#DE0100\", \"#DE0100\", \"#DE0100\", \"#DE0100\", \"#DE0100\", \"#0015BC\", \"#0015BC\", \"#0015BC\", \"#DE0100\", \"#0015BC\", \"#DE0100\"]}, \"mode\": \"markers\", \"type\": \"scatter\", \"visible\": false, \"x\": [\"AL\", \"AK\", \"AZ\", \"AR\", \"CA\", \"CO\", \"CT\", \"DE\", \"DC\", \"FL\", \"GA\", \"HI\", \"ID\", \"IL\", \"IN\", \"IA\", \"KS\", \"KY\", \"LA\", \"ME\", \"MD\", \"MA\", \"MI\", \"MN\", \"MS\", \"MO\", \"MT\", \"NE\", \"NV\", \"NH\", \"NJ\", \"NM\", \"NY\", \"NC\", \"ND\", \"OH\", \"OK\", \"OR\", \"PA\", \"RI\", \"SC\", \"SD\", \"TN\", \"TX\", \"UT\", \"VT\", \"VA\", \"WA\", \"WV\", \"WI\", \"WY\"], \"y\": [94, 1, 55, 55, 238, 48, 737, 13204, 307, 348, 167, 211, 18, 230, 180, 54, 34, 109, 103, 43, 590, 835, 174, 66, 63, 86, 6, 23, 24, 146, 1185, 16, 410, 195, 9, 281, 54, 39, 283, 1017, 153, 10, 153, 96, 33, 67, 202, 100, 76, 104, 5]}, {\"customdata\": [\"Republican\", \"Republican\", \"Republican\", \"Republican\", \"Democrat\", \"Democrat\", \"Democrat\", \"Democrat\", \"Democrat\", \"Democrat\", \"Republican\", \"Democrat\", \"Republican\", \"Democrat\", \"Republican\", \"Democrat\", \"Republican\", \"Republican\", \"Republican\", \"Democrat\", \"Democrat\", \"Democrat\", \"Democrat\", \"Democrat\", \"Republican\", \"Republican\", \"Republican\", \"Republican\", \"Democrat\", \"Democrat\", \"Democrat\", \"Democrat\", \"Democrat\", \"Republican\", \"Republican\", \"Democrat\", \"Republican\", \"Democrat\", \"Democrat\", \"Democrat\", \"Republican\", \"Republican\", \"Republican\", \"Republican\", \"Republican\", \"Democrat\", \"Democrat\", \"Democrat\", \"Republican\", \"Democrat\", \"Republican\"], \"hovertemplate\": \"%{x}<br>Density: %{y}<br>%{customdata}<extra></extra>\", \"marker\": {\"color\": [\"#DE0100\", \"#DE0100\", \"#DE0100\", \"#DE0100\", \"#0015BC\", \"#0015BC\", \"#0015BC\", \"#0015BC\", \"#0015BC\", \"#0015BC\", \"#DE0100\", \"#0015BC\", \"#DE0100\", \"#0015BC\", \"#DE0100\", \"#0015BC\", \"#DE0100\", \"#DE0100\", \"#DE0100\", \"#0015BC\", \"#0015BC\", \"#0015BC\", \"#0015BC\", \"#0015BC\", \"#DE0100\", \"#DE0100\", \"#DE0100\", \"#DE0100\", \"#0015BC\", \"#0015BC\", \"#0015BC\", \"#0015BC\", \"#0015BC\", \"#DE0100\", \"#DE0100\", \"#0015BC\", \"#DE0100\", \"#0015BC\", \"#0015BC\", \"#0015BC\", \"#DE0100\", \"#DE0100\", \"#DE0100\", \"#DE0100\", \"#DE0100\", \"#0015BC\", \"#0015BC\", \"#0015BC\", \"#DE0100\", \"#0015BC\", \"#DE0100\"]}, \"mode\": \"markers\", \"type\": \"scatter\", \"visible\": false, \"x\": [\"AL\", \"AK\", \"AZ\", \"AR\", \"CA\", \"CO\", \"CT\", \"DE\", \"DC\", \"FL\", \"GA\", \"HI\", \"ID\", \"IL\", \"IN\", \"IA\", \"KS\", \"KY\", \"LA\", \"ME\", \"MD\", \"MA\", \"MI\", \"MN\", \"MS\", \"MO\", \"MT\", \"NE\", \"NV\", \"NH\", \"NJ\", \"NM\", \"NY\", \"NC\", \"ND\", \"OH\", \"OK\", \"OR\", \"PA\", \"RI\", \"SC\", \"SD\", \"TN\", \"TX\", \"UT\", \"VT\", \"VA\", \"WA\", \"WV\", \"WI\", \"WY\"], \"y\": [94, 1, 55, 55, 238, 48, 737, 13204, 307, 348, 167, 211, 18, 230, 180, 54, 34, 109, 103, 43, 590, 835, 174, 66, 63, 86, 6, 23, 24, 146, 1185, 16, 410, 195, 9, 281, 54, 39, 283, 1017, 153, 10, 153, 96, 33, 67, 202, 100, 76, 104, 5]}, {\"customdata\": [\"Republican\", \"Republican\", \"Republican\", \"Republican\", \"Democrat\", \"Democrat\", \"Democrat\", \"Democrat\", \"Democrat\", \"Republican\", \"Republican\", \"Democrat\", \"Republican\", \"Democrat\", \"Republican\", \"Republican\", \"Republican\", \"Republican\", \"Republican\", \"Democrat\", \"Democrat\", \"Democrat\", \"Republican\", \"Democrat\", \"Republican\", \"Republican\", \"Republican\", \"Republican\", \"Democrat\", \"Democrat\", \"Democrat\", \"Democrat\", \"Democrat\", \"Republican\", \"Republican\", \"Republican\", \"Republican\", \"Democrat\", \"Republican\", \"Democrat\", \"Republican\", \"Republican\", \"Republican\", \"Republican\", \"Republican\", \"Democrat\", \"Democrat\", \"Democrat\", \"Republican\", \"Republican\", \"Republican\"], \"hovertemplate\": \"%{x}<br>Density: %{y}<br>%{customdata}<extra></extra>\", \"marker\": {\"color\": [\"#DE0100\", \"#DE0100\", \"#DE0100\", \"#DE0100\", \"#0015BC\", \"#0015BC\", \"#0015BC\", \"#0015BC\", \"#0015BC\", \"#DE0100\", \"#DE0100\", \"#0015BC\", \"#DE0100\", \"#0015BC\", \"#DE0100\", \"#DE0100\", \"#DE0100\", \"#DE0100\", \"#DE0100\", \"#0015BC\", \"#0015BC\", \"#0015BC\", \"#DE0100\", \"#0015BC\", \"#DE0100\", \"#DE0100\", \"#DE0100\", \"#DE0100\", \"#0015BC\", \"#0015BC\", \"#0015BC\", \"#0015BC\", \"#0015BC\", \"#DE0100\", \"#DE0100\", \"#DE0100\", \"#DE0100\", \"#0015BC\", \"#DE0100\", \"#0015BC\", \"#DE0100\", \"#DE0100\", \"#DE0100\", \"#DE0100\", \"#DE0100\", \"#0015BC\", \"#0015BC\", \"#0015BC\", \"#DE0100\", \"#DE0100\", \"#DE0100\"]}, \"mode\": \"markers\", \"type\": \"scatter\", \"visible\": false, \"x\": [\"AL\", \"AK\", \"AZ\", \"AR\", \"CA\", \"CO\", \"CT\", \"DE\", \"DC\", \"FL\", \"GA\", \"HI\", \"ID\", \"IL\", \"IN\", \"IA\", \"KS\", \"KY\", \"LA\", \"ME\", \"MD\", \"MA\", \"MI\", \"MN\", \"MS\", \"MO\", \"MT\", \"NE\", \"NV\", \"NH\", \"NJ\", \"NM\", \"NY\", \"NC\", \"ND\", \"OH\", \"OK\", \"OR\", \"PA\", \"RI\", \"SC\", \"SD\", \"TN\", \"TX\", \"UT\", \"VT\", \"VA\", \"WA\", \"WV\", \"WI\", \"WY\"], \"y\": [94, 1, 55, 55, 238, 48, 737, 13204, 307, 348, 167, 211, 18, 230, 180, 54, 34, 109, 103, 43, 590, 835, 174, 66, 63, 86, 6, 23, 24, 146, 1185, 16, 410, 195, 9, 281, 54, 39, 283, 1017, 153, 10, 153, 96, 33, 67, 202, 100, 76, 104, 5]}],                        {\"sliders\": [{\"active\": 0, \"pad\": {\"t\": 50}, \"steps\": [{\"args\": [{\"visible\": [true, false, false, false, false, false, false, false, false, false, false]}, {\"title\": \"Density vs Election Results - 1976\"}, {\"title_x\": 0.5}], \"label\": \"Year 1976\", \"method\": \"update\"}, {\"args\": [{\"visible\": [false, true, false, false, false, false, false, false, false, false, false]}, {\"title\": \"Density vs Election Results - 1980\"}, {\"title_x\": 0.5}], \"label\": \"Year 1980\", \"method\": \"update\"}, {\"args\": [{\"visible\": [false, false, true, false, false, false, false, false, false, false, false]}, {\"title\": \"Density vs Election Results - 1984\"}, {\"title_x\": 0.5}], \"label\": \"Year 1984\", \"method\": \"update\"}, {\"args\": [{\"visible\": [false, false, false, true, false, false, false, false, false, false, false]}, {\"title\": \"Density vs Election Results - 1988\"}, {\"title_x\": 0.5}], \"label\": \"Year 1988\", \"method\": \"update\"}, {\"args\": [{\"visible\": [false, false, false, false, true, false, false, false, false, false, false]}, {\"title\": \"Density vs Election Results - 1992\"}, {\"title_x\": 0.5}], \"label\": \"Year 1992\", \"method\": \"update\"}, {\"args\": [{\"visible\": [false, false, false, false, false, true, false, false, false, false, false]}, {\"title\": \"Density vs Election Results - 1996\"}, {\"title_x\": 0.5}], \"label\": \"Year 1996\", \"method\": \"update\"}, {\"args\": [{\"visible\": [false, false, false, false, false, false, true, false, false, false, false]}, {\"title\": \"Density vs Election Results - 2000\"}, {\"title_x\": 0.5}], \"label\": \"Year 2000\", \"method\": \"update\"}, {\"args\": [{\"visible\": [false, false, false, false, false, false, false, true, false, false, false]}, {\"title\": \"Density vs Election Results - 2004\"}, {\"title_x\": 0.5}], \"label\": \"Year 2004\", \"method\": \"update\"}, {\"args\": [{\"visible\": [false, false, false, false, false, false, false, false, true, false, false]}, {\"title\": \"Density vs Election Results - 2008\"}, {\"title_x\": 0.5}], \"label\": \"Year 2008\", \"method\": \"update\"}, {\"args\": [{\"visible\": [false, false, false, false, false, false, false, false, false, true, false]}, {\"title\": \"Density vs Election Results - 2012\"}, {\"title_x\": 0.5}], \"label\": \"Year 2012\", \"method\": \"update\"}, {\"args\": [{\"visible\": [false, false, false, false, false, false, false, false, false, false, true]}, {\"title\": \"Density vs Election Results - 2016\"}, {\"title_x\": 0.5}], \"label\": \"Year 2016\", \"method\": \"update\"}]}], \"template\": {\"data\": {\"bar\": [{\"error_x\": {\"color\": \"#2a3f5f\"}, \"error_y\": {\"color\": \"#2a3f5f\"}, \"marker\": {\"line\": {\"color\": \"#E5ECF6\", \"width\": 0.5}}, \"type\": \"bar\"}], \"barpolar\": [{\"marker\": {\"line\": {\"color\": \"#E5ECF6\", \"width\": 0.5}}, \"type\": \"barpolar\"}], \"carpet\": [{\"aaxis\": {\"endlinecolor\": \"#2a3f5f\", \"gridcolor\": \"white\", \"linecolor\": \"white\", \"minorgridcolor\": \"white\", \"startlinecolor\": \"#2a3f5f\"}, \"baxis\": {\"endlinecolor\": \"#2a3f5f\", \"gridcolor\": \"white\", \"linecolor\": \"white\", \"minorgridcolor\": \"white\", \"startlinecolor\": \"#2a3f5f\"}, \"type\": \"carpet\"}], \"choropleth\": [{\"colorbar\": {\"outlinewidth\": 0, \"ticks\": \"\"}, \"type\": \"choropleth\"}], \"contour\": [{\"colorbar\": {\"outlinewidth\": 0, \"ticks\": \"\"}, \"colorscale\": [[0.0, \"#0d0887\"], [0.1111111111111111, \"#46039f\"], [0.2222222222222222, \"#7201a8\"], [0.3333333333333333, \"#9c179e\"], [0.4444444444444444, \"#bd3786\"], [0.5555555555555556, \"#d8576b\"], [0.6666666666666666, \"#ed7953\"], [0.7777777777777778, \"#fb9f3a\"], [0.8888888888888888, \"#fdca26\"], [1.0, \"#f0f921\"]], \"type\": \"contour\"}], \"contourcarpet\": [{\"colorbar\": {\"outlinewidth\": 0, \"ticks\": \"\"}, \"type\": \"contourcarpet\"}], \"heatmap\": [{\"colorbar\": {\"outlinewidth\": 0, \"ticks\": \"\"}, \"colorscale\": [[0.0, \"#0d0887\"], [0.1111111111111111, \"#46039f\"], [0.2222222222222222, \"#7201a8\"], [0.3333333333333333, \"#9c179e\"], [0.4444444444444444, \"#bd3786\"], [0.5555555555555556, \"#d8576b\"], [0.6666666666666666, \"#ed7953\"], [0.7777777777777778, \"#fb9f3a\"], [0.8888888888888888, \"#fdca26\"], [1.0, \"#f0f921\"]], \"type\": \"heatmap\"}], \"heatmapgl\": [{\"colorbar\": {\"outlinewidth\": 0, \"ticks\": \"\"}, \"colorscale\": [[0.0, \"#0d0887\"], [0.1111111111111111, \"#46039f\"], [0.2222222222222222, \"#7201a8\"], [0.3333333333333333, \"#9c179e\"], [0.4444444444444444, \"#bd3786\"], [0.5555555555555556, \"#d8576b\"], [0.6666666666666666, \"#ed7953\"], [0.7777777777777778, \"#fb9f3a\"], [0.8888888888888888, \"#fdca26\"], [1.0, \"#f0f921\"]], \"type\": \"heatmapgl\"}], \"histogram\": [{\"marker\": {\"colorbar\": {\"outlinewidth\": 0, \"ticks\": \"\"}}, \"type\": \"histogram\"}], \"histogram2d\": [{\"colorbar\": {\"outlinewidth\": 0, \"ticks\": \"\"}, \"colorscale\": [[0.0, \"#0d0887\"], [0.1111111111111111, \"#46039f\"], [0.2222222222222222, \"#7201a8\"], [0.3333333333333333, \"#9c179e\"], [0.4444444444444444, \"#bd3786\"], [0.5555555555555556, \"#d8576b\"], [0.6666666666666666, \"#ed7953\"], [0.7777777777777778, \"#fb9f3a\"], [0.8888888888888888, \"#fdca26\"], [1.0, \"#f0f921\"]], \"type\": \"histogram2d\"}], \"histogram2dcontour\": [{\"colorbar\": {\"outlinewidth\": 0, \"ticks\": \"\"}, \"colorscale\": [[0.0, \"#0d0887\"], [0.1111111111111111, \"#46039f\"], [0.2222222222222222, \"#7201a8\"], [0.3333333333333333, \"#9c179e\"], [0.4444444444444444, \"#bd3786\"], [0.5555555555555556, \"#d8576b\"], [0.6666666666666666, \"#ed7953\"], [0.7777777777777778, \"#fb9f3a\"], [0.8888888888888888, \"#fdca26\"], [1.0, \"#f0f921\"]], \"type\": \"histogram2dcontour\"}], \"mesh3d\": [{\"colorbar\": {\"outlinewidth\": 0, \"ticks\": \"\"}, \"type\": \"mesh3d\"}], \"parcoords\": [{\"line\": {\"colorbar\": {\"outlinewidth\": 0, \"ticks\": \"\"}}, \"type\": \"parcoords\"}], \"pie\": [{\"automargin\": true, \"type\": \"pie\"}], \"scatter\": [{\"marker\": {\"colorbar\": {\"outlinewidth\": 0, \"ticks\": \"\"}}, \"type\": \"scatter\"}], \"scatter3d\": [{\"line\": {\"colorbar\": {\"outlinewidth\": 0, \"ticks\": \"\"}}, \"marker\": {\"colorbar\": {\"outlinewidth\": 0, \"ticks\": \"\"}}, \"type\": \"scatter3d\"}], \"scattercarpet\": [{\"marker\": {\"colorbar\": {\"outlinewidth\": 0, \"ticks\": \"\"}}, \"type\": \"scattercarpet\"}], \"scattergeo\": [{\"marker\": {\"colorbar\": {\"outlinewidth\": 0, \"ticks\": \"\"}}, \"type\": \"scattergeo\"}], \"scattergl\": [{\"marker\": {\"colorbar\": {\"outlinewidth\": 0, \"ticks\": \"\"}}, \"type\": \"scattergl\"}], \"scattermapbox\": [{\"marker\": {\"colorbar\": {\"outlinewidth\": 0, \"ticks\": \"\"}}, \"type\": \"scattermapbox\"}], \"scatterpolar\": [{\"marker\": {\"colorbar\": {\"outlinewidth\": 0, \"ticks\": \"\"}}, \"type\": \"scatterpolar\"}], \"scatterpolargl\": [{\"marker\": {\"colorbar\": {\"outlinewidth\": 0, \"ticks\": \"\"}}, \"type\": \"scatterpolargl\"}], \"scatterternary\": [{\"marker\": {\"colorbar\": {\"outlinewidth\": 0, \"ticks\": \"\"}}, \"type\": \"scatterternary\"}], \"surface\": [{\"colorbar\": {\"outlinewidth\": 0, \"ticks\": \"\"}, \"colorscale\": [[0.0, \"#0d0887\"], [0.1111111111111111, \"#46039f\"], [0.2222222222222222, \"#7201a8\"], [0.3333333333333333, \"#9c179e\"], [0.4444444444444444, \"#bd3786\"], [0.5555555555555556, \"#d8576b\"], [0.6666666666666666, \"#ed7953\"], [0.7777777777777778, \"#fb9f3a\"], [0.8888888888888888, \"#fdca26\"], [1.0, \"#f0f921\"]], \"type\": \"surface\"}], \"table\": [{\"cells\": {\"fill\": {\"color\": \"#EBF0F8\"}, \"line\": {\"color\": \"white\"}}, \"header\": {\"fill\": {\"color\": \"#C8D4E3\"}, \"line\": {\"color\": \"white\"}}, \"type\": \"table\"}]}, \"layout\": {\"annotationdefaults\": {\"arrowcolor\": \"#2a3f5f\", \"arrowhead\": 0, \"arrowwidth\": 1}, \"coloraxis\": {\"colorbar\": {\"outlinewidth\": 0, \"ticks\": \"\"}}, \"colorscale\": {\"diverging\": [[0, \"#8e0152\"], [0.1, \"#c51b7d\"], [0.2, \"#de77ae\"], [0.3, \"#f1b6da\"], [0.4, \"#fde0ef\"], [0.5, \"#f7f7f7\"], [0.6, \"#e6f5d0\"], [0.7, \"#b8e186\"], [0.8, \"#7fbc41\"], [0.9, \"#4d9221\"], [1, \"#276419\"]], \"sequential\": [[0.0, \"#0d0887\"], [0.1111111111111111, \"#46039f\"], [0.2222222222222222, \"#7201a8\"], [0.3333333333333333, \"#9c179e\"], [0.4444444444444444, \"#bd3786\"], [0.5555555555555556, \"#d8576b\"], [0.6666666666666666, \"#ed7953\"], [0.7777777777777778, \"#fb9f3a\"], [0.8888888888888888, \"#fdca26\"], [1.0, \"#f0f921\"]], \"sequentialminus\": [[0.0, \"#0d0887\"], [0.1111111111111111, \"#46039f\"], [0.2222222222222222, \"#7201a8\"], [0.3333333333333333, \"#9c179e\"], [0.4444444444444444, \"#bd3786\"], [0.5555555555555556, \"#d8576b\"], [0.6666666666666666, \"#ed7953\"], [0.7777777777777778, \"#fb9f3a\"], [0.8888888888888888, \"#fdca26\"], [1.0, \"#f0f921\"]]}, \"colorway\": [\"#636efa\", \"#EF553B\", \"#00cc96\", \"#ab63fa\", \"#FFA15A\", \"#19d3f3\", \"#FF6692\", \"#B6E880\", \"#FF97FF\", \"#FECB52\"], \"font\": {\"color\": \"#2a3f5f\"}, \"geo\": {\"bgcolor\": \"white\", \"lakecolor\": \"white\", \"landcolor\": \"#E5ECF6\", \"showlakes\": true, \"showland\": true, \"subunitcolor\": \"white\"}, \"hoverlabel\": {\"align\": \"left\"}, \"hovermode\": \"closest\", \"mapbox\": {\"style\": \"light\"}, \"paper_bgcolor\": \"white\", \"plot_bgcolor\": \"#E5ECF6\", \"polar\": {\"angularaxis\": {\"gridcolor\": \"white\", \"linecolor\": \"white\", \"ticks\": \"\"}, \"bgcolor\": \"#E5ECF6\", \"radialaxis\": {\"gridcolor\": \"white\", \"linecolor\": \"white\", \"ticks\": \"\"}}, \"scene\": {\"xaxis\": {\"backgroundcolor\": \"#E5ECF6\", \"gridcolor\": \"white\", \"gridwidth\": 2, \"linecolor\": \"white\", \"showbackground\": true, \"ticks\": \"\", \"zerolinecolor\": \"white\"}, \"yaxis\": {\"backgroundcolor\": \"#E5ECF6\", \"gridcolor\": \"white\", \"gridwidth\": 2, \"linecolor\": \"white\", \"showbackground\": true, \"ticks\": \"\", \"zerolinecolor\": \"white\"}, \"zaxis\": {\"backgroundcolor\": \"#E5ECF6\", \"gridcolor\": \"white\", \"gridwidth\": 2, \"linecolor\": \"white\", \"showbackground\": true, \"ticks\": \"\", \"zerolinecolor\": \"white\"}}, \"shapedefaults\": {\"line\": {\"color\": \"#2a3f5f\"}}, \"ternary\": {\"aaxis\": {\"gridcolor\": \"white\", \"linecolor\": \"white\", \"ticks\": \"\"}, \"baxis\": {\"gridcolor\": \"white\", \"linecolor\": \"white\", \"ticks\": \"\"}, \"bgcolor\": \"#E5ECF6\", \"caxis\": {\"gridcolor\": \"white\", \"linecolor\": \"white\", \"ticks\": \"\"}}, \"title\": {\"x\": 0.05}, \"xaxis\": {\"automargin\": true, \"gridcolor\": \"white\", \"linecolor\": \"white\", \"ticks\": \"\", \"title\": {\"standoff\": 15}, \"zerolinecolor\": \"white\", \"zerolinewidth\": 2}, \"yaxis\": {\"automargin\": true, \"gridcolor\": \"white\", \"linecolor\": \"white\", \"ticks\": \"\", \"title\": {\"standoff\": 15}, \"zerolinecolor\": \"white\", \"zerolinewidth\": 2}}}, \"title\": {\"text\": \"Density vs Election Results - 1976\", \"x\": 0.5}, \"xaxis\": {\"title\": {\"text\": \"State\"}}, \"yaxis\": {\"range\": [0, 1500], \"title\": {\"text\": \"Density (ppsm)\"}}},                        {\"responsive\": true}                    ).then(function(){\n                            \nvar gd = document.getElementById('96837274-624a-4b77-b319-034fff40177b');\nvar x = new MutationObserver(function (mutations, observer) {{\n        var display = window.getComputedStyle(gd).display;\n        if (!display || display === 'none') {{\n            console.log([gd, 'removed!']);\n            Plotly.purge(gd);\n            observer.disconnect();\n        }}\n}});\n\n// Listen for the removal of the full notebook cells\nvar notebookContainer = gd.closest('#notebook-container');\nif (notebookContainer) {{\n    x.observe(notebookContainer, {childList: true});\n}}\n\n// Listen for the clearing of the current output cell\nvar outputEl = gd.closest('.output');\nif (outputEl) {{\n    x.observe(outputEl, {childList: true});\n}}\n\n                        })                };                });            </script>        </div>"
     },
     "metadata": {}
    },
    {
     "output_type": "execute_result",
     "data": {
      "text/plain": "'plots/html_plots/Density vs Election Results.html'"
     },
     "metadata": {},
     "execution_count": 10
    }
   ],
   "source": [
    "import plotly.graph_objects as go\n",
    "import numpy as np\n",
    "import plotly.express as px\n",
    "\n",
    "# Create figure\n",
    "fig = go.Figure()\n",
    "\n",
    "# Add traces, one for each slider step\n",
    "for year in election_years:\n",
    "    state_decisions = []\n",
    "    state_dens = []\n",
    "\n",
    "    for state, election_info in slides[year].items():\n",
    "        state_decisions.append(election_info.winner_party.title())\n",
    "        state_dens.append(election_info.state_density)\n",
    "   \n",
    "\n",
    "    \n",
    "    fig.add_trace(\n",
    "        go.Scatter(visible=False, x=state_codes, y=state_dens,mode='markers',marker_color=['#0015BC' if x == 'Democrat' else '#DE0100' for x in state_decisions], customdata=state_decisions))\n",
    "\n",
    "fig.data[0].visible = True\n",
    "fig.update_traces(hovertemplate='%{x}<br>Density: %{y}<br>%{customdata}<extra></extra>')\n",
    "\n",
    "\n",
    "# Create and add slider\n",
    "steps = []\n",
    "for i,yr in zip(range(len(fig.data)), election_years):\n",
    "    step = dict(\n",
    "        method=\"update\",\n",
    "        args=[{\"visible\": [False] * len(fig.data)},\n",
    "              {\"title\": \"Density vs Election Results - \" + str(yr)},{'title_x':0.5}],\n",
    "        label='Year {}'.format(i*4 + 1976),# layout attribute,\n",
    "       \n",
    "    )\n",
    "    step[\"args\"][0][\"visible\"][i] = True  # Toggle i'th trace to \"visible\"\n",
    "    steps.append(step)\n",
    "\n",
    "sliders = [dict(\n",
    "    active=0,\n",
    "    pad={\"t\": 50},\n",
    "    steps=steps\n",
    ")]\n",
    "\n",
    "fig.update_layout(\n",
    "     yaxis=dict(range=[0,1500]),\n",
    "    title= \"Density vs Election Results - \" + str(1976), title_x=.5,\n",
    "    sliders=sliders,\n",
    "    xaxis_title=\"State\",\n",
    "    yaxis_title=\"Density (ppsm)\"\n",
    ")\n",
    "\n",
    "fig.show()\n",
    "offline.plot(fig, auto_open=True, filename='plots/html_plots/Density vs Election Results.html', validate=True)"
   ]
  },
  {
   "cell_type": "markdown",
   "metadata": {},
   "source": [
    "## Plot Area vs Overall State Lean (via Total Votes)"
   ]
  },
  {
   "cell_type": "code",
   "execution_count": 11,
   "metadata": {},
   "outputs": [
    {
     "output_type": "display_data",
     "data": {
      "application/vnd.plotly.v1+json": {
       "config": {
        "plotlyServerURL": "https://plot.ly"
       },
       "data": [
        {
         "alignmentgroup": "True",
         "boxpoints": "all",
         "fillcolor": "rgba(255,255,255,0)",
         "hoveron": "points",
         "hovertemplate": "party=Republican<br>states=%{x}<br>area=%{y}<extra></extra>",
         "legendgroup": "Republican",
         "line": {
          "color": "rgba(255,255,255,0)"
         },
         "marker": {
          "color": "#DE0100"
         },
         "name": "Republican",
         "offsetgroup": "Republican",
         "orientation": "v",
         "pointpos": 0,
         "showlegend": true,
         "type": "box",
         "x": [
          "AL",
          "AK",
          "AZ",
          "AR",
          "CO",
          "FL",
          "GA",
          "ID",
          "IN",
          "KS",
          "KY",
          "LA",
          "MS",
          "MO",
          "MT",
          "NE",
          "NV",
          "NH",
          "NC",
          "ND",
          "OH",
          "OK",
          "SC",
          "SD",
          "TN",
          "TX",
          "UT",
          "VA",
          "WV",
          "WY"
         ],
         "x0": " ",
         "xaxis": "x",
         "y": [
          50750,
          570641,
          113642,
          52075,
          103730,
          53997,
          57919,
          82751,
          35870,
          81823,
          39732,
          43566,
          46914,
          68898,
          145556,
          76878,
          109806,
          8969,
          48718,
          68994,
          40953,
          68679,
          30111,
          75898,
          41220,
          261914,
          82168,
          39598,
          24087,
          97105
         ],
         "y0": " ",
         "yaxis": "y"
        },
        {
         "alignmentgroup": "True",
         "boxpoints": "all",
         "fillcolor": "rgba(255,255,255,0)",
         "hoveron": "points",
         "hovertemplate": "party=Democrat<br>states=%{x}<br>area=%{y}<extra></extra>",
         "legendgroup": "Democrat",
         "line": {
          "color": "rgba(255,255,255,0)"
         },
         "marker": {
          "color": "#0015BC"
         },
         "name": "Democrat",
         "offsetgroup": "Democrat",
         "orientation": "v",
         "pointpos": 0,
         "showlegend": true,
         "type": "box",
         "x": [
          "CA",
          "CT",
          "DE",
          "DC",
          "HI",
          "IL",
          "IA",
          "ME",
          "MD",
          "MA",
          "MI",
          "MN",
          "NJ",
          "NM",
          "NY",
          "OR",
          "PA",
          "RI",
          "VT",
          "WA",
          "WI"
         ],
         "x0": " ",
         "xaxis": "x",
         "y": [
          155973,
          4845,
          1955,
          68,
          6423,
          55593,
          55875,
          30865,
          9775,
          7838,
          56539,
          79617,
          7419,
          121365,
          47224,
          96003,
          44820,
          1034,
          9249,
          66582,
          54314
         ],
         "y0": " ",
         "yaxis": "y"
        }
       ],
       "layout": {
        "boxmode": "group",
        "legend": {
         "title": {
          "text": "party"
         },
         "tracegroupgap": 0
        },
        "template": {
         "data": {
          "bar": [
           {
            "error_x": {
             "color": "#2a3f5f"
            },
            "error_y": {
             "color": "#2a3f5f"
            },
            "marker": {
             "line": {
              "color": "#E5ECF6",
              "width": 0.5
             }
            },
            "type": "bar"
           }
          ],
          "barpolar": [
           {
            "marker": {
             "line": {
              "color": "#E5ECF6",
              "width": 0.5
             }
            },
            "type": "barpolar"
           }
          ],
          "carpet": [
           {
            "aaxis": {
             "endlinecolor": "#2a3f5f",
             "gridcolor": "white",
             "linecolor": "white",
             "minorgridcolor": "white",
             "startlinecolor": "#2a3f5f"
            },
            "baxis": {
             "endlinecolor": "#2a3f5f",
             "gridcolor": "white",
             "linecolor": "white",
             "minorgridcolor": "white",
             "startlinecolor": "#2a3f5f"
            },
            "type": "carpet"
           }
          ],
          "choropleth": [
           {
            "colorbar": {
             "outlinewidth": 0,
             "ticks": ""
            },
            "type": "choropleth"
           }
          ],
          "contour": [
           {
            "colorbar": {
             "outlinewidth": 0,
             "ticks": ""
            },
            "colorscale": [
             [
              0,
              "#0d0887"
             ],
             [
              0.1111111111111111,
              "#46039f"
             ],
             [
              0.2222222222222222,
              "#7201a8"
             ],
             [
              0.3333333333333333,
              "#9c179e"
             ],
             [
              0.4444444444444444,
              "#bd3786"
             ],
             [
              0.5555555555555556,
              "#d8576b"
             ],
             [
              0.6666666666666666,
              "#ed7953"
             ],
             [
              0.7777777777777778,
              "#fb9f3a"
             ],
             [
              0.8888888888888888,
              "#fdca26"
             ],
             [
              1,
              "#f0f921"
             ]
            ],
            "type": "contour"
           }
          ],
          "contourcarpet": [
           {
            "colorbar": {
             "outlinewidth": 0,
             "ticks": ""
            },
            "type": "contourcarpet"
           }
          ],
          "heatmap": [
           {
            "colorbar": {
             "outlinewidth": 0,
             "ticks": ""
            },
            "colorscale": [
             [
              0,
              "#0d0887"
             ],
             [
              0.1111111111111111,
              "#46039f"
             ],
             [
              0.2222222222222222,
              "#7201a8"
             ],
             [
              0.3333333333333333,
              "#9c179e"
             ],
             [
              0.4444444444444444,
              "#bd3786"
             ],
             [
              0.5555555555555556,
              "#d8576b"
             ],
             [
              0.6666666666666666,
              "#ed7953"
             ],
             [
              0.7777777777777778,
              "#fb9f3a"
             ],
             [
              0.8888888888888888,
              "#fdca26"
             ],
             [
              1,
              "#f0f921"
             ]
            ],
            "type": "heatmap"
           }
          ],
          "heatmapgl": [
           {
            "colorbar": {
             "outlinewidth": 0,
             "ticks": ""
            },
            "colorscale": [
             [
              0,
              "#0d0887"
             ],
             [
              0.1111111111111111,
              "#46039f"
             ],
             [
              0.2222222222222222,
              "#7201a8"
             ],
             [
              0.3333333333333333,
              "#9c179e"
             ],
             [
              0.4444444444444444,
              "#bd3786"
             ],
             [
              0.5555555555555556,
              "#d8576b"
             ],
             [
              0.6666666666666666,
              "#ed7953"
             ],
             [
              0.7777777777777778,
              "#fb9f3a"
             ],
             [
              0.8888888888888888,
              "#fdca26"
             ],
             [
              1,
              "#f0f921"
             ]
            ],
            "type": "heatmapgl"
           }
          ],
          "histogram": [
           {
            "marker": {
             "colorbar": {
              "outlinewidth": 0,
              "ticks": ""
             }
            },
            "type": "histogram"
           }
          ],
          "histogram2d": [
           {
            "colorbar": {
             "outlinewidth": 0,
             "ticks": ""
            },
            "colorscale": [
             [
              0,
              "#0d0887"
             ],
             [
              0.1111111111111111,
              "#46039f"
             ],
             [
              0.2222222222222222,
              "#7201a8"
             ],
             [
              0.3333333333333333,
              "#9c179e"
             ],
             [
              0.4444444444444444,
              "#bd3786"
             ],
             [
              0.5555555555555556,
              "#d8576b"
             ],
             [
              0.6666666666666666,
              "#ed7953"
             ],
             [
              0.7777777777777778,
              "#fb9f3a"
             ],
             [
              0.8888888888888888,
              "#fdca26"
             ],
             [
              1,
              "#f0f921"
             ]
            ],
            "type": "histogram2d"
           }
          ],
          "histogram2dcontour": [
           {
            "colorbar": {
             "outlinewidth": 0,
             "ticks": ""
            },
            "colorscale": [
             [
              0,
              "#0d0887"
             ],
             [
              0.1111111111111111,
              "#46039f"
             ],
             [
              0.2222222222222222,
              "#7201a8"
             ],
             [
              0.3333333333333333,
              "#9c179e"
             ],
             [
              0.4444444444444444,
              "#bd3786"
             ],
             [
              0.5555555555555556,
              "#d8576b"
             ],
             [
              0.6666666666666666,
              "#ed7953"
             ],
             [
              0.7777777777777778,
              "#fb9f3a"
             ],
             [
              0.8888888888888888,
              "#fdca26"
             ],
             [
              1,
              "#f0f921"
             ]
            ],
            "type": "histogram2dcontour"
           }
          ],
          "mesh3d": [
           {
            "colorbar": {
             "outlinewidth": 0,
             "ticks": ""
            },
            "type": "mesh3d"
           }
          ],
          "parcoords": [
           {
            "line": {
             "colorbar": {
              "outlinewidth": 0,
              "ticks": ""
             }
            },
            "type": "parcoords"
           }
          ],
          "pie": [
           {
            "automargin": true,
            "type": "pie"
           }
          ],
          "scatter": [
           {
            "marker": {
             "colorbar": {
              "outlinewidth": 0,
              "ticks": ""
             }
            },
            "type": "scatter"
           }
          ],
          "scatter3d": [
           {
            "line": {
             "colorbar": {
              "outlinewidth": 0,
              "ticks": ""
             }
            },
            "marker": {
             "colorbar": {
              "outlinewidth": 0,
              "ticks": ""
             }
            },
            "type": "scatter3d"
           }
          ],
          "scattercarpet": [
           {
            "marker": {
             "colorbar": {
              "outlinewidth": 0,
              "ticks": ""
             }
            },
            "type": "scattercarpet"
           }
          ],
          "scattergeo": [
           {
            "marker": {
             "colorbar": {
              "outlinewidth": 0,
              "ticks": ""
             }
            },
            "type": "scattergeo"
           }
          ],
          "scattergl": [
           {
            "marker": {
             "colorbar": {
              "outlinewidth": 0,
              "ticks": ""
             }
            },
            "type": "scattergl"
           }
          ],
          "scattermapbox": [
           {
            "marker": {
             "colorbar": {
              "outlinewidth": 0,
              "ticks": ""
             }
            },
            "type": "scattermapbox"
           }
          ],
          "scatterpolar": [
           {
            "marker": {
             "colorbar": {
              "outlinewidth": 0,
              "ticks": ""
             }
            },
            "type": "scatterpolar"
           }
          ],
          "scatterpolargl": [
           {
            "marker": {
             "colorbar": {
              "outlinewidth": 0,
              "ticks": ""
             }
            },
            "type": "scatterpolargl"
           }
          ],
          "scatterternary": [
           {
            "marker": {
             "colorbar": {
              "outlinewidth": 0,
              "ticks": ""
             }
            },
            "type": "scatterternary"
           }
          ],
          "surface": [
           {
            "colorbar": {
             "outlinewidth": 0,
             "ticks": ""
            },
            "colorscale": [
             [
              0,
              "#0d0887"
             ],
             [
              0.1111111111111111,
              "#46039f"
             ],
             [
              0.2222222222222222,
              "#7201a8"
             ],
             [
              0.3333333333333333,
              "#9c179e"
             ],
             [
              0.4444444444444444,
              "#bd3786"
             ],
             [
              0.5555555555555556,
              "#d8576b"
             ],
             [
              0.6666666666666666,
              "#ed7953"
             ],
             [
              0.7777777777777778,
              "#fb9f3a"
             ],
             [
              0.8888888888888888,
              "#fdca26"
             ],
             [
              1,
              "#f0f921"
             ]
            ],
            "type": "surface"
           }
          ],
          "table": [
           {
            "cells": {
             "fill": {
              "color": "#EBF0F8"
             },
             "line": {
              "color": "white"
             }
            },
            "header": {
             "fill": {
              "color": "#C8D4E3"
             },
             "line": {
              "color": "white"
             }
            },
            "type": "table"
           }
          ]
         },
         "layout": {
          "annotationdefaults": {
           "arrowcolor": "#2a3f5f",
           "arrowhead": 0,
           "arrowwidth": 1
          },
          "coloraxis": {
           "colorbar": {
            "outlinewidth": 0,
            "ticks": ""
           }
          },
          "colorscale": {
           "diverging": [
            [
             0,
             "#8e0152"
            ],
            [
             0.1,
             "#c51b7d"
            ],
            [
             0.2,
             "#de77ae"
            ],
            [
             0.3,
             "#f1b6da"
            ],
            [
             0.4,
             "#fde0ef"
            ],
            [
             0.5,
             "#f7f7f7"
            ],
            [
             0.6,
             "#e6f5d0"
            ],
            [
             0.7,
             "#b8e186"
            ],
            [
             0.8,
             "#7fbc41"
            ],
            [
             0.9,
             "#4d9221"
            ],
            [
             1,
             "#276419"
            ]
           ],
           "sequential": [
            [
             0,
             "#0d0887"
            ],
            [
             0.1111111111111111,
             "#46039f"
            ],
            [
             0.2222222222222222,
             "#7201a8"
            ],
            [
             0.3333333333333333,
             "#9c179e"
            ],
            [
             0.4444444444444444,
             "#bd3786"
            ],
            [
             0.5555555555555556,
             "#d8576b"
            ],
            [
             0.6666666666666666,
             "#ed7953"
            ],
            [
             0.7777777777777778,
             "#fb9f3a"
            ],
            [
             0.8888888888888888,
             "#fdca26"
            ],
            [
             1,
             "#f0f921"
            ]
           ],
           "sequentialminus": [
            [
             0,
             "#0d0887"
            ],
            [
             0.1111111111111111,
             "#46039f"
            ],
            [
             0.2222222222222222,
             "#7201a8"
            ],
            [
             0.3333333333333333,
             "#9c179e"
            ],
            [
             0.4444444444444444,
             "#bd3786"
            ],
            [
             0.5555555555555556,
             "#d8576b"
            ],
            [
             0.6666666666666666,
             "#ed7953"
            ],
            [
             0.7777777777777778,
             "#fb9f3a"
            ],
            [
             0.8888888888888888,
             "#fdca26"
            ],
            [
             1,
             "#f0f921"
            ]
           ]
          },
          "colorway": [
           "#636efa",
           "#EF553B",
           "#00cc96",
           "#ab63fa",
           "#FFA15A",
           "#19d3f3",
           "#FF6692",
           "#B6E880",
           "#FF97FF",
           "#FECB52"
          ],
          "font": {
           "color": "#2a3f5f"
          },
          "geo": {
           "bgcolor": "white",
           "lakecolor": "white",
           "landcolor": "#E5ECF6",
           "showlakes": true,
           "showland": true,
           "subunitcolor": "white"
          },
          "hoverlabel": {
           "align": "left"
          },
          "hovermode": "closest",
          "mapbox": {
           "style": "light"
          },
          "paper_bgcolor": "white",
          "plot_bgcolor": "#E5ECF6",
          "polar": {
           "angularaxis": {
            "gridcolor": "white",
            "linecolor": "white",
            "ticks": ""
           },
           "bgcolor": "#E5ECF6",
           "radialaxis": {
            "gridcolor": "white",
            "linecolor": "white",
            "ticks": ""
           }
          },
          "scene": {
           "xaxis": {
            "backgroundcolor": "#E5ECF6",
            "gridcolor": "white",
            "gridwidth": 2,
            "linecolor": "white",
            "showbackground": true,
            "ticks": "",
            "zerolinecolor": "white"
           },
           "yaxis": {
            "backgroundcolor": "#E5ECF6",
            "gridcolor": "white",
            "gridwidth": 2,
            "linecolor": "white",
            "showbackground": true,
            "ticks": "",
            "zerolinecolor": "white"
           },
           "zaxis": {
            "backgroundcolor": "#E5ECF6",
            "gridcolor": "white",
            "gridwidth": 2,
            "linecolor": "white",
            "showbackground": true,
            "ticks": "",
            "zerolinecolor": "white"
           }
          },
          "shapedefaults": {
           "line": {
            "color": "#2a3f5f"
           }
          },
          "ternary": {
           "aaxis": {
            "gridcolor": "white",
            "linecolor": "white",
            "ticks": ""
           },
           "baxis": {
            "gridcolor": "white",
            "linecolor": "white",
            "ticks": ""
           },
           "bgcolor": "#E5ECF6",
           "caxis": {
            "gridcolor": "white",
            "linecolor": "white",
            "ticks": ""
           }
          },
          "title": {
           "x": 0.05
          },
          "xaxis": {
           "automargin": true,
           "gridcolor": "white",
           "linecolor": "white",
           "ticks": "",
           "title": {
            "standoff": 15
           },
           "zerolinecolor": "white",
           "zerolinewidth": 2
          },
          "yaxis": {
           "automargin": true,
           "gridcolor": "white",
           "linecolor": "white",
           "ticks": "",
           "title": {
            "standoff": 15
           },
           "zerolinecolor": "white",
           "zerolinewidth": 2
          }
         }
        },
        "title": {
         "text": "Land Area vs Overeall State Lean(Total Votes)",
         "x": 0.5
        },
        "xaxis": {
         "anchor": "y",
         "categoryarray": [
          "AL",
          "AK",
          "AZ",
          "AR",
          "CA",
          "CO",
          "CT",
          "DE",
          "DC",
          "FL",
          "GA",
          "HI",
          "ID",
          "IL",
          "IN",
          "IA",
          "KS",
          "KY",
          "LA",
          "ME",
          "MD",
          "MA",
          "MI",
          "MN",
          "MS",
          "MO",
          "MT",
          "NE",
          "NV",
          "NH",
          "NJ",
          "NM",
          "NY",
          "NC",
          "ND",
          "OH",
          "OK",
          "OR",
          "PA",
          "RI",
          "SC",
          "SD",
          "TN",
          "TX",
          "UT",
          "VT",
          "VA",
          "WA",
          "WV",
          "WI",
          "WY"
         ],
         "categoryorder": "array",
         "domain": [
          0,
          1
         ],
         "title": {
          "text": "State"
         },
         "type": "category"
        },
        "yaxis": {
         "anchor": "x",
         "domain": [
          0,
          1
         ],
         "title": {
          "text": "Land Area (mi²)"
         }
        }
       }
      },
      "text/html": "<div>                            <div id=\"5baa4b95-a057-4662-99ba-1ce8f50b2c4c\" class=\"plotly-graph-div\" style=\"height:525px; width:100%;\"></div>            <script type=\"text/javascript\">                require([\"plotly\"], function(Plotly) {                    window.PLOTLYENV=window.PLOTLYENV || {};                                    if (document.getElementById(\"5baa4b95-a057-4662-99ba-1ce8f50b2c4c\")) {                    Plotly.newPlot(                        \"5baa4b95-a057-4662-99ba-1ce8f50b2c4c\",                        [{\"alignmentgroup\": \"True\", \"boxpoints\": \"all\", \"fillcolor\": \"rgba(255,255,255,0)\", \"hoveron\": \"points\", \"hovertemplate\": \"party=Republican<br>states=%{x}<br>area=%{y}<extra></extra>\", \"legendgroup\": \"Republican\", \"line\": {\"color\": \"rgba(255,255,255,0)\"}, \"marker\": {\"color\": \"#DE0100\"}, \"name\": \"Republican\", \"offsetgroup\": \"Republican\", \"orientation\": \"v\", \"pointpos\": 0, \"showlegend\": true, \"type\": \"box\", \"x\": [\"AL\", \"AK\", \"AZ\", \"AR\", \"CO\", \"FL\", \"GA\", \"ID\", \"IN\", \"KS\", \"KY\", \"LA\", \"MS\", \"MO\", \"MT\", \"NE\", \"NV\", \"NH\", \"NC\", \"ND\", \"OH\", \"OK\", \"SC\", \"SD\", \"TN\", \"TX\", \"UT\", \"VA\", \"WV\", \"WY\"], \"x0\": \" \", \"xaxis\": \"x\", \"y\": [50750, 570641, 113642, 52075, 103730, 53997, 57919, 82751, 35870, 81823, 39732, 43566, 46914, 68898, 145556, 76878, 109806, 8969, 48718, 68994, 40953, 68679, 30111, 75898, 41220, 261914, 82168, 39598, 24087, 97105], \"y0\": \" \", \"yaxis\": \"y\"}, {\"alignmentgroup\": \"True\", \"boxpoints\": \"all\", \"fillcolor\": \"rgba(255,255,255,0)\", \"hoveron\": \"points\", \"hovertemplate\": \"party=Democrat<br>states=%{x}<br>area=%{y}<extra></extra>\", \"legendgroup\": \"Democrat\", \"line\": {\"color\": \"rgba(255,255,255,0)\"}, \"marker\": {\"color\": \"#0015BC\"}, \"name\": \"Democrat\", \"offsetgroup\": \"Democrat\", \"orientation\": \"v\", \"pointpos\": 0, \"showlegend\": true, \"type\": \"box\", \"x\": [\"CA\", \"CT\", \"DE\", \"DC\", \"HI\", \"IL\", \"IA\", \"ME\", \"MD\", \"MA\", \"MI\", \"MN\", \"NJ\", \"NM\", \"NY\", \"OR\", \"PA\", \"RI\", \"VT\", \"WA\", \"WI\"], \"x0\": \" \", \"xaxis\": \"x\", \"y\": [155973, 4845, 1955, 68, 6423, 55593, 55875, 30865, 9775, 7838, 56539, 79617, 7419, 121365, 47224, 96003, 44820, 1034, 9249, 66582, 54314], \"y0\": \" \", \"yaxis\": \"y\"}],                        {\"boxmode\": \"group\", \"legend\": {\"title\": {\"text\": \"party\"}, \"tracegroupgap\": 0}, \"template\": {\"data\": {\"bar\": [{\"error_x\": {\"color\": \"#2a3f5f\"}, \"error_y\": {\"color\": \"#2a3f5f\"}, \"marker\": {\"line\": {\"color\": \"#E5ECF6\", \"width\": 0.5}}, \"type\": \"bar\"}], \"barpolar\": [{\"marker\": {\"line\": {\"color\": \"#E5ECF6\", \"width\": 0.5}}, \"type\": \"barpolar\"}], \"carpet\": [{\"aaxis\": {\"endlinecolor\": \"#2a3f5f\", \"gridcolor\": \"white\", \"linecolor\": \"white\", \"minorgridcolor\": \"white\", \"startlinecolor\": \"#2a3f5f\"}, \"baxis\": {\"endlinecolor\": \"#2a3f5f\", \"gridcolor\": \"white\", \"linecolor\": \"white\", \"minorgridcolor\": \"white\", \"startlinecolor\": \"#2a3f5f\"}, \"type\": \"carpet\"}], \"choropleth\": [{\"colorbar\": {\"outlinewidth\": 0, \"ticks\": \"\"}, \"type\": \"choropleth\"}], \"contour\": [{\"colorbar\": {\"outlinewidth\": 0, \"ticks\": \"\"}, \"colorscale\": [[0.0, \"#0d0887\"], [0.1111111111111111, \"#46039f\"], [0.2222222222222222, \"#7201a8\"], [0.3333333333333333, \"#9c179e\"], [0.4444444444444444, \"#bd3786\"], [0.5555555555555556, \"#d8576b\"], [0.6666666666666666, \"#ed7953\"], [0.7777777777777778, \"#fb9f3a\"], [0.8888888888888888, \"#fdca26\"], [1.0, \"#f0f921\"]], \"type\": \"contour\"}], \"contourcarpet\": [{\"colorbar\": {\"outlinewidth\": 0, \"ticks\": \"\"}, \"type\": \"contourcarpet\"}], \"heatmap\": [{\"colorbar\": {\"outlinewidth\": 0, \"ticks\": \"\"}, \"colorscale\": [[0.0, \"#0d0887\"], [0.1111111111111111, \"#46039f\"], [0.2222222222222222, \"#7201a8\"], [0.3333333333333333, \"#9c179e\"], [0.4444444444444444, \"#bd3786\"], [0.5555555555555556, \"#d8576b\"], [0.6666666666666666, \"#ed7953\"], [0.7777777777777778, \"#fb9f3a\"], [0.8888888888888888, \"#fdca26\"], [1.0, \"#f0f921\"]], \"type\": \"heatmap\"}], \"heatmapgl\": [{\"colorbar\": {\"outlinewidth\": 0, \"ticks\": \"\"}, \"colorscale\": [[0.0, \"#0d0887\"], [0.1111111111111111, \"#46039f\"], [0.2222222222222222, \"#7201a8\"], [0.3333333333333333, \"#9c179e\"], [0.4444444444444444, \"#bd3786\"], [0.5555555555555556, \"#d8576b\"], [0.6666666666666666, \"#ed7953\"], [0.7777777777777778, \"#fb9f3a\"], [0.8888888888888888, \"#fdca26\"], [1.0, \"#f0f921\"]], \"type\": \"heatmapgl\"}], \"histogram\": [{\"marker\": {\"colorbar\": {\"outlinewidth\": 0, \"ticks\": \"\"}}, \"type\": \"histogram\"}], \"histogram2d\": [{\"colorbar\": {\"outlinewidth\": 0, \"ticks\": \"\"}, \"colorscale\": [[0.0, \"#0d0887\"], [0.1111111111111111, \"#46039f\"], [0.2222222222222222, \"#7201a8\"], [0.3333333333333333, \"#9c179e\"], [0.4444444444444444, \"#bd3786\"], [0.5555555555555556, \"#d8576b\"], [0.6666666666666666, \"#ed7953\"], [0.7777777777777778, \"#fb9f3a\"], [0.8888888888888888, \"#fdca26\"], [1.0, \"#f0f921\"]], \"type\": \"histogram2d\"}], \"histogram2dcontour\": [{\"colorbar\": {\"outlinewidth\": 0, \"ticks\": \"\"}, \"colorscale\": [[0.0, \"#0d0887\"], [0.1111111111111111, \"#46039f\"], [0.2222222222222222, \"#7201a8\"], [0.3333333333333333, \"#9c179e\"], [0.4444444444444444, \"#bd3786\"], [0.5555555555555556, \"#d8576b\"], [0.6666666666666666, \"#ed7953\"], [0.7777777777777778, \"#fb9f3a\"], [0.8888888888888888, \"#fdca26\"], [1.0, \"#f0f921\"]], \"type\": \"histogram2dcontour\"}], \"mesh3d\": [{\"colorbar\": {\"outlinewidth\": 0, \"ticks\": \"\"}, \"type\": \"mesh3d\"}], \"parcoords\": [{\"line\": {\"colorbar\": {\"outlinewidth\": 0, \"ticks\": \"\"}}, \"type\": \"parcoords\"}], \"pie\": [{\"automargin\": true, \"type\": \"pie\"}], \"scatter\": [{\"marker\": {\"colorbar\": {\"outlinewidth\": 0, \"ticks\": \"\"}}, \"type\": \"scatter\"}], \"scatter3d\": [{\"line\": {\"colorbar\": {\"outlinewidth\": 0, \"ticks\": \"\"}}, \"marker\": {\"colorbar\": {\"outlinewidth\": 0, \"ticks\": \"\"}}, \"type\": \"scatter3d\"}], \"scattercarpet\": [{\"marker\": {\"colorbar\": {\"outlinewidth\": 0, \"ticks\": \"\"}}, \"type\": \"scattercarpet\"}], \"scattergeo\": [{\"marker\": {\"colorbar\": {\"outlinewidth\": 0, \"ticks\": \"\"}}, \"type\": \"scattergeo\"}], \"scattergl\": [{\"marker\": {\"colorbar\": {\"outlinewidth\": 0, \"ticks\": \"\"}}, \"type\": \"scattergl\"}], \"scattermapbox\": [{\"marker\": {\"colorbar\": {\"outlinewidth\": 0, \"ticks\": \"\"}}, \"type\": \"scattermapbox\"}], \"scatterpolar\": [{\"marker\": {\"colorbar\": {\"outlinewidth\": 0, \"ticks\": \"\"}}, \"type\": \"scatterpolar\"}], \"scatterpolargl\": [{\"marker\": {\"colorbar\": {\"outlinewidth\": 0, \"ticks\": \"\"}}, \"type\": \"scatterpolargl\"}], \"scatterternary\": [{\"marker\": {\"colorbar\": {\"outlinewidth\": 0, \"ticks\": \"\"}}, \"type\": \"scatterternary\"}], \"surface\": [{\"colorbar\": {\"outlinewidth\": 0, \"ticks\": \"\"}, \"colorscale\": [[0.0, \"#0d0887\"], [0.1111111111111111, \"#46039f\"], [0.2222222222222222, \"#7201a8\"], [0.3333333333333333, \"#9c179e\"], [0.4444444444444444, \"#bd3786\"], [0.5555555555555556, \"#d8576b\"], [0.6666666666666666, \"#ed7953\"], [0.7777777777777778, \"#fb9f3a\"], [0.8888888888888888, \"#fdca26\"], [1.0, \"#f0f921\"]], \"type\": \"surface\"}], \"table\": [{\"cells\": {\"fill\": {\"color\": \"#EBF0F8\"}, \"line\": {\"color\": \"white\"}}, \"header\": {\"fill\": {\"color\": \"#C8D4E3\"}, \"line\": {\"color\": \"white\"}}, \"type\": \"table\"}]}, \"layout\": {\"annotationdefaults\": {\"arrowcolor\": \"#2a3f5f\", \"arrowhead\": 0, \"arrowwidth\": 1}, \"coloraxis\": {\"colorbar\": {\"outlinewidth\": 0, \"ticks\": \"\"}}, \"colorscale\": {\"diverging\": [[0, \"#8e0152\"], [0.1, \"#c51b7d\"], [0.2, \"#de77ae\"], [0.3, \"#f1b6da\"], [0.4, \"#fde0ef\"], [0.5, \"#f7f7f7\"], [0.6, \"#e6f5d0\"], [0.7, \"#b8e186\"], [0.8, \"#7fbc41\"], [0.9, \"#4d9221\"], [1, \"#276419\"]], \"sequential\": [[0.0, \"#0d0887\"], [0.1111111111111111, \"#46039f\"], [0.2222222222222222, \"#7201a8\"], [0.3333333333333333, \"#9c179e\"], [0.4444444444444444, \"#bd3786\"], [0.5555555555555556, \"#d8576b\"], [0.6666666666666666, \"#ed7953\"], [0.7777777777777778, \"#fb9f3a\"], [0.8888888888888888, \"#fdca26\"], [1.0, \"#f0f921\"]], \"sequentialminus\": [[0.0, \"#0d0887\"], [0.1111111111111111, \"#46039f\"], [0.2222222222222222, \"#7201a8\"], [0.3333333333333333, \"#9c179e\"], [0.4444444444444444, \"#bd3786\"], [0.5555555555555556, \"#d8576b\"], [0.6666666666666666, \"#ed7953\"], [0.7777777777777778, \"#fb9f3a\"], [0.8888888888888888, \"#fdca26\"], [1.0, \"#f0f921\"]]}, \"colorway\": [\"#636efa\", \"#EF553B\", \"#00cc96\", \"#ab63fa\", \"#FFA15A\", \"#19d3f3\", \"#FF6692\", \"#B6E880\", \"#FF97FF\", \"#FECB52\"], \"font\": {\"color\": \"#2a3f5f\"}, \"geo\": {\"bgcolor\": \"white\", \"lakecolor\": \"white\", \"landcolor\": \"#E5ECF6\", \"showlakes\": true, \"showland\": true, \"subunitcolor\": \"white\"}, \"hoverlabel\": {\"align\": \"left\"}, \"hovermode\": \"closest\", \"mapbox\": {\"style\": \"light\"}, \"paper_bgcolor\": \"white\", \"plot_bgcolor\": \"#E5ECF6\", \"polar\": {\"angularaxis\": {\"gridcolor\": \"white\", \"linecolor\": \"white\", \"ticks\": \"\"}, \"bgcolor\": \"#E5ECF6\", \"radialaxis\": {\"gridcolor\": \"white\", \"linecolor\": \"white\", \"ticks\": \"\"}}, \"scene\": {\"xaxis\": {\"backgroundcolor\": \"#E5ECF6\", \"gridcolor\": \"white\", \"gridwidth\": 2, \"linecolor\": \"white\", \"showbackground\": true, \"ticks\": \"\", \"zerolinecolor\": \"white\"}, \"yaxis\": {\"backgroundcolor\": \"#E5ECF6\", \"gridcolor\": \"white\", \"gridwidth\": 2, \"linecolor\": \"white\", \"showbackground\": true, \"ticks\": \"\", \"zerolinecolor\": \"white\"}, \"zaxis\": {\"backgroundcolor\": \"#E5ECF6\", \"gridcolor\": \"white\", \"gridwidth\": 2, \"linecolor\": \"white\", \"showbackground\": true, \"ticks\": \"\", \"zerolinecolor\": \"white\"}}, \"shapedefaults\": {\"line\": {\"color\": \"#2a3f5f\"}}, \"ternary\": {\"aaxis\": {\"gridcolor\": \"white\", \"linecolor\": \"white\", \"ticks\": \"\"}, \"baxis\": {\"gridcolor\": \"white\", \"linecolor\": \"white\", \"ticks\": \"\"}, \"bgcolor\": \"#E5ECF6\", \"caxis\": {\"gridcolor\": \"white\", \"linecolor\": \"white\", \"ticks\": \"\"}}, \"title\": {\"x\": 0.05}, \"xaxis\": {\"automargin\": true, \"gridcolor\": \"white\", \"linecolor\": \"white\", \"ticks\": \"\", \"title\": {\"standoff\": 15}, \"zerolinecolor\": \"white\", \"zerolinewidth\": 2}, \"yaxis\": {\"automargin\": true, \"gridcolor\": \"white\", \"linecolor\": \"white\", \"ticks\": \"\", \"title\": {\"standoff\": 15}, \"zerolinecolor\": \"white\", \"zerolinewidth\": 2}}}, \"title\": {\"text\": \"Land Area vs Overeall State Lean(Total Votes)\", \"x\": 0.5}, \"xaxis\": {\"anchor\": \"y\", \"categoryarray\": [\"AL\", \"AK\", \"AZ\", \"AR\", \"CA\", \"CO\", \"CT\", \"DE\", \"DC\", \"FL\", \"GA\", \"HI\", \"ID\", \"IL\", \"IN\", \"IA\", \"KS\", \"KY\", \"LA\", \"ME\", \"MD\", \"MA\", \"MI\", \"MN\", \"MS\", \"MO\", \"MT\", \"NE\", \"NV\", \"NH\", \"NJ\", \"NM\", \"NY\", \"NC\", \"ND\", \"OH\", \"OK\", \"OR\", \"PA\", \"RI\", \"SC\", \"SD\", \"TN\", \"TX\", \"UT\", \"VT\", \"VA\", \"WA\", \"WV\", \"WI\", \"WY\"], \"categoryorder\": \"array\", \"domain\": [0.0, 1.0], \"title\": {\"text\": \"State\"}, \"type\": \"category\"}, \"yaxis\": {\"anchor\": \"x\", \"domain\": [0.0, 1.0], \"title\": {\"text\": \"Land Area (mi\\u00b2)\"}}},                        {\"responsive\": true}                    ).then(function(){\n                            \nvar gd = document.getElementById('5baa4b95-a057-4662-99ba-1ce8f50b2c4c');\nvar x = new MutationObserver(function (mutations, observer) {{\n        var display = window.getComputedStyle(gd).display;\n        if (!display || display === 'none') {{\n            console.log([gd, 'removed!']);\n            Plotly.purge(gd);\n            observer.disconnect();\n        }}\n}});\n\n// Listen for the removal of the full notebook cells\nvar notebookContainer = gd.closest('#notebook-container');\nif (notebookContainer) {{\n    x.observe(notebookContainer, {childList: true});\n}}\n\n// Listen for the clearing of the current output cell\nvar outputEl = gd.closest('.output');\nif (outputEl) {{\n    x.observe(outputEl, {childList: true});\n}}\n\n                        })                };                });            </script>        </div>"
     },
     "metadata": {}
    }
   ],
   "source": [
    "import plotly.express as px\n",
    "axdf = pd.DataFrame()\n",
    "axdf['party'] = ['Democrat' if x[0] > x[1] else 'Republican' for x in state_leans.values()]\n",
    "axdf['states'] = state_codes\n",
    "axdf['text'] = states\n",
    "axdf['area'] = [int(areas_df.loc[areas_df['State'] == state].values[0][1].replace(',', '')) for state in states]\n",
    "\n",
    "fig = px.strip(axdf, x='states', y='area', color='party', color_discrete_map={\n",
    "                                'Democrat':'#0015BC',\n",
    "                                'Republican':'#DE0100'},category_orders = {'states':state_codes}, title='Land Area vs Overeall State Lean(Total Votes)')\n",
    "fig.update_layout(\n",
    "    xaxis_type = 'category',\n",
    "    xaxis_title=\"State\",\n",
    "    yaxis_title=\"Land Area (mi²)\",\n",
    "    title_x=.5\n",
    ")\n",
    "\n",
    "fig.show()\n",
    ""
   ]
  },
  {
   "cell_type": "code",
   "execution_count": 12,
   "metadata": {
    "tags": [
     "outputPrepend"
    ]
   },
   "outputs": [
    {
     "output_type": "stream",
     "name": "stdout",
     "text": "YEAR: 1976\nFeature: 0, Score: -0.00000\nFeature: 1, Score: -0.00358\nFeature: 2, Score: 0.00007\nCoefficients: \n [-1.21184727e-06 -3.57633773e-03  6.79342545e-05]\nMean squared error: 542.32\nCoefficient of determination: 0.13\n\nYEAR: 1980\nFeature: 0, Score: -0.00000\nFeature: 1, Score: 0.00067\nFeature: 2, Score: 0.00005\nCoefficients: \n [-4.91703447e-08  6.69362733e-04  4.64781603e-05]\nMean squared error: 315.63\nCoefficient of determination: 0.05\n\nYEAR: 1984\nFeature: 0, Score: 0.00000\nFeature: 1, Score: 0.00033\nFeature: 2, Score: 0.00001\nCoefficients: \n [1.86861294e-07 3.34377262e-04 8.03679135e-06]\nMean squared error: 92.89\nCoefficient of determination: 0.01\n\nYEAR: 1988\nFeature: 0, Score: 0.00000\nFeature: 1, Score: 0.00107\nFeature: 2, Score: 0.00005\nCoefficients: \n [8.95289106e-08 1.06818310e-03 4.63605022e-05]\nMean squared error: 407.32\nCoefficient of determination: 0.04\n\nYEAR: 1992\nFeature: 0, Score: -0.00000\nFeature: 1, Score: -0.00204\nFeature: 2, Score: 0.00009\nCoefficients: \n [-6.18264287e-07 -2.04345266e-03  8.52548606e-05]\nMean squared error: 495.75\nCoefficient of determination: 0.13\n\nYEAR: 1996\nFeature: 0, Score: -0.00000\nFeature: 1, Score: -0.00230\nFeature: 2, Score: 0.00010\nCoefficients: \n [-1.00811685e-06 -2.29544079e-03  9.64586506e-05]\nMean squared error: 479.40\nCoefficient of determination: 0.18\n\nYEAR: 2000\nFeature: 0, Score: -0.00000\nFeature: 1, Score: -0.00331\nFeature: 2, Score: 0.00007\nCoefficients: \n [-8.38494790e-07 -3.30888305e-03  7.08582633e-05]\nMean squared error: 510.42\nCoefficient of determination: 0.16\n\nYEAR: 2004\nFeature: 0, Score: -0.00000\nFeature: 1, Score: -0.00339\nFeature: 2, Score: 0.00008\nCoefficients: \n [-9.15490395e-07 -3.39255418e-03  8.47593058e-05]\nMean squared error: 480.26\nCoefficient of determination: 0.19\n\nYEAR: 2008\nFeature: 0, Score: -0.00000\nFeature: 1, Score: -0.00248\nFeature: 2, Score: 0.00009\nCoefficients: \n [-1.16889949e-06 -2.47684805e-03  9.16681944e-05]\nMean squared error: 494.64\nCoefficient of determination: 0.19\n\nYEAR: 2012\nFeature: 0, Score: -0.00000\nFeature: 1, Score: -0.00228\nFeature: 2, Score: 0.00008\nCoefficients: \n [-9.10080651e-07 -2.27809823e-03  8.43610879e-05]\nMean squared error: 523.41\nCoefficient of determination: 0.16\n\nYEAR: 2016\nFeature: 0, Score: -0.00000\nFeature: 1, Score: -0.00270\nFeature: 2, Score: 0.00006\nCoefficients: \n [-3.35593650e-07 -2.69746424e-03  6.15975085e-05]\nMean squared error: 548.00\nCoefficient of determination: 0.10\n\n"
    }
   ],
   "source": [
    "\n",
    "import pandas as pd\n",
    "import random\n",
    "from sklearn import linear_model\n",
    "from sklearn.metrics import mean_squared_error, r2_score\n",
    "from matplotlib import pyplot\n",
    "\n",
    "# This is where we put density, area, and population into a df\n",
    "pdf = pd.read_csv(\"plots/State_Populations.csv\")\n",
    "sdf = pd.read_csv(\"plots/State_Densities.csv\")\n",
    "adf = pd.read_csv(\"plots/Areas.csv\")\n",
    "\n",
    "dens1970 = []\n",
    "dens1980 = []\n",
    "dens1990 = []\n",
    "dens2000 = []\n",
    "dens2010 = []\n",
    "\n",
    "statePop1970 = []\n",
    "statePop1980 = []\n",
    "statePop1990 = []\n",
    "statePop2000 = []\n",
    "statePop2010 = []\n",
    "\n",
    "area = []\n",
    "stateName = []\n",
    "\n",
    "for i in range(0, len(pdf)):\n",
    "    statePop1970.append(pdf.iloc[i, 0])\n",
    "    statePop1980.append(pdf.iloc[i, 1])\n",
    "    statePop1990.append(pdf.iloc[i, 2])\n",
    "    statePop2000.append(pdf.iloc[i, 3])\n",
    "    statePop2010.append(pdf.iloc[i, 4])\n",
    "\n",
    "    dens1970.append(sdf.iloc[i, 0])\n",
    "    dens1980.append(sdf.iloc[i, 1])\n",
    "    dens1990.append(sdf.iloc[i, 2])\n",
    "    dens2000.append(sdf.iloc[i, 3])\n",
    "    dens2010.append(sdf.iloc[i, 4])\n",
    "\n",
    "    area.append(adf.iloc[i, 0])\n",
    "\n",
    "    stateName.append(adf.iloc[i, 1])\n",
    "\n",
    "s1970 = {\n",
    "    'statePop': statePop1970,\n",
    "    'stateDens': dens1970,\n",
    "    'area': area,\n",
    "    'stateName': stateName\n",
    "}\n",
    "\n",
    "s1980 = {\n",
    "    'statePop': statePop1980,\n",
    "    'stateDens': dens1980,\n",
    "    'area': area,\n",
    "    'stateName': stateName\n",
    "}\n",
    "s1990 = {\n",
    "    'statePop': statePop1990,\n",
    "    'stateDens': dens1990,\n",
    "    'area': area,\n",
    "    'stateName': stateName\n",
    "}\n",
    "s2000 = {\n",
    "    'statePop': statePop2000,\n",
    "    'stateDens': dens2000,\n",
    "    'area': area,\n",
    "    'stateName': stateName\n",
    "}\n",
    "s2010 = {\n",
    "    'statePop': statePop2010,\n",
    "    'stateDens': dens2010,\n",
    "    'area': area,\n",
    "    'stateName': stateName\n",
    "}\n",
    "\n",
    "df1970 = pd.DataFrame(s1970, columns=['statePop', 'stateDens', 'area', 'stateName'])\n",
    "df1980 = pd.DataFrame(s1980, columns=['statePop', 'stateDens', 'area', 'stateName'])\n",
    "df1990 = pd.DataFrame(s1990, columns=['statePop', 'stateDens', 'area', 'stateName'])\n",
    "df2000 = pd.DataFrame(s2000, columns=['statePop', 'stateDens', 'area', 'stateName'])\n",
    "df2010 = pd.DataFrame(s2010, columns=['statePop', 'stateDens', 'area', 'stateName'])\n",
    "\n",
    "# Change the following code to include every election using the corresponding winner values\n",
    "#1 = republican state\n",
    "#0 = democrat state\n",
    "\n",
    "Y = []\n",
    "#Y = [1,1,1,1,0,1,0,0,0,1,1,0,1,0,1,0,1,1,1,0,0,0,0,0,1,1,1,1,1,1,0,0,0,1,1,1,1,0,0,0,1,1,1,1,1,0,1,0,1,0,1]\n",
    "Y2 = []\n",
    "\n",
    "#print(\"length of Y = {p1}\".format(p1 = len(Y)))\n",
    "\n",
    "#print(\"len of Y: {p1}\".format(p1 = len(Y)))\n",
    "Y2 = Y\n",
    "#print(\"len of Y2: {p1}\".format(p1 = len(Y2)))\n",
    "\n",
    "for year in election_years:\n",
    "    print(\"YEAR: {p1}\".format(p1 = year))\n",
    "\n",
    "    #resets Y and Y2\n",
    "    Y = []\n",
    "    Y2 = []\n",
    "\n",
    "    for state, election_info in slides[year].items():\n",
    "        #print(\"\\tstate: {p1}, winner_party: {p2}\".format(p1 = state,p2 = election_info.winner_party.title()))\n",
    "\n",
    "        if election_info.winner_party.title() == \"Republican\":\n",
    "            #appends Republican as a y value\n",
    "            Y.append(50)\n",
    "        else:\n",
    "            #appends Democrat as a y value\n",
    "            Y.append(0)\n",
    "            \n",
    "        Y2 = Y\n",
    "    # 0 is dem 1 is rep\n",
    "\n",
    "    X_train = df1970.iloc[:, 0:3]\n",
    "    #X_train = df2010.iloc[:, 0:3]\n",
    "\n",
    "    #print(\"X_train length: {p1}\".format(p1 = len(X_train)))\n",
    "\n",
    "    if year < 1980:\n",
    "        X_train = df1970.iloc[:, 0:3]\n",
    "    elif year < 1990:\n",
    "        X_train = df1980.iloc[:, 0:3]\n",
    "    elif year < 2000:\n",
    "        X_train = df1990.iloc[:, 0:3]\n",
    "    elif year < 2010:\n",
    "        X_train = df2000.iloc[:, 0:3]\n",
    "    else:\n",
    "        X_train = df2010.iloc[:, 0:3]\n",
    "\n",
    "    #linear regression fit\n",
    "    regr = linear_model.LinearRegression()\n",
    "    regr.fit(X_train, Y)\n",
    "\n",
    "\n",
    "    importance = regr.coef_\n",
    "    for i,v in enumerate(importance):\n",
    "\t    print('Feature: %0d, Score: %.5f' % (i,v))\n",
    "\n",
    "    # plot feature importance\n",
    "    pyplot.bar([x for x in range(len(importance))], importance)\n",
    "    pyplot.show()\n",
    "\n",
    "    X_test = df1980.iloc[:, 0:3]\n",
    "    y_pred = regr.predict(X_test)\n",
    "\n",
    "\n",
    "    print('Coefficients: \\n', regr.coef_)\n",
    "    # The mean squared error\n",
    "    print('Mean squared error: %.2f'\n",
    "        % mean_squared_error(Y2, y_pred))\n",
    "    # The coefficient of determination: 1 is perfect prediction\n",
    "    print('Coefficient of determination: %.2f'\n",
    "        % r2_score(Y2, y_pred))\n",
    "    \n",
    "    #whitespace buffer print\n",
    "    print()"
   ]
  }
 ],
 "metadata": {
  "kernelspec": {
   "display_name": "Python 3",
   "language": "python",
   "name": "python3"
  },
  "language_info": {
   "codemirror_mode": {
    "name": "ipython",
    "version": 3
   },
   "file_extension": ".py",
   "mimetype": "text/x-python",
   "name": "python",
   "nbconvert_exporter": "python",
   "pygments_lexer": "ipython3",
   "version": "3.8.3-final"
  }
 },
 "nbformat": 4,
 "nbformat_minor": 4
}